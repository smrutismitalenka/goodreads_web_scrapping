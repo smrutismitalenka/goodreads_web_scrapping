{
 "cells": [
  {
   "cell_type": "markdown",
   "metadata": {},
   "source": [
    "![](books.jpg \"Title\")"
   ]
  },
  {
   "cell_type": "code",
   "execution_count": 52,
   "metadata": {
    "ExecuteTime": {
     "end_time": "2020-07-09T16:24:04.137832Z",
     "start_time": "2020-07-09T16:24:04.123115Z"
    }
   },
   "outputs": [],
   "source": [
    "#'''\n",
    "#!conda install -c anaconda beautifulsoup4\n",
    "\n",
    "#To install BeautifulSoup library\n",
    "#'''"
   ]
  },
  {
   "cell_type": "code",
   "execution_count": 2,
   "metadata": {},
   "outputs": [
    {
     "data": {
      "text/html": [
       "        <script type=\"text/javascript\">\n",
       "        window.PlotlyConfig = {MathJaxConfig: 'local'};\n",
       "        if (window.MathJax) {MathJax.Hub.Config({SVG: {font: \"STIX-Web\"}});}\n",
       "        if (typeof require !== 'undefined') {\n",
       "        require.undef(\"plotly\");\n",
       "        requirejs.config({\n",
       "            paths: {\n",
       "                'plotly': ['https://cdn.plot.ly/plotly-latest.min']\n",
       "            }\n",
       "        });\n",
       "        require(['plotly'], function(Plotly) {\n",
       "            window._Plotly = Plotly;\n",
       "        });\n",
       "        }\n",
       "        </script>\n",
       "        "
      ]
     },
     "metadata": {},
     "output_type": "display_data"
    },
    {
     "data": {
      "text/html": [
       "        <script type=\"text/javascript\">\n",
       "        window.PlotlyConfig = {MathJaxConfig: 'local'};\n",
       "        if (window.MathJax) {MathJax.Hub.Config({SVG: {font: \"STIX-Web\"}});}\n",
       "        if (typeof require !== 'undefined') {\n",
       "        require.undef(\"plotly\");\n",
       "        requirejs.config({\n",
       "            paths: {\n",
       "                'plotly': ['https://cdn.plot.ly/plotly-latest.min']\n",
       "            }\n",
       "        });\n",
       "        require(['plotly'], function(Plotly) {\n",
       "            window._Plotly = Plotly;\n",
       "        });\n",
       "        }\n",
       "        </script>\n",
       "        "
      ]
     },
     "metadata": {},
     "output_type": "display_data"
    }
   ],
   "source": [
    "# Data science imports\n",
    "import pandas as pd\n",
    "import numpy as np\n",
    "\n",
    "# plotly standard imports\n",
    "import plotly.graph_objs as go\n",
    "import chart_studio.plotly as py\n",
    "import plotly.figure_factory as ff\n",
    "\n",
    "from bs4 import BeautifulSoup\n",
    "import requests\n",
    "\n",
    "# Cufflinks wrapper on plotly\n",
    "import cufflinks as cf\n",
    "\n",
    "%matplotlib inline\n",
    "\n",
    "# Options for pandas\n",
    "#pd.options.display.max_columns = 30\n",
    "\n",
    "# Display all cell outputs\n",
    "from IPython.core.interactiveshell import InteractiveShell\n",
    "InteractiveShell.ast_node_interactivity = 'all'\n",
    "\n",
    "from plotly.offline import iplot, init_notebook_mode\n",
    "init_notebook_mode(connected=True)\n",
    "cf.go_offline(connected=True)\n",
    "\n",
    "# Set global theme\n",
    "cf.set_config_file(world_readable=True, theme='pearl')"
   ]
  },
  {
   "cell_type": "code",
   "execution_count": 54,
   "metadata": {},
   "outputs": [],
   "source": [
    "\n",
    "base_url=\"https://www.goodreads.com\"\n",
    "\n",
    "headers = {\n",
    "    'User-Agent': 'Mozilla/5.0 (Windows NT 10.0; Win64; x64; rv:78.0) Gecko/20100101 Firefox/78.0',\n",
    "    'Connection' : 'keep-alive'\n",
    "}\n",
    "books=[]\n",
    "for i in range(1,3):\n",
    "    response = requests.get(base_url+'/list/show/1.Best_Books_Ever?page='+str(i), headers=headers)\n",
    "    gr_soup = BeautifulSoup(response.text, \"html.parser\")\n",
    "    tables = gr_soup.find_all('table', attrs={'class':'tableList'})\n",
    "    table=tables[0]\n",
    "    books = books+table.find_all('tr',attrs={'itemtype':'http://schema.org/Book'})"
   ]
  },
  {
   "cell_type": "code",
   "execution_count": 63,
   "metadata": {
    "ExecuteTime": {
     "end_time": "2020-07-09T21:50:48.558301Z",
     "start_time": "2020-07-09T21:47:39.509978Z"
    }
   },
   "outputs": [],
   "source": [
    "import re\n",
    "book_list=[]\n",
    "for book in books:\n",
    "    item={}\n",
    "    book_div=book.find('div',attrs={'data-resource-type':'Book'})\n",
    "    item['id']=book_div['data-resource-id']\n",
    "    item['name']=book.find('span',attrs={'role':'heading'}).text\n",
    "    item['book_url']=book_div.a['href']\n",
    "    item['author']=book.find('a',attrs={'class':'authorName'}).text\n",
    "    item['author_url']=book.find('a',attrs={'class':'authorName'})['href']\n",
    "    \n",
    "    headers = {\n",
    "        'User-Agent': 'Mozilla/5.0 (Windows NT 10.0; Win64; x64; rv:78.0) Gecko/20100101 Firefox/78.0',\n",
    "        'Connection' : 'keep-alive'}\n",
    "    book_response = requests.get(base_url+item['book_url'], headers=headers)\n",
    "    book_soup = BeautifulSoup(book_response.text, \"html.parser\")\n",
    "    item['rating']=re.findall(r'\\d+\\.\\d+', book_soup.find('span',attrs={'itemprop':'ratingValue'}).text)[0]\n",
    "    item['isbn']=book_soup.select(\"meta[property='books:isbn']\")[0]['content']\n",
    "    item['page_count']=book_soup.select(\"meta[property='books:page_count']\")[0]['content']\n",
    "    item['rating_count']=book_soup.select(\"meta[itemprop='ratingCount']\")[0]['content']\n",
    "    item['review_count']=book_soup.select(\"meta[itemprop='reviewCount']\")[0]['content']\n",
    "    item['genres'] = book_soup.find('a', attrs = {'class':\"actionLinkLite bookPageGenreLink\"}).text\n",
    "    item['year']=re.findall(r'\\d{4}',book_soup.select(\"div#details div.row\")[1].text.strip())[0]\n",
    "    book_list.append(item)\n",
    "      "
   ]
  },
  {
   "cell_type": "code",
   "execution_count": 64,
   "metadata": {
    "ExecuteTime": {
     "end_time": "2020-07-09T21:46:37.875814Z",
     "start_time": "2020-07-09T21:46:37.862977Z"
    }
   },
   "outputs": [
    {
     "name": "stdout",
     "output_type": "stream",
     "text": [
      "[{'id': '2767052', 'name': 'The Hunger Games (The Hunger Games, #1)', 'book_url': '/book/show/2767052-the-hunger-games', 'author': 'Suzanne Collins', 'author_url': 'https://www.goodreads.com/author/show/153394.Suzanne_Collins', 'rating': '4.33', 'isbn': '9780439023481', 'page_count': '374', 'rating_count': '6223460', 'review_count': '169961', 'genres': 'Young Adult', 'year': '2008'}, {'id': '2', 'name': 'Harry Potter and the Order of the Phoenix (Harry Potter, #5)', 'book_url': '/book/show/2.Harry_Potter_and_the_Order_of_the_Phoenix', 'author': 'J.K. Rowling', 'author_url': 'https://www.goodreads.com/author/show/1077326.J_K_Rowling', 'rating': '4.50', 'isbn': '9780439358071', 'page_count': '870', 'rating_count': '2429708', 'review_count': '40758', 'genres': 'Fantasy', 'year': '2004'}, {'id': '2657', 'name': 'To Kill a Mockingbird', 'book_url': '/book/show/2657.To_Kill_a_Mockingbird', 'author': 'Harper Lee', 'author_url': 'https://www.goodreads.com/author/show/1825.Harper_Lee', 'rating': '4.28', 'isbn': 'null', 'page_count': '324', 'rating_count': '4377280', 'review_count': '89241', 'genres': 'Classics', 'year': '2006'}, {'id': '1885', 'name': 'Pride and Prejudice', 'book_url': '/book/show/1885.Pride_and_Prejudice', 'author': 'Jane Austen', 'author_url': 'https://www.goodreads.com/author/show/1265.Jane_Austen', 'rating': '4.26', 'isbn': 'null', 'page_count': '279', 'rating_count': '2905431', 'review_count': '64486', 'genres': 'Classics', 'year': '2000'}, {'id': '41865', 'name': 'Twilight (Twilight, #1)', 'book_url': '/book/show/41865.Twilight', 'author': 'Stephenie Meyer', 'author_url': 'https://www.goodreads.com/author/show/941441.Stephenie_Meyer', 'rating': '3.59', 'isbn': '9780316015844', 'page_count': '501', 'rating_count': '4839503', 'review_count': '102492', 'genres': 'Young Adult', 'year': '2006'}, {'id': '19063', 'name': 'The Book Thief', 'book_url': '/book/show/19063.The_Book_Thief', 'author': 'Markus Zusak', 'author_url': 'https://www.goodreads.com/author/show/11466.Markus_Zusak', 'rating': '4.37', 'isbn': '9780375831003', 'page_count': '552', 'rating_count': '1779061', 'review_count': '111157', 'genres': 'Historical', 'year': '2006'}, {'id': '170448', 'name': 'Animal Farm', 'book_url': '/book/show/170448.Animal_Farm', 'author': 'George Orwell', 'author_url': 'https://www.goodreads.com/author/show/3706.George_Orwell', 'rating': '3.94', 'isbn': '9780451526342', 'page_count': '141', 'rating_count': '2652114', 'review_count': '53595', 'genres': 'Classics', 'year': '1996'}, {'id': '11127', 'name': 'The Chronicles of Narnia (Chronicles of Narnia, #1-7)', 'book_url': '/book/show/11127.The_Chronicles_of_Narnia', 'author': 'C.S. Lewis', 'author_url': 'https://www.goodreads.com/author/show/1069006.C_S_Lewis', 'rating': '4.26', 'isbn': 'null', 'page_count': '767', 'rating_count': '501176', 'review_count': '10177', 'genres': 'Fantasy', 'year': '2002'}, {'id': '30', 'name': 'J.R.R. Tolkien 4-Book Boxed Set: The Hobbit and The Lord of the Rings', 'book_url': '/book/show/30.J_R_R_Tolkien_4_Book_Boxed_Set', 'author': 'J.R.R. Tolkien', 'author_url': 'https://www.goodreads.com/author/show/656983.J_R_R_Tolkien', 'rating': '4.60', 'isbn': '9780345538376', 'page_count': '1728', 'rating_count': '108111', 'review_count': '1736', 'genres': 'Fantasy', 'year': '2012'}, {'id': '18405', 'name': 'Gone with the Wind', 'book_url': '/book/show/18405.Gone_with_the_Wind', 'author': 'Margaret Mitchell', 'author_url': 'https://www.goodreads.com/author/show/11081.Margaret_Mitchell', 'rating': '4.30', 'isbn': '9780446675536', 'page_count': '1037', 'rating_count': '1057937', 'review_count': '19446', 'genres': 'Classics', 'year': '1999'}, {'id': '11870085', 'name': 'The Fault in Our Stars', 'book_url': '/book/show/11870085-the-fault-in-our-stars', 'author': 'John Green', 'author_url': 'https://www.goodreads.com/author/show/1406384.John_Green', 'rating': '4.21', 'isbn': 'null', 'page_count': '313', 'rating_count': '3439515', 'review_count': '154103', 'genres': 'Young Adult', 'year': '2012'}, {'id': '386162', 'name': \"The Hitchhiker's Guide to the Galaxy (Hitchhiker's Guide to the Galaxy, #1)\", 'book_url': '/book/show/386162.The_Hitchhiker_s_Guide_to_the_Galaxy', 'author': 'Douglas Adams', 'author_url': 'https://www.goodreads.com/author/show/4.Douglas_Adams', 'rating': '4.22', 'isbn': 'null', 'page_count': '193', 'rating_count': '1390643', 'review_count': '29077', 'genres': 'Science Fiction', 'year': '2007'}, {'id': '370493', 'name': 'The Giving Tree', 'book_url': '/book/show/370493.The_Giving_Tree', 'author': 'Shel Silverstein', 'author_url': 'https://www.goodreads.com/author/show/435477.Shel_Silverstein', 'rating': '4.38', 'isbn': '9780060256654', 'page_count': '64', 'rating_count': '882195', 'review_count': '17375', 'genres': 'Childrens', 'year': '1964'}, {'id': '6185', 'name': 'Wuthering Heights', 'book_url': '/book/show/6185.Wuthering_Heights', 'author': 'Emily Brontë', 'author_url': 'https://www.goodreads.com/author/show/4191.Emily_Bront_', 'rating': '3.86', 'isbn': '9780393978896', 'page_count': '464', 'rating_count': '1308276', 'review_count': '35729', 'genres': 'Classics', 'year': '2002'}, {'id': '968', 'name': 'The Da Vinci Code (Robert Langdon, #2)', 'book_url': '/book/show/968.The_Da_Vinci_Code', 'author': 'Dan Brown', 'author_url': 'https://www.goodreads.com/author/show/630.Dan_Brown', 'rating': '3.85', 'isbn': '9780307277671', 'page_count': '489', 'rating_count': '1887312', 'review_count': '46482', 'genres': 'Fiction', 'year': '2006'}, {'id': '929', 'name': 'Memoirs of a Geisha', 'book_url': '/book/show/929.Memoirs_of_a_Geisha', 'author': 'Arthur Golden', 'author_url': 'https://www.goodreads.com/author/show/614.Arthur_Golden', 'rating': '4.12', 'isbn': '9781400096893', 'page_count': '503', 'rating_count': '1687294', 'review_count': '29556', 'genres': 'Fiction', 'year': '2005'}, {'id': '5297', 'name': 'The Picture of Dorian Gray', 'book_url': '/book/show/5297.The_Picture_of_Dorian_Gray', 'author': 'Oscar Wilde', 'author_url': 'https://www.goodreads.com/author/show/3565.Oscar_Wilde', 'rating': '4.08', 'isbn': 'null', 'page_count': '272', 'rating_count': '932074', 'review_count': '29142', 'genres': 'Classics', 'year': '2004'}, {'id': '24213', 'name': \"Alice's Adventures in Wonderland & Through the Looking-Glass\", 'book_url': '/book/show/24213.Alice_s_Adventures_in_Wonderland_Through_the_Looking_Glass', 'author': 'Lewis Carroll', 'author_url': 'https://www.goodreads.com/author/show/8164.Lewis_Carroll', 'rating': '4.06', 'isbn': '9780451527745', 'page_count': '239', 'rating_count': '446019', 'review_count': '10321', 'genres': 'Classics', 'year': '2000'}, {'id': '10210', 'name': 'Jane Eyre', 'book_url': '/book/show/10210.Jane_Eyre', 'author': 'Charlotte Brontë', 'author_url': 'https://www.goodreads.com/author/show/1036615.Charlotte_Bront_', 'rating': '4.12', 'isbn': '9780142437209', 'page_count': '532', 'rating_count': '1585265', 'review_count': '40876', 'genres': 'Classics', 'year': '2003'}, {'id': '24280', 'name': 'Les Misérables', 'book_url': '/book/show/24280.Les_Mis_rables', 'author': 'Victor Hugo', 'author_url': 'https://www.goodreads.com/author/show/13661.Victor_Hugo', 'rating': '4.17', 'isbn': 'null', 'page_count': '1463', 'rating_count': '670386', 'review_count': '17090', 'genres': 'Classics', 'year': '1987'}, {'id': '13335037', 'name': 'Divergent (Divergent, #1)', 'book_url': '/book/show/13335037-divergent', 'author': 'Veronica Roth', 'author_url': 'https://www.goodreads.com/author/show/4039811.Veronica_Roth', 'rating': '4.20', 'isbn': '9780062024039', 'page_count': '487', 'rating_count': '2827116', 'review_count': '107478', 'genres': 'Young Adult', 'year': '2012'}, {'id': '13079982', 'name': 'Fahrenheit 451', 'book_url': '/book/show/13079982-fahrenheit-451', 'author': 'Ray Bradbury', 'author_url': 'https://www.goodreads.com/author/show/1630.Ray_Bradbury', 'rating': '3.99', 'isbn': 'null', 'page_count': '194', 'rating_count': '1623608', 'review_count': '46066', 'genres': 'Classics', 'year': '2011'}, {'id': '18135', 'name': 'Romeo and Juliet', 'book_url': '/book/show/18135.Romeo_and_Juliet', 'author': 'William Shakespeare', 'author_url': 'https://www.goodreads.com/author/show/947.William_Shakespeare', 'rating': '3.75', 'isbn': '9780743477116', 'page_count': '368', 'rating_count': '2014766', 'review_count': '18919', 'genres': 'Classics', 'year': '2004'}, {'id': '7624', 'name': 'Lord of the Flies', 'book_url': '/book/show/7624.Lord_of_the_Flies', 'author': 'William Golding', 'author_url': 'https://www.goodreads.com/author/show/306.William_Golding', 'rating': '3.68', 'isbn': '9780140283334', 'page_count': '182', 'rating_count': '2211621', 'review_count': '36274', 'genres': 'Classics', 'year': '1999'}, {'id': '18144590', 'name': 'The Alchemist', 'book_url': '/book/show/18144590-the-alchemist', 'author': 'Paulo Coelho', 'author_url': 'https://www.goodreads.com/author/show/566.Paulo_Coelho', 'rating': '3.87', 'isbn': '9780062315007', 'page_count': '182', 'rating_count': '2025846', 'review_count': '77720', 'genres': 'Fiction', 'year': '2014'}, {'id': '7144', 'name': 'Crime and Punishment', 'book_url': '/book/show/7144.Crime_and_Punishment', 'author': 'Fyodor Dostoyevsky', 'author_url': 'https://www.goodreads.com/author/show/3137322.Fyodor_Dostoyevsky', 'rating': '4.22', 'isbn': '9780143058144', 'page_count': '671', 'rating_count': '604962', 'review_count': '18302', 'genres': 'Cultural', 'year': '2002'}, {'id': '22628', 'name': 'The Perks of Being a Wallflower', 'book_url': '/book/show/22628.The_Perks_of_Being_a_Wallflower', 'author': 'Stephen Chbosky', 'author_url': 'https://www.goodreads.com/author/show/12898.Stephen_Chbosky', 'rating': '4.20', 'isbn': 'null', 'page_count': '213', 'rating_count': '1219410', 'review_count': '56409', 'genres': 'Young Adult', 'year': '1999'}, {'id': '4671', 'name': 'The Great Gatsby', 'book_url': '/book/show/4671.The_Great_Gatsby', 'author': 'F. Scott Fitzgerald', 'author_url': 'https://www.goodreads.com/author/show/3190.F_Scott_Fitzgerald', 'rating': '3.92', 'isbn': 'null', 'page_count': '200', 'rating_count': '3676589', 'review_count': '65497', 'genres': 'Classics', 'year': '2004'}, {'id': '375802', 'name': \"Ender's Game (Ender's Saga, #1)\", 'book_url': '/book/show/375802.Ender_s_Game', 'author': 'Orson Scott Card', 'author_url': 'https://www.goodreads.com/author/show/589.Orson_Scott_Card', 'rating': '4.30', 'isbn': '9780812550702', 'page_count': '324', 'rating_count': '1102823', 'review_count': '42828', 'genres': 'Science Fiction', 'year': '2004'}, {'id': '256683', 'name': 'City of Bones (The Mortal Instruments, #1)', 'book_url': '/book/show/256683.City_of_Bones', 'author': 'Cassandra Clare', 'author_url': 'https://www.goodreads.com/author/show/150038.Cassandra_Clare', 'rating': '4.10', 'isbn': '9781416914280', 'page_count': '485', 'rating_count': '1577035', 'review_count': '60639', 'genres': 'Fantasy', 'year': '2007'}, {'id': '4667024', 'name': 'The Help', 'book_url': '/book/show/4667024-the-help', 'author': 'Kathryn Stockett', 'author_url': 'https://www.goodreads.com/author/show/1943477.Kathryn_Stockett', 'rating': '4.47', 'isbn': 'null', 'page_count': '451', 'rating_count': '2107121', 'review_count': '84112', 'genres': 'Fiction', 'year': '2009'}, {'id': '8127', 'name': 'Anne of Green Gables (Anne of Green Gables, #1)', 'book_url': '/book/show/8127.Anne_of_Green_Gables', 'author': 'L.M. Montgomery', 'author_url': 'https://www.goodreads.com/author/show/5350.L_M_Montgomery', 'rating': '4.26', 'isbn': '9780451528827', 'page_count': '320', 'rating_count': '702861', 'review_count': '21712', 'genres': 'Classics', 'year': '2003'}, {'id': '24178', 'name': \"Charlotte's Web\", 'book_url': '/book/show/24178.Charlotte_s_Web', 'author': 'E.B. White', 'author_url': 'https://www.goodreads.com/author/show/988142.E_B_White', 'rating': '4.17', 'isbn': '9780064410939', 'page_count': '184', 'rating_count': '1375820', 'review_count': '17561', 'genres': 'Classics', 'year': '2001'}, {'id': '157993', 'name': 'The Little Prince', 'book_url': '/book/show/157993.The_Little_Prince', 'author': 'Antoine de Saint-Exupéry', 'author_url': 'https://www.goodreads.com/author/show/1020792.Antoine_de_Saint_Exup_ry', 'rating': '4.31', 'isbn': 'null', 'page_count': '93', 'rating_count': '1299413', 'review_count': '37901', 'genres': 'Classics', 'year': '2000'}, {'id': '18619684', 'name': \"The Time Traveler's Wife\", 'book_url': '/book/show/18619684-the-time-traveler-s-wife', 'author': 'Audrey Niffenegger', 'author_url': 'https://www.goodreads.com/author/show/498072.Audrey_Niffenegger', 'rating': '3.97', 'isbn': '9781939126016', 'page_count': '500', 'rating_count': '1546508', 'review_count': '46891', 'genres': 'Fiction', 'year': '2013'}, {'id': '890', 'name': 'Of Mice and Men', 'book_url': '/book/show/890.Of_Mice_and_Men', 'author': 'John Steinbeck', 'author_url': 'https://www.goodreads.com/author/show/585.John_Steinbeck', 'rating': '3.87', 'isbn': '9780142000670', 'page_count': '103', 'rating_count': '1899899', 'review_count': '33189', 'genres': 'Classics', 'year': '2002'}, {'id': '3', 'name': \"Harry Potter and the Sorcerer's Stone (Harry Potter, #1)\", 'book_url': '/book/show/3.Harry_Potter_and_the_Sorcerer_s_Stone', 'author': 'J.K. Rowling', 'author_url': 'https://www.goodreads.com/author/show/1077326.J_K_Rowling', 'rating': '4.47', 'isbn': 'null', 'page_count': '309', 'rating_count': '6808998', 'review_count': '108606', 'genres': 'Fantasy', 'year': '2003'}, {'id': '17245', 'name': 'Dracula', 'book_url': '/book/show/17245.Dracula', 'author': 'Bram Stoker', 'author_url': 'https://www.goodreads.com/author/show/6988.Bram_Stoker', 'rating': '4.00', 'isbn': '9780393970128', 'page_count': '488', 'rating_count': '907768', 'review_count': '24683', 'genres': 'Classics', 'year': '1986'}, {'id': '5129', 'name': 'Brave New World', 'book_url': '/book/show/5129.Brave_New_World', 'author': 'Aldous Huxley', 'author_url': 'https://www.goodreads.com/author/show/3487.Aldous_Huxley', 'rating': '3.99', 'isbn': '9780060929879', 'page_count': '288', 'rating_count': '1401485', 'review_count': '29055', 'genres': 'Classics', 'year': '1998'}, {'id': '320', 'name': 'One Hundred Years of Solitude', 'book_url': '/book/show/320.One_Hundred_Years_of_Solitude', 'author': 'Gabriel García Márquez', 'author_url': 'https://www.goodreads.com/author/show/13450.Gabriel_Garc_a_M_rquez', 'rating': '4.08', 'isbn': 'null', 'page_count': '417', 'rating_count': '731495', 'review_count': '29544', 'genres': 'Fiction', 'year': '2003'}, {'id': '21787', 'name': 'The Princess Bride', 'book_url': '/book/show/21787.The_Princess_Bride', 'author': 'William Goldman', 'author_url': 'https://www.goodreads.com/author/show/12521.William_Goldman', 'rating': '4.26', 'isbn': '9780345418265', 'page_count': '456', 'rating_count': '762394', 'review_count': '19767', 'genres': 'Fantasy', 'year': '2003'}, {'id': '5107', 'name': 'The Catcher in the Rye', 'book_url': '/book/show/5107.The_Catcher_in_the_Rye', 'author': 'J.D. Salinger', 'author_url': 'https://www.goodreads.com/author/show/819789.J_D_Salinger', 'rating': '3.81', 'isbn': '9780316769174', 'page_count': '277', 'rating_count': '2672713', 'review_count': '55972', 'genres': 'Classics', 'year': '2001'}, {'id': '2998', 'name': 'The Secret Garden', 'book_url': '/book/show/2998.The_Secret_Garden', 'author': 'Frances Hodgson Burnett', 'author_url': 'https://www.goodreads.com/author/show/2041.Frances_Hodgson_Burnett', 'rating': '4.14', 'isbn': '9780517189603', 'page_count': '331', 'rating_count': '865020', 'review_count': '18054', 'genres': 'Classics', 'year': '1998'}, {'id': '128029', 'name': 'A Thousand Splendid Suns', 'book_url': '/book/show/128029.A_Thousand_Splendid_Suns', 'author': 'Khaled Hosseini', 'author_url': 'https://www.goodreads.com/author/show/569.Khaled_Hosseini', 'rating': '4.37', 'isbn': '9781594489501', 'page_count': '372', 'rating_count': '1118605', 'review_count': '52859', 'genres': 'Fiction', 'year': '2007'}, {'id': '28187', 'name': 'The Lightning Thief (Percy Jackson and the Olympians, #1)', 'book_url': '/book/show/28187.The_Lightning_Thief', 'author': 'Rick Riordan', 'author_url': 'https://www.goodreads.com/author/show/15872.Rick_Riordan', 'rating': '4.25', 'isbn': '9780786838653', 'page_count': '375', 'rating_count': '1922316', 'review_count': '58816', 'genres': 'Fantasy', 'year': '2006'}, {'id': '33574273', 'name': 'A Wrinkle in Time (Time Quintet, #1)', 'book_url': '/book/show/33574273-a-wrinkle-in-time', 'author': \"Madeleine L'Engle\", 'author_url': 'https://www.goodreads.com/author/show/106.Madeleine_L_Engle', 'rating': '4.00', 'isbn': '9781250153272', 'page_count': '218', 'rating_count': '1031642', 'review_count': '33451', 'genres': 'Fantasy', 'year': '2017'}, {'id': '13496', 'name': 'A Game of Thrones (A Song of Ice and Fire, #1)', 'book_url': '/book/show/13496.A_Game_of_Thrones', 'author': 'George R.R. Martin', 'author_url': 'https://www.goodreads.com/author/show/346732.George_R_R_Martin', 'rating': '4.45', 'isbn': '9780553588484', 'page_count': '835', 'rating_count': '1953966', 'review_count': '53879', 'genres': 'Fantasy', 'year': '2005'}, {'id': '2956', 'name': 'The Adventures of Huckleberry Finn', 'book_url': '/book/show/2956.The_Adventures_of_Huckleberry_Finn', 'author': 'Mark Twain', 'author_url': 'https://www.goodreads.com/author/show/1244.Mark_Twain', 'rating': '3.82', 'isbn': '9780142437179', 'page_count': '327', 'rating_count': '1135929', 'review_count': '15195', 'genres': 'Classics', 'year': '2002'}, {'id': '12232938', 'name': 'The Lovely Bones', 'book_url': '/book/show/12232938-the-lovely-bones', 'author': 'Alice Sebold', 'author_url': 'https://www.goodreads.com/author/show/316.Alice_Sebold', 'rating': '3.81', 'isbn': '9780316166683', 'page_count': '372', 'rating_count': '1977504', 'review_count': '40105', 'genres': 'Fiction', 'year': '2006'}, {'id': '231804', 'name': 'The Outsiders', 'book_url': '/book/show/231804.The_Outsiders', 'author': 'S.E. Hinton', 'author_url': 'https://www.goodreads.com/author/show/762707.S_E_Hinton', 'rating': '4.10', 'isbn': 'null', 'page_count': '192', 'rating_count': '908741', 'review_count': '32350', 'genres': 'Classics', 'year': '1997'}, {'id': '19543', 'name': 'Where the Wild Things Are', 'book_url': '/book/show/19543.Where_the_Wild_Things_Are', 'author': 'Maurice Sendak', 'author_url': 'https://www.goodreads.com/author/show/4489.Maurice_Sendak', 'rating': '4.22', 'isbn': '9780099408390', 'page_count': '37', 'rating_count': '794735', 'review_count': '11579', 'genres': 'Childrens', 'year': '2000'}, {'id': '23772', 'name': 'Green Eggs and Ham', 'book_url': '/book/show/23772.Green_Eggs_and_Ham', 'author': 'Dr. Seuss', 'author_url': 'https://www.goodreads.com/author/show/61105.Dr_Seuss', 'rating': '4.30', 'isbn': '9780394800165', 'page_count': '62', 'rating_count': '595769', 'review_count': '9208', 'genres': 'Childrens', 'year': '1988'}, {'id': '1381', 'name': 'The Odyssey', 'book_url': '/book/show/1381.The_Odyssey', 'author': 'Homer', 'author_url': 'https://www.goodreads.com/author/show/903.Homer', 'rating': '3.77', 'isbn': '9780143039952', 'page_count': '541', 'rating_count': '844968', 'review_count': '11868', 'genres': 'Classics', 'year': '2006'}, {'id': '4214', 'name': 'Life of Pi', 'book_url': '/book/show/4214.Life_of_Pi', 'author': 'Yann Martel', 'author_url': 'https://www.goodreads.com/author/show/811.Yann_Martel', 'rating': '3.91', 'isbn': '9780770430078', 'page_count': '460', 'rating_count': '1309184', 'review_count': '46807', 'genres': 'Fiction', 'year': '2006'}, {'id': '1953', 'name': 'A Tale of Two Cities', 'book_url': '/book/show/1953.A_Tale_of_Two_Cities', 'author': 'Charles Dickens', 'author_url': 'https://www.goodreads.com/author/show/239579.Charles_Dickens', 'rating': '3.84', 'isbn': '9780141439600', 'page_count': '489', 'rating_count': '795321', 'review_count': '17016', 'genres': 'Classics', 'year': '2003'}, {'id': '43641', 'name': 'Water for Elephants', 'book_url': '/book/show/43641.Water_for_Elephants', 'author': 'Sara Gruen', 'author_url': 'https://www.goodreads.com/author/show/24556.Sara_Gruen', 'rating': '4.09', 'isbn': '9781565125605', 'page_count': '335', 'rating_count': '1353164', 'review_count': '58517', 'genres': 'Fiction', 'year': '2007'}, {'id': '7604', 'name': 'Lolita', 'book_url': '/book/show/7604.Lolita', 'author': 'Vladimir Nabokov', 'author_url': 'https://www.goodreads.com/author/show/5152.Vladimir_Nabokov', 'rating': '3.89', 'isbn': 'null', 'page_count': '331', 'rating_count': '647891', 'review_count': '23898', 'genres': 'Classics', 'year': '1995'}, {'id': '4981', 'name': 'Slaughterhouse-Five', 'book_url': '/book/show/4981.Slaughterhouse_Five', 'author': 'Kurt Vonnegut Jr.', 'author_url': 'https://www.goodreads.com/author/show/2778055.Kurt_Vonnegut_Jr_', 'rating': '4.07', 'isbn': '9780385333849', 'page_count': '275', 'rating_count': '1105089', 'review_count': '26259', 'genres': 'Classics', 'year': '1999'}, {'id': '35031085', 'name': 'Frankenstein: The 1818 Text', 'book_url': '/book/show/35031085-frankenstein', 'author': 'Mary Wollstonecraft Shelley', 'author_url': 'https://www.goodreads.com/author/show/11139.Mary_Wollstonecraft_Shelley', 'rating': '3.80', 'isbn': '9780143131847', 'page_count': '288', 'rating_count': '1132408', 'review_count': '31805', 'genres': 'Classics', 'year': '2018'}, {'id': '77203', 'name': 'The Kite Runner', 'book_url': '/book/show/77203.The_Kite_Runner', 'author': 'Khaled Hosseini', 'author_url': 'https://www.goodreads.com/author/show/569.Khaled_Hosseini', 'rating': '4.30', 'isbn': 'null', 'page_count': '371', 'rating_count': '2365531', 'review_count': '72036', 'genres': 'Fiction', 'year': '2004'}, {'id': '38447', 'name': \"The Handmaid's Tale (The Handmaid's Tale, #1)\", 'book_url': '/book/show/38447.The_Handmaid_s_Tale', 'author': 'Margaret Atwood', 'author_url': 'https://www.goodreads.com/author/show/3472.Margaret_Atwood', 'rating': '4.11', 'isbn': 'null', 'page_count': '314', 'rating_count': '1403365', 'review_count': '68447', 'genres': 'Fiction', 'year': '1998'}, {'id': '3636', 'name': 'The Giver (The Giver, #1)', 'book_url': '/book/show/3636.The_Giver', 'author': 'Lois Lowry', 'author_url': 'https://www.goodreads.com/author/show/2493.Lois_Lowry', 'rating': '4.13', 'isbn': '9780385732550', 'page_count': '208', 'rating_count': '1729590', 'review_count': '64308', 'genres': 'Young Adult', 'year': '2006'}, {'id': '168668', 'name': 'Catch-22 (Catch-22, #1)', 'book_url': '/book/show/168668.Catch_22', 'author': 'Joseph Heller', 'author_url': 'https://www.goodreads.com/author/show/3167.Joseph_Heller', 'rating': '3.98', 'isbn': '9780684833392', 'page_count': '453', 'rating_count': '709541', 'review_count': '17843', 'genres': 'Classics', 'year': '2004'}, {'id': '44767458', 'name': 'Dune (Dune, #1)', 'book_url': '/book/show/44767458-dune', 'author': 'Frank Herbert', 'author_url': 'https://www.goodreads.com/author/show/58.Frank_Herbert', 'rating': '4.23', 'isbn': '9780593099322', 'page_count': '688', 'rating_count': '719231', 'review_count': '20914', 'genres': 'Science Fiction', 'year': '2019'}, {'id': '5043', 'name': 'The Pillars of the Earth (Kingsbridge, #1)', 'book_url': '/book/show/5043.The_Pillars_of_the_Earth', 'author': 'Ken Follett', 'author_url': 'https://www.goodreads.com/author/show/3447.Ken_Follett', 'rating': '4.32', 'isbn': 'null', 'page_count': '976', 'rating_count': '632106', 'review_count': '30707', 'genres': 'Historical', 'year': '2002'}, {'id': '149267', 'name': 'The Stand', 'book_url': '/book/show/149267.The_Stand', 'author': 'Stephen King', 'author_url': 'https://www.goodreads.com/author/show/3389.Stephen_King', 'rating': '4.34', 'isbn': '9780385199575', 'page_count': '1153', 'rating_count': '598016', 'review_count': '19574', 'genres': 'Horror', 'year': '1990'}, {'id': '3590', 'name': 'The Adventures of Sherlock Holmes', 'book_url': '/book/show/3590.The_Adventures_of_Sherlock_Holmes', 'author': 'Arthur Conan Doyle', 'author_url': 'https://www.goodreads.com/author/show/2448.Arthur_Conan_Doyle', 'rating': '4.30', 'isbn': 'null', 'page_count': '389', 'rating_count': '235450', 'review_count': '6534', 'genres': 'Classics', 'year': '1998'}, {'id': '76620', 'name': 'Watership Down (Watership Down, #1)', 'book_url': '/book/show/76620.Watership_Down', 'author': 'Richard  Adams', 'author_url': 'https://www.goodreads.com/author/show/7717.Richard_Adams', 'rating': '4.06', 'isbn': '9780380395866', 'page_count': '478', 'rating_count': '423922', 'review_count': '13432', 'genres': 'Classics', 'year': '1975'}, {'id': '2623', 'name': 'Great Expectations', 'book_url': '/book/show/2623.Great_Expectations', 'author': 'Charles Dickens', 'author_url': 'https://www.goodreads.com/author/show/239579.Charles_Dickens', 'rating': '3.78', 'isbn': '9780192833594', 'page_count': '505', 'rating_count': '635823', 'review_count': '15604', 'genres': 'Classics', 'year': '1998'}, {'id': '332613', 'name': \"One Flew Over the Cuckoo's Nest\", 'book_url': '/book/show/332613.One_Flew_Over_the_Cuckoo_s_Nest', 'author': 'Ken Kesey', 'author_url': 'https://www.goodreads.com/author/show/7285.Ken_Kesey', 'rating': '4.19', 'isbn': 'null', 'page_count': '325', 'rating_count': '618823', 'review_count': '10614', 'genres': 'Classics', 'year': '1963'}, {'id': '6514', 'name': 'The Bell Jar', 'book_url': '/book/show/6514.The_Bell_Jar', 'author': 'Sylvia Plath', 'author_url': 'https://www.goodreads.com/author/show/4379.Sylvia_Plath', 'rating': '4.01', 'isbn': 'null', 'page_count': '294', 'rating_count': '573995', 'review_count': '22336', 'genres': 'Classics', 'year': '2006'}, {'id': '15823480', 'name': 'Anna Karenina', 'book_url': '/book/show/15823480-anna-karenina', 'author': 'Leo Tolstoy', 'author_url': 'https://www.goodreads.com/author/show/128382.Leo_Tolstoy', 'rating': '4.05', 'isbn': 'null', 'page_count': '964', 'rating_count': '648000', 'review_count': '23317', 'genres': 'Classics', 'year': '2012'}, {'id': '1934', 'name': 'Little Women', 'book_url': '/book/show/1934.Little_Women', 'author': 'Louisa May Alcott', 'author_url': 'https://www.goodreads.com/author/show/1315.Louisa_May_Alcott', 'rating': '4.08', 'isbn': '9780451529305', 'page_count': '449', 'rating_count': '1637926', 'review_count': '29378', 'genres': 'Classics', 'year': '2004'}, {'id': '10917', 'name': \"My Sister's Keeper\", 'book_url': '/book/show/10917.My_Sister_s_Keeper', 'author': 'Jodi Picoult', 'author_url': 'https://www.goodreads.com/author/show/7128.Jodi_Picoult', 'rating': '4.08', 'isbn': '9780743454537', 'page_count': '423', 'rating_count': '1041641', 'review_count': '33209', 'genres': 'Fiction', 'year': '2005'}, {'id': '10964', 'name': 'Outlander (Outlander, #1)', 'book_url': '/book/show/10964.Outlander', 'author': 'Diana Gabaldon', 'author_url': 'https://www.goodreads.com/author/show/3617.Diana_Gabaldon', 'rating': '4.23', 'isbn': '9780440242949', 'page_count': '850', 'rating_count': '798091', 'review_count': '44717', 'genres': 'Historical', 'year': '2005'}, {'id': '2429135', 'name': 'The Girl with the Dragon Tattoo (Millennium, #1)', 'book_url': '/book/show/2429135.The_Girl_with_the_Dragon_Tattoo', 'author': 'Stieg Larsson', 'author_url': 'https://www.goodreads.com/author/show/706255.Stieg_Larsson', 'rating': '4.14', 'isbn': 'null', 'page_count': '465', 'rating_count': '2544692', 'review_count': '68083', 'genres': 'Fiction', 'year': '2008'}, {'id': '136251', 'name': 'Harry Potter and the Deathly Hallows (Harry Potter, #7)', 'book_url': '/book/show/136251.Harry_Potter_and_the_Deathly_Hallows', 'author': 'J.K. Rowling', 'author_url': 'https://www.goodreads.com/author/show/1077326.J_K_Rowling', 'rating': '4.62', 'isbn': '9780545010221', 'page_count': '759', 'rating_count': '2725569', 'review_count': '63791', 'genres': 'Fantasy', 'year': '2007'}, {'id': '39988', 'name': 'Matilda', 'book_url': '/book/show/39988.Matilda', 'author': 'Roald Dahl', 'author_url': 'https://www.goodreads.com/author/show/4273.Roald_Dahl', 'rating': '4.32', 'isbn': '9780141301068', 'page_count': '240', 'rating_count': '617016', 'review_count': '15947', 'genres': 'Childrens', 'year': '1998'}, {'id': '34', 'name': 'The Fellowship of the Ring (The Lord of the Rings, #1)', 'book_url': '/book/show/34.The_Fellowship_of_the_Ring', 'author': 'J.R.R. Tolkien', 'author_url': 'https://www.goodreads.com/author/show/656983.J_R_R_Tolkien', 'rating': '4.36', 'isbn': '9780618346257', 'page_count': '398', 'rating_count': '2304823', 'review_count': '21681', 'genres': 'Fantasy', 'year': '2003'}, {'id': '17899948', 'name': 'Rebecca', 'book_url': '/book/show/17899948-rebecca', 'author': 'Daphne du Maurier', 'author_url': 'https://www.goodreads.com/author/show/2001717.Daphne_du_Maurier', 'rating': '4.23', 'isbn': '9780316323703', 'page_count': '449', 'rating_count': '430751', 'review_count': '22157', 'genres': 'Classics', 'year': '2013'}, {'id': '52892857', 'name': 'The Color Purple', 'book_url': '/book/show/52892857-the-color-purple', 'author': 'Alice Walker', 'author_url': 'https://www.goodreads.com/author/show/7380.Alice_Walker', 'rating': '4.21', 'isbn': '9780143135692', 'page_count': '304', 'rating_count': '504469', 'review_count': '14459', 'genres': 'Classics', 'year': '2019'}, {'id': '14891', 'name': 'A Tree Grows in Brooklyn', 'book_url': '/book/show/14891.A_Tree_Grows_in_Brooklyn', 'author': 'Betty  Smith', 'author_url': 'https://www.goodreads.com/author/show/2327917.Betty_Smith', 'rating': '4.27', 'isbn': '9780061120077', 'page_count': '496', 'rating_count': '380787', 'review_count': '20170', 'genres': 'Classics', 'year': '2006'}, {'id': '40961427', 'name': '1984', 'book_url': '/book/show/40961427-1984', 'author': 'George Orwell', 'author_url': 'https://www.goodreads.com/author/show/3706.George_Orwell', 'rating': '4.18', 'isbn': 'null', 'page_count': '237', 'rating_count': '3024017', 'review_count': '67033', 'genres': 'Classics', 'year': '2013'}, {'id': '41817486', 'name': 'A Clockwork Orange', 'book_url': '/book/show/41817486-a-clockwork-orange', 'author': 'Anthony Burgess', 'author_url': 'https://www.goodreads.com/author/show/5735.Anthony_Burgess', 'rating': '3.99', 'isbn': '9780393341768', 'page_count': '240', 'rating_count': '585296', 'review_count': '13372', 'genres': 'Classics', 'year': '2019'}, {'id': '6288', 'name': 'The Road', 'book_url': '/book/show/6288.The_Road', 'author': 'Cormac McCarthy', 'author_url': 'https://www.goodreads.com/author/show/4178.Cormac_McCarthy', 'rating': '3.97', 'isbn': '9780307265432', 'page_count': '241', 'rating_count': '700221', 'review_count': '45005', 'genres': 'Fiction', 'year': '2006'}, {'id': '4934', 'name': 'The Brothers Karamazov', 'book_url': '/book/show/4934.The_Brothers_Karamazov', 'author': 'Fyodor Dostoyevsky', 'author_url': 'https://www.goodreads.com/author/show/3137322.Fyodor_Dostoyevsky', 'rating': '4.32', 'isbn': '9780374528379', 'page_count': '796', 'rating_count': '235417', 'review_count': '10651', 'genres': 'Classics', 'year': '2002'}, {'id': '252577', 'name': \"Angela's Ashes (Frank McCourt, #1)\", 'book_url': '/book/show/252577.Angela_s_Ashes', 'author': 'Frank McCourt', 'author_url': 'https://www.goodreads.com/author/show/3347.Frank_McCourt', 'rating': '4.11', 'isbn': '9780007205233', 'page_count': '452', 'rating_count': '527994', 'review_count': '11727', 'genres': 'Nonfiction', 'year': '2005'}, {'id': '345627', 'name': 'Vampire Academy (Vampire Academy, #1)', 'book_url': '/book/show/345627.Vampire_Academy', 'author': 'Richelle Mead', 'author_url': 'https://www.goodreads.com/author/show/137902.Richelle_Mead', 'rating': '4.12', 'isbn': '9781595141743', 'page_count': '332', 'rating_count': '535889', 'review_count': '21922', 'genres': 'Young Adult', 'year': '2007'}, {'id': '7244', 'name': 'The Poisonwood Bible', 'book_url': '/book/show/7244.The_Poisonwood_Bible', 'author': 'Barbara Kingsolver', 'author_url': 'https://www.goodreads.com/author/show/3541.Barbara_Kingsolver', 'rating': '4.06', 'isbn': '9780060786502', 'page_count': '546', 'rating_count': '649406', 'review_count': '22942', 'genres': 'Fiction', 'year': '2005'}, {'id': '52036', 'name': 'Siddhartha', 'book_url': '/book/show/52036.Siddhartha', 'author': 'Hermann Hesse', 'author_url': 'https://www.goodreads.com/author/show/1113469.Hermann_Hesse', 'rating': '4.03', 'isbn': 'null', 'page_count': '152', 'rating_count': '563652', 'review_count': '16851', 'genres': 'Classics', 'year': '1981'}, {'id': '119322', 'name': 'The Golden Compass (His Dark Materials, #1)', 'book_url': '/book/show/119322.The_Golden_Compass', 'author': 'Philip Pullman', 'author_url': 'https://www.goodreads.com/author/show/3618.Philip_Pullman', 'rating': '3.98', 'isbn': '9780679879244', 'page_count': '399', 'rating_count': '1254570', 'review_count': '21627', 'genres': 'Fantasy', 'year': '1996'}, {'id': '3836', 'name': 'Don Quixote', 'book_url': '/book/show/3836.Don_Quixote', 'author': 'Miguel de Cervantes Saavedra', 'author_url': 'https://www.goodreads.com/author/show/4037220.Miguel_de_Cervantes_Saavedra', 'rating': '3.88', 'isbn': '9780142437230', 'page_count': '1023', 'rating_count': '202569', 'review_count': '7789', 'genres': 'Classics', 'year': '2003'}, {'id': '662', 'name': 'Atlas Shrugged', 'book_url': '/book/show/662.Atlas_Shrugged', 'author': 'Ayn Rand', 'author_url': 'https://www.goodreads.com/author/show/432.Ayn_Rand', 'rating': '3.69', 'isbn': '9780452011878', 'page_count': '1168', 'rating_count': '348149', 'review_count': '17053', 'genres': 'Classics', 'year': '1999'}, {'id': '2165', 'name': 'The Old Man and the Sea', 'book_url': '/book/show/2165.The_Old_Man_and_the_Sea', 'author': 'Ernest Hemingway', 'author_url': 'https://www.goodreads.com/author/show/1455.Ernest_Hemingway', 'rating': '3.78', 'isbn': '9780684830490', 'page_count': '96', 'rating_count': '805327', 'review_count': '24218', 'genres': 'Classics', 'year': '1996'}, {'id': '5', 'name': 'Harry Potter and the Prisoner of Azkaban (Harry Potter, #3)', 'book_url': '/book/show/5.Harry_Potter_and_the_Prisoner_of_Azkaban', 'author': 'J.K. Rowling', 'author_url': 'https://www.goodreads.com/author/show/1077326.J_K_Rowling', 'rating': '4.57', 'isbn': '9780439655484', 'page_count': '435', 'rating_count': '2704277', 'review_count': '53417', 'genres': 'Fantasy', 'year': '2004'}, {'id': '33648131', 'name': 'The Notebook (The Notebook, #1)', 'book_url': '/book/show/33648131-the-notebook', 'author': 'Nicholas Sparks', 'author_url': 'https://www.goodreads.com/author/show/2345.Nicholas_Sparks', 'rating': '4.10', 'isbn': 'null', 'page_count': '227', 'rating_count': '1301353', 'review_count': '19727', 'genres': 'Romance', 'year': '2000'}, {'id': '99107', 'name': 'Winnie-the-Pooh (Winnie-the-Pooh, #1)', 'book_url': '/book/show/99107.Winnie_the_Pooh', 'author': 'A.A. Milne', 'author_url': 'https://www.goodreads.com/author/show/81466.A_A_Milne', 'rating': '4.35', 'isbn': '9780525467564', 'page_count': '145', 'rating_count': '260902', 'review_count': '4617', 'genres': 'Classics', 'year': '2001'}, {'id': '23919', 'name': 'The Complete Stories and Poems', 'book_url': '/book/show/23919.The_Complete_Stories_and_Poems', 'author': 'Edgar Allan Poe', 'author_url': 'https://www.goodreads.com/author/show/4624490.Edgar_Allan_Poe', 'rating': '4.38', 'isbn': '9780385074070', 'page_count': '821', 'rating_count': '213034', 'review_count': '2166', 'genres': 'Classics', 'year': '1984'}, {'id': '4473', 'name': 'A Prayer for Owen Meany', 'book_url': '/book/show/4473.A_Prayer_for_Owen_Meany', 'author': 'John Irving', 'author_url': 'https://www.goodreads.com/author/show/3075.John_Irving', 'rating': '4.23', 'isbn': '9780552135399', 'page_count': '637', 'rating_count': '282710', 'review_count': '13586', 'genres': 'Fiction', 'year': '1990'}, {'id': '43763', 'name': 'Interview with the Vampire (The Vampire Chronicles, #1)', 'book_url': '/book/show/43763.Interview_with_the_Vampire', 'author': 'Anne Rice', 'author_url': 'https://www.goodreads.com/author/show/7577.Anne_Rice', 'rating': '4.00', 'isbn': '9780345476876', 'page_count': '342', 'rating_count': '473038', 'review_count': '9956', 'genres': 'Horror', 'year': '2004'}, {'id': '153747', 'name': 'Moby-Dick or, the Whale', 'book_url': '/book/show/153747.Moby_Dick_or_the_Whale', 'author': 'Herman Melville', 'author_url': 'https://www.goodreads.com/author/show/1624.Herman_Melville', 'rating': '3.50', 'isbn': '9780142437247', 'page_count': '654', 'rating_count': '470744', 'review_count': '15149', 'genres': 'Classics', 'year': '2003'}, {'id': '4989', 'name': 'The Red Tent', 'book_url': '/book/show/4989.The_Red_Tent', 'author': 'Anita Diamant', 'author_url': 'https://www.goodreads.com/author/show/626222.Anita_Diamant', 'rating': '4.18', 'isbn': '9780312353766', 'page_count': '336', 'rating_count': '511321', 'review_count': '19045', 'genres': 'Historical', 'year': '2005'}, {'id': '37435', 'name': 'The Secret Life of Bees', 'book_url': '/book/show/37435.The_Secret_Life_of_Bees', 'author': 'Sue Monk Kidd', 'author_url': 'https://www.goodreads.com/author/show/4711.Sue_Monk_Kidd', 'rating': '4.05', 'isbn': '9780142001745', 'page_count': '302', 'rating_count': '1098795', 'review_count': '30073', 'genres': 'Fiction', 'year': '2003'}, {'id': '6', 'name': 'Harry Potter and the Goblet of Fire (Harry Potter, #4)', 'book_url': '/book/show/6.Harry_Potter_and_the_Goblet_of_Fire', 'author': 'J.K. Rowling', 'author_url': 'https://www.goodreads.com/author/show/1077326.J_K_Rowling', 'rating': '4.56', 'isbn': 'null', 'page_count': '734', 'rating_count': '2510115', 'review_count': '44806', 'genres': 'Fantasy', 'year': '2002'}, {'id': '7171637', 'name': 'Clockwork Angel (The Infernal Devices, #1)', 'book_url': '/book/show/7171637-clockwork-angel', 'author': 'Cassandra Clare', 'author_url': 'https://www.goodreads.com/author/show/150038.Cassandra_Clare', 'rating': '4.33', 'isbn': '9781416975861', 'page_count': '481', 'rating_count': '641682', 'review_count': '30722', 'genres': 'Fantasy', 'year': '2010'}, {'id': '16299', 'name': 'And Then There Were None', 'book_url': '/book/show/16299.And_Then_There_Were_None', 'author': 'Agatha Christie', 'author_url': 'https://www.goodreads.com/author/show/123715.Agatha_Christie', 'rating': '4.26', 'isbn': '9780312330873', 'page_count': '264', 'rating_count': '776718', 'review_count': '31245', 'genres': 'Mystery', 'year': '2004'}, {'id': '2187', 'name': 'Middlesex', 'book_url': '/book/show/2187.Middlesex', 'author': 'Jeffrey Eugenides', 'author_url': 'https://www.goodreads.com/author/show/1467.Jeffrey_Eugenides', 'rating': '4.01', 'isbn': '9780312422158', 'page_count': '529', 'rating_count': '574776', 'review_count': '22946', 'genres': 'Fiction', 'year': '2003'}, {'id': '1', 'name': 'Harry Potter and the Half-Blood Prince (Harry Potter, #6)', 'book_url': '/book/show/1.Harry_Potter_and_the_Half_Blood_Prince', 'author': 'J.K. Rowling', 'author_url': 'https://www.goodreads.com/author/show/1077326.J_K_Rowling', 'rating': '4.57', 'isbn': 'null', 'page_count': '652', 'rating_count': '2363861', 'review_count': '38035', 'genres': 'Fantasy', 'year': '2006'}, {'id': '49552', 'name': 'The Stranger', 'book_url': '/book/show/49552.The_Stranger', 'author': 'Albert Camus', 'author_url': 'https://www.goodreads.com/author/show/957894.Albert_Camus', 'rating': '3.98', 'isbn': 'null', 'page_count': '123', 'rating_count': '681177', 'review_count': '22324', 'genres': 'Classics', 'year': '1989'}, {'id': '117833', 'name': 'The Master and Margarita', 'book_url': '/book/show/117833.The_Master_and_Margarita', 'author': 'Mikhail Bulgakov', 'author_url': 'https://www.goodreads.com/author/show/3873.Mikhail_Bulgakov', 'rating': '4.29', 'isbn': '9780679760801', 'page_count': '335', 'rating_count': '232788', 'review_count': '11034', 'genres': 'Fiction', 'year': '1996'}, {'id': '186074', 'name': 'The Name of the Wind (The Kingkiller Chronicle, #1)', 'book_url': '/book/show/186074.The_Name_of_the_Wind', 'author': 'Patrick Rothfuss', 'author_url': 'https://www.goodreads.com/author/show/108424.Patrick_Rothfuss', 'rating': '4.54', 'isbn': '9780756404079', 'page_count': '662', 'rating_count': '688837', 'review_count': '40743', 'genres': 'Fantasy', 'year': '2007'}, {'id': '11588', 'name': 'The Shining', 'book_url': '/book/show/11588.The_Shining', 'author': 'Stephen King', 'author_url': 'https://www.goodreads.com/author/show/3389.Stephen_King', 'rating': '4.23', 'isbn': '9780450040184', 'page_count': '659', 'rating_count': '1090256', 'review_count': '23519', 'genres': 'Horror', 'year': '1980'}, {'id': '24583', 'name': 'The Adventures of Tom Sawyer', 'book_url': '/book/show/24583.The_Adventures_of_Tom_Sawyer', 'author': 'Mark Twain', 'author_url': 'https://www.goodreads.com/author/show/1244.Mark_Twain', 'rating': '3.91', 'isbn': '9780143039563', 'page_count': '244', 'rating_count': '739818', 'review_count': '9690', 'genres': 'Classics', 'year': '2006'}, {'id': '113436', 'name': 'Eragon (The Inheritance Cycle, #1)', 'book_url': '/book/show/113436.Eragon', 'author': 'Christopher Paolini', 'author_url': 'https://www.goodreads.com/author/show/8349.Christopher_Paolini', 'rating': '3.90', 'isbn': '9780375826696', 'page_count': '503', 'rating_count': '1402791', 'review_count': '21750', 'genres': 'Fantasy', 'year': '2005'}, {'id': '6310', 'name': 'Charlie and the Chocolate Factory (Charlie Bucket, #1)', 'book_url': '/book/show/6310.Charlie_and_the_Chocolate_Factory', 'author': 'Roald Dahl', 'author_url': 'https://www.goodreads.com/author/show/4273.Roald_Dahl', 'rating': '4.14', 'isbn': '9780142403884', 'page_count': '176', 'rating_count': '642587', 'review_count': '11592', 'genres': 'Childrens', 'year': '2005'}, {'id': '36576608', 'name': 'Flowers for Algernon', 'book_url': '/book/show/36576608-flowers-for-algernon', 'author': 'Daniel Keyes', 'author_url': 'https://www.goodreads.com/author/show/11072.Daniel_Keyes', 'rating': '4.13', 'isbn': 'null', 'page_count': '216', 'rating_count': '465003', 'review_count': '17596', 'genres': 'Fiction', 'year': '1966'}, {'id': '70401', 'name': 'On the Road', 'book_url': '/book/show/70401.On_the_Road', 'author': 'Jack Kerouac', 'author_url': 'https://www.goodreads.com/author/show/1742.Jack_Kerouac', 'rating': '3.62', 'isbn': '9780140042597', 'page_count': '307', 'rating_count': '340371', 'review_count': '14644', 'genres': 'Classics', 'year': '1976'}, {'id': '99561', 'name': 'Looking for Alaska', 'book_url': '/book/show/99561.Looking_for_Alaska', 'author': 'John Green', 'author_url': 'https://www.goodreads.com/author/show/1406384.John_Green', 'rating': '4.03', 'isbn': 'null', 'page_count': '221', 'rating_count': '1084064', 'review_count': '55417', 'genres': 'Young Adult', 'year': '2006'}, {'id': '485894', 'name': 'The Metamorphosis', 'book_url': '/book/show/485894.The_Metamorphosis', 'author': 'Franz Kafka', 'author_url': 'https://www.goodreads.com/author/show/5223.Franz_Kafka', 'rating': '3.82', 'isbn': 'null', 'page_count': '201', 'rating_count': '613496', 'review_count': '16702', 'genres': 'Classics', 'year': '1972'}, {'id': '1232', 'name': 'The Shadow of the Wind (The Cemetery of Forgotten Books, #1)', 'book_url': '/book/show/1232.The_Shadow_of_the_Wind', 'author': 'Carlos Ruiz Zafón', 'author_url': 'https://www.goodreads.com/author/show/815.Carlos_Ruiz_Zaf_n', 'rating': '4.27', 'isbn': 'null', 'page_count': '487', 'rating_count': '442273', 'review_count': '34274', 'genres': 'Fiction', 'year': '2005'}, {'id': '1618', 'name': 'The Curious Incident of the Dog in the Night-Time', 'book_url': '/book/show/1618.The_Curious_Incident_of_the_Dog_in_the_Night_Time', 'author': 'Mark Haddon', 'author_url': 'https://www.goodreads.com/author/show/1050.Mark_Haddon', 'rating': '3.88', 'isbn': '9781400032716', 'page_count': '226', 'rating_count': '1163806', 'review_count': '43460', 'genres': 'Fiction', 'year': '2004'}, {'id': '4948', 'name': 'The Very Hungry Caterpillar', 'book_url': '/book/show/4948.The_Very_Hungry_Caterpillar', 'author': 'Eric Carle', 'author_url': 'https://www.goodreads.com/author/show/3362.Eric_Carle', 'rating': '4.30', 'isbn': '9780241003008', 'page_count': '26', 'rating_count': '384386', 'review_count': '7754', 'genres': 'Childrens', 'year': '1994'}, {'id': '6900', 'name': 'Tuesdays with Morrie', 'book_url': '/book/show/6900.Tuesdays_with_Morrie', 'author': 'Mitch Albom', 'author_url': 'https://www.goodreads.com/author/show/2331.Mitch_Albom', 'rating': '4.11', 'isbn': '9780751529814', 'page_count': '210', 'rating_count': '760713', 'review_count': '25267', 'genres': 'Nonfiction', 'year': '2000'}, {'id': '9717', 'name': 'The Unbearable Lightness of Being', 'book_url': '/book/show/9717.The_Unbearable_Lightness_of_Being', 'author': 'Milan Kundera', 'author_url': 'https://www.goodreads.com/author/show/6343.Milan_Kundera', 'rating': '4.10', 'isbn': '9780571224388', 'page_count': '320', 'rating_count': '329879', 'review_count': '14854', 'genres': 'Fiction', 'year': '2009'}, {'id': '119073', 'name': 'The Name of the Rose', 'book_url': '/book/show/119073.The_Name_of_the_Rose', 'author': 'Umberto Eco', 'author_url': 'https://www.goodreads.com/author/show/1730.Umberto_Eco', 'rating': '4.12', 'isbn': '9780156001311', 'page_count': '536', 'rating_count': '290559', 'review_count': '8595', 'genres': 'Fiction', 'year': '1994'}, {'id': '10365', 'name': 'Where the Red Fern Grows', 'book_url': '/book/show/10365.Where_the_Red_Fern_Grows', 'author': 'Wilson Rawls', 'author_url': 'https://www.goodreads.com/author/show/6810.Wilson_Rawls', 'rating': '4.08', 'isbn': '9780375806810', 'page_count': '272', 'rating_count': '334136', 'review_count': '10894', 'genres': 'Classics', 'year': '2000'}, {'id': '12296', 'name': 'The Scarlet Letter', 'book_url': '/book/show/12296.The_Scarlet_Letter', 'author': 'Nathaniel Hawthorne', 'author_url': 'https://www.goodreads.com/author/show/7799.Nathaniel_Hawthorne', 'rating': '3.41', 'isbn': '9780142437261', 'page_count': '279', 'rating_count': '691258', 'review_count': '14423', 'genres': 'Classics', 'year': '2003'}, {'id': '22034', 'name': 'The Godfather', 'book_url': '/book/show/22034.The_Godfather', 'author': 'Mario Puzo', 'author_url': 'https://www.goodreads.com/author/show/12605.Mario_Puzo', 'rating': '4.37', 'isbn': 'null', 'page_count': '448', 'rating_count': '323845', 'review_count': '8386', 'genres': 'Fiction', 'year': '2002'}, {'id': '15881', 'name': 'Harry Potter and the Chamber of Secrets (Harry Potter, #2)', 'book_url': '/book/show/15881.Harry_Potter_and_the_Chamber_of_Secrets', 'author': 'J.K. Rowling', 'author_url': 'https://www.goodreads.com/author/show/1077326.J_K_Rowling', 'rating': '4.43', 'isbn': '9780439064866', 'page_count': '341', 'rating_count': '2634541', 'review_count': '50890', 'genres': 'Fantasy', 'year': '1999'}, {'id': '168642', 'name': 'In Cold Blood', 'book_url': '/book/show/168642.In_Cold_Blood', 'author': 'Truman Capote', 'author_url': 'https://www.goodreads.com/author/show/431149.Truman_Capote', 'rating': '4.07', 'isbn': '9780679745587', 'page_count': '343', 'rating_count': '510475', 'review_count': '16144', 'genres': 'Nonfiction', 'year': '1994'}, {'id': '3431', 'name': 'The Five People You Meet in Heaven', 'book_url': '/book/show/3431.The_Five_People_You_Meet_in_Heaven', 'author': 'Mitch Albom', 'author_url': 'https://www.goodreads.com/author/show/2331.Mitch_Albom', 'rating': '3.94', 'isbn': '9781401308582', 'page_count': '196', 'rating_count': '567849', 'review_count': '20250', 'genres': 'Fiction', 'year': '2003'}, {'id': '36236124', 'name': 'Fight Club', 'book_url': '/book/show/36236124-fight-club', 'author': 'Chuck Palahniuk', 'author_url': 'https://www.goodreads.com/author/show/2546.Chuck_Palahniuk', 'rating': '4.19', 'isbn': '9780393355949', 'page_count': '218', 'rating_count': '486975', 'review_count': '14128', 'genres': 'Fiction', 'year': '2018'}, {'id': '6339664', 'name': 'Hush, Hush (Hush, Hush, #1)', 'book_url': '/book/show/6339664-hush-hush', 'author': 'Becca Fitzpatrick', 'author_url': 'https://www.goodreads.com/author/show/2876763.Becca_Fitzpatrick', 'rating': '3.97', 'isbn': '9781416989417', 'page_count': '391', 'rating_count': '557094', 'review_count': '24561', 'genres': 'Young Adult', 'year': '2009'}, {'id': '256008', 'name': 'Lonesome Dove', 'book_url': '/book/show/256008.Lonesome_Dove', 'author': 'Larry McMurtry', 'author_url': 'https://www.goodreads.com/author/show/1055.Larry_McMurtry', 'rating': '4.49', 'isbn': '9780671683900', 'page_count': '960', 'rating_count': '143572', 'review_count': '7279', 'genres': 'Fiction', 'year': '1999'}, {'id': '233093', 'name': 'The Cat in the Hat', 'book_url': '/book/show/233093.The_Cat_in_the_Hat', 'author': 'Dr. Seuss', 'author_url': 'https://www.goodreads.com/author/show/61105.Dr_Seuss', 'rating': '4.17', 'isbn': '9780394800011', 'page_count': '61', 'rating_count': '411113', 'review_count': '5702', 'genres': 'Childrens', 'year': '1985'}, {'id': '30165203', 'name': 'American Gods (American Gods, #1)', 'book_url': '/book/show/30165203-american-gods', 'author': 'Neil Gaiman', 'author_url': 'https://www.goodreads.com/author/show/1221698.Neil_Gaiman', 'rating': '4.11', 'isbn': 'null', 'page_count': '635', 'rating_count': '737721', 'review_count': '37848', 'genres': 'Fantasy', 'year': '2011'}, {'id': '38709', 'name': 'Holes (Holes, #1)', 'book_url': '/book/show/38709.Holes', 'author': 'Louis Sachar', 'author_url': 'https://www.goodreads.com/author/show/6569.Louis_Sachar', 'rating': '3.97', 'isbn': '9780439244190', 'page_count': '233', 'rating_count': '945043', 'review_count': '20035', 'genres': 'Young Adult', 'year': '2000'}, {'id': '343', 'name': 'Perfume: The Story of a Murderer', 'book_url': '/book/show/343.Perfume', 'author': 'Patrick Süskind', 'author_url': 'https://www.goodreads.com/author/show/39402.Patrick_S_skind', 'rating': '4.02', 'isbn': '9780140120837', 'page_count': '263', 'rating_count': '313135', 'review_count': '13944', 'genres': 'Fiction', 'year': '1987'}, {'id': '7126', 'name': 'The Count of Monte Cristo', 'book_url': '/book/show/7126.The_Count_of_Monte_Cristo', 'author': 'Alexandre Dumas', 'author_url': 'https://www.goodreads.com/author/show/4785.Alexandre_Dumas', 'rating': '4.25', 'isbn': '9780140449266', 'page_count': '1276', 'rating_count': '731027', 'review_count': '20622', 'genres': 'Classics', 'year': '2003'}, {'id': '100915', 'name': 'The Lion, the Witch and the Wardrobe (Chronicles of Narnia, #1)', 'book_url': '/book/show/100915.The_Lion_the_Witch_and_the_Wardrobe', 'author': 'C.S. Lewis', 'author_url': 'https://www.goodreads.com/author/show/1069006.C_S_Lewis', 'rating': '4.22', 'isbn': 'null', 'page_count': '206', 'rating_count': '2071593', 'review_count': '21044', 'genres': 'Fantasy', 'year': '2005'}, {'id': '830502', 'name': 'It', 'book_url': '/book/show/830502.It', 'author': 'Stephen King', 'author_url': 'https://www.goodreads.com/author/show/3389.Stephen_King', 'rating': '4.24', 'isbn': '9780450411434', 'page_count': '1116', 'rating_count': '773147', 'review_count': '24460', 'genres': 'Horror', 'year': '1987'}, {'id': '472331', 'name': 'Watchmen', 'book_url': '/book/show/472331.Watchmen', 'author': 'Alan Moore', 'author_url': 'https://www.goodreads.com/author/show/3961.Alan_Moore', 'rating': '4.36', 'isbn': '9780930289232', 'page_count': '416', 'rating_count': '479760', 'review_count': '13770', 'genres': 'Sequential Art', 'year': '2005'}, {'id': '114345', 'name': 'The Little House Collection (Little House, #1-9)', 'book_url': '/book/show/114345.The_Little_House_Collection', 'author': 'Laura Ingalls Wilder', 'author_url': 'https://www.goodreads.com/author/show/5300.Laura_Ingalls_Wilder', 'rating': '4.34', 'isbn': '9780060529963', 'page_count': '2700', 'rating_count': '139740', 'review_count': '2167', 'genres': 'Classics', 'year': '2003'}, {'id': '4556058', 'name': 'The Last Olympian (Percy Jackson and the Olympians, #5)', 'book_url': '/book/show/4556058-the-last-olympian', 'author': 'Rick Riordan', 'author_url': 'https://www.goodreads.com/author/show/15872.Rick_Riordan', 'rating': '4.51', 'isbn': '9781423101475', 'page_count': '381', 'rating_count': '640064', 'review_count': '22487', 'genres': 'Fantasy', 'year': '2009'}, {'id': '6656', 'name': 'The Divine Comedy', 'book_url': '/book/show/6656.The_Divine_Comedy', 'author': 'Dante Alighieri', 'author_url': 'https://www.goodreads.com/author/show/5031312.Dante_Alighieri', 'rating': '4.06', 'isbn': '9780679433132', 'page_count': '798', 'rating_count': '112811', 'review_count': '3715', 'genres': 'Classics', 'year': '1995'}, {'id': '34268', 'name': 'Peter Pan', 'book_url': '/book/show/34268.Peter_Pan', 'author': 'J.M. Barrie', 'author_url': 'https://www.goodreads.com/author/show/5255014.J_M_Barrie', 'rating': '4.07', 'isbn': '9780805072457', 'page_count': '176', 'rating_count': '262882', 'review_count': '10947', 'genres': 'Classics', 'year': '2003'}, {'id': '355697', 'name': 'All Quiet on the Western Front', 'book_url': '/book/show/355697.All_Quiet_on_the_Western_Front', 'author': 'Erich Maria Remarque', 'author_url': 'https://www.goodreads.com/author/show/4116.Erich_Maria_Remarque', 'rating': '3.98', 'isbn': '9780449213940', 'page_count': '296', 'rating_count': '348551', 'review_count': '10134', 'genres': 'Historical', 'year': '1987'}, {'id': '1423', 'name': 'The Compleat Works of Wllm Shkspr', 'book_url': '/book/show/1423.The_Compleat_Works_of_Wllm_Shkspr', 'author': 'Reduced Shakespeare Company', 'author_url': 'https://www.goodreads.com/author/show/4390174.Reduced_Shakespeare_Company', 'rating': '4.44', 'isbn': '9781557831576', 'page_count': '137', 'rating_count': '8387', 'review_count': '131', 'genres': 'Plays', 'year': '1994'}, {'id': '9712', 'name': 'Love in the Time of Cholera', 'book_url': '/book/show/9712.Love_in_the_Time_of_Cholera', 'author': 'Gabriel García Márquez', 'author_url': 'https://www.goodreads.com/author/show/13450.Gabriel_Garc_a_M_rquez', 'rating': '3.92', 'isbn': '9781400034680', 'page_count': '348', 'rating_count': '399506', 'review_count': '19605', 'genres': 'Fiction', 'year': '2003'}, {'id': '2802316', 'name': 'Shadow Kiss (Vampire Academy, #3)', 'book_url': '/book/show/2802316-shadow-kiss', 'author': 'Richelle Mead', 'author_url': 'https://www.goodreads.com/author/show/137902.Richelle_Mead', 'rating': '4.36', 'isbn': '9781595141972', 'page_count': '443', 'rating_count': '318337', 'review_count': '11171', 'genres': 'Young Adult', 'year': '2008'}, {'id': '35545737', 'name': 'A Walk to Remember', 'book_url': '/book/show/35545737-a-walk-to-remember', 'author': 'Nicholas Sparks', 'author_url': 'https://www.goodreads.com/author/show/2345.Nicholas_Sparks', 'rating': '4.18', 'isbn': 'null', 'page_count': '215', 'rating_count': '658664', 'review_count': '12918', 'genres': 'Romance', 'year': '2000'}, {'id': '3412', 'name': 'The Thorn Birds', 'book_url': '/book/show/3412.The_Thorn_Birds', 'author': 'Colleen McCullough', 'author_url': 'https://www.goodreads.com/author/show/4917067.Colleen_McCullough', 'rating': '4.23', 'isbn': 'null', 'page_count': '692', 'rating_count': '307849', 'review_count': '5832', 'genres': 'Fiction', 'year': '2002'}, {'id': '5907', 'name': 'The Hobbit, or There and Back Again', 'book_url': '/book/show/5907.The_Hobbit_or_There_and_Back_Again', 'author': 'J.R.R. Tolkien', 'author_url': 'https://www.goodreads.com/author/show/656983.J_R_R_Tolkien', 'rating': '4.27', 'isbn': '9780618260300', 'page_count': '366', 'rating_count': '2816208', 'review_count': '46981', 'genres': 'Fantasy', 'year': '2002'}, {'id': '11735983', 'name': 'Insurgent (Divergent, #2)', 'book_url': '/book/show/11735983-insurgent', 'author': 'Veronica Roth', 'author_url': 'https://www.goodreads.com/author/show/4039811.Veronica_Roth', 'rating': '4.03', 'isbn': '9780007442911', 'page_count': '525', 'rating_count': '1137343', 'review_count': '58468', 'genres': 'Young Adult', 'year': '2012'}, {'id': '13', 'name': \"The Ultimate Hitchhiker's Guide to the Galaxy (Hitchhiker's Guide to the Galaxy, #1-5)\", 'book_url': '/book/show/13.The_Ultimate_Hitchhiker_s_Guide_to_the_Galaxy', 'author': 'Douglas Adams', 'author_url': 'https://www.goodreads.com/author/show/4.Douglas_Adams', 'rating': '4.36', 'isbn': '9780345453747', 'page_count': '815', 'rating_count': '280507', 'review_count': '5203', 'genres': 'Science Fiction', 'year': '2002'}, {'id': '113946', 'name': 'How the Grinch Stole Christmas!', 'book_url': '/book/show/113946.How_the_Grinch_Stole_Christmas_', 'author': 'Dr. Seuss', 'author_url': 'https://www.goodreads.com/author/show/61105.Dr_Seuss', 'rating': '4.37', 'isbn': '9780007173044', 'page_count': '64', 'rating_count': '320590', 'review_count': '3146', 'genres': 'Childrens', 'year': '2004'}, {'id': '6867', 'name': 'Atonement', 'book_url': '/book/show/6867.Atonement', 'author': 'Ian McEwan', 'author_url': 'https://www.goodreads.com/author/show/2408.Ian_McEwan', 'rating': '3.91', 'isbn': '9780385721790', 'page_count': '351', 'rating_count': '431516', 'review_count': '17030', 'genres': 'Fiction', 'year': '2003'}, {'id': '92303', 'name': 'The Importance of Being Earnest', 'book_url': '/book/show/92303.The_Importance_of_Being_Earnest', 'author': 'Oscar Wilde', 'author_url': 'https://www.goodreads.com/author/show/3565.Oscar_Wilde', 'rating': '4.18', 'isbn': '9781580495806', 'page_count': '76', 'rating_count': '296847', 'review_count': '8947', 'genres': 'Classics', 'year': '2005'}, {'id': '19501', 'name': 'Eat, Pray, Love', 'book_url': '/book/show/19501.Eat_Pray_Love', 'author': 'Elizabeth Gilbert', 'author_url': 'https://www.goodreads.com/author/show/11679.Elizabeth_Gilbert', 'rating': '3.56', 'isbn': '9780143038412', 'page_count': '368', 'rating_count': '1442317', 'review_count': '53431', 'genres': 'Nonfiction', 'year': '2007'}, {'id': '37415', 'name': 'Their Eyes Were Watching God', 'book_url': '/book/show/37415.Their_Eyes_Were_Watching_God', 'author': 'Zora Neale Hurston', 'author_url': 'https://www.goodreads.com/author/show/15151.Zora_Neale_Hurston', 'rating': '3.92', 'isbn': '9780061120060', 'page_count': '219', 'rating_count': '253858', 'review_count': '12964', 'genres': 'Classics', 'year': '2006'}, {'id': '7190', 'name': \"The Three Musketeers (The D'Artagnan Romances, #1)\", 'book_url': '/book/show/7190.The_Three_Musketeers', 'author': 'Alexandre Dumas', 'author_url': 'https://www.goodreads.com/author/show/4785.Alexandre_Dumas', 'rating': '4.07', 'isbn': 'null', 'page_count': '625', 'rating_count': '267086', 'review_count': '6579', 'genres': 'Classics', 'year': '2001'}, {'id': '2282133', 'name': 'Frostbite (Vampire Academy, #2)', 'book_url': '/book/show/2282133.Frostbite', 'author': 'Richelle Mead', 'author_url': 'https://www.goodreads.com/author/show/137902.Richelle_Mead', 'rating': '4.28', 'isbn': 'null', 'page_count': '327', 'rating_count': '302034', 'review_count': '11198', 'genres': 'Young Adult', 'year': '2008'}, {'id': '236093', 'name': 'The Wonderful Wizard of Oz (Oz, #1)', 'book_url': '/book/show/236093.The_Wonderful_Wizard_of_Oz', 'author': 'L. Frank Baum', 'author_url': 'https://www.goodreads.com/author/show/3242.L_Frank_Baum', 'rating': '3.99', 'isbn': '9780140621679', 'page_count': '154', 'rating_count': '355879', 'review_count': '12326', 'genres': 'Classics', 'year': '1995'}, {'id': '32929', 'name': 'Goodnight Moon', 'book_url': '/book/show/32929.Goodnight_Moon', 'author': 'Margaret Wise Brown', 'author_url': 'https://www.goodreads.com/author/show/18479.Margaret_Wise_Brown', 'rating': '4.28', 'isbn': '9780060775858', 'page_count': '32', 'rating_count': '296501', 'review_count': '5729', 'genres': 'Childrens', 'year': '2007'}, {'id': '7784', 'name': 'The Lorax', 'book_url': '/book/show/7784.The_Lorax', 'author': 'Dr. Seuss', 'author_url': 'https://www.goodreads.com/author/show/61105.Dr_Seuss', 'rating': '4.35', 'isbn': '9780679889106', 'page_count': '72', 'rating_count': '274566', 'review_count': '4012', 'genres': 'Childrens', 'year': '1998'}, {'id': '12067', 'name': 'Good Omens: The Nice and Accurate Prophecies of Agnes Nutter, Witch', 'book_url': '/book/show/12067.Good_Omens', 'author': 'Terry Pratchett', 'author_url': 'https://www.goodreads.com/author/show/1654.Terry_Pratchett', 'rating': '4.25', 'isbn': 'null', 'page_count': '491', 'rating_count': '520130', 'review_count': '26583', 'genres': 'Fantasy', 'year': '2006'}, {'id': '5996153', 'name': 'Blood Promise (Vampire Academy, #4)', 'book_url': '/book/show/5996153-blood-promise', 'author': 'Richelle Mead', 'author_url': 'https://www.goodreads.com/author/show/137902.Richelle_Mead', 'rating': '4.34', 'isbn': '9781595141989', 'page_count': '503', 'rating_count': '269597', 'review_count': '9701', 'genres': 'Young Adult', 'year': '2009'}, {'id': '32261', 'name': \"Tess of the D'Urbervilles\", 'book_url': '/book/show/32261.Tess_of_the_D_Urbervilles', 'author': 'Thomas Hardy', 'author_url': 'https://www.goodreads.com/author/show/15905.Thomas_Hardy', 'rating': '3.80', 'isbn': 'null', 'page_count': '518', 'rating_count': '233821', 'review_count': '8491', 'genres': 'Classics', 'year': '2003'}, {'id': '1078', 'name': 'The Good Earth (House of Earth, #1)', 'book_url': '/book/show/1078.The_Good_Earth', 'author': 'Pearl S. Buck', 'author_url': 'https://www.goodreads.com/author/show/704.Pearl_S_Buck', 'rating': '3.98', 'isbn': '9781416500186', 'page_count': '418', 'rating_count': '220004', 'review_count': '9700', 'genres': 'Classics', 'year': '2009'}, {'id': '4900', 'name': 'Heart of Darkness', 'book_url': '/book/show/4900.Heart_of_Darkness', 'author': 'Joseph Conrad', 'author_url': 'https://www.goodreads.com/author/show/3345.Joseph_Conrad', 'rating': '3.42', 'isbn': '9781892295491', 'page_count': '188', 'rating_count': '405758', 'review_count': '13507', 'genres': 'Classics', 'year': '2003'}, {'id': '1622', 'name': \"A Midsummer Night's Dream\", 'book_url': '/book/show/1622.A_Midsummer_Night_s_Dream', 'author': 'William Shakespeare', 'author_url': 'https://www.goodreads.com/author/show/947.William_Shakespeare', 'rating': '3.95', 'isbn': '9780743477543', 'page_count': '240', 'rating_count': '435681', 'review_count': '7864', 'genres': 'Classics', 'year': '2016'}, {'id': '2547', 'name': 'The Prophet', 'book_url': '/book/show/2547.The_Prophet', 'author': 'Kahlil Gibran', 'author_url': 'https://www.goodreads.com/author/show/6466154.Kahlil_Gibran', 'rating': '4.23', 'isbn': '9780001000391', 'page_count': '127', 'rating_count': '226839', 'review_count': '9199', 'genres': 'Poetry', 'year': '2010'}, {'id': '2120932', 'name': 'The Battle of the Labyrinth (Percy Jackson and the Olympians, #4)', 'book_url': '/book/show/2120932.The_Battle_of_the_Labyrinth', 'author': 'Rick Riordan', 'author_url': 'https://www.goodreads.com/author/show/15872.Rick_Riordan', 'rating': '4.40', 'isbn': 'null', 'page_count': '361', 'rating_count': '712325', 'review_count': '18427', 'genres': 'Fantasy', 'year': '2008'}, {'id': '40605251', 'name': 'The Mists of Avalon (Avalon, #1)', 'book_url': '/book/show/40605251-the-mists-of-avalon', 'author': 'Marion Zimmer Bradley', 'author_url': 'https://www.goodreads.com/author/show/4841825.Marion_Zimmer_Bradley', 'rating': '4.12', 'isbn': 'null', 'page_count': '1009', 'rating_count': '186673', 'review_count': '6629', 'genres': 'Fantasy', 'year': '2001'}, {'id': '18335634', 'name': 'Clockwork Princess (The Infernal Devices, #3)', 'book_url': '/book/show/18335634-clockwork-princess', 'author': 'Cassandra Clare', 'author_url': 'https://www.goodreads.com/author/show/150038.Cassandra_Clare', 'rating': '4.58', 'isbn': '9781406321340', 'page_count': '567', 'rating_count': '321734', 'review_count': '29041', 'genres': 'Fantasy', 'year': '2013'}, {'id': '28186', 'name': 'The Sea of Monsters (Percy Jackson and the Olympians, #2)', 'book_url': '/book/show/28186.The_Sea_of_Monsters', 'author': 'Rick Riordan', 'author_url': 'https://www.goodreads.com/author/show/15872.Rick_Riordan', 'rating': '4.24', 'isbn': '9780786856862', 'page_count': '279', 'rating_count': '717600', 'review_count': '25902', 'genres': 'Fantasy', 'year': '2006'}, {'id': '561456', 'name': \"The Titan's Curse (Percy Jackson and the Olympians, #3)\", 'book_url': '/book/show/561456.The_Titan_s_Curse', 'author': 'Rick Riordan', 'author_url': 'https://www.goodreads.com/author/show/15872.Rick_Riordan', 'rating': '4.35', 'isbn': '9780141382890', 'page_count': '320', 'rating_count': '656592', 'review_count': '20147', 'genres': 'Fantasy', 'year': '2007'}, {'id': '7763', 'name': 'The Joy Luck Club', 'book_url': '/book/show/7763.The_Joy_Luck_Club', 'author': 'Amy Tan', 'author_url': 'https://www.goodreads.com/author/show/5246.Amy_Tan', 'rating': '3.93', 'isbn': '9780143038092', 'page_count': '288', 'rating_count': '590245', 'review_count': '9020', 'genres': 'Fiction', 'year': '2006'}, {'id': '13023', 'name': 'Alice in Wonderland', 'book_url': '/book/show/13023.Alice_in_Wonderland', 'author': 'Jane Carruth', 'author_url': 'https://www.goodreads.com/author/show/34933.Jane_Carruth', 'rating': '4.03', 'isbn': '9780517223628', 'page_count': '92', 'rating_count': '370083', 'review_count': '5348', 'genres': 'Classics', 'year': '2004'}, {'id': '1852', 'name': 'The Call of the Wild', 'book_url': '/book/show/1852.The_Call_of_the_Wild', 'author': 'Jack London', 'author_url': 'https://www.goodreads.com/author/show/1240.Jack_London', 'rating': '3.87', 'isbn': '9780439227148', 'page_count': '172', 'rating_count': '330276', 'review_count': '10706', 'genres': 'Classics', 'year': '2001'}, {'id': '71728', 'name': 'Jonathan Livingston Seagull', 'book_url': '/book/show/71728.Jonathan_Livingston_Seagull', 'author': 'Richard Bach', 'author_url': 'https://www.goodreads.com/author/show/16904.Richard_Bach', 'rating': '3.84', 'isbn': '9780743278904', 'page_count': '112', 'rating_count': '196608', 'review_count': '7693', 'genres': 'Fiction', 'year': '2006'}, {'id': '2175', 'name': 'Madame Bovary', 'book_url': '/book/show/2175.Madame_Bovary', 'author': 'Gustave Flaubert', 'author_url': 'https://www.goodreads.com/author/show/1461.Gustave_Flaubert', 'rating': '3.68', 'isbn': '9780192840394', 'page_count': '329', 'rating_count': '245171', 'review_count': '10267', 'genres': 'Classics', 'year': '2004'}, {'id': '378', 'name': 'The Phantom Tollbooth', 'book_url': '/book/show/378.The_Phantom_Tollbooth', 'author': 'Norton Juster', 'author_url': 'https://www.goodreads.com/author/show/214.Norton_Juster', 'rating': '4.21', 'isbn': '9780394820378', 'page_count': '256', 'rating_count': '230921', 'review_count': '10062', 'genres': 'Fantasy', 'year': '1996'}, {'id': '40940121', 'name': 'Bridge to Terabithia', 'book_url': '/book/show/40940121-bridge-to-terabithia', 'author': 'Katherine Paterson', 'author_url': 'https://www.goodreads.com/author/show/1949.Katherine_Paterson', 'rating': '4.01', 'isbn': 'null', 'page_count': '190', 'rating_count': '432477', 'review_count': '12133', 'genres': 'Young Adult', 'year': '2009'}, {'id': '191139', 'name': \"Oh, the Places You'll Go!\", 'book_url': '/book/show/191139.Oh_the_Places_You_ll_Go_', 'author': 'Dr. Seuss', 'author_url': 'https://www.goodreads.com/author/show/61105.Dr_Seuss', 'rating': '4.36', 'isbn': '9780679805274', 'page_count': '44', 'rating_count': '318637', 'review_count': '5158', 'genres': 'Childrens', 'year': '1990'}, {'id': '5060378', 'name': 'The Girl Who Played with Fire (Millennium, #2)', 'book_url': '/book/show/5060378-the-girl-who-played-with-fire', 'author': 'Stieg Larsson', 'author_url': 'https://www.goodreads.com/author/show/706255.Stieg_Larsson', 'rating': '4.24', 'isbn': '9780307269980', 'page_count': '503', 'rating_count': '793842', 'review_count': '33890', 'genres': 'Fiction', 'year': '2009'}, {'id': '7938275', 'name': 'The Hunger Games Trilogy Boxset (The Hunger Games, #1-3)', 'book_url': '/book/show/7938275-the-hunger-games-trilogy-boxset', 'author': 'Suzanne Collins', 'author_url': 'https://www.goodreads.com/author/show/153394.Suzanne_Collins', 'rating': '4.48', 'isbn': '9780545265355', 'page_count': '1155', 'rating_count': '185318', 'review_count': '6824', 'genres': 'Young Adult', 'year': '2010'}, {'id': '6186357', 'name': 'The Maze Runner (The Maze Runner, #1)', 'book_url': '/book/show/6186357-the-maze-runner', 'author': 'James Dashner', 'author_url': 'https://www.goodreads.com/author/show/348878.James_Dashner', 'rating': '4.02', 'isbn': '9780385737944', 'page_count': '384', 'rating_count': '1015303', 'review_count': '55201', 'genres': 'Young Adult', 'year': '2009'}, {'id': '18254', 'name': 'Oliver Twist', 'book_url': '/book/show/18254.Oliver_Twist', 'author': 'Charles Dickens', 'author_url': 'https://www.goodreads.com/author/show/239579.Charles_Dickens', 'rating': '3.87', 'isbn': 'null', 'page_count': '608', 'rating_count': '311169', 'review_count': '7281', 'genres': 'Classics', 'year': '2003'}, {'id': '338798', 'name': 'Ulysses', 'book_url': '/book/show/338798.Ulysses', 'author': 'James Joyce', 'author_url': 'https://www.goodreads.com/author/show/5144.James_Joyce', 'rating': '3.73', 'isbn': 'null', 'page_count': '783', 'rating_count': '107514', 'review_count': '6603', 'genres': 'Classics', 'year': '1990'}, {'id': '27712', 'name': 'The Neverending Story', 'book_url': '/book/show/27712.The_Neverending_Story', 'author': 'Michael Ende', 'author_url': 'https://www.goodreads.com/author/show/15619.Michael_Ende', 'rating': '4.18', 'isbn': '9780525457589', 'page_count': '396', 'rating_count': '157501', 'review_count': '6322', 'genres': 'Fantasy', 'year': '1997'}, {'id': '295', 'name': 'Treasure Island', 'book_url': '/book/show/295.Treasure_Island', 'author': 'Robert Louis Stevenson', 'author_url': 'https://www.goodreads.com/author/show/854076.Robert_Louis_Stevenson', 'rating': '3.83', 'isbn': '9780753453803', 'page_count': '311', 'rating_count': '390390', 'review_count': '11273', 'genres': 'Classics', 'year': '2001'}, {'id': '10818853', 'name': 'Fifty Shades of Grey (Fifty Shades, #1)', 'book_url': '/book/show/10818853-fifty-shades-of-grey', 'author': 'E.L. James', 'author_url': 'https://www.goodreads.com/author/show/4725841.E_L_James', 'rating': '3.66', 'isbn': '9781612130293', 'page_count': '356', 'rating_count': '1888641', 'review_count': '78245', 'genres': 'Romance', 'year': '2011'}, {'id': '40611463', 'name': 'The Clan of the Cave Bear', 'book_url': '/book/show/40611463-the-clan-of-the-cave-bear', 'author': 'Jean M. Auel', 'author_url': 'https://www.goodreads.com/author/show/861.Jean_M_Auel', 'rating': '4.05', 'isbn': 'null', 'page_count': '516', 'rating_count': '224386', 'review_count': '6443', 'genres': 'Historical', 'year': '2016'}, {'id': '2696', 'name': 'The Canterbury Tales', 'book_url': '/book/show/2696.The_Canterbury_Tales', 'author': 'Geoffrey Chaucer', 'author_url': 'https://www.goodreads.com/author/show/1838.Geoffrey_Chaucer', 'rating': '3.50', 'isbn': '9780140424386', 'page_count': '521', 'rating_count': '185463', 'review_count': '3240', 'genres': 'Classics', 'year': '2003'}, {'id': '62291', 'name': 'A Storm of Swords (A Song of Ice and Fire, #3)', 'book_url': '/book/show/62291.A_Storm_of_Swords', 'author': 'George R.R. Martin', 'author_url': 'https://www.goodreads.com/author/show/346732.George_R_R_Martin', 'rating': '4.54', 'isbn': '9780553573428', 'page_count': '1177', 'rating_count': '652128', 'review_count': '21961', 'genres': 'Fantasy', 'year': '2003'}, {'id': '7069', 'name': 'The World According to Garp', 'book_url': '/book/show/7069.The_World_According_to_Garp', 'author': 'John Irving', 'author_url': 'https://www.goodreads.com/author/show/3075.John_Irving', 'rating': '4.09', 'isbn': '9780345915597', 'page_count': '610', 'rating_count': '202030', 'review_count': '5377', 'genres': 'Fiction', 'year': '1999'}, {'id': '10799', 'name': 'A Farewell to Arms', 'book_url': '/book/show/10799.A_Farewell_to_Arms', 'author': 'Ernest Hemingway', 'author_url': 'https://www.goodreads.com/author/show/1455.Ernest_Hemingway', 'rating': '3.81', 'isbn': '9780099910107', 'page_count': '293', 'rating_count': '257878', 'review_count': '9403', 'genres': 'Classics', 'year': '2004'}, {'id': '58696', 'name': 'David Copperfield', 'book_url': '/book/show/58696.David_Copperfield', 'author': 'Charles Dickens', 'author_url': 'https://www.goodreads.com/author/show/239579.Charles_Dickens', 'rating': '3.99', 'isbn': 'null', 'page_count': '882', 'rating_count': '195378', 'review_count': '6323', 'genres': 'Classics', 'year': '2004'}, {'id': '29844228', 'name': 'Thirteen Reasons Why', 'book_url': '/book/show/29844228-thirteen-reasons-why', 'author': 'Jay Asher', 'author_url': 'https://www.goodreads.com/author/show/569269.Jay_Asher', 'rating': '3.93', 'isbn': '9781595147882', 'page_count': '352', 'rating_count': '754491', 'review_count': '51512', 'genres': 'Young Adult', 'year': '2016'}]\n"
     ]
    }
   ],
   "source": [
    "print(book_list)"
   ]
  },
  {
   "cell_type": "code",
   "execution_count": 65,
   "metadata": {},
   "outputs": [
    {
     "name": "stdout",
     "output_type": "stream",
     "text": [
      "200\n"
     ]
    }
   ],
   "source": [
    "print(len(book_list))"
   ]
  },
  {
   "cell_type": "code",
   "execution_count": 66,
   "metadata": {
    "ExecuteTime": {
     "end_time": "2020-07-09T21:50:57.227494Z",
     "start_time": "2020-07-09T21:50:57.164093Z"
    }
   },
   "outputs": [
    {
     "data": {
      "text/html": [
       "<div>\n",
       "<style scoped>\n",
       "    .dataframe tbody tr th:only-of-type {\n",
       "        vertical-align: middle;\n",
       "    }\n",
       "\n",
       "    .dataframe tbody tr th {\n",
       "        vertical-align: top;\n",
       "    }\n",
       "\n",
       "    .dataframe thead th {\n",
       "        text-align: right;\n",
       "    }\n",
       "</style>\n",
       "<table border=\"1\" class=\"dataframe\">\n",
       "  <thead>\n",
       "    <tr style=\"text-align: right;\">\n",
       "      <th></th>\n",
       "      <th>id</th>\n",
       "      <th>name</th>\n",
       "      <th>book_url</th>\n",
       "      <th>author</th>\n",
       "      <th>author_url</th>\n",
       "      <th>rating</th>\n",
       "      <th>isbn</th>\n",
       "      <th>page_count</th>\n",
       "      <th>rating_count</th>\n",
       "      <th>review_count</th>\n",
       "      <th>genres</th>\n",
       "      <th>year</th>\n",
       "    </tr>\n",
       "  </thead>\n",
       "  <tbody>\n",
       "    <tr>\n",
       "      <th>0</th>\n",
       "      <td>2767052</td>\n",
       "      <td>The Hunger Games (The Hunger Games, #1)</td>\n",
       "      <td>/book/show/2767052-the-hunger-games</td>\n",
       "      <td>Suzanne Collins</td>\n",
       "      <td>https://www.goodreads.com/author/show/153394.S...</td>\n",
       "      <td>4.33</td>\n",
       "      <td>9780439023481</td>\n",
       "      <td>374</td>\n",
       "      <td>6223460</td>\n",
       "      <td>169961</td>\n",
       "      <td>Young Adult</td>\n",
       "      <td>2008</td>\n",
       "    </tr>\n",
       "    <tr>\n",
       "      <th>1</th>\n",
       "      <td>2</td>\n",
       "      <td>Harry Potter and the Order of the Phoenix (Har...</td>\n",
       "      <td>/book/show/2.Harry_Potter_and_the_Order_of_the...</td>\n",
       "      <td>J.K. Rowling</td>\n",
       "      <td>https://www.goodreads.com/author/show/1077326....</td>\n",
       "      <td>4.50</td>\n",
       "      <td>9780439358071</td>\n",
       "      <td>870</td>\n",
       "      <td>2429708</td>\n",
       "      <td>40758</td>\n",
       "      <td>Fantasy</td>\n",
       "      <td>2004</td>\n",
       "    </tr>\n",
       "    <tr>\n",
       "      <th>2</th>\n",
       "      <td>2657</td>\n",
       "      <td>To Kill a Mockingbird</td>\n",
       "      <td>/book/show/2657.To_Kill_a_Mockingbird</td>\n",
       "      <td>Harper Lee</td>\n",
       "      <td>https://www.goodreads.com/author/show/1825.Har...</td>\n",
       "      <td>4.28</td>\n",
       "      <td>null</td>\n",
       "      <td>324</td>\n",
       "      <td>4377280</td>\n",
       "      <td>89241</td>\n",
       "      <td>Classics</td>\n",
       "      <td>2006</td>\n",
       "    </tr>\n",
       "    <tr>\n",
       "      <th>3</th>\n",
       "      <td>1885</td>\n",
       "      <td>Pride and Prejudice</td>\n",
       "      <td>/book/show/1885.Pride_and_Prejudice</td>\n",
       "      <td>Jane Austen</td>\n",
       "      <td>https://www.goodreads.com/author/show/1265.Jan...</td>\n",
       "      <td>4.26</td>\n",
       "      <td>null</td>\n",
       "      <td>279</td>\n",
       "      <td>2905431</td>\n",
       "      <td>64486</td>\n",
       "      <td>Classics</td>\n",
       "      <td>2000</td>\n",
       "    </tr>\n",
       "    <tr>\n",
       "      <th>4</th>\n",
       "      <td>41865</td>\n",
       "      <td>Twilight (Twilight, #1)</td>\n",
       "      <td>/book/show/41865.Twilight</td>\n",
       "      <td>Stephenie Meyer</td>\n",
       "      <td>https://www.goodreads.com/author/show/941441.S...</td>\n",
       "      <td>3.59</td>\n",
       "      <td>9780316015844</td>\n",
       "      <td>501</td>\n",
       "      <td>4839503</td>\n",
       "      <td>102492</td>\n",
       "      <td>Young Adult</td>\n",
       "      <td>2006</td>\n",
       "    </tr>\n",
       "  </tbody>\n",
       "</table>\n",
       "</div>"
      ],
      "text/plain": [
       "        id                                               name  \\\n",
       "0  2767052            The Hunger Games (The Hunger Games, #1)   \n",
       "1        2  Harry Potter and the Order of the Phoenix (Har...   \n",
       "2     2657                              To Kill a Mockingbird   \n",
       "3     1885                                Pride and Prejudice   \n",
       "4    41865                            Twilight (Twilight, #1)   \n",
       "\n",
       "                                            book_url           author  \\\n",
       "0                /book/show/2767052-the-hunger-games  Suzanne Collins   \n",
       "1  /book/show/2.Harry_Potter_and_the_Order_of_the...     J.K. Rowling   \n",
       "2              /book/show/2657.To_Kill_a_Mockingbird       Harper Lee   \n",
       "3                /book/show/1885.Pride_and_Prejudice      Jane Austen   \n",
       "4                          /book/show/41865.Twilight  Stephenie Meyer   \n",
       "\n",
       "                                          author_url rating           isbn  \\\n",
       "0  https://www.goodreads.com/author/show/153394.S...   4.33  9780439023481   \n",
       "1  https://www.goodreads.com/author/show/1077326....   4.50  9780439358071   \n",
       "2  https://www.goodreads.com/author/show/1825.Har...   4.28           null   \n",
       "3  https://www.goodreads.com/author/show/1265.Jan...   4.26           null   \n",
       "4  https://www.goodreads.com/author/show/941441.S...   3.59  9780316015844   \n",
       "\n",
       "  page_count rating_count review_count       genres  year  \n",
       "0        374      6223460       169961  Young Adult  2008  \n",
       "1        870      2429708        40758      Fantasy  2004  \n",
       "2        324      4377280        89241     Classics  2006  \n",
       "3        279      2905431        64486     Classics  2000  \n",
       "4        501      4839503       102492  Young Adult  2006  "
      ]
     },
     "execution_count": 66,
     "metadata": {},
     "output_type": "execute_result"
    }
   ],
   "source": [
    "df = pd.DataFrame(book_list)\n",
    "df.head()"
   ]
  },
  {
   "cell_type": "code",
   "execution_count": 67,
   "metadata": {},
   "outputs": [],
   "source": [
    "df.to_csv('books.csv')"
   ]
  },
  {
   "cell_type": "code",
   "execution_count": 3,
   "metadata": {},
   "outputs": [
    {
     "data": {
      "text/html": [
       "<div>\n",
       "<style scoped>\n",
       "    .dataframe tbody tr th:only-of-type {\n",
       "        vertical-align: middle;\n",
       "    }\n",
       "\n",
       "    .dataframe tbody tr th {\n",
       "        vertical-align: top;\n",
       "    }\n",
       "\n",
       "    .dataframe thead th {\n",
       "        text-align: right;\n",
       "    }\n",
       "</style>\n",
       "<table border=\"1\" class=\"dataframe\">\n",
       "  <thead>\n",
       "    <tr style=\"text-align: right;\">\n",
       "      <th></th>\n",
       "      <th>id</th>\n",
       "      <th>book_url</th>\n",
       "      <th>name</th>\n",
       "      <th>authour</th>\n",
       "      <th>author_url</th>\n",
       "      <th>score</th>\n",
       "      <th>isbn</th>\n",
       "      <th>rating</th>\n",
       "      <th>rating_count</th>\n",
       "      <th>review_count</th>\n",
       "      <th>page_count</th>\n",
       "      <th>year</th>\n",
       "      <th>genres</th>\n",
       "    </tr>\n",
       "  </thead>\n",
       "  <tbody>\n",
       "    <tr>\n",
       "      <th>0</th>\n",
       "      <td>2767052</td>\n",
       "      <td>/book/show/2767052-the-hunger-games</td>\n",
       "      <td>The Hunger Games (The Hunger Games, #1)</td>\n",
       "      <td>Suzanne Collins</td>\n",
       "      <td>https://www.goodreads.com/author/show/153394.S...</td>\n",
       "      <td>2959668</td>\n",
       "      <td>9.780439e+12</td>\n",
       "      <td>4.33</td>\n",
       "      <td>6223460</td>\n",
       "      <td>169961</td>\n",
       "      <td>374</td>\n",
       "      <td>2008</td>\n",
       "      <td>Young Adult</td>\n",
       "    </tr>\n",
       "    <tr>\n",
       "      <th>1</th>\n",
       "      <td>2</td>\n",
       "      <td>/book/show/2.Harry_Potter_and_the_Order_of_the...</td>\n",
       "      <td>Harry Potter and the Order of the Phoenix (Har...</td>\n",
       "      <td>J.K. Rowling</td>\n",
       "      <td>https://www.goodreads.com/author/show/1077326....</td>\n",
       "      <td>2603171</td>\n",
       "      <td>9.780439e+12</td>\n",
       "      <td>4.50</td>\n",
       "      <td>2429708</td>\n",
       "      <td>40758</td>\n",
       "      <td>870</td>\n",
       "      <td>2004</td>\n",
       "      <td>Fantasy</td>\n",
       "    </tr>\n",
       "    <tr>\n",
       "      <th>2</th>\n",
       "      <td>2657</td>\n",
       "      <td>/book/show/2657.To_Kill_a_Mockingbird</td>\n",
       "      <td>To Kill a Mockingbird</td>\n",
       "      <td>Harper Lee</td>\n",
       "      <td>https://www.goodreads.com/author/show/1825.Har...</td>\n",
       "      <td>2235010</td>\n",
       "      <td>NaN</td>\n",
       "      <td>4.28</td>\n",
       "      <td>4377280</td>\n",
       "      <td>89241</td>\n",
       "      <td>324</td>\n",
       "      <td>2006</td>\n",
       "      <td>Classics</td>\n",
       "    </tr>\n",
       "    <tr>\n",
       "      <th>3</th>\n",
       "      <td>1885</td>\n",
       "      <td>/book/show/1885.Pride_and_Prejudice</td>\n",
       "      <td>Pride and Prejudice</td>\n",
       "      <td>Jane Austen</td>\n",
       "      <td>https://www.goodreads.com/author/show/1265.Jan...</td>\n",
       "      <td>1942736</td>\n",
       "      <td>NaN</td>\n",
       "      <td>4.26</td>\n",
       "      <td>2905431</td>\n",
       "      <td>64486</td>\n",
       "      <td>279</td>\n",
       "      <td>2000</td>\n",
       "      <td>Classics</td>\n",
       "    </tr>\n",
       "    <tr>\n",
       "      <th>4</th>\n",
       "      <td>41865</td>\n",
       "      <td>/book/show/41865.Twilight</td>\n",
       "      <td>Twilight (Twilight, #1)</td>\n",
       "      <td>Stephenie Meyer</td>\n",
       "      <td>https://www.goodreads.com/author/show/941441.S...</td>\n",
       "      <td>1452846</td>\n",
       "      <td>9.780316e+12</td>\n",
       "      <td>3.59</td>\n",
       "      <td>4839503</td>\n",
       "      <td>102492</td>\n",
       "      <td>501</td>\n",
       "      <td>2006</td>\n",
       "      <td>Young Adult</td>\n",
       "    </tr>\n",
       "  </tbody>\n",
       "</table>\n",
       "</div>"
      ],
      "text/plain": [
       "        id                                           book_url  \\\n",
       "0  2767052                /book/show/2767052-the-hunger-games   \n",
       "1        2  /book/show/2.Harry_Potter_and_the_Order_of_the...   \n",
       "2     2657              /book/show/2657.To_Kill_a_Mockingbird   \n",
       "3     1885                /book/show/1885.Pride_and_Prejudice   \n",
       "4    41865                          /book/show/41865.Twilight   \n",
       "\n",
       "                                                name          authour  \\\n",
       "0            The Hunger Games (The Hunger Games, #1)  Suzanne Collins   \n",
       "1  Harry Potter and the Order of the Phoenix (Har...     J.K. Rowling   \n",
       "2                              To Kill a Mockingbird       Harper Lee   \n",
       "3                                Pride and Prejudice      Jane Austen   \n",
       "4                            Twilight (Twilight, #1)  Stephenie Meyer   \n",
       "\n",
       "                                          author_url    score          isbn  \\\n",
       "0  https://www.goodreads.com/author/show/153394.S...  2959668  9.780439e+12   \n",
       "1  https://www.goodreads.com/author/show/1077326....  2603171  9.780439e+12   \n",
       "2  https://www.goodreads.com/author/show/1825.Har...  2235010           NaN   \n",
       "3  https://www.goodreads.com/author/show/1265.Jan...  1942736           NaN   \n",
       "4  https://www.goodreads.com/author/show/941441.S...  1452846  9.780316e+12   \n",
       "\n",
       "   rating  rating_count  review_count  page_count  year       genres  \n",
       "0    4.33       6223460        169961         374  2008  Young Adult  \n",
       "1    4.50       2429708         40758         870  2004      Fantasy  \n",
       "2    4.28       4377280         89241         324  2006     Classics  \n",
       "3    4.26       2905431         64486         279  2000     Classics  \n",
       "4    3.59       4839503        102492         501  2006  Young Adult  "
      ]
     },
     "execution_count": 3,
     "metadata": {},
     "output_type": "execute_result"
    }
   ],
   "source": [
    "df = pd.read_csv('goodreads.csv')\n",
    "df.head()"
   ]
  },
  {
   "cell_type": "code",
   "execution_count": 4,
   "metadata": {},
   "outputs": [
    {
     "data": {
      "text/plain": [
       "Index(['id', 'book_url', 'name', 'authour', 'author_url', 'score', 'isbn',\n",
       "       'rating', 'rating_count', 'review_count', 'page_count', 'year',\n",
       "       'genres'],\n",
       "      dtype='object')"
      ]
     },
     "execution_count": 4,
     "metadata": {},
     "output_type": "execute_result"
    }
   ],
   "source": [
    "df.columns"
   ]
  },
  {
   "cell_type": "code",
   "execution_count": 6,
   "metadata": {},
   "outputs": [
    {
     "name": "stdout",
     "output_type": "stream",
     "text": [
      "<class 'pandas.core.frame.DataFrame'>\n",
      "RangeIndex: 200 entries, 0 to 199\n",
      "Data columns (total 13 columns):\n",
      " #   Column        Non-Null Count  Dtype  \n",
      "---  ------        --------------  -----  \n",
      " 0   id            200 non-null    int64  \n",
      " 1   book_url      200 non-null    object \n",
      " 2   name          200 non-null    object \n",
      " 3   authour       200 non-null    object \n",
      " 4   author_url    200 non-null    object \n",
      " 5   score         200 non-null    int64  \n",
      " 6   isbn          150 non-null    float64\n",
      " 7   rating        200 non-null    float64\n",
      " 8   rating_count  200 non-null    int64  \n",
      " 9   review_count  200 non-null    int64  \n",
      " 10  page_count    200 non-null    int64  \n",
      " 11  year          200 non-null    int64  \n",
      " 12  genres        200 non-null    object \n",
      "dtypes: float64(2), int64(6), object(5)\n",
      "memory usage: 20.4+ KB\n"
     ]
    }
   ],
   "source": [
    "df.info()"
   ]
  },
  {
   "cell_type": "code",
   "execution_count": 7,
   "metadata": {},
   "outputs": [
    {
     "name": "stdout",
     "output_type": "stream",
     "text": [
      "<class 'pandas.core.frame.DataFrame'>\n",
      "RangeIndex: 200 entries, 0 to 199\n",
      "Data columns (total 13 columns):\n",
      " #   Column        Non-Null Count  Dtype  \n",
      "---  ------        --------------  -----  \n",
      " 0   id            200 non-null    int64  \n",
      " 1   book_url      200 non-null    object \n",
      " 2   name          200 non-null    object \n",
      " 3   authour       200 non-null    object \n",
      " 4   author_url    200 non-null    object \n",
      " 5   score         200 non-null    int64  \n",
      " 6   isbn          150 non-null    float64\n",
      " 7   rating        200 non-null    float32\n",
      " 8   rating_count  200 non-null    int64  \n",
      " 9   review_count  200 non-null    float32\n",
      " 10  page_count    200 non-null    float32\n",
      " 11  year          200 non-null    int64  \n",
      " 12  genres        200 non-null    object \n",
      "dtypes: float32(3), float64(1), int64(4), object(5)\n",
      "memory usage: 18.1+ KB\n"
     ]
    }
   ],
   "source": [
    "df.rating = pd.to_numeric(df.rating, downcast=\"float\")\n",
    "df['page_count'] = pd.to_numeric(df.page_count, downcast=\"float\")\n",
    "df['review_count'] = pd.to_numeric(df.review_count, downcast=\"float\")\n",
    "\n",
    "df.info()"
   ]
  },
  {
   "cell_type": "code",
   "execution_count": 8,
   "metadata": {},
   "outputs": [
    {
     "data": {
      "text/html": [
       "<div>\n",
       "<style scoped>\n",
       "    .dataframe tbody tr th:only-of-type {\n",
       "        vertical-align: middle;\n",
       "    }\n",
       "\n",
       "    .dataframe tbody tr th {\n",
       "        vertical-align: top;\n",
       "    }\n",
       "\n",
       "    .dataframe thead th {\n",
       "        text-align: right;\n",
       "    }\n",
       "</style>\n",
       "<table border=\"1\" class=\"dataframe\">\n",
       "  <thead>\n",
       "    <tr style=\"text-align: right;\">\n",
       "      <th></th>\n",
       "      <th>id</th>\n",
       "      <th>score</th>\n",
       "      <th>isbn</th>\n",
       "      <th>rating</th>\n",
       "      <th>rating_count</th>\n",
       "      <th>review_count</th>\n",
       "      <th>page_count</th>\n",
       "      <th>year</th>\n",
       "    </tr>\n",
       "  </thead>\n",
       "  <tbody>\n",
       "    <tr>\n",
       "      <th>count</th>\n",
       "      <td>2.000000e+02</td>\n",
       "      <td>2.000000e+02</td>\n",
       "      <td>1.500000e+02</td>\n",
       "      <td>200.000000</td>\n",
       "      <td>2.000000e+02</td>\n",
       "      <td>200.000000</td>\n",
       "      <td>200.000000</td>\n",
       "      <td>200.000000</td>\n",
       "    </tr>\n",
       "    <tr>\n",
       "      <th>mean</th>\n",
       "      <td>4.031287e+06</td>\n",
       "      <td>3.704144e+05</td>\n",
       "      <td>9.780539e+12</td>\n",
       "      <td>4.112949</td>\n",
       "      <td>1.001351e+06</td>\n",
       "      <td>28013.625000</td>\n",
       "      <td>434.829987</td>\n",
       "      <td>2002.105000</td>\n",
       "    </tr>\n",
       "    <tr>\n",
       "      <th>std</th>\n",
       "      <td>1.050539e+07</td>\n",
       "      <td>4.211493e+05</td>\n",
       "      <td>4.640620e+08</td>\n",
       "      <td>0.237607</td>\n",
       "      <td>1.002018e+06</td>\n",
       "      <td>25818.275391</td>\n",
       "      <td>321.965790</td>\n",
       "      <td>9.026147</td>\n",
       "    </tr>\n",
       "    <tr>\n",
       "      <th>min</th>\n",
       "      <td>1.000000e+00</td>\n",
       "      <td>7.125500e+04</td>\n",
       "      <td>9.780001e+12</td>\n",
       "      <td>3.410000</td>\n",
       "      <td>8.387000e+03</td>\n",
       "      <td>131.000000</td>\n",
       "      <td>26.000000</td>\n",
       "      <td>1963.000000</td>\n",
       "    </tr>\n",
       "    <tr>\n",
       "      <th>25%</th>\n",
       "      <td>5.123500e+03</td>\n",
       "      <td>1.046262e+05</td>\n",
       "      <td>9.780143e+12</td>\n",
       "      <td>3.970000</td>\n",
       "      <td>3.484505e+05</td>\n",
       "      <td>10847.000000</td>\n",
       "      <td>238.500000</td>\n",
       "      <td>1999.750000</td>\n",
       "    </tr>\n",
       "    <tr>\n",
       "      <th>50%</th>\n",
       "      <td>2.424650e+04</td>\n",
       "      <td>2.029340e+05</td>\n",
       "      <td>9.780395e+12</td>\n",
       "      <td>4.120000</td>\n",
       "      <td>6.543600e+05</td>\n",
       "      <td>19901.000000</td>\n",
       "      <td>354.000000</td>\n",
       "      <td>2003.000000</td>\n",
       "    </tr>\n",
       "    <tr>\n",
       "      <th>75%</th>\n",
       "      <td>2.756655e+05</td>\n",
       "      <td>4.999625e+05</td>\n",
       "      <td>9.780680e+12</td>\n",
       "      <td>4.280000</td>\n",
       "      <td>1.299898e+06</td>\n",
       "      <td>36667.500000</td>\n",
       "      <td>507.750000</td>\n",
       "      <td>2006.000000</td>\n",
       "    </tr>\n",
       "    <tr>\n",
       "      <th>max</th>\n",
       "      <td>5.289286e+07</td>\n",
       "      <td>2.959668e+06</td>\n",
       "      <td>9.781939e+12</td>\n",
       "      <td>4.620000</td>\n",
       "      <td>6.808998e+06</td>\n",
       "      <td>169961.000000</td>\n",
       "      <td>2700.000000</td>\n",
       "      <td>2019.000000</td>\n",
       "    </tr>\n",
       "  </tbody>\n",
       "</table>\n",
       "</div>"
      ],
      "text/plain": [
       "                 id         score          isbn      rating  rating_count  \\\n",
       "count  2.000000e+02  2.000000e+02  1.500000e+02  200.000000  2.000000e+02   \n",
       "mean   4.031287e+06  3.704144e+05  9.780539e+12    4.112949  1.001351e+06   \n",
       "std    1.050539e+07  4.211493e+05  4.640620e+08    0.237607  1.002018e+06   \n",
       "min    1.000000e+00  7.125500e+04  9.780001e+12    3.410000  8.387000e+03   \n",
       "25%    5.123500e+03  1.046262e+05  9.780143e+12    3.970000  3.484505e+05   \n",
       "50%    2.424650e+04  2.029340e+05  9.780395e+12    4.120000  6.543600e+05   \n",
       "75%    2.756655e+05  4.999625e+05  9.780680e+12    4.280000  1.299898e+06   \n",
       "max    5.289286e+07  2.959668e+06  9.781939e+12    4.620000  6.808998e+06   \n",
       "\n",
       "        review_count   page_count         year  \n",
       "count     200.000000   200.000000   200.000000  \n",
       "mean    28013.625000   434.829987  2002.105000  \n",
       "std     25818.275391   321.965790     9.026147  \n",
       "min       131.000000    26.000000  1963.000000  \n",
       "25%     10847.000000   238.500000  1999.750000  \n",
       "50%     19901.000000   354.000000  2003.000000  \n",
       "75%     36667.500000   507.750000  2006.000000  \n",
       "max    169961.000000  2700.000000  2019.000000  "
      ]
     },
     "execution_count": 8,
     "metadata": {},
     "output_type": "execute_result"
    }
   ],
   "source": [
    "df.describe()"
   ]
  },
  {
   "cell_type": "code",
   "execution_count": 9,
   "metadata": {},
   "outputs": [
    {
     "data": {
      "text/html": [
       "<div>\n",
       "<style scoped>\n",
       "    .dataframe tbody tr th:only-of-type {\n",
       "        vertical-align: middle;\n",
       "    }\n",
       "\n",
       "    .dataframe tbody tr th {\n",
       "        vertical-align: top;\n",
       "    }\n",
       "\n",
       "    .dataframe thead th {\n",
       "        text-align: right;\n",
       "    }\n",
       "</style>\n",
       "<table border=\"1\" class=\"dataframe\">\n",
       "  <thead>\n",
       "    <tr style=\"text-align: right;\">\n",
       "      <th></th>\n",
       "      <th>id</th>\n",
       "      <th>score</th>\n",
       "      <th>isbn</th>\n",
       "      <th>rating</th>\n",
       "      <th>rating_count</th>\n",
       "      <th>review_count</th>\n",
       "      <th>page_count</th>\n",
       "      <th>year</th>\n",
       "    </tr>\n",
       "  </thead>\n",
       "  <tbody>\n",
       "    <tr>\n",
       "      <th>id</th>\n",
       "      <td>1.000000</td>\n",
       "      <td>-0.076601</td>\n",
       "      <td>0.096904</td>\n",
       "      <td>-0.016970</td>\n",
       "      <td>-0.013559</td>\n",
       "      <td>0.047857</td>\n",
       "      <td>-0.038415</td>\n",
       "      <td>0.338977</td>\n",
       "    </tr>\n",
       "    <tr>\n",
       "      <th>score</th>\n",
       "      <td>-0.076601</td>\n",
       "      <td>1.000000</td>\n",
       "      <td>-0.099670</td>\n",
       "      <td>0.109397</td>\n",
       "      <td>0.622468</td>\n",
       "      <td>0.573177</td>\n",
       "      <td>0.039994</td>\n",
       "      <td>0.044305</td>\n",
       "    </tr>\n",
       "    <tr>\n",
       "      <th>isbn</th>\n",
       "      <td>0.096904</td>\n",
       "      <td>-0.099670</td>\n",
       "      <td>1.000000</td>\n",
       "      <td>0.085013</td>\n",
       "      <td>-0.039768</td>\n",
       "      <td>0.083477</td>\n",
       "      <td>-0.086251</td>\n",
       "      <td>0.210887</td>\n",
       "    </tr>\n",
       "    <tr>\n",
       "      <th>rating</th>\n",
       "      <td>-0.016970</td>\n",
       "      <td>0.109397</td>\n",
       "      <td>0.085013</td>\n",
       "      <td>1.000000</td>\n",
       "      <td>0.087650</td>\n",
       "      <td>0.082382</td>\n",
       "      <td>0.227917</td>\n",
       "      <td>0.022067</td>\n",
       "    </tr>\n",
       "    <tr>\n",
       "      <th>rating_count</th>\n",
       "      <td>-0.013559</td>\n",
       "      <td>0.622468</td>\n",
       "      <td>-0.039768</td>\n",
       "      <td>0.087650</td>\n",
       "      <td>1.000000</td>\n",
       "      <td>0.842627</td>\n",
       "      <td>-0.107594</td>\n",
       "      <td>0.165164</td>\n",
       "    </tr>\n",
       "    <tr>\n",
       "      <th>review_count</th>\n",
       "      <td>0.047857</td>\n",
       "      <td>0.573177</td>\n",
       "      <td>0.083477</td>\n",
       "      <td>0.082382</td>\n",
       "      <td>0.842627</td>\n",
       "      <td>1.000000</td>\n",
       "      <td>-0.083076</td>\n",
       "      <td>0.264214</td>\n",
       "    </tr>\n",
       "    <tr>\n",
       "      <th>page_count</th>\n",
       "      <td>-0.038415</td>\n",
       "      <td>0.039994</td>\n",
       "      <td>-0.086251</td>\n",
       "      <td>0.227917</td>\n",
       "      <td>-0.107594</td>\n",
       "      <td>-0.083076</td>\n",
       "      <td>1.000000</td>\n",
       "      <td>0.043524</td>\n",
       "    </tr>\n",
       "    <tr>\n",
       "      <th>year</th>\n",
       "      <td>0.338977</td>\n",
       "      <td>0.044305</td>\n",
       "      <td>0.210887</td>\n",
       "      <td>0.022067</td>\n",
       "      <td>0.165164</td>\n",
       "      <td>0.264214</td>\n",
       "      <td>0.043524</td>\n",
       "      <td>1.000000</td>\n",
       "    </tr>\n",
       "  </tbody>\n",
       "</table>\n",
       "</div>"
      ],
      "text/plain": [
       "                    id     score      isbn    rating  rating_count  \\\n",
       "id            1.000000 -0.076601  0.096904 -0.016970     -0.013559   \n",
       "score        -0.076601  1.000000 -0.099670  0.109397      0.622468   \n",
       "isbn          0.096904 -0.099670  1.000000  0.085013     -0.039768   \n",
       "rating       -0.016970  0.109397  0.085013  1.000000      0.087650   \n",
       "rating_count -0.013559  0.622468 -0.039768  0.087650      1.000000   \n",
       "review_count  0.047857  0.573177  0.083477  0.082382      0.842627   \n",
       "page_count   -0.038415  0.039994 -0.086251  0.227917     -0.107594   \n",
       "year          0.338977  0.044305  0.210887  0.022067      0.165164   \n",
       "\n",
       "              review_count  page_count      year  \n",
       "id                0.047857   -0.038415  0.338977  \n",
       "score             0.573177    0.039994  0.044305  \n",
       "isbn              0.083477   -0.086251  0.210887  \n",
       "rating            0.082382    0.227917  0.022067  \n",
       "rating_count      0.842627   -0.107594  0.165164  \n",
       "review_count      1.000000   -0.083076  0.264214  \n",
       "page_count       -0.083076    1.000000  0.043524  \n",
       "year              0.264214    0.043524  1.000000  "
      ]
     },
     "execution_count": 9,
     "metadata": {},
     "output_type": "execute_result"
    }
   ],
   "source": [
    "df_corr = df.corr()\n",
    "df_corr"
   ]
  },
  {
   "cell_type": "code",
   "execution_count": 10,
   "metadata": {},
   "outputs": [
    {
     "data": {
      "text/plain": [
       "<matplotlib.axes._subplots.AxesSubplot at 0x7fc156d11a10>"
      ]
     },
     "execution_count": 10,
     "metadata": {},
     "output_type": "execute_result"
    },
    {
     "data": {
      "image/png": "[encoded data removed]",
      "text/plain": [
       "<Figure size 432x288 with 2 Axes>"
      ]
     },
     "metadata": {
      "needs_background": "light"
     },
     "output_type": "display_data"
    }
   ],
   "source": [
    "import seaborn as sns\n",
    "sns.heatmap(df_corr, linecolor=\"black\", annot=True,square = True)"
   ]
  },
  {
   "cell_type": "code",
   "execution_count": 12,
   "metadata": {},
   "outputs": [
    {
     "data": {
      "text/plain": [
       "154"
      ]
     },
     "execution_count": 12,
     "metadata": {},
     "output_type": "execute_result"
    }
   ],
   "source": [
    "df.authour.nunique()"
   ]
  },
  {
   "cell_type": "code",
   "execution_count": 14,
   "metadata": {},
   "outputs": [
    {
     "data": {
      "text/html": [
       "<div>\n",
       "<style scoped>\n",
       "    .dataframe tbody tr th:only-of-type {\n",
       "        vertical-align: middle;\n",
       "    }\n",
       "\n",
       "    .dataframe tbody tr th {\n",
       "        vertical-align: top;\n",
       "    }\n",
       "\n",
       "    .dataframe thead th {\n",
       "        text-align: right;\n",
       "    }\n",
       "</style>\n",
       "<table border=\"1\" class=\"dataframe\">\n",
       "  <thead>\n",
       "    <tr style=\"text-align: right;\">\n",
       "      <th></th>\n",
       "      <th>id</th>\n",
       "      <th>book_url</th>\n",
       "      <th>name</th>\n",
       "      <th>author_url</th>\n",
       "      <th>score</th>\n",
       "      <th>isbn</th>\n",
       "      <th>rating</th>\n",
       "      <th>rating_count</th>\n",
       "      <th>review_count</th>\n",
       "      <th>page_count</th>\n",
       "      <th>year</th>\n",
       "      <th>genres</th>\n",
       "    </tr>\n",
       "    <tr>\n",
       "      <th>authour</th>\n",
       "      <th></th>\n",
       "      <th></th>\n",
       "      <th></th>\n",
       "      <th></th>\n",
       "      <th></th>\n",
       "      <th></th>\n",
       "      <th></th>\n",
       "      <th></th>\n",
       "      <th></th>\n",
       "      <th></th>\n",
       "      <th></th>\n",
       "      <th></th>\n",
       "    </tr>\n",
       "  </thead>\n",
       "  <tbody>\n",
       "    <tr>\n",
       "      <th>J.K. Rowling</th>\n",
       "      <td>7</td>\n",
       "      <td>7</td>\n",
       "      <td>7</td>\n",
       "      <td>7</td>\n",
       "      <td>7</td>\n",
       "      <td>4</td>\n",
       "      <td>7</td>\n",
       "      <td>7</td>\n",
       "      <td>7</td>\n",
       "      <td>7</td>\n",
       "      <td>7</td>\n",
       "      <td>7</td>\n",
       "    </tr>\n",
       "    <tr>\n",
       "      <th>Rick Riordan</th>\n",
       "      <td>5</td>\n",
       "      <td>5</td>\n",
       "      <td>5</td>\n",
       "      <td>5</td>\n",
       "      <td>5</td>\n",
       "      <td>4</td>\n",
       "      <td>5</td>\n",
       "      <td>5</td>\n",
       "      <td>5</td>\n",
       "      <td>5</td>\n",
       "      <td>5</td>\n",
       "      <td>5</td>\n",
       "    </tr>\n",
       "    <tr>\n",
       "      <th>Dr. Seuss</th>\n",
       "      <td>5</td>\n",
       "      <td>5</td>\n",
       "      <td>5</td>\n",
       "      <td>5</td>\n",
       "      <td>5</td>\n",
       "      <td>5</td>\n",
       "      <td>5</td>\n",
       "      <td>5</td>\n",
       "      <td>5</td>\n",
       "      <td>5</td>\n",
       "      <td>5</td>\n",
       "      <td>5</td>\n",
       "    </tr>\n",
       "    <tr>\n",
       "      <th>Richelle Mead</th>\n",
       "      <td>4</td>\n",
       "      <td>4</td>\n",
       "      <td>4</td>\n",
       "      <td>4</td>\n",
       "      <td>4</td>\n",
       "      <td>3</td>\n",
       "      <td>4</td>\n",
       "      <td>4</td>\n",
       "      <td>4</td>\n",
       "      <td>4</td>\n",
       "      <td>4</td>\n",
       "      <td>4</td>\n",
       "    </tr>\n",
       "    <tr>\n",
       "      <th>Charles Dickens</th>\n",
       "      <td>4</td>\n",
       "      <td>4</td>\n",
       "      <td>4</td>\n",
       "      <td>4</td>\n",
       "      <td>4</td>\n",
       "      <td>2</td>\n",
       "      <td>4</td>\n",
       "      <td>4</td>\n",
       "      <td>4</td>\n",
       "      <td>4</td>\n",
       "      <td>4</td>\n",
       "      <td>4</td>\n",
       "    </tr>\n",
       "    <tr>\n",
       "      <th>...</th>\n",
       "      <td>...</td>\n",
       "      <td>...</td>\n",
       "      <td>...</td>\n",
       "      <td>...</td>\n",
       "      <td>...</td>\n",
       "      <td>...</td>\n",
       "      <td>...</td>\n",
       "      <td>...</td>\n",
       "      <td>...</td>\n",
       "      <td>...</td>\n",
       "      <td>...</td>\n",
       "      <td>...</td>\n",
       "    </tr>\n",
       "    <tr>\n",
       "      <th>Frank Herbert</th>\n",
       "      <td>1</td>\n",
       "      <td>1</td>\n",
       "      <td>1</td>\n",
       "      <td>1</td>\n",
       "      <td>1</td>\n",
       "      <td>1</td>\n",
       "      <td>1</td>\n",
       "      <td>1</td>\n",
       "      <td>1</td>\n",
       "      <td>1</td>\n",
       "      <td>1</td>\n",
       "      <td>1</td>\n",
       "    </tr>\n",
       "    <tr>\n",
       "      <th>Frances Hodgson Burnett</th>\n",
       "      <td>1</td>\n",
       "      <td>1</td>\n",
       "      <td>1</td>\n",
       "      <td>1</td>\n",
       "      <td>1</td>\n",
       "      <td>1</td>\n",
       "      <td>1</td>\n",
       "      <td>1</td>\n",
       "      <td>1</td>\n",
       "      <td>1</td>\n",
       "      <td>1</td>\n",
       "      <td>1</td>\n",
       "    </tr>\n",
       "    <tr>\n",
       "      <th>F. Scott Fitzgerald</th>\n",
       "      <td>1</td>\n",
       "      <td>1</td>\n",
       "      <td>1</td>\n",
       "      <td>1</td>\n",
       "      <td>1</td>\n",
       "      <td>0</td>\n",
       "      <td>1</td>\n",
       "      <td>1</td>\n",
       "      <td>1</td>\n",
       "      <td>1</td>\n",
       "      <td>1</td>\n",
       "      <td>1</td>\n",
       "    </tr>\n",
       "    <tr>\n",
       "      <th>Erich Maria Remarque</th>\n",
       "      <td>1</td>\n",
       "      <td>1</td>\n",
       "      <td>1</td>\n",
       "      <td>1</td>\n",
       "      <td>1</td>\n",
       "      <td>1</td>\n",
       "      <td>1</td>\n",
       "      <td>1</td>\n",
       "      <td>1</td>\n",
       "      <td>1</td>\n",
       "      <td>1</td>\n",
       "      <td>1</td>\n",
       "    </tr>\n",
       "    <tr>\n",
       "      <th>Zora Neale Hurston</th>\n",
       "      <td>1</td>\n",
       "      <td>1</td>\n",
       "      <td>1</td>\n",
       "      <td>1</td>\n",
       "      <td>1</td>\n",
       "      <td>1</td>\n",
       "      <td>1</td>\n",
       "      <td>1</td>\n",
       "      <td>1</td>\n",
       "      <td>1</td>\n",
       "      <td>1</td>\n",
       "      <td>1</td>\n",
       "    </tr>\n",
       "  </tbody>\n",
       "</table>\n",
       "<p>154 rows × 12 columns</p>\n",
       "</div>"
      ],
      "text/plain": [
       "                         id  book_url  name  author_url  score  isbn  rating  \\\n",
       "authour                                                                        \n",
       "J.K. Rowling              7         7     7           7      7     4       7   \n",
       "Rick Riordan              5         5     5           5      5     4       5   \n",
       "Dr. Seuss                 5         5     5           5      5     5       5   \n",
       "Richelle Mead             4         4     4           4      4     3       4   \n",
       "Charles Dickens           4         4     4           4      4     2       4   \n",
       "...                      ..       ...   ...         ...    ...   ...     ...   \n",
       "Frank Herbert             1         1     1           1      1     1       1   \n",
       "Frances Hodgson Burnett   1         1     1           1      1     1       1   \n",
       "F. Scott Fitzgerald       1         1     1           1      1     0       1   \n",
       "Erich Maria Remarque      1         1     1           1      1     1       1   \n",
       "Zora Neale Hurston        1         1     1           1      1     1       1   \n",
       "\n",
       "                         rating_count  review_count  page_count  year  genres  \n",
       "authour                                                                        \n",
       "J.K. Rowling                        7             7           7     7       7  \n",
       "Rick Riordan                        5             5           5     5       5  \n",
       "Dr. Seuss                           5             5           5     5       5  \n",
       "Richelle Mead                       4             4           4     4       4  \n",
       "Charles Dickens                     4             4           4     4       4  \n",
       "...                               ...           ...         ...   ...     ...  \n",
       "Frank Herbert                       1             1           1     1       1  \n",
       "Frances Hodgson Burnett             1             1           1     1       1  \n",
       "F. Scott Fitzgerald                 1             1           1     1       1  \n",
       "Erich Maria Remarque                1             1           1     1       1  \n",
       "Zora Neale Hurston                  1             1           1     1       1  \n",
       "\n",
       "[154 rows x 12 columns]"
      ]
     },
     "execution_count": 14,
     "metadata": {},
     "output_type": "execute_result"
    }
   ],
   "source": [
    "df_author = df.groupby('authour').count()\n",
    "df_author.sort_values('name', ascending = False)"
   ]
  },
  {
   "cell_type": "code",
   "execution_count": 15,
   "metadata": {},
   "outputs": [
    {
     "data": {
      "text/html": [
       "<div>\n",
       "<style scoped>\n",
       "    .dataframe tbody tr th:only-of-type {\n",
       "        vertical-align: middle;\n",
       "    }\n",
       "\n",
       "    .dataframe tbody tr th {\n",
       "        vertical-align: top;\n",
       "    }\n",
       "\n",
       "    .dataframe thead th {\n",
       "        text-align: right;\n",
       "    }\n",
       "</style>\n",
       "<table border=\"1\" class=\"dataframe\">\n",
       "  <thead>\n",
       "    <tr style=\"text-align: right;\">\n",
       "      <th></th>\n",
       "      <th>id</th>\n",
       "      <th>book_url</th>\n",
       "      <th>name</th>\n",
       "      <th>authour</th>\n",
       "      <th>author_url</th>\n",
       "      <th>score</th>\n",
       "      <th>isbn</th>\n",
       "      <th>rating</th>\n",
       "      <th>rating_count</th>\n",
       "      <th>review_count</th>\n",
       "      <th>page_count</th>\n",
       "      <th>year</th>\n",
       "      <th>genres</th>\n",
       "      <th>YearRange</th>\n",
       "    </tr>\n",
       "  </thead>\n",
       "  <tbody>\n",
       "    <tr>\n",
       "      <th>0</th>\n",
       "      <td>2767052</td>\n",
       "      <td>/book/show/2767052-the-hunger-games</td>\n",
       "      <td>The Hunger Games (The Hunger Games, #1)</td>\n",
       "      <td>Suzanne Collins</td>\n",
       "      <td>https://www.goodreads.com/author/show/153394.S...</td>\n",
       "      <td>2959668</td>\n",
       "      <td>9.780439e+12</td>\n",
       "      <td>4.33</td>\n",
       "      <td>6223460</td>\n",
       "      <td>169961.0</td>\n",
       "      <td>374.0</td>\n",
       "      <td>2008</td>\n",
       "      <td>Young Adult</td>\n",
       "      <td>2000-2010</td>\n",
       "    </tr>\n",
       "    <tr>\n",
       "      <th>1</th>\n",
       "      <td>2</td>\n",
       "      <td>/book/show/2.Harry_Potter_and_the_Order_of_the...</td>\n",
       "      <td>Harry Potter and the Order of the Phoenix (Har...</td>\n",
       "      <td>J.K. Rowling</td>\n",
       "      <td>https://www.goodreads.com/author/show/1077326....</td>\n",
       "      <td>2603171</td>\n",
       "      <td>9.780439e+12</td>\n",
       "      <td>4.50</td>\n",
       "      <td>2429708</td>\n",
       "      <td>40758.0</td>\n",
       "      <td>870.0</td>\n",
       "      <td>2004</td>\n",
       "      <td>Fantasy</td>\n",
       "      <td>2000-2010</td>\n",
       "    </tr>\n",
       "    <tr>\n",
       "      <th>2</th>\n",
       "      <td>2657</td>\n",
       "      <td>/book/show/2657.To_Kill_a_Mockingbird</td>\n",
       "      <td>To Kill a Mockingbird</td>\n",
       "      <td>Harper Lee</td>\n",
       "      <td>https://www.goodreads.com/author/show/1825.Har...</td>\n",
       "      <td>2235010</td>\n",
       "      <td>NaN</td>\n",
       "      <td>4.28</td>\n",
       "      <td>4377280</td>\n",
       "      <td>89241.0</td>\n",
       "      <td>324.0</td>\n",
       "      <td>2006</td>\n",
       "      <td>Classics</td>\n",
       "      <td>2000-2010</td>\n",
       "    </tr>\n",
       "    <tr>\n",
       "      <th>3</th>\n",
       "      <td>1885</td>\n",
       "      <td>/book/show/1885.Pride_and_Prejudice</td>\n",
       "      <td>Pride and Prejudice</td>\n",
       "      <td>Jane Austen</td>\n",
       "      <td>https://www.goodreads.com/author/show/1265.Jan...</td>\n",
       "      <td>1942736</td>\n",
       "      <td>NaN</td>\n",
       "      <td>4.26</td>\n",
       "      <td>2905431</td>\n",
       "      <td>64486.0</td>\n",
       "      <td>279.0</td>\n",
       "      <td>2000</td>\n",
       "      <td>Classics</td>\n",
       "      <td>1990-2000</td>\n",
       "    </tr>\n",
       "    <tr>\n",
       "      <th>4</th>\n",
       "      <td>41865</td>\n",
       "      <td>/book/show/41865.Twilight</td>\n",
       "      <td>Twilight (Twilight, #1)</td>\n",
       "      <td>Stephenie Meyer</td>\n",
       "      <td>https://www.goodreads.com/author/show/941441.S...</td>\n",
       "      <td>1452846</td>\n",
       "      <td>9.780316e+12</td>\n",
       "      <td>3.59</td>\n",
       "      <td>4839503</td>\n",
       "      <td>102492.0</td>\n",
       "      <td>501.0</td>\n",
       "      <td>2006</td>\n",
       "      <td>Young Adult</td>\n",
       "      <td>2000-2010</td>\n",
       "    </tr>\n",
       "  </tbody>\n",
       "</table>\n",
       "</div>"
      ],
      "text/plain": [
       "        id                                           book_url  \\\n",
       "0  2767052                /book/show/2767052-the-hunger-games   \n",
       "1        2  /book/show/2.Harry_Potter_and_the_Order_of_the...   \n",
       "2     2657              /book/show/2657.To_Kill_a_Mockingbird   \n",
       "3     1885                /book/show/1885.Pride_and_Prejudice   \n",
       "4    41865                          /book/show/41865.Twilight   \n",
       "\n",
       "                                                name          authour  \\\n",
       "0            The Hunger Games (The Hunger Games, #1)  Suzanne Collins   \n",
       "1  Harry Potter and the Order of the Phoenix (Har...     J.K. Rowling   \n",
       "2                              To Kill a Mockingbird       Harper Lee   \n",
       "3                                Pride and Prejudice      Jane Austen   \n",
       "4                            Twilight (Twilight, #1)  Stephenie Meyer   \n",
       "\n",
       "                                          author_url    score          isbn  \\\n",
       "0  https://www.goodreads.com/author/show/153394.S...  2959668  9.780439e+12   \n",
       "1  https://www.goodreads.com/author/show/1077326....  2603171  9.780439e+12   \n",
       "2  https://www.goodreads.com/author/show/1825.Har...  2235010           NaN   \n",
       "3  https://www.goodreads.com/author/show/1265.Jan...  1942736           NaN   \n",
       "4  https://www.goodreads.com/author/show/941441.S...  1452846  9.780316e+12   \n",
       "\n",
       "   rating  rating_count  review_count  page_count  year       genres  \\\n",
       "0    4.33       6223460      169961.0       374.0  2008  Young Adult   \n",
       "1    4.50       2429708       40758.0       870.0  2004      Fantasy   \n",
       "2    4.28       4377280       89241.0       324.0  2006     Classics   \n",
       "3    4.26       2905431       64486.0       279.0  2000     Classics   \n",
       "4    3.59       4839503      102492.0       501.0  2006  Young Adult   \n",
       "\n",
       "   YearRange  \n",
       "0  2000-2010  \n",
       "1  2000-2010  \n",
       "2  2000-2010  \n",
       "3  1990-2000  \n",
       "4  2000-2010  "
      ]
     },
     "execution_count": 15,
     "metadata": {},
     "output_type": "execute_result"
    }
   ],
   "source": [
    "bins = [1000,1970, 1980, 1990, 2000, 2010, np.inf]\n",
    "names = ['<1970', '1970-1980', '1980-1990', '1990-2000', '2000-2010','2010>']\n",
    "\n",
    "df['YearRange'] = pd.cut(df['year'], bins, labels=names)\n",
    "df.head()"
   ]
  },
  {
   "cell_type": "code",
   "execution_count": 16,
   "metadata": {},
   "outputs": [
    {
     "data": {
      "text/html": [
       "<div>\n",
       "<style scoped>\n",
       "    .dataframe tbody tr th:only-of-type {\n",
       "        vertical-align: middle;\n",
       "    }\n",
       "\n",
       "    .dataframe tbody tr th {\n",
       "        vertical-align: top;\n",
       "    }\n",
       "\n",
       "    .dataframe thead th {\n",
       "        text-align: right;\n",
       "    }\n",
       "</style>\n",
       "<table border=\"1\" class=\"dataframe\">\n",
       "  <thead>\n",
       "    <tr style=\"text-align: right;\">\n",
       "      <th></th>\n",
       "      <th>id</th>\n",
       "      <th>book_url</th>\n",
       "      <th>name</th>\n",
       "      <th>authour</th>\n",
       "      <th>author_url</th>\n",
       "      <th>score</th>\n",
       "      <th>isbn</th>\n",
       "      <th>rating</th>\n",
       "      <th>rating_count</th>\n",
       "      <th>review_count</th>\n",
       "      <th>page_count</th>\n",
       "      <th>year</th>\n",
       "      <th>genres</th>\n",
       "    </tr>\n",
       "    <tr>\n",
       "      <th>YearRange</th>\n",
       "      <th></th>\n",
       "      <th></th>\n",
       "      <th></th>\n",
       "      <th></th>\n",
       "      <th></th>\n",
       "      <th></th>\n",
       "      <th></th>\n",
       "      <th></th>\n",
       "      <th></th>\n",
       "      <th></th>\n",
       "      <th></th>\n",
       "      <th></th>\n",
       "      <th></th>\n",
       "    </tr>\n",
       "  </thead>\n",
       "  <tbody>\n",
       "    <tr>\n",
       "      <th>2000-2010</th>\n",
       "      <td>119</td>\n",
       "      <td>119</td>\n",
       "      <td>119</td>\n",
       "      <td>119</td>\n",
       "      <td>119</td>\n",
       "      <td>119</td>\n",
       "      <td>91</td>\n",
       "      <td>119</td>\n",
       "      <td>119</td>\n",
       "      <td>119</td>\n",
       "      <td>119</td>\n",
       "      <td>119</td>\n",
       "      <td>119</td>\n",
       "    </tr>\n",
       "    <tr>\n",
       "      <th>1990-2000</th>\n",
       "      <td>38</td>\n",
       "      <td>38</td>\n",
       "      <td>38</td>\n",
       "      <td>38</td>\n",
       "      <td>38</td>\n",
       "      <td>38</td>\n",
       "      <td>29</td>\n",
       "      <td>38</td>\n",
       "      <td>38</td>\n",
       "      <td>38</td>\n",
       "      <td>38</td>\n",
       "      <td>38</td>\n",
       "      <td>38</td>\n",
       "    </tr>\n",
       "    <tr>\n",
       "      <th>2010&gt;</th>\n",
       "      <td>22</td>\n",
       "      <td>22</td>\n",
       "      <td>22</td>\n",
       "      <td>22</td>\n",
       "      <td>22</td>\n",
       "      <td>22</td>\n",
       "      <td>16</td>\n",
       "      <td>22</td>\n",
       "      <td>22</td>\n",
       "      <td>22</td>\n",
       "      <td>22</td>\n",
       "      <td>22</td>\n",
       "      <td>22</td>\n",
       "    </tr>\n",
       "    <tr>\n",
       "      <th>1980-1990</th>\n",
       "      <td>14</td>\n",
       "      <td>14</td>\n",
       "      <td>14</td>\n",
       "      <td>14</td>\n",
       "      <td>14</td>\n",
       "      <td>14</td>\n",
       "      <td>10</td>\n",
       "      <td>14</td>\n",
       "      <td>14</td>\n",
       "      <td>14</td>\n",
       "      <td>14</td>\n",
       "      <td>14</td>\n",
       "      <td>14</td>\n",
       "    </tr>\n",
       "    <tr>\n",
       "      <th>1970-1980</th>\n",
       "      <td>4</td>\n",
       "      <td>4</td>\n",
       "      <td>4</td>\n",
       "      <td>4</td>\n",
       "      <td>4</td>\n",
       "      <td>4</td>\n",
       "      <td>3</td>\n",
       "      <td>4</td>\n",
       "      <td>4</td>\n",
       "      <td>4</td>\n",
       "      <td>4</td>\n",
       "      <td>4</td>\n",
       "      <td>4</td>\n",
       "    </tr>\n",
       "    <tr>\n",
       "      <th>&lt;1970</th>\n",
       "      <td>3</td>\n",
       "      <td>3</td>\n",
       "      <td>3</td>\n",
       "      <td>3</td>\n",
       "      <td>3</td>\n",
       "      <td>3</td>\n",
       "      <td>1</td>\n",
       "      <td>3</td>\n",
       "      <td>3</td>\n",
       "      <td>3</td>\n",
       "      <td>3</td>\n",
       "      <td>3</td>\n",
       "      <td>3</td>\n",
       "    </tr>\n",
       "  </tbody>\n",
       "</table>\n",
       "</div>"
      ],
      "text/plain": [
       "            id  book_url  name  authour  author_url  score  isbn  rating  \\\n",
       "YearRange                                                                  \n",
       "2000-2010  119       119   119      119         119    119    91     119   \n",
       "1990-2000   38        38    38       38          38     38    29      38   \n",
       "2010>       22        22    22       22          22     22    16      22   \n",
       "1980-1990   14        14    14       14          14     14    10      14   \n",
       "1970-1980    4         4     4        4           4      4     3       4   \n",
       "<1970        3         3     3        3           3      3     1       3   \n",
       "\n",
       "           rating_count  review_count  page_count  year  genres  \n",
       "YearRange                                                        \n",
       "2000-2010           119           119         119   119     119  \n",
       "1990-2000            38            38          38    38      38  \n",
       "2010>                22            22          22    22      22  \n",
       "1980-1990            14            14          14    14      14  \n",
       "1970-1980             4             4           4     4       4  \n",
       "<1970                 3             3           3     3       3  "
      ]
     },
     "execution_count": 16,
     "metadata": {},
     "output_type": "execute_result"
    }
   ],
   "source": [
    "df_year = df.groupby('YearRange').count()\n",
    "df_year.sort_values('name',ascending = False)"
   ]
  },
  {
   "cell_type": "code",
   "execution_count": 17,
   "metadata": {},
   "outputs": [
    {
     "data": {
      "application/vnd.plotly.v1+json": {
       "config": {
        "plotlyServerURL": "https://plot.ly"
       },
       "data": [
        {
         "labels": [
          "2000-2010",
          "1990-2000",
          "2010>",
          "1980-1990",
          "1970-1980",
          "<1970"
         ],
         "type": "pie",
         "values": [
          59.5,
          19,
          11,
          7.000000000000001,
          2,
          1.5
         ]
        }
       ],
       "layout": {
        "font": {
         "color": "#7f7f7f",
         "family": "Courier New, monospace",
         "size": 18
        },
        "template": {
         "data": {
          "bar": [
           {
            "error_x": {
             "color": "rgb(51,51,51)"
            },
            "error_y": {
             "color": "rgb(51,51,51)"
            },
            "marker": {
             "line": {
              "color": "rgb(237,237,237)",
              "width": 0.5
             }
            },
            "type": "bar"
           }
          ],
          "barpolar": [
           {
            "marker": {
             "line": {
              "color": "rgb(237,237,237)",
              "width": 0.5
             }
            },
            "type": "barpolar"
           }
          ],
          "carpet": [
           {
            "aaxis": {
             "endlinecolor": "rgb(51,51,51)",
             "gridcolor": "white",
             "linecolor": "white",
             "minorgridcolor": "white",
             "startlinecolor": "rgb(51,51,51)"
            },
            "baxis": {
             "endlinecolor": "rgb(51,51,51)",
             "gridcolor": "white",
             "linecolor": "white",
             "minorgridcolor": "white",
             "startlinecolor": "rgb(51,51,51)"
            },
            "type": "carpet"
           }
          ],
          "choropleth": [
           {
            "colorbar": {
             "outlinewidth": 0,
             "tickcolor": "rgb(237,237,237)",
             "ticklen": 6,
             "ticks": "inside"
            },
            "type": "choropleth"
           }
          ],
          "contour": [
           {
            "colorbar": {
             "outlinewidth": 0,
             "tickcolor": "rgb(237,237,237)",
             "ticklen": 6,
             "ticks": "inside"
            },
            "colorscale": [
             [
              0,
              "rgb(20,44,66)"
             ],
             [
              1,
              "rgb(90,179,244)"
             ]
            ],
            "type": "contour"
           }
          ],
          "contourcarpet": [
           {
            "colorbar": {
             "outlinewidth": 0,
             "tickcolor": "rgb(237,237,237)",
             "ticklen": 6,
             "ticks": "inside"
            },
            "type": "contourcarpet"
           }
          ],
          "heatmap": [
           {
            "colorbar": {
             "outlinewidth": 0,
             "tickcolor": "rgb(237,237,237)",
             "ticklen": 6,
             "ticks": "inside"
            },
            "colorscale": [
             [
              0,
              "rgb(20,44,66)"
             ],
             [
              1,
              "rgb(90,179,244)"
             ]
            ],
            "type": "heatmap"
           }
          ],
          "heatmapgl": [
           {
            "colorbar": {
             "outlinewidth": 0,
             "tickcolor": "rgb(237,237,237)",
             "ticklen": 6,
             "ticks": "inside"
            },
            "colorscale": [
             [
              0,
              "rgb(20,44,66)"
             ],
             [
              1,
              "rgb(90,179,244)"
             ]
            ],
            "type": "heatmapgl"
           }
          ],
          "histogram": [
           {
            "marker": {
             "colorbar": {
              "outlinewidth": 0,
              "tickcolor": "rgb(237,237,237)",
              "ticklen": 6,
              "ticks": "inside"
             }
            },
            "type": "histogram"
           }
          ],
          "histogram2d": [
           {
            "colorbar": {
             "outlinewidth": 0,
             "tickcolor": "rgb(237,237,237)",
             "ticklen": 6,
             "ticks": "inside"
            },
            "colorscale": [
             [
              0,
              "rgb(20,44,66)"
             ],
             [
              1,
              "rgb(90,179,244)"
             ]
            ],
            "type": "histogram2d"
           }
          ],
          "histogram2dcontour": [
           {
            "colorbar": {
             "outlinewidth": 0,
             "tickcolor": "rgb(237,237,237)",
             "ticklen": 6,
             "ticks": "inside"
            },
            "colorscale": [
             [
              0,
              "rgb(20,44,66)"
             ],
             [
              1,
              "rgb(90,179,244)"
             ]
            ],
            "type": "histogram2dcontour"
           }
          ],
          "mesh3d": [
           {
            "colorbar": {
             "outlinewidth": 0,
             "tickcolor": "rgb(237,237,237)",
             "ticklen": 6,
             "ticks": "inside"
            },
            "type": "mesh3d"
           }
          ],
          "parcoords": [
           {
            "line": {
             "colorbar": {
              "outlinewidth": 0,
              "tickcolor": "rgb(237,237,237)",
              "ticklen": 6,
              "ticks": "inside"
             }
            },
            "type": "parcoords"
           }
          ],
          "pie": [
           {
            "automargin": true,
            "type": "pie"
           }
          ],
          "scatter": [
           {
            "marker": {
             "colorbar": {
              "outlinewidth": 0,
              "tickcolor": "rgb(237,237,237)",
              "ticklen": 6,
              "ticks": "inside"
             }
            },
            "type": "scatter"
           }
          ],
          "scatter3d": [
           {
            "line": {
             "colorbar": {
              "outlinewidth": 0,
              "tickcolor": "rgb(237,237,237)",
              "ticklen": 6,
              "ticks": "inside"
             }
            },
            "marker": {
             "colorbar": {
              "outlinewidth": 0,
              "tickcolor": "rgb(237,237,237)",
              "ticklen": 6,
              "ticks": "inside"
             }
            },
            "type": "scatter3d"
           }
          ],
          "scattercarpet": [
           {
            "marker": {
             "colorbar": {
              "outlinewidth": 0,
              "tickcolor": "rgb(237,237,237)",
              "ticklen": 6,
              "ticks": "inside"
             }
            },
            "type": "scattercarpet"
           }
          ],
          "scattergeo": [
           {
            "marker": {
             "colorbar": {
              "outlinewidth": 0,
              "tickcolor": "rgb(237,237,237)",
              "ticklen": 6,
              "ticks": "inside"
             }
            },
            "type": "scattergeo"
           }
          ],
          "scattergl": [
           {
            "marker": {
             "colorbar": {
              "outlinewidth": 0,
              "tickcolor": "rgb(237,237,237)",
              "ticklen": 6,
              "ticks": "inside"
             }
            },
            "type": "scattergl"
           }
          ],
          "scattermapbox": [
           {
            "marker": {
             "colorbar": {
              "outlinewidth": 0,
              "tickcolor": "rgb(237,237,237)",
              "ticklen": 6,
              "ticks": "inside"
             }
            },
            "type": "scattermapbox"
           }
          ],
          "scatterpolar": [
           {
            "marker": {
             "colorbar": {
              "outlinewidth": 0,
              "tickcolor": "rgb(237,237,237)",
              "ticklen": 6,
              "ticks": "inside"
             }
            },
            "type": "scatterpolar"
           }
          ],
          "scatterpolargl": [
           {
            "marker": {
             "colorbar": {
              "outlinewidth": 0,
              "tickcolor": "rgb(237,237,237)",
              "ticklen": 6,
              "ticks": "inside"
             }
            },
            "type": "scatterpolargl"
           }
          ],
          "scatterternary": [
           {
            "marker": {
             "colorbar": {
              "outlinewidth": 0,
              "tickcolor": "rgb(237,237,237)",
              "ticklen": 6,
              "ticks": "inside"
             }
            },
            "type": "scatterternary"
           }
          ],
          "surface": [
           {
            "colorbar": {
             "outlinewidth": 0,
             "tickcolor": "rgb(237,237,237)",
             "ticklen": 6,
             "ticks": "inside"
            },
            "colorscale": [
             [
              0,
              "rgb(20,44,66)"
             ],
             [
              1,
              "rgb(90,179,244)"
             ]
            ],
            "type": "surface"
           }
          ],
          "table": [
           {
            "cells": {
             "fill": {
              "color": "rgb(237,237,237)"
             },
             "line": {
              "color": "white"
             }
            },
            "header": {
             "fill": {
              "color": "rgb(217,217,217)"
             },
             "line": {
              "color": "white"
             }
            },
            "type": "table"
           }
          ]
         },
         "layout": {
          "annotationdefaults": {
           "arrowhead": 0,
           "arrowwidth": 1
          },
          "coloraxis": {
           "colorbar": {
            "outlinewidth": 0,
            "tickcolor": "rgb(237,237,237)",
            "ticklen": 6,
            "ticks": "inside"
           }
          },
          "colorscale": {
           "sequential": [
            [
             0,
             "rgb(20,44,66)"
            ],
            [
             1,
             "rgb(90,179,244)"
            ]
           ],
           "sequentialminus": [
            [
             0,
             "rgb(20,44,66)"
            ],
            [
             1,
             "rgb(90,179,244)"
            ]
           ]
          },
          "colorway": [
           "#F8766D",
           "#A3A500",
           "#00BF7D",
           "#00B0F6",
           "#E76BF3"
          ],
          "font": {
           "color": "rgb(51,51,51)"
          },
          "geo": {
           "bgcolor": "white",
           "lakecolor": "white",
           "landcolor": "rgb(237,237,237)",
           "showlakes": true,
           "showland": true,
           "subunitcolor": "white"
          },
          "hoverlabel": {
           "align": "left"
          },
          "hovermode": "closest",
          "paper_bgcolor": "white",
          "plot_bgcolor": "rgb(237,237,237)",
          "polar": {
           "angularaxis": {
            "gridcolor": "white",
            "linecolor": "white",
            "showgrid": true,
            "tickcolor": "rgb(51,51,51)",
            "ticks": "outside"
           },
           "bgcolor": "rgb(237,237,237)",
           "radialaxis": {
            "gridcolor": "white",
            "linecolor": "white",
            "showgrid": true,
            "tickcolor": "rgb(51,51,51)",
            "ticks": "outside"
           }
          },
          "scene": {
           "xaxis": {
            "backgroundcolor": "rgb(237,237,237)",
            "gridcolor": "white",
            "gridwidth": 2,
            "linecolor": "white",
            "showbackground": true,
            "showgrid": true,
            "tickcolor": "rgb(51,51,51)",
            "ticks": "outside",
            "zerolinecolor": "white"
           },
           "yaxis": {
            "backgroundcolor": "rgb(237,237,237)",
            "gridcolor": "white",
            "gridwidth": 2,
            "linecolor": "white",
            "showbackground": true,
            "showgrid": true,
            "tickcolor": "rgb(51,51,51)",
            "ticks": "outside",
            "zerolinecolor": "white"
           },
           "zaxis": {
            "backgroundcolor": "rgb(237,237,237)",
            "gridcolor": "white",
            "gridwidth": 2,
            "linecolor": "white",
            "showbackground": true,
            "showgrid": true,
            "tickcolor": "rgb(51,51,51)",
            "ticks": "outside",
            "zerolinecolor": "white"
           }
          },
          "shapedefaults": {
           "fillcolor": "black",
           "line": {
            "width": 0
           },
           "opacity": 0.3
          },
          "ternary": {
           "aaxis": {
            "gridcolor": "white",
            "linecolor": "white",
            "showgrid": true,
            "tickcolor": "rgb(51,51,51)",
            "ticks": "outside"
           },
           "baxis": {
            "gridcolor": "white",
            "linecolor": "white",
            "showgrid": true,
            "tickcolor": "rgb(51,51,51)",
            "ticks": "outside"
           },
           "bgcolor": "rgb(237,237,237)",
           "caxis": {
            "gridcolor": "white",
            "linecolor": "white",
            "showgrid": true,
            "tickcolor": "rgb(51,51,51)",
            "ticks": "outside"
           }
          },
          "xaxis": {
           "automargin": true,
           "gridcolor": "white",
           "linecolor": "white",
           "showgrid": true,
           "tickcolor": "rgb(51,51,51)",
           "ticks": "outside",
           "title": {
            "standoff": 15
           },
           "zerolinecolor": "white"
          },
          "yaxis": {
           "automargin": true,
           "gridcolor": "white",
           "linecolor": "white",
           "showgrid": true,
           "tickcolor": "rgb(51,51,51)",
           "ticks": "outside",
           "title": {
            "standoff": 15
           },
           "zerolinecolor": "white"
          }
         }
        },
        "title": {
         "text": "Year Proportions"
        }
       }
      },
      "text/html": [
       "<div>\n",
       "        \n",
       "        \n",
       "            <div id=\"540aba28-bd45-4dfd-9921-267f53c50eab\" class=\"plotly-graph-div\" style=\"height:525px; width:100%;\"></div>\n",
       "            <script type=\"text/javascript\">\n",
       "                require([\"plotly\"], function(Plotly) {\n",
       "                    window.PLOTLYENV=window.PLOTLYENV || {};\n",
       "                    \n",
       "                if (document.getElementById(\"540aba28-bd45-4dfd-9921-267f53c50eab\")) {\n",
       "                    Plotly.newPlot(\n",
       "                        '540aba28-bd45-4dfd-9921-267f53c50eab',\n",
       "                        [{\"labels\": [\"2000-2010\", \"1990-2000\", \"2010>\", \"1980-1990\", \"1970-1980\", \"<1970\"], \"type\": \"pie\", \"values\": [59.5, 19.0, 11.0, 7.000000000000001, 2.0, 1.5]}],\n",
       "                        {\"font\": {\"color\": \"#7f7f7f\", \"family\": \"Courier New, monospace\", \"size\": 18}, \"template\": {\"data\": {\"bar\": [{\"error_x\": {\"color\": \"rgb(51,51,51)\"}, \"error_y\": {\"color\": \"rgb(51,51,51)\"}, \"marker\": {\"line\": {\"color\": \"rgb(237,237,237)\", \"width\": 0.5}}, \"type\": \"bar\"}], \"barpolar\": [{\"marker\": {\"line\": {\"color\": \"rgb(237,237,237)\", \"width\": 0.5}}, \"type\": \"barpolar\"}], \"carpet\": [{\"aaxis\": {\"endlinecolor\": \"rgb(51,51,51)\", \"gridcolor\": \"white\", \"linecolor\": \"white\", \"minorgridcolor\": \"white\", \"startlinecolor\": \"rgb(51,51,51)\"}, \"baxis\": {\"endlinecolor\": \"rgb(51,51,51)\", \"gridcolor\": \"white\", \"linecolor\": \"white\", \"minorgridcolor\": \"white\", \"startlinecolor\": \"rgb(51,51,51)\"}, \"type\": \"carpet\"}], \"choropleth\": [{\"colorbar\": {\"outlinewidth\": 0, \"tickcolor\": \"rgb(237,237,237)\", \"ticklen\": 6, \"ticks\": \"inside\"}, \"type\": \"choropleth\"}], \"contour\": [{\"colorbar\": {\"outlinewidth\": 0, \"tickcolor\": \"rgb(237,237,237)\", \"ticklen\": 6, \"ticks\": \"inside\"}, \"colorscale\": [[0, \"rgb(20,44,66)\"], [1, \"rgb(90,179,244)\"]], \"type\": \"contour\"}], \"contourcarpet\": [{\"colorbar\": {\"outlinewidth\": 0, \"tickcolor\": \"rgb(237,237,237)\", \"ticklen\": 6, \"ticks\": \"inside\"}, \"type\": \"contourcarpet\"}], \"heatmap\": [{\"colorbar\": {\"outlinewidth\": 0, \"tickcolor\": \"rgb(237,237,237)\", \"ticklen\": 6, \"ticks\": \"inside\"}, \"colorscale\": [[0, \"rgb(20,44,66)\"], [1, \"rgb(90,179,244)\"]], \"type\": \"heatmap\"}], \"heatmapgl\": [{\"colorbar\": {\"outlinewidth\": 0, \"tickcolor\": \"rgb(237,237,237)\", \"ticklen\": 6, \"ticks\": \"inside\"}, \"colorscale\": [[0, \"rgb(20,44,66)\"], [1, \"rgb(90,179,244)\"]], \"type\": \"heatmapgl\"}], \"histogram\": [{\"marker\": {\"colorbar\": {\"outlinewidth\": 0, \"tickcolor\": \"rgb(237,237,237)\", \"ticklen\": 6, \"ticks\": \"inside\"}}, \"type\": \"histogram\"}], \"histogram2d\": [{\"colorbar\": {\"outlinewidth\": 0, \"tickcolor\": \"rgb(237,237,237)\", \"ticklen\": 6, \"ticks\": \"inside\"}, \"colorscale\": [[0, \"rgb(20,44,66)\"], [1, \"rgb(90,179,244)\"]], \"type\": \"histogram2d\"}], \"histogram2dcontour\": [{\"colorbar\": {\"outlinewidth\": 0, \"tickcolor\": \"rgb(237,237,237)\", \"ticklen\": 6, \"ticks\": \"inside\"}, \"colorscale\": [[0, \"rgb(20,44,66)\"], [1, \"rgb(90,179,244)\"]], \"type\": \"histogram2dcontour\"}], \"mesh3d\": [{\"colorbar\": {\"outlinewidth\": 0, \"tickcolor\": \"rgb(237,237,237)\", \"ticklen\": 6, \"ticks\": \"inside\"}, \"type\": \"mesh3d\"}], \"parcoords\": [{\"line\": {\"colorbar\": {\"outlinewidth\": 0, \"tickcolor\": \"rgb(237,237,237)\", \"ticklen\": 6, \"ticks\": \"inside\"}}, \"type\": \"parcoords\"}], \"pie\": [{\"automargin\": true, \"type\": \"pie\"}], \"scatter\": [{\"marker\": {\"colorbar\": {\"outlinewidth\": 0, \"tickcolor\": \"rgb(237,237,237)\", \"ticklen\": 6, \"ticks\": \"inside\"}}, \"type\": \"scatter\"}], \"scatter3d\": [{\"line\": {\"colorbar\": {\"outlinewidth\": 0, \"tickcolor\": \"rgb(237,237,237)\", \"ticklen\": 6, \"ticks\": \"inside\"}}, \"marker\": {\"colorbar\": {\"outlinewidth\": 0, \"tickcolor\": \"rgb(237,237,237)\", \"ticklen\": 6, \"ticks\": \"inside\"}}, \"type\": \"scatter3d\"}], \"scattercarpet\": [{\"marker\": {\"colorbar\": {\"outlinewidth\": 0, \"tickcolor\": \"rgb(237,237,237)\", \"ticklen\": 6, \"ticks\": \"inside\"}}, \"type\": \"scattercarpet\"}], \"scattergeo\": [{\"marker\": {\"colorbar\": {\"outlinewidth\": 0, \"tickcolor\": \"rgb(237,237,237)\", \"ticklen\": 6, \"ticks\": \"inside\"}}, \"type\": \"scattergeo\"}], \"scattergl\": [{\"marker\": {\"colorbar\": {\"outlinewidth\": 0, \"tickcolor\": \"rgb(237,237,237)\", \"ticklen\": 6, \"ticks\": \"inside\"}}, \"type\": \"scattergl\"}], \"scattermapbox\": [{\"marker\": {\"colorbar\": {\"outlinewidth\": 0, \"tickcolor\": \"rgb(237,237,237)\", \"ticklen\": 6, \"ticks\": \"inside\"}}, \"type\": \"scattermapbox\"}], \"scatterpolar\": [{\"marker\": {\"colorbar\": {\"outlinewidth\": 0, \"tickcolor\": \"rgb(237,237,237)\", \"ticklen\": 6, \"ticks\": \"inside\"}}, \"type\": \"scatterpolar\"}], \"scatterpolargl\": [{\"marker\": {\"colorbar\": {\"outlinewidth\": 0, \"tickcolor\": \"rgb(237,237,237)\", \"ticklen\": 6, \"ticks\": \"inside\"}}, \"type\": \"scatterpolargl\"}], \"scatterternary\": [{\"marker\": {\"colorbar\": {\"outlinewidth\": 0, \"tickcolor\": \"rgb(237,237,237)\", \"ticklen\": 6, \"ticks\": \"inside\"}}, \"type\": \"scatterternary\"}], \"surface\": [{\"colorbar\": {\"outlinewidth\": 0, \"tickcolor\": \"rgb(237,237,237)\", \"ticklen\": 6, \"ticks\": \"inside\"}, \"colorscale\": [[0, \"rgb(20,44,66)\"], [1, \"rgb(90,179,244)\"]], \"type\": \"surface\"}], \"table\": [{\"cells\": {\"fill\": {\"color\": \"rgb(237,237,237)\"}, \"line\": {\"color\": \"white\"}}, \"header\": {\"fill\": {\"color\": \"rgb(217,217,217)\"}, \"line\": {\"color\": \"white\"}}, \"type\": \"table\"}]}, \"layout\": {\"annotationdefaults\": {\"arrowhead\": 0, \"arrowwidth\": 1}, \"coloraxis\": {\"colorbar\": {\"outlinewidth\": 0, \"tickcolor\": \"rgb(237,237,237)\", \"ticklen\": 6, \"ticks\": \"inside\"}}, \"colorscale\": {\"sequential\": [[0, \"rgb(20,44,66)\"], [1, \"rgb(90,179,244)\"]], \"sequentialminus\": [[0, \"rgb(20,44,66)\"], [1, \"rgb(90,179,244)\"]]}, \"colorway\": [\"#F8766D\", \"#A3A500\", \"#00BF7D\", \"#00B0F6\", \"#E76BF3\"], \"font\": {\"color\": \"rgb(51,51,51)\"}, \"geo\": {\"bgcolor\": \"white\", \"lakecolor\": \"white\", \"landcolor\": \"rgb(237,237,237)\", \"showlakes\": true, \"showland\": true, \"subunitcolor\": \"white\"}, \"hoverlabel\": {\"align\": \"left\"}, \"hovermode\": \"closest\", \"paper_bgcolor\": \"white\", \"plot_bgcolor\": \"rgb(237,237,237)\", \"polar\": {\"angularaxis\": {\"gridcolor\": \"white\", \"linecolor\": \"white\", \"showgrid\": true, \"tickcolor\": \"rgb(51,51,51)\", \"ticks\": \"outside\"}, \"bgcolor\": \"rgb(237,237,237)\", \"radialaxis\": {\"gridcolor\": \"white\", \"linecolor\": \"white\", \"showgrid\": true, \"tickcolor\": \"rgb(51,51,51)\", \"ticks\": \"outside\"}}, \"scene\": {\"xaxis\": {\"backgroundcolor\": \"rgb(237,237,237)\", \"gridcolor\": \"white\", \"gridwidth\": 2, \"linecolor\": \"white\", \"showbackground\": true, \"showgrid\": true, \"tickcolor\": \"rgb(51,51,51)\", \"ticks\": \"outside\", \"zerolinecolor\": \"white\"}, \"yaxis\": {\"backgroundcolor\": \"rgb(237,237,237)\", \"gridcolor\": \"white\", \"gridwidth\": 2, \"linecolor\": \"white\", \"showbackground\": true, \"showgrid\": true, \"tickcolor\": \"rgb(51,51,51)\", \"ticks\": \"outside\", \"zerolinecolor\": \"white\"}, \"zaxis\": {\"backgroundcolor\": \"rgb(237,237,237)\", \"gridcolor\": \"white\", \"gridwidth\": 2, \"linecolor\": \"white\", \"showbackground\": true, \"showgrid\": true, \"tickcolor\": \"rgb(51,51,51)\", \"ticks\": \"outside\", \"zerolinecolor\": \"white\"}}, \"shapedefaults\": {\"fillcolor\": \"black\", \"line\": {\"width\": 0}, \"opacity\": 0.3}, \"ternary\": {\"aaxis\": {\"gridcolor\": \"white\", \"linecolor\": \"white\", \"showgrid\": true, \"tickcolor\": \"rgb(51,51,51)\", \"ticks\": \"outside\"}, \"baxis\": {\"gridcolor\": \"white\", \"linecolor\": \"white\", \"showgrid\": true, \"tickcolor\": \"rgb(51,51,51)\", \"ticks\": \"outside\"}, \"bgcolor\": \"rgb(237,237,237)\", \"caxis\": {\"gridcolor\": \"white\", \"linecolor\": \"white\", \"showgrid\": true, \"tickcolor\": \"rgb(51,51,51)\", \"ticks\": \"outside\"}}, \"xaxis\": {\"automargin\": true, \"gridcolor\": \"white\", \"linecolor\": \"white\", \"showgrid\": true, \"tickcolor\": \"rgb(51,51,51)\", \"ticks\": \"outside\", \"title\": {\"standoff\": 15}, \"zerolinecolor\": \"white\"}, \"yaxis\": {\"automargin\": true, \"gridcolor\": \"white\", \"linecolor\": \"white\", \"showgrid\": true, \"tickcolor\": \"rgb(51,51,51)\", \"ticks\": \"outside\", \"title\": {\"standoff\": 15}, \"zerolinecolor\": \"white\"}}}, \"title\": {\"text\": \"Year Proportions\"}},\n",
       "                        {\"responsive\": true}\n",
       "                    ).then(function(){\n",
       "                            \n",
       "var gd = document.getElementById('540aba28-bd45-4dfd-9921-267f53c50eab');\n",
       "var x = new MutationObserver(function (mutations, observer) {{\n",
       "        var display = window.getComputedStyle(gd).display;\n",
       "        if (!display || display === 'none') {{\n",
       "            console.log([gd, 'removed!']);\n",
       "            Plotly.purge(gd);\n",
       "            observer.disconnect();\n",
       "        }}\n",
       "}});\n",
       "\n",
       "// Listen for the removal of the full notebook cells\n",
       "var notebookContainer = gd.closest('#notebook-container');\n",
       "if (notebookContainer) {{\n",
       "    x.observe(notebookContainer, {childList: true});\n",
       "}}\n",
       "\n",
       "// Listen for the clearing of the current output cell\n",
       "var outputEl = gd.closest('.output');\n",
       "if (outputEl) {{\n",
       "    x.observe(outputEl, {childList: true});\n",
       "}}\n",
       "\n",
       "                        })\n",
       "                };\n",
       "                });\n",
       "            </script>\n",
       "        </div>"
      ]
     },
     "metadata": {},
     "output_type": "display_data"
    }
   ],
   "source": [
    "year_portions = df.YearRange.value_counts(normalize=True)*100\n",
    "\n",
    "labels = year_portions.index.tolist()\n",
    "values = year_portions.values.tolist()\n",
    "\n",
    "fig = go.Figure(data=[go.Pie(labels=labels, values=values)])\n",
    "\n",
    "fig.update_layout(title=\"Year Proportions\",\n",
    "                 template=\"ggplot2\",\n",
    "                    font=dict(\n",
    "                        family=\"Courier New, monospace\",\n",
    "                              size=18,\n",
    "                              color=\"#7f7f7f\"))"
   ]
  },
  {
   "cell_type": "markdown",
   "metadata": {},
   "source": [
    "* 1. Authour repetions.\n",
    "* 2. Which genre is popular\n",
    "* 3. Any relation between rating and rating_count\n",
    "* 4. Any relation between review_count and page count\n",
    "* 5. relation between genres and page count"
   ]
  },
  {
   "cell_type": "code",
   "execution_count": 18,
   "metadata": {},
   "outputs": [
    {
     "data": {
      "text/html": [
       "<div>\n",
       "<style scoped>\n",
       "    .dataframe tbody tr th:only-of-type {\n",
       "        vertical-align: middle;\n",
       "    }\n",
       "\n",
       "    .dataframe tbody tr th {\n",
       "        vertical-align: top;\n",
       "    }\n",
       "\n",
       "    .dataframe thead th {\n",
       "        text-align: right;\n",
       "    }\n",
       "</style>\n",
       "<table border=\"1\" class=\"dataframe\">\n",
       "  <thead>\n",
       "    <tr style=\"text-align: right;\">\n",
       "      <th></th>\n",
       "      <th>id</th>\n",
       "      <th>book_url</th>\n",
       "      <th>name</th>\n",
       "      <th>authour</th>\n",
       "      <th>author_url</th>\n",
       "      <th>score</th>\n",
       "      <th>isbn</th>\n",
       "      <th>rating</th>\n",
       "      <th>rating_count</th>\n",
       "      <th>review_count</th>\n",
       "      <th>page_count</th>\n",
       "      <th>year</th>\n",
       "      <th>YearRange</th>\n",
       "    </tr>\n",
       "    <tr>\n",
       "      <th>genres</th>\n",
       "      <th></th>\n",
       "      <th></th>\n",
       "      <th></th>\n",
       "      <th></th>\n",
       "      <th></th>\n",
       "      <th></th>\n",
       "      <th></th>\n",
       "      <th></th>\n",
       "      <th></th>\n",
       "      <th></th>\n",
       "      <th></th>\n",
       "      <th></th>\n",
       "      <th></th>\n",
       "    </tr>\n",
       "  </thead>\n",
       "  <tbody>\n",
       "    <tr>\n",
       "      <th>Classics</th>\n",
       "      <td>76</td>\n",
       "      <td>76</td>\n",
       "      <td>76</td>\n",
       "      <td>76</td>\n",
       "      <td>76</td>\n",
       "      <td>76</td>\n",
       "      <td>54</td>\n",
       "      <td>76</td>\n",
       "      <td>76</td>\n",
       "      <td>76</td>\n",
       "      <td>76</td>\n",
       "      <td>76</td>\n",
       "      <td>76</td>\n",
       "    </tr>\n",
       "    <tr>\n",
       "      <th>Fiction</th>\n",
       "      <td>37</td>\n",
       "      <td>37</td>\n",
       "      <td>37</td>\n",
       "      <td>37</td>\n",
       "      <td>37</td>\n",
       "      <td>37</td>\n",
       "      <td>28</td>\n",
       "      <td>37</td>\n",
       "      <td>37</td>\n",
       "      <td>37</td>\n",
       "      <td>37</td>\n",
       "      <td>37</td>\n",
       "      <td>37</td>\n",
       "    </tr>\n",
       "    <tr>\n",
       "      <th>Fantasy</th>\n",
       "      <td>32</td>\n",
       "      <td>32</td>\n",
       "      <td>32</td>\n",
       "      <td>32</td>\n",
       "      <td>32</td>\n",
       "      <td>32</td>\n",
       "      <td>23</td>\n",
       "      <td>32</td>\n",
       "      <td>32</td>\n",
       "      <td>32</td>\n",
       "      <td>32</td>\n",
       "      <td>32</td>\n",
       "      <td>32</td>\n",
       "    </tr>\n",
       "    <tr>\n",
       "      <th>Young Adult</th>\n",
       "      <td>18</td>\n",
       "      <td>18</td>\n",
       "      <td>18</td>\n",
       "      <td>18</td>\n",
       "      <td>18</td>\n",
       "      <td>18</td>\n",
       "      <td>13</td>\n",
       "      <td>18</td>\n",
       "      <td>18</td>\n",
       "      <td>18</td>\n",
       "      <td>18</td>\n",
       "      <td>18</td>\n",
       "      <td>18</td>\n",
       "    </tr>\n",
       "    <tr>\n",
       "      <th>Childrens</th>\n",
       "      <td>11</td>\n",
       "      <td>11</td>\n",
       "      <td>11</td>\n",
       "      <td>11</td>\n",
       "      <td>11</td>\n",
       "      <td>11</td>\n",
       "      <td>11</td>\n",
       "      <td>11</td>\n",
       "      <td>11</td>\n",
       "      <td>11</td>\n",
       "      <td>11</td>\n",
       "      <td>11</td>\n",
       "      <td>11</td>\n",
       "    </tr>\n",
       "    <tr>\n",
       "      <th>Historical</th>\n",
       "      <td>6</td>\n",
       "      <td>6</td>\n",
       "      <td>6</td>\n",
       "      <td>6</td>\n",
       "      <td>6</td>\n",
       "      <td>6</td>\n",
       "      <td>4</td>\n",
       "      <td>6</td>\n",
       "      <td>6</td>\n",
       "      <td>6</td>\n",
       "      <td>6</td>\n",
       "      <td>6</td>\n",
       "      <td>6</td>\n",
       "    </tr>\n",
       "    <tr>\n",
       "      <th>Horror</th>\n",
       "      <td>4</td>\n",
       "      <td>4</td>\n",
       "      <td>4</td>\n",
       "      <td>4</td>\n",
       "      <td>4</td>\n",
       "      <td>4</td>\n",
       "      <td>4</td>\n",
       "      <td>4</td>\n",
       "      <td>4</td>\n",
       "      <td>4</td>\n",
       "      <td>4</td>\n",
       "      <td>4</td>\n",
       "      <td>4</td>\n",
       "    </tr>\n",
       "    <tr>\n",
       "      <th>Nonfiction</th>\n",
       "      <td>4</td>\n",
       "      <td>4</td>\n",
       "      <td>4</td>\n",
       "      <td>4</td>\n",
       "      <td>4</td>\n",
       "      <td>4</td>\n",
       "      <td>4</td>\n",
       "      <td>4</td>\n",
       "      <td>4</td>\n",
       "      <td>4</td>\n",
       "      <td>4</td>\n",
       "      <td>4</td>\n",
       "      <td>4</td>\n",
       "    </tr>\n",
       "    <tr>\n",
       "      <th>Science Fiction</th>\n",
       "      <td>4</td>\n",
       "      <td>4</td>\n",
       "      <td>4</td>\n",
       "      <td>4</td>\n",
       "      <td>4</td>\n",
       "      <td>4</td>\n",
       "      <td>3</td>\n",
       "      <td>4</td>\n",
       "      <td>4</td>\n",
       "      <td>4</td>\n",
       "      <td>4</td>\n",
       "      <td>4</td>\n",
       "      <td>4</td>\n",
       "    </tr>\n",
       "    <tr>\n",
       "      <th>Romance</th>\n",
       "      <td>3</td>\n",
       "      <td>3</td>\n",
       "      <td>3</td>\n",
       "      <td>3</td>\n",
       "      <td>3</td>\n",
       "      <td>3</td>\n",
       "      <td>1</td>\n",
       "      <td>3</td>\n",
       "      <td>3</td>\n",
       "      <td>3</td>\n",
       "      <td>3</td>\n",
       "      <td>3</td>\n",
       "      <td>3</td>\n",
       "    </tr>\n",
       "    <tr>\n",
       "      <th>Cultural</th>\n",
       "      <td>1</td>\n",
       "      <td>1</td>\n",
       "      <td>1</td>\n",
       "      <td>1</td>\n",
       "      <td>1</td>\n",
       "      <td>1</td>\n",
       "      <td>1</td>\n",
       "      <td>1</td>\n",
       "      <td>1</td>\n",
       "      <td>1</td>\n",
       "      <td>1</td>\n",
       "      <td>1</td>\n",
       "      <td>1</td>\n",
       "    </tr>\n",
       "    <tr>\n",
       "      <th>Mystery</th>\n",
       "      <td>1</td>\n",
       "      <td>1</td>\n",
       "      <td>1</td>\n",
       "      <td>1</td>\n",
       "      <td>1</td>\n",
       "      <td>1</td>\n",
       "      <td>1</td>\n",
       "      <td>1</td>\n",
       "      <td>1</td>\n",
       "      <td>1</td>\n",
       "      <td>1</td>\n",
       "      <td>1</td>\n",
       "      <td>1</td>\n",
       "    </tr>\n",
       "    <tr>\n",
       "      <th>Plays</th>\n",
       "      <td>1</td>\n",
       "      <td>1</td>\n",
       "      <td>1</td>\n",
       "      <td>1</td>\n",
       "      <td>1</td>\n",
       "      <td>1</td>\n",
       "      <td>1</td>\n",
       "      <td>1</td>\n",
       "      <td>1</td>\n",
       "      <td>1</td>\n",
       "      <td>1</td>\n",
       "      <td>1</td>\n",
       "      <td>1</td>\n",
       "    </tr>\n",
       "    <tr>\n",
       "      <th>Poetry</th>\n",
       "      <td>1</td>\n",
       "      <td>1</td>\n",
       "      <td>1</td>\n",
       "      <td>1</td>\n",
       "      <td>1</td>\n",
       "      <td>1</td>\n",
       "      <td>1</td>\n",
       "      <td>1</td>\n",
       "      <td>1</td>\n",
       "      <td>1</td>\n",
       "      <td>1</td>\n",
       "      <td>1</td>\n",
       "      <td>1</td>\n",
       "    </tr>\n",
       "    <tr>\n",
       "      <th>Sequential Art</th>\n",
       "      <td>1</td>\n",
       "      <td>1</td>\n",
       "      <td>1</td>\n",
       "      <td>1</td>\n",
       "      <td>1</td>\n",
       "      <td>1</td>\n",
       "      <td>1</td>\n",
       "      <td>1</td>\n",
       "      <td>1</td>\n",
       "      <td>1</td>\n",
       "      <td>1</td>\n",
       "      <td>1</td>\n",
       "      <td>1</td>\n",
       "    </tr>\n",
       "  </tbody>\n",
       "</table>\n",
       "</div>"
      ],
      "text/plain": [
       "                 id  book_url  name  authour  author_url  score  isbn  rating  \\\n",
       "genres                                                                          \n",
       "Classics         76        76    76       76          76     76    54      76   \n",
       "Fiction          37        37    37       37          37     37    28      37   \n",
       "Fantasy          32        32    32       32          32     32    23      32   \n",
       "Young Adult      18        18    18       18          18     18    13      18   \n",
       "Childrens        11        11    11       11          11     11    11      11   \n",
       "Historical        6         6     6        6           6      6     4       6   \n",
       "Horror            4         4     4        4           4      4     4       4   \n",
       "Nonfiction        4         4     4        4           4      4     4       4   \n",
       "Science Fiction   4         4     4        4           4      4     3       4   \n",
       "Romance           3         3     3        3           3      3     1       3   \n",
       "Cultural          1         1     1        1           1      1     1       1   \n",
       "Mystery           1         1     1        1           1      1     1       1   \n",
       "Plays             1         1     1        1           1      1     1       1   \n",
       "Poetry            1         1     1        1           1      1     1       1   \n",
       "Sequential Art    1         1     1        1           1      1     1       1   \n",
       "\n",
       "                 rating_count  review_count  page_count  year  YearRange  \n",
       "genres                                                                    \n",
       "Classics                   76            76          76    76         76  \n",
       "Fiction                    37            37          37    37         37  \n",
       "Fantasy                    32            32          32    32         32  \n",
       "Young Adult                18            18          18    18         18  \n",
       "Childrens                  11            11          11    11         11  \n",
       "Historical                  6             6           6     6          6  \n",
       "Horror                      4             4           4     4          4  \n",
       "Nonfiction                  4             4           4     4          4  \n",
       "Science Fiction             4             4           4     4          4  \n",
       "Romance                     3             3           3     3          3  \n",
       "Cultural                    1             1           1     1          1  \n",
       "Mystery                     1             1           1     1          1  \n",
       "Plays                       1             1           1     1          1  \n",
       "Poetry                      1             1           1     1          1  \n",
       "Sequential Art              1             1           1     1          1  "
      ]
     },
     "execution_count": 18,
     "metadata": {},
     "output_type": "execute_result"
    }
   ],
   "source": [
    "df_genres = df.groupby(['genres']).count()\n",
    "df_genres.sort_values('name',ascending = False)"
   ]
  },
  {
   "cell_type": "code",
   "execution_count": 19,
   "metadata": {},
   "outputs": [
    {
     "data": {
      "application/vnd.plotly.v1+json": {
       "config": {
        "plotlyServerURL": "https://plot.ly"
       },
       "data": [
        {
         "labels": [
          "Classics",
          "Fiction",
          "Fantasy",
          "Young Adult",
          "Childrens",
          "Historical",
          "Nonfiction",
          "Horror",
          "Science Fiction",
          "Romance",
          "Sequential Art",
          "Cultural",
          "Mystery",
          "Poetry",
          "Plays"
         ],
         "type": "pie",
         "values": [
          38,
          18.5,
          16,
          9,
          5.5,
          3,
          2,
          2,
          2,
          1.5,
          0.5,
          0.5,
          0.5,
          0.5,
          0.5
         ]
        }
       ],
       "layout": {
        "font": {
         "color": "#7f7f7f",
         "family": "Courier New, monospace",
         "size": 18
        },
        "template": {
         "data": {
          "bar": [
           {
            "error_x": {
             "color": "rgb(51,51,51)"
            },
            "error_y": {
             "color": "rgb(51,51,51)"
            },
            "marker": {
             "line": {
              "color": "rgb(237,237,237)",
              "width": 0.5
             }
            },
            "type": "bar"
           }
          ],
          "barpolar": [
           {
            "marker": {
             "line": {
              "color": "rgb(237,237,237)",
              "width": 0.5
             }
            },
            "type": "barpolar"
           }
          ],
          "carpet": [
           {
            "aaxis": {
             "endlinecolor": "rgb(51,51,51)",
             "gridcolor": "white",
             "linecolor": "white",
             "minorgridcolor": "white",
             "startlinecolor": "rgb(51,51,51)"
            },
            "baxis": {
             "endlinecolor": "rgb(51,51,51)",
             "gridcolor": "white",
             "linecolor": "white",
             "minorgridcolor": "white",
             "startlinecolor": "rgb(51,51,51)"
            },
            "type": "carpet"
           }
          ],
          "choropleth": [
           {
            "colorbar": {
             "outlinewidth": 0,
             "tickcolor": "rgb(237,237,237)",
             "ticklen": 6,
             "ticks": "inside"
            },
            "type": "choropleth"
           }
          ],
          "contour": [
           {
            "colorbar": {
             "outlinewidth": 0,
             "tickcolor": "rgb(237,237,237)",
             "ticklen": 6,
             "ticks": "inside"
            },
            "colorscale": [
             [
              0,
              "rgb(20,44,66)"
             ],
             [
              1,
              "rgb(90,179,244)"
             ]
            ],
            "type": "contour"
           }
          ],
          "contourcarpet": [
           {
            "colorbar": {
             "outlinewidth": 0,
             "tickcolor": "rgb(237,237,237)",
             "ticklen": 6,
             "ticks": "inside"
            },
            "type": "contourcarpet"
           }
          ],
          "heatmap": [
           {
            "colorbar": {
             "outlinewidth": 0,
             "tickcolor": "rgb(237,237,237)",
             "ticklen": 6,
             "ticks": "inside"
            },
            "colorscale": [
             [
              0,
              "rgb(20,44,66)"
             ],
             [
              1,
              "rgb(90,179,244)"
             ]
            ],
            "type": "heatmap"
           }
          ],
          "heatmapgl": [
           {
            "colorbar": {
             "outlinewidth": 0,
             "tickcolor": "rgb(237,237,237)",
             "ticklen": 6,
             "ticks": "inside"
            },
            "colorscale": [
             [
              0,
              "rgb(20,44,66)"
             ],
             [
              1,
              "rgb(90,179,244)"
             ]
            ],
            "type": "heatmapgl"
           }
          ],
          "histogram": [
           {
            "marker": {
             "colorbar": {
              "outlinewidth": 0,
              "tickcolor": "rgb(237,237,237)",
              "ticklen": 6,
              "ticks": "inside"
             }
            },
            "type": "histogram"
           }
          ],
          "histogram2d": [
           {
            "colorbar": {
             "outlinewidth": 0,
             "tickcolor": "rgb(237,237,237)",
             "ticklen": 6,
             "ticks": "inside"
            },
            "colorscale": [
             [
              0,
              "rgb(20,44,66)"
             ],
             [
              1,
              "rgb(90,179,244)"
             ]
            ],
            "type": "histogram2d"
           }
          ],
          "histogram2dcontour": [
           {
            "colorbar": {
             "outlinewidth": 0,
             "tickcolor": "rgb(237,237,237)",
             "ticklen": 6,
             "ticks": "inside"
            },
            "colorscale": [
             [
              0,
              "rgb(20,44,66)"
             ],
             [
              1,
              "rgb(90,179,244)"
             ]
            ],
            "type": "histogram2dcontour"
           }
          ],
          "mesh3d": [
           {
            "colorbar": {
             "outlinewidth": 0,
             "tickcolor": "rgb(237,237,237)",
             "ticklen": 6,
             "ticks": "inside"
            },
            "type": "mesh3d"
           }
          ],
          "parcoords": [
           {
            "line": {
             "colorbar": {
              "outlinewidth": 0,
              "tickcolor": "rgb(237,237,237)",
              "ticklen": 6,
              "ticks": "inside"
             }
            },
            "type": "parcoords"
           }
          ],
          "pie": [
           {
            "automargin": true,
            "type": "pie"
           }
          ],
          "scatter": [
           {
            "marker": {
             "colorbar": {
              "outlinewidth": 0,
              "tickcolor": "rgb(237,237,237)",
              "ticklen": 6,
              "ticks": "inside"
             }
            },
            "type": "scatter"
           }
          ],
          "scatter3d": [
           {
            "line": {
             "colorbar": {
              "outlinewidth": 0,
              "tickcolor": "rgb(237,237,237)",
              "ticklen": 6,
              "ticks": "inside"
             }
            },
            "marker": {
             "colorbar": {
              "outlinewidth": 0,
              "tickcolor": "rgb(237,237,237)",
              "ticklen": 6,
              "ticks": "inside"
             }
            },
            "type": "scatter3d"
           }
          ],
          "scattercarpet": [
           {
            "marker": {
             "colorbar": {
              "outlinewidth": 0,
              "tickcolor": "rgb(237,237,237)",
              "ticklen": 6,
              "ticks": "inside"
             }
            },
            "type": "scattercarpet"
           }
          ],
          "scattergeo": [
           {
            "marker": {
             "colorbar": {
              "outlinewidth": 0,
              "tickcolor": "rgb(237,237,237)",
              "ticklen": 6,
              "ticks": "inside"
             }
            },
            "type": "scattergeo"
           }
          ],
          "scattergl": [
           {
            "marker": {
             "colorbar": {
              "outlinewidth": 0,
              "tickcolor": "rgb(237,237,237)",
              "ticklen": 6,
              "ticks": "inside"
             }
            },
            "type": "scattergl"
           }
          ],
          "scattermapbox": [
           {
            "marker": {
             "colorbar": {
              "outlinewidth": 0,
              "tickcolor": "rgb(237,237,237)",
              "ticklen": 6,
              "ticks": "inside"
             }
            },
            "type": "scattermapbox"
           }
          ],
          "scatterpolar": [
           {
            "marker": {
             "colorbar": {
              "outlinewidth": 0,
              "tickcolor": "rgb(237,237,237)",
              "ticklen": 6,
              "ticks": "inside"
             }
            },
            "type": "scatterpolar"
           }
          ],
          "scatterpolargl": [
           {
            "marker": {
             "colorbar": {
              "outlinewidth": 0,
              "tickcolor": "rgb(237,237,237)",
              "ticklen": 6,
              "ticks": "inside"
             }
            },
            "type": "scatterpolargl"
           }
          ],
          "scatterternary": [
           {
            "marker": {
             "colorbar": {
              "outlinewidth": 0,
              "tickcolor": "rgb(237,237,237)",
              "ticklen": 6,
              "ticks": "inside"
             }
            },
            "type": "scatterternary"
           }
          ],
          "surface": [
           {
            "colorbar": {
             "outlinewidth": 0,
             "tickcolor": "rgb(237,237,237)",
             "ticklen": 6,
             "ticks": "inside"
            },
            "colorscale": [
             [
              0,
              "rgb(20,44,66)"
             ],
             [
              1,
              "rgb(90,179,244)"
             ]
            ],
            "type": "surface"
           }
          ],
          "table": [
           {
            "cells": {
             "fill": {
              "color": "rgb(237,237,237)"
             },
             "line": {
              "color": "white"
             }
            },
            "header": {
             "fill": {
              "color": "rgb(217,217,217)"
             },
             "line": {
              "color": "white"
             }
            },
            "type": "table"
           }
          ]
         },
         "layout": {
          "annotationdefaults": {
           "arrowhead": 0,
           "arrowwidth": 1
          },
          "coloraxis": {
           "colorbar": {
            "outlinewidth": 0,
            "tickcolor": "rgb(237,237,237)",
            "ticklen": 6,
            "ticks": "inside"
           }
          },
          "colorscale": {
           "sequential": [
            [
             0,
             "rgb(20,44,66)"
            ],
            [
             1,
             "rgb(90,179,244)"
            ]
           ],
           "sequentialminus": [
            [
             0,
             "rgb(20,44,66)"
            ],
            [
             1,
             "rgb(90,179,244)"
            ]
           ]
          },
          "colorway": [
           "#F8766D",
           "#A3A500",
           "#00BF7D",
           "#00B0F6",
           "#E76BF3"
          ],
          "font": {
           "color": "rgb(51,51,51)"
          },
          "geo": {
           "bgcolor": "white",
           "lakecolor": "white",
           "landcolor": "rgb(237,237,237)",
           "showlakes": true,
           "showland": true,
           "subunitcolor": "white"
          },
          "hoverlabel": {
           "align": "left"
          },
          "hovermode": "closest",
          "paper_bgcolor": "white",
          "plot_bgcolor": "rgb(237,237,237)",
          "polar": {
           "angularaxis": {
            "gridcolor": "white",
            "linecolor": "white",
            "showgrid": true,
            "tickcolor": "rgb(51,51,51)",
            "ticks": "outside"
           },
           "bgcolor": "rgb(237,237,237)",
           "radialaxis": {
            "gridcolor": "white",
            "linecolor": "white",
            "showgrid": true,
            "tickcolor": "rgb(51,51,51)",
            "ticks": "outside"
           }
          },
          "scene": {
           "xaxis": {
            "backgroundcolor": "rgb(237,237,237)",
            "gridcolor": "white",
            "gridwidth": 2,
            "linecolor": "white",
            "showbackground": true,
            "showgrid": true,
            "tickcolor": "rgb(51,51,51)",
            "ticks": "outside",
            "zerolinecolor": "white"
           },
           "yaxis": {
            "backgroundcolor": "rgb(237,237,237)",
            "gridcolor": "white",
            "gridwidth": 2,
            "linecolor": "white",
            "showbackground": true,
            "showgrid": true,
            "tickcolor": "rgb(51,51,51)",
            "ticks": "outside",
            "zerolinecolor": "white"
           },
           "zaxis": {
            "backgroundcolor": "rgb(237,237,237)",
            "gridcolor": "white",
            "gridwidth": 2,
            "linecolor": "white",
            "showbackground": true,
            "showgrid": true,
            "tickcolor": "rgb(51,51,51)",
            "ticks": "outside",
            "zerolinecolor": "white"
           }
          },
          "shapedefaults": {
           "fillcolor": "black",
           "line": {
            "width": 0
           },
           "opacity": 0.3
          },
          "ternary": {
           "aaxis": {
            "gridcolor": "white",
            "linecolor": "white",
            "showgrid": true,
            "tickcolor": "rgb(51,51,51)",
            "ticks": "outside"
           },
           "baxis": {
            "gridcolor": "white",
            "linecolor": "white",
            "showgrid": true,
            "tickcolor": "rgb(51,51,51)",
            "ticks": "outside"
           },
           "bgcolor": "rgb(237,237,237)",
           "caxis": {
            "gridcolor": "white",
            "linecolor": "white",
            "showgrid": true,
            "tickcolor": "rgb(51,51,51)",
            "ticks": "outside"
           }
          },
          "xaxis": {
           "automargin": true,
           "gridcolor": "white",
           "linecolor": "white",
           "showgrid": true,
           "tickcolor": "rgb(51,51,51)",
           "ticks": "outside",
           "title": {
            "standoff": 15
           },
           "zerolinecolor": "white"
          },
          "yaxis": {
           "automargin": true,
           "gridcolor": "white",
           "linecolor": "white",
           "showgrid": true,
           "tickcolor": "rgb(51,51,51)",
           "ticks": "outside",
           "title": {
            "standoff": 15
           },
           "zerolinecolor": "white"
          }
         }
        },
        "title": {
         "text": "Genres Proportions"
        }
       }
      },
      "text/html": [
       "<div>\n",
       "        \n",
       "        \n",
       "            <div id=\"171d328d-b7ee-45e5-9d42-d6ea9269f755\" class=\"plotly-graph-div\" style=\"height:525px; width:100%;\"></div>\n",
       "            <script type=\"text/javascript\">\n",
       "                require([\"plotly\"], function(Plotly) {\n",
       "                    window.PLOTLYENV=window.PLOTLYENV || {};\n",
       "                    \n",
       "                if (document.getElementById(\"171d328d-b7ee-45e5-9d42-d6ea9269f755\")) {\n",
       "                    Plotly.newPlot(\n",
       "                        '171d328d-b7ee-45e5-9d42-d6ea9269f755',\n",
       "                        [{\"labels\": [\"Classics\", \"Fiction\", \"Fantasy\", \"Young Adult\", \"Childrens\", \"Historical\", \"Nonfiction\", \"Horror\", \"Science Fiction\", \"Romance\", \"Sequential Art\", \"Cultural\", \"Mystery\", \"Poetry\", \"Plays\"], \"type\": \"pie\", \"values\": [38.0, 18.5, 16.0, 9.0, 5.5, 3.0, 2.0, 2.0, 2.0, 1.5, 0.5, 0.5, 0.5, 0.5, 0.5]}],\n",
       "                        {\"font\": {\"color\": \"#7f7f7f\", \"family\": \"Courier New, monospace\", \"size\": 18}, \"template\": {\"data\": {\"bar\": [{\"error_x\": {\"color\": \"rgb(51,51,51)\"}, \"error_y\": {\"color\": \"rgb(51,51,51)\"}, \"marker\": {\"line\": {\"color\": \"rgb(237,237,237)\", \"width\": 0.5}}, \"type\": \"bar\"}], \"barpolar\": [{\"marker\": {\"line\": {\"color\": \"rgb(237,237,237)\", \"width\": 0.5}}, \"type\": \"barpolar\"}], \"carpet\": [{\"aaxis\": {\"endlinecolor\": \"rgb(51,51,51)\", \"gridcolor\": \"white\", \"linecolor\": \"white\", \"minorgridcolor\": \"white\", \"startlinecolor\": \"rgb(51,51,51)\"}, \"baxis\": {\"endlinecolor\": \"rgb(51,51,51)\", \"gridcolor\": \"white\", \"linecolor\": \"white\", \"minorgridcolor\": \"white\", \"startlinecolor\": \"rgb(51,51,51)\"}, \"type\": \"carpet\"}], \"choropleth\": [{\"colorbar\": {\"outlinewidth\": 0, \"tickcolor\": \"rgb(237,237,237)\", \"ticklen\": 6, \"ticks\": \"inside\"}, \"type\": \"choropleth\"}], \"contour\": [{\"colorbar\": {\"outlinewidth\": 0, \"tickcolor\": \"rgb(237,237,237)\", \"ticklen\": 6, \"ticks\": \"inside\"}, \"colorscale\": [[0, \"rgb(20,44,66)\"], [1, \"rgb(90,179,244)\"]], \"type\": \"contour\"}], \"contourcarpet\": [{\"colorbar\": {\"outlinewidth\": 0, \"tickcolor\": \"rgb(237,237,237)\", \"ticklen\": 6, \"ticks\": \"inside\"}, \"type\": \"contourcarpet\"}], \"heatmap\": [{\"colorbar\": {\"outlinewidth\": 0, \"tickcolor\": \"rgb(237,237,237)\", \"ticklen\": 6, \"ticks\": \"inside\"}, \"colorscale\": [[0, \"rgb(20,44,66)\"], [1, \"rgb(90,179,244)\"]], \"type\": \"heatmap\"}], \"heatmapgl\": [{\"colorbar\": {\"outlinewidth\": 0, \"tickcolor\": \"rgb(237,237,237)\", \"ticklen\": 6, \"ticks\": \"inside\"}, \"colorscale\": [[0, \"rgb(20,44,66)\"], [1, \"rgb(90,179,244)\"]], \"type\": \"heatmapgl\"}], \"histogram\": [{\"marker\": {\"colorbar\": {\"outlinewidth\": 0, \"tickcolor\": \"rgb(237,237,237)\", \"ticklen\": 6, \"ticks\": \"inside\"}}, \"type\": \"histogram\"}], \"histogram2d\": [{\"colorbar\": {\"outlinewidth\": 0, \"tickcolor\": \"rgb(237,237,237)\", \"ticklen\": 6, \"ticks\": \"inside\"}, \"colorscale\": [[0, \"rgb(20,44,66)\"], [1, \"rgb(90,179,244)\"]], \"type\": \"histogram2d\"}], \"histogram2dcontour\": [{\"colorbar\": {\"outlinewidth\": 0, \"tickcolor\": \"rgb(237,237,237)\", \"ticklen\": 6, \"ticks\": \"inside\"}, \"colorscale\": [[0, \"rgb(20,44,66)\"], [1, \"rgb(90,179,244)\"]], \"type\": \"histogram2dcontour\"}], \"mesh3d\": [{\"colorbar\": {\"outlinewidth\": 0, \"tickcolor\": \"rgb(237,237,237)\", \"ticklen\": 6, \"ticks\": \"inside\"}, \"type\": \"mesh3d\"}], \"parcoords\": [{\"line\": {\"colorbar\": {\"outlinewidth\": 0, \"tickcolor\": \"rgb(237,237,237)\", \"ticklen\": 6, \"ticks\": \"inside\"}}, \"type\": \"parcoords\"}], \"pie\": [{\"automargin\": true, \"type\": \"pie\"}], \"scatter\": [{\"marker\": {\"colorbar\": {\"outlinewidth\": 0, \"tickcolor\": \"rgb(237,237,237)\", \"ticklen\": 6, \"ticks\": \"inside\"}}, \"type\": \"scatter\"}], \"scatter3d\": [{\"line\": {\"colorbar\": {\"outlinewidth\": 0, \"tickcolor\": \"rgb(237,237,237)\", \"ticklen\": 6, \"ticks\": \"inside\"}}, \"marker\": {\"colorbar\": {\"outlinewidth\": 0, \"tickcolor\": \"rgb(237,237,237)\", \"ticklen\": 6, \"ticks\": \"inside\"}}, \"type\": \"scatter3d\"}], \"scattercarpet\": [{\"marker\": {\"colorbar\": {\"outlinewidth\": 0, \"tickcolor\": \"rgb(237,237,237)\", \"ticklen\": 6, \"ticks\": \"inside\"}}, \"type\": \"scattercarpet\"}], \"scattergeo\": [{\"marker\": {\"colorbar\": {\"outlinewidth\": 0, \"tickcolor\": \"rgb(237,237,237)\", \"ticklen\": 6, \"ticks\": \"inside\"}}, \"type\": \"scattergeo\"}], \"scattergl\": [{\"marker\": {\"colorbar\": {\"outlinewidth\": 0, \"tickcolor\": \"rgb(237,237,237)\", \"ticklen\": 6, \"ticks\": \"inside\"}}, \"type\": \"scattergl\"}], \"scattermapbox\": [{\"marker\": {\"colorbar\": {\"outlinewidth\": 0, \"tickcolor\": \"rgb(237,237,237)\", \"ticklen\": 6, \"ticks\": \"inside\"}}, \"type\": \"scattermapbox\"}], \"scatterpolar\": [{\"marker\": {\"colorbar\": {\"outlinewidth\": 0, \"tickcolor\": \"rgb(237,237,237)\", \"ticklen\": 6, \"ticks\": \"inside\"}}, \"type\": \"scatterpolar\"}], \"scatterpolargl\": [{\"marker\": {\"colorbar\": {\"outlinewidth\": 0, \"tickcolor\": \"rgb(237,237,237)\", \"ticklen\": 6, \"ticks\": \"inside\"}}, \"type\": \"scatterpolargl\"}], \"scatterternary\": [{\"marker\": {\"colorbar\": {\"outlinewidth\": 0, \"tickcolor\": \"rgb(237,237,237)\", \"ticklen\": 6, \"ticks\": \"inside\"}}, \"type\": \"scatterternary\"}], \"surface\": [{\"colorbar\": {\"outlinewidth\": 0, \"tickcolor\": \"rgb(237,237,237)\", \"ticklen\": 6, \"ticks\": \"inside\"}, \"colorscale\": [[0, \"rgb(20,44,66)\"], [1, \"rgb(90,179,244)\"]], \"type\": \"surface\"}], \"table\": [{\"cells\": {\"fill\": {\"color\": \"rgb(237,237,237)\"}, \"line\": {\"color\": \"white\"}}, \"header\": {\"fill\": {\"color\": \"rgb(217,217,217)\"}, \"line\": {\"color\": \"white\"}}, \"type\": \"table\"}]}, \"layout\": {\"annotationdefaults\": {\"arrowhead\": 0, \"arrowwidth\": 1}, \"coloraxis\": {\"colorbar\": {\"outlinewidth\": 0, \"tickcolor\": \"rgb(237,237,237)\", \"ticklen\": 6, \"ticks\": \"inside\"}}, \"colorscale\": {\"sequential\": [[0, \"rgb(20,44,66)\"], [1, \"rgb(90,179,244)\"]], \"sequentialminus\": [[0, \"rgb(20,44,66)\"], [1, \"rgb(90,179,244)\"]]}, \"colorway\": [\"#F8766D\", \"#A3A500\", \"#00BF7D\", \"#00B0F6\", \"#E76BF3\"], \"font\": {\"color\": \"rgb(51,51,51)\"}, \"geo\": {\"bgcolor\": \"white\", \"lakecolor\": \"white\", \"landcolor\": \"rgb(237,237,237)\", \"showlakes\": true, \"showland\": true, \"subunitcolor\": \"white\"}, \"hoverlabel\": {\"align\": \"left\"}, \"hovermode\": \"closest\", \"paper_bgcolor\": \"white\", \"plot_bgcolor\": \"rgb(237,237,237)\", \"polar\": {\"angularaxis\": {\"gridcolor\": \"white\", \"linecolor\": \"white\", \"showgrid\": true, \"tickcolor\": \"rgb(51,51,51)\", \"ticks\": \"outside\"}, \"bgcolor\": \"rgb(237,237,237)\", \"radialaxis\": {\"gridcolor\": \"white\", \"linecolor\": \"white\", \"showgrid\": true, \"tickcolor\": \"rgb(51,51,51)\", \"ticks\": \"outside\"}}, \"scene\": {\"xaxis\": {\"backgroundcolor\": \"rgb(237,237,237)\", \"gridcolor\": \"white\", \"gridwidth\": 2, \"linecolor\": \"white\", \"showbackground\": true, \"showgrid\": true, \"tickcolor\": \"rgb(51,51,51)\", \"ticks\": \"outside\", \"zerolinecolor\": \"white\"}, \"yaxis\": {\"backgroundcolor\": \"rgb(237,237,237)\", \"gridcolor\": \"white\", \"gridwidth\": 2, \"linecolor\": \"white\", \"showbackground\": true, \"showgrid\": true, \"tickcolor\": \"rgb(51,51,51)\", \"ticks\": \"outside\", \"zerolinecolor\": \"white\"}, \"zaxis\": {\"backgroundcolor\": \"rgb(237,237,237)\", \"gridcolor\": \"white\", \"gridwidth\": 2, \"linecolor\": \"white\", \"showbackground\": true, \"showgrid\": true, \"tickcolor\": \"rgb(51,51,51)\", \"ticks\": \"outside\", \"zerolinecolor\": \"white\"}}, \"shapedefaults\": {\"fillcolor\": \"black\", \"line\": {\"width\": 0}, \"opacity\": 0.3}, \"ternary\": {\"aaxis\": {\"gridcolor\": \"white\", \"linecolor\": \"white\", \"showgrid\": true, \"tickcolor\": \"rgb(51,51,51)\", \"ticks\": \"outside\"}, \"baxis\": {\"gridcolor\": \"white\", \"linecolor\": \"white\", \"showgrid\": true, \"tickcolor\": \"rgb(51,51,51)\", \"ticks\": \"outside\"}, \"bgcolor\": \"rgb(237,237,237)\", \"caxis\": {\"gridcolor\": \"white\", \"linecolor\": \"white\", \"showgrid\": true, \"tickcolor\": \"rgb(51,51,51)\", \"ticks\": \"outside\"}}, \"xaxis\": {\"automargin\": true, \"gridcolor\": \"white\", \"linecolor\": \"white\", \"showgrid\": true, \"tickcolor\": \"rgb(51,51,51)\", \"ticks\": \"outside\", \"title\": {\"standoff\": 15}, \"zerolinecolor\": \"white\"}, \"yaxis\": {\"automargin\": true, \"gridcolor\": \"white\", \"linecolor\": \"white\", \"showgrid\": true, \"tickcolor\": \"rgb(51,51,51)\", \"ticks\": \"outside\", \"title\": {\"standoff\": 15}, \"zerolinecolor\": \"white\"}}}, \"title\": {\"text\": \"Genres Proportions\"}},\n",
       "                        {\"responsive\": true}\n",
       "                    ).then(function(){\n",
       "                            \n",
       "var gd = document.getElementById('171d328d-b7ee-45e5-9d42-d6ea9269f755');\n",
       "var x = new MutationObserver(function (mutations, observer) {{\n",
       "        var display = window.getComputedStyle(gd).display;\n",
       "        if (!display || display === 'none') {{\n",
       "            console.log([gd, 'removed!']);\n",
       "            Plotly.purge(gd);\n",
       "            observer.disconnect();\n",
       "        }}\n",
       "}});\n",
       "\n",
       "// Listen for the removal of the full notebook cells\n",
       "var notebookContainer = gd.closest('#notebook-container');\n",
       "if (notebookContainer) {{\n",
       "    x.observe(notebookContainer, {childList: true});\n",
       "}}\n",
       "\n",
       "// Listen for the clearing of the current output cell\n",
       "var outputEl = gd.closest('.output');\n",
       "if (outputEl) {{\n",
       "    x.observe(outputEl, {childList: true});\n",
       "}}\n",
       "\n",
       "                        })\n",
       "                };\n",
       "                });\n",
       "            </script>\n",
       "        </div>"
      ]
     },
     "metadata": {},
     "output_type": "display_data"
    }
   ],
   "source": [
    "format_portions = df.genres.value_counts(normalize=True)*100\n",
    "\n",
    "labels = format_portions.index.tolist()\n",
    "values = format_portions.values.tolist()\n",
    "\n",
    "fig = go.Figure(data=[go.Pie(labels=labels, values=values)])\n",
    "\n",
    "fig.update_layout(title=\"Genres Proportions\",\n",
    "                 template=\"ggplot2\",\n",
    "                    font=dict(\n",
    "                        family=\"Courier New, monospace\",\n",
    "                              size=18,\n",
    "                              color=\"#7f7f7f\"))"
   ]
  },
  {
   "cell_type": "code",
   "execution_count": null,
   "metadata": {},
   "outputs": [],
   "source": []
  }
 ],
 "metadata": {
  "kernelspec": {
   "display_name": "Python 3",
   "language": "python",
   "name": "python3"
  },
  "language_info": {
   "codemirror_mode": {
    "name": "ipython",
    "version": 3
   },
   "file_extension": ".py",
   "mimetype": "text/x-python",
   "name": "python",
   "nbconvert_exporter": "python",
   "pygments_lexer": "ipython3",
   "version": "3.7.4"
  },
  "toc": {
   "base_numbering": 1,
   "nav_menu": {},
   "number_sections": true,
   "sideBar": true,
   "skip_h1_title": false,
   "title_cell": "Table of Contents",
   "title_sidebar": "Contents",
   "toc_cell": false,
   "toc_position": {},
   "toc_section_display": true,
   "toc_window_display": false
  },
  "varInspector": {
   "cols": {
    "lenName": 16,
    "lenType": 16,
    "lenVar": 40
   },
   "kernels_config": {
    "python": {
     "delete_cmd_postfix": "",
     "delete_cmd_prefix": "del ",
     "library": "var_list.py",
     "varRefreshCmd": "print(var_dic_list())"
    },
    "r": {
     "delete_cmd_postfix": ") ",
     "delete_cmd_prefix": "rm(",
     "library": "var_list.r",
     "varRefreshCmd": "cat(var_dic_list()) "
    }
   },
   "types_to_exclude": [
    "module",
    "function",
    "builtin_function_or_method",
    "instance",
    "_Feature"
   ],
   "window_display": false
  }
 },
 "nbformat": 4,
 "nbformat_minor": 2
}
