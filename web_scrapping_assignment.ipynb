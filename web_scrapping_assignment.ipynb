{
 "cells": [
  {
   "cell_type": "markdown",
   "metadata": {},
   "source": [
    "![](book.jpg)\n",
    "* Photo by [Fallon Michael](https://unsplash.com/@fallonmichaeltx) on [Unsplash](https://unsplash.com/photos/qmlGWIaIgpo)"
   ]
  },
  {
   "cell_type": "markdown",
   "metadata": {},
   "source": [
    "# Web scraping for goodreads.com.\n",
    "* We have scrapped goodreads.com website to get two hundred best book details, as voted on by the general Goodreads community.\n",
    "* Total 2 pages were scrapped since each page contains 100 books information.\n",
    "* We have used BeautifulSoup library for our scrapping."
   ]
  },
  {
   "cell_type": "code",
   "execution_count": 1,
   "metadata": {
    "ExecuteTime": {
     "end_time": "2020-07-13T20:02:39.416474Z",
     "start_time": "2020-07-13T20:02:38.308088Z"
    }
   },
   "outputs": [
    {
     "data": {
      "text/html": [
       "        <script type=\"text/javascript\">\n",
       "        window.PlotlyConfig = {MathJaxConfig: 'local'};\n",
       "        if (window.MathJax) {MathJax.Hub.Config({SVG: {font: \"STIX-Web\"}});}\n",
       "        if (typeof require !== 'undefined') {\n",
       "        require.undef(\"plotly\");\n",
       "        requirejs.config({\n",
       "            paths: {\n",
       "                'plotly': ['https://cdn.plot.ly/plotly-latest.min']\n",
       "            }\n",
       "        });\n",
       "        require(['plotly'], function(Plotly) {\n",
       "            window._Plotly = Plotly;\n",
       "        });\n",
       "        }\n",
       "        </script>\n",
       "        "
      ]
     },
     "metadata": {},
     "output_type": "display_data"
    },
    {
     "data": {
      "text/html": [
       "        <script type=\"text/javascript\">\n",
       "        window.PlotlyConfig = {MathJaxConfig: 'local'};\n",
       "        if (window.MathJax) {MathJax.Hub.Config({SVG: {font: \"STIX-Web\"}});}\n",
       "        if (typeof require !== 'undefined') {\n",
       "        require.undef(\"plotly\");\n",
       "        requirejs.config({\n",
       "            paths: {\n",
       "                'plotly': ['https://cdn.plot.ly/plotly-latest.min']\n",
       "            }\n",
       "        });\n",
       "        require(['plotly'], function(Plotly) {\n",
       "            window._Plotly = Plotly;\n",
       "        });\n",
       "        }\n",
       "        </script>\n",
       "        "
      ]
     },
     "metadata": {},
     "output_type": "display_data"
    }
   ],
   "source": [
    "# web scraping\n",
    "import requests\n",
    "from bs4 import BeautifulSoup\n",
    "\n",
    "# plotly standard imports\n",
    "import plotly.graph_objs as go\n",
    "import chart_studio.plotly as py\n",
    "\n",
    "# Cufflinks wrapper on plotly\n",
    "import cufflinks as cf\n",
    "\n",
    "# Data science imports\n",
    "import pandas as pd\n",
    "import numpy as np\n",
    "\n",
    "%matplotlib inline\n",
    "\n",
    "# Options for pandas\n",
    "pd.options.display.max_columns = 30\n",
    "\n",
    "# Display all cell outputs\n",
    "from IPython.core.interactiveshell import InteractiveShell\n",
    "InteractiveShell.ast_node_interactivity = 'all'\n",
    "from plotly.offline import iplot, init_notebook_mode\n",
    "init_notebook_mode(connected=True)\n",
    "cf.go_offline(connected=True)\n",
    "\n",
    "# Set global theme\n",
    "cf.set_config_file(world_readable=True, theme='polar')"
   ]
  },
  {
   "cell_type": "markdown",
   "metadata": {},
   "source": [
    "##  Importing Beautiful soup and creating the soup. Extracting data"
   ]
  },
  {
   "cell_type": "code",
   "execution_count": 2,
   "metadata": {
    "ExecuteTime": {
     "end_time": "2020-07-13T20:02:48.871550Z",
     "start_time": "2020-07-13T20:02:39.419457Z"
    }
   },
   "outputs": [],
   "source": [
    "url=\"https://www.goodreads.com\"\n",
    "headers ={'User-Agent': 'Mozilla/5.0 (X11; Linux x86_64) AppleWebKit/537.36 (KHTML, like Gecko) Chrome/80.0.3987.163 Safari/537.36',\n",
    "    'Connection' : 'keep-alive'}\n",
    "books=[]\n",
    "for i in range(1,3):\n",
    "    response = requests.get(url+'/list/show/1.Best_Books_Ever?page='+str(i), headers = headers)\n",
    "    gr_soup = BeautifulSoup(response.text, \"html.parser\")\n",
    "    tables = gr_soup.find_all('table', attrs={'class':'tableList'})\n",
    "    table=tables[0]\n",
    "    books = books+table.find_all('tr',attrs={'itemtype':'http://schema.org/Book'})"
   ]
  },
  {
   "cell_type": "markdown",
   "metadata": {},
   "source": [
    "## Checking the type and length of books"
   ]
  },
  {
   "cell_type": "code",
   "execution_count": 3,
   "metadata": {
    "ExecuteTime": {
     "end_time": "2020-07-13T20:02:48.879212Z",
     "start_time": "2020-07-13T20:02:48.874031Z"
    }
   },
   "outputs": [
    {
     "name": "stdout",
     "output_type": "stream",
     "text": [
      "<class 'list'>\n",
      "200\n"
     ]
    }
   ],
   "source": [
    "print(type(books))\n",
    "print(len(books))"
   ]
  },
  {
   "cell_type": "markdown",
   "metadata": {},
   "source": [
    "## Extracting the data we require for our analysis"
   ]
  },
  {
   "cell_type": "code",
   "execution_count": 4,
   "metadata": {
    "ExecuteTime": {
     "end_time": "2020-07-13T20:10:23.427327Z",
     "start_time": "2020-07-13T20:02:48.882755Z"
    }
   },
   "outputs": [],
   "source": [
    "import re\n",
    "book_list = []\n",
    "for book in books:\n",
    "    item = {}\n",
    "    book_div = book.find('div', attrs = {'data-resource-type':'Book'})\n",
    "    item['id'] = book_div['data-resource-id']\n",
    "    item['book_url']=book_div.a['href']\n",
    "    item['name'] = book.find('span', attrs = {'role':'heading'}).text\n",
    "    item['author'] = book.find('a', attrs = {'class':'authorName'}).text\n",
    "    item['author_url']=book.find('a',attrs={'class':'authorName'})['href']\n",
    "    item['score'] =re.sub('[^0-9]','', book.find('a', attrs = {'href':'#'}).text) \n",
    "    book_response = requests.get(url+item['book_url'], headers = headers)\n",
    "    book_soup = BeautifulSoup(book_response.text, 'html.parser')\n",
    "    item['isbn'] = book_soup.select(\"meta[property = 'books:isbn']\")[0]['content']\n",
    "    item['rating']=re.findall(r'\\d+\\.\\d+', book_soup.find('span',attrs={'itemprop':'ratingValue'}).text)[0]\n",
    "    item['rating_count'] = book_soup.select(\"meta[itemprop='ratingCount']\")[0]['content']\n",
    "    item['review_count'] = book_soup.select(\"meta[itemprop='reviewCount']\")[0]['content']\n",
    "    item['page_count'] = book_soup.select(\"meta[property = 'books:page_count']\")[0]['content']\n",
    "    item['year'] = re.findall(r'\\d{4}', book_soup.select(\"div#details div.row\")[1].text.strip())[0]\n",
    "    item['genres'] = book_soup.find('a', attrs = {'class':\"actionLinkLite bookPageGenreLink\"}).text\n",
    "    book_list.append(item)\n"
   ]
  },
  {
   "cell_type": "markdown",
   "metadata": {},
   "source": [
    "## Creating our dataframe"
   ]
  },
  {
   "cell_type": "code",
   "execution_count": 5,
   "metadata": {
    "ExecuteTime": {
     "end_time": "2020-07-13T20:10:23.435248Z",
     "start_time": "2020-07-13T20:10:23.428748Z"
    }
   },
   "outputs": [],
   "source": [
    "import pandas as pd\n",
    "df = pd.DataFrame(book_list)"
   ]
  },
  {
   "cell_type": "code",
   "execution_count": 6,
   "metadata": {
    "ExecuteTime": {
     "end_time": "2020-07-13T20:10:23.568094Z",
     "start_time": "2020-07-13T20:10:23.437146Z"
    }
   },
   "outputs": [
    {
     "data": {
      "text/html": [
       "<div>\n",
       "<style scoped>\n",
       "    .dataframe tbody tr th:only-of-type {\n",
       "        vertical-align: middle;\n",
       "    }\n",
       "\n",
       "    .dataframe tbody tr th {\n",
       "        vertical-align: top;\n",
       "    }\n",
       "\n",
       "    .dataframe thead th {\n",
       "        text-align: right;\n",
       "    }\n",
       "</style>\n",
       "<table border=\"1\" class=\"dataframe\">\n",
       "  <thead>\n",
       "    <tr style=\"text-align: right;\">\n",
       "      <th></th>\n",
       "      <th>id</th>\n",
       "      <th>book_url</th>\n",
       "      <th>name</th>\n",
       "      <th>author</th>\n",
       "      <th>author_url</th>\n",
       "      <th>score</th>\n",
       "      <th>isbn</th>\n",
       "      <th>rating</th>\n",
       "      <th>rating_count</th>\n",
       "      <th>review_count</th>\n",
       "      <th>page_count</th>\n",
       "      <th>year</th>\n",
       "      <th>genres</th>\n",
       "    </tr>\n",
       "  </thead>\n",
       "  <tbody>\n",
       "    <tr>\n",
       "      <th>0</th>\n",
       "      <td>2767052</td>\n",
       "      <td>/book/show/2767052-the-hunger-games</td>\n",
       "      <td>The Hunger Games (The Hunger Games, #1)</td>\n",
       "      <td>Suzanne Collins</td>\n",
       "      <td>https://www.goodreads.com/author/show/153394.S...</td>\n",
       "      <td>2959964</td>\n",
       "      <td>9780439023481</td>\n",
       "      <td>4.33</td>\n",
       "      <td>6227649</td>\n",
       "      <td>170045</td>\n",
       "      <td>374</td>\n",
       "      <td>2008</td>\n",
       "      <td>Young Adult</td>\n",
       "    </tr>\n",
       "    <tr>\n",
       "      <th>1</th>\n",
       "      <td>2</td>\n",
       "      <td>/book/show/2.Harry_Potter_and_the_Order_of_the...</td>\n",
       "      <td>Harry Potter and the Order of the Phoenix (Har...</td>\n",
       "      <td>J.K. Rowling</td>\n",
       "      <td>https://www.goodreads.com/author/show/1077326....</td>\n",
       "      <td>2604164</td>\n",
       "      <td>9780439358071</td>\n",
       "      <td>4.50</td>\n",
       "      <td>2432082</td>\n",
       "      <td>40814</td>\n",
       "      <td>870</td>\n",
       "      <td>2004</td>\n",
       "      <td>Fantasy</td>\n",
       "    </tr>\n",
       "    <tr>\n",
       "      <th>2</th>\n",
       "      <td>2657</td>\n",
       "      <td>/book/show/2657.To_Kill_a_Mockingbird</td>\n",
       "      <td>To Kill a Mockingbird</td>\n",
       "      <td>Harper Lee</td>\n",
       "      <td>https://www.goodreads.com/author/show/1825.Har...</td>\n",
       "      <td>2236599</td>\n",
       "      <td>null</td>\n",
       "      <td>4.28</td>\n",
       "      <td>4380949</td>\n",
       "      <td>89315</td>\n",
       "      <td>324</td>\n",
       "      <td>2006</td>\n",
       "      <td>Classics</td>\n",
       "    </tr>\n",
       "    <tr>\n",
       "      <th>3</th>\n",
       "      <td>1885</td>\n",
       "      <td>/book/show/1885.Pride_and_Prejudice</td>\n",
       "      <td>Pride and Prejudice</td>\n",
       "      <td>Jane Austen</td>\n",
       "      <td>https://www.goodreads.com/author/show/1265.Jan...</td>\n",
       "      <td>1943333</td>\n",
       "      <td>null</td>\n",
       "      <td>4.26</td>\n",
       "      <td>2908472</td>\n",
       "      <td>64576</td>\n",
       "      <td>279</td>\n",
       "      <td>2000</td>\n",
       "      <td>Classics</td>\n",
       "    </tr>\n",
       "    <tr>\n",
       "      <th>4</th>\n",
       "      <td>41865</td>\n",
       "      <td>/book/show/41865.Twilight</td>\n",
       "      <td>Twilight (Twilight, #1)</td>\n",
       "      <td>Stephenie Meyer</td>\n",
       "      <td>https://www.goodreads.com/author/show/941441.S...</td>\n",
       "      <td>1452749</td>\n",
       "      <td>9780316015844</td>\n",
       "      <td>3.59</td>\n",
       "      <td>4842942</td>\n",
       "      <td>102549</td>\n",
       "      <td>501</td>\n",
       "      <td>2006</td>\n",
       "      <td>Young Adult</td>\n",
       "    </tr>\n",
       "  </tbody>\n",
       "</table>\n",
       "</div>"
      ],
      "text/plain": [
       "        id                                           book_url  \\\n",
       "0  2767052                /book/show/2767052-the-hunger-games   \n",
       "1        2  /book/show/2.Harry_Potter_and_the_Order_of_the...   \n",
       "2     2657              /book/show/2657.To_Kill_a_Mockingbird   \n",
       "3     1885                /book/show/1885.Pride_and_Prejudice   \n",
       "4    41865                          /book/show/41865.Twilight   \n",
       "\n",
       "                                                name           author  \\\n",
       "0            The Hunger Games (The Hunger Games, #1)  Suzanne Collins   \n",
       "1  Harry Potter and the Order of the Phoenix (Har...     J.K. Rowling   \n",
       "2                              To Kill a Mockingbird       Harper Lee   \n",
       "3                                Pride and Prejudice      Jane Austen   \n",
       "4                            Twilight (Twilight, #1)  Stephenie Meyer   \n",
       "\n",
       "                                          author_url    score           isbn  \\\n",
       "0  https://www.goodreads.com/author/show/153394.S...  2959964  9780439023481   \n",
       "1  https://www.goodreads.com/author/show/1077326....  2604164  9780439358071   \n",
       "2  https://www.goodreads.com/author/show/1825.Har...  2236599           null   \n",
       "3  https://www.goodreads.com/author/show/1265.Jan...  1943333           null   \n",
       "4  https://www.goodreads.com/author/show/941441.S...  1452749  9780316015844   \n",
       "\n",
       "  rating rating_count review_count page_count  year       genres  \n",
       "0   4.33      6227649       170045        374  2008  Young Adult  \n",
       "1   4.50      2432082        40814        870  2004      Fantasy  \n",
       "2   4.28      4380949        89315        324  2006     Classics  \n",
       "3   4.26      2908472        64576        279  2000     Classics  \n",
       "4   3.59      4842942       102549        501  2006  Young Adult  "
      ]
     },
     "execution_count": 6,
     "metadata": {},
     "output_type": "execute_result"
    }
   ],
   "source": [
    "df.head()"
   ]
  },
  {
   "cell_type": "markdown",
   "metadata": {},
   "source": [
    "##  Creating .csv file from our dataframe"
   ]
  },
  {
   "cell_type": "code",
   "execution_count": 7,
   "metadata": {
    "ExecuteTime": {
     "end_time": "2020-07-13T20:10:23.665510Z",
     "start_time": "2020-07-13T20:10:23.570997Z"
    }
   },
   "outputs": [],
   "source": [
    "df = df.to_csv('goodreads.csv', index = False)"
   ]
  },
  {
   "cell_type": "markdown",
   "metadata": {},
   "source": [
    "# Importing the data"
   ]
  },
  {
   "cell_type": "code",
   "execution_count": 8,
   "metadata": {
    "ExecuteTime": {
     "end_time": "2020-07-13T20:10:23.832079Z",
     "start_time": "2020-07-13T20:10:23.669287Z"
    }
   },
   "outputs": [
    {
     "data": {
      "text/html": [
       "<div>\n",
       "<style scoped>\n",
       "    .dataframe tbody tr th:only-of-type {\n",
       "        vertical-align: middle;\n",
       "    }\n",
       "\n",
       "    .dataframe tbody tr th {\n",
       "        vertical-align: top;\n",
       "    }\n",
       "\n",
       "    .dataframe thead th {\n",
       "        text-align: right;\n",
       "    }\n",
       "</style>\n",
       "<table border=\"1\" class=\"dataframe\">\n",
       "  <thead>\n",
       "    <tr style=\"text-align: right;\">\n",
       "      <th></th>\n",
       "      <th>id</th>\n",
       "      <th>book_url</th>\n",
       "      <th>name</th>\n",
       "      <th>author</th>\n",
       "      <th>author_url</th>\n",
       "      <th>score</th>\n",
       "      <th>isbn</th>\n",
       "      <th>rating</th>\n",
       "      <th>rating_count</th>\n",
       "      <th>review_count</th>\n",
       "      <th>page_count</th>\n",
       "      <th>year</th>\n",
       "      <th>genres</th>\n",
       "    </tr>\n",
       "  </thead>\n",
       "  <tbody>\n",
       "    <tr>\n",
       "      <th>0</th>\n",
       "      <td>2767052</td>\n",
       "      <td>/book/show/2767052-the-hunger-games</td>\n",
       "      <td>The Hunger Games (The Hunger Games, #1)</td>\n",
       "      <td>Suzanne Collins</td>\n",
       "      <td>https://www.goodreads.com/author/show/153394.S...</td>\n",
       "      <td>2959964</td>\n",
       "      <td>9.780439e+12</td>\n",
       "      <td>4.33</td>\n",
       "      <td>6227649</td>\n",
       "      <td>170045</td>\n",
       "      <td>374</td>\n",
       "      <td>2008</td>\n",
       "      <td>Young Adult</td>\n",
       "    </tr>\n",
       "    <tr>\n",
       "      <th>1</th>\n",
       "      <td>2</td>\n",
       "      <td>/book/show/2.Harry_Potter_and_the_Order_of_the...</td>\n",
       "      <td>Harry Potter and the Order of the Phoenix (Har...</td>\n",
       "      <td>J.K. Rowling</td>\n",
       "      <td>https://www.goodreads.com/author/show/1077326....</td>\n",
       "      <td>2604164</td>\n",
       "      <td>9.780439e+12</td>\n",
       "      <td>4.50</td>\n",
       "      <td>2432082</td>\n",
       "      <td>40814</td>\n",
       "      <td>870</td>\n",
       "      <td>2004</td>\n",
       "      <td>Fantasy</td>\n",
       "    </tr>\n",
       "    <tr>\n",
       "      <th>2</th>\n",
       "      <td>2657</td>\n",
       "      <td>/book/show/2657.To_Kill_a_Mockingbird</td>\n",
       "      <td>To Kill a Mockingbird</td>\n",
       "      <td>Harper Lee</td>\n",
       "      <td>https://www.goodreads.com/author/show/1825.Har...</td>\n",
       "      <td>2236599</td>\n",
       "      <td>NaN</td>\n",
       "      <td>4.28</td>\n",
       "      <td>4380949</td>\n",
       "      <td>89315</td>\n",
       "      <td>324</td>\n",
       "      <td>2006</td>\n",
       "      <td>Classics</td>\n",
       "    </tr>\n",
       "    <tr>\n",
       "      <th>3</th>\n",
       "      <td>1885</td>\n",
       "      <td>/book/show/1885.Pride_and_Prejudice</td>\n",
       "      <td>Pride and Prejudice</td>\n",
       "      <td>Jane Austen</td>\n",
       "      <td>https://www.goodreads.com/author/show/1265.Jan...</td>\n",
       "      <td>1943333</td>\n",
       "      <td>NaN</td>\n",
       "      <td>4.26</td>\n",
       "      <td>2908472</td>\n",
       "      <td>64576</td>\n",
       "      <td>279</td>\n",
       "      <td>2000</td>\n",
       "      <td>Classics</td>\n",
       "    </tr>\n",
       "    <tr>\n",
       "      <th>4</th>\n",
       "      <td>41865</td>\n",
       "      <td>/book/show/41865.Twilight</td>\n",
       "      <td>Twilight (Twilight, #1)</td>\n",
       "      <td>Stephenie Meyer</td>\n",
       "      <td>https://www.goodreads.com/author/show/941441.S...</td>\n",
       "      <td>1452749</td>\n",
       "      <td>9.780316e+12</td>\n",
       "      <td>3.59</td>\n",
       "      <td>4842942</td>\n",
       "      <td>102549</td>\n",
       "      <td>501</td>\n",
       "      <td>2006</td>\n",
       "      <td>Young Adult</td>\n",
       "    </tr>\n",
       "  </tbody>\n",
       "</table>\n",
       "</div>"
      ],
      "text/plain": [
       "        id                                           book_url  \\\n",
       "0  2767052                /book/show/2767052-the-hunger-games   \n",
       "1        2  /book/show/2.Harry_Potter_and_the_Order_of_the...   \n",
       "2     2657              /book/show/2657.To_Kill_a_Mockingbird   \n",
       "3     1885                /book/show/1885.Pride_and_Prejudice   \n",
       "4    41865                          /book/show/41865.Twilight   \n",
       "\n",
       "                                                name           author  \\\n",
       "0            The Hunger Games (The Hunger Games, #1)  Suzanne Collins   \n",
       "1  Harry Potter and the Order of the Phoenix (Har...     J.K. Rowling   \n",
       "2                              To Kill a Mockingbird       Harper Lee   \n",
       "3                                Pride and Prejudice      Jane Austen   \n",
       "4                            Twilight (Twilight, #1)  Stephenie Meyer   \n",
       "\n",
       "                                          author_url    score          isbn  \\\n",
       "0  https://www.goodreads.com/author/show/153394.S...  2959964  9.780439e+12   \n",
       "1  https://www.goodreads.com/author/show/1077326....  2604164  9.780439e+12   \n",
       "2  https://www.goodreads.com/author/show/1825.Har...  2236599           NaN   \n",
       "3  https://www.goodreads.com/author/show/1265.Jan...  1943333           NaN   \n",
       "4  https://www.goodreads.com/author/show/941441.S...  1452749  9.780316e+12   \n",
       "\n",
       "   rating  rating_count  review_count  page_count  year       genres  \n",
       "0    4.33       6227649        170045         374  2008  Young Adult  \n",
       "1    4.50       2432082         40814         870  2004      Fantasy  \n",
       "2    4.28       4380949         89315         324  2006     Classics  \n",
       "3    4.26       2908472         64576         279  2000     Classics  \n",
       "4    3.59       4842942        102549         501  2006  Young Adult  "
      ]
     },
     "execution_count": 8,
     "metadata": {},
     "output_type": "execute_result"
    }
   ],
   "source": [
    "df = pd.read_csv('goodreads.csv')\n",
    "df.head()"
   ]
  },
  {
   "cell_type": "markdown",
   "metadata": {},
   "source": [
    "## Checking the columns"
   ]
  },
  {
   "cell_type": "code",
   "execution_count": 9,
   "metadata": {
    "ExecuteTime": {
     "end_time": "2020-07-13T20:10:23.929875Z",
     "start_time": "2020-07-13T20:10:23.835445Z"
    }
   },
   "outputs": [
    {
     "data": {
      "text/plain": [
       "Index(['id', 'book_url', 'name', 'author', 'author_url', 'score', 'isbn',\n",
       "       'rating', 'rating_count', 'review_count', 'page_count', 'year',\n",
       "       'genres'],\n",
       "      dtype='object')"
      ]
     },
     "execution_count": 9,
     "metadata": {},
     "output_type": "execute_result"
    }
   ],
   "source": [
    "df.columns"
   ]
  },
  {
   "cell_type": "markdown",
   "metadata": {},
   "source": [
    "## Checking the info"
   ]
  },
  {
   "cell_type": "code",
   "execution_count": 10,
   "metadata": {
    "ExecuteTime": {
     "end_time": "2020-07-13T20:10:24.079443Z",
     "start_time": "2020-07-13T20:10:23.933303Z"
    }
   },
   "outputs": [
    {
     "name": "stdout",
     "output_type": "stream",
     "text": [
      "<class 'pandas.core.frame.DataFrame'>\n",
      "RangeIndex: 200 entries, 0 to 199\n",
      "Data columns (total 13 columns):\n",
      " #   Column        Non-Null Count  Dtype  \n",
      "---  ------        --------------  -----  \n",
      " 0   id            200 non-null    int64  \n",
      " 1   book_url      200 non-null    object \n",
      " 2   name          200 non-null    object \n",
      " 3   author        200 non-null    object \n",
      " 4   author_url    200 non-null    object \n",
      " 5   score         200 non-null    int64  \n",
      " 6   isbn          150 non-null    float64\n",
      " 7   rating        200 non-null    float64\n",
      " 8   rating_count  200 non-null    int64  \n",
      " 9   review_count  200 non-null    int64  \n",
      " 10  page_count    200 non-null    int64  \n",
      " 11  year          200 non-null    int64  \n",
      " 12  genres        200 non-null    object \n",
      "dtypes: float64(2), int64(6), object(5)\n",
      "memory usage: 20.4+ KB\n"
     ]
    }
   ],
   "source": [
    "df.info()"
   ]
  },
  {
   "cell_type": "markdown",
   "metadata": {},
   "source": [
    "## Converting the data type"
   ]
  },
  {
   "cell_type": "code",
   "execution_count": 11,
   "metadata": {
    "ExecuteTime": {
     "end_time": "2020-07-13T20:10:24.198714Z",
     "start_time": "2020-07-13T20:10:24.082570Z"
    }
   },
   "outputs": [
    {
     "name": "stdout",
     "output_type": "stream",
     "text": [
      "<class 'pandas.core.frame.DataFrame'>\n",
      "RangeIndex: 200 entries, 0 to 199\n",
      "Data columns (total 13 columns):\n",
      " #   Column        Non-Null Count  Dtype  \n",
      "---  ------        --------------  -----  \n",
      " 0   id            200 non-null    int64  \n",
      " 1   book_url      200 non-null    object \n",
      " 2   name          200 non-null    object \n",
      " 3   author        200 non-null    object \n",
      " 4   author_url    200 non-null    object \n",
      " 5   score         200 non-null    int64  \n",
      " 6   isbn          150 non-null    float64\n",
      " 7   rating        200 non-null    float32\n",
      " 8   rating_count  200 non-null    int64  \n",
      " 9   review_count  200 non-null    float32\n",
      " 10  page_count    200 non-null    float32\n",
      " 11  year          200 non-null    int64  \n",
      " 12  genres        200 non-null    object \n",
      "dtypes: float32(3), float64(1), int64(4), object(5)\n",
      "memory usage: 18.1+ KB\n"
     ]
    }
   ],
   "source": [
    "df.rating = pd.to_numeric(df.rating, downcast=\"float\")\n",
    "df['page_count'] = pd.to_numeric(df.page_count, downcast=\"float\")\n",
    "df['review_count'] = pd.to_numeric(df.review_count, downcast=\"float\")\n",
    "\n",
    "df.info()"
   ]
  },
  {
   "cell_type": "markdown",
   "metadata": {},
   "source": [
    "# EDA\n",
    "Finding the correlation between various entities.\n",
    "1. page_count: Total number of pages in the book.\n",
    "2. rating: Average rating of the book.\n",
    "3. rating_count: The total numberr of people who have rated the book.\n",
    "4. review_count: Total number of review for the book.\n",
    "5. score: It is based on multiple factors, including the number of people who have voted for it and how highly those voters ranked the book."
   ]
  },
  {
   "cell_type": "markdown",
   "metadata": {},
   "source": [
    "## Describing the data"
   ]
  },
  {
   "cell_type": "code",
   "execution_count": 12,
   "metadata": {
    "ExecuteTime": {
     "end_time": "2020-07-13T20:10:24.338698Z",
     "start_time": "2020-07-13T20:10:24.201076Z"
    }
   },
   "outputs": [
    {
     "data": {
      "text/html": [
       "<div>\n",
       "<style scoped>\n",
       "    .dataframe tbody tr th:only-of-type {\n",
       "        vertical-align: middle;\n",
       "    }\n",
       "\n",
       "    .dataframe tbody tr th {\n",
       "        vertical-align: top;\n",
       "    }\n",
       "\n",
       "    .dataframe thead th {\n",
       "        text-align: right;\n",
       "    }\n",
       "</style>\n",
       "<table border=\"1\" class=\"dataframe\">\n",
       "  <thead>\n",
       "    <tr style=\"text-align: right;\">\n",
       "      <th></th>\n",
       "      <th>score</th>\n",
       "      <th>rating</th>\n",
       "      <th>rating_count</th>\n",
       "      <th>review_count</th>\n",
       "      <th>page_count</th>\n",
       "    </tr>\n",
       "  </thead>\n",
       "  <tbody>\n",
       "    <tr>\n",
       "      <th>count</th>\n",
       "      <td>2.000000e+02</td>\n",
       "      <td>200.000000</td>\n",
       "      <td>2.000000e+02</td>\n",
       "      <td>200.000000</td>\n",
       "      <td>200.000000</td>\n",
       "    </tr>\n",
       "    <tr>\n",
       "      <th>mean</th>\n",
       "      <td>3.705803e+05</td>\n",
       "      <td>4.112999</td>\n",
       "      <td>1.002200e+06</td>\n",
       "      <td>28038.259766</td>\n",
       "      <td>434.829987</td>\n",
       "    </tr>\n",
       "    <tr>\n",
       "      <th>std</th>\n",
       "      <td>4.213078e+05</td>\n",
       "      <td>0.237567</td>\n",
       "      <td>1.002924e+06</td>\n",
       "      <td>25833.224609</td>\n",
       "      <td>321.965790</td>\n",
       "    </tr>\n",
       "    <tr>\n",
       "      <th>min</th>\n",
       "      <td>7.125500e+04</td>\n",
       "      <td>3.410000</td>\n",
       "      <td>8.387000e+03</td>\n",
       "      <td>131.000000</td>\n",
       "      <td>26.000000</td>\n",
       "    </tr>\n",
       "    <tr>\n",
       "      <th>25%</th>\n",
       "      <td>1.046155e+05</td>\n",
       "      <td>3.970000</td>\n",
       "      <td>3.486290e+05</td>\n",
       "      <td>10857.500000</td>\n",
       "      <td>238.500000</td>\n",
       "    </tr>\n",
       "    <tr>\n",
       "      <th>50%</th>\n",
       "      <td>2.031165e+05</td>\n",
       "      <td>4.120000</td>\n",
       "      <td>6.549520e+05</td>\n",
       "      <td>19916.500000</td>\n",
       "      <td>354.000000</td>\n",
       "    </tr>\n",
       "    <tr>\n",
       "      <th>75%</th>\n",
       "      <td>5.002870e+05</td>\n",
       "      <td>4.280000</td>\n",
       "      <td>1.301533e+06</td>\n",
       "      <td>36699.500000</td>\n",
       "      <td>507.750000</td>\n",
       "    </tr>\n",
       "    <tr>\n",
       "      <th>max</th>\n",
       "      <td>2.959964e+06</td>\n",
       "      <td>4.620000</td>\n",
       "      <td>6.816505e+06</td>\n",
       "      <td>170045.000000</td>\n",
       "      <td>2700.000000</td>\n",
       "    </tr>\n",
       "  </tbody>\n",
       "</table>\n",
       "</div>"
      ],
      "text/plain": [
       "              score      rating  rating_count   review_count   page_count\n",
       "count  2.000000e+02  200.000000  2.000000e+02     200.000000   200.000000\n",
       "mean   3.705803e+05    4.112999  1.002200e+06   28038.259766   434.829987\n",
       "std    4.213078e+05    0.237567  1.002924e+06   25833.224609   321.965790\n",
       "min    7.125500e+04    3.410000  8.387000e+03     131.000000    26.000000\n",
       "25%    1.046155e+05    3.970000  3.486290e+05   10857.500000   238.500000\n",
       "50%    2.031165e+05    4.120000  6.549520e+05   19916.500000   354.000000\n",
       "75%    5.002870e+05    4.280000  1.301533e+06   36699.500000   507.750000\n",
       "max    2.959964e+06    4.620000  6.816505e+06  170045.000000  2700.000000"
      ]
     },
     "execution_count": 12,
     "metadata": {},
     "output_type": "execute_result"
    }
   ],
   "source": [
    "df[['score', 'rating', 'rating_count', 'review_count', 'page_count']].describe()"
   ]
  },
  {
   "cell_type": "markdown",
   "metadata": {},
   "source": [
    "## Number of authors"
   ]
  },
  {
   "cell_type": "code",
   "execution_count": 13,
   "metadata": {
    "ExecuteTime": {
     "end_time": "2020-07-13T20:10:24.511410Z",
     "start_time": "2020-07-13T20:10:24.341139Z"
    }
   },
   "outputs": [
    {
     "data": {
      "text/plain": [
       "154"
      ]
     },
     "execution_count": 13,
     "metadata": {},
     "output_type": "execute_result"
    }
   ],
   "source": [
    "df.author.nunique()"
   ]
  },
  {
   "cell_type": "markdown",
   "metadata": {},
   "source": [
    "## Books published per author"
   ]
  },
  {
   "cell_type": "code",
   "execution_count": 14,
   "metadata": {
    "ExecuteTime": {
     "end_time": "2020-07-13T20:10:24.762665Z",
     "start_time": "2020-07-13T20:10:24.513706Z"
    }
   },
   "outputs": [
    {
     "data": {
      "text/html": [
       "<div>\n",
       "<style scoped>\n",
       "    .dataframe tbody tr th:only-of-type {\n",
       "        vertical-align: middle;\n",
       "    }\n",
       "\n",
       "    .dataframe tbody tr th {\n",
       "        vertical-align: top;\n",
       "    }\n",
       "\n",
       "    .dataframe thead th {\n",
       "        text-align: right;\n",
       "    }\n",
       "</style>\n",
       "<table border=\"1\" class=\"dataframe\">\n",
       "  <thead>\n",
       "    <tr style=\"text-align: right;\">\n",
       "      <th></th>\n",
       "      <th>name</th>\n",
       "    </tr>\n",
       "    <tr>\n",
       "      <th>author</th>\n",
       "      <th></th>\n",
       "    </tr>\n",
       "  </thead>\n",
       "  <tbody>\n",
       "    <tr>\n",
       "      <th>J.K. Rowling</th>\n",
       "      <td>7</td>\n",
       "    </tr>\n",
       "    <tr>\n",
       "      <th>Rick Riordan</th>\n",
       "      <td>5</td>\n",
       "    </tr>\n",
       "    <tr>\n",
       "      <th>Dr. Seuss</th>\n",
       "      <td>5</td>\n",
       "    </tr>\n",
       "    <tr>\n",
       "      <th>Richelle Mead</th>\n",
       "      <td>4</td>\n",
       "    </tr>\n",
       "    <tr>\n",
       "      <th>Charles Dickens</th>\n",
       "      <td>4</td>\n",
       "    </tr>\n",
       "    <tr>\n",
       "      <th>...</th>\n",
       "      <td>...</td>\n",
       "    </tr>\n",
       "    <tr>\n",
       "      <th>Marion Zimmer Bradley</th>\n",
       "      <td>1</td>\n",
       "    </tr>\n",
       "    <tr>\n",
       "      <th>Mark Haddon</th>\n",
       "      <td>1</td>\n",
       "    </tr>\n",
       "    <tr>\n",
       "      <th>Markus Zusak</th>\n",
       "      <td>1</td>\n",
       "    </tr>\n",
       "    <tr>\n",
       "      <th>Mary Wollstonecraft Shelley</th>\n",
       "      <td>1</td>\n",
       "    </tr>\n",
       "    <tr>\n",
       "      <th>A.A. Milne</th>\n",
       "      <td>1</td>\n",
       "    </tr>\n",
       "  </tbody>\n",
       "</table>\n",
       "<p>154 rows × 1 columns</p>\n",
       "</div>"
      ],
      "text/plain": [
       "                             name\n",
       "author                           \n",
       "J.K. Rowling                    7\n",
       "Rick Riordan                    5\n",
       "Dr. Seuss                       5\n",
       "Richelle Mead                   4\n",
       "Charles Dickens                 4\n",
       "...                           ...\n",
       "Marion Zimmer Bradley           1\n",
       "Mark Haddon                     1\n",
       "Markus Zusak                    1\n",
       "Mary Wollstonecraft Shelley     1\n",
       "A.A. Milne                      1\n",
       "\n",
       "[154 rows x 1 columns]"
      ]
     },
     "execution_count": 14,
     "metadata": {},
     "output_type": "execute_result"
    }
   ],
   "source": [
    "df_author = df.groupby('author')['name'].count().sort_values(ascending = False)\n",
    "df_author = pd.DataFrame(df_author)\n",
    "df_author"
   ]
  },
  {
   "cell_type": "code",
   "execution_count": 15,
   "metadata": {
    "ExecuteTime": {
     "end_time": "2020-07-13T20:10:25.245216Z",
     "start_time": "2020-07-13T20:10:24.765555Z"
    }
   },
   "outputs": [
    {
     "data": {
      "application/vnd.plotly.v1+json": {
       "config": {
        "linkText": "Export to plot.ly",
        "plotlyServerURL": "https://plot.ly",
        "showLink": true
       },
       "data": [
        {
         "marker": {
          "color": "rgba(0, 0, 128, 0.6)",
          "line": {
           "color": "rgba(0, 0, 128, 1.0)",
           "width": 1
          }
         },
         "name": "id",
         "orientation": "v",
         "text": "",
         "type": "bar",
         "x": [
          "A.A. Milne",
          "Agatha Christie",
          "Alan Moore",
          "Albert Camus",
          "Aldous Huxley",
          "Alexandre Dumas",
          "Alice Sebold",
          "Alice Walker",
          "Amy Tan",
          "Anita Diamant",
          "Anne Rice",
          "Anthony Burgess",
          "Antoine de Saint-Exupéry",
          "Arthur Conan Doyle",
          "Arthur Golden",
          "Audrey Niffenegger",
          "Ayn Rand",
          "Barbara Kingsolver",
          "Becca Fitzpatrick",
          "Betty  Smith",
          "Bram Stoker",
          "C.S. Lewis",
          "Carlos Ruiz Zafón",
          "Cassandra Clare",
          "Charles Dickens",
          "Charlotte Brontë",
          "Christopher Paolini",
          "Chuck Palahniuk",
          "Colleen McCullough",
          "Cormac McCarthy",
          "Dan Brown",
          "Daniel Keyes",
          "Dante Alighieri",
          "Daphne du Maurier",
          "Diana Gabaldon",
          "Douglas Adams",
          "Dr. Seuss",
          "E.B. White",
          "E.L. James",
          "Edgar Allan Poe",
          "Elizabeth Gilbert",
          "Emily Brontë",
          "Eric Carle",
          "Erich Maria Remarque",
          "Ernest Hemingway",
          "F. Scott Fitzgerald",
          "Frances Hodgson Burnett",
          "Frank Herbert",
          "Frank McCourt",
          "Franz Kafka",
          "Fyodor Dostoyevsky",
          "Gabriel García Márquez",
          "Geoffrey Chaucer",
          "George Orwell",
          "George R.R. Martin",
          "Gustave Flaubert",
          "Harper Lee",
          "Herman Melville",
          "Hermann Hesse",
          "Homer",
          "Ian McEwan",
          "J.D. Salinger",
          "J.K. Rowling",
          "J.M. Barrie",
          "J.R.R. Tolkien",
          "Jack Kerouac",
          "Jack London",
          "James Dashner",
          "James Joyce",
          "Jane Austen",
          "Jane Carruth",
          "Jay Asher",
          "Jean M. Auel",
          "Jeffrey Eugenides",
          "Jodi Picoult",
          "John Green",
          "John Irving",
          "John Steinbeck",
          "Joseph Conrad",
          "Joseph Heller",
          "Kahlil Gibran",
          "Katherine Paterson",
          "Kathryn Stockett",
          "Ken Follett",
          "Ken Kesey",
          "Khaled Hosseini",
          "Kurt Vonnegut Jr.",
          "L. Frank Baum",
          "L.M. Montgomery",
          "Larry McMurtry",
          "Laura Ingalls Wilder",
          "Leo Tolstoy",
          "Lewis Carroll",
          "Lois Lowry",
          "Louis Sachar",
          "Louisa May Alcott",
          "Madeleine L'Engle",
          "Margaret Atwood",
          "Margaret Mitchell",
          "Margaret Wise Brown",
          "Mario Puzo",
          "Marion Zimmer Bradley",
          "Mark Haddon",
          "Mark Twain",
          "Markus Zusak",
          "Mary Wollstonecraft Shelley",
          "Maurice Sendak",
          "Michael Ende",
          "Miguel de Cervantes Saavedra",
          "Mikhail Bulgakov",
          "Milan Kundera",
          "Mitch Albom",
          "Nathaniel Hawthorne",
          "Neil Gaiman",
          "Nicholas Sparks",
          "Norton Juster",
          "Orson Scott Card",
          "Oscar Wilde",
          "Patrick Rothfuss",
          "Patrick Süskind",
          "Paulo Coelho",
          "Pearl S. Buck",
          "Philip Pullman",
          "Ray Bradbury",
          "Reduced Shakespeare Company",
          "Richard  Adams",
          "Richard Bach",
          "Richelle Mead",
          "Rick Riordan",
          "Roald Dahl",
          "Robert Louis Stevenson",
          "S.E. Hinton",
          "Sara Gruen",
          "Shel Silverstein",
          "Stephen Chbosky",
          "Stephen King",
          "Stephenie Meyer",
          "Stieg Larsson",
          "Sue Monk Kidd",
          "Suzanne Collins",
          "Sylvia Plath",
          "Terry Pratchett",
          "Thomas Hardy",
          "Truman Capote",
          "Umberto Eco",
          "Veronica Roth",
          "Victor Hugo",
          "Vladimir Nabokov",
          "William Golding",
          "William Goldman",
          "William Shakespeare",
          "Wilson Rawls",
          "Yann Martel",
          "Zora Neale Hurston"
         ],
         "y": [
          1,
          1,
          1,
          1,
          1,
          2,
          1,
          1,
          1,
          1,
          1,
          1,
          1,
          1,
          1,
          1,
          1,
          1,
          1,
          1,
          1,
          2,
          1,
          3,
          4,
          1,
          1,
          1,
          1,
          1,
          1,
          1,
          1,
          1,
          1,
          2,
          5,
          1,
          1,
          1,
          1,
          1,
          1,
          1,
          2,
          1,
          1,
          1,
          1,
          1,
          2,
          2,
          1,
          2,
          2,
          1,
          1,
          1,
          1,
          1,
          1,
          1,
          7,
          1,
          3,
          1,
          1,
          1,
          1,
          1,
          1,
          1,
          1,
          1,
          1,
          2,
          2,
          1,
          1,
          1,
          1,
          1,
          1,
          1,
          1,
          2,
          1,
          1,
          1,
          1,
          1,
          1,
          1,
          1,
          1,
          1,
          1,
          1,
          1,
          1,
          1,
          1,
          1,
          2,
          1,
          1,
          1,
          1,
          1,
          1,
          1,
          2,
          1,
          1,
          2,
          1,
          1,
          2,
          1,
          1,
          1,
          1,
          1,
          1,
          1,
          1,
          1,
          4,
          5,
          2,
          1,
          1,
          1,
          1,
          1,
          3,
          1,
          2,
          1,
          2,
          1,
          1,
          1,
          1,
          1,
          2,
          1,
          1,
          1,
          1,
          2,
          1,
          1,
          1
         ]
        }
       ],
       "layout": {
        "legend": {
         "bgcolor": "#F2F3F7",
         "font": {
          "color": "#505050"
         }
        },
        "paper_bgcolor": "#F2F3F7",
        "plot_bgcolor": "#F2F3F7",
        "template": {
         "data": {
          "bar": [
           {
            "error_x": {
             "color": "#2a3f5f"
            },
            "error_y": {
             "color": "#2a3f5f"
            },
            "marker": {
             "line": {
              "color": "#E5ECF6",
              "width": 0.5
             }
            },
            "type": "bar"
           }
          ],
          "barpolar": [
           {
            "marker": {
             "line": {
              "color": "#E5ECF6",
              "width": 0.5
             }
            },
            "type": "barpolar"
           }
          ],
          "carpet": [
           {
            "aaxis": {
             "endlinecolor": "#2a3f5f",
             "gridcolor": "white",
             "linecolor": "white",
             "minorgridcolor": "white",
             "startlinecolor": "#2a3f5f"
            },
            "baxis": {
             "endlinecolor": "#2a3f5f",
             "gridcolor": "white",
             "linecolor": "white",
             "minorgridcolor": "white",
             "startlinecolor": "#2a3f5f"
            },
            "type": "carpet"
           }
          ],
          "choropleth": [
           {
            "colorbar": {
             "outlinewidth": 0,
             "ticks": ""
            },
            "type": "choropleth"
           }
          ],
          "contour": [
           {
            "colorbar": {
             "outlinewidth": 0,
             "ticks": ""
            },
            "colorscale": [
             [
              0,
              "#0d0887"
             ],
             [
              0.1111111111111111,
              "#46039f"
             ],
             [
              0.2222222222222222,
              "#7201a8"
             ],
             [
              0.3333333333333333,
              "#9c179e"
             ],
             [
              0.4444444444444444,
              "#bd3786"
             ],
             [
              0.5555555555555556,
              "#d8576b"
             ],
             [
              0.6666666666666666,
              "#ed7953"
             ],
             [
              0.7777777777777778,
              "#fb9f3a"
             ],
             [
              0.8888888888888888,
              "#fdca26"
             ],
             [
              1,
              "#f0f921"
             ]
            ],
            "type": "contour"
           }
          ],
          "contourcarpet": [
           {
            "colorbar": {
             "outlinewidth": 0,
             "ticks": ""
            },
            "type": "contourcarpet"
           }
          ],
          "heatmap": [
           {
            "colorbar": {
             "outlinewidth": 0,
             "ticks": ""
            },
            "colorscale": [
             [
              0,
              "#0d0887"
             ],
             [
              0.1111111111111111,
              "#46039f"
             ],
             [
              0.2222222222222222,
              "#7201a8"
             ],
             [
              0.3333333333333333,
              "#9c179e"
             ],
             [
              0.4444444444444444,
              "#bd3786"
             ],
             [
              0.5555555555555556,
              "#d8576b"
             ],
             [
              0.6666666666666666,
              "#ed7953"
             ],
             [
              0.7777777777777778,
              "#fb9f3a"
             ],
             [
              0.8888888888888888,
              "#fdca26"
             ],
             [
              1,
              "#f0f921"
             ]
            ],
            "type": "heatmap"
           }
          ],
          "heatmapgl": [
           {
            "colorbar": {
             "outlinewidth": 0,
             "ticks": ""
            },
            "colorscale": [
             [
              0,
              "#0d0887"
             ],
             [
              0.1111111111111111,
              "#46039f"
             ],
             [
              0.2222222222222222,
              "#7201a8"
             ],
             [
              0.3333333333333333,
              "#9c179e"
             ],
             [
              0.4444444444444444,
              "#bd3786"
             ],
             [
              0.5555555555555556,
              "#d8576b"
             ],
             [
              0.6666666666666666,
              "#ed7953"
             ],
             [
              0.7777777777777778,
              "#fb9f3a"
             ],
             [
              0.8888888888888888,
              "#fdca26"
             ],
             [
              1,
              "#f0f921"
             ]
            ],
            "type": "heatmapgl"
           }
          ],
          "histogram": [
           {
            "marker": {
             "colorbar": {
              "outlinewidth": 0,
              "ticks": ""
             }
            },
            "type": "histogram"
           }
          ],
          "histogram2d": [
           {
            "colorbar": {
             "outlinewidth": 0,
             "ticks": ""
            },
            "colorscale": [
             [
              0,
              "#0d0887"
             ],
             [
              0.1111111111111111,
              "#46039f"
             ],
             [
              0.2222222222222222,
              "#7201a8"
             ],
             [
              0.3333333333333333,
              "#9c179e"
             ],
             [
              0.4444444444444444,
              "#bd3786"
             ],
             [
              0.5555555555555556,
              "#d8576b"
             ],
             [
              0.6666666666666666,
              "#ed7953"
             ],
             [
              0.7777777777777778,
              "#fb9f3a"
             ],
             [
              0.8888888888888888,
              "#fdca26"
             ],
             [
              1,
              "#f0f921"
             ]
            ],
            "type": "histogram2d"
           }
          ],
          "histogram2dcontour": [
           {
            "colorbar": {
             "outlinewidth": 0,
             "ticks": ""
            },
            "colorscale": [
             [
              0,
              "#0d0887"
             ],
             [
              0.1111111111111111,
              "#46039f"
             ],
             [
              0.2222222222222222,
              "#7201a8"
             ],
             [
              0.3333333333333333,
              "#9c179e"
             ],
             [
              0.4444444444444444,
              "#bd3786"
             ],
             [
              0.5555555555555556,
              "#d8576b"
             ],
             [
              0.6666666666666666,
              "#ed7953"
             ],
             [
              0.7777777777777778,
              "#fb9f3a"
             ],
             [
              0.8888888888888888,
              "#fdca26"
             ],
             [
              1,
              "#f0f921"
             ]
            ],
            "type": "histogram2dcontour"
           }
          ],
          "mesh3d": [
           {
            "colorbar": {
             "outlinewidth": 0,
             "ticks": ""
            },
            "type": "mesh3d"
           }
          ],
          "parcoords": [
           {
            "line": {
             "colorbar": {
              "outlinewidth": 0,
              "ticks": ""
             }
            },
            "type": "parcoords"
           }
          ],
          "pie": [
           {
            "automargin": true,
            "type": "pie"
           }
          ],
          "scatter": [
           {
            "marker": {
             "colorbar": {
              "outlinewidth": 0,
              "ticks": ""
             }
            },
            "type": "scatter"
           }
          ],
          "scatter3d": [
           {
            "line": {
             "colorbar": {
              "outlinewidth": 0,
              "ticks": ""
             }
            },
            "marker": {
             "colorbar": {
              "outlinewidth": 0,
              "ticks": ""
             }
            },
            "type": "scatter3d"
           }
          ],
          "scattercarpet": [
           {
            "marker": {
             "colorbar": {
              "outlinewidth": 0,
              "ticks": ""
             }
            },
            "type": "scattercarpet"
           }
          ],
          "scattergeo": [
           {
            "marker": {
             "colorbar": {
              "outlinewidth": 0,
              "ticks": ""
             }
            },
            "type": "scattergeo"
           }
          ],
          "scattergl": [
           {
            "marker": {
             "colorbar": {
              "outlinewidth": 0,
              "ticks": ""
             }
            },
            "type": "scattergl"
           }
          ],
          "scattermapbox": [
           {
            "marker": {
             "colorbar": {
              "outlinewidth": 0,
              "ticks": ""
             }
            },
            "type": "scattermapbox"
           }
          ],
          "scatterpolar": [
           {
            "marker": {
             "colorbar": {
              "outlinewidth": 0,
              "ticks": ""
             }
            },
            "type": "scatterpolar"
           }
          ],
          "scatterpolargl": [
           {
            "marker": {
             "colorbar": {
              "outlinewidth": 0,
              "ticks": ""
             }
            },
            "type": "scatterpolargl"
           }
          ],
          "scatterternary": [
           {
            "marker": {
             "colorbar": {
              "outlinewidth": 0,
              "ticks": ""
             }
            },
            "type": "scatterternary"
           }
          ],
          "surface": [
           {
            "colorbar": {
             "outlinewidth": 0,
             "ticks": ""
            },
            "colorscale": [
             [
              0,
              "#0d0887"
             ],
             [
              0.1111111111111111,
              "#46039f"
             ],
             [
              0.2222222222222222,
              "#7201a8"
             ],
             [
              0.3333333333333333,
              "#9c179e"
             ],
             [
              0.4444444444444444,
              "#bd3786"
             ],
             [
              0.5555555555555556,
              "#d8576b"
             ],
             [
              0.6666666666666666,
              "#ed7953"
             ],
             [
              0.7777777777777778,
              "#fb9f3a"
             ],
             [
              0.8888888888888888,
              "#fdca26"
             ],
             [
              1,
              "#f0f921"
             ]
            ],
            "type": "surface"
           }
          ],
          "table": [
           {
            "cells": {
             "fill": {
              "color": "#EBF0F8"
             },
             "line": {
              "color": "white"
             }
            },
            "header": {
             "fill": {
              "color": "#C8D4E3"
             },
             "line": {
              "color": "white"
             }
            },
            "type": "table"
           }
          ]
         },
         "layout": {
          "annotationdefaults": {
           "arrowcolor": "#2a3f5f",
           "arrowhead": 0,
           "arrowwidth": 1
          },
          "coloraxis": {
           "colorbar": {
            "outlinewidth": 0,
            "ticks": ""
           }
          },
          "colorscale": {
           "diverging": [
            [
             0,
             "#8e0152"
            ],
            [
             0.1,
             "#c51b7d"
            ],
            [
             0.2,
             "#de77ae"
            ],
            [
             0.3,
             "#f1b6da"
            ],
            [
             0.4,
             "#fde0ef"
            ],
            [
             0.5,
             "#f7f7f7"
            ],
            [
             0.6,
             "#e6f5d0"
            ],
            [
             0.7,
             "#b8e186"
            ],
            [
             0.8,
             "#7fbc41"
            ],
            [
             0.9,
             "#4d9221"
            ],
            [
             1,
             "#276419"
            ]
           ],
           "sequential": [
            [
             0,
             "#0d0887"
            ],
            [
             0.1111111111111111,
             "#46039f"
            ],
            [
             0.2222222222222222,
             "#7201a8"
            ],
            [
             0.3333333333333333,
             "#9c179e"
            ],
            [
             0.4444444444444444,
             "#bd3786"
            ],
            [
             0.5555555555555556,
             "#d8576b"
            ],
            [
             0.6666666666666666,
             "#ed7953"
            ],
            [
             0.7777777777777778,
             "#fb9f3a"
            ],
            [
             0.8888888888888888,
             "#fdca26"
            ],
            [
             1,
             "#f0f921"
            ]
           ],
           "sequentialminus": [
            [
             0,
             "#0d0887"
            ],
            [
             0.1111111111111111,
             "#46039f"
            ],
            [
             0.2222222222222222,
             "#7201a8"
            ],
            [
             0.3333333333333333,
             "#9c179e"
            ],
            [
             0.4444444444444444,
             "#bd3786"
            ],
            [
             0.5555555555555556,
             "#d8576b"
            ],
            [
             0.6666666666666666,
             "#ed7953"
            ],
            [
             0.7777777777777778,
             "#fb9f3a"
            ],
            [
             0.8888888888888888,
             "#fdca26"
            ],
            [
             1,
             "#f0f921"
            ]
           ]
          },
          "colorway": [
           "#636efa",
           "#EF553B",
           "#00cc96",
           "#ab63fa",
           "#FFA15A",
           "#19d3f3",
           "#FF6692",
           "#B6E880",
           "#FF97FF",
           "#FECB52"
          ],
          "font": {
           "color": "#2a3f5f"
          },
          "geo": {
           "bgcolor": "white",
           "lakecolor": "white",
           "landcolor": "#E5ECF6",
           "showlakes": true,
           "showland": true,
           "subunitcolor": "white"
          },
          "hoverlabel": {
           "align": "left"
          },
          "hovermode": "closest",
          "mapbox": {
           "style": "light"
          },
          "paper_bgcolor": "white",
          "plot_bgcolor": "#E5ECF6",
          "polar": {
           "angularaxis": {
            "gridcolor": "white",
            "linecolor": "white",
            "ticks": ""
           },
           "bgcolor": "#E5ECF6",
           "radialaxis": {
            "gridcolor": "white",
            "linecolor": "white",
            "ticks": ""
           }
          },
          "scene": {
           "xaxis": {
            "backgroundcolor": "#E5ECF6",
            "gridcolor": "white",
            "gridwidth": 2,
            "linecolor": "white",
            "showbackground": true,
            "ticks": "",
            "zerolinecolor": "white"
           },
           "yaxis": {
            "backgroundcolor": "#E5ECF6",
            "gridcolor": "white",
            "gridwidth": 2,
            "linecolor": "white",
            "showbackground": true,
            "ticks": "",
            "zerolinecolor": "white"
           },
           "zaxis": {
            "backgroundcolor": "#E5ECF6",
            "gridcolor": "white",
            "gridwidth": 2,
            "linecolor": "white",
            "showbackground": true,
            "ticks": "",
            "zerolinecolor": "white"
           }
          },
          "shapedefaults": {
           "line": {
            "color": "#2a3f5f"
           }
          },
          "ternary": {
           "aaxis": {
            "gridcolor": "white",
            "linecolor": "white",
            "ticks": ""
           },
           "baxis": {
            "gridcolor": "white",
            "linecolor": "white",
            "ticks": ""
           },
           "bgcolor": "#E5ECF6",
           "caxis": {
            "gridcolor": "white",
            "linecolor": "white",
            "ticks": ""
           }
          },
          "title": {
           "x": 0.05
          },
          "xaxis": {
           "automargin": true,
           "gridcolor": "white",
           "linecolor": "white",
           "ticks": "",
           "title": {
            "standoff": 15
           },
           "zerolinecolor": "white",
           "zerolinewidth": 2
          },
          "yaxis": {
           "automargin": true,
           "gridcolor": "white",
           "linecolor": "white",
           "ticks": "",
           "title": {
            "standoff": 15
           },
           "zerolinecolor": "white",
           "zerolinewidth": 2
          }
         }
        },
        "title": {
         "font": {
          "color": "#484848"
         },
         "text": "Number of books author-wise"
        },
        "xaxis": {
         "gridcolor": "#E1E5ED",
         "showgrid": true,
         "tickfont": {
          "color": "#505050"
         },
         "title": {
          "font": {
           "color": "#505050"
          },
          "text": "Authors"
         },
         "zerolinecolor": "#E1E5ED"
        },
        "yaxis": {
         "gridcolor": "#E1E5ED",
         "showgrid": true,
         "tickfont": {
          "color": "#505050"
         },
         "title": {
          "font": {
           "color": "#505050"
          },
          "text": "Number of books"
         },
         "zerolinecolor": "#E1E5ED"
        }
       }
      },
      "text/html": [
       "<div>\n",
       "        \n",
       "        \n",
       "            <div id=\"2613420f-24f2-4b6d-ba5d-6c895d3eabb9\" class=\"plotly-graph-div\" style=\"height:525px; width:100%;\"></div>\n",
       "            <script type=\"text/javascript\">\n",
       "                require([\"plotly\"], function(Plotly) {\n",
       "                    window.PLOTLYENV=window.PLOTLYENV || {};\n",
       "                    window.PLOTLYENV.BASE_URL='https://plot.ly';\n",
       "                    \n",
       "                if (document.getElementById(\"2613420f-24f2-4b6d-ba5d-6c895d3eabb9\")) {\n",
       "                    Plotly.newPlot(\n",
       "                        '2613420f-24f2-4b6d-ba5d-6c895d3eabb9',\n",
       "                        [{\"marker\": {\"color\": \"rgba(0, 0, 128, 0.6)\", \"line\": {\"color\": \"rgba(0, 0, 128, 1.0)\", \"width\": 1}}, \"name\": \"id\", \"orientation\": \"v\", \"text\": \"\", \"type\": \"bar\", \"x\": [\"A.A. Milne\", \"Agatha Christie\", \"Alan Moore\", \"Albert Camus\", \"Aldous Huxley\", \"Alexandre Dumas\", \"Alice Sebold\", \"Alice Walker\", \"Amy Tan\", \"Anita Diamant\", \"Anne Rice\", \"Anthony Burgess\", \"Antoine de Saint-Exup\\u00e9ry\", \"Arthur Conan Doyle\", \"Arthur Golden\", \"Audrey Niffenegger\", \"Ayn Rand\", \"Barbara Kingsolver\", \"Becca Fitzpatrick\", \"Betty  Smith\", \"Bram Stoker\", \"C.S. Lewis\", \"Carlos Ruiz Zaf\\u00f3n\", \"Cassandra Clare\", \"Charles Dickens\", \"Charlotte Bront\\u00eb\", \"Christopher Paolini\", \"Chuck Palahniuk\", \"Colleen McCullough\", \"Cormac McCarthy\", \"Dan Brown\", \"Daniel Keyes\", \"Dante Alighieri\", \"Daphne du Maurier\", \"Diana Gabaldon\", \"Douglas Adams\", \"Dr. Seuss\", \"E.B. White\", \"E.L. James\", \"Edgar Allan Poe\", \"Elizabeth Gilbert\", \"Emily Bront\\u00eb\", \"Eric Carle\", \"Erich Maria Remarque\", \"Ernest Hemingway\", \"F. Scott Fitzgerald\", \"Frances Hodgson Burnett\", \"Frank Herbert\", \"Frank McCourt\", \"Franz Kafka\", \"Fyodor Dostoyevsky\", \"Gabriel Garc\\u00eda M\\u00e1rquez\", \"Geoffrey Chaucer\", \"George Orwell\", \"George R.R. Martin\", \"Gustave Flaubert\", \"Harper Lee\", \"Herman Melville\", \"Hermann Hesse\", \"Homer\", \"Ian McEwan\", \"J.D. Salinger\", \"J.K. Rowling\", \"J.M. Barrie\", \"J.R.R. Tolkien\", \"Jack Kerouac\", \"Jack London\", \"James Dashner\", \"James Joyce\", \"Jane Austen\", \"Jane Carruth\", \"Jay Asher\", \"Jean M. Auel\", \"Jeffrey Eugenides\", \"Jodi Picoult\", \"John Green\", \"John Irving\", \"John Steinbeck\", \"Joseph Conrad\", \"Joseph Heller\", \"Kahlil Gibran\", \"Katherine Paterson\", \"Kathryn Stockett\", \"Ken Follett\", \"Ken Kesey\", \"Khaled Hosseini\", \"Kurt Vonnegut Jr.\", \"L. Frank Baum\", \"L.M. Montgomery\", \"Larry McMurtry\", \"Laura Ingalls Wilder\", \"Leo Tolstoy\", \"Lewis Carroll\", \"Lois Lowry\", \"Louis Sachar\", \"Louisa May Alcott\", \"Madeleine L'Engle\", \"Margaret Atwood\", \"Margaret Mitchell\", \"Margaret Wise Brown\", \"Mario Puzo\", \"Marion Zimmer Bradley\", \"Mark Haddon\", \"Mark Twain\", \"Markus Zusak\", \"Mary Wollstonecraft Shelley\", \"Maurice Sendak\", \"Michael Ende\", \"Miguel de Cervantes Saavedra\", \"Mikhail Bulgakov\", \"Milan Kundera\", \"Mitch Albom\", \"Nathaniel Hawthorne\", \"Neil Gaiman\", \"Nicholas Sparks\", \"Norton Juster\", \"Orson Scott Card\", \"Oscar Wilde\", \"Patrick Rothfuss\", \"Patrick S\\u00fcskind\", \"Paulo Coelho\", \"Pearl S. Buck\", \"Philip Pullman\", \"Ray Bradbury\", \"Reduced Shakespeare Company\", \"Richard  Adams\", \"Richard Bach\", \"Richelle Mead\", \"Rick Riordan\", \"Roald Dahl\", \"Robert Louis Stevenson\", \"S.E. Hinton\", \"Sara Gruen\", \"Shel Silverstein\", \"Stephen Chbosky\", \"Stephen King\", \"Stephenie Meyer\", \"Stieg Larsson\", \"Sue Monk Kidd\", \"Suzanne Collins\", \"Sylvia Plath\", \"Terry Pratchett\", \"Thomas Hardy\", \"Truman Capote\", \"Umberto Eco\", \"Veronica Roth\", \"Victor Hugo\", \"Vladimir Nabokov\", \"William Golding\", \"William Goldman\", \"William Shakespeare\", \"Wilson Rawls\", \"Yann Martel\", \"Zora Neale Hurston\"], \"y\": [1, 1, 1, 1, 1, 2, 1, 1, 1, 1, 1, 1, 1, 1, 1, 1, 1, 1, 1, 1, 1, 2, 1, 3, 4, 1, 1, 1, 1, 1, 1, 1, 1, 1, 1, 2, 5, 1, 1, 1, 1, 1, 1, 1, 2, 1, 1, 1, 1, 1, 2, 2, 1, 2, 2, 1, 1, 1, 1, 1, 1, 1, 7, 1, 3, 1, 1, 1, 1, 1, 1, 1, 1, 1, 1, 2, 2, 1, 1, 1, 1, 1, 1, 1, 1, 2, 1, 1, 1, 1, 1, 1, 1, 1, 1, 1, 1, 1, 1, 1, 1, 1, 1, 2, 1, 1, 1, 1, 1, 1, 1, 2, 1, 1, 2, 1, 1, 2, 1, 1, 1, 1, 1, 1, 1, 1, 1, 4, 5, 2, 1, 1, 1, 1, 1, 3, 1, 2, 1, 2, 1, 1, 1, 1, 1, 2, 1, 1, 1, 1, 2, 1, 1, 1]}],\n",
       "                        {\"legend\": {\"bgcolor\": \"#F2F3F7\", \"font\": {\"color\": \"#505050\"}}, \"paper_bgcolor\": \"#F2F3F7\", \"plot_bgcolor\": \"#F2F3F7\", \"template\": {\"data\": {\"bar\": [{\"error_x\": {\"color\": \"#2a3f5f\"}, \"error_y\": {\"color\": \"#2a3f5f\"}, \"marker\": {\"line\": {\"color\": \"#E5ECF6\", \"width\": 0.5}}, \"type\": \"bar\"}], \"barpolar\": [{\"marker\": {\"line\": {\"color\": \"#E5ECF6\", \"width\": 0.5}}, \"type\": \"barpolar\"}], \"carpet\": [{\"aaxis\": {\"endlinecolor\": \"#2a3f5f\", \"gridcolor\": \"white\", \"linecolor\": \"white\", \"minorgridcolor\": \"white\", \"startlinecolor\": \"#2a3f5f\"}, \"baxis\": {\"endlinecolor\": \"#2a3f5f\", \"gridcolor\": \"white\", \"linecolor\": \"white\", \"minorgridcolor\": \"white\", \"startlinecolor\": \"#2a3f5f\"}, \"type\": \"carpet\"}], \"choropleth\": [{\"colorbar\": {\"outlinewidth\": 0, \"ticks\": \"\"}, \"type\": \"choropleth\"}], \"contour\": [{\"colorbar\": {\"outlinewidth\": 0, \"ticks\": \"\"}, \"colorscale\": [[0.0, \"#0d0887\"], [0.1111111111111111, \"#46039f\"], [0.2222222222222222, \"#7201a8\"], [0.3333333333333333, \"#9c179e\"], [0.4444444444444444, \"#bd3786\"], [0.5555555555555556, \"#d8576b\"], [0.6666666666666666, \"#ed7953\"], [0.7777777777777778, \"#fb9f3a\"], [0.8888888888888888, \"#fdca26\"], [1.0, \"#f0f921\"]], \"type\": \"contour\"}], \"contourcarpet\": [{\"colorbar\": {\"outlinewidth\": 0, \"ticks\": \"\"}, \"type\": \"contourcarpet\"}], \"heatmap\": [{\"colorbar\": {\"outlinewidth\": 0, \"ticks\": \"\"}, \"colorscale\": [[0.0, \"#0d0887\"], [0.1111111111111111, \"#46039f\"], [0.2222222222222222, \"#7201a8\"], [0.3333333333333333, \"#9c179e\"], [0.4444444444444444, \"#bd3786\"], [0.5555555555555556, \"#d8576b\"], [0.6666666666666666, \"#ed7953\"], [0.7777777777777778, \"#fb9f3a\"], [0.8888888888888888, \"#fdca26\"], [1.0, \"#f0f921\"]], \"type\": \"heatmap\"}], \"heatmapgl\": [{\"colorbar\": {\"outlinewidth\": 0, \"ticks\": \"\"}, \"colorscale\": [[0.0, \"#0d0887\"], [0.1111111111111111, \"#46039f\"], [0.2222222222222222, \"#7201a8\"], [0.3333333333333333, \"#9c179e\"], [0.4444444444444444, \"#bd3786\"], [0.5555555555555556, \"#d8576b\"], [0.6666666666666666, \"#ed7953\"], [0.7777777777777778, \"#fb9f3a\"], [0.8888888888888888, \"#fdca26\"], [1.0, \"#f0f921\"]], \"type\": \"heatmapgl\"}], \"histogram\": [{\"marker\": {\"colorbar\": {\"outlinewidth\": 0, \"ticks\": \"\"}}, \"type\": \"histogram\"}], \"histogram2d\": [{\"colorbar\": {\"outlinewidth\": 0, \"ticks\": \"\"}, \"colorscale\": [[0.0, \"#0d0887\"], [0.1111111111111111, \"#46039f\"], [0.2222222222222222, \"#7201a8\"], [0.3333333333333333, \"#9c179e\"], [0.4444444444444444, \"#bd3786\"], [0.5555555555555556, \"#d8576b\"], [0.6666666666666666, \"#ed7953\"], [0.7777777777777778, \"#fb9f3a\"], [0.8888888888888888, \"#fdca26\"], [1.0, \"#f0f921\"]], \"type\": \"histogram2d\"}], \"histogram2dcontour\": [{\"colorbar\": {\"outlinewidth\": 0, \"ticks\": \"\"}, \"colorscale\": [[0.0, \"#0d0887\"], [0.1111111111111111, \"#46039f\"], [0.2222222222222222, \"#7201a8\"], [0.3333333333333333, \"#9c179e\"], [0.4444444444444444, \"#bd3786\"], [0.5555555555555556, \"#d8576b\"], [0.6666666666666666, \"#ed7953\"], [0.7777777777777778, \"#fb9f3a\"], [0.8888888888888888, \"#fdca26\"], [1.0, \"#f0f921\"]], \"type\": \"histogram2dcontour\"}], \"mesh3d\": [{\"colorbar\": {\"outlinewidth\": 0, \"ticks\": \"\"}, \"type\": \"mesh3d\"}], \"parcoords\": [{\"line\": {\"colorbar\": {\"outlinewidth\": 0, \"ticks\": \"\"}}, \"type\": \"parcoords\"}], \"pie\": [{\"automargin\": true, \"type\": \"pie\"}], \"scatter\": [{\"marker\": {\"colorbar\": {\"outlinewidth\": 0, \"ticks\": \"\"}}, \"type\": \"scatter\"}], \"scatter3d\": [{\"line\": {\"colorbar\": {\"outlinewidth\": 0, \"ticks\": \"\"}}, \"marker\": {\"colorbar\": {\"outlinewidth\": 0, \"ticks\": \"\"}}, \"type\": \"scatter3d\"}], \"scattercarpet\": [{\"marker\": {\"colorbar\": {\"outlinewidth\": 0, \"ticks\": \"\"}}, \"type\": \"scattercarpet\"}], \"scattergeo\": [{\"marker\": {\"colorbar\": {\"outlinewidth\": 0, \"ticks\": \"\"}}, \"type\": \"scattergeo\"}], \"scattergl\": [{\"marker\": {\"colorbar\": {\"outlinewidth\": 0, \"ticks\": \"\"}}, \"type\": \"scattergl\"}], \"scattermapbox\": [{\"marker\": {\"colorbar\": {\"outlinewidth\": 0, \"ticks\": \"\"}}, \"type\": \"scattermapbox\"}], \"scatterpolar\": [{\"marker\": {\"colorbar\": {\"outlinewidth\": 0, \"ticks\": \"\"}}, \"type\": \"scatterpolar\"}], \"scatterpolargl\": [{\"marker\": {\"colorbar\": {\"outlinewidth\": 0, \"ticks\": \"\"}}, \"type\": \"scatterpolargl\"}], \"scatterternary\": [{\"marker\": {\"colorbar\": {\"outlinewidth\": 0, \"ticks\": \"\"}}, \"type\": \"scatterternary\"}], \"surface\": [{\"colorbar\": {\"outlinewidth\": 0, \"ticks\": \"\"}, \"colorscale\": [[0.0, \"#0d0887\"], [0.1111111111111111, \"#46039f\"], [0.2222222222222222, \"#7201a8\"], [0.3333333333333333, \"#9c179e\"], [0.4444444444444444, \"#bd3786\"], [0.5555555555555556, \"#d8576b\"], [0.6666666666666666, \"#ed7953\"], [0.7777777777777778, \"#fb9f3a\"], [0.8888888888888888, \"#fdca26\"], [1.0, \"#f0f921\"]], \"type\": \"surface\"}], \"table\": [{\"cells\": {\"fill\": {\"color\": \"#EBF0F8\"}, \"line\": {\"color\": \"white\"}}, \"header\": {\"fill\": {\"color\": \"#C8D4E3\"}, \"line\": {\"color\": \"white\"}}, \"type\": \"table\"}]}, \"layout\": {\"annotationdefaults\": {\"arrowcolor\": \"#2a3f5f\", \"arrowhead\": 0, \"arrowwidth\": 1}, \"coloraxis\": {\"colorbar\": {\"outlinewidth\": 0, \"ticks\": \"\"}}, \"colorscale\": {\"diverging\": [[0, \"#8e0152\"], [0.1, \"#c51b7d\"], [0.2, \"#de77ae\"], [0.3, \"#f1b6da\"], [0.4, \"#fde0ef\"], [0.5, \"#f7f7f7\"], [0.6, \"#e6f5d0\"], [0.7, \"#b8e186\"], [0.8, \"#7fbc41\"], [0.9, \"#4d9221\"], [1, \"#276419\"]], \"sequential\": [[0.0, \"#0d0887\"], [0.1111111111111111, \"#46039f\"], [0.2222222222222222, \"#7201a8\"], [0.3333333333333333, \"#9c179e\"], [0.4444444444444444, \"#bd3786\"], [0.5555555555555556, \"#d8576b\"], [0.6666666666666666, \"#ed7953\"], [0.7777777777777778, \"#fb9f3a\"], [0.8888888888888888, \"#fdca26\"], [1.0, \"#f0f921\"]], \"sequentialminus\": [[0.0, \"#0d0887\"], [0.1111111111111111, \"#46039f\"], [0.2222222222222222, \"#7201a8\"], [0.3333333333333333, \"#9c179e\"], [0.4444444444444444, \"#bd3786\"], [0.5555555555555556, \"#d8576b\"], [0.6666666666666666, \"#ed7953\"], [0.7777777777777778, \"#fb9f3a\"], [0.8888888888888888, \"#fdca26\"], [1.0, \"#f0f921\"]]}, \"colorway\": [\"#636efa\", \"#EF553B\", \"#00cc96\", \"#ab63fa\", \"#FFA15A\", \"#19d3f3\", \"#FF6692\", \"#B6E880\", \"#FF97FF\", \"#FECB52\"], \"font\": {\"color\": \"#2a3f5f\"}, \"geo\": {\"bgcolor\": \"white\", \"lakecolor\": \"white\", \"landcolor\": \"#E5ECF6\", \"showlakes\": true, \"showland\": true, \"subunitcolor\": \"white\"}, \"hoverlabel\": {\"align\": \"left\"}, \"hovermode\": \"closest\", \"mapbox\": {\"style\": \"light\"}, \"paper_bgcolor\": \"white\", \"plot_bgcolor\": \"#E5ECF6\", \"polar\": {\"angularaxis\": {\"gridcolor\": \"white\", \"linecolor\": \"white\", \"ticks\": \"\"}, \"bgcolor\": \"#E5ECF6\", \"radialaxis\": {\"gridcolor\": \"white\", \"linecolor\": \"white\", \"ticks\": \"\"}}, \"scene\": {\"xaxis\": {\"backgroundcolor\": \"#E5ECF6\", \"gridcolor\": \"white\", \"gridwidth\": 2, \"linecolor\": \"white\", \"showbackground\": true, \"ticks\": \"\", \"zerolinecolor\": \"white\"}, \"yaxis\": {\"backgroundcolor\": \"#E5ECF6\", \"gridcolor\": \"white\", \"gridwidth\": 2, \"linecolor\": \"white\", \"showbackground\": true, \"ticks\": \"\", \"zerolinecolor\": \"white\"}, \"zaxis\": {\"backgroundcolor\": \"#E5ECF6\", \"gridcolor\": \"white\", \"gridwidth\": 2, \"linecolor\": \"white\", \"showbackground\": true, \"ticks\": \"\", \"zerolinecolor\": \"white\"}}, \"shapedefaults\": {\"line\": {\"color\": \"#2a3f5f\"}}, \"ternary\": {\"aaxis\": {\"gridcolor\": \"white\", \"linecolor\": \"white\", \"ticks\": \"\"}, \"baxis\": {\"gridcolor\": \"white\", \"linecolor\": \"white\", \"ticks\": \"\"}, \"bgcolor\": \"#E5ECF6\", \"caxis\": {\"gridcolor\": \"white\", \"linecolor\": \"white\", \"ticks\": \"\"}}, \"title\": {\"x\": 0.05}, \"xaxis\": {\"automargin\": true, \"gridcolor\": \"white\", \"linecolor\": \"white\", \"ticks\": \"\", \"title\": {\"standoff\": 15}, \"zerolinecolor\": \"white\", \"zerolinewidth\": 2}, \"yaxis\": {\"automargin\": true, \"gridcolor\": \"white\", \"linecolor\": \"white\", \"ticks\": \"\", \"title\": {\"standoff\": 15}, \"zerolinecolor\": \"white\", \"zerolinewidth\": 2}}}, \"title\": {\"font\": {\"color\": \"#484848\"}, \"text\": \"Number of books author-wise\"}, \"xaxis\": {\"gridcolor\": \"#E1E5ED\", \"showgrid\": true, \"tickfont\": {\"color\": \"#505050\"}, \"title\": {\"font\": {\"color\": \"#505050\"}, \"text\": \"Authors\"}, \"zerolinecolor\": \"#E1E5ED\"}, \"yaxis\": {\"gridcolor\": \"#E1E5ED\", \"showgrid\": true, \"tickfont\": {\"color\": \"#505050\"}, \"title\": {\"font\": {\"color\": \"#505050\"}, \"text\": \"Number of books\"}, \"zerolinecolor\": \"#E1E5ED\"}},\n",
       "                        {\"showLink\": true, \"linkText\": \"Export to plot.ly\", \"plotlyServerURL\": \"https://plot.ly\", \"responsive\": true}\n",
       "                    ).then(function(){\n",
       "                            \n",
       "var gd = document.getElementById('2613420f-24f2-4b6d-ba5d-6c895d3eabb9');\n",
       "var x = new MutationObserver(function (mutations, observer) {{\n",
       "        var display = window.getComputedStyle(gd).display;\n",
       "        if (!display || display === 'none') {{\n",
       "            console.log([gd, 'removed!']);\n",
       "            Plotly.purge(gd);\n",
       "            observer.disconnect();\n",
       "        }}\n",
       "}});\n",
       "\n",
       "// Listen for the removal of the full notebook cells\n",
       "var notebookContainer = gd.closest('#notebook-container');\n",
       "if (notebookContainer) {{\n",
       "    x.observe(notebookContainer, {childList: true});\n",
       "}}\n",
       "\n",
       "// Listen for the clearing of the current output cell\n",
       "var outputEl = gd.closest('.output');\n",
       "if (outputEl) {{\n",
       "    x.observe(outputEl, {childList: true});\n",
       "}}\n",
       "\n",
       "                        })\n",
       "                };\n",
       "                });\n",
       "            </script>\n",
       "        </div>"
      ]
     },
     "metadata": {},
     "output_type": "display_data"
    }
   ],
   "source": [
    "df.groupby(\"author\").id.count().iplot(kind = 'bar',\n",
    "                xTitle='Authors',\n",
    "                yTitle='Number of books',\n",
    "                title='Number of books author-wise',\n",
    "                colors='navy')"
   ]
  },
  {
   "cell_type": "markdown",
   "metadata": {},
   "source": [
    "## Rating of books"
   ]
  },
  {
   "cell_type": "code",
   "execution_count": 16,
   "metadata": {
    "ExecuteTime": {
     "end_time": "2020-07-13T20:10:25.460978Z",
     "start_time": "2020-07-13T20:10:25.247231Z"
    }
   },
   "outputs": [
    {
     "data": {
      "application/vnd.plotly.v1+json": {
       "config": {
        "linkText": "Export to plot.ly",
        "plotlyServerURL": "https://plot.ly",
        "showLink": true
       },
       "data": [
        {
         "marker": {
          "color": "rgba(0, 128, 240, 0.6)",
          "line": {
           "color": "rgba(0, 128, 240, 1.0)",
           "width": 1
          }
         },
         "name": "rating",
         "orientation": "v",
         "text": "",
         "type": "bar",
         "x": [
          "The Hunger Games (The Hunger Games, #1)",
          "Harry Potter and the Order of the Phoenix (Harry Potter, #5)",
          "To Kill a Mockingbird",
          "Pride and Prejudice",
          "Twilight (Twilight, #1)",
          "The Book Thief",
          "Animal Farm",
          "The Chronicles of Narnia (Chronicles of Narnia, #1-7)",
          "J.R.R. Tolkien 4-Book Boxed Set: The Hobbit and The Lord of the Rings",
          "Gone with the Wind",
          "The Fault in Our Stars",
          "The Hitchhiker's Guide to the Galaxy (Hitchhiker's Guide to the Galaxy, #1)",
          "The Giving Tree",
          "Wuthering Heights",
          "The Da Vinci Code (Robert Langdon, #2)",
          "Memoirs of a Geisha",
          "The Picture of Dorian Gray",
          "Alice's Adventures in Wonderland & Through the Looking-Glass",
          "Jane Eyre",
          "Les Misérables",
          "Divergent (Divergent, #1)",
          "Fahrenheit 451",
          "Romeo and Juliet",
          "Lord of the Flies",
          "The Alchemist",
          "Crime and Punishment",
          "The Perks of Being a Wallflower",
          "The Great Gatsby",
          "Ender's Game (Ender's Saga, #1)",
          "City of Bones (The Mortal Instruments, #1)",
          "The Help",
          "Anne of Green Gables (Anne of Green Gables, #1)",
          "Charlotte's Web",
          "The Little Prince",
          "The Time Traveler's Wife",
          "Of Mice and Men",
          "Harry Potter and the Sorcerer's Stone (Harry Potter, #1)",
          "Dracula",
          "Brave New World",
          "One Hundred Years of Solitude",
          "The Princess Bride",
          "The Catcher in the Rye",
          "The Secret Garden",
          "A Thousand Splendid Suns",
          "The Lightning Thief (Percy Jackson and the Olympians, #1)",
          "A Wrinkle in Time (Time Quintet, #1)",
          "A Game of Thrones (A Song of Ice and Fire, #1)",
          "The Adventures of Huckleberry Finn",
          "The Lovely Bones",
          "The Outsiders",
          "Where the Wild Things Are",
          "Green Eggs and Ham",
          "The Odyssey",
          "Life of Pi",
          "A Tale of Two Cities",
          "Water for Elephants",
          "Lolita",
          "Slaughterhouse-Five",
          "Frankenstein: The 1818 Text",
          "The Kite Runner",
          "The Handmaid's Tale (The Handmaid's Tale, #1)",
          "The Giver (The Giver, #1)",
          "Catch-22 (Catch-22, #1)",
          "Dune (Dune, #1)",
          "The Pillars of the Earth (Kingsbridge, #1)",
          "The Stand",
          "The Adventures of Sherlock Holmes",
          "Watership Down (Watership Down, #1)",
          "Great Expectations",
          "One Flew Over the Cuckoo's Nest",
          "The Bell Jar",
          "Anna Karenina",
          "Little Women",
          "My Sister's Keeper",
          "Outlander (Outlander, #1)",
          "The Girl with the Dragon Tattoo (Millennium, #1)",
          "Harry Potter and the Deathly Hallows (Harry Potter, #7)",
          "Matilda",
          "The Fellowship of the Ring (The Lord of the Rings, #1)",
          "Rebecca",
          "The Color Purple",
          "A Tree Grows in Brooklyn",
          "1984",
          "A Clockwork Orange",
          "The Road",
          "The Brothers Karamazov",
          "Angela's Ashes (Frank McCourt, #1)",
          "Vampire Academy (Vampire Academy, #1)",
          "The Poisonwood Bible",
          "Siddhartha",
          "The Golden Compass (His Dark Materials, #1)",
          "Don Quixote",
          "Atlas Shrugged",
          "The Old Man and the Sea",
          "Harry Potter and the Prisoner of Azkaban (Harry Potter, #3)",
          "The Notebook (The Notebook, #1)",
          "Winnie-the-Pooh (Winnie-the-Pooh, #1)",
          "The Complete Stories and Poems",
          "A Prayer for Owen Meany",
          "Interview with the Vampire (The Vampire Chronicles, #1)",
          "Moby-Dick or, the Whale",
          "The Red Tent",
          "The Secret Life of Bees",
          "Harry Potter and the Goblet of Fire (Harry Potter, #4)",
          "Clockwork Angel (The Infernal Devices, #1)",
          "And Then There Were None",
          "Middlesex",
          "Harry Potter and the Half-Blood Prince (Harry Potter, #6)",
          "The Stranger",
          "The Master and Margarita",
          "The Name of the Wind (The Kingkiller Chronicle, #1)",
          "The Shining",
          "The Adventures of Tom Sawyer",
          "Eragon (The Inheritance Cycle, #1)",
          "Charlie and the Chocolate Factory (Charlie Bucket, #1)",
          "Flowers for Algernon",
          "On the Road",
          "Looking for Alaska",
          "The Metamorphosis",
          "The Shadow of the Wind (The Cemetery of Forgotten Books, #1)",
          "The Curious Incident of the Dog in the Night-Time",
          "The Very Hungry Caterpillar",
          "Tuesdays with Morrie",
          "The Unbearable Lightness of Being",
          "The Name of the Rose",
          "Where the Red Fern Grows",
          "The Scarlet Letter",
          "The Godfather",
          "Harry Potter and the Chamber of Secrets (Harry Potter, #2)",
          "In Cold Blood",
          "The Five People You Meet in Heaven",
          "Fight Club",
          "Hush, Hush (Hush, Hush, #1)",
          "Lonesome Dove",
          "The Cat in the Hat",
          "American Gods (American Gods, #1)",
          "Holes (Holes, #1)",
          "Perfume: The Story of a Murderer",
          "The Count of Monte Cristo",
          "The Lion, the Witch and the Wardrobe (Chronicles of Narnia, #1)",
          "It",
          "Watchmen",
          "The Little House Collection (Little House, #1-9)",
          "The Last Olympian (Percy Jackson and the Olympians, #5)",
          "The Divine Comedy",
          "Peter Pan",
          "All Quiet on the Western Front",
          "The Compleat Works of Wllm Shkspr",
          "Love in the Time of Cholera",
          "Shadow Kiss (Vampire Academy, #3)",
          "The Hobbit, or There and Back Again",
          "A Walk to Remember",
          "The Thorn Birds",
          "Insurgent (Divergent, #2)",
          "The Ultimate Hitchhiker's Guide to the Galaxy (Hitchhiker's Guide to the Galaxy, #1-5)",
          "How the Grinch Stole Christmas!",
          "Atonement",
          "The Importance of Being Earnest",
          "Eat, Pray, Love",
          "Their Eyes Were Watching God",
          "The Three Musketeers (The D'Artagnan Romances, #1)",
          "The Wonderful Wizard of Oz (Oz, #1)",
          "Frostbite (Vampire Academy, #2)",
          "Goodnight Moon",
          "The Lorax",
          "Good Omens: The Nice and Accurate Prophecies of Agnes Nutter, Witch",
          "Blood Promise (Vampire Academy, #4)",
          "Tess of the D'Urbervilles",
          "The Good Earth (House of Earth, #1)",
          "Heart of Darkness",
          "A Midsummer Night's Dream",
          "The Prophet",
          "The Battle of the Labyrinth (Percy Jackson and the Olympians, #4)",
          "The Mists of Avalon (Avalon, #1)",
          "Clockwork Princess (The Infernal Devices, #3)",
          "The Sea of Monsters (Percy Jackson and the Olympians, #2)",
          "The Titan's Curse (Percy Jackson and the Olympians, #3)",
          "The Joy Luck Club",
          "Alice in Wonderland",
          "The Call of the Wild",
          "Jonathan Livingston Seagull",
          "Madame Bovary",
          "The Phantom Tollbooth",
          "Bridge to Terabithia",
          "Oh, the Places You'll Go!",
          "The Girl Who Played with Fire (Millennium, #2)",
          "The Hunger Games Trilogy Boxset (The Hunger Games, #1-3)",
          "The Maze Runner (The Maze Runner, #1)",
          "Oliver Twist",
          "Ulysses",
          "The Neverending Story",
          "Treasure Island",
          "Fifty Shades of Grey (Fifty Shades, #1)",
          "The Clan of the Cave Bear",
          "The Canterbury Tales",
          "The World According to Garp",
          "A Storm of Swords (A Song of Ice and Fire, #3)",
          "A Farewell to Arms",
          "David Copperfield",
          "Thirteen Reasons Why"
         ],
         "y": [
          4.329999923706055,
          4.5,
          4.28000020980835,
          4.260000228881836,
          3.5899999141693115,
          4.369999885559082,
          3.940000057220459,
          4.260000228881836,
          4.599999904632568,
          4.300000190734863,
          4.210000038146973,
          4.21999979019165,
          4.380000114440918,
          3.859999895095825,
          3.8499999046325684,
          4.119999885559082,
          4.079999923706055,
          4.059999942779541,
          4.119999885559082,
          4.170000076293945,
          4.199999809265137,
          3.990000009536743,
          3.75,
          3.680000066757202,
          3.869999885559082,
          4.21999979019165,
          4.199999809265137,
          3.9200000762939453,
          4.300000190734863,
          4.099999904632568,
          4.46999979019165,
          4.260000228881836,
          4.170000076293945,
          4.309999942779541,
          3.9700000286102295,
          3.869999885559082,
          4.46999979019165,
          4,
          3.990000009536743,
          4.079999923706055,
          4.260000228881836,
          3.809999942779541,
          4.139999866485596,
          4.369999885559082,
          4.25,
          4,
          4.449999809265137,
          3.819999933242798,
          3.809999942779541,
          4.099999904632568,
          4.21999979019165,
          4.300000190734863,
          3.7699999809265137,
          3.9100000858306885,
          3.8399999141693115,
          4.090000152587891,
          3.890000104904175,
          4.070000171661377,
          3.799999952316284,
          4.300000190734863,
          4.110000133514404,
          4.130000114440918,
          3.9800000190734863,
          4.230000019073486,
          4.320000171661377,
          4.340000152587891,
          4.300000190734863,
          4.059999942779541,
          3.7799999713897705,
          4.190000057220459,
          4.010000228881836,
          4.050000190734863,
          4.079999923706055,
          4.079999923706055,
          4.230000019073486,
          4.139999866485596,
          4.619999885559082,
          4.320000171661377,
          4.360000133514404,
          4.230000019073486,
          4.210000038146973,
          4.269999980926514,
          4.179999828338623,
          3.990000009536743,
          3.9700000286102295,
          4.320000171661377,
          4.110000133514404,
          4.119999885559082,
          4.059999942779541,
          4.03000020980835,
          3.9800000190734863,
          3.880000114440918,
          3.690000057220459,
          3.7799999713897705,
          4.570000171661377,
          4.099999904632568,
          4.349999904632568,
          4.380000114440918,
          4.230000019073486,
          4,
          3.5,
          4.179999828338623,
          4.050000190734863,
          4.559999942779541,
          4.329999923706055,
          4.260000228881836,
          4.010000228881836,
          4.570000171661377,
          3.9800000190734863,
          4.289999961853027,
          4.539999961853027,
          4.230000019073486,
          3.9100000858306885,
          3.9000000953674316,
          4.139999866485596,
          4.130000114440918,
          3.619999885559082,
          4.03000020980835,
          3.819999933242798,
          4.269999980926514,
          3.880000114440918,
          4.300000190734863,
          4.110000133514404,
          4.099999904632568,
          4.119999885559082,
          4.079999923706055,
          3.4100000858306885,
          4.369999885559082,
          4.429999828338623,
          4.070000171661377,
          3.940000057220459,
          4.190000057220459,
          3.9700000286102295,
          4.489999771118164,
          4.170000076293945,
          4.110000133514404,
          3.9700000286102295,
          4.019999980926514,
          4.25,
          4.21999979019165,
          4.239999771118164,
          4.360000133514404,
          4.340000152587891,
          4.510000228881836,
          4.059999942779541,
          4.070000171661377,
          3.9800000190734863,
          4.440000057220459,
          3.9200000762939453,
          4.360000133514404,
          4.269999980926514,
          4.179999828338623,
          4.230000019073486,
          4.03000020980835,
          4.360000133514404,
          4.369999885559082,
          3.9100000858306885,
          4.179999828338623,
          3.559999942779541,
          3.930000066757202,
          4.070000171661377,
          3.990000009536743,
          4.28000020980835,
          4.28000020980835,
          4.349999904632568,
          4.25,
          4.340000152587891,
          3.799999952316284,
          3.9800000190734863,
          3.4200000762939453,
          3.950000047683716,
          4.230000019073486,
          4.400000095367432,
          4.119999885559082,
          4.579999923706055,
          4.239999771118164,
          4.349999904632568,
          3.930000066757202,
          4.03000020980835,
          3.869999885559082,
          3.8399999141693115,
          3.680000066757202,
          4.210000038146973,
          4.010000228881836,
          4.360000133514404,
          4.239999771118164,
          4.480000019073486,
          4.019999980926514,
          3.869999885559082,
          3.7300000190734863,
          4.179999828338623,
          3.8299999237060547,
          3.6600000858306885,
          4.050000190734863,
          3.5,
          4.090000152587891,
          4.539999961853027,
          3.809999942779541,
          3.990000009536743,
          3.930000066757202
         ]
        }
       ],
       "layout": {
        "legend": {
         "bgcolor": "#F2F3F7",
         "font": {
          "color": "#505050"
         }
        },
        "paper_bgcolor": "#F2F3F7",
        "plot_bgcolor": "#F2F3F7",
        "template": {
         "data": {
          "bar": [
           {
            "error_x": {
             "color": "#2a3f5f"
            },
            "error_y": {
             "color": "#2a3f5f"
            },
            "marker": {
             "line": {
              "color": "#E5ECF6",
              "width": 0.5
             }
            },
            "type": "bar"
           }
          ],
          "barpolar": [
           {
            "marker": {
             "line": {
              "color": "#E5ECF6",
              "width": 0.5
             }
            },
            "type": "barpolar"
           }
          ],
          "carpet": [
           {
            "aaxis": {
             "endlinecolor": "#2a3f5f",
             "gridcolor": "white",
             "linecolor": "white",
             "minorgridcolor": "white",
             "startlinecolor": "#2a3f5f"
            },
            "baxis": {
             "endlinecolor": "#2a3f5f",
             "gridcolor": "white",
             "linecolor": "white",
             "minorgridcolor": "white",
             "startlinecolor": "#2a3f5f"
            },
            "type": "carpet"
           }
          ],
          "choropleth": [
           {
            "colorbar": {
             "outlinewidth": 0,
             "ticks": ""
            },
            "type": "choropleth"
           }
          ],
          "contour": [
           {
            "colorbar": {
             "outlinewidth": 0,
             "ticks": ""
            },
            "colorscale": [
             [
              0,
              "#0d0887"
             ],
             [
              0.1111111111111111,
              "#46039f"
             ],
             [
              0.2222222222222222,
              "#7201a8"
             ],
             [
              0.3333333333333333,
              "#9c179e"
             ],
             [
              0.4444444444444444,
              "#bd3786"
             ],
             [
              0.5555555555555556,
              "#d8576b"
             ],
             [
              0.6666666666666666,
              "#ed7953"
             ],
             [
              0.7777777777777778,
              "#fb9f3a"
             ],
             [
              0.8888888888888888,
              "#fdca26"
             ],
             [
              1,
              "#f0f921"
             ]
            ],
            "type": "contour"
           }
          ],
          "contourcarpet": [
           {
            "colorbar": {
             "outlinewidth": 0,
             "ticks": ""
            },
            "type": "contourcarpet"
           }
          ],
          "heatmap": [
           {
            "colorbar": {
             "outlinewidth": 0,
             "ticks": ""
            },
            "colorscale": [
             [
              0,
              "#0d0887"
             ],
             [
              0.1111111111111111,
              "#46039f"
             ],
             [
              0.2222222222222222,
              "#7201a8"
             ],
             [
              0.3333333333333333,
              "#9c179e"
             ],
             [
              0.4444444444444444,
              "#bd3786"
             ],
             [
              0.5555555555555556,
              "#d8576b"
             ],
             [
              0.6666666666666666,
              "#ed7953"
             ],
             [
              0.7777777777777778,
              "#fb9f3a"
             ],
             [
              0.8888888888888888,
              "#fdca26"
             ],
             [
              1,
              "#f0f921"
             ]
            ],
            "type": "heatmap"
           }
          ],
          "heatmapgl": [
           {
            "colorbar": {
             "outlinewidth": 0,
             "ticks": ""
            },
            "colorscale": [
             [
              0,
              "#0d0887"
             ],
             [
              0.1111111111111111,
              "#46039f"
             ],
             [
              0.2222222222222222,
              "#7201a8"
             ],
             [
              0.3333333333333333,
              "#9c179e"
             ],
             [
              0.4444444444444444,
              "#bd3786"
             ],
             [
              0.5555555555555556,
              "#d8576b"
             ],
             [
              0.6666666666666666,
              "#ed7953"
             ],
             [
              0.7777777777777778,
              "#fb9f3a"
             ],
             [
              0.8888888888888888,
              "#fdca26"
             ],
             [
              1,
              "#f0f921"
             ]
            ],
            "type": "heatmapgl"
           }
          ],
          "histogram": [
           {
            "marker": {
             "colorbar": {
              "outlinewidth": 0,
              "ticks": ""
             }
            },
            "type": "histogram"
           }
          ],
          "histogram2d": [
           {
            "colorbar": {
             "outlinewidth": 0,
             "ticks": ""
            },
            "colorscale": [
             [
              0,
              "#0d0887"
             ],
             [
              0.1111111111111111,
              "#46039f"
             ],
             [
              0.2222222222222222,
              "#7201a8"
             ],
             [
              0.3333333333333333,
              "#9c179e"
             ],
             [
              0.4444444444444444,
              "#bd3786"
             ],
             [
              0.5555555555555556,
              "#d8576b"
             ],
             [
              0.6666666666666666,
              "#ed7953"
             ],
             [
              0.7777777777777778,
              "#fb9f3a"
             ],
             [
              0.8888888888888888,
              "#fdca26"
             ],
             [
              1,
              "#f0f921"
             ]
            ],
            "type": "histogram2d"
           }
          ],
          "histogram2dcontour": [
           {
            "colorbar": {
             "outlinewidth": 0,
             "ticks": ""
            },
            "colorscale": [
             [
              0,
              "#0d0887"
             ],
             [
              0.1111111111111111,
              "#46039f"
             ],
             [
              0.2222222222222222,
              "#7201a8"
             ],
             [
              0.3333333333333333,
              "#9c179e"
             ],
             [
              0.4444444444444444,
              "#bd3786"
             ],
             [
              0.5555555555555556,
              "#d8576b"
             ],
             [
              0.6666666666666666,
              "#ed7953"
             ],
             [
              0.7777777777777778,
              "#fb9f3a"
             ],
             [
              0.8888888888888888,
              "#fdca26"
             ],
             [
              1,
              "#f0f921"
             ]
            ],
            "type": "histogram2dcontour"
           }
          ],
          "mesh3d": [
           {
            "colorbar": {
             "outlinewidth": 0,
             "ticks": ""
            },
            "type": "mesh3d"
           }
          ],
          "parcoords": [
           {
            "line": {
             "colorbar": {
              "outlinewidth": 0,
              "ticks": ""
             }
            },
            "type": "parcoords"
           }
          ],
          "pie": [
           {
            "automargin": true,
            "type": "pie"
           }
          ],
          "scatter": [
           {
            "marker": {
             "colorbar": {
              "outlinewidth": 0,
              "ticks": ""
             }
            },
            "type": "scatter"
           }
          ],
          "scatter3d": [
           {
            "line": {
             "colorbar": {
              "outlinewidth": 0,
              "ticks": ""
             }
            },
            "marker": {
             "colorbar": {
              "outlinewidth": 0,
              "ticks": ""
             }
            },
            "type": "scatter3d"
           }
          ],
          "scattercarpet": [
           {
            "marker": {
             "colorbar": {
              "outlinewidth": 0,
              "ticks": ""
             }
            },
            "type": "scattercarpet"
           }
          ],
          "scattergeo": [
           {
            "marker": {
             "colorbar": {
              "outlinewidth": 0,
              "ticks": ""
             }
            },
            "type": "scattergeo"
           }
          ],
          "scattergl": [
           {
            "marker": {
             "colorbar": {
              "outlinewidth": 0,
              "ticks": ""
             }
            },
            "type": "scattergl"
           }
          ],
          "scattermapbox": [
           {
            "marker": {
             "colorbar": {
              "outlinewidth": 0,
              "ticks": ""
             }
            },
            "type": "scattermapbox"
           }
          ],
          "scatterpolar": [
           {
            "marker": {
             "colorbar": {
              "outlinewidth": 0,
              "ticks": ""
             }
            },
            "type": "scatterpolar"
           }
          ],
          "scatterpolargl": [
           {
            "marker": {
             "colorbar": {
              "outlinewidth": 0,
              "ticks": ""
             }
            },
            "type": "scatterpolargl"
           }
          ],
          "scatterternary": [
           {
            "marker": {
             "colorbar": {
              "outlinewidth": 0,
              "ticks": ""
             }
            },
            "type": "scatterternary"
           }
          ],
          "surface": [
           {
            "colorbar": {
             "outlinewidth": 0,
             "ticks": ""
            },
            "colorscale": [
             [
              0,
              "#0d0887"
             ],
             [
              0.1111111111111111,
              "#46039f"
             ],
             [
              0.2222222222222222,
              "#7201a8"
             ],
             [
              0.3333333333333333,
              "#9c179e"
             ],
             [
              0.4444444444444444,
              "#bd3786"
             ],
             [
              0.5555555555555556,
              "#d8576b"
             ],
             [
              0.6666666666666666,
              "#ed7953"
             ],
             [
              0.7777777777777778,
              "#fb9f3a"
             ],
             [
              0.8888888888888888,
              "#fdca26"
             ],
             [
              1,
              "#f0f921"
             ]
            ],
            "type": "surface"
           }
          ],
          "table": [
           {
            "cells": {
             "fill": {
              "color": "#EBF0F8"
             },
             "line": {
              "color": "white"
             }
            },
            "header": {
             "fill": {
              "color": "#C8D4E3"
             },
             "line": {
              "color": "white"
             }
            },
            "type": "table"
           }
          ]
         },
         "layout": {
          "annotationdefaults": {
           "arrowcolor": "#2a3f5f",
           "arrowhead": 0,
           "arrowwidth": 1
          },
          "coloraxis": {
           "colorbar": {
            "outlinewidth": 0,
            "ticks": ""
           }
          },
          "colorscale": {
           "diverging": [
            [
             0,
             "#8e0152"
            ],
            [
             0.1,
             "#c51b7d"
            ],
            [
             0.2,
             "#de77ae"
            ],
            [
             0.3,
             "#f1b6da"
            ],
            [
             0.4,
             "#fde0ef"
            ],
            [
             0.5,
             "#f7f7f7"
            ],
            [
             0.6,
             "#e6f5d0"
            ],
            [
             0.7,
             "#b8e186"
            ],
            [
             0.8,
             "#7fbc41"
            ],
            [
             0.9,
             "#4d9221"
            ],
            [
             1,
             "#276419"
            ]
           ],
           "sequential": [
            [
             0,
             "#0d0887"
            ],
            [
             0.1111111111111111,
             "#46039f"
            ],
            [
             0.2222222222222222,
             "#7201a8"
            ],
            [
             0.3333333333333333,
             "#9c179e"
            ],
            [
             0.4444444444444444,
             "#bd3786"
            ],
            [
             0.5555555555555556,
             "#d8576b"
            ],
            [
             0.6666666666666666,
             "#ed7953"
            ],
            [
             0.7777777777777778,
             "#fb9f3a"
            ],
            [
             0.8888888888888888,
             "#fdca26"
            ],
            [
             1,
             "#f0f921"
            ]
           ],
           "sequentialminus": [
            [
             0,
             "#0d0887"
            ],
            [
             0.1111111111111111,
             "#46039f"
            ],
            [
             0.2222222222222222,
             "#7201a8"
            ],
            [
             0.3333333333333333,
             "#9c179e"
            ],
            [
             0.4444444444444444,
             "#bd3786"
            ],
            [
             0.5555555555555556,
             "#d8576b"
            ],
            [
             0.6666666666666666,
             "#ed7953"
            ],
            [
             0.7777777777777778,
             "#fb9f3a"
            ],
            [
             0.8888888888888888,
             "#fdca26"
            ],
            [
             1,
             "#f0f921"
            ]
           ]
          },
          "colorway": [
           "#636efa",
           "#EF553B",
           "#00cc96",
           "#ab63fa",
           "#FFA15A",
           "#19d3f3",
           "#FF6692",
           "#B6E880",
           "#FF97FF",
           "#FECB52"
          ],
          "font": {
           "color": "#2a3f5f"
          },
          "geo": {
           "bgcolor": "white",
           "lakecolor": "white",
           "landcolor": "#E5ECF6",
           "showlakes": true,
           "showland": true,
           "subunitcolor": "white"
          },
          "hoverlabel": {
           "align": "left"
          },
          "hovermode": "closest",
          "mapbox": {
           "style": "light"
          },
          "paper_bgcolor": "white",
          "plot_bgcolor": "#E5ECF6",
          "polar": {
           "angularaxis": {
            "gridcolor": "white",
            "linecolor": "white",
            "ticks": ""
           },
           "bgcolor": "#E5ECF6",
           "radialaxis": {
            "gridcolor": "white",
            "linecolor": "white",
            "ticks": ""
           }
          },
          "scene": {
           "xaxis": {
            "backgroundcolor": "#E5ECF6",
            "gridcolor": "white",
            "gridwidth": 2,
            "linecolor": "white",
            "showbackground": true,
            "ticks": "",
            "zerolinecolor": "white"
           },
           "yaxis": {
            "backgroundcolor": "#E5ECF6",
            "gridcolor": "white",
            "gridwidth": 2,
            "linecolor": "white",
            "showbackground": true,
            "ticks": "",
            "zerolinecolor": "white"
           },
           "zaxis": {
            "backgroundcolor": "#E5ECF6",
            "gridcolor": "white",
            "gridwidth": 2,
            "linecolor": "white",
            "showbackground": true,
            "ticks": "",
            "zerolinecolor": "white"
           }
          },
          "shapedefaults": {
           "line": {
            "color": "#2a3f5f"
           }
          },
          "ternary": {
           "aaxis": {
            "gridcolor": "white",
            "linecolor": "white",
            "ticks": ""
           },
           "baxis": {
            "gridcolor": "white",
            "linecolor": "white",
            "ticks": ""
           },
           "bgcolor": "#E5ECF6",
           "caxis": {
            "gridcolor": "white",
            "linecolor": "white",
            "ticks": ""
           }
          },
          "title": {
           "x": 0.05
          },
          "xaxis": {
           "automargin": true,
           "gridcolor": "white",
           "linecolor": "white",
           "ticks": "",
           "title": {
            "standoff": 15
           },
           "zerolinecolor": "white",
           "zerolinewidth": 2
          },
          "yaxis": {
           "automargin": true,
           "gridcolor": "white",
           "linecolor": "white",
           "ticks": "",
           "title": {
            "standoff": 15
           },
           "zerolinecolor": "white",
           "zerolinewidth": 2
          }
         }
        },
        "title": {
         "font": {
          "color": "#484848"
         },
         "text": "Rating of top books"
        },
        "xaxis": {
         "gridcolor": "#E1E5ED",
         "showgrid": true,
         "tickfont": {
          "color": "#505050"
         },
         "title": {
          "font": {
           "color": "#505050"
          },
          "text": ""
         },
         "zerolinecolor": "#E1E5ED"
        },
        "yaxis": {
         "gridcolor": "#E1E5ED",
         "showgrid": true,
         "tickfont": {
          "color": "#505050"
         },
         "title": {
          "font": {
           "color": "#505050"
          },
          "text": "Rating"
         },
         "zerolinecolor": "#E1E5ED"
        }
       }
      },
      "text/html": [
       "<div>\n",
       "        \n",
       "        \n",
       "            <div id=\"da33e9a8-74b9-444a-8477-95bf3699e2bc\" class=\"plotly-graph-div\" style=\"height:525px; width:100%;\"></div>\n",
       "            <script type=\"text/javascript\">\n",
       "                require([\"plotly\"], function(Plotly) {\n",
       "                    window.PLOTLYENV=window.PLOTLYENV || {};\n",
       "                    window.PLOTLYENV.BASE_URL='https://plot.ly';\n",
       "                    \n",
       "                if (document.getElementById(\"da33e9a8-74b9-444a-8477-95bf3699e2bc\")) {\n",
       "                    Plotly.newPlot(\n",
       "                        'da33e9a8-74b9-444a-8477-95bf3699e2bc',\n",
       "                        [{\"marker\": {\"color\": \"rgba(0, 128, 240, 0.6)\", \"line\": {\"color\": \"rgba(0, 128, 240, 1.0)\", \"width\": 1}}, \"name\": \"rating\", \"orientation\": \"v\", \"text\": \"\", \"type\": \"bar\", \"x\": [\"The Hunger Games (The Hunger Games, #1)\", \"Harry Potter and the Order of the Phoenix (Harry Potter, #5)\", \"To Kill a Mockingbird\", \"Pride and Prejudice\", \"Twilight (Twilight, #1)\", \"The Book Thief\", \"Animal Farm\", \"The Chronicles of Narnia (Chronicles of Narnia, #1-7)\", \"J.R.R. Tolkien 4-Book Boxed Set: The Hobbit and The Lord of the Rings\", \"Gone with the Wind\", \"The Fault in Our Stars\", \"The Hitchhiker's Guide to the Galaxy (Hitchhiker's Guide to the Galaxy, #1)\", \"The Giving Tree\", \"Wuthering Heights\", \"The Da Vinci Code (Robert Langdon, #2)\", \"Memoirs of a Geisha\", \"The Picture of Dorian Gray\", \"Alice's Adventures in Wonderland & Through the Looking-Glass\", \"Jane Eyre\", \"Les Mis\\u00e9rables\", \"Divergent (Divergent, #1)\", \"Fahrenheit 451\", \"Romeo and Juliet\", \"Lord of the Flies\", \"The Alchemist\", \"Crime and Punishment\", \"The Perks of Being a Wallflower\", \"The Great Gatsby\", \"Ender's Game (Ender's Saga, #1)\", \"City of Bones (The Mortal Instruments, #1)\", \"The Help\", \"Anne of Green Gables (Anne of Green Gables, #1)\", \"Charlotte's Web\", \"The Little Prince\", \"The Time Traveler's Wife\", \"Of Mice and Men\", \"Harry Potter and the Sorcerer's Stone (Harry Potter, #1)\", \"Dracula\", \"Brave New World\", \"One Hundred Years of Solitude\", \"The Princess Bride\", \"The Catcher in the Rye\", \"The Secret Garden\", \"A Thousand Splendid Suns\", \"The Lightning Thief (Percy Jackson and the Olympians, #1)\", \"A Wrinkle in Time (Time Quintet, #1)\", \"A Game of Thrones (A Song of Ice and Fire, #1)\", \"The Adventures of Huckleberry Finn\", \"The Lovely Bones\", \"The Outsiders\", \"Where the Wild Things Are\", \"Green Eggs and Ham\", \"The Odyssey\", \"Life of Pi\", \"A Tale of Two Cities\", \"Water for Elephants\", \"Lolita\", \"Slaughterhouse-Five\", \"Frankenstein: The 1818 Text\", \"The Kite Runner\", \"The Handmaid's Tale (The Handmaid's Tale, #1)\", \"The Giver (The Giver, #1)\", \"Catch-22 (Catch-22, #1)\", \"Dune (Dune, #1)\", \"The Pillars of the Earth (Kingsbridge, #1)\", \"The Stand\", \"The Adventures of Sherlock Holmes\", \"Watership Down (Watership Down, #1)\", \"Great Expectations\", \"One Flew Over the Cuckoo's Nest\", \"The Bell Jar\", \"Anna Karenina\", \"Little Women\", \"My Sister's Keeper\", \"Outlander (Outlander, #1)\", \"The Girl with the Dragon Tattoo (Millennium, #1)\", \"Harry Potter and the Deathly Hallows (Harry Potter, #7)\", \"Matilda\", \"The Fellowship of the Ring (The Lord of the Rings, #1)\", \"Rebecca\", \"The Color Purple\", \"A Tree Grows in Brooklyn\", \"1984\", \"A Clockwork Orange\", \"The Road\", \"The Brothers Karamazov\", \"Angela's Ashes (Frank McCourt, #1)\", \"Vampire Academy (Vampire Academy, #1)\", \"The Poisonwood Bible\", \"Siddhartha\", \"The Golden Compass (His Dark Materials, #1)\", \"Don Quixote\", \"Atlas Shrugged\", \"The Old Man and the Sea\", \"Harry Potter and the Prisoner of Azkaban (Harry Potter, #3)\", \"The Notebook (The Notebook, #1)\", \"Winnie-the-Pooh (Winnie-the-Pooh, #1)\", \"The Complete Stories and Poems\", \"A Prayer for Owen Meany\", \"Interview with the Vampire (The Vampire Chronicles, #1)\", \"Moby-Dick or, the Whale\", \"The Red Tent\", \"The Secret Life of Bees\", \"Harry Potter and the Goblet of Fire (Harry Potter, #4)\", \"Clockwork Angel (The Infernal Devices, #1)\", \"And Then There Were None\", \"Middlesex\", \"Harry Potter and the Half-Blood Prince (Harry Potter, #6)\", \"The Stranger\", \"The Master and Margarita\", \"The Name of the Wind (The Kingkiller Chronicle, #1)\", \"The Shining\", \"The Adventures of Tom Sawyer\", \"Eragon (The Inheritance Cycle, #1)\", \"Charlie and the Chocolate Factory (Charlie Bucket, #1)\", \"Flowers for Algernon\", \"On the Road\", \"Looking for Alaska\", \"The Metamorphosis\", \"The Shadow of the Wind (The Cemetery of Forgotten Books, #1)\", \"The Curious Incident of the Dog in the Night-Time\", \"The Very Hungry Caterpillar\", \"Tuesdays with Morrie\", \"The Unbearable Lightness of Being\", \"The Name of the Rose\", \"Where the Red Fern Grows\", \"The Scarlet Letter\", \"The Godfather\", \"Harry Potter and the Chamber of Secrets (Harry Potter, #2)\", \"In Cold Blood\", \"The Five People You Meet in Heaven\", \"Fight Club\", \"Hush, Hush (Hush, Hush, #1)\", \"Lonesome Dove\", \"The Cat in the Hat\", \"American Gods (American Gods, #1)\", \"Holes (Holes, #1)\", \"Perfume: The Story of a Murderer\", \"The Count of Monte Cristo\", \"The Lion, the Witch and the Wardrobe (Chronicles of Narnia, #1)\", \"It\", \"Watchmen\", \"The Little House Collection (Little House, #1-9)\", \"The Last Olympian (Percy Jackson and the Olympians, #5)\", \"The Divine Comedy\", \"Peter Pan\", \"All Quiet on the Western Front\", \"The Compleat Works of Wllm Shkspr\", \"Love in the Time of Cholera\", \"Shadow Kiss (Vampire Academy, #3)\", \"The Hobbit, or There and Back Again\", \"A Walk to Remember\", \"The Thorn Birds\", \"Insurgent (Divergent, #2)\", \"The Ultimate Hitchhiker's Guide to the Galaxy (Hitchhiker's Guide to the Galaxy, #1-5)\", \"How the Grinch Stole Christmas!\", \"Atonement\", \"The Importance of Being Earnest\", \"Eat, Pray, Love\", \"Their Eyes Were Watching God\", \"The Three Musketeers (The D'Artagnan Romances, #1)\", \"The Wonderful Wizard of Oz (Oz, #1)\", \"Frostbite (Vampire Academy, #2)\", \"Goodnight Moon\", \"The Lorax\", \"Good Omens: The Nice and Accurate Prophecies of Agnes Nutter, Witch\", \"Blood Promise (Vampire Academy, #4)\", \"Tess of the D'Urbervilles\", \"The Good Earth (House of Earth, #1)\", \"Heart of Darkness\", \"A Midsummer Night's Dream\", \"The Prophet\", \"The Battle of the Labyrinth (Percy Jackson and the Olympians, #4)\", \"The Mists of Avalon (Avalon, #1)\", \"Clockwork Princess (The Infernal Devices, #3)\", \"The Sea of Monsters (Percy Jackson and the Olympians, #2)\", \"The Titan's Curse (Percy Jackson and the Olympians, #3)\", \"The Joy Luck Club\", \"Alice in Wonderland\", \"The Call of the Wild\", \"Jonathan Livingston Seagull\", \"Madame Bovary\", \"The Phantom Tollbooth\", \"Bridge to Terabithia\", \"Oh, the Places You'll Go!\", \"The Girl Who Played with Fire (Millennium, #2)\", \"The Hunger Games Trilogy Boxset (The Hunger Games, #1-3)\", \"The Maze Runner (The Maze Runner, #1)\", \"Oliver Twist\", \"Ulysses\", \"The Neverending Story\", \"Treasure Island\", \"Fifty Shades of Grey (Fifty Shades, #1)\", \"The Clan of the Cave Bear\", \"The Canterbury Tales\", \"The World According to Garp\", \"A Storm of Swords (A Song of Ice and Fire, #3)\", \"A Farewell to Arms\", \"David Copperfield\", \"Thirteen Reasons Why\"], \"y\": [4.329999923706055, 4.5, 4.28000020980835, 4.260000228881836, 3.5899999141693115, 4.369999885559082, 3.940000057220459, 4.260000228881836, 4.599999904632568, 4.300000190734863, 4.210000038146973, 4.21999979019165, 4.380000114440918, 3.859999895095825, 3.8499999046325684, 4.119999885559082, 4.079999923706055, 4.059999942779541, 4.119999885559082, 4.170000076293945, 4.199999809265137, 3.990000009536743, 3.75, 3.680000066757202, 3.869999885559082, 4.21999979019165, 4.199999809265137, 3.9200000762939453, 4.300000190734863, 4.099999904632568, 4.46999979019165, 4.260000228881836, 4.170000076293945, 4.309999942779541, 3.9700000286102295, 3.869999885559082, 4.46999979019165, 4.0, 3.990000009536743, 4.079999923706055, 4.260000228881836, 3.809999942779541, 4.139999866485596, 4.369999885559082, 4.25, 4.0, 4.449999809265137, 3.819999933242798, 3.809999942779541, 4.099999904632568, 4.21999979019165, 4.300000190734863, 3.7699999809265137, 3.9100000858306885, 3.8399999141693115, 4.090000152587891, 3.890000104904175, 4.070000171661377, 3.799999952316284, 4.300000190734863, 4.110000133514404, 4.130000114440918, 3.9800000190734863, 4.230000019073486, 4.320000171661377, 4.340000152587891, 4.300000190734863, 4.059999942779541, 3.7799999713897705, 4.190000057220459, 4.010000228881836, 4.050000190734863, 4.079999923706055, 4.079999923706055, 4.230000019073486, 4.139999866485596, 4.619999885559082, 4.320000171661377, 4.360000133514404, 4.230000019073486, 4.210000038146973, 4.269999980926514, 4.179999828338623, 3.990000009536743, 3.9700000286102295, 4.320000171661377, 4.110000133514404, 4.119999885559082, 4.059999942779541, 4.03000020980835, 3.9800000190734863, 3.880000114440918, 3.690000057220459, 3.7799999713897705, 4.570000171661377, 4.099999904632568, 4.349999904632568, 4.380000114440918, 4.230000019073486, 4.0, 3.5, 4.179999828338623, 4.050000190734863, 4.559999942779541, 4.329999923706055, 4.260000228881836, 4.010000228881836, 4.570000171661377, 3.9800000190734863, 4.289999961853027, 4.539999961853027, 4.230000019073486, 3.9100000858306885, 3.9000000953674316, 4.139999866485596, 4.130000114440918, 3.619999885559082, 4.03000020980835, 3.819999933242798, 4.269999980926514, 3.880000114440918, 4.300000190734863, 4.110000133514404, 4.099999904632568, 4.119999885559082, 4.079999923706055, 3.4100000858306885, 4.369999885559082, 4.429999828338623, 4.070000171661377, 3.940000057220459, 4.190000057220459, 3.9700000286102295, 4.489999771118164, 4.170000076293945, 4.110000133514404, 3.9700000286102295, 4.019999980926514, 4.25, 4.21999979019165, 4.239999771118164, 4.360000133514404, 4.340000152587891, 4.510000228881836, 4.059999942779541, 4.070000171661377, 3.9800000190734863, 4.440000057220459, 3.9200000762939453, 4.360000133514404, 4.269999980926514, 4.179999828338623, 4.230000019073486, 4.03000020980835, 4.360000133514404, 4.369999885559082, 3.9100000858306885, 4.179999828338623, 3.559999942779541, 3.930000066757202, 4.070000171661377, 3.990000009536743, 4.28000020980835, 4.28000020980835, 4.349999904632568, 4.25, 4.340000152587891, 3.799999952316284, 3.9800000190734863, 3.4200000762939453, 3.950000047683716, 4.230000019073486, 4.400000095367432, 4.119999885559082, 4.579999923706055, 4.239999771118164, 4.349999904632568, 3.930000066757202, 4.03000020980835, 3.869999885559082, 3.8399999141693115, 3.680000066757202, 4.210000038146973, 4.010000228881836, 4.360000133514404, 4.239999771118164, 4.480000019073486, 4.019999980926514, 3.869999885559082, 3.7300000190734863, 4.179999828338623, 3.8299999237060547, 3.6600000858306885, 4.050000190734863, 3.5, 4.090000152587891, 4.539999961853027, 3.809999942779541, 3.990000009536743, 3.930000066757202]}],\n",
       "                        {\"legend\": {\"bgcolor\": \"#F2F3F7\", \"font\": {\"color\": \"#505050\"}}, \"paper_bgcolor\": \"#F2F3F7\", \"plot_bgcolor\": \"#F2F3F7\", \"template\": {\"data\": {\"bar\": [{\"error_x\": {\"color\": \"#2a3f5f\"}, \"error_y\": {\"color\": \"#2a3f5f\"}, \"marker\": {\"line\": {\"color\": \"#E5ECF6\", \"width\": 0.5}}, \"type\": \"bar\"}], \"barpolar\": [{\"marker\": {\"line\": {\"color\": \"#E5ECF6\", \"width\": 0.5}}, \"type\": \"barpolar\"}], \"carpet\": [{\"aaxis\": {\"endlinecolor\": \"#2a3f5f\", \"gridcolor\": \"white\", \"linecolor\": \"white\", \"minorgridcolor\": \"white\", \"startlinecolor\": \"#2a3f5f\"}, \"baxis\": {\"endlinecolor\": \"#2a3f5f\", \"gridcolor\": \"white\", \"linecolor\": \"white\", \"minorgridcolor\": \"white\", \"startlinecolor\": \"#2a3f5f\"}, \"type\": \"carpet\"}], \"choropleth\": [{\"colorbar\": {\"outlinewidth\": 0, \"ticks\": \"\"}, \"type\": \"choropleth\"}], \"contour\": [{\"colorbar\": {\"outlinewidth\": 0, \"ticks\": \"\"}, \"colorscale\": [[0.0, \"#0d0887\"], [0.1111111111111111, \"#46039f\"], [0.2222222222222222, \"#7201a8\"], [0.3333333333333333, \"#9c179e\"], [0.4444444444444444, \"#bd3786\"], [0.5555555555555556, \"#d8576b\"], [0.6666666666666666, \"#ed7953\"], [0.7777777777777778, \"#fb9f3a\"], [0.8888888888888888, \"#fdca26\"], [1.0, \"#f0f921\"]], \"type\": \"contour\"}], \"contourcarpet\": [{\"colorbar\": {\"outlinewidth\": 0, \"ticks\": \"\"}, \"type\": \"contourcarpet\"}], \"heatmap\": [{\"colorbar\": {\"outlinewidth\": 0, \"ticks\": \"\"}, \"colorscale\": [[0.0, \"#0d0887\"], [0.1111111111111111, \"#46039f\"], [0.2222222222222222, \"#7201a8\"], [0.3333333333333333, \"#9c179e\"], [0.4444444444444444, \"#bd3786\"], [0.5555555555555556, \"#d8576b\"], [0.6666666666666666, \"#ed7953\"], [0.7777777777777778, \"#fb9f3a\"], [0.8888888888888888, \"#fdca26\"], [1.0, \"#f0f921\"]], \"type\": \"heatmap\"}], \"heatmapgl\": [{\"colorbar\": {\"outlinewidth\": 0, \"ticks\": \"\"}, \"colorscale\": [[0.0, \"#0d0887\"], [0.1111111111111111, \"#46039f\"], [0.2222222222222222, \"#7201a8\"], [0.3333333333333333, \"#9c179e\"], [0.4444444444444444, \"#bd3786\"], [0.5555555555555556, \"#d8576b\"], [0.6666666666666666, \"#ed7953\"], [0.7777777777777778, \"#fb9f3a\"], [0.8888888888888888, \"#fdca26\"], [1.0, \"#f0f921\"]], \"type\": \"heatmapgl\"}], \"histogram\": [{\"marker\": {\"colorbar\": {\"outlinewidth\": 0, \"ticks\": \"\"}}, \"type\": \"histogram\"}], \"histogram2d\": [{\"colorbar\": {\"outlinewidth\": 0, \"ticks\": \"\"}, \"colorscale\": [[0.0, \"#0d0887\"], [0.1111111111111111, \"#46039f\"], [0.2222222222222222, \"#7201a8\"], [0.3333333333333333, \"#9c179e\"], [0.4444444444444444, \"#bd3786\"], [0.5555555555555556, \"#d8576b\"], [0.6666666666666666, \"#ed7953\"], [0.7777777777777778, \"#fb9f3a\"], [0.8888888888888888, \"#fdca26\"], [1.0, \"#f0f921\"]], \"type\": \"histogram2d\"}], \"histogram2dcontour\": [{\"colorbar\": {\"outlinewidth\": 0, \"ticks\": \"\"}, \"colorscale\": [[0.0, \"#0d0887\"], [0.1111111111111111, \"#46039f\"], [0.2222222222222222, \"#7201a8\"], [0.3333333333333333, \"#9c179e\"], [0.4444444444444444, \"#bd3786\"], [0.5555555555555556, \"#d8576b\"], [0.6666666666666666, \"#ed7953\"], [0.7777777777777778, \"#fb9f3a\"], [0.8888888888888888, \"#fdca26\"], [1.0, \"#f0f921\"]], \"type\": \"histogram2dcontour\"}], \"mesh3d\": [{\"colorbar\": {\"outlinewidth\": 0, \"ticks\": \"\"}, \"type\": \"mesh3d\"}], \"parcoords\": [{\"line\": {\"colorbar\": {\"outlinewidth\": 0, \"ticks\": \"\"}}, \"type\": \"parcoords\"}], \"pie\": [{\"automargin\": true, \"type\": \"pie\"}], \"scatter\": [{\"marker\": {\"colorbar\": {\"outlinewidth\": 0, \"ticks\": \"\"}}, \"type\": \"scatter\"}], \"scatter3d\": [{\"line\": {\"colorbar\": {\"outlinewidth\": 0, \"ticks\": \"\"}}, \"marker\": {\"colorbar\": {\"outlinewidth\": 0, \"ticks\": \"\"}}, \"type\": \"scatter3d\"}], \"scattercarpet\": [{\"marker\": {\"colorbar\": {\"outlinewidth\": 0, \"ticks\": \"\"}}, \"type\": \"scattercarpet\"}], \"scattergeo\": [{\"marker\": {\"colorbar\": {\"outlinewidth\": 0, \"ticks\": \"\"}}, \"type\": \"scattergeo\"}], \"scattergl\": [{\"marker\": {\"colorbar\": {\"outlinewidth\": 0, \"ticks\": \"\"}}, \"type\": \"scattergl\"}], \"scattermapbox\": [{\"marker\": {\"colorbar\": {\"outlinewidth\": 0, \"ticks\": \"\"}}, \"type\": \"scattermapbox\"}], \"scatterpolar\": [{\"marker\": {\"colorbar\": {\"outlinewidth\": 0, \"ticks\": \"\"}}, \"type\": \"scatterpolar\"}], \"scatterpolargl\": [{\"marker\": {\"colorbar\": {\"outlinewidth\": 0, \"ticks\": \"\"}}, \"type\": \"scatterpolargl\"}], \"scatterternary\": [{\"marker\": {\"colorbar\": {\"outlinewidth\": 0, \"ticks\": \"\"}}, \"type\": \"scatterternary\"}], \"surface\": [{\"colorbar\": {\"outlinewidth\": 0, \"ticks\": \"\"}, \"colorscale\": [[0.0, \"#0d0887\"], [0.1111111111111111, \"#46039f\"], [0.2222222222222222, \"#7201a8\"], [0.3333333333333333, \"#9c179e\"], [0.4444444444444444, \"#bd3786\"], [0.5555555555555556, \"#d8576b\"], [0.6666666666666666, \"#ed7953\"], [0.7777777777777778, \"#fb9f3a\"], [0.8888888888888888, \"#fdca26\"], [1.0, \"#f0f921\"]], \"type\": \"surface\"}], \"table\": [{\"cells\": {\"fill\": {\"color\": \"#EBF0F8\"}, \"line\": {\"color\": \"white\"}}, \"header\": {\"fill\": {\"color\": \"#C8D4E3\"}, \"line\": {\"color\": \"white\"}}, \"type\": \"table\"}]}, \"layout\": {\"annotationdefaults\": {\"arrowcolor\": \"#2a3f5f\", \"arrowhead\": 0, \"arrowwidth\": 1}, \"coloraxis\": {\"colorbar\": {\"outlinewidth\": 0, \"ticks\": \"\"}}, \"colorscale\": {\"diverging\": [[0, \"#8e0152\"], [0.1, \"#c51b7d\"], [0.2, \"#de77ae\"], [0.3, \"#f1b6da\"], [0.4, \"#fde0ef\"], [0.5, \"#f7f7f7\"], [0.6, \"#e6f5d0\"], [0.7, \"#b8e186\"], [0.8, \"#7fbc41\"], [0.9, \"#4d9221\"], [1, \"#276419\"]], \"sequential\": [[0.0, \"#0d0887\"], [0.1111111111111111, \"#46039f\"], [0.2222222222222222, \"#7201a8\"], [0.3333333333333333, \"#9c179e\"], [0.4444444444444444, \"#bd3786\"], [0.5555555555555556, \"#d8576b\"], [0.6666666666666666, \"#ed7953\"], [0.7777777777777778, \"#fb9f3a\"], [0.8888888888888888, \"#fdca26\"], [1.0, \"#f0f921\"]], \"sequentialminus\": [[0.0, \"#0d0887\"], [0.1111111111111111, \"#46039f\"], [0.2222222222222222, \"#7201a8\"], [0.3333333333333333, \"#9c179e\"], [0.4444444444444444, \"#bd3786\"], [0.5555555555555556, \"#d8576b\"], [0.6666666666666666, \"#ed7953\"], [0.7777777777777778, \"#fb9f3a\"], [0.8888888888888888, \"#fdca26\"], [1.0, \"#f0f921\"]]}, \"colorway\": [\"#636efa\", \"#EF553B\", \"#00cc96\", \"#ab63fa\", \"#FFA15A\", \"#19d3f3\", \"#FF6692\", \"#B6E880\", \"#FF97FF\", \"#FECB52\"], \"font\": {\"color\": \"#2a3f5f\"}, \"geo\": {\"bgcolor\": \"white\", \"lakecolor\": \"white\", \"landcolor\": \"#E5ECF6\", \"showlakes\": true, \"showland\": true, \"subunitcolor\": \"white\"}, \"hoverlabel\": {\"align\": \"left\"}, \"hovermode\": \"closest\", \"mapbox\": {\"style\": \"light\"}, \"paper_bgcolor\": \"white\", \"plot_bgcolor\": \"#E5ECF6\", \"polar\": {\"angularaxis\": {\"gridcolor\": \"white\", \"linecolor\": \"white\", \"ticks\": \"\"}, \"bgcolor\": \"#E5ECF6\", \"radialaxis\": {\"gridcolor\": \"white\", \"linecolor\": \"white\", \"ticks\": \"\"}}, \"scene\": {\"xaxis\": {\"backgroundcolor\": \"#E5ECF6\", \"gridcolor\": \"white\", \"gridwidth\": 2, \"linecolor\": \"white\", \"showbackground\": true, \"ticks\": \"\", \"zerolinecolor\": \"white\"}, \"yaxis\": {\"backgroundcolor\": \"#E5ECF6\", \"gridcolor\": \"white\", \"gridwidth\": 2, \"linecolor\": \"white\", \"showbackground\": true, \"ticks\": \"\", \"zerolinecolor\": \"white\"}, \"zaxis\": {\"backgroundcolor\": \"#E5ECF6\", \"gridcolor\": \"white\", \"gridwidth\": 2, \"linecolor\": \"white\", \"showbackground\": true, \"ticks\": \"\", \"zerolinecolor\": \"white\"}}, \"shapedefaults\": {\"line\": {\"color\": \"#2a3f5f\"}}, \"ternary\": {\"aaxis\": {\"gridcolor\": \"white\", \"linecolor\": \"white\", \"ticks\": \"\"}, \"baxis\": {\"gridcolor\": \"white\", \"linecolor\": \"white\", \"ticks\": \"\"}, \"bgcolor\": \"#E5ECF6\", \"caxis\": {\"gridcolor\": \"white\", \"linecolor\": \"white\", \"ticks\": \"\"}}, \"title\": {\"x\": 0.05}, \"xaxis\": {\"automargin\": true, \"gridcolor\": \"white\", \"linecolor\": \"white\", \"ticks\": \"\", \"title\": {\"standoff\": 15}, \"zerolinecolor\": \"white\", \"zerolinewidth\": 2}, \"yaxis\": {\"automargin\": true, \"gridcolor\": \"white\", \"linecolor\": \"white\", \"ticks\": \"\", \"title\": {\"standoff\": 15}, \"zerolinecolor\": \"white\", \"zerolinewidth\": 2}}}, \"title\": {\"font\": {\"color\": \"#484848\"}, \"text\": \"Rating of top books\"}, \"xaxis\": {\"gridcolor\": \"#E1E5ED\", \"showgrid\": true, \"tickfont\": {\"color\": \"#505050\"}, \"title\": {\"font\": {\"color\": \"#505050\"}, \"text\": \"\"}, \"zerolinecolor\": \"#E1E5ED\"}, \"yaxis\": {\"gridcolor\": \"#E1E5ED\", \"showgrid\": true, \"tickfont\": {\"color\": \"#505050\"}, \"title\": {\"font\": {\"color\": \"#505050\"}, \"text\": \"Rating\"}, \"zerolinecolor\": \"#E1E5ED\"}},\n",
       "                        {\"showLink\": true, \"linkText\": \"Export to plot.ly\", \"plotlyServerURL\": \"https://plot.ly\", \"responsive\": true}\n",
       "                    ).then(function(){\n",
       "                            \n",
       "var gd = document.getElementById('da33e9a8-74b9-444a-8477-95bf3699e2bc');\n",
       "var x = new MutationObserver(function (mutations, observer) {{\n",
       "        var display = window.getComputedStyle(gd).display;\n",
       "        if (!display || display === 'none') {{\n",
       "            console.log([gd, 'removed!']);\n",
       "            Plotly.purge(gd);\n",
       "            observer.disconnect();\n",
       "        }}\n",
       "}});\n",
       "\n",
       "// Listen for the removal of the full notebook cells\n",
       "var notebookContainer = gd.closest('#notebook-container');\n",
       "if (notebookContainer) {{\n",
       "    x.observe(notebookContainer, {childList: true});\n",
       "}}\n",
       "\n",
       "// Listen for the clearing of the current output cell\n",
       "var outputEl = gd.closest('.output');\n",
       "if (outputEl) {{\n",
       "    x.observe(outputEl, {childList: true});\n",
       "}}\n",
       "\n",
       "                        })\n",
       "                };\n",
       "                });\n",
       "            </script>\n",
       "        </div>"
      ]
     },
     "metadata": {},
     "output_type": "display_data"
    }
   ],
   "source": [
    "df.iplot(kind = 'bar',\n",
    "                x='name',\n",
    "                y='rating',\n",
    "                #xTitle='Book name',\n",
    "                yTitle='Rating',\n",
    "                title='Rating of top books')"
   ]
  },
  {
   "cell_type": "markdown",
   "metadata": {},
   "source": [
    "## Rating of books after sorting the rating"
   ]
  },
  {
   "cell_type": "code",
   "execution_count": 17,
   "metadata": {
    "ExecuteTime": {
     "end_time": "2020-07-13T20:10:25.647019Z",
     "start_time": "2020-07-13T20:10:25.462630Z"
    }
   },
   "outputs": [
    {
     "data": {
      "application/vnd.plotly.v1+json": {
       "config": {
        "linkText": "Export to plot.ly",
        "plotlyServerURL": "https://plot.ly",
        "showLink": true
       },
       "data": [
        {
         "marker": {
          "color": "rgba(0, 128, 240, 0.6)",
          "line": {
           "color": "rgba(0, 128, 240, 1.0)",
           "width": 1
          }
         },
         "name": "rating",
         "orientation": "v",
         "text": "",
         "type": "bar",
         "x": [
          "Harry Potter and the Deathly Hallows (Harry Potter, #7)",
          "J.R.R. Tolkien 4-Book Boxed Set: The Hobbit and The Lord of the Rings",
          "Clockwork Princess (The Infernal Devices, #3)",
          "Harry Potter and the Half-Blood Prince (Harry Potter, #6)",
          "Harry Potter and the Prisoner of Azkaban (Harry Potter, #3)",
          "Harry Potter and the Goblet of Fire (Harry Potter, #4)",
          "The Name of the Wind (The Kingkiller Chronicle, #1)",
          "A Storm of Swords (A Song of Ice and Fire, #3)",
          "The Last Olympian (Percy Jackson and the Olympians, #5)",
          "Harry Potter and the Order of the Phoenix (Harry Potter, #5)",
          "Lonesome Dove",
          "The Hunger Games Trilogy Boxset (The Hunger Games, #1-3)",
          "The Help",
          "Harry Potter and the Sorcerer's Stone (Harry Potter, #1)",
          "A Game of Thrones (A Song of Ice and Fire, #1)",
          "The Compleat Works of Wllm Shkspr",
          "Harry Potter and the Chamber of Secrets (Harry Potter, #2)",
          "The Battle of the Labyrinth (Percy Jackson and the Olympians, #4)",
          "The Complete Stories and Poems",
          "The Giving Tree",
          "A Thousand Splendid Suns",
          "The Book Thief",
          "How the Grinch Stole Christmas!",
          "The Godfather",
          "Oh, the Places You'll Go!",
          "Watchmen",
          "Shadow Kiss (Vampire Academy, #3)",
          "The Ultimate Hitchhiker's Guide to the Galaxy (Hitchhiker's Guide to the Galaxy, #1-5)",
          "The Fellowship of the Ring (The Lord of the Rings, #1)",
          "The Titan's Curse (Percy Jackson and the Olympians, #3)",
          "Winnie-the-Pooh (Winnie-the-Pooh, #1)",
          "The Lorax",
          "The Little House Collection (Little House, #1-9)",
          "The Stand",
          "Blood Promise (Vampire Academy, #4)",
          "Clockwork Angel (The Infernal Devices, #1)",
          "The Hunger Games (The Hunger Games, #1)",
          "The Pillars of the Earth (Kingsbridge, #1)",
          "Matilda",
          "The Brothers Karamazov",
          "The Little Prince",
          "The Very Hungry Caterpillar",
          "Green Eggs and Ham",
          "Ender's Game (Ender's Saga, #1)",
          "Gone with the Wind",
          "The Kite Runner",
          "The Adventures of Sherlock Holmes",
          "The Master and Margarita",
          "Goodnight Moon",
          "Frostbite (Vampire Academy, #2)",
          "To Kill a Mockingbird",
          "The Shadow of the Wind (The Cemetery of Forgotten Books, #1)",
          "The Hobbit, or There and Back Again",
          "A Tree Grows in Brooklyn",
          "Pride and Prejudice",
          "The Chronicles of Narnia (Chronicles of Narnia, #1-7)",
          "And Then There Were None",
          "Anne of Green Gables (Anne of Green Gables, #1)",
          "The Princess Bride",
          "The Lightning Thief (Percy Jackson and the Olympians, #1)",
          "Good Omens: The Nice and Accurate Prophecies of Agnes Nutter, Witch",
          "The Count of Monte Cristo",
          "The Girl Who Played with Fire (Millennium, #2)",
          "The Sea of Monsters (Percy Jackson and the Olympians, #2)",
          "It",
          "The Prophet",
          "The Thorn Birds",
          "The Shining",
          "A Prayer for Owen Meany",
          "Outlander (Outlander, #1)",
          "Rebecca",
          "Dune (Dune, #1)",
          "The Hitchhiker's Guide to the Galaxy (Hitchhiker's Guide to the Galaxy, #1)",
          "The Lion, the Witch and the Wardrobe (Chronicles of Narnia, #1)",
          "Where the Wild Things Are",
          "Crime and Punishment",
          "The Fault in Our Stars",
          "The Phantom Tollbooth",
          "The Color Purple",
          "The Perks of Being a Wallflower",
          "Divergent (Divergent, #1)",
          "Fight Club",
          "One Flew Over the Cuckoo's Nest",
          "The Neverending Story",
          "The Importance of Being Earnest",
          "1984",
          "A Walk to Remember",
          "The Red Tent",
          "The Cat in the Hat",
          "Les Misérables",
          "Charlotte's Web",
          "The Secret Garden",
          "Charlie and the Chocolate Factory (Charlie Bucket, #1)",
          "The Girl with the Dragon Tattoo (Millennium, #1)",
          "The Giver (The Giver, #1)",
          "Flowers for Algernon",
          "Jane Eyre",
          "Vampire Academy (Vampire Academy, #1)",
          "The Mists of Avalon (Avalon, #1)",
          "Memoirs of a Geisha",
          "The Name of the Rose",
          "The Handmaid's Tale (The Handmaid's Tale, #1)",
          "Angela's Ashes (Frank McCourt, #1)",
          "Tuesdays with Morrie",
          "American Gods (American Gods, #1)",
          "The Unbearable Lightness of Being",
          "The Outsiders",
          "The Notebook (The Notebook, #1)",
          "City of Bones (The Mortal Instruments, #1)",
          "Water for Elephants",
          "The World According to Garp",
          "My Sister's Keeper",
          "Little Women",
          "Where the Red Fern Grows",
          "One Hundred Years of Solitude",
          "The Picture of Dorian Gray",
          "In Cold Blood",
          "The Three Musketeers (The D'Artagnan Romances, #1)",
          "Slaughterhouse-Five",
          "Peter Pan",
          "Watership Down (Watership Down, #1)",
          "The Divine Comedy",
          "The Poisonwood Bible",
          "Alice's Adventures in Wonderland & Through the Looking-Glass",
          "The Clan of the Cave Bear",
          "Anna Karenina",
          "The Secret Life of Bees",
          "Looking for Alaska",
          "Insurgent (Divergent, #2)",
          "Alice in Wonderland",
          "Siddhartha",
          "The Maze Runner (The Maze Runner, #1)",
          "Perfume: The Story of a Murderer",
          "Middlesex",
          "Bridge to Terabithia",
          "The Bell Jar",
          "Dracula",
          "A Wrinkle in Time (Time Quintet, #1)",
          "Interview with the Vampire (The Vampire Chronicles, #1)",
          "A Clockwork Orange",
          "Fahrenheit 451",
          "The Wonderful Wizard of Oz (Oz, #1)",
          "Brave New World",
          "David Copperfield",
          "All Quiet on the Western Front",
          "The Golden Compass (His Dark Materials, #1)",
          "The Stranger",
          "Catch-22 (Catch-22, #1)",
          "The Good Earth (House of Earth, #1)",
          "Holes (Holes, #1)",
          "Hush, Hush (Hush, Hush, #1)",
          "The Road",
          "The Time Traveler's Wife",
          "A Midsummer Night's Dream",
          "The Five People You Meet in Heaven",
          "Animal Farm",
          "Their Eyes Were Watching God",
          "The Joy Luck Club",
          "Thirteen Reasons Why",
          "Love in the Time of Cholera",
          "The Great Gatsby",
          "Life of Pi",
          "The Adventures of Tom Sawyer",
          "Atonement",
          "Eragon (The Inheritance Cycle, #1)",
          "Lolita",
          "Don Quixote",
          "The Curious Incident of the Dog in the Night-Time",
          "Oliver Twist",
          "The Alchemist",
          "Of Mice and Men",
          "The Call of the Wild",
          "Wuthering Heights",
          "The Da Vinci Code (Robert Langdon, #2)",
          "Jonathan Livingston Seagull",
          "A Tale of Two Cities",
          "Treasure Island",
          "The Metamorphosis",
          "The Adventures of Huckleberry Finn",
          "A Farewell to Arms",
          "The Lovely Bones",
          "The Catcher in the Rye",
          "Tess of the D'Urbervilles",
          "Frankenstein: The 1818 Text",
          "Great Expectations",
          "The Old Man and the Sea",
          "The Odyssey",
          "Romeo and Juliet",
          "Ulysses",
          "Atlas Shrugged",
          "Madame Bovary",
          "Lord of the Flies",
          "Fifty Shades of Grey (Fifty Shades, #1)",
          "On the Road",
          "Twilight (Twilight, #1)",
          "Eat, Pray, Love",
          "The Canterbury Tales",
          "Moby-Dick or, the Whale",
          "Heart of Darkness",
          "The Scarlet Letter"
         ],
         "y": [
          4.619999885559082,
          4.599999904632568,
          4.579999923706055,
          4.570000171661377,
          4.570000171661377,
          4.559999942779541,
          4.539999961853027,
          4.539999961853027,
          4.510000228881836,
          4.5,
          4.489999771118164,
          4.480000019073486,
          4.46999979019165,
          4.46999979019165,
          4.449999809265137,
          4.440000057220459,
          4.429999828338623,
          4.400000095367432,
          4.380000114440918,
          4.380000114440918,
          4.369999885559082,
          4.369999885559082,
          4.369999885559082,
          4.369999885559082,
          4.360000133514404,
          4.360000133514404,
          4.360000133514404,
          4.360000133514404,
          4.360000133514404,
          4.349999904632568,
          4.349999904632568,
          4.349999904632568,
          4.340000152587891,
          4.340000152587891,
          4.340000152587891,
          4.329999923706055,
          4.329999923706055,
          4.320000171661377,
          4.320000171661377,
          4.320000171661377,
          4.309999942779541,
          4.300000190734863,
          4.300000190734863,
          4.300000190734863,
          4.300000190734863,
          4.300000190734863,
          4.300000190734863,
          4.289999961853027,
          4.28000020980835,
          4.28000020980835,
          4.28000020980835,
          4.269999980926514,
          4.269999980926514,
          4.269999980926514,
          4.260000228881836,
          4.260000228881836,
          4.260000228881836,
          4.260000228881836,
          4.260000228881836,
          4.25,
          4.25,
          4.25,
          4.239999771118164,
          4.239999771118164,
          4.239999771118164,
          4.230000019073486,
          4.230000019073486,
          4.230000019073486,
          4.230000019073486,
          4.230000019073486,
          4.230000019073486,
          4.230000019073486,
          4.21999979019165,
          4.21999979019165,
          4.21999979019165,
          4.21999979019165,
          4.210000038146973,
          4.210000038146973,
          4.210000038146973,
          4.199999809265137,
          4.199999809265137,
          4.190000057220459,
          4.190000057220459,
          4.179999828338623,
          4.179999828338623,
          4.179999828338623,
          4.179999828338623,
          4.179999828338623,
          4.170000076293945,
          4.170000076293945,
          4.170000076293945,
          4.139999866485596,
          4.139999866485596,
          4.139999866485596,
          4.130000114440918,
          4.130000114440918,
          4.119999885559082,
          4.119999885559082,
          4.119999885559082,
          4.119999885559082,
          4.119999885559082,
          4.110000133514404,
          4.110000133514404,
          4.110000133514404,
          4.110000133514404,
          4.099999904632568,
          4.099999904632568,
          4.099999904632568,
          4.099999904632568,
          4.090000152587891,
          4.090000152587891,
          4.079999923706055,
          4.079999923706055,
          4.079999923706055,
          4.079999923706055,
          4.079999923706055,
          4.070000171661377,
          4.070000171661377,
          4.070000171661377,
          4.070000171661377,
          4.059999942779541,
          4.059999942779541,
          4.059999942779541,
          4.059999942779541,
          4.050000190734863,
          4.050000190734863,
          4.050000190734863,
          4.03000020980835,
          4.03000020980835,
          4.03000020980835,
          4.03000020980835,
          4.019999980926514,
          4.019999980926514,
          4.010000228881836,
          4.010000228881836,
          4.010000228881836,
          4,
          4,
          4,
          3.990000009536743,
          3.990000009536743,
          3.990000009536743,
          3.990000009536743,
          3.990000009536743,
          3.9800000190734863,
          3.9800000190734863,
          3.9800000190734863,
          3.9800000190734863,
          3.9800000190734863,
          3.9700000286102295,
          3.9700000286102295,
          3.9700000286102295,
          3.9700000286102295,
          3.950000047683716,
          3.940000057220459,
          3.940000057220459,
          3.930000066757202,
          3.930000066757202,
          3.930000066757202,
          3.9200000762939453,
          3.9200000762939453,
          3.9100000858306885,
          3.9100000858306885,
          3.9100000858306885,
          3.9000000953674316,
          3.890000104904175,
          3.880000114440918,
          3.880000114440918,
          3.869999885559082,
          3.869999885559082,
          3.869999885559082,
          3.869999885559082,
          3.859999895095825,
          3.8499999046325684,
          3.8399999141693115,
          3.8399999141693115,
          3.8299999237060547,
          3.819999933242798,
          3.819999933242798,
          3.809999942779541,
          3.809999942779541,
          3.809999942779541,
          3.799999952316284,
          3.799999952316284,
          3.7799999713897705,
          3.7799999713897705,
          3.7699999809265137,
          3.75,
          3.7300000190734863,
          3.690000057220459,
          3.680000066757202,
          3.680000066757202,
          3.6600000858306885,
          3.619999885559082,
          3.5899999141693115,
          3.559999942779541,
          3.5,
          3.5,
          3.4200000762939453,
          3.4100000858306885
         ]
        }
       ],
       "layout": {
        "legend": {
         "bgcolor": "#F2F3F7",
         "font": {
          "color": "#505050"
         }
        },
        "paper_bgcolor": "#F2F3F7",
        "plot_bgcolor": "#F2F3F7",
        "template": {
         "data": {
          "bar": [
           {
            "error_x": {
             "color": "#2a3f5f"
            },
            "error_y": {
             "color": "#2a3f5f"
            },
            "marker": {
             "line": {
              "color": "#E5ECF6",
              "width": 0.5
             }
            },
            "type": "bar"
           }
          ],
          "barpolar": [
           {
            "marker": {
             "line": {
              "color": "#E5ECF6",
              "width": 0.5
             }
            },
            "type": "barpolar"
           }
          ],
          "carpet": [
           {
            "aaxis": {
             "endlinecolor": "#2a3f5f",
             "gridcolor": "white",
             "linecolor": "white",
             "minorgridcolor": "white",
             "startlinecolor": "#2a3f5f"
            },
            "baxis": {
             "endlinecolor": "#2a3f5f",
             "gridcolor": "white",
             "linecolor": "white",
             "minorgridcolor": "white",
             "startlinecolor": "#2a3f5f"
            },
            "type": "carpet"
           }
          ],
          "choropleth": [
           {
            "colorbar": {
             "outlinewidth": 0,
             "ticks": ""
            },
            "type": "choropleth"
           }
          ],
          "contour": [
           {
            "colorbar": {
             "outlinewidth": 0,
             "ticks": ""
            },
            "colorscale": [
             [
              0,
              "#0d0887"
             ],
             [
              0.1111111111111111,
              "#46039f"
             ],
             [
              0.2222222222222222,
              "#7201a8"
             ],
             [
              0.3333333333333333,
              "#9c179e"
             ],
             [
              0.4444444444444444,
              "#bd3786"
             ],
             [
              0.5555555555555556,
              "#d8576b"
             ],
             [
              0.6666666666666666,
              "#ed7953"
             ],
             [
              0.7777777777777778,
              "#fb9f3a"
             ],
             [
              0.8888888888888888,
              "#fdca26"
             ],
             [
              1,
              "#f0f921"
             ]
            ],
            "type": "contour"
           }
          ],
          "contourcarpet": [
           {
            "colorbar": {
             "outlinewidth": 0,
             "ticks": ""
            },
            "type": "contourcarpet"
           }
          ],
          "heatmap": [
           {
            "colorbar": {
             "outlinewidth": 0,
             "ticks": ""
            },
            "colorscale": [
             [
              0,
              "#0d0887"
             ],
             [
              0.1111111111111111,
              "#46039f"
             ],
             [
              0.2222222222222222,
              "#7201a8"
             ],
             [
              0.3333333333333333,
              "#9c179e"
             ],
             [
              0.4444444444444444,
              "#bd3786"
             ],
             [
              0.5555555555555556,
              "#d8576b"
             ],
             [
              0.6666666666666666,
              "#ed7953"
             ],
             [
              0.7777777777777778,
              "#fb9f3a"
             ],
             [
              0.8888888888888888,
              "#fdca26"
             ],
             [
              1,
              "#f0f921"
             ]
            ],
            "type": "heatmap"
           }
          ],
          "heatmapgl": [
           {
            "colorbar": {
             "outlinewidth": 0,
             "ticks": ""
            },
            "colorscale": [
             [
              0,
              "#0d0887"
             ],
             [
              0.1111111111111111,
              "#46039f"
             ],
             [
              0.2222222222222222,
              "#7201a8"
             ],
             [
              0.3333333333333333,
              "#9c179e"
             ],
             [
              0.4444444444444444,
              "#bd3786"
             ],
             [
              0.5555555555555556,
              "#d8576b"
             ],
             [
              0.6666666666666666,
              "#ed7953"
             ],
             [
              0.7777777777777778,
              "#fb9f3a"
             ],
             [
              0.8888888888888888,
              "#fdca26"
             ],
             [
              1,
              "#f0f921"
             ]
            ],
            "type": "heatmapgl"
           }
          ],
          "histogram": [
           {
            "marker": {
             "colorbar": {
              "outlinewidth": 0,
              "ticks": ""
             }
            },
            "type": "histogram"
           }
          ],
          "histogram2d": [
           {
            "colorbar": {
             "outlinewidth": 0,
             "ticks": ""
            },
            "colorscale": [
             [
              0,
              "#0d0887"
             ],
             [
              0.1111111111111111,
              "#46039f"
             ],
             [
              0.2222222222222222,
              "#7201a8"
             ],
             [
              0.3333333333333333,
              "#9c179e"
             ],
             [
              0.4444444444444444,
              "#bd3786"
             ],
             [
              0.5555555555555556,
              "#d8576b"
             ],
             [
              0.6666666666666666,
              "#ed7953"
             ],
             [
              0.7777777777777778,
              "#fb9f3a"
             ],
             [
              0.8888888888888888,
              "#fdca26"
             ],
             [
              1,
              "#f0f921"
             ]
            ],
            "type": "histogram2d"
           }
          ],
          "histogram2dcontour": [
           {
            "colorbar": {
             "outlinewidth": 0,
             "ticks": ""
            },
            "colorscale": [
             [
              0,
              "#0d0887"
             ],
             [
              0.1111111111111111,
              "#46039f"
             ],
             [
              0.2222222222222222,
              "#7201a8"
             ],
             [
              0.3333333333333333,
              "#9c179e"
             ],
             [
              0.4444444444444444,
              "#bd3786"
             ],
             [
              0.5555555555555556,
              "#d8576b"
             ],
             [
              0.6666666666666666,
              "#ed7953"
             ],
             [
              0.7777777777777778,
              "#fb9f3a"
             ],
             [
              0.8888888888888888,
              "#fdca26"
             ],
             [
              1,
              "#f0f921"
             ]
            ],
            "type": "histogram2dcontour"
           }
          ],
          "mesh3d": [
           {
            "colorbar": {
             "outlinewidth": 0,
             "ticks": ""
            },
            "type": "mesh3d"
           }
          ],
          "parcoords": [
           {
            "line": {
             "colorbar": {
              "outlinewidth": 0,
              "ticks": ""
             }
            },
            "type": "parcoords"
           }
          ],
          "pie": [
           {
            "automargin": true,
            "type": "pie"
           }
          ],
          "scatter": [
           {
            "marker": {
             "colorbar": {
              "outlinewidth": 0,
              "ticks": ""
             }
            },
            "type": "scatter"
           }
          ],
          "scatter3d": [
           {
            "line": {
             "colorbar": {
              "outlinewidth": 0,
              "ticks": ""
             }
            },
            "marker": {
             "colorbar": {
              "outlinewidth": 0,
              "ticks": ""
             }
            },
            "type": "scatter3d"
           }
          ],
          "scattercarpet": [
           {
            "marker": {
             "colorbar": {
              "outlinewidth": 0,
              "ticks": ""
             }
            },
            "type": "scattercarpet"
           }
          ],
          "scattergeo": [
           {
            "marker": {
             "colorbar": {
              "outlinewidth": 0,
              "ticks": ""
             }
            },
            "type": "scattergeo"
           }
          ],
          "scattergl": [
           {
            "marker": {
             "colorbar": {
              "outlinewidth": 0,
              "ticks": ""
             }
            },
            "type": "scattergl"
           }
          ],
          "scattermapbox": [
           {
            "marker": {
             "colorbar": {
              "outlinewidth": 0,
              "ticks": ""
             }
            },
            "type": "scattermapbox"
           }
          ],
          "scatterpolar": [
           {
            "marker": {
             "colorbar": {
              "outlinewidth": 0,
              "ticks": ""
             }
            },
            "type": "scatterpolar"
           }
          ],
          "scatterpolargl": [
           {
            "marker": {
             "colorbar": {
              "outlinewidth": 0,
              "ticks": ""
             }
            },
            "type": "scatterpolargl"
           }
          ],
          "scatterternary": [
           {
            "marker": {
             "colorbar": {
              "outlinewidth": 0,
              "ticks": ""
             }
            },
            "type": "scatterternary"
           }
          ],
          "surface": [
           {
            "colorbar": {
             "outlinewidth": 0,
             "ticks": ""
            },
            "colorscale": [
             [
              0,
              "#0d0887"
             ],
             [
              0.1111111111111111,
              "#46039f"
             ],
             [
              0.2222222222222222,
              "#7201a8"
             ],
             [
              0.3333333333333333,
              "#9c179e"
             ],
             [
              0.4444444444444444,
              "#bd3786"
             ],
             [
              0.5555555555555556,
              "#d8576b"
             ],
             [
              0.6666666666666666,
              "#ed7953"
             ],
             [
              0.7777777777777778,
              "#fb9f3a"
             ],
             [
              0.8888888888888888,
              "#fdca26"
             ],
             [
              1,
              "#f0f921"
             ]
            ],
            "type": "surface"
           }
          ],
          "table": [
           {
            "cells": {
             "fill": {
              "color": "#EBF0F8"
             },
             "line": {
              "color": "white"
             }
            },
            "header": {
             "fill": {
              "color": "#C8D4E3"
             },
             "line": {
              "color": "white"
             }
            },
            "type": "table"
           }
          ]
         },
         "layout": {
          "annotationdefaults": {
           "arrowcolor": "#2a3f5f",
           "arrowhead": 0,
           "arrowwidth": 1
          },
          "coloraxis": {
           "colorbar": {
            "outlinewidth": 0,
            "ticks": ""
           }
          },
          "colorscale": {
           "diverging": [
            [
             0,
             "#8e0152"
            ],
            [
             0.1,
             "#c51b7d"
            ],
            [
             0.2,
             "#de77ae"
            ],
            [
             0.3,
             "#f1b6da"
            ],
            [
             0.4,
             "#fde0ef"
            ],
            [
             0.5,
             "#f7f7f7"
            ],
            [
             0.6,
             "#e6f5d0"
            ],
            [
             0.7,
             "#b8e186"
            ],
            [
             0.8,
             "#7fbc41"
            ],
            [
             0.9,
             "#4d9221"
            ],
            [
             1,
             "#276419"
            ]
           ],
           "sequential": [
            [
             0,
             "#0d0887"
            ],
            [
             0.1111111111111111,
             "#46039f"
            ],
            [
             0.2222222222222222,
             "#7201a8"
            ],
            [
             0.3333333333333333,
             "#9c179e"
            ],
            [
             0.4444444444444444,
             "#bd3786"
            ],
            [
             0.5555555555555556,
             "#d8576b"
            ],
            [
             0.6666666666666666,
             "#ed7953"
            ],
            [
             0.7777777777777778,
             "#fb9f3a"
            ],
            [
             0.8888888888888888,
             "#fdca26"
            ],
            [
             1,
             "#f0f921"
            ]
           ],
           "sequentialminus": [
            [
             0,
             "#0d0887"
            ],
            [
             0.1111111111111111,
             "#46039f"
            ],
            [
             0.2222222222222222,
             "#7201a8"
            ],
            [
             0.3333333333333333,
             "#9c179e"
            ],
            [
             0.4444444444444444,
             "#bd3786"
            ],
            [
             0.5555555555555556,
             "#d8576b"
            ],
            [
             0.6666666666666666,
             "#ed7953"
            ],
            [
             0.7777777777777778,
             "#fb9f3a"
            ],
            [
             0.8888888888888888,
             "#fdca26"
            ],
            [
             1,
             "#f0f921"
            ]
           ]
          },
          "colorway": [
           "#636efa",
           "#EF553B",
           "#00cc96",
           "#ab63fa",
           "#FFA15A",
           "#19d3f3",
           "#FF6692",
           "#B6E880",
           "#FF97FF",
           "#FECB52"
          ],
          "font": {
           "color": "#2a3f5f"
          },
          "geo": {
           "bgcolor": "white",
           "lakecolor": "white",
           "landcolor": "#E5ECF6",
           "showlakes": true,
           "showland": true,
           "subunitcolor": "white"
          },
          "hoverlabel": {
           "align": "left"
          },
          "hovermode": "closest",
          "mapbox": {
           "style": "light"
          },
          "paper_bgcolor": "white",
          "plot_bgcolor": "#E5ECF6",
          "polar": {
           "angularaxis": {
            "gridcolor": "white",
            "linecolor": "white",
            "ticks": ""
           },
           "bgcolor": "#E5ECF6",
           "radialaxis": {
            "gridcolor": "white",
            "linecolor": "white",
            "ticks": ""
           }
          },
          "scene": {
           "xaxis": {
            "backgroundcolor": "#E5ECF6",
            "gridcolor": "white",
            "gridwidth": 2,
            "linecolor": "white",
            "showbackground": true,
            "ticks": "",
            "zerolinecolor": "white"
           },
           "yaxis": {
            "backgroundcolor": "#E5ECF6",
            "gridcolor": "white",
            "gridwidth": 2,
            "linecolor": "white",
            "showbackground": true,
            "ticks": "",
            "zerolinecolor": "white"
           },
           "zaxis": {
            "backgroundcolor": "#E5ECF6",
            "gridcolor": "white",
            "gridwidth": 2,
            "linecolor": "white",
            "showbackground": true,
            "ticks": "",
            "zerolinecolor": "white"
           }
          },
          "shapedefaults": {
           "line": {
            "color": "#2a3f5f"
           }
          },
          "ternary": {
           "aaxis": {
            "gridcolor": "white",
            "linecolor": "white",
            "ticks": ""
           },
           "baxis": {
            "gridcolor": "white",
            "linecolor": "white",
            "ticks": ""
           },
           "bgcolor": "#E5ECF6",
           "caxis": {
            "gridcolor": "white",
            "linecolor": "white",
            "ticks": ""
           }
          },
          "title": {
           "x": 0.05
          },
          "xaxis": {
           "automargin": true,
           "gridcolor": "white",
           "linecolor": "white",
           "ticks": "",
           "title": {
            "standoff": 15
           },
           "zerolinecolor": "white",
           "zerolinewidth": 2
          },
          "yaxis": {
           "automargin": true,
           "gridcolor": "white",
           "linecolor": "white",
           "ticks": "",
           "title": {
            "standoff": 15
           },
           "zerolinecolor": "white",
           "zerolinewidth": 2
          }
         }
        },
        "title": {
         "font": {
          "color": "#484848"
         },
         "text": "Rating of books"
        },
        "xaxis": {
         "gridcolor": "#E1E5ED",
         "showgrid": true,
         "tickfont": {
          "color": "#505050"
         },
         "title": {
          "font": {
           "color": "#505050"
          },
          "text": ""
         },
         "zerolinecolor": "#E1E5ED"
        },
        "yaxis": {
         "gridcolor": "#E1E5ED",
         "showgrid": true,
         "tickfont": {
          "color": "#505050"
         },
         "title": {
          "font": {
           "color": "#505050"
          },
          "text": "Rating"
         },
         "zerolinecolor": "#E1E5ED"
        }
       }
      },
      "text/html": [
       "<div>\n",
       "        \n",
       "        \n",
       "            <div id=\"9b5e2443-d95b-44e0-9d66-b964a7d959b5\" class=\"plotly-graph-div\" style=\"height:525px; width:100%;\"></div>\n",
       "            <script type=\"text/javascript\">\n",
       "                require([\"plotly\"], function(Plotly) {\n",
       "                    window.PLOTLYENV=window.PLOTLYENV || {};\n",
       "                    window.PLOTLYENV.BASE_URL='https://plot.ly';\n",
       "                    \n",
       "                if (document.getElementById(\"9b5e2443-d95b-44e0-9d66-b964a7d959b5\")) {\n",
       "                    Plotly.newPlot(\n",
       "                        '9b5e2443-d95b-44e0-9d66-b964a7d959b5',\n",
       "                        [{\"marker\": {\"color\": \"rgba(0, 128, 240, 0.6)\", \"line\": {\"color\": \"rgba(0, 128, 240, 1.0)\", \"width\": 1}}, \"name\": \"rating\", \"orientation\": \"v\", \"text\": \"\", \"type\": \"bar\", \"x\": [\"Harry Potter and the Deathly Hallows (Harry Potter, #7)\", \"J.R.R. Tolkien 4-Book Boxed Set: The Hobbit and The Lord of the Rings\", \"Clockwork Princess (The Infernal Devices, #3)\", \"Harry Potter and the Half-Blood Prince (Harry Potter, #6)\", \"Harry Potter and the Prisoner of Azkaban (Harry Potter, #3)\", \"Harry Potter and the Goblet of Fire (Harry Potter, #4)\", \"The Name of the Wind (The Kingkiller Chronicle, #1)\", \"A Storm of Swords (A Song of Ice and Fire, #3)\", \"The Last Olympian (Percy Jackson and the Olympians, #5)\", \"Harry Potter and the Order of the Phoenix (Harry Potter, #5)\", \"Lonesome Dove\", \"The Hunger Games Trilogy Boxset (The Hunger Games, #1-3)\", \"The Help\", \"Harry Potter and the Sorcerer's Stone (Harry Potter, #1)\", \"A Game of Thrones (A Song of Ice and Fire, #1)\", \"The Compleat Works of Wllm Shkspr\", \"Harry Potter and the Chamber of Secrets (Harry Potter, #2)\", \"The Battle of the Labyrinth (Percy Jackson and the Olympians, #4)\", \"The Complete Stories and Poems\", \"The Giving Tree\", \"A Thousand Splendid Suns\", \"The Book Thief\", \"How the Grinch Stole Christmas!\", \"The Godfather\", \"Oh, the Places You'll Go!\", \"Watchmen\", \"Shadow Kiss (Vampire Academy, #3)\", \"The Ultimate Hitchhiker's Guide to the Galaxy (Hitchhiker's Guide to the Galaxy, #1-5)\", \"The Fellowship of the Ring (The Lord of the Rings, #1)\", \"The Titan's Curse (Percy Jackson and the Olympians, #3)\", \"Winnie-the-Pooh (Winnie-the-Pooh, #1)\", \"The Lorax\", \"The Little House Collection (Little House, #1-9)\", \"The Stand\", \"Blood Promise (Vampire Academy, #4)\", \"Clockwork Angel (The Infernal Devices, #1)\", \"The Hunger Games (The Hunger Games, #1)\", \"The Pillars of the Earth (Kingsbridge, #1)\", \"Matilda\", \"The Brothers Karamazov\", \"The Little Prince\", \"The Very Hungry Caterpillar\", \"Green Eggs and Ham\", \"Ender's Game (Ender's Saga, #1)\", \"Gone with the Wind\", \"The Kite Runner\", \"The Adventures of Sherlock Holmes\", \"The Master and Margarita\", \"Goodnight Moon\", \"Frostbite (Vampire Academy, #2)\", \"To Kill a Mockingbird\", \"The Shadow of the Wind (The Cemetery of Forgotten Books, #1)\", \"The Hobbit, or There and Back Again\", \"A Tree Grows in Brooklyn\", \"Pride and Prejudice\", \"The Chronicles of Narnia (Chronicles of Narnia, #1-7)\", \"And Then There Were None\", \"Anne of Green Gables (Anne of Green Gables, #1)\", \"The Princess Bride\", \"The Lightning Thief (Percy Jackson and the Olympians, #1)\", \"Good Omens: The Nice and Accurate Prophecies of Agnes Nutter, Witch\", \"The Count of Monte Cristo\", \"The Girl Who Played with Fire (Millennium, #2)\", \"The Sea of Monsters (Percy Jackson and the Olympians, #2)\", \"It\", \"The Prophet\", \"The Thorn Birds\", \"The Shining\", \"A Prayer for Owen Meany\", \"Outlander (Outlander, #1)\", \"Rebecca\", \"Dune (Dune, #1)\", \"The Hitchhiker's Guide to the Galaxy (Hitchhiker's Guide to the Galaxy, #1)\", \"The Lion, the Witch and the Wardrobe (Chronicles of Narnia, #1)\", \"Where the Wild Things Are\", \"Crime and Punishment\", \"The Fault in Our Stars\", \"The Phantom Tollbooth\", \"The Color Purple\", \"The Perks of Being a Wallflower\", \"Divergent (Divergent, #1)\", \"Fight Club\", \"One Flew Over the Cuckoo's Nest\", \"The Neverending Story\", \"The Importance of Being Earnest\", \"1984\", \"A Walk to Remember\", \"The Red Tent\", \"The Cat in the Hat\", \"Les Mis\\u00e9rables\", \"Charlotte's Web\", \"The Secret Garden\", \"Charlie and the Chocolate Factory (Charlie Bucket, #1)\", \"The Girl with the Dragon Tattoo (Millennium, #1)\", \"The Giver (The Giver, #1)\", \"Flowers for Algernon\", \"Jane Eyre\", \"Vampire Academy (Vampire Academy, #1)\", \"The Mists of Avalon (Avalon, #1)\", \"Memoirs of a Geisha\", \"The Name of the Rose\", \"The Handmaid's Tale (The Handmaid's Tale, #1)\", \"Angela's Ashes (Frank McCourt, #1)\", \"Tuesdays with Morrie\", \"American Gods (American Gods, #1)\", \"The Unbearable Lightness of Being\", \"The Outsiders\", \"The Notebook (The Notebook, #1)\", \"City of Bones (The Mortal Instruments, #1)\", \"Water for Elephants\", \"The World According to Garp\", \"My Sister's Keeper\", \"Little Women\", \"Where the Red Fern Grows\", \"One Hundred Years of Solitude\", \"The Picture of Dorian Gray\", \"In Cold Blood\", \"The Three Musketeers (The D'Artagnan Romances, #1)\", \"Slaughterhouse-Five\", \"Peter Pan\", \"Watership Down (Watership Down, #1)\", \"The Divine Comedy\", \"The Poisonwood Bible\", \"Alice's Adventures in Wonderland & Through the Looking-Glass\", \"The Clan of the Cave Bear\", \"Anna Karenina\", \"The Secret Life of Bees\", \"Looking for Alaska\", \"Insurgent (Divergent, #2)\", \"Alice in Wonderland\", \"Siddhartha\", \"The Maze Runner (The Maze Runner, #1)\", \"Perfume: The Story of a Murderer\", \"Middlesex\", \"Bridge to Terabithia\", \"The Bell Jar\", \"Dracula\", \"A Wrinkle in Time (Time Quintet, #1)\", \"Interview with the Vampire (The Vampire Chronicles, #1)\", \"A Clockwork Orange\", \"Fahrenheit 451\", \"The Wonderful Wizard of Oz (Oz, #1)\", \"Brave New World\", \"David Copperfield\", \"All Quiet on the Western Front\", \"The Golden Compass (His Dark Materials, #1)\", \"The Stranger\", \"Catch-22 (Catch-22, #1)\", \"The Good Earth (House of Earth, #1)\", \"Holes (Holes, #1)\", \"Hush, Hush (Hush, Hush, #1)\", \"The Road\", \"The Time Traveler's Wife\", \"A Midsummer Night's Dream\", \"The Five People You Meet in Heaven\", \"Animal Farm\", \"Their Eyes Were Watching God\", \"The Joy Luck Club\", \"Thirteen Reasons Why\", \"Love in the Time of Cholera\", \"The Great Gatsby\", \"Life of Pi\", \"The Adventures of Tom Sawyer\", \"Atonement\", \"Eragon (The Inheritance Cycle, #1)\", \"Lolita\", \"Don Quixote\", \"The Curious Incident of the Dog in the Night-Time\", \"Oliver Twist\", \"The Alchemist\", \"Of Mice and Men\", \"The Call of the Wild\", \"Wuthering Heights\", \"The Da Vinci Code (Robert Langdon, #2)\", \"Jonathan Livingston Seagull\", \"A Tale of Two Cities\", \"Treasure Island\", \"The Metamorphosis\", \"The Adventures of Huckleberry Finn\", \"A Farewell to Arms\", \"The Lovely Bones\", \"The Catcher in the Rye\", \"Tess of the D'Urbervilles\", \"Frankenstein: The 1818 Text\", \"Great Expectations\", \"The Old Man and the Sea\", \"The Odyssey\", \"Romeo and Juliet\", \"Ulysses\", \"Atlas Shrugged\", \"Madame Bovary\", \"Lord of the Flies\", \"Fifty Shades of Grey (Fifty Shades, #1)\", \"On the Road\", \"Twilight (Twilight, #1)\", \"Eat, Pray, Love\", \"The Canterbury Tales\", \"Moby-Dick or, the Whale\", \"Heart of Darkness\", \"The Scarlet Letter\"], \"y\": [4.619999885559082, 4.599999904632568, 4.579999923706055, 4.570000171661377, 4.570000171661377, 4.559999942779541, 4.539999961853027, 4.539999961853027, 4.510000228881836, 4.5, 4.489999771118164, 4.480000019073486, 4.46999979019165, 4.46999979019165, 4.449999809265137, 4.440000057220459, 4.429999828338623, 4.400000095367432, 4.380000114440918, 4.380000114440918, 4.369999885559082, 4.369999885559082, 4.369999885559082, 4.369999885559082, 4.360000133514404, 4.360000133514404, 4.360000133514404, 4.360000133514404, 4.360000133514404, 4.349999904632568, 4.349999904632568, 4.349999904632568, 4.340000152587891, 4.340000152587891, 4.340000152587891, 4.329999923706055, 4.329999923706055, 4.320000171661377, 4.320000171661377, 4.320000171661377, 4.309999942779541, 4.300000190734863, 4.300000190734863, 4.300000190734863, 4.300000190734863, 4.300000190734863, 4.300000190734863, 4.289999961853027, 4.28000020980835, 4.28000020980835, 4.28000020980835, 4.269999980926514, 4.269999980926514, 4.269999980926514, 4.260000228881836, 4.260000228881836, 4.260000228881836, 4.260000228881836, 4.260000228881836, 4.25, 4.25, 4.25, 4.239999771118164, 4.239999771118164, 4.239999771118164, 4.230000019073486, 4.230000019073486, 4.230000019073486, 4.230000019073486, 4.230000019073486, 4.230000019073486, 4.230000019073486, 4.21999979019165, 4.21999979019165, 4.21999979019165, 4.21999979019165, 4.210000038146973, 4.210000038146973, 4.210000038146973, 4.199999809265137, 4.199999809265137, 4.190000057220459, 4.190000057220459, 4.179999828338623, 4.179999828338623, 4.179999828338623, 4.179999828338623, 4.179999828338623, 4.170000076293945, 4.170000076293945, 4.170000076293945, 4.139999866485596, 4.139999866485596, 4.139999866485596, 4.130000114440918, 4.130000114440918, 4.119999885559082, 4.119999885559082, 4.119999885559082, 4.119999885559082, 4.119999885559082, 4.110000133514404, 4.110000133514404, 4.110000133514404, 4.110000133514404, 4.099999904632568, 4.099999904632568, 4.099999904632568, 4.099999904632568, 4.090000152587891, 4.090000152587891, 4.079999923706055, 4.079999923706055, 4.079999923706055, 4.079999923706055, 4.079999923706055, 4.070000171661377, 4.070000171661377, 4.070000171661377, 4.070000171661377, 4.059999942779541, 4.059999942779541, 4.059999942779541, 4.059999942779541, 4.050000190734863, 4.050000190734863, 4.050000190734863, 4.03000020980835, 4.03000020980835, 4.03000020980835, 4.03000020980835, 4.019999980926514, 4.019999980926514, 4.010000228881836, 4.010000228881836, 4.010000228881836, 4.0, 4.0, 4.0, 3.990000009536743, 3.990000009536743, 3.990000009536743, 3.990000009536743, 3.990000009536743, 3.9800000190734863, 3.9800000190734863, 3.9800000190734863, 3.9800000190734863, 3.9800000190734863, 3.9700000286102295, 3.9700000286102295, 3.9700000286102295, 3.9700000286102295, 3.950000047683716, 3.940000057220459, 3.940000057220459, 3.930000066757202, 3.930000066757202, 3.930000066757202, 3.9200000762939453, 3.9200000762939453, 3.9100000858306885, 3.9100000858306885, 3.9100000858306885, 3.9000000953674316, 3.890000104904175, 3.880000114440918, 3.880000114440918, 3.869999885559082, 3.869999885559082, 3.869999885559082, 3.869999885559082, 3.859999895095825, 3.8499999046325684, 3.8399999141693115, 3.8399999141693115, 3.8299999237060547, 3.819999933242798, 3.819999933242798, 3.809999942779541, 3.809999942779541, 3.809999942779541, 3.799999952316284, 3.799999952316284, 3.7799999713897705, 3.7799999713897705, 3.7699999809265137, 3.75, 3.7300000190734863, 3.690000057220459, 3.680000066757202, 3.680000066757202, 3.6600000858306885, 3.619999885559082, 3.5899999141693115, 3.559999942779541, 3.5, 3.5, 3.4200000762939453, 3.4100000858306885]}],\n",
       "                        {\"legend\": {\"bgcolor\": \"#F2F3F7\", \"font\": {\"color\": \"#505050\"}}, \"paper_bgcolor\": \"#F2F3F7\", \"plot_bgcolor\": \"#F2F3F7\", \"template\": {\"data\": {\"bar\": [{\"error_x\": {\"color\": \"#2a3f5f\"}, \"error_y\": {\"color\": \"#2a3f5f\"}, \"marker\": {\"line\": {\"color\": \"#E5ECF6\", \"width\": 0.5}}, \"type\": \"bar\"}], \"barpolar\": [{\"marker\": {\"line\": {\"color\": \"#E5ECF6\", \"width\": 0.5}}, \"type\": \"barpolar\"}], \"carpet\": [{\"aaxis\": {\"endlinecolor\": \"#2a3f5f\", \"gridcolor\": \"white\", \"linecolor\": \"white\", \"minorgridcolor\": \"white\", \"startlinecolor\": \"#2a3f5f\"}, \"baxis\": {\"endlinecolor\": \"#2a3f5f\", \"gridcolor\": \"white\", \"linecolor\": \"white\", \"minorgridcolor\": \"white\", \"startlinecolor\": \"#2a3f5f\"}, \"type\": \"carpet\"}], \"choropleth\": [{\"colorbar\": {\"outlinewidth\": 0, \"ticks\": \"\"}, \"type\": \"choropleth\"}], \"contour\": [{\"colorbar\": {\"outlinewidth\": 0, \"ticks\": \"\"}, \"colorscale\": [[0.0, \"#0d0887\"], [0.1111111111111111, \"#46039f\"], [0.2222222222222222, \"#7201a8\"], [0.3333333333333333, \"#9c179e\"], [0.4444444444444444, \"#bd3786\"], [0.5555555555555556, \"#d8576b\"], [0.6666666666666666, \"#ed7953\"], [0.7777777777777778, \"#fb9f3a\"], [0.8888888888888888, \"#fdca26\"], [1.0, \"#f0f921\"]], \"type\": \"contour\"}], \"contourcarpet\": [{\"colorbar\": {\"outlinewidth\": 0, \"ticks\": \"\"}, \"type\": \"contourcarpet\"}], \"heatmap\": [{\"colorbar\": {\"outlinewidth\": 0, \"ticks\": \"\"}, \"colorscale\": [[0.0, \"#0d0887\"], [0.1111111111111111, \"#46039f\"], [0.2222222222222222, \"#7201a8\"], [0.3333333333333333, \"#9c179e\"], [0.4444444444444444, \"#bd3786\"], [0.5555555555555556, \"#d8576b\"], [0.6666666666666666, \"#ed7953\"], [0.7777777777777778, \"#fb9f3a\"], [0.8888888888888888, \"#fdca26\"], [1.0, \"#f0f921\"]], \"type\": \"heatmap\"}], \"heatmapgl\": [{\"colorbar\": {\"outlinewidth\": 0, \"ticks\": \"\"}, \"colorscale\": [[0.0, \"#0d0887\"], [0.1111111111111111, \"#46039f\"], [0.2222222222222222, \"#7201a8\"], [0.3333333333333333, \"#9c179e\"], [0.4444444444444444, \"#bd3786\"], [0.5555555555555556, \"#d8576b\"], [0.6666666666666666, \"#ed7953\"], [0.7777777777777778, \"#fb9f3a\"], [0.8888888888888888, \"#fdca26\"], [1.0, \"#f0f921\"]], \"type\": \"heatmapgl\"}], \"histogram\": [{\"marker\": {\"colorbar\": {\"outlinewidth\": 0, \"ticks\": \"\"}}, \"type\": \"histogram\"}], \"histogram2d\": [{\"colorbar\": {\"outlinewidth\": 0, \"ticks\": \"\"}, \"colorscale\": [[0.0, \"#0d0887\"], [0.1111111111111111, \"#46039f\"], [0.2222222222222222, \"#7201a8\"], [0.3333333333333333, \"#9c179e\"], [0.4444444444444444, \"#bd3786\"], [0.5555555555555556, \"#d8576b\"], [0.6666666666666666, \"#ed7953\"], [0.7777777777777778, \"#fb9f3a\"], [0.8888888888888888, \"#fdca26\"], [1.0, \"#f0f921\"]], \"type\": \"histogram2d\"}], \"histogram2dcontour\": [{\"colorbar\": {\"outlinewidth\": 0, \"ticks\": \"\"}, \"colorscale\": [[0.0, \"#0d0887\"], [0.1111111111111111, \"#46039f\"], [0.2222222222222222, \"#7201a8\"], [0.3333333333333333, \"#9c179e\"], [0.4444444444444444, \"#bd3786\"], [0.5555555555555556, \"#d8576b\"], [0.6666666666666666, \"#ed7953\"], [0.7777777777777778, \"#fb9f3a\"], [0.8888888888888888, \"#fdca26\"], [1.0, \"#f0f921\"]], \"type\": \"histogram2dcontour\"}], \"mesh3d\": [{\"colorbar\": {\"outlinewidth\": 0, \"ticks\": \"\"}, \"type\": \"mesh3d\"}], \"parcoords\": [{\"line\": {\"colorbar\": {\"outlinewidth\": 0, \"ticks\": \"\"}}, \"type\": \"parcoords\"}], \"pie\": [{\"automargin\": true, \"type\": \"pie\"}], \"scatter\": [{\"marker\": {\"colorbar\": {\"outlinewidth\": 0, \"ticks\": \"\"}}, \"type\": \"scatter\"}], \"scatter3d\": [{\"line\": {\"colorbar\": {\"outlinewidth\": 0, \"ticks\": \"\"}}, \"marker\": {\"colorbar\": {\"outlinewidth\": 0, \"ticks\": \"\"}}, \"type\": \"scatter3d\"}], \"scattercarpet\": [{\"marker\": {\"colorbar\": {\"outlinewidth\": 0, \"ticks\": \"\"}}, \"type\": \"scattercarpet\"}], \"scattergeo\": [{\"marker\": {\"colorbar\": {\"outlinewidth\": 0, \"ticks\": \"\"}}, \"type\": \"scattergeo\"}], \"scattergl\": [{\"marker\": {\"colorbar\": {\"outlinewidth\": 0, \"ticks\": \"\"}}, \"type\": \"scattergl\"}], \"scattermapbox\": [{\"marker\": {\"colorbar\": {\"outlinewidth\": 0, \"ticks\": \"\"}}, \"type\": \"scattermapbox\"}], \"scatterpolar\": [{\"marker\": {\"colorbar\": {\"outlinewidth\": 0, \"ticks\": \"\"}}, \"type\": \"scatterpolar\"}], \"scatterpolargl\": [{\"marker\": {\"colorbar\": {\"outlinewidth\": 0, \"ticks\": \"\"}}, \"type\": \"scatterpolargl\"}], \"scatterternary\": [{\"marker\": {\"colorbar\": {\"outlinewidth\": 0, \"ticks\": \"\"}}, \"type\": \"scatterternary\"}], \"surface\": [{\"colorbar\": {\"outlinewidth\": 0, \"ticks\": \"\"}, \"colorscale\": [[0.0, \"#0d0887\"], [0.1111111111111111, \"#46039f\"], [0.2222222222222222, \"#7201a8\"], [0.3333333333333333, \"#9c179e\"], [0.4444444444444444, \"#bd3786\"], [0.5555555555555556, \"#d8576b\"], [0.6666666666666666, \"#ed7953\"], [0.7777777777777778, \"#fb9f3a\"], [0.8888888888888888, \"#fdca26\"], [1.0, \"#f0f921\"]], \"type\": \"surface\"}], \"table\": [{\"cells\": {\"fill\": {\"color\": \"#EBF0F8\"}, \"line\": {\"color\": \"white\"}}, \"header\": {\"fill\": {\"color\": \"#C8D4E3\"}, \"line\": {\"color\": \"white\"}}, \"type\": \"table\"}]}, \"layout\": {\"annotationdefaults\": {\"arrowcolor\": \"#2a3f5f\", \"arrowhead\": 0, \"arrowwidth\": 1}, \"coloraxis\": {\"colorbar\": {\"outlinewidth\": 0, \"ticks\": \"\"}}, \"colorscale\": {\"diverging\": [[0, \"#8e0152\"], [0.1, \"#c51b7d\"], [0.2, \"#de77ae\"], [0.3, \"#f1b6da\"], [0.4, \"#fde0ef\"], [0.5, \"#f7f7f7\"], [0.6, \"#e6f5d0\"], [0.7, \"#b8e186\"], [0.8, \"#7fbc41\"], [0.9, \"#4d9221\"], [1, \"#276419\"]], \"sequential\": [[0.0, \"#0d0887\"], [0.1111111111111111, \"#46039f\"], [0.2222222222222222, \"#7201a8\"], [0.3333333333333333, \"#9c179e\"], [0.4444444444444444, \"#bd3786\"], [0.5555555555555556, \"#d8576b\"], [0.6666666666666666, \"#ed7953\"], [0.7777777777777778, \"#fb9f3a\"], [0.8888888888888888, \"#fdca26\"], [1.0, \"#f0f921\"]], \"sequentialminus\": [[0.0, \"#0d0887\"], [0.1111111111111111, \"#46039f\"], [0.2222222222222222, \"#7201a8\"], [0.3333333333333333, \"#9c179e\"], [0.4444444444444444, \"#bd3786\"], [0.5555555555555556, \"#d8576b\"], [0.6666666666666666, \"#ed7953\"], [0.7777777777777778, \"#fb9f3a\"], [0.8888888888888888, \"#fdca26\"], [1.0, \"#f0f921\"]]}, \"colorway\": [\"#636efa\", \"#EF553B\", \"#00cc96\", \"#ab63fa\", \"#FFA15A\", \"#19d3f3\", \"#FF6692\", \"#B6E880\", \"#FF97FF\", \"#FECB52\"], \"font\": {\"color\": \"#2a3f5f\"}, \"geo\": {\"bgcolor\": \"white\", \"lakecolor\": \"white\", \"landcolor\": \"#E5ECF6\", \"showlakes\": true, \"showland\": true, \"subunitcolor\": \"white\"}, \"hoverlabel\": {\"align\": \"left\"}, \"hovermode\": \"closest\", \"mapbox\": {\"style\": \"light\"}, \"paper_bgcolor\": \"white\", \"plot_bgcolor\": \"#E5ECF6\", \"polar\": {\"angularaxis\": {\"gridcolor\": \"white\", \"linecolor\": \"white\", \"ticks\": \"\"}, \"bgcolor\": \"#E5ECF6\", \"radialaxis\": {\"gridcolor\": \"white\", \"linecolor\": \"white\", \"ticks\": \"\"}}, \"scene\": {\"xaxis\": {\"backgroundcolor\": \"#E5ECF6\", \"gridcolor\": \"white\", \"gridwidth\": 2, \"linecolor\": \"white\", \"showbackground\": true, \"ticks\": \"\", \"zerolinecolor\": \"white\"}, \"yaxis\": {\"backgroundcolor\": \"#E5ECF6\", \"gridcolor\": \"white\", \"gridwidth\": 2, \"linecolor\": \"white\", \"showbackground\": true, \"ticks\": \"\", \"zerolinecolor\": \"white\"}, \"zaxis\": {\"backgroundcolor\": \"#E5ECF6\", \"gridcolor\": \"white\", \"gridwidth\": 2, \"linecolor\": \"white\", \"showbackground\": true, \"ticks\": \"\", \"zerolinecolor\": \"white\"}}, \"shapedefaults\": {\"line\": {\"color\": \"#2a3f5f\"}}, \"ternary\": {\"aaxis\": {\"gridcolor\": \"white\", \"linecolor\": \"white\", \"ticks\": \"\"}, \"baxis\": {\"gridcolor\": \"white\", \"linecolor\": \"white\", \"ticks\": \"\"}, \"bgcolor\": \"#E5ECF6\", \"caxis\": {\"gridcolor\": \"white\", \"linecolor\": \"white\", \"ticks\": \"\"}}, \"title\": {\"x\": 0.05}, \"xaxis\": {\"automargin\": true, \"gridcolor\": \"white\", \"linecolor\": \"white\", \"ticks\": \"\", \"title\": {\"standoff\": 15}, \"zerolinecolor\": \"white\", \"zerolinewidth\": 2}, \"yaxis\": {\"automargin\": true, \"gridcolor\": \"white\", \"linecolor\": \"white\", \"ticks\": \"\", \"title\": {\"standoff\": 15}, \"zerolinecolor\": \"white\", \"zerolinewidth\": 2}}}, \"title\": {\"font\": {\"color\": \"#484848\"}, \"text\": \"Rating of books\"}, \"xaxis\": {\"gridcolor\": \"#E1E5ED\", \"showgrid\": true, \"tickfont\": {\"color\": \"#505050\"}, \"title\": {\"font\": {\"color\": \"#505050\"}, \"text\": \"\"}, \"zerolinecolor\": \"#E1E5ED\"}, \"yaxis\": {\"gridcolor\": \"#E1E5ED\", \"showgrid\": true, \"tickfont\": {\"color\": \"#505050\"}, \"title\": {\"font\": {\"color\": \"#505050\"}, \"text\": \"Rating\"}, \"zerolinecolor\": \"#E1E5ED\"}},\n",
       "                        {\"showLink\": true, \"linkText\": \"Export to plot.ly\", \"plotlyServerURL\": \"https://plot.ly\", \"responsive\": true}\n",
       "                    ).then(function(){\n",
       "                            \n",
       "var gd = document.getElementById('9b5e2443-d95b-44e0-9d66-b964a7d959b5');\n",
       "var x = new MutationObserver(function (mutations, observer) {{\n",
       "        var display = window.getComputedStyle(gd).display;\n",
       "        if (!display || display === 'none') {{\n",
       "            console.log([gd, 'removed!']);\n",
       "            Plotly.purge(gd);\n",
       "            observer.disconnect();\n",
       "        }}\n",
       "}});\n",
       "\n",
       "// Listen for the removal of the full notebook cells\n",
       "var notebookContainer = gd.closest('#notebook-container');\n",
       "if (notebookContainer) {{\n",
       "    x.observe(notebookContainer, {childList: true});\n",
       "}}\n",
       "\n",
       "// Listen for the clearing of the current output cell\n",
       "var outputEl = gd.closest('.output');\n",
       "if (outputEl) {{\n",
       "    x.observe(outputEl, {childList: true});\n",
       "}}\n",
       "\n",
       "                        })\n",
       "                };\n",
       "                });\n",
       "            </script>\n",
       "        </div>"
      ]
     },
     "metadata": {},
     "output_type": "display_data"
    }
   ],
   "source": [
    "df_gr_top=df.sort_values('rating',ascending=False)\n",
    "\n",
    "df_gr_top.iplot(kind = 'bar',\n",
    "                x='name',\n",
    "                y='rating',\n",
    "                #xTitle='Book name',\n",
    "                yTitle='Rating',\n",
    "                title='Rating of books')"
   ]
  },
  {
   "cell_type": "markdown",
   "metadata": {},
   "source": [
    "## Number of books published per year"
   ]
  },
  {
   "cell_type": "code",
   "execution_count": 18,
   "metadata": {
    "ExecuteTime": {
     "end_time": "2020-07-13T20:10:25.852152Z",
     "start_time": "2020-07-13T20:10:25.649256Z"
    }
   },
   "outputs": [
    {
     "data": {
      "application/vnd.plotly.v1+json": {
       "config": {
        "linkText": "Export to plot.ly",
        "plotlyServerURL": "https://plot.ly",
        "showLink": true
       },
       "data": [
        {
         "marker": {
          "color": "rgba(0, 0, 128, 0.6)",
          "line": {
           "color": "rgba(0, 0, 128, 1.0)",
           "width": 1
          }
         },
         "name": "id",
         "orientation": "v",
         "text": "",
         "type": "bar",
         "x": [
          1963,
          1964,
          1966,
          1972,
          1975,
          1976,
          1980,
          1981,
          1984,
          1985,
          1986,
          1987,
          1988,
          1989,
          1990,
          1994,
          1995,
          1996,
          1997,
          1998,
          1999,
          2000,
          2001,
          2002,
          2003,
          2004,
          2005,
          2006,
          2007,
          2008,
          2009,
          2010,
          2011,
          2012,
          2013,
          2014,
          2016,
          2017,
          2018,
          2019
         ],
         "y": [
          1,
          1,
          1,
          1,
          1,
          1,
          1,
          1,
          1,
          1,
          1,
          4,
          1,
          1,
          4,
          4,
          3,
          5,
          2,
          7,
          8,
          9,
          7,
          12,
          23,
          17,
          13,
          20,
          10,
          5,
          9,
          3,
          3,
          5,
          4,
          1,
          3,
          1,
          2,
          3
         ]
        }
       ],
       "layout": {
        "legend": {
         "bgcolor": "#F2F3F7",
         "font": {
          "color": "#505050"
         }
        },
        "paper_bgcolor": "#F2F3F7",
        "plot_bgcolor": "#F2F3F7",
        "template": {
         "data": {
          "bar": [
           {
            "error_x": {
             "color": "#2a3f5f"
            },
            "error_y": {
             "color": "#2a3f5f"
            },
            "marker": {
             "line": {
              "color": "#E5ECF6",
              "width": 0.5
             }
            },
            "type": "bar"
           }
          ],
          "barpolar": [
           {
            "marker": {
             "line": {
              "color": "#E5ECF6",
              "width": 0.5
             }
            },
            "type": "barpolar"
           }
          ],
          "carpet": [
           {
            "aaxis": {
             "endlinecolor": "#2a3f5f",
             "gridcolor": "white",
             "linecolor": "white",
             "minorgridcolor": "white",
             "startlinecolor": "#2a3f5f"
            },
            "baxis": {
             "endlinecolor": "#2a3f5f",
             "gridcolor": "white",
             "linecolor": "white",
             "minorgridcolor": "white",
             "startlinecolor": "#2a3f5f"
            },
            "type": "carpet"
           }
          ],
          "choropleth": [
           {
            "colorbar": {
             "outlinewidth": 0,
             "ticks": ""
            },
            "type": "choropleth"
           }
          ],
          "contour": [
           {
            "colorbar": {
             "outlinewidth": 0,
             "ticks": ""
            },
            "colorscale": [
             [
              0,
              "#0d0887"
             ],
             [
              0.1111111111111111,
              "#46039f"
             ],
             [
              0.2222222222222222,
              "#7201a8"
             ],
             [
              0.3333333333333333,
              "#9c179e"
             ],
             [
              0.4444444444444444,
              "#bd3786"
             ],
             [
              0.5555555555555556,
              "#d8576b"
             ],
             [
              0.6666666666666666,
              "#ed7953"
             ],
             [
              0.7777777777777778,
              "#fb9f3a"
             ],
             [
              0.8888888888888888,
              "#fdca26"
             ],
             [
              1,
              "#f0f921"
             ]
            ],
            "type": "contour"
           }
          ],
          "contourcarpet": [
           {
            "colorbar": {
             "outlinewidth": 0,
             "ticks": ""
            },
            "type": "contourcarpet"
           }
          ],
          "heatmap": [
           {
            "colorbar": {
             "outlinewidth": 0,
             "ticks": ""
            },
            "colorscale": [
             [
              0,
              "#0d0887"
             ],
             [
              0.1111111111111111,
              "#46039f"
             ],
             [
              0.2222222222222222,
              "#7201a8"
             ],
             [
              0.3333333333333333,
              "#9c179e"
             ],
             [
              0.4444444444444444,
              "#bd3786"
             ],
             [
              0.5555555555555556,
              "#d8576b"
             ],
             [
              0.6666666666666666,
              "#ed7953"
             ],
             [
              0.7777777777777778,
              "#fb9f3a"
             ],
             [
              0.8888888888888888,
              "#fdca26"
             ],
             [
              1,
              "#f0f921"
             ]
            ],
            "type": "heatmap"
           }
          ],
          "heatmapgl": [
           {
            "colorbar": {
             "outlinewidth": 0,
             "ticks": ""
            },
            "colorscale": [
             [
              0,
              "#0d0887"
             ],
             [
              0.1111111111111111,
              "#46039f"
             ],
             [
              0.2222222222222222,
              "#7201a8"
             ],
             [
              0.3333333333333333,
              "#9c179e"
             ],
             [
              0.4444444444444444,
              "#bd3786"
             ],
             [
              0.5555555555555556,
              "#d8576b"
             ],
             [
              0.6666666666666666,
              "#ed7953"
             ],
             [
              0.7777777777777778,
              "#fb9f3a"
             ],
             [
              0.8888888888888888,
              "#fdca26"
             ],
             [
              1,
              "#f0f921"
             ]
            ],
            "type": "heatmapgl"
           }
          ],
          "histogram": [
           {
            "marker": {
             "colorbar": {
              "outlinewidth": 0,
              "ticks": ""
             }
            },
            "type": "histogram"
           }
          ],
          "histogram2d": [
           {
            "colorbar": {
             "outlinewidth": 0,
             "ticks": ""
            },
            "colorscale": [
             [
              0,
              "#0d0887"
             ],
             [
              0.1111111111111111,
              "#46039f"
             ],
             [
              0.2222222222222222,
              "#7201a8"
             ],
             [
              0.3333333333333333,
              "#9c179e"
             ],
             [
              0.4444444444444444,
              "#bd3786"
             ],
             [
              0.5555555555555556,
              "#d8576b"
             ],
             [
              0.6666666666666666,
              "#ed7953"
             ],
             [
              0.7777777777777778,
              "#fb9f3a"
             ],
             [
              0.8888888888888888,
              "#fdca26"
             ],
             [
              1,
              "#f0f921"
             ]
            ],
            "type": "histogram2d"
           }
          ],
          "histogram2dcontour": [
           {
            "colorbar": {
             "outlinewidth": 0,
             "ticks": ""
            },
            "colorscale": [
             [
              0,
              "#0d0887"
             ],
             [
              0.1111111111111111,
              "#46039f"
             ],
             [
              0.2222222222222222,
              "#7201a8"
             ],
             [
              0.3333333333333333,
              "#9c179e"
             ],
             [
              0.4444444444444444,
              "#bd3786"
             ],
             [
              0.5555555555555556,
              "#d8576b"
             ],
             [
              0.6666666666666666,
              "#ed7953"
             ],
             [
              0.7777777777777778,
              "#fb9f3a"
             ],
             [
              0.8888888888888888,
              "#fdca26"
             ],
             [
              1,
              "#f0f921"
             ]
            ],
            "type": "histogram2dcontour"
           }
          ],
          "mesh3d": [
           {
            "colorbar": {
             "outlinewidth": 0,
             "ticks": ""
            },
            "type": "mesh3d"
           }
          ],
          "parcoords": [
           {
            "line": {
             "colorbar": {
              "outlinewidth": 0,
              "ticks": ""
             }
            },
            "type": "parcoords"
           }
          ],
          "pie": [
           {
            "automargin": true,
            "type": "pie"
           }
          ],
          "scatter": [
           {
            "marker": {
             "colorbar": {
              "outlinewidth": 0,
              "ticks": ""
             }
            },
            "type": "scatter"
           }
          ],
          "scatter3d": [
           {
            "line": {
             "colorbar": {
              "outlinewidth": 0,
              "ticks": ""
             }
            },
            "marker": {
             "colorbar": {
              "outlinewidth": 0,
              "ticks": ""
             }
            },
            "type": "scatter3d"
           }
          ],
          "scattercarpet": [
           {
            "marker": {
             "colorbar": {
              "outlinewidth": 0,
              "ticks": ""
             }
            },
            "type": "scattercarpet"
           }
          ],
          "scattergeo": [
           {
            "marker": {
             "colorbar": {
              "outlinewidth": 0,
              "ticks": ""
             }
            },
            "type": "scattergeo"
           }
          ],
          "scattergl": [
           {
            "marker": {
             "colorbar": {
              "outlinewidth": 0,
              "ticks": ""
             }
            },
            "type": "scattergl"
           }
          ],
          "scattermapbox": [
           {
            "marker": {
             "colorbar": {
              "outlinewidth": 0,
              "ticks": ""
             }
            },
            "type": "scattermapbox"
           }
          ],
          "scatterpolar": [
           {
            "marker": {
             "colorbar": {
              "outlinewidth": 0,
              "ticks": ""
             }
            },
            "type": "scatterpolar"
           }
          ],
          "scatterpolargl": [
           {
            "marker": {
             "colorbar": {
              "outlinewidth": 0,
              "ticks": ""
             }
            },
            "type": "scatterpolargl"
           }
          ],
          "scatterternary": [
           {
            "marker": {
             "colorbar": {
              "outlinewidth": 0,
              "ticks": ""
             }
            },
            "type": "scatterternary"
           }
          ],
          "surface": [
           {
            "colorbar": {
             "outlinewidth": 0,
             "ticks": ""
            },
            "colorscale": [
             [
              0,
              "#0d0887"
             ],
             [
              0.1111111111111111,
              "#46039f"
             ],
             [
              0.2222222222222222,
              "#7201a8"
             ],
             [
              0.3333333333333333,
              "#9c179e"
             ],
             [
              0.4444444444444444,
              "#bd3786"
             ],
             [
              0.5555555555555556,
              "#d8576b"
             ],
             [
              0.6666666666666666,
              "#ed7953"
             ],
             [
              0.7777777777777778,
              "#fb9f3a"
             ],
             [
              0.8888888888888888,
              "#fdca26"
             ],
             [
              1,
              "#f0f921"
             ]
            ],
            "type": "surface"
           }
          ],
          "table": [
           {
            "cells": {
             "fill": {
              "color": "#EBF0F8"
             },
             "line": {
              "color": "white"
             }
            },
            "header": {
             "fill": {
              "color": "#C8D4E3"
             },
             "line": {
              "color": "white"
             }
            },
            "type": "table"
           }
          ]
         },
         "layout": {
          "annotationdefaults": {
           "arrowcolor": "#2a3f5f",
           "arrowhead": 0,
           "arrowwidth": 1
          },
          "coloraxis": {
           "colorbar": {
            "outlinewidth": 0,
            "ticks": ""
           }
          },
          "colorscale": {
           "diverging": [
            [
             0,
             "#8e0152"
            ],
            [
             0.1,
             "#c51b7d"
            ],
            [
             0.2,
             "#de77ae"
            ],
            [
             0.3,
             "#f1b6da"
            ],
            [
             0.4,
             "#fde0ef"
            ],
            [
             0.5,
             "#f7f7f7"
            ],
            [
             0.6,
             "#e6f5d0"
            ],
            [
             0.7,
             "#b8e186"
            ],
            [
             0.8,
             "#7fbc41"
            ],
            [
             0.9,
             "#4d9221"
            ],
            [
             1,
             "#276419"
            ]
           ],
           "sequential": [
            [
             0,
             "#0d0887"
            ],
            [
             0.1111111111111111,
             "#46039f"
            ],
            [
             0.2222222222222222,
             "#7201a8"
            ],
            [
             0.3333333333333333,
             "#9c179e"
            ],
            [
             0.4444444444444444,
             "#bd3786"
            ],
            [
             0.5555555555555556,
             "#d8576b"
            ],
            [
             0.6666666666666666,
             "#ed7953"
            ],
            [
             0.7777777777777778,
             "#fb9f3a"
            ],
            [
             0.8888888888888888,
             "#fdca26"
            ],
            [
             1,
             "#f0f921"
            ]
           ],
           "sequentialminus": [
            [
             0,
             "#0d0887"
            ],
            [
             0.1111111111111111,
             "#46039f"
            ],
            [
             0.2222222222222222,
             "#7201a8"
            ],
            [
             0.3333333333333333,
             "#9c179e"
            ],
            [
             0.4444444444444444,
             "#bd3786"
            ],
            [
             0.5555555555555556,
             "#d8576b"
            ],
            [
             0.6666666666666666,
             "#ed7953"
            ],
            [
             0.7777777777777778,
             "#fb9f3a"
            ],
            [
             0.8888888888888888,
             "#fdca26"
            ],
            [
             1,
             "#f0f921"
            ]
           ]
          },
          "colorway": [
           "#636efa",
           "#EF553B",
           "#00cc96",
           "#ab63fa",
           "#FFA15A",
           "#19d3f3",
           "#FF6692",
           "#B6E880",
           "#FF97FF",
           "#FECB52"
          ],
          "font": {
           "color": "#2a3f5f"
          },
          "geo": {
           "bgcolor": "white",
           "lakecolor": "white",
           "landcolor": "#E5ECF6",
           "showlakes": true,
           "showland": true,
           "subunitcolor": "white"
          },
          "hoverlabel": {
           "align": "left"
          },
          "hovermode": "closest",
          "mapbox": {
           "style": "light"
          },
          "paper_bgcolor": "white",
          "plot_bgcolor": "#E5ECF6",
          "polar": {
           "angularaxis": {
            "gridcolor": "white",
            "linecolor": "white",
            "ticks": ""
           },
           "bgcolor": "#E5ECF6",
           "radialaxis": {
            "gridcolor": "white",
            "linecolor": "white",
            "ticks": ""
           }
          },
          "scene": {
           "xaxis": {
            "backgroundcolor": "#E5ECF6",
            "gridcolor": "white",
            "gridwidth": 2,
            "linecolor": "white",
            "showbackground": true,
            "ticks": "",
            "zerolinecolor": "white"
           },
           "yaxis": {
            "backgroundcolor": "#E5ECF6",
            "gridcolor": "white",
            "gridwidth": 2,
            "linecolor": "white",
            "showbackground": true,
            "ticks": "",
            "zerolinecolor": "white"
           },
           "zaxis": {
            "backgroundcolor": "#E5ECF6",
            "gridcolor": "white",
            "gridwidth": 2,
            "linecolor": "white",
            "showbackground": true,
            "ticks": "",
            "zerolinecolor": "white"
           }
          },
          "shapedefaults": {
           "line": {
            "color": "#2a3f5f"
           }
          },
          "ternary": {
           "aaxis": {
            "gridcolor": "white",
            "linecolor": "white",
            "ticks": ""
           },
           "baxis": {
            "gridcolor": "white",
            "linecolor": "white",
            "ticks": ""
           },
           "bgcolor": "#E5ECF6",
           "caxis": {
            "gridcolor": "white",
            "linecolor": "white",
            "ticks": ""
           }
          },
          "title": {
           "x": 0.05
          },
          "xaxis": {
           "automargin": true,
           "gridcolor": "white",
           "linecolor": "white",
           "ticks": "",
           "title": {
            "standoff": 15
           },
           "zerolinecolor": "white",
           "zerolinewidth": 2
          },
          "yaxis": {
           "automargin": true,
           "gridcolor": "white",
           "linecolor": "white",
           "ticks": "",
           "title": {
            "standoff": 15
           },
           "zerolinecolor": "white",
           "zerolinewidth": 2
          }
         }
        },
        "title": {
         "font": {
          "color": "#484848"
         },
         "text": "Number of books published per year"
        },
        "xaxis": {
         "gridcolor": "#E1E5ED",
         "showgrid": true,
         "tickfont": {
          "color": "#505050"
         },
         "title": {
          "font": {
           "color": "#505050"
          },
          "text": "Date"
         },
         "zerolinecolor": "#E1E5ED"
        },
        "yaxis": {
         "gridcolor": "#E1E5ED",
         "showgrid": true,
         "tickfont": {
          "color": "#505050"
         },
         "title": {
          "font": {
           "color": "#505050"
          },
          "text": "Number of Books"
         },
         "zerolinecolor": "#E1E5ED"
        }
       }
      },
      "text/html": [
       "<div>\n",
       "        \n",
       "        \n",
       "            <div id=\"eea2600b-80b4-4205-baf2-5403dbfa1a8e\" class=\"plotly-graph-div\" style=\"height:525px; width:100%;\"></div>\n",
       "            <script type=\"text/javascript\">\n",
       "                require([\"plotly\"], function(Plotly) {\n",
       "                    window.PLOTLYENV=window.PLOTLYENV || {};\n",
       "                    window.PLOTLYENV.BASE_URL='https://plot.ly';\n",
       "                    \n",
       "                if (document.getElementById(\"eea2600b-80b4-4205-baf2-5403dbfa1a8e\")) {\n",
       "                    Plotly.newPlot(\n",
       "                        'eea2600b-80b4-4205-baf2-5403dbfa1a8e',\n",
       "                        [{\"marker\": {\"color\": \"rgba(0, 0, 128, 0.6)\", \"line\": {\"color\": \"rgba(0, 0, 128, 1.0)\", \"width\": 1}}, \"name\": \"id\", \"orientation\": \"v\", \"text\": \"\", \"type\": \"bar\", \"x\": [1963, 1964, 1966, 1972, 1975, 1976, 1980, 1981, 1984, 1985, 1986, 1987, 1988, 1989, 1990, 1994, 1995, 1996, 1997, 1998, 1999, 2000, 2001, 2002, 2003, 2004, 2005, 2006, 2007, 2008, 2009, 2010, 2011, 2012, 2013, 2014, 2016, 2017, 2018, 2019], \"y\": [1, 1, 1, 1, 1, 1, 1, 1, 1, 1, 1, 4, 1, 1, 4, 4, 3, 5, 2, 7, 8, 9, 7, 12, 23, 17, 13, 20, 10, 5, 9, 3, 3, 5, 4, 1, 3, 1, 2, 3]}],\n",
       "                        {\"legend\": {\"bgcolor\": \"#F2F3F7\", \"font\": {\"color\": \"#505050\"}}, \"paper_bgcolor\": \"#F2F3F7\", \"plot_bgcolor\": \"#F2F3F7\", \"template\": {\"data\": {\"bar\": [{\"error_x\": {\"color\": \"#2a3f5f\"}, \"error_y\": {\"color\": \"#2a3f5f\"}, \"marker\": {\"line\": {\"color\": \"#E5ECF6\", \"width\": 0.5}}, \"type\": \"bar\"}], \"barpolar\": [{\"marker\": {\"line\": {\"color\": \"#E5ECF6\", \"width\": 0.5}}, \"type\": \"barpolar\"}], \"carpet\": [{\"aaxis\": {\"endlinecolor\": \"#2a3f5f\", \"gridcolor\": \"white\", \"linecolor\": \"white\", \"minorgridcolor\": \"white\", \"startlinecolor\": \"#2a3f5f\"}, \"baxis\": {\"endlinecolor\": \"#2a3f5f\", \"gridcolor\": \"white\", \"linecolor\": \"white\", \"minorgridcolor\": \"white\", \"startlinecolor\": \"#2a3f5f\"}, \"type\": \"carpet\"}], \"choropleth\": [{\"colorbar\": {\"outlinewidth\": 0, \"ticks\": \"\"}, \"type\": \"choropleth\"}], \"contour\": [{\"colorbar\": {\"outlinewidth\": 0, \"ticks\": \"\"}, \"colorscale\": [[0.0, \"#0d0887\"], [0.1111111111111111, \"#46039f\"], [0.2222222222222222, \"#7201a8\"], [0.3333333333333333, \"#9c179e\"], [0.4444444444444444, \"#bd3786\"], [0.5555555555555556, \"#d8576b\"], [0.6666666666666666, \"#ed7953\"], [0.7777777777777778, \"#fb9f3a\"], [0.8888888888888888, \"#fdca26\"], [1.0, \"#f0f921\"]], \"type\": \"contour\"}], \"contourcarpet\": [{\"colorbar\": {\"outlinewidth\": 0, \"ticks\": \"\"}, \"type\": \"contourcarpet\"}], \"heatmap\": [{\"colorbar\": {\"outlinewidth\": 0, \"ticks\": \"\"}, \"colorscale\": [[0.0, \"#0d0887\"], [0.1111111111111111, \"#46039f\"], [0.2222222222222222, \"#7201a8\"], [0.3333333333333333, \"#9c179e\"], [0.4444444444444444, \"#bd3786\"], [0.5555555555555556, \"#d8576b\"], [0.6666666666666666, \"#ed7953\"], [0.7777777777777778, \"#fb9f3a\"], [0.8888888888888888, \"#fdca26\"], [1.0, \"#f0f921\"]], \"type\": \"heatmap\"}], \"heatmapgl\": [{\"colorbar\": {\"outlinewidth\": 0, \"ticks\": \"\"}, \"colorscale\": [[0.0, \"#0d0887\"], [0.1111111111111111, \"#46039f\"], [0.2222222222222222, \"#7201a8\"], [0.3333333333333333, \"#9c179e\"], [0.4444444444444444, \"#bd3786\"], [0.5555555555555556, \"#d8576b\"], [0.6666666666666666, \"#ed7953\"], [0.7777777777777778, \"#fb9f3a\"], [0.8888888888888888, \"#fdca26\"], [1.0, \"#f0f921\"]], \"type\": \"heatmapgl\"}], \"histogram\": [{\"marker\": {\"colorbar\": {\"outlinewidth\": 0, \"ticks\": \"\"}}, \"type\": \"histogram\"}], \"histogram2d\": [{\"colorbar\": {\"outlinewidth\": 0, \"ticks\": \"\"}, \"colorscale\": [[0.0, \"#0d0887\"], [0.1111111111111111, \"#46039f\"], [0.2222222222222222, \"#7201a8\"], [0.3333333333333333, \"#9c179e\"], [0.4444444444444444, \"#bd3786\"], [0.5555555555555556, \"#d8576b\"], [0.6666666666666666, \"#ed7953\"], [0.7777777777777778, \"#fb9f3a\"], [0.8888888888888888, \"#fdca26\"], [1.0, \"#f0f921\"]], \"type\": \"histogram2d\"}], \"histogram2dcontour\": [{\"colorbar\": {\"outlinewidth\": 0, \"ticks\": \"\"}, \"colorscale\": [[0.0, \"#0d0887\"], [0.1111111111111111, \"#46039f\"], [0.2222222222222222, \"#7201a8\"], [0.3333333333333333, \"#9c179e\"], [0.4444444444444444, \"#bd3786\"], [0.5555555555555556, \"#d8576b\"], [0.6666666666666666, \"#ed7953\"], [0.7777777777777778, \"#fb9f3a\"], [0.8888888888888888, \"#fdca26\"], [1.0, \"#f0f921\"]], \"type\": \"histogram2dcontour\"}], \"mesh3d\": [{\"colorbar\": {\"outlinewidth\": 0, \"ticks\": \"\"}, \"type\": \"mesh3d\"}], \"parcoords\": [{\"line\": {\"colorbar\": {\"outlinewidth\": 0, \"ticks\": \"\"}}, \"type\": \"parcoords\"}], \"pie\": [{\"automargin\": true, \"type\": \"pie\"}], \"scatter\": [{\"marker\": {\"colorbar\": {\"outlinewidth\": 0, \"ticks\": \"\"}}, \"type\": \"scatter\"}], \"scatter3d\": [{\"line\": {\"colorbar\": {\"outlinewidth\": 0, \"ticks\": \"\"}}, \"marker\": {\"colorbar\": {\"outlinewidth\": 0, \"ticks\": \"\"}}, \"type\": \"scatter3d\"}], \"scattercarpet\": [{\"marker\": {\"colorbar\": {\"outlinewidth\": 0, \"ticks\": \"\"}}, \"type\": \"scattercarpet\"}], \"scattergeo\": [{\"marker\": {\"colorbar\": {\"outlinewidth\": 0, \"ticks\": \"\"}}, \"type\": \"scattergeo\"}], \"scattergl\": [{\"marker\": {\"colorbar\": {\"outlinewidth\": 0, \"ticks\": \"\"}}, \"type\": \"scattergl\"}], \"scattermapbox\": [{\"marker\": {\"colorbar\": {\"outlinewidth\": 0, \"ticks\": \"\"}}, \"type\": \"scattermapbox\"}], \"scatterpolar\": [{\"marker\": {\"colorbar\": {\"outlinewidth\": 0, \"ticks\": \"\"}}, \"type\": \"scatterpolar\"}], \"scatterpolargl\": [{\"marker\": {\"colorbar\": {\"outlinewidth\": 0, \"ticks\": \"\"}}, \"type\": \"scatterpolargl\"}], \"scatterternary\": [{\"marker\": {\"colorbar\": {\"outlinewidth\": 0, \"ticks\": \"\"}}, \"type\": \"scatterternary\"}], \"surface\": [{\"colorbar\": {\"outlinewidth\": 0, \"ticks\": \"\"}, \"colorscale\": [[0.0, \"#0d0887\"], [0.1111111111111111, \"#46039f\"], [0.2222222222222222, \"#7201a8\"], [0.3333333333333333, \"#9c179e\"], [0.4444444444444444, \"#bd3786\"], [0.5555555555555556, \"#d8576b\"], [0.6666666666666666, \"#ed7953\"], [0.7777777777777778, \"#fb9f3a\"], [0.8888888888888888, \"#fdca26\"], [1.0, \"#f0f921\"]], \"type\": \"surface\"}], \"table\": [{\"cells\": {\"fill\": {\"color\": \"#EBF0F8\"}, \"line\": {\"color\": \"white\"}}, \"header\": {\"fill\": {\"color\": \"#C8D4E3\"}, \"line\": {\"color\": \"white\"}}, \"type\": \"table\"}]}, \"layout\": {\"annotationdefaults\": {\"arrowcolor\": \"#2a3f5f\", \"arrowhead\": 0, \"arrowwidth\": 1}, \"coloraxis\": {\"colorbar\": {\"outlinewidth\": 0, \"ticks\": \"\"}}, \"colorscale\": {\"diverging\": [[0, \"#8e0152\"], [0.1, \"#c51b7d\"], [0.2, \"#de77ae\"], [0.3, \"#f1b6da\"], [0.4, \"#fde0ef\"], [0.5, \"#f7f7f7\"], [0.6, \"#e6f5d0\"], [0.7, \"#b8e186\"], [0.8, \"#7fbc41\"], [0.9, \"#4d9221\"], [1, \"#276419\"]], \"sequential\": [[0.0, \"#0d0887\"], [0.1111111111111111, \"#46039f\"], [0.2222222222222222, \"#7201a8\"], [0.3333333333333333, \"#9c179e\"], [0.4444444444444444, \"#bd3786\"], [0.5555555555555556, \"#d8576b\"], [0.6666666666666666, \"#ed7953\"], [0.7777777777777778, \"#fb9f3a\"], [0.8888888888888888, \"#fdca26\"], [1.0, \"#f0f921\"]], \"sequentialminus\": [[0.0, \"#0d0887\"], [0.1111111111111111, \"#46039f\"], [0.2222222222222222, \"#7201a8\"], [0.3333333333333333, \"#9c179e\"], [0.4444444444444444, \"#bd3786\"], [0.5555555555555556, \"#d8576b\"], [0.6666666666666666, \"#ed7953\"], [0.7777777777777778, \"#fb9f3a\"], [0.8888888888888888, \"#fdca26\"], [1.0, \"#f0f921\"]]}, \"colorway\": [\"#636efa\", \"#EF553B\", \"#00cc96\", \"#ab63fa\", \"#FFA15A\", \"#19d3f3\", \"#FF6692\", \"#B6E880\", \"#FF97FF\", \"#FECB52\"], \"font\": {\"color\": \"#2a3f5f\"}, \"geo\": {\"bgcolor\": \"white\", \"lakecolor\": \"white\", \"landcolor\": \"#E5ECF6\", \"showlakes\": true, \"showland\": true, \"subunitcolor\": \"white\"}, \"hoverlabel\": {\"align\": \"left\"}, \"hovermode\": \"closest\", \"mapbox\": {\"style\": \"light\"}, \"paper_bgcolor\": \"white\", \"plot_bgcolor\": \"#E5ECF6\", \"polar\": {\"angularaxis\": {\"gridcolor\": \"white\", \"linecolor\": \"white\", \"ticks\": \"\"}, \"bgcolor\": \"#E5ECF6\", \"radialaxis\": {\"gridcolor\": \"white\", \"linecolor\": \"white\", \"ticks\": \"\"}}, \"scene\": {\"xaxis\": {\"backgroundcolor\": \"#E5ECF6\", \"gridcolor\": \"white\", \"gridwidth\": 2, \"linecolor\": \"white\", \"showbackground\": true, \"ticks\": \"\", \"zerolinecolor\": \"white\"}, \"yaxis\": {\"backgroundcolor\": \"#E5ECF6\", \"gridcolor\": \"white\", \"gridwidth\": 2, \"linecolor\": \"white\", \"showbackground\": true, \"ticks\": \"\", \"zerolinecolor\": \"white\"}, \"zaxis\": {\"backgroundcolor\": \"#E5ECF6\", \"gridcolor\": \"white\", \"gridwidth\": 2, \"linecolor\": \"white\", \"showbackground\": true, \"ticks\": \"\", \"zerolinecolor\": \"white\"}}, \"shapedefaults\": {\"line\": {\"color\": \"#2a3f5f\"}}, \"ternary\": {\"aaxis\": {\"gridcolor\": \"white\", \"linecolor\": \"white\", \"ticks\": \"\"}, \"baxis\": {\"gridcolor\": \"white\", \"linecolor\": \"white\", \"ticks\": \"\"}, \"bgcolor\": \"#E5ECF6\", \"caxis\": {\"gridcolor\": \"white\", \"linecolor\": \"white\", \"ticks\": \"\"}}, \"title\": {\"x\": 0.05}, \"xaxis\": {\"automargin\": true, \"gridcolor\": \"white\", \"linecolor\": \"white\", \"ticks\": \"\", \"title\": {\"standoff\": 15}, \"zerolinecolor\": \"white\", \"zerolinewidth\": 2}, \"yaxis\": {\"automargin\": true, \"gridcolor\": \"white\", \"linecolor\": \"white\", \"ticks\": \"\", \"title\": {\"standoff\": 15}, \"zerolinecolor\": \"white\", \"zerolinewidth\": 2}}}, \"title\": {\"font\": {\"color\": \"#484848\"}, \"text\": \"Number of books published per year\"}, \"xaxis\": {\"gridcolor\": \"#E1E5ED\", \"showgrid\": true, \"tickfont\": {\"color\": \"#505050\"}, \"title\": {\"font\": {\"color\": \"#505050\"}, \"text\": \"Date\"}, \"zerolinecolor\": \"#E1E5ED\"}, \"yaxis\": {\"gridcolor\": \"#E1E5ED\", \"showgrid\": true, \"tickfont\": {\"color\": \"#505050\"}, \"title\": {\"font\": {\"color\": \"#505050\"}, \"text\": \"Number of Books\"}, \"zerolinecolor\": \"#E1E5ED\"}},\n",
       "                        {\"showLink\": true, \"linkText\": \"Export to plot.ly\", \"plotlyServerURL\": \"https://plot.ly\", \"responsive\": true}\n",
       "                    ).then(function(){\n",
       "                            \n",
       "var gd = document.getElementById('eea2600b-80b4-4205-baf2-5403dbfa1a8e');\n",
       "var x = new MutationObserver(function (mutations, observer) {{\n",
       "        var display = window.getComputedStyle(gd).display;\n",
       "        if (!display || display === 'none') {{\n",
       "            console.log([gd, 'removed!']);\n",
       "            Plotly.purge(gd);\n",
       "            observer.disconnect();\n",
       "        }}\n",
       "}});\n",
       "\n",
       "// Listen for the removal of the full notebook cells\n",
       "var notebookContainer = gd.closest('#notebook-container');\n",
       "if (notebookContainer) {{\n",
       "    x.observe(notebookContainer, {childList: true});\n",
       "}}\n",
       "\n",
       "// Listen for the clearing of the current output cell\n",
       "var outputEl = gd.closest('.output');\n",
       "if (outputEl) {{\n",
       "    x.observe(outputEl, {childList: true});\n",
       "}}\n",
       "\n",
       "                        })\n",
       "                };\n",
       "                });\n",
       "            </script>\n",
       "        </div>"
      ]
     },
     "metadata": {},
     "output_type": "display_data"
    }
   ],
   "source": [
    "df.groupby('year')['id'].count().iplot(kind = 'bar',\n",
    "    xTitle = 'Date',\n",
    "    yTitle = 'Number of Books',\n",
    "    title = 'Number of books published per year',\n",
    "    colors = 'navy')"
   ]
  },
  {
   "cell_type": "markdown",
   "metadata": {},
   "source": [
    "## Dividing years to bins"
   ]
  },
  {
   "cell_type": "code",
   "execution_count": 19,
   "metadata": {
    "ExecuteTime": {
     "end_time": "2020-07-13T20:10:25.900496Z",
     "start_time": "2020-07-13T20:10:25.853867Z"
    }
   },
   "outputs": [
    {
     "data": {
      "text/html": [
       "<div>\n",
       "<style scoped>\n",
       "    .dataframe tbody tr th:only-of-type {\n",
       "        vertical-align: middle;\n",
       "    }\n",
       "\n",
       "    .dataframe tbody tr th {\n",
       "        vertical-align: top;\n",
       "    }\n",
       "\n",
       "    .dataframe thead th {\n",
       "        text-align: right;\n",
       "    }\n",
       "</style>\n",
       "<table border=\"1\" class=\"dataframe\">\n",
       "  <thead>\n",
       "    <tr style=\"text-align: right;\">\n",
       "      <th></th>\n",
       "      <th>id</th>\n",
       "      <th>book_url</th>\n",
       "      <th>name</th>\n",
       "      <th>author</th>\n",
       "      <th>author_url</th>\n",
       "      <th>score</th>\n",
       "      <th>isbn</th>\n",
       "      <th>rating</th>\n",
       "      <th>rating_count</th>\n",
       "      <th>review_count</th>\n",
       "      <th>page_count</th>\n",
       "      <th>year</th>\n",
       "      <th>genres</th>\n",
       "      <th>YearRange</th>\n",
       "    </tr>\n",
       "  </thead>\n",
       "  <tbody>\n",
       "    <tr>\n",
       "      <th>0</th>\n",
       "      <td>2767052</td>\n",
       "      <td>/book/show/2767052-the-hunger-games</td>\n",
       "      <td>The Hunger Games (The Hunger Games, #1)</td>\n",
       "      <td>Suzanne Collins</td>\n",
       "      <td>https://www.goodreads.com/author/show/153394.S...</td>\n",
       "      <td>2959964</td>\n",
       "      <td>9.780439e+12</td>\n",
       "      <td>4.33</td>\n",
       "      <td>6227649</td>\n",
       "      <td>170045.0</td>\n",
       "      <td>374.0</td>\n",
       "      <td>2008</td>\n",
       "      <td>Young Adult</td>\n",
       "      <td>2000-2010</td>\n",
       "    </tr>\n",
       "    <tr>\n",
       "      <th>1</th>\n",
       "      <td>2</td>\n",
       "      <td>/book/show/2.Harry_Potter_and_the_Order_of_the...</td>\n",
       "      <td>Harry Potter and the Order of the Phoenix (Har...</td>\n",
       "      <td>J.K. Rowling</td>\n",
       "      <td>https://www.goodreads.com/author/show/1077326....</td>\n",
       "      <td>2604164</td>\n",
       "      <td>9.780439e+12</td>\n",
       "      <td>4.50</td>\n",
       "      <td>2432082</td>\n",
       "      <td>40814.0</td>\n",
       "      <td>870.0</td>\n",
       "      <td>2004</td>\n",
       "      <td>Fantasy</td>\n",
       "      <td>2000-2010</td>\n",
       "    </tr>\n",
       "    <tr>\n",
       "      <th>2</th>\n",
       "      <td>2657</td>\n",
       "      <td>/book/show/2657.To_Kill_a_Mockingbird</td>\n",
       "      <td>To Kill a Mockingbird</td>\n",
       "      <td>Harper Lee</td>\n",
       "      <td>https://www.goodreads.com/author/show/1825.Har...</td>\n",
       "      <td>2236599</td>\n",
       "      <td>NaN</td>\n",
       "      <td>4.28</td>\n",
       "      <td>4380949</td>\n",
       "      <td>89315.0</td>\n",
       "      <td>324.0</td>\n",
       "      <td>2006</td>\n",
       "      <td>Classics</td>\n",
       "      <td>2000-2010</td>\n",
       "    </tr>\n",
       "    <tr>\n",
       "      <th>3</th>\n",
       "      <td>1885</td>\n",
       "      <td>/book/show/1885.Pride_and_Prejudice</td>\n",
       "      <td>Pride and Prejudice</td>\n",
       "      <td>Jane Austen</td>\n",
       "      <td>https://www.goodreads.com/author/show/1265.Jan...</td>\n",
       "      <td>1943333</td>\n",
       "      <td>NaN</td>\n",
       "      <td>4.26</td>\n",
       "      <td>2908472</td>\n",
       "      <td>64576.0</td>\n",
       "      <td>279.0</td>\n",
       "      <td>2000</td>\n",
       "      <td>Classics</td>\n",
       "      <td>1990-2000</td>\n",
       "    </tr>\n",
       "    <tr>\n",
       "      <th>4</th>\n",
       "      <td>41865</td>\n",
       "      <td>/book/show/41865.Twilight</td>\n",
       "      <td>Twilight (Twilight, #1)</td>\n",
       "      <td>Stephenie Meyer</td>\n",
       "      <td>https://www.goodreads.com/author/show/941441.S...</td>\n",
       "      <td>1452749</td>\n",
       "      <td>9.780316e+12</td>\n",
       "      <td>3.59</td>\n",
       "      <td>4842942</td>\n",
       "      <td>102549.0</td>\n",
       "      <td>501.0</td>\n",
       "      <td>2006</td>\n",
       "      <td>Young Adult</td>\n",
       "      <td>2000-2010</td>\n",
       "    </tr>\n",
       "  </tbody>\n",
       "</table>\n",
       "</div>"
      ],
      "text/plain": [
       "        id                                           book_url  \\\n",
       "0  2767052                /book/show/2767052-the-hunger-games   \n",
       "1        2  /book/show/2.Harry_Potter_and_the_Order_of_the...   \n",
       "2     2657              /book/show/2657.To_Kill_a_Mockingbird   \n",
       "3     1885                /book/show/1885.Pride_and_Prejudice   \n",
       "4    41865                          /book/show/41865.Twilight   \n",
       "\n",
       "                                                name           author  \\\n",
       "0            The Hunger Games (The Hunger Games, #1)  Suzanne Collins   \n",
       "1  Harry Potter and the Order of the Phoenix (Har...     J.K. Rowling   \n",
       "2                              To Kill a Mockingbird       Harper Lee   \n",
       "3                                Pride and Prejudice      Jane Austen   \n",
       "4                            Twilight (Twilight, #1)  Stephenie Meyer   \n",
       "\n",
       "                                          author_url    score          isbn  \\\n",
       "0  https://www.goodreads.com/author/show/153394.S...  2959964  9.780439e+12   \n",
       "1  https://www.goodreads.com/author/show/1077326....  2604164  9.780439e+12   \n",
       "2  https://www.goodreads.com/author/show/1825.Har...  2236599           NaN   \n",
       "3  https://www.goodreads.com/author/show/1265.Jan...  1943333           NaN   \n",
       "4  https://www.goodreads.com/author/show/941441.S...  1452749  9.780316e+12   \n",
       "\n",
       "   rating  rating_count  review_count  page_count  year       genres  \\\n",
       "0    4.33       6227649      170045.0       374.0  2008  Young Adult   \n",
       "1    4.50       2432082       40814.0       870.0  2004      Fantasy   \n",
       "2    4.28       4380949       89315.0       324.0  2006     Classics   \n",
       "3    4.26       2908472       64576.0       279.0  2000     Classics   \n",
       "4    3.59       4842942      102549.0       501.0  2006  Young Adult   \n",
       "\n",
       "   YearRange  \n",
       "0  2000-2010  \n",
       "1  2000-2010  \n",
       "2  2000-2010  \n",
       "3  1990-2000  \n",
       "4  2000-2010  "
      ]
     },
     "execution_count": 19,
     "metadata": {},
     "output_type": "execute_result"
    }
   ],
   "source": [
    "bins = [1000,1970, 1980, 1990, 2000, 2010, np.inf]\n",
    "names = ['<1970', '1970-1980', '1980-1990', '1990-2000', '2000-2010','2010>']\n",
    "\n",
    "df['YearRange'] = pd.cut(df['year'], bins, labels=names)\n",
    "df.head()"
   ]
  },
  {
   "cell_type": "markdown",
   "metadata": {},
   "source": [
    "## Number of books published in the given year range"
   ]
  },
  {
   "cell_type": "code",
   "execution_count": 20,
   "metadata": {
    "ExecuteTime": {
     "end_time": "2020-07-13T20:10:26.014843Z",
     "start_time": "2020-07-13T20:10:25.902442Z"
    }
   },
   "outputs": [
    {
     "data": {
      "text/html": [
       "<div>\n",
       "<style scoped>\n",
       "    .dataframe tbody tr th:only-of-type {\n",
       "        vertical-align: middle;\n",
       "    }\n",
       "\n",
       "    .dataframe tbody tr th {\n",
       "        vertical-align: top;\n",
       "    }\n",
       "\n",
       "    .dataframe thead th {\n",
       "        text-align: right;\n",
       "    }\n",
       "</style>\n",
       "<table border=\"1\" class=\"dataframe\">\n",
       "  <thead>\n",
       "    <tr style=\"text-align: right;\">\n",
       "      <th></th>\n",
       "      <th>id</th>\n",
       "    </tr>\n",
       "    <tr>\n",
       "      <th>YearRange</th>\n",
       "      <th></th>\n",
       "    </tr>\n",
       "  </thead>\n",
       "  <tbody>\n",
       "    <tr>\n",
       "      <th>2000-2010</th>\n",
       "      <td>119</td>\n",
       "    </tr>\n",
       "    <tr>\n",
       "      <th>1990-2000</th>\n",
       "      <td>38</td>\n",
       "    </tr>\n",
       "    <tr>\n",
       "      <th>2010&gt;</th>\n",
       "      <td>22</td>\n",
       "    </tr>\n",
       "    <tr>\n",
       "      <th>1980-1990</th>\n",
       "      <td>14</td>\n",
       "    </tr>\n",
       "    <tr>\n",
       "      <th>1970-1980</th>\n",
       "      <td>4</td>\n",
       "    </tr>\n",
       "    <tr>\n",
       "      <th>&lt;1970</th>\n",
       "      <td>3</td>\n",
       "    </tr>\n",
       "  </tbody>\n",
       "</table>\n",
       "</div>"
      ],
      "text/plain": [
       "            id\n",
       "YearRange     \n",
       "2000-2010  119\n",
       "1990-2000   38\n",
       "2010>       22\n",
       "1980-1990   14\n",
       "1970-1980    4\n",
       "<1970        3"
      ]
     },
     "execution_count": 20,
     "metadata": {},
     "output_type": "execute_result"
    }
   ],
   "source": [
    "df_year = df.groupby('YearRange')['id'].count().sort_values(ascending = False)\n",
    "df_year = pd.DataFrame(df_year)\n",
    "df_year"
   ]
  },
  {
   "cell_type": "code",
   "execution_count": 21,
   "metadata": {
    "ExecuteTime": {
     "end_time": "2020-07-13T20:10:26.921031Z",
     "start_time": "2020-07-13T20:10:26.016703Z"
    }
   },
   "outputs": [
    {
     "data": {
      "application/vnd.plotly.v1+json": {
       "config": {
        "plotlyServerURL": "https://plot.ly"
       },
       "data": [
        {
         "labels": [
          "2000-2010",
          "1990-2000",
          "2010>",
          "1980-1990",
          "1970-1980",
          "<1970"
         ],
         "type": "pie",
         "values": [
          59.5,
          19,
          11,
          7.000000000000001,
          2,
          1.5
         ]
        }
       ],
       "layout": {
        "font": {
         "color": "#7f7f7f",
         "family": "Courier New, monospace",
         "size": 18
        },
        "template": {
         "data": {
          "bar": [
           {
            "error_x": {
             "color": "rgb(51,51,51)"
            },
            "error_y": {
             "color": "rgb(51,51,51)"
            },
            "marker": {
             "line": {
              "color": "rgb(237,237,237)",
              "width": 0.5
             }
            },
            "type": "bar"
           }
          ],
          "barpolar": [
           {
            "marker": {
             "line": {
              "color": "rgb(237,237,237)",
              "width": 0.5
             }
            },
            "type": "barpolar"
           }
          ],
          "carpet": [
           {
            "aaxis": {
             "endlinecolor": "rgb(51,51,51)",
             "gridcolor": "white",
             "linecolor": "white",
             "minorgridcolor": "white",
             "startlinecolor": "rgb(51,51,51)"
            },
            "baxis": {
             "endlinecolor": "rgb(51,51,51)",
             "gridcolor": "white",
             "linecolor": "white",
             "minorgridcolor": "white",
             "startlinecolor": "rgb(51,51,51)"
            },
            "type": "carpet"
           }
          ],
          "choropleth": [
           {
            "colorbar": {
             "outlinewidth": 0,
             "tickcolor": "rgb(237,237,237)",
             "ticklen": 6,
             "ticks": "inside"
            },
            "type": "choropleth"
           }
          ],
          "contour": [
           {
            "colorbar": {
             "outlinewidth": 0,
             "tickcolor": "rgb(237,237,237)",
             "ticklen": 6,
             "ticks": "inside"
            },
            "colorscale": [
             [
              0,
              "rgb(20,44,66)"
             ],
             [
              1,
              "rgb(90,179,244)"
             ]
            ],
            "type": "contour"
           }
          ],
          "contourcarpet": [
           {
            "colorbar": {
             "outlinewidth": 0,
             "tickcolor": "rgb(237,237,237)",
             "ticklen": 6,
             "ticks": "inside"
            },
            "type": "contourcarpet"
           }
          ],
          "heatmap": [
           {
            "colorbar": {
             "outlinewidth": 0,
             "tickcolor": "rgb(237,237,237)",
             "ticklen": 6,
             "ticks": "inside"
            },
            "colorscale": [
             [
              0,
              "rgb(20,44,66)"
             ],
             [
              1,
              "rgb(90,179,244)"
             ]
            ],
            "type": "heatmap"
           }
          ],
          "heatmapgl": [
           {
            "colorbar": {
             "outlinewidth": 0,
             "tickcolor": "rgb(237,237,237)",
             "ticklen": 6,
             "ticks": "inside"
            },
            "colorscale": [
             [
              0,
              "rgb(20,44,66)"
             ],
             [
              1,
              "rgb(90,179,244)"
             ]
            ],
            "type": "heatmapgl"
           }
          ],
          "histogram": [
           {
            "marker": {
             "colorbar": {
              "outlinewidth": 0,
              "tickcolor": "rgb(237,237,237)",
              "ticklen": 6,
              "ticks": "inside"
             }
            },
            "type": "histogram"
           }
          ],
          "histogram2d": [
           {
            "colorbar": {
             "outlinewidth": 0,
             "tickcolor": "rgb(237,237,237)",
             "ticklen": 6,
             "ticks": "inside"
            },
            "colorscale": [
             [
              0,
              "rgb(20,44,66)"
             ],
             [
              1,
              "rgb(90,179,244)"
             ]
            ],
            "type": "histogram2d"
           }
          ],
          "histogram2dcontour": [
           {
            "colorbar": {
             "outlinewidth": 0,
             "tickcolor": "rgb(237,237,237)",
             "ticklen": 6,
             "ticks": "inside"
            },
            "colorscale": [
             [
              0,
              "rgb(20,44,66)"
             ],
             [
              1,
              "rgb(90,179,244)"
             ]
            ],
            "type": "histogram2dcontour"
           }
          ],
          "mesh3d": [
           {
            "colorbar": {
             "outlinewidth": 0,
             "tickcolor": "rgb(237,237,237)",
             "ticklen": 6,
             "ticks": "inside"
            },
            "type": "mesh3d"
           }
          ],
          "parcoords": [
           {
            "line": {
             "colorbar": {
              "outlinewidth": 0,
              "tickcolor": "rgb(237,237,237)",
              "ticklen": 6,
              "ticks": "inside"
             }
            },
            "type": "parcoords"
           }
          ],
          "pie": [
           {
            "automargin": true,
            "type": "pie"
           }
          ],
          "scatter": [
           {
            "marker": {
             "colorbar": {
              "outlinewidth": 0,
              "tickcolor": "rgb(237,237,237)",
              "ticklen": 6,
              "ticks": "inside"
             }
            },
            "type": "scatter"
           }
          ],
          "scatter3d": [
           {
            "line": {
             "colorbar": {
              "outlinewidth": 0,
              "tickcolor": "rgb(237,237,237)",
              "ticklen": 6,
              "ticks": "inside"
             }
            },
            "marker": {
             "colorbar": {
              "outlinewidth": 0,
              "tickcolor": "rgb(237,237,237)",
              "ticklen": 6,
              "ticks": "inside"
             }
            },
            "type": "scatter3d"
           }
          ],
          "scattercarpet": [
           {
            "marker": {
             "colorbar": {
              "outlinewidth": 0,
              "tickcolor": "rgb(237,237,237)",
              "ticklen": 6,
              "ticks": "inside"
             }
            },
            "type": "scattercarpet"
           }
          ],
          "scattergeo": [
           {
            "marker": {
             "colorbar": {
              "outlinewidth": 0,
              "tickcolor": "rgb(237,237,237)",
              "ticklen": 6,
              "ticks": "inside"
             }
            },
            "type": "scattergeo"
           }
          ],
          "scattergl": [
           {
            "marker": {
             "colorbar": {
              "outlinewidth": 0,
              "tickcolor": "rgb(237,237,237)",
              "ticklen": 6,
              "ticks": "inside"
             }
            },
            "type": "scattergl"
           }
          ],
          "scattermapbox": [
           {
            "marker": {
             "colorbar": {
              "outlinewidth": 0,
              "tickcolor": "rgb(237,237,237)",
              "ticklen": 6,
              "ticks": "inside"
             }
            },
            "type": "scattermapbox"
           }
          ],
          "scatterpolar": [
           {
            "marker": {
             "colorbar": {
              "outlinewidth": 0,
              "tickcolor": "rgb(237,237,237)",
              "ticklen": 6,
              "ticks": "inside"
             }
            },
            "type": "scatterpolar"
           }
          ],
          "scatterpolargl": [
           {
            "marker": {
             "colorbar": {
              "outlinewidth": 0,
              "tickcolor": "rgb(237,237,237)",
              "ticklen": 6,
              "ticks": "inside"
             }
            },
            "type": "scatterpolargl"
           }
          ],
          "scatterternary": [
           {
            "marker": {
             "colorbar": {
              "outlinewidth": 0,
              "tickcolor": "rgb(237,237,237)",
              "ticklen": 6,
              "ticks": "inside"
             }
            },
            "type": "scatterternary"
           }
          ],
          "surface": [
           {
            "colorbar": {
             "outlinewidth": 0,
             "tickcolor": "rgb(237,237,237)",
             "ticklen": 6,
             "ticks": "inside"
            },
            "colorscale": [
             [
              0,
              "rgb(20,44,66)"
             ],
             [
              1,
              "rgb(90,179,244)"
             ]
            ],
            "type": "surface"
           }
          ],
          "table": [
           {
            "cells": {
             "fill": {
              "color": "rgb(237,237,237)"
             },
             "line": {
              "color": "white"
             }
            },
            "header": {
             "fill": {
              "color": "rgb(217,217,217)"
             },
             "line": {
              "color": "white"
             }
            },
            "type": "table"
           }
          ]
         },
         "layout": {
          "annotationdefaults": {
           "arrowhead": 0,
           "arrowwidth": 1
          },
          "coloraxis": {
           "colorbar": {
            "outlinewidth": 0,
            "tickcolor": "rgb(237,237,237)",
            "ticklen": 6,
            "ticks": "inside"
           }
          },
          "colorscale": {
           "sequential": [
            [
             0,
             "rgb(20,44,66)"
            ],
            [
             1,
             "rgb(90,179,244)"
            ]
           ],
           "sequentialminus": [
            [
             0,
             "rgb(20,44,66)"
            ],
            [
             1,
             "rgb(90,179,244)"
            ]
           ]
          },
          "colorway": [
           "#F8766D",
           "#A3A500",
           "#00BF7D",
           "#00B0F6",
           "#E76BF3"
          ],
          "font": {
           "color": "rgb(51,51,51)"
          },
          "geo": {
           "bgcolor": "white",
           "lakecolor": "white",
           "landcolor": "rgb(237,237,237)",
           "showlakes": true,
           "showland": true,
           "subunitcolor": "white"
          },
          "hoverlabel": {
           "align": "left"
          },
          "hovermode": "closest",
          "paper_bgcolor": "white",
          "plot_bgcolor": "rgb(237,237,237)",
          "polar": {
           "angularaxis": {
            "gridcolor": "white",
            "linecolor": "white",
            "showgrid": true,
            "tickcolor": "rgb(51,51,51)",
            "ticks": "outside"
           },
           "bgcolor": "rgb(237,237,237)",
           "radialaxis": {
            "gridcolor": "white",
            "linecolor": "white",
            "showgrid": true,
            "tickcolor": "rgb(51,51,51)",
            "ticks": "outside"
           }
          },
          "scene": {
           "xaxis": {
            "backgroundcolor": "rgb(237,237,237)",
            "gridcolor": "white",
            "gridwidth": 2,
            "linecolor": "white",
            "showbackground": true,
            "showgrid": true,
            "tickcolor": "rgb(51,51,51)",
            "ticks": "outside",
            "zerolinecolor": "white"
           },
           "yaxis": {
            "backgroundcolor": "rgb(237,237,237)",
            "gridcolor": "white",
            "gridwidth": 2,
            "linecolor": "white",
            "showbackground": true,
            "showgrid": true,
            "tickcolor": "rgb(51,51,51)",
            "ticks": "outside",
            "zerolinecolor": "white"
           },
           "zaxis": {
            "backgroundcolor": "rgb(237,237,237)",
            "gridcolor": "white",
            "gridwidth": 2,
            "linecolor": "white",
            "showbackground": true,
            "showgrid": true,
            "tickcolor": "rgb(51,51,51)",
            "ticks": "outside",
            "zerolinecolor": "white"
           }
          },
          "shapedefaults": {
           "fillcolor": "black",
           "line": {
            "width": 0
           },
           "opacity": 0.3
          },
          "ternary": {
           "aaxis": {
            "gridcolor": "white",
            "linecolor": "white",
            "showgrid": true,
            "tickcolor": "rgb(51,51,51)",
            "ticks": "outside"
           },
           "baxis": {
            "gridcolor": "white",
            "linecolor": "white",
            "showgrid": true,
            "tickcolor": "rgb(51,51,51)",
            "ticks": "outside"
           },
           "bgcolor": "rgb(237,237,237)",
           "caxis": {
            "gridcolor": "white",
            "linecolor": "white",
            "showgrid": true,
            "tickcolor": "rgb(51,51,51)",
            "ticks": "outside"
           }
          },
          "xaxis": {
           "automargin": true,
           "gridcolor": "white",
           "linecolor": "white",
           "showgrid": true,
           "tickcolor": "rgb(51,51,51)",
           "ticks": "outside",
           "title": {
            "standoff": 15
           },
           "zerolinecolor": "white"
          },
          "yaxis": {
           "automargin": true,
           "gridcolor": "white",
           "linecolor": "white",
           "showgrid": true,
           "tickcolor": "rgb(51,51,51)",
           "ticks": "outside",
           "title": {
            "standoff": 15
           },
           "zerolinecolor": "white"
          }
         }
        },
        "title": {
         "text": "Year Proportions"
        }
       }
      },
      "text/html": [
       "<div>\n",
       "        \n",
       "        \n",
       "            <div id=\"488c98d2-b38e-4827-b3da-ed00e5b33f3c\" class=\"plotly-graph-div\" style=\"height:525px; width:100%;\"></div>\n",
       "            <script type=\"text/javascript\">\n",
       "                require([\"plotly\"], function(Plotly) {\n",
       "                    window.PLOTLYENV=window.PLOTLYENV || {};\n",
       "                    \n",
       "                if (document.getElementById(\"488c98d2-b38e-4827-b3da-ed00e5b33f3c\")) {\n",
       "                    Plotly.newPlot(\n",
       "                        '488c98d2-b38e-4827-b3da-ed00e5b33f3c',\n",
       "                        [{\"labels\": [\"2000-2010\", \"1990-2000\", \"2010>\", \"1980-1990\", \"1970-1980\", \"<1970\"], \"type\": \"pie\", \"values\": [59.5, 19.0, 11.0, 7.000000000000001, 2.0, 1.5]}],\n",
       "                        {\"font\": {\"color\": \"#7f7f7f\", \"family\": \"Courier New, monospace\", \"size\": 18}, \"template\": {\"data\": {\"bar\": [{\"error_x\": {\"color\": \"rgb(51,51,51)\"}, \"error_y\": {\"color\": \"rgb(51,51,51)\"}, \"marker\": {\"line\": {\"color\": \"rgb(237,237,237)\", \"width\": 0.5}}, \"type\": \"bar\"}], \"barpolar\": [{\"marker\": {\"line\": {\"color\": \"rgb(237,237,237)\", \"width\": 0.5}}, \"type\": \"barpolar\"}], \"carpet\": [{\"aaxis\": {\"endlinecolor\": \"rgb(51,51,51)\", \"gridcolor\": \"white\", \"linecolor\": \"white\", \"minorgridcolor\": \"white\", \"startlinecolor\": \"rgb(51,51,51)\"}, \"baxis\": {\"endlinecolor\": \"rgb(51,51,51)\", \"gridcolor\": \"white\", \"linecolor\": \"white\", \"minorgridcolor\": \"white\", \"startlinecolor\": \"rgb(51,51,51)\"}, \"type\": \"carpet\"}], \"choropleth\": [{\"colorbar\": {\"outlinewidth\": 0, \"tickcolor\": \"rgb(237,237,237)\", \"ticklen\": 6, \"ticks\": \"inside\"}, \"type\": \"choropleth\"}], \"contour\": [{\"colorbar\": {\"outlinewidth\": 0, \"tickcolor\": \"rgb(237,237,237)\", \"ticklen\": 6, \"ticks\": \"inside\"}, \"colorscale\": [[0, \"rgb(20,44,66)\"], [1, \"rgb(90,179,244)\"]], \"type\": \"contour\"}], \"contourcarpet\": [{\"colorbar\": {\"outlinewidth\": 0, \"tickcolor\": \"rgb(237,237,237)\", \"ticklen\": 6, \"ticks\": \"inside\"}, \"type\": \"contourcarpet\"}], \"heatmap\": [{\"colorbar\": {\"outlinewidth\": 0, \"tickcolor\": \"rgb(237,237,237)\", \"ticklen\": 6, \"ticks\": \"inside\"}, \"colorscale\": [[0, \"rgb(20,44,66)\"], [1, \"rgb(90,179,244)\"]], \"type\": \"heatmap\"}], \"heatmapgl\": [{\"colorbar\": {\"outlinewidth\": 0, \"tickcolor\": \"rgb(237,237,237)\", \"ticklen\": 6, \"ticks\": \"inside\"}, \"colorscale\": [[0, \"rgb(20,44,66)\"], [1, \"rgb(90,179,244)\"]], \"type\": \"heatmapgl\"}], \"histogram\": [{\"marker\": {\"colorbar\": {\"outlinewidth\": 0, \"tickcolor\": \"rgb(237,237,237)\", \"ticklen\": 6, \"ticks\": \"inside\"}}, \"type\": \"histogram\"}], \"histogram2d\": [{\"colorbar\": {\"outlinewidth\": 0, \"tickcolor\": \"rgb(237,237,237)\", \"ticklen\": 6, \"ticks\": \"inside\"}, \"colorscale\": [[0, \"rgb(20,44,66)\"], [1, \"rgb(90,179,244)\"]], \"type\": \"histogram2d\"}], \"histogram2dcontour\": [{\"colorbar\": {\"outlinewidth\": 0, \"tickcolor\": \"rgb(237,237,237)\", \"ticklen\": 6, \"ticks\": \"inside\"}, \"colorscale\": [[0, \"rgb(20,44,66)\"], [1, \"rgb(90,179,244)\"]], \"type\": \"histogram2dcontour\"}], \"mesh3d\": [{\"colorbar\": {\"outlinewidth\": 0, \"tickcolor\": \"rgb(237,237,237)\", \"ticklen\": 6, \"ticks\": \"inside\"}, \"type\": \"mesh3d\"}], \"parcoords\": [{\"line\": {\"colorbar\": {\"outlinewidth\": 0, \"tickcolor\": \"rgb(237,237,237)\", \"ticklen\": 6, \"ticks\": \"inside\"}}, \"type\": \"parcoords\"}], \"pie\": [{\"automargin\": true, \"type\": \"pie\"}], \"scatter\": [{\"marker\": {\"colorbar\": {\"outlinewidth\": 0, \"tickcolor\": \"rgb(237,237,237)\", \"ticklen\": 6, \"ticks\": \"inside\"}}, \"type\": \"scatter\"}], \"scatter3d\": [{\"line\": {\"colorbar\": {\"outlinewidth\": 0, \"tickcolor\": \"rgb(237,237,237)\", \"ticklen\": 6, \"ticks\": \"inside\"}}, \"marker\": {\"colorbar\": {\"outlinewidth\": 0, \"tickcolor\": \"rgb(237,237,237)\", \"ticklen\": 6, \"ticks\": \"inside\"}}, \"type\": \"scatter3d\"}], \"scattercarpet\": [{\"marker\": {\"colorbar\": {\"outlinewidth\": 0, \"tickcolor\": \"rgb(237,237,237)\", \"ticklen\": 6, \"ticks\": \"inside\"}}, \"type\": \"scattercarpet\"}], \"scattergeo\": [{\"marker\": {\"colorbar\": {\"outlinewidth\": 0, \"tickcolor\": \"rgb(237,237,237)\", \"ticklen\": 6, \"ticks\": \"inside\"}}, \"type\": \"scattergeo\"}], \"scattergl\": [{\"marker\": {\"colorbar\": {\"outlinewidth\": 0, \"tickcolor\": \"rgb(237,237,237)\", \"ticklen\": 6, \"ticks\": \"inside\"}}, \"type\": \"scattergl\"}], \"scattermapbox\": [{\"marker\": {\"colorbar\": {\"outlinewidth\": 0, \"tickcolor\": \"rgb(237,237,237)\", \"ticklen\": 6, \"ticks\": \"inside\"}}, \"type\": \"scattermapbox\"}], \"scatterpolar\": [{\"marker\": {\"colorbar\": {\"outlinewidth\": 0, \"tickcolor\": \"rgb(237,237,237)\", \"ticklen\": 6, \"ticks\": \"inside\"}}, \"type\": \"scatterpolar\"}], \"scatterpolargl\": [{\"marker\": {\"colorbar\": {\"outlinewidth\": 0, \"tickcolor\": \"rgb(237,237,237)\", \"ticklen\": 6, \"ticks\": \"inside\"}}, \"type\": \"scatterpolargl\"}], \"scatterternary\": [{\"marker\": {\"colorbar\": {\"outlinewidth\": 0, \"tickcolor\": \"rgb(237,237,237)\", \"ticklen\": 6, \"ticks\": \"inside\"}}, \"type\": \"scatterternary\"}], \"surface\": [{\"colorbar\": {\"outlinewidth\": 0, \"tickcolor\": \"rgb(237,237,237)\", \"ticklen\": 6, \"ticks\": \"inside\"}, \"colorscale\": [[0, \"rgb(20,44,66)\"], [1, \"rgb(90,179,244)\"]], \"type\": \"surface\"}], \"table\": [{\"cells\": {\"fill\": {\"color\": \"rgb(237,237,237)\"}, \"line\": {\"color\": \"white\"}}, \"header\": {\"fill\": {\"color\": \"rgb(217,217,217)\"}, \"line\": {\"color\": \"white\"}}, \"type\": \"table\"}]}, \"layout\": {\"annotationdefaults\": {\"arrowhead\": 0, \"arrowwidth\": 1}, \"coloraxis\": {\"colorbar\": {\"outlinewidth\": 0, \"tickcolor\": \"rgb(237,237,237)\", \"ticklen\": 6, \"ticks\": \"inside\"}}, \"colorscale\": {\"sequential\": [[0, \"rgb(20,44,66)\"], [1, \"rgb(90,179,244)\"]], \"sequentialminus\": [[0, \"rgb(20,44,66)\"], [1, \"rgb(90,179,244)\"]]}, \"colorway\": [\"#F8766D\", \"#A3A500\", \"#00BF7D\", \"#00B0F6\", \"#E76BF3\"], \"font\": {\"color\": \"rgb(51,51,51)\"}, \"geo\": {\"bgcolor\": \"white\", \"lakecolor\": \"white\", \"landcolor\": \"rgb(237,237,237)\", \"showlakes\": true, \"showland\": true, \"subunitcolor\": \"white\"}, \"hoverlabel\": {\"align\": \"left\"}, \"hovermode\": \"closest\", \"paper_bgcolor\": \"white\", \"plot_bgcolor\": \"rgb(237,237,237)\", \"polar\": {\"angularaxis\": {\"gridcolor\": \"white\", \"linecolor\": \"white\", \"showgrid\": true, \"tickcolor\": \"rgb(51,51,51)\", \"ticks\": \"outside\"}, \"bgcolor\": \"rgb(237,237,237)\", \"radialaxis\": {\"gridcolor\": \"white\", \"linecolor\": \"white\", \"showgrid\": true, \"tickcolor\": \"rgb(51,51,51)\", \"ticks\": \"outside\"}}, \"scene\": {\"xaxis\": {\"backgroundcolor\": \"rgb(237,237,237)\", \"gridcolor\": \"white\", \"gridwidth\": 2, \"linecolor\": \"white\", \"showbackground\": true, \"showgrid\": true, \"tickcolor\": \"rgb(51,51,51)\", \"ticks\": \"outside\", \"zerolinecolor\": \"white\"}, \"yaxis\": {\"backgroundcolor\": \"rgb(237,237,237)\", \"gridcolor\": \"white\", \"gridwidth\": 2, \"linecolor\": \"white\", \"showbackground\": true, \"showgrid\": true, \"tickcolor\": \"rgb(51,51,51)\", \"ticks\": \"outside\", \"zerolinecolor\": \"white\"}, \"zaxis\": {\"backgroundcolor\": \"rgb(237,237,237)\", \"gridcolor\": \"white\", \"gridwidth\": 2, \"linecolor\": \"white\", \"showbackground\": true, \"showgrid\": true, \"tickcolor\": \"rgb(51,51,51)\", \"ticks\": \"outside\", \"zerolinecolor\": \"white\"}}, \"shapedefaults\": {\"fillcolor\": \"black\", \"line\": {\"width\": 0}, \"opacity\": 0.3}, \"ternary\": {\"aaxis\": {\"gridcolor\": \"white\", \"linecolor\": \"white\", \"showgrid\": true, \"tickcolor\": \"rgb(51,51,51)\", \"ticks\": \"outside\"}, \"baxis\": {\"gridcolor\": \"white\", \"linecolor\": \"white\", \"showgrid\": true, \"tickcolor\": \"rgb(51,51,51)\", \"ticks\": \"outside\"}, \"bgcolor\": \"rgb(237,237,237)\", \"caxis\": {\"gridcolor\": \"white\", \"linecolor\": \"white\", \"showgrid\": true, \"tickcolor\": \"rgb(51,51,51)\", \"ticks\": \"outside\"}}, \"xaxis\": {\"automargin\": true, \"gridcolor\": \"white\", \"linecolor\": \"white\", \"showgrid\": true, \"tickcolor\": \"rgb(51,51,51)\", \"ticks\": \"outside\", \"title\": {\"standoff\": 15}, \"zerolinecolor\": \"white\"}, \"yaxis\": {\"automargin\": true, \"gridcolor\": \"white\", \"linecolor\": \"white\", \"showgrid\": true, \"tickcolor\": \"rgb(51,51,51)\", \"ticks\": \"outside\", \"title\": {\"standoff\": 15}, \"zerolinecolor\": \"white\"}}}, \"title\": {\"text\": \"Year Proportions\"}},\n",
       "                        {\"responsive\": true}\n",
       "                    ).then(function(){\n",
       "                            \n",
       "var gd = document.getElementById('488c98d2-b38e-4827-b3da-ed00e5b33f3c');\n",
       "var x = new MutationObserver(function (mutations, observer) {{\n",
       "        var display = window.getComputedStyle(gd).display;\n",
       "        if (!display || display === 'none') {{\n",
       "            console.log([gd, 'removed!']);\n",
       "            Plotly.purge(gd);\n",
       "            observer.disconnect();\n",
       "        }}\n",
       "}});\n",
       "\n",
       "// Listen for the removal of the full notebook cells\n",
       "var notebookContainer = gd.closest('#notebook-container');\n",
       "if (notebookContainer) {{\n",
       "    x.observe(notebookContainer, {childList: true});\n",
       "}}\n",
       "\n",
       "// Listen for the clearing of the current output cell\n",
       "var outputEl = gd.closest('.output');\n",
       "if (outputEl) {{\n",
       "    x.observe(outputEl, {childList: true});\n",
       "}}\n",
       "\n",
       "                        })\n",
       "                };\n",
       "                });\n",
       "            </script>\n",
       "        </div>"
      ]
     },
     "metadata": {},
     "output_type": "display_data"
    }
   ],
   "source": [
    "year_portions = df.YearRange.value_counts(normalize=True)*100\n",
    "\n",
    "labels = year_portions.index.tolist()\n",
    "values = year_portions.values.tolist()\n",
    "\n",
    "fig = go.Figure(data=[go.Pie(labels=labels, values=values)])\n",
    "\n",
    "fig.update_layout(title=\"Year Proportions\",\n",
    "                 template=\"ggplot2\",\n",
    "                    font=dict(\n",
    "                        family=\"Courier New, monospace\",\n",
    "                              size=18,\n",
    "                              color=\"#7f7f7f\"))"
   ]
  },
  {
   "cell_type": "markdown",
   "metadata": {},
   "source": [
    "## Heatmap"
   ]
  },
  {
   "cell_type": "code",
   "execution_count": 22,
   "metadata": {
    "ExecuteTime": {
     "end_time": "2020-07-13T20:10:27.095358Z",
     "start_time": "2020-07-13T20:10:26.924018Z"
    }
   },
   "outputs": [
    {
     "data": {
      "application/vnd.plotly.v1+json": {
       "config": {
        "linkText": "Export to plot.ly",
        "plotlyServerURL": "https://plot.ly",
        "showLink": true
       },
       "data": [
        {
         "colorscale": [
          [
           0,
           "rgb(255,247,243)"
          ],
          [
           0.125,
           "rgb(253,224,221)"
          ],
          [
           0.25,
           "rgb(252,197,192)"
          ],
          [
           0.375,
           "rgb(250,159,181)"
          ],
          [
           0.5,
           "rgb(247,104,161)"
          ],
          [
           0.625,
           "rgb(221,52,151)"
          ],
          [
           0.75,
           "rgb(174,1,126)"
          ],
          [
           0.875,
           "rgb(122,1,119)"
          ],
          [
           1,
           "rgb(73,0,106)"
          ]
         ],
         "type": "heatmap",
         "x": [
          "page_count",
          "rating",
          "rating_count",
          "review_count",
          "score"
         ],
         "y": [
          "page_count",
          "rating",
          "rating_count",
          "review_count",
          "score"
         ],
         "z": [
          [
           1,
           0.22781376185089885,
           -0.10764122830074499,
           -0.08313606235135654,
           0.03996491591835483
          ],
          [
           0.22781376185089885,
           1,
           0.0875307333345259,
           0.08236770644478222,
           0.10931081470373054
          ],
          [
           -0.10764122830074499,
           0.0875307333345259,
           1,
           0.8427546891537391,
           0.6225290289556712
          ],
          [
           -0.08313606235135654,
           0.08236770644478222,
           0.8427546891537391,
           1,
           0.5732758514745323
          ],
          [
           0.03996491591835483,
           0.10931081470373054,
           0.6225290289556712,
           0.5732758514745323,
           1
          ]
         ],
         "zmax": 1,
         "zmin": -0.10764122830074499
        }
       ],
       "layout": {
        "legend": {
         "bgcolor": "#F2F3F7",
         "font": {
          "color": "#505050"
         }
        },
        "paper_bgcolor": "#F2F3F7",
        "plot_bgcolor": "#F2F3F7",
        "template": {
         "data": {
          "bar": [
           {
            "error_x": {
             "color": "#2a3f5f"
            },
            "error_y": {
             "color": "#2a3f5f"
            },
            "marker": {
             "line": {
              "color": "#E5ECF6",
              "width": 0.5
             }
            },
            "type": "bar"
           }
          ],
          "barpolar": [
           {
            "marker": {
             "line": {
              "color": "#E5ECF6",
              "width": 0.5
             }
            },
            "type": "barpolar"
           }
          ],
          "carpet": [
           {
            "aaxis": {
             "endlinecolor": "#2a3f5f",
             "gridcolor": "white",
             "linecolor": "white",
             "minorgridcolor": "white",
             "startlinecolor": "#2a3f5f"
            },
            "baxis": {
             "endlinecolor": "#2a3f5f",
             "gridcolor": "white",
             "linecolor": "white",
             "minorgridcolor": "white",
             "startlinecolor": "#2a3f5f"
            },
            "type": "carpet"
           }
          ],
          "choropleth": [
           {
            "colorbar": {
             "outlinewidth": 0,
             "ticks": ""
            },
            "type": "choropleth"
           }
          ],
          "contour": [
           {
            "colorbar": {
             "outlinewidth": 0,
             "ticks": ""
            },
            "colorscale": [
             [
              0,
              "#0d0887"
             ],
             [
              0.1111111111111111,
              "#46039f"
             ],
             [
              0.2222222222222222,
              "#7201a8"
             ],
             [
              0.3333333333333333,
              "#9c179e"
             ],
             [
              0.4444444444444444,
              "#bd3786"
             ],
             [
              0.5555555555555556,
              "#d8576b"
             ],
             [
              0.6666666666666666,
              "#ed7953"
             ],
             [
              0.7777777777777778,
              "#fb9f3a"
             ],
             [
              0.8888888888888888,
              "#fdca26"
             ],
             [
              1,
              "#f0f921"
             ]
            ],
            "type": "contour"
           }
          ],
          "contourcarpet": [
           {
            "colorbar": {
             "outlinewidth": 0,
             "ticks": ""
            },
            "type": "contourcarpet"
           }
          ],
          "heatmap": [
           {
            "colorbar": {
             "outlinewidth": 0,
             "ticks": ""
            },
            "colorscale": [
             [
              0,
              "#0d0887"
             ],
             [
              0.1111111111111111,
              "#46039f"
             ],
             [
              0.2222222222222222,
              "#7201a8"
             ],
             [
              0.3333333333333333,
              "#9c179e"
             ],
             [
              0.4444444444444444,
              "#bd3786"
             ],
             [
              0.5555555555555556,
              "#d8576b"
             ],
             [
              0.6666666666666666,
              "#ed7953"
             ],
             [
              0.7777777777777778,
              "#fb9f3a"
             ],
             [
              0.8888888888888888,
              "#fdca26"
             ],
             [
              1,
              "#f0f921"
             ]
            ],
            "type": "heatmap"
           }
          ],
          "heatmapgl": [
           {
            "colorbar": {
             "outlinewidth": 0,
             "ticks": ""
            },
            "colorscale": [
             [
              0,
              "#0d0887"
             ],
             [
              0.1111111111111111,
              "#46039f"
             ],
             [
              0.2222222222222222,
              "#7201a8"
             ],
             [
              0.3333333333333333,
              "#9c179e"
             ],
             [
              0.4444444444444444,
              "#bd3786"
             ],
             [
              0.5555555555555556,
              "#d8576b"
             ],
             [
              0.6666666666666666,
              "#ed7953"
             ],
             [
              0.7777777777777778,
              "#fb9f3a"
             ],
             [
              0.8888888888888888,
              "#fdca26"
             ],
             [
              1,
              "#f0f921"
             ]
            ],
            "type": "heatmapgl"
           }
          ],
          "histogram": [
           {
            "marker": {
             "colorbar": {
              "outlinewidth": 0,
              "ticks": ""
             }
            },
            "type": "histogram"
           }
          ],
          "histogram2d": [
           {
            "colorbar": {
             "outlinewidth": 0,
             "ticks": ""
            },
            "colorscale": [
             [
              0,
              "#0d0887"
             ],
             [
              0.1111111111111111,
              "#46039f"
             ],
             [
              0.2222222222222222,
              "#7201a8"
             ],
             [
              0.3333333333333333,
              "#9c179e"
             ],
             [
              0.4444444444444444,
              "#bd3786"
             ],
             [
              0.5555555555555556,
              "#d8576b"
             ],
             [
              0.6666666666666666,
              "#ed7953"
             ],
             [
              0.7777777777777778,
              "#fb9f3a"
             ],
             [
              0.8888888888888888,
              "#fdca26"
             ],
             [
              1,
              "#f0f921"
             ]
            ],
            "type": "histogram2d"
           }
          ],
          "histogram2dcontour": [
           {
            "colorbar": {
             "outlinewidth": 0,
             "ticks": ""
            },
            "colorscale": [
             [
              0,
              "#0d0887"
             ],
             [
              0.1111111111111111,
              "#46039f"
             ],
             [
              0.2222222222222222,
              "#7201a8"
             ],
             [
              0.3333333333333333,
              "#9c179e"
             ],
             [
              0.4444444444444444,
              "#bd3786"
             ],
             [
              0.5555555555555556,
              "#d8576b"
             ],
             [
              0.6666666666666666,
              "#ed7953"
             ],
             [
              0.7777777777777778,
              "#fb9f3a"
             ],
             [
              0.8888888888888888,
              "#fdca26"
             ],
             [
              1,
              "#f0f921"
             ]
            ],
            "type": "histogram2dcontour"
           }
          ],
          "mesh3d": [
           {
            "colorbar": {
             "outlinewidth": 0,
             "ticks": ""
            },
            "type": "mesh3d"
           }
          ],
          "parcoords": [
           {
            "line": {
             "colorbar": {
              "outlinewidth": 0,
              "ticks": ""
             }
            },
            "type": "parcoords"
           }
          ],
          "pie": [
           {
            "automargin": true,
            "type": "pie"
           }
          ],
          "scatter": [
           {
            "marker": {
             "colorbar": {
              "outlinewidth": 0,
              "ticks": ""
             }
            },
            "type": "scatter"
           }
          ],
          "scatter3d": [
           {
            "line": {
             "colorbar": {
              "outlinewidth": 0,
              "ticks": ""
             }
            },
            "marker": {
             "colorbar": {
              "outlinewidth": 0,
              "ticks": ""
             }
            },
            "type": "scatter3d"
           }
          ],
          "scattercarpet": [
           {
            "marker": {
             "colorbar": {
              "outlinewidth": 0,
              "ticks": ""
             }
            },
            "type": "scattercarpet"
           }
          ],
          "scattergeo": [
           {
            "marker": {
             "colorbar": {
              "outlinewidth": 0,
              "ticks": ""
             }
            },
            "type": "scattergeo"
           }
          ],
          "scattergl": [
           {
            "marker": {
             "colorbar": {
              "outlinewidth": 0,
              "ticks": ""
             }
            },
            "type": "scattergl"
           }
          ],
          "scattermapbox": [
           {
            "marker": {
             "colorbar": {
              "outlinewidth": 0,
              "ticks": ""
             }
            },
            "type": "scattermapbox"
           }
          ],
          "scatterpolar": [
           {
            "marker": {
             "colorbar": {
              "outlinewidth": 0,
              "ticks": ""
             }
            },
            "type": "scatterpolar"
           }
          ],
          "scatterpolargl": [
           {
            "marker": {
             "colorbar": {
              "outlinewidth": 0,
              "ticks": ""
             }
            },
            "type": "scatterpolargl"
           }
          ],
          "scatterternary": [
           {
            "marker": {
             "colorbar": {
              "outlinewidth": 0,
              "ticks": ""
             }
            },
            "type": "scatterternary"
           }
          ],
          "surface": [
           {
            "colorbar": {
             "outlinewidth": 0,
             "ticks": ""
            },
            "colorscale": [
             [
              0,
              "#0d0887"
             ],
             [
              0.1111111111111111,
              "#46039f"
             ],
             [
              0.2222222222222222,
              "#7201a8"
             ],
             [
              0.3333333333333333,
              "#9c179e"
             ],
             [
              0.4444444444444444,
              "#bd3786"
             ],
             [
              0.5555555555555556,
              "#d8576b"
             ],
             [
              0.6666666666666666,
              "#ed7953"
             ],
             [
              0.7777777777777778,
              "#fb9f3a"
             ],
             [
              0.8888888888888888,
              "#fdca26"
             ],
             [
              1,
              "#f0f921"
             ]
            ],
            "type": "surface"
           }
          ],
          "table": [
           {
            "cells": {
             "fill": {
              "color": "#EBF0F8"
             },
             "line": {
              "color": "white"
             }
            },
            "header": {
             "fill": {
              "color": "#C8D4E3"
             },
             "line": {
              "color": "white"
             }
            },
            "type": "table"
           }
          ]
         },
         "layout": {
          "annotationdefaults": {
           "arrowcolor": "#2a3f5f",
           "arrowhead": 0,
           "arrowwidth": 1
          },
          "coloraxis": {
           "colorbar": {
            "outlinewidth": 0,
            "ticks": ""
           }
          },
          "colorscale": {
           "diverging": [
            [
             0,
             "#8e0152"
            ],
            [
             0.1,
             "#c51b7d"
            ],
            [
             0.2,
             "#de77ae"
            ],
            [
             0.3,
             "#f1b6da"
            ],
            [
             0.4,
             "#fde0ef"
            ],
            [
             0.5,
             "#f7f7f7"
            ],
            [
             0.6,
             "#e6f5d0"
            ],
            [
             0.7,
             "#b8e186"
            ],
            [
             0.8,
             "#7fbc41"
            ],
            [
             0.9,
             "#4d9221"
            ],
            [
             1,
             "#276419"
            ]
           ],
           "sequential": [
            [
             0,
             "#0d0887"
            ],
            [
             0.1111111111111111,
             "#46039f"
            ],
            [
             0.2222222222222222,
             "#7201a8"
            ],
            [
             0.3333333333333333,
             "#9c179e"
            ],
            [
             0.4444444444444444,
             "#bd3786"
            ],
            [
             0.5555555555555556,
             "#d8576b"
            ],
            [
             0.6666666666666666,
             "#ed7953"
            ],
            [
             0.7777777777777778,
             "#fb9f3a"
            ],
            [
             0.8888888888888888,
             "#fdca26"
            ],
            [
             1,
             "#f0f921"
            ]
           ],
           "sequentialminus": [
            [
             0,
             "#0d0887"
            ],
            [
             0.1111111111111111,
             "#46039f"
            ],
            [
             0.2222222222222222,
             "#7201a8"
            ],
            [
             0.3333333333333333,
             "#9c179e"
            ],
            [
             0.4444444444444444,
             "#bd3786"
            ],
            [
             0.5555555555555556,
             "#d8576b"
            ],
            [
             0.6666666666666666,
             "#ed7953"
            ],
            [
             0.7777777777777778,
             "#fb9f3a"
            ],
            [
             0.8888888888888888,
             "#fdca26"
            ],
            [
             1,
             "#f0f921"
            ]
           ]
          },
          "colorway": [
           "#636efa",
           "#EF553B",
           "#00cc96",
           "#ab63fa",
           "#FFA15A",
           "#19d3f3",
           "#FF6692",
           "#B6E880",
           "#FF97FF",
           "#FECB52"
          ],
          "font": {
           "color": "#2a3f5f"
          },
          "geo": {
           "bgcolor": "white",
           "lakecolor": "white",
           "landcolor": "#E5ECF6",
           "showlakes": true,
           "showland": true,
           "subunitcolor": "white"
          },
          "hoverlabel": {
           "align": "left"
          },
          "hovermode": "closest",
          "mapbox": {
           "style": "light"
          },
          "paper_bgcolor": "white",
          "plot_bgcolor": "#E5ECF6",
          "polar": {
           "angularaxis": {
            "gridcolor": "white",
            "linecolor": "white",
            "ticks": ""
           },
           "bgcolor": "#E5ECF6",
           "radialaxis": {
            "gridcolor": "white",
            "linecolor": "white",
            "ticks": ""
           }
          },
          "scene": {
           "xaxis": {
            "backgroundcolor": "#E5ECF6",
            "gridcolor": "white",
            "gridwidth": 2,
            "linecolor": "white",
            "showbackground": true,
            "ticks": "",
            "zerolinecolor": "white"
           },
           "yaxis": {
            "backgroundcolor": "#E5ECF6",
            "gridcolor": "white",
            "gridwidth": 2,
            "linecolor": "white",
            "showbackground": true,
            "ticks": "",
            "zerolinecolor": "white"
           },
           "zaxis": {
            "backgroundcolor": "#E5ECF6",
            "gridcolor": "white",
            "gridwidth": 2,
            "linecolor": "white",
            "showbackground": true,
            "ticks": "",
            "zerolinecolor": "white"
           }
          },
          "shapedefaults": {
           "line": {
            "color": "#2a3f5f"
           }
          },
          "ternary": {
           "aaxis": {
            "gridcolor": "white",
            "linecolor": "white",
            "ticks": ""
           },
           "baxis": {
            "gridcolor": "white",
            "linecolor": "white",
            "ticks": ""
           },
           "bgcolor": "#E5ECF6",
           "caxis": {
            "gridcolor": "white",
            "linecolor": "white",
            "ticks": ""
           }
          },
          "title": {
           "x": 0.05
          },
          "xaxis": {
           "automargin": true,
           "gridcolor": "white",
           "linecolor": "white",
           "ticks": "",
           "title": {
            "standoff": 15
           },
           "zerolinecolor": "white",
           "zerolinewidth": 2
          },
          "yaxis": {
           "automargin": true,
           "gridcolor": "white",
           "linecolor": "white",
           "ticks": "",
           "title": {
            "standoff": 15
           },
           "zerolinecolor": "white",
           "zerolinewidth": 2
          }
         }
        },
        "title": {
         "font": {
          "color": "#484848"
         },
         "text": "Correlation between different columns"
        },
        "xaxis": {
         "gridcolor": "#E1E5ED",
         "showgrid": true,
         "tickfont": {
          "color": "#505050"
         },
         "title": {
          "font": {
           "color": "#505050"
          },
          "text": ""
         },
         "zerolinecolor": "#E1E5ED"
        },
        "yaxis": {
         "gridcolor": "#E1E5ED",
         "showgrid": true,
         "tickfont": {
          "color": "#505050"
         },
         "title": {
          "font": {
           "color": "#505050"
          },
          "text": ""
         },
         "zerolinecolor": "#E1E5ED"
        }
       }
      },
      "text/html": [
       "<div>\n",
       "        \n",
       "        \n",
       "            <div id=\"483b7539-b3c4-4fee-a3b3-6aa29d47e573\" class=\"plotly-graph-div\" style=\"height:525px; width:100%;\"></div>\n",
       "            <script type=\"text/javascript\">\n",
       "                require([\"plotly\"], function(Plotly) {\n",
       "                    window.PLOTLYENV=window.PLOTLYENV || {};\n",
       "                    window.PLOTLYENV.BASE_URL='https://plot.ly';\n",
       "                    \n",
       "                if (document.getElementById(\"483b7539-b3c4-4fee-a3b3-6aa29d47e573\")) {\n",
       "                    Plotly.newPlot(\n",
       "                        '483b7539-b3c4-4fee-a3b3-6aa29d47e573',\n",
       "                        [{\"colorscale\": [[0.0, \"rgb(255,247,243)\"], [0.125, \"rgb(253,224,221)\"], [0.25, \"rgb(252,197,192)\"], [0.375, \"rgb(250,159,181)\"], [0.5, \"rgb(247,104,161)\"], [0.625, \"rgb(221,52,151)\"], [0.75, \"rgb(174,1,126)\"], [0.875, \"rgb(122,1,119)\"], [1.0, \"rgb(73,0,106)\"]], \"type\": \"heatmap\", \"x\": [\"page_count\", \"rating\", \"rating_count\", \"review_count\", \"score\"], \"y\": [\"page_count\", \"rating\", \"rating_count\", \"review_count\", \"score\"], \"z\": [[1.0, 0.22781376185089885, -0.10764122830074499, -0.08313606235135654, 0.03996491591835483], [0.22781376185089885, 1.0, 0.0875307333345259, 0.08236770644478222, 0.10931081470373054], [-0.10764122830074499, 0.0875307333345259, 1.0, 0.8427546891537391, 0.6225290289556712], [-0.08313606235135654, 0.08236770644478222, 0.8427546891537391, 1.0, 0.5732758514745323], [0.03996491591835483, 0.10931081470373054, 0.6225290289556712, 0.5732758514745323, 1.0]], \"zmax\": 1.0, \"zmin\": -0.10764122830074499}],\n",
       "                        {\"legend\": {\"bgcolor\": \"#F2F3F7\", \"font\": {\"color\": \"#505050\"}}, \"paper_bgcolor\": \"#F2F3F7\", \"plot_bgcolor\": \"#F2F3F7\", \"template\": {\"data\": {\"bar\": [{\"error_x\": {\"color\": \"#2a3f5f\"}, \"error_y\": {\"color\": \"#2a3f5f\"}, \"marker\": {\"line\": {\"color\": \"#E5ECF6\", \"width\": 0.5}}, \"type\": \"bar\"}], \"barpolar\": [{\"marker\": {\"line\": {\"color\": \"#E5ECF6\", \"width\": 0.5}}, \"type\": \"barpolar\"}], \"carpet\": [{\"aaxis\": {\"endlinecolor\": \"#2a3f5f\", \"gridcolor\": \"white\", \"linecolor\": \"white\", \"minorgridcolor\": \"white\", \"startlinecolor\": \"#2a3f5f\"}, \"baxis\": {\"endlinecolor\": \"#2a3f5f\", \"gridcolor\": \"white\", \"linecolor\": \"white\", \"minorgridcolor\": \"white\", \"startlinecolor\": \"#2a3f5f\"}, \"type\": \"carpet\"}], \"choropleth\": [{\"colorbar\": {\"outlinewidth\": 0, \"ticks\": \"\"}, \"type\": \"choropleth\"}], \"contour\": [{\"colorbar\": {\"outlinewidth\": 0, \"ticks\": \"\"}, \"colorscale\": [[0.0, \"#0d0887\"], [0.1111111111111111, \"#46039f\"], [0.2222222222222222, \"#7201a8\"], [0.3333333333333333, \"#9c179e\"], [0.4444444444444444, \"#bd3786\"], [0.5555555555555556, \"#d8576b\"], [0.6666666666666666, \"#ed7953\"], [0.7777777777777778, \"#fb9f3a\"], [0.8888888888888888, \"#fdca26\"], [1.0, \"#f0f921\"]], \"type\": \"contour\"}], \"contourcarpet\": [{\"colorbar\": {\"outlinewidth\": 0, \"ticks\": \"\"}, \"type\": \"contourcarpet\"}], \"heatmap\": [{\"colorbar\": {\"outlinewidth\": 0, \"ticks\": \"\"}, \"colorscale\": [[0.0, \"#0d0887\"], [0.1111111111111111, \"#46039f\"], [0.2222222222222222, \"#7201a8\"], [0.3333333333333333, \"#9c179e\"], [0.4444444444444444, \"#bd3786\"], [0.5555555555555556, \"#d8576b\"], [0.6666666666666666, \"#ed7953\"], [0.7777777777777778, \"#fb9f3a\"], [0.8888888888888888, \"#fdca26\"], [1.0, \"#f0f921\"]], \"type\": \"heatmap\"}], \"heatmapgl\": [{\"colorbar\": {\"outlinewidth\": 0, \"ticks\": \"\"}, \"colorscale\": [[0.0, \"#0d0887\"], [0.1111111111111111, \"#46039f\"], [0.2222222222222222, \"#7201a8\"], [0.3333333333333333, \"#9c179e\"], [0.4444444444444444, \"#bd3786\"], [0.5555555555555556, \"#d8576b\"], [0.6666666666666666, \"#ed7953\"], [0.7777777777777778, \"#fb9f3a\"], [0.8888888888888888, \"#fdca26\"], [1.0, \"#f0f921\"]], \"type\": \"heatmapgl\"}], \"histogram\": [{\"marker\": {\"colorbar\": {\"outlinewidth\": 0, \"ticks\": \"\"}}, \"type\": \"histogram\"}], \"histogram2d\": [{\"colorbar\": {\"outlinewidth\": 0, \"ticks\": \"\"}, \"colorscale\": [[0.0, \"#0d0887\"], [0.1111111111111111, \"#46039f\"], [0.2222222222222222, \"#7201a8\"], [0.3333333333333333, \"#9c179e\"], [0.4444444444444444, \"#bd3786\"], [0.5555555555555556, \"#d8576b\"], [0.6666666666666666, \"#ed7953\"], [0.7777777777777778, \"#fb9f3a\"], [0.8888888888888888, \"#fdca26\"], [1.0, \"#f0f921\"]], \"type\": \"histogram2d\"}], \"histogram2dcontour\": [{\"colorbar\": {\"outlinewidth\": 0, \"ticks\": \"\"}, \"colorscale\": [[0.0, \"#0d0887\"], [0.1111111111111111, \"#46039f\"], [0.2222222222222222, \"#7201a8\"], [0.3333333333333333, \"#9c179e\"], [0.4444444444444444, \"#bd3786\"], [0.5555555555555556, \"#d8576b\"], [0.6666666666666666, \"#ed7953\"], [0.7777777777777778, \"#fb9f3a\"], [0.8888888888888888, \"#fdca26\"], [1.0, \"#f0f921\"]], \"type\": \"histogram2dcontour\"}], \"mesh3d\": [{\"colorbar\": {\"outlinewidth\": 0, \"ticks\": \"\"}, \"type\": \"mesh3d\"}], \"parcoords\": [{\"line\": {\"colorbar\": {\"outlinewidth\": 0, \"ticks\": \"\"}}, \"type\": \"parcoords\"}], \"pie\": [{\"automargin\": true, \"type\": \"pie\"}], \"scatter\": [{\"marker\": {\"colorbar\": {\"outlinewidth\": 0, \"ticks\": \"\"}}, \"type\": \"scatter\"}], \"scatter3d\": [{\"line\": {\"colorbar\": {\"outlinewidth\": 0, \"ticks\": \"\"}}, \"marker\": {\"colorbar\": {\"outlinewidth\": 0, \"ticks\": \"\"}}, \"type\": \"scatter3d\"}], \"scattercarpet\": [{\"marker\": {\"colorbar\": {\"outlinewidth\": 0, \"ticks\": \"\"}}, \"type\": \"scattercarpet\"}], \"scattergeo\": [{\"marker\": {\"colorbar\": {\"outlinewidth\": 0, \"ticks\": \"\"}}, \"type\": \"scattergeo\"}], \"scattergl\": [{\"marker\": {\"colorbar\": {\"outlinewidth\": 0, \"ticks\": \"\"}}, \"type\": \"scattergl\"}], \"scattermapbox\": [{\"marker\": {\"colorbar\": {\"outlinewidth\": 0, \"ticks\": \"\"}}, \"type\": \"scattermapbox\"}], \"scatterpolar\": [{\"marker\": {\"colorbar\": {\"outlinewidth\": 0, \"ticks\": \"\"}}, \"type\": \"scatterpolar\"}], \"scatterpolargl\": [{\"marker\": {\"colorbar\": {\"outlinewidth\": 0, \"ticks\": \"\"}}, \"type\": \"scatterpolargl\"}], \"scatterternary\": [{\"marker\": {\"colorbar\": {\"outlinewidth\": 0, \"ticks\": \"\"}}, \"type\": \"scatterternary\"}], \"surface\": [{\"colorbar\": {\"outlinewidth\": 0, \"ticks\": \"\"}, \"colorscale\": [[0.0, \"#0d0887\"], [0.1111111111111111, \"#46039f\"], [0.2222222222222222, \"#7201a8\"], [0.3333333333333333, \"#9c179e\"], [0.4444444444444444, \"#bd3786\"], [0.5555555555555556, \"#d8576b\"], [0.6666666666666666, \"#ed7953\"], [0.7777777777777778, \"#fb9f3a\"], [0.8888888888888888, \"#fdca26\"], [1.0, \"#f0f921\"]], \"type\": \"surface\"}], \"table\": [{\"cells\": {\"fill\": {\"color\": \"#EBF0F8\"}, \"line\": {\"color\": \"white\"}}, \"header\": {\"fill\": {\"color\": \"#C8D4E3\"}, \"line\": {\"color\": \"white\"}}, \"type\": \"table\"}]}, \"layout\": {\"annotationdefaults\": {\"arrowcolor\": \"#2a3f5f\", \"arrowhead\": 0, \"arrowwidth\": 1}, \"coloraxis\": {\"colorbar\": {\"outlinewidth\": 0, \"ticks\": \"\"}}, \"colorscale\": {\"diverging\": [[0, \"#8e0152\"], [0.1, \"#c51b7d\"], [0.2, \"#de77ae\"], [0.3, \"#f1b6da\"], [0.4, \"#fde0ef\"], [0.5, \"#f7f7f7\"], [0.6, \"#e6f5d0\"], [0.7, \"#b8e186\"], [0.8, \"#7fbc41\"], [0.9, \"#4d9221\"], [1, \"#276419\"]], \"sequential\": [[0.0, \"#0d0887\"], [0.1111111111111111, \"#46039f\"], [0.2222222222222222, \"#7201a8\"], [0.3333333333333333, \"#9c179e\"], [0.4444444444444444, \"#bd3786\"], [0.5555555555555556, \"#d8576b\"], [0.6666666666666666, \"#ed7953\"], [0.7777777777777778, \"#fb9f3a\"], [0.8888888888888888, \"#fdca26\"], [1.0, \"#f0f921\"]], \"sequentialminus\": [[0.0, \"#0d0887\"], [0.1111111111111111, \"#46039f\"], [0.2222222222222222, \"#7201a8\"], [0.3333333333333333, \"#9c179e\"], [0.4444444444444444, \"#bd3786\"], [0.5555555555555556, \"#d8576b\"], [0.6666666666666666, \"#ed7953\"], [0.7777777777777778, \"#fb9f3a\"], [0.8888888888888888, \"#fdca26\"], [1.0, \"#f0f921\"]]}, \"colorway\": [\"#636efa\", \"#EF553B\", \"#00cc96\", \"#ab63fa\", \"#FFA15A\", \"#19d3f3\", \"#FF6692\", \"#B6E880\", \"#FF97FF\", \"#FECB52\"], \"font\": {\"color\": \"#2a3f5f\"}, \"geo\": {\"bgcolor\": \"white\", \"lakecolor\": \"white\", \"landcolor\": \"#E5ECF6\", \"showlakes\": true, \"showland\": true, \"subunitcolor\": \"white\"}, \"hoverlabel\": {\"align\": \"left\"}, \"hovermode\": \"closest\", \"mapbox\": {\"style\": \"light\"}, \"paper_bgcolor\": \"white\", \"plot_bgcolor\": \"#E5ECF6\", \"polar\": {\"angularaxis\": {\"gridcolor\": \"white\", \"linecolor\": \"white\", \"ticks\": \"\"}, \"bgcolor\": \"#E5ECF6\", \"radialaxis\": {\"gridcolor\": \"white\", \"linecolor\": \"white\", \"ticks\": \"\"}}, \"scene\": {\"xaxis\": {\"backgroundcolor\": \"#E5ECF6\", \"gridcolor\": \"white\", \"gridwidth\": 2, \"linecolor\": \"white\", \"showbackground\": true, \"ticks\": \"\", \"zerolinecolor\": \"white\"}, \"yaxis\": {\"backgroundcolor\": \"#E5ECF6\", \"gridcolor\": \"white\", \"gridwidth\": 2, \"linecolor\": \"white\", \"showbackground\": true, \"ticks\": \"\", \"zerolinecolor\": \"white\"}, \"zaxis\": {\"backgroundcolor\": \"#E5ECF6\", \"gridcolor\": \"white\", \"gridwidth\": 2, \"linecolor\": \"white\", \"showbackground\": true, \"ticks\": \"\", \"zerolinecolor\": \"white\"}}, \"shapedefaults\": {\"line\": {\"color\": \"#2a3f5f\"}}, \"ternary\": {\"aaxis\": {\"gridcolor\": \"white\", \"linecolor\": \"white\", \"ticks\": \"\"}, \"baxis\": {\"gridcolor\": \"white\", \"linecolor\": \"white\", \"ticks\": \"\"}, \"bgcolor\": \"#E5ECF6\", \"caxis\": {\"gridcolor\": \"white\", \"linecolor\": \"white\", \"ticks\": \"\"}}, \"title\": {\"x\": 0.05}, \"xaxis\": {\"automargin\": true, \"gridcolor\": \"white\", \"linecolor\": \"white\", \"ticks\": \"\", \"title\": {\"standoff\": 15}, \"zerolinecolor\": \"white\", \"zerolinewidth\": 2}, \"yaxis\": {\"automargin\": true, \"gridcolor\": \"white\", \"linecolor\": \"white\", \"ticks\": \"\", \"title\": {\"standoff\": 15}, \"zerolinecolor\": \"white\", \"zerolinewidth\": 2}}}, \"title\": {\"font\": {\"color\": \"#484848\"}, \"text\": \"Correlation between different columns\"}, \"xaxis\": {\"gridcolor\": \"#E1E5ED\", \"showgrid\": true, \"tickfont\": {\"color\": \"#505050\"}, \"title\": {\"font\": {\"color\": \"#505050\"}, \"text\": \"\"}, \"zerolinecolor\": \"#E1E5ED\"}, \"yaxis\": {\"gridcolor\": \"#E1E5ED\", \"showgrid\": true, \"tickfont\": {\"color\": \"#505050\"}, \"title\": {\"font\": {\"color\": \"#505050\"}, \"text\": \"\"}, \"zerolinecolor\": \"#E1E5ED\"}},\n",
       "                        {\"showLink\": true, \"linkText\": \"Export to plot.ly\", \"plotlyServerURL\": \"https://plot.ly\", \"responsive\": true}\n",
       "                    ).then(function(){\n",
       "                            \n",
       "var gd = document.getElementById('483b7539-b3c4-4fee-a3b3-6aa29d47e573');\n",
       "var x = new MutationObserver(function (mutations, observer) {{\n",
       "        var display = window.getComputedStyle(gd).display;\n",
       "        if (!display || display === 'none') {{\n",
       "            console.log([gd, 'removed!']);\n",
       "            Plotly.purge(gd);\n",
       "            observer.disconnect();\n",
       "        }}\n",
       "}});\n",
       "\n",
       "// Listen for the removal of the full notebook cells\n",
       "var notebookContainer = gd.closest('#notebook-container');\n",
       "if (notebookContainer) {{\n",
       "    x.observe(notebookContainer, {childList: true});\n",
       "}}\n",
       "\n",
       "// Listen for the clearing of the current output cell\n",
       "var outputEl = gd.closest('.output');\n",
       "if (outputEl) {{\n",
       "    x.observe(outputEl, {childList: true});\n",
       "}}\n",
       "\n",
       "                        })\n",
       "                };\n",
       "                });\n",
       "            </script>\n",
       "        </div>"
      ]
     },
     "metadata": {},
     "output_type": "display_data"
    }
   ],
   "source": [
    "df[['page_count',\n",
    "       'rating', 'rating_count', 'review_count','score']].corr().iplot(kind=\n",
    "        'heatmap',colorscale='rdpu', \n",
    "        title = 'Correlation between different columns')"
   ]
  },
  {
   "cell_type": "markdown",
   "metadata": {},
   "source": [
    "## Finding books based on genre"
   ]
  },
  {
   "cell_type": "code",
   "execution_count": 23,
   "metadata": {
    "ExecuteTime": {
     "end_time": "2020-07-13T20:10:27.302590Z",
     "start_time": "2020-07-13T20:10:27.099247Z"
    }
   },
   "outputs": [
    {
     "data": {
      "application/vnd.plotly.v1+json": {
       "config": {
        "linkText": "Export to plot.ly",
        "plotlyServerURL": "https://plot.ly",
        "showLink": true
       },
       "data": [
        {
         "marker": {
          "color": "rgba(0, 128, 240, 0.6)",
          "line": {
           "color": "rgba(0, 128, 240, 1.0)",
           "width": 1
          }
         },
         "name": "id",
         "orientation": "v",
         "text": "",
         "type": "bar",
         "x": [
          "Cultural",
          "Mystery",
          "Plays",
          "Poetry",
          "Sequential Art",
          "Romance",
          "Horror",
          "Nonfiction",
          "Science Fiction",
          "Historical",
          "Childrens",
          "Young Adult",
          "Fantasy",
          "Fiction",
          "Classics"
         ],
         "y": [
          1,
          1,
          1,
          1,
          1,
          3,
          4,
          4,
          4,
          6,
          11,
          18,
          32,
          37,
          76
         ]
        }
       ],
       "layout": {
        "legend": {
         "bgcolor": "#F2F3F7",
         "font": {
          "color": "#505050"
         }
        },
        "paper_bgcolor": "#F2F3F7",
        "plot_bgcolor": "#F2F3F7",
        "template": {
         "data": {
          "bar": [
           {
            "error_x": {
             "color": "#2a3f5f"
            },
            "error_y": {
             "color": "#2a3f5f"
            },
            "marker": {
             "line": {
              "color": "#E5ECF6",
              "width": 0.5
             }
            },
            "type": "bar"
           }
          ],
          "barpolar": [
           {
            "marker": {
             "line": {
              "color": "#E5ECF6",
              "width": 0.5
             }
            },
            "type": "barpolar"
           }
          ],
          "carpet": [
           {
            "aaxis": {
             "endlinecolor": "#2a3f5f",
             "gridcolor": "white",
             "linecolor": "white",
             "minorgridcolor": "white",
             "startlinecolor": "#2a3f5f"
            },
            "baxis": {
             "endlinecolor": "#2a3f5f",
             "gridcolor": "white",
             "linecolor": "white",
             "minorgridcolor": "white",
             "startlinecolor": "#2a3f5f"
            },
            "type": "carpet"
           }
          ],
          "choropleth": [
           {
            "colorbar": {
             "outlinewidth": 0,
             "ticks": ""
            },
            "type": "choropleth"
           }
          ],
          "contour": [
           {
            "colorbar": {
             "outlinewidth": 0,
             "ticks": ""
            },
            "colorscale": [
             [
              0,
              "#0d0887"
             ],
             [
              0.1111111111111111,
              "#46039f"
             ],
             [
              0.2222222222222222,
              "#7201a8"
             ],
             [
              0.3333333333333333,
              "#9c179e"
             ],
             [
              0.4444444444444444,
              "#bd3786"
             ],
             [
              0.5555555555555556,
              "#d8576b"
             ],
             [
              0.6666666666666666,
              "#ed7953"
             ],
             [
              0.7777777777777778,
              "#fb9f3a"
             ],
             [
              0.8888888888888888,
              "#fdca26"
             ],
             [
              1,
              "#f0f921"
             ]
            ],
            "type": "contour"
           }
          ],
          "contourcarpet": [
           {
            "colorbar": {
             "outlinewidth": 0,
             "ticks": ""
            },
            "type": "contourcarpet"
           }
          ],
          "heatmap": [
           {
            "colorbar": {
             "outlinewidth": 0,
             "ticks": ""
            },
            "colorscale": [
             [
              0,
              "#0d0887"
             ],
             [
              0.1111111111111111,
              "#46039f"
             ],
             [
              0.2222222222222222,
              "#7201a8"
             ],
             [
              0.3333333333333333,
              "#9c179e"
             ],
             [
              0.4444444444444444,
              "#bd3786"
             ],
             [
              0.5555555555555556,
              "#d8576b"
             ],
             [
              0.6666666666666666,
              "#ed7953"
             ],
             [
              0.7777777777777778,
              "#fb9f3a"
             ],
             [
              0.8888888888888888,
              "#fdca26"
             ],
             [
              1,
              "#f0f921"
             ]
            ],
            "type": "heatmap"
           }
          ],
          "heatmapgl": [
           {
            "colorbar": {
             "outlinewidth": 0,
             "ticks": ""
            },
            "colorscale": [
             [
              0,
              "#0d0887"
             ],
             [
              0.1111111111111111,
              "#46039f"
             ],
             [
              0.2222222222222222,
              "#7201a8"
             ],
             [
              0.3333333333333333,
              "#9c179e"
             ],
             [
              0.4444444444444444,
              "#bd3786"
             ],
             [
              0.5555555555555556,
              "#d8576b"
             ],
             [
              0.6666666666666666,
              "#ed7953"
             ],
             [
              0.7777777777777778,
              "#fb9f3a"
             ],
             [
              0.8888888888888888,
              "#fdca26"
             ],
             [
              1,
              "#f0f921"
             ]
            ],
            "type": "heatmapgl"
           }
          ],
          "histogram": [
           {
            "marker": {
             "colorbar": {
              "outlinewidth": 0,
              "ticks": ""
             }
            },
            "type": "histogram"
           }
          ],
          "histogram2d": [
           {
            "colorbar": {
             "outlinewidth": 0,
             "ticks": ""
            },
            "colorscale": [
             [
              0,
              "#0d0887"
             ],
             [
              0.1111111111111111,
              "#46039f"
             ],
             [
              0.2222222222222222,
              "#7201a8"
             ],
             [
              0.3333333333333333,
              "#9c179e"
             ],
             [
              0.4444444444444444,
              "#bd3786"
             ],
             [
              0.5555555555555556,
              "#d8576b"
             ],
             [
              0.6666666666666666,
              "#ed7953"
             ],
             [
              0.7777777777777778,
              "#fb9f3a"
             ],
             [
              0.8888888888888888,
              "#fdca26"
             ],
             [
              1,
              "#f0f921"
             ]
            ],
            "type": "histogram2d"
           }
          ],
          "histogram2dcontour": [
           {
            "colorbar": {
             "outlinewidth": 0,
             "ticks": ""
            },
            "colorscale": [
             [
              0,
              "#0d0887"
             ],
             [
              0.1111111111111111,
              "#46039f"
             ],
             [
              0.2222222222222222,
              "#7201a8"
             ],
             [
              0.3333333333333333,
              "#9c179e"
             ],
             [
              0.4444444444444444,
              "#bd3786"
             ],
             [
              0.5555555555555556,
              "#d8576b"
             ],
             [
              0.6666666666666666,
              "#ed7953"
             ],
             [
              0.7777777777777778,
              "#fb9f3a"
             ],
             [
              0.8888888888888888,
              "#fdca26"
             ],
             [
              1,
              "#f0f921"
             ]
            ],
            "type": "histogram2dcontour"
           }
          ],
          "mesh3d": [
           {
            "colorbar": {
             "outlinewidth": 0,
             "ticks": ""
            },
            "type": "mesh3d"
           }
          ],
          "parcoords": [
           {
            "line": {
             "colorbar": {
              "outlinewidth": 0,
              "ticks": ""
             }
            },
            "type": "parcoords"
           }
          ],
          "pie": [
           {
            "automargin": true,
            "type": "pie"
           }
          ],
          "scatter": [
           {
            "marker": {
             "colorbar": {
              "outlinewidth": 0,
              "ticks": ""
             }
            },
            "type": "scatter"
           }
          ],
          "scatter3d": [
           {
            "line": {
             "colorbar": {
              "outlinewidth": 0,
              "ticks": ""
             }
            },
            "marker": {
             "colorbar": {
              "outlinewidth": 0,
              "ticks": ""
             }
            },
            "type": "scatter3d"
           }
          ],
          "scattercarpet": [
           {
            "marker": {
             "colorbar": {
              "outlinewidth": 0,
              "ticks": ""
             }
            },
            "type": "scattercarpet"
           }
          ],
          "scattergeo": [
           {
            "marker": {
             "colorbar": {
              "outlinewidth": 0,
              "ticks": ""
             }
            },
            "type": "scattergeo"
           }
          ],
          "scattergl": [
           {
            "marker": {
             "colorbar": {
              "outlinewidth": 0,
              "ticks": ""
             }
            },
            "type": "scattergl"
           }
          ],
          "scattermapbox": [
           {
            "marker": {
             "colorbar": {
              "outlinewidth": 0,
              "ticks": ""
             }
            },
            "type": "scattermapbox"
           }
          ],
          "scatterpolar": [
           {
            "marker": {
             "colorbar": {
              "outlinewidth": 0,
              "ticks": ""
             }
            },
            "type": "scatterpolar"
           }
          ],
          "scatterpolargl": [
           {
            "marker": {
             "colorbar": {
              "outlinewidth": 0,
              "ticks": ""
             }
            },
            "type": "scatterpolargl"
           }
          ],
          "scatterternary": [
           {
            "marker": {
             "colorbar": {
              "outlinewidth": 0,
              "ticks": ""
             }
            },
            "type": "scatterternary"
           }
          ],
          "surface": [
           {
            "colorbar": {
             "outlinewidth": 0,
             "ticks": ""
            },
            "colorscale": [
             [
              0,
              "#0d0887"
             ],
             [
              0.1111111111111111,
              "#46039f"
             ],
             [
              0.2222222222222222,
              "#7201a8"
             ],
             [
              0.3333333333333333,
              "#9c179e"
             ],
             [
              0.4444444444444444,
              "#bd3786"
             ],
             [
              0.5555555555555556,
              "#d8576b"
             ],
             [
              0.6666666666666666,
              "#ed7953"
             ],
             [
              0.7777777777777778,
              "#fb9f3a"
             ],
             [
              0.8888888888888888,
              "#fdca26"
             ],
             [
              1,
              "#f0f921"
             ]
            ],
            "type": "surface"
           }
          ],
          "table": [
           {
            "cells": {
             "fill": {
              "color": "#EBF0F8"
             },
             "line": {
              "color": "white"
             }
            },
            "header": {
             "fill": {
              "color": "#C8D4E3"
             },
             "line": {
              "color": "white"
             }
            },
            "type": "table"
           }
          ]
         },
         "layout": {
          "annotationdefaults": {
           "arrowcolor": "#2a3f5f",
           "arrowhead": 0,
           "arrowwidth": 1
          },
          "coloraxis": {
           "colorbar": {
            "outlinewidth": 0,
            "ticks": ""
           }
          },
          "colorscale": {
           "diverging": [
            [
             0,
             "#8e0152"
            ],
            [
             0.1,
             "#c51b7d"
            ],
            [
             0.2,
             "#de77ae"
            ],
            [
             0.3,
             "#f1b6da"
            ],
            [
             0.4,
             "#fde0ef"
            ],
            [
             0.5,
             "#f7f7f7"
            ],
            [
             0.6,
             "#e6f5d0"
            ],
            [
             0.7,
             "#b8e186"
            ],
            [
             0.8,
             "#7fbc41"
            ],
            [
             0.9,
             "#4d9221"
            ],
            [
             1,
             "#276419"
            ]
           ],
           "sequential": [
            [
             0,
             "#0d0887"
            ],
            [
             0.1111111111111111,
             "#46039f"
            ],
            [
             0.2222222222222222,
             "#7201a8"
            ],
            [
             0.3333333333333333,
             "#9c179e"
            ],
            [
             0.4444444444444444,
             "#bd3786"
            ],
            [
             0.5555555555555556,
             "#d8576b"
            ],
            [
             0.6666666666666666,
             "#ed7953"
            ],
            [
             0.7777777777777778,
             "#fb9f3a"
            ],
            [
             0.8888888888888888,
             "#fdca26"
            ],
            [
             1,
             "#f0f921"
            ]
           ],
           "sequentialminus": [
            [
             0,
             "#0d0887"
            ],
            [
             0.1111111111111111,
             "#46039f"
            ],
            [
             0.2222222222222222,
             "#7201a8"
            ],
            [
             0.3333333333333333,
             "#9c179e"
            ],
            [
             0.4444444444444444,
             "#bd3786"
            ],
            [
             0.5555555555555556,
             "#d8576b"
            ],
            [
             0.6666666666666666,
             "#ed7953"
            ],
            [
             0.7777777777777778,
             "#fb9f3a"
            ],
            [
             0.8888888888888888,
             "#fdca26"
            ],
            [
             1,
             "#f0f921"
            ]
           ]
          },
          "colorway": [
           "#636efa",
           "#EF553B",
           "#00cc96",
           "#ab63fa",
           "#FFA15A",
           "#19d3f3",
           "#FF6692",
           "#B6E880",
           "#FF97FF",
           "#FECB52"
          ],
          "font": {
           "color": "#2a3f5f"
          },
          "geo": {
           "bgcolor": "white",
           "lakecolor": "white",
           "landcolor": "#E5ECF6",
           "showlakes": true,
           "showland": true,
           "subunitcolor": "white"
          },
          "hoverlabel": {
           "align": "left"
          },
          "hovermode": "closest",
          "mapbox": {
           "style": "light"
          },
          "paper_bgcolor": "white",
          "plot_bgcolor": "#E5ECF6",
          "polar": {
           "angularaxis": {
            "gridcolor": "white",
            "linecolor": "white",
            "ticks": ""
           },
           "bgcolor": "#E5ECF6",
           "radialaxis": {
            "gridcolor": "white",
            "linecolor": "white",
            "ticks": ""
           }
          },
          "scene": {
           "xaxis": {
            "backgroundcolor": "#E5ECF6",
            "gridcolor": "white",
            "gridwidth": 2,
            "linecolor": "white",
            "showbackground": true,
            "ticks": "",
            "zerolinecolor": "white"
           },
           "yaxis": {
            "backgroundcolor": "#E5ECF6",
            "gridcolor": "white",
            "gridwidth": 2,
            "linecolor": "white",
            "showbackground": true,
            "ticks": "",
            "zerolinecolor": "white"
           },
           "zaxis": {
            "backgroundcolor": "#E5ECF6",
            "gridcolor": "white",
            "gridwidth": 2,
            "linecolor": "white",
            "showbackground": true,
            "ticks": "",
            "zerolinecolor": "white"
           }
          },
          "shapedefaults": {
           "line": {
            "color": "#2a3f5f"
           }
          },
          "ternary": {
           "aaxis": {
            "gridcolor": "white",
            "linecolor": "white",
            "ticks": ""
           },
           "baxis": {
            "gridcolor": "white",
            "linecolor": "white",
            "ticks": ""
           },
           "bgcolor": "#E5ECF6",
           "caxis": {
            "gridcolor": "white",
            "linecolor": "white",
            "ticks": ""
           }
          },
          "title": {
           "x": 0.05
          },
          "xaxis": {
           "automargin": true,
           "gridcolor": "white",
           "linecolor": "white",
           "ticks": "",
           "title": {
            "standoff": 15
           },
           "zerolinecolor": "white",
           "zerolinewidth": 2
          },
          "yaxis": {
           "automargin": true,
           "gridcolor": "white",
           "linecolor": "white",
           "ticks": "",
           "title": {
            "standoff": 15
           },
           "zerolinecolor": "white",
           "zerolinewidth": 2
          }
         }
        },
        "title": {
         "font": {
          "color": "#484848"
         },
         "text": "Number of books by Genres"
        },
        "xaxis": {
         "gridcolor": "#E1E5ED",
         "showgrid": true,
         "tickfont": {
          "color": "#505050"
         },
         "title": {
          "font": {
           "color": "#505050"
          },
          "text": "Genres"
         },
         "zerolinecolor": "#E1E5ED"
        },
        "yaxis": {
         "gridcolor": "#E1E5ED",
         "showgrid": true,
         "tickfont": {
          "color": "#505050"
         },
         "title": {
          "font": {
           "color": "#505050"
          },
          "text": "Number of books"
         },
         "zerolinecolor": "#E1E5ED"
        }
       }
      },
      "text/html": [
       "<div>\n",
       "        \n",
       "        \n",
       "            <div id=\"a7f8430b-d9b4-4f93-9ac9-397d48a443fe\" class=\"plotly-graph-div\" style=\"height:525px; width:100%;\"></div>\n",
       "            <script type=\"text/javascript\">\n",
       "                require([\"plotly\"], function(Plotly) {\n",
       "                    window.PLOTLYENV=window.PLOTLYENV || {};\n",
       "                    window.PLOTLYENV.BASE_URL='https://plot.ly';\n",
       "                    \n",
       "                if (document.getElementById(\"a7f8430b-d9b4-4f93-9ac9-397d48a443fe\")) {\n",
       "                    Plotly.newPlot(\n",
       "                        'a7f8430b-d9b4-4f93-9ac9-397d48a443fe',\n",
       "                        [{\"marker\": {\"color\": \"rgba(0, 128, 240, 0.6)\", \"line\": {\"color\": \"rgba(0, 128, 240, 1.0)\", \"width\": 1}}, \"name\": \"id\", \"orientation\": \"v\", \"text\": \"\", \"type\": \"bar\", \"x\": [\"Cultural\", \"Mystery\", \"Plays\", \"Poetry\", \"Sequential Art\", \"Romance\", \"Horror\", \"Nonfiction\", \"Science Fiction\", \"Historical\", \"Childrens\", \"Young Adult\", \"Fantasy\", \"Fiction\", \"Classics\"], \"y\": [1, 1, 1, 1, 1, 3, 4, 4, 4, 6, 11, 18, 32, 37, 76]}],\n",
       "                        {\"legend\": {\"bgcolor\": \"#F2F3F7\", \"font\": {\"color\": \"#505050\"}}, \"paper_bgcolor\": \"#F2F3F7\", \"plot_bgcolor\": \"#F2F3F7\", \"template\": {\"data\": {\"bar\": [{\"error_x\": {\"color\": \"#2a3f5f\"}, \"error_y\": {\"color\": \"#2a3f5f\"}, \"marker\": {\"line\": {\"color\": \"#E5ECF6\", \"width\": 0.5}}, \"type\": \"bar\"}], \"barpolar\": [{\"marker\": {\"line\": {\"color\": \"#E5ECF6\", \"width\": 0.5}}, \"type\": \"barpolar\"}], \"carpet\": [{\"aaxis\": {\"endlinecolor\": \"#2a3f5f\", \"gridcolor\": \"white\", \"linecolor\": \"white\", \"minorgridcolor\": \"white\", \"startlinecolor\": \"#2a3f5f\"}, \"baxis\": {\"endlinecolor\": \"#2a3f5f\", \"gridcolor\": \"white\", \"linecolor\": \"white\", \"minorgridcolor\": \"white\", \"startlinecolor\": \"#2a3f5f\"}, \"type\": \"carpet\"}], \"choropleth\": [{\"colorbar\": {\"outlinewidth\": 0, \"ticks\": \"\"}, \"type\": \"choropleth\"}], \"contour\": [{\"colorbar\": {\"outlinewidth\": 0, \"ticks\": \"\"}, \"colorscale\": [[0.0, \"#0d0887\"], [0.1111111111111111, \"#46039f\"], [0.2222222222222222, \"#7201a8\"], [0.3333333333333333, \"#9c179e\"], [0.4444444444444444, \"#bd3786\"], [0.5555555555555556, \"#d8576b\"], [0.6666666666666666, \"#ed7953\"], [0.7777777777777778, \"#fb9f3a\"], [0.8888888888888888, \"#fdca26\"], [1.0, \"#f0f921\"]], \"type\": \"contour\"}], \"contourcarpet\": [{\"colorbar\": {\"outlinewidth\": 0, \"ticks\": \"\"}, \"type\": \"contourcarpet\"}], \"heatmap\": [{\"colorbar\": {\"outlinewidth\": 0, \"ticks\": \"\"}, \"colorscale\": [[0.0, \"#0d0887\"], [0.1111111111111111, \"#46039f\"], [0.2222222222222222, \"#7201a8\"], [0.3333333333333333, \"#9c179e\"], [0.4444444444444444, \"#bd3786\"], [0.5555555555555556, \"#d8576b\"], [0.6666666666666666, \"#ed7953\"], [0.7777777777777778, \"#fb9f3a\"], [0.8888888888888888, \"#fdca26\"], [1.0, \"#f0f921\"]], \"type\": \"heatmap\"}], \"heatmapgl\": [{\"colorbar\": {\"outlinewidth\": 0, \"ticks\": \"\"}, \"colorscale\": [[0.0, \"#0d0887\"], [0.1111111111111111, \"#46039f\"], [0.2222222222222222, \"#7201a8\"], [0.3333333333333333, \"#9c179e\"], [0.4444444444444444, \"#bd3786\"], [0.5555555555555556, \"#d8576b\"], [0.6666666666666666, \"#ed7953\"], [0.7777777777777778, \"#fb9f3a\"], [0.8888888888888888, \"#fdca26\"], [1.0, \"#f0f921\"]], \"type\": \"heatmapgl\"}], \"histogram\": [{\"marker\": {\"colorbar\": {\"outlinewidth\": 0, \"ticks\": \"\"}}, \"type\": \"histogram\"}], \"histogram2d\": [{\"colorbar\": {\"outlinewidth\": 0, \"ticks\": \"\"}, \"colorscale\": [[0.0, \"#0d0887\"], [0.1111111111111111, \"#46039f\"], [0.2222222222222222, \"#7201a8\"], [0.3333333333333333, \"#9c179e\"], [0.4444444444444444, \"#bd3786\"], [0.5555555555555556, \"#d8576b\"], [0.6666666666666666, \"#ed7953\"], [0.7777777777777778, \"#fb9f3a\"], [0.8888888888888888, \"#fdca26\"], [1.0, \"#f0f921\"]], \"type\": \"histogram2d\"}], \"histogram2dcontour\": [{\"colorbar\": {\"outlinewidth\": 0, \"ticks\": \"\"}, \"colorscale\": [[0.0, \"#0d0887\"], [0.1111111111111111, \"#46039f\"], [0.2222222222222222, \"#7201a8\"], [0.3333333333333333, \"#9c179e\"], [0.4444444444444444, \"#bd3786\"], [0.5555555555555556, \"#d8576b\"], [0.6666666666666666, \"#ed7953\"], [0.7777777777777778, \"#fb9f3a\"], [0.8888888888888888, \"#fdca26\"], [1.0, \"#f0f921\"]], \"type\": \"histogram2dcontour\"}], \"mesh3d\": [{\"colorbar\": {\"outlinewidth\": 0, \"ticks\": \"\"}, \"type\": \"mesh3d\"}], \"parcoords\": [{\"line\": {\"colorbar\": {\"outlinewidth\": 0, \"ticks\": \"\"}}, \"type\": \"parcoords\"}], \"pie\": [{\"automargin\": true, \"type\": \"pie\"}], \"scatter\": [{\"marker\": {\"colorbar\": {\"outlinewidth\": 0, \"ticks\": \"\"}}, \"type\": \"scatter\"}], \"scatter3d\": [{\"line\": {\"colorbar\": {\"outlinewidth\": 0, \"ticks\": \"\"}}, \"marker\": {\"colorbar\": {\"outlinewidth\": 0, \"ticks\": \"\"}}, \"type\": \"scatter3d\"}], \"scattercarpet\": [{\"marker\": {\"colorbar\": {\"outlinewidth\": 0, \"ticks\": \"\"}}, \"type\": \"scattercarpet\"}], \"scattergeo\": [{\"marker\": {\"colorbar\": {\"outlinewidth\": 0, \"ticks\": \"\"}}, \"type\": \"scattergeo\"}], \"scattergl\": [{\"marker\": {\"colorbar\": {\"outlinewidth\": 0, \"ticks\": \"\"}}, \"type\": \"scattergl\"}], \"scattermapbox\": [{\"marker\": {\"colorbar\": {\"outlinewidth\": 0, \"ticks\": \"\"}}, \"type\": \"scattermapbox\"}], \"scatterpolar\": [{\"marker\": {\"colorbar\": {\"outlinewidth\": 0, \"ticks\": \"\"}}, \"type\": \"scatterpolar\"}], \"scatterpolargl\": [{\"marker\": {\"colorbar\": {\"outlinewidth\": 0, \"ticks\": \"\"}}, \"type\": \"scatterpolargl\"}], \"scatterternary\": [{\"marker\": {\"colorbar\": {\"outlinewidth\": 0, \"ticks\": \"\"}}, \"type\": \"scatterternary\"}], \"surface\": [{\"colorbar\": {\"outlinewidth\": 0, \"ticks\": \"\"}, \"colorscale\": [[0.0, \"#0d0887\"], [0.1111111111111111, \"#46039f\"], [0.2222222222222222, \"#7201a8\"], [0.3333333333333333, \"#9c179e\"], [0.4444444444444444, \"#bd3786\"], [0.5555555555555556, \"#d8576b\"], [0.6666666666666666, \"#ed7953\"], [0.7777777777777778, \"#fb9f3a\"], [0.8888888888888888, \"#fdca26\"], [1.0, \"#f0f921\"]], \"type\": \"surface\"}], \"table\": [{\"cells\": {\"fill\": {\"color\": \"#EBF0F8\"}, \"line\": {\"color\": \"white\"}}, \"header\": {\"fill\": {\"color\": \"#C8D4E3\"}, \"line\": {\"color\": \"white\"}}, \"type\": \"table\"}]}, \"layout\": {\"annotationdefaults\": {\"arrowcolor\": \"#2a3f5f\", \"arrowhead\": 0, \"arrowwidth\": 1}, \"coloraxis\": {\"colorbar\": {\"outlinewidth\": 0, \"ticks\": \"\"}}, \"colorscale\": {\"diverging\": [[0, \"#8e0152\"], [0.1, \"#c51b7d\"], [0.2, \"#de77ae\"], [0.3, \"#f1b6da\"], [0.4, \"#fde0ef\"], [0.5, \"#f7f7f7\"], [0.6, \"#e6f5d0\"], [0.7, \"#b8e186\"], [0.8, \"#7fbc41\"], [0.9, \"#4d9221\"], [1, \"#276419\"]], \"sequential\": [[0.0, \"#0d0887\"], [0.1111111111111111, \"#46039f\"], [0.2222222222222222, \"#7201a8\"], [0.3333333333333333, \"#9c179e\"], [0.4444444444444444, \"#bd3786\"], [0.5555555555555556, \"#d8576b\"], [0.6666666666666666, \"#ed7953\"], [0.7777777777777778, \"#fb9f3a\"], [0.8888888888888888, \"#fdca26\"], [1.0, \"#f0f921\"]], \"sequentialminus\": [[0.0, \"#0d0887\"], [0.1111111111111111, \"#46039f\"], [0.2222222222222222, \"#7201a8\"], [0.3333333333333333, \"#9c179e\"], [0.4444444444444444, \"#bd3786\"], [0.5555555555555556, \"#d8576b\"], [0.6666666666666666, \"#ed7953\"], [0.7777777777777778, \"#fb9f3a\"], [0.8888888888888888, \"#fdca26\"], [1.0, \"#f0f921\"]]}, \"colorway\": [\"#636efa\", \"#EF553B\", \"#00cc96\", \"#ab63fa\", \"#FFA15A\", \"#19d3f3\", \"#FF6692\", \"#B6E880\", \"#FF97FF\", \"#FECB52\"], \"font\": {\"color\": \"#2a3f5f\"}, \"geo\": {\"bgcolor\": \"white\", \"lakecolor\": \"white\", \"landcolor\": \"#E5ECF6\", \"showlakes\": true, \"showland\": true, \"subunitcolor\": \"white\"}, \"hoverlabel\": {\"align\": \"left\"}, \"hovermode\": \"closest\", \"mapbox\": {\"style\": \"light\"}, \"paper_bgcolor\": \"white\", \"plot_bgcolor\": \"#E5ECF6\", \"polar\": {\"angularaxis\": {\"gridcolor\": \"white\", \"linecolor\": \"white\", \"ticks\": \"\"}, \"bgcolor\": \"#E5ECF6\", \"radialaxis\": {\"gridcolor\": \"white\", \"linecolor\": \"white\", \"ticks\": \"\"}}, \"scene\": {\"xaxis\": {\"backgroundcolor\": \"#E5ECF6\", \"gridcolor\": \"white\", \"gridwidth\": 2, \"linecolor\": \"white\", \"showbackground\": true, \"ticks\": \"\", \"zerolinecolor\": \"white\"}, \"yaxis\": {\"backgroundcolor\": \"#E5ECF6\", \"gridcolor\": \"white\", \"gridwidth\": 2, \"linecolor\": \"white\", \"showbackground\": true, \"ticks\": \"\", \"zerolinecolor\": \"white\"}, \"zaxis\": {\"backgroundcolor\": \"#E5ECF6\", \"gridcolor\": \"white\", \"gridwidth\": 2, \"linecolor\": \"white\", \"showbackground\": true, \"ticks\": \"\", \"zerolinecolor\": \"white\"}}, \"shapedefaults\": {\"line\": {\"color\": \"#2a3f5f\"}}, \"ternary\": {\"aaxis\": {\"gridcolor\": \"white\", \"linecolor\": \"white\", \"ticks\": \"\"}, \"baxis\": {\"gridcolor\": \"white\", \"linecolor\": \"white\", \"ticks\": \"\"}, \"bgcolor\": \"#E5ECF6\", \"caxis\": {\"gridcolor\": \"white\", \"linecolor\": \"white\", \"ticks\": \"\"}}, \"title\": {\"x\": 0.05}, \"xaxis\": {\"automargin\": true, \"gridcolor\": \"white\", \"linecolor\": \"white\", \"ticks\": \"\", \"title\": {\"standoff\": 15}, \"zerolinecolor\": \"white\", \"zerolinewidth\": 2}, \"yaxis\": {\"automargin\": true, \"gridcolor\": \"white\", \"linecolor\": \"white\", \"ticks\": \"\", \"title\": {\"standoff\": 15}, \"zerolinecolor\": \"white\", \"zerolinewidth\": 2}}}, \"title\": {\"font\": {\"color\": \"#484848\"}, \"text\": \"Number of books by Genres\"}, \"xaxis\": {\"gridcolor\": \"#E1E5ED\", \"showgrid\": true, \"tickfont\": {\"color\": \"#505050\"}, \"title\": {\"font\": {\"color\": \"#505050\"}, \"text\": \"Genres\"}, \"zerolinecolor\": \"#E1E5ED\"}, \"yaxis\": {\"gridcolor\": \"#E1E5ED\", \"showgrid\": true, \"tickfont\": {\"color\": \"#505050\"}, \"title\": {\"font\": {\"color\": \"#505050\"}, \"text\": \"Number of books\"}, \"zerolinecolor\": \"#E1E5ED\"}},\n",
       "                        {\"showLink\": true, \"linkText\": \"Export to plot.ly\", \"plotlyServerURL\": \"https://plot.ly\", \"responsive\": true}\n",
       "                    ).then(function(){\n",
       "                            \n",
       "var gd = document.getElementById('a7f8430b-d9b4-4f93-9ac9-397d48a443fe');\n",
       "var x = new MutationObserver(function (mutations, observer) {{\n",
       "        var display = window.getComputedStyle(gd).display;\n",
       "        if (!display || display === 'none') {{\n",
       "            console.log([gd, 'removed!']);\n",
       "            Plotly.purge(gd);\n",
       "            observer.disconnect();\n",
       "        }}\n",
       "}});\n",
       "\n",
       "// Listen for the removal of the full notebook cells\n",
       "var notebookContainer = gd.closest('#notebook-container');\n",
       "if (notebookContainer) {{\n",
       "    x.observe(notebookContainer, {childList: true});\n",
       "}}\n",
       "\n",
       "// Listen for the clearing of the current output cell\n",
       "var outputEl = gd.closest('.output');\n",
       "if (outputEl) {{\n",
       "    x.observe(outputEl, {childList: true});\n",
       "}}\n",
       "\n",
       "                        })\n",
       "                };\n",
       "                });\n",
       "            </script>\n",
       "        </div>"
      ]
     },
     "metadata": {},
     "output_type": "display_data"
    }
   ],
   "source": [
    "df.groupby('genres')['id'].count().sort_values().iplot(\n",
    "kind = 'bar',\n",
    "xTitle = 'Genres',\n",
    "yTitle = 'Number of books',\n",
    "title = 'Number of books by Genres')"
   ]
  },
  {
   "cell_type": "markdown",
   "metadata": {},
   "source": [
    "## Finding the percentage of each genre"
   ]
  },
  {
   "cell_type": "code",
   "execution_count": 24,
   "metadata": {
    "ExecuteTime": {
     "end_time": "2020-07-13T20:10:27.503594Z",
     "start_time": "2020-07-13T20:10:27.306527Z"
    }
   },
   "outputs": [
    {
     "data": {
      "application/vnd.plotly.v1+json": {
       "config": {
        "linkText": "Export to plot.ly",
        "plotlyServerURL": "https://plot.ly",
        "showLink": true
       },
       "data": [
        {
         "labels": [
          "Childrens",
          "Classics",
          "Cultural",
          "Fantasy",
          "Fiction",
          "Historical",
          "Horror",
          "Mystery",
          "Nonfiction",
          "Plays",
          "Poetry",
          "Romance",
          "Science Fiction",
          "Sequential Art",
          "Young Adult"
         ],
         "marker": {
          "colors": [
           "rgba(0, 128, 240, 1.0)",
           "rgba(238, 118, 0, 1.0)",
           "rgba(48, 144, 84, 1.0)",
           "rgba(98, 98, 222, 1.0)",
           "rgba(217, 66, 85, 1.0)",
           "rgba(173, 252, 252, 1.0)",
           "rgba(70, 160, 240, 1.0)",
           "rgba(70, 160, 240, 0.8999999999999999)",
           "rgba(0, 128, 240, 0.8999999999999999)",
           "rgba(238, 118, 0, 0.8999999999999999)",
           "rgba(48, 144, 84, 0.8999999999999999)",
           "rgba(98, 98, 222, 0.8999999999999999)",
           "rgba(217, 66, 85, 0.8999999999999999)",
           "rgba(173, 252, 252, 0.8999999999999999)",
           "rgba(173, 252, 252, 0.7999999999999998)"
          ]
         },
         "name": "",
         "type": "pie",
         "values": [
          11,
          76,
          1,
          32,
          37,
          6,
          4,
          1,
          4,
          1,
          1,
          3,
          4,
          1,
          18
         ]
        }
       ],
       "layout": {
        "legend": {
         "bgcolor": "#F2F3F7",
         "font": {
          "color": "#505050"
         }
        },
        "paper_bgcolor": "#F2F3F7",
        "plot_bgcolor": "#F2F3F7",
        "title": "Percentage of genres",
        "titlefont": {
         "color": "#484848"
        }
       }
      },
      "text/html": [
       "<div>\n",
       "        \n",
       "        \n",
       "            <div id=\"f21c9472-258a-4a86-aef3-67f1d27f34df\" class=\"plotly-graph-div\" style=\"height:525px; width:100%;\"></div>\n",
       "            <script type=\"text/javascript\">\n",
       "                require([\"plotly\"], function(Plotly) {\n",
       "                    window.PLOTLYENV=window.PLOTLYENV || {};\n",
       "                    window.PLOTLYENV.BASE_URL='https://plot.ly';\n",
       "                    \n",
       "                if (document.getElementById(\"f21c9472-258a-4a86-aef3-67f1d27f34df\")) {\n",
       "                    Plotly.newPlot(\n",
       "                        'f21c9472-258a-4a86-aef3-67f1d27f34df',\n",
       "                        [{\"labels\": [\"Childrens\", \"Classics\", \"Cultural\", \"Fantasy\", \"Fiction\", \"Historical\", \"Horror\", \"Mystery\", \"Nonfiction\", \"Plays\", \"Poetry\", \"Romance\", \"Science Fiction\", \"Sequential Art\", \"Young Adult\"], \"marker\": {\"colors\": [\"rgba(0, 128, 240, 1.0)\", \"rgba(238, 118, 0, 1.0)\", \"rgba(48, 144, 84, 1.0)\", \"rgba(98, 98, 222, 1.0)\", \"rgba(217, 66, 85, 1.0)\", \"rgba(173, 252, 252, 1.0)\", \"rgba(70, 160, 240, 1.0)\", \"rgba(70, 160, 240, 0.8999999999999999)\", \"rgba(0, 128, 240, 0.8999999999999999)\", \"rgba(238, 118, 0, 0.8999999999999999)\", \"rgba(48, 144, 84, 0.8999999999999999)\", \"rgba(98, 98, 222, 0.8999999999999999)\", \"rgba(217, 66, 85, 0.8999999999999999)\", \"rgba(173, 252, 252, 0.8999999999999999)\", \"rgba(173, 252, 252, 0.7999999999999998)\"]}, \"name\": \"\", \"type\": \"pie\", \"values\": [11, 76, 1, 32, 37, 6, 4, 1, 4, 1, 1, 3, 4, 1, 18]}],\n",
       "                        {\"legend\": {\"bgcolor\": \"#F2F3F7\", \"font\": {\"color\": \"#505050\"}}, \"paper_bgcolor\": \"#F2F3F7\", \"plot_bgcolor\": \"#F2F3F7\", \"title\": \"Percentage of genres\", \"titlefont\": {\"color\": \"#484848\"}},\n",
       "                        {\"showLink\": true, \"linkText\": \"Export to plot.ly\", \"plotlyServerURL\": \"https://plot.ly\", \"responsive\": true}\n",
       "                    ).then(function(){\n",
       "                            \n",
       "var gd = document.getElementById('f21c9472-258a-4a86-aef3-67f1d27f34df');\n",
       "var x = new MutationObserver(function (mutations, observer) {{\n",
       "        var display = window.getComputedStyle(gd).display;\n",
       "        if (!display || display === 'none') {{\n",
       "            console.log([gd, 'removed!']);\n",
       "            Plotly.purge(gd);\n",
       "            observer.disconnect();\n",
       "        }}\n",
       "}});\n",
       "\n",
       "// Listen for the removal of the full notebook cells\n",
       "var notebookContainer = gd.closest('#notebook-container');\n",
       "if (notebookContainer) {{\n",
       "    x.observe(notebookContainer, {childList: true});\n",
       "}}\n",
       "\n",
       "// Listen for the clearing of the current output cell\n",
       "var outputEl = gd.closest('.output');\n",
       "if (outputEl) {{\n",
       "    x.observe(outputEl, {childList: true});\n",
       "}}\n",
       "\n",
       "                        })\n",
       "                };\n",
       "                });\n",
       "            </script>\n",
       "        </div>"
      ]
     },
     "metadata": {},
     "output_type": "display_data"
    }
   ],
   "source": [
    "df.groupby('genres', as_index= False)['id'].count().iplot(\n",
    "    kind='pie', \n",
    "    labels='genres',\n",
    "    values='id',\n",
    "    title='Percentage of genres')"
   ]
  },
  {
   "cell_type": "markdown",
   "metadata": {},
   "source": [
    "## Checking the review count of each book"
   ]
  },
  {
   "cell_type": "code",
   "execution_count": 25,
   "metadata": {
    "ExecuteTime": {
     "end_time": "2020-07-13T20:10:27.813315Z",
     "start_time": "2020-07-13T20:10:27.505303Z"
    }
   },
   "outputs": [
    {
     "data": {
      "application/vnd.plotly.v1+json": {
       "config": {
        "linkText": "Export to plot.ly",
        "plotlyServerURL": "https://plot.ly",
        "showLink": true
       },
       "data": [
        {
         "marker": {
          "color": "rgba(199, 21, 133, 0.6)",
          "line": {
           "color": "rgba(199, 21, 133, 1.0)",
           "width": 1
          }
         },
         "name": "review_count",
         "orientation": "v",
         "text": "",
         "type": "bar",
         "x": [
          "The Hunger Games (The Hunger Games, #1)",
          "Harry Potter and the Order of the Phoenix (Harry Potter, #5)",
          "To Kill a Mockingbird",
          "Pride and Prejudice",
          "Twilight (Twilight, #1)",
          "The Book Thief",
          "Animal Farm",
          "The Chronicles of Narnia (Chronicles of Narnia, #1-7)",
          "J.R.R. Tolkien 4-Book Boxed Set: The Hobbit and The Lord of the Rings",
          "Gone with the Wind",
          "The Fault in Our Stars",
          "The Hitchhiker's Guide to the Galaxy (Hitchhiker's Guide to the Galaxy, #1)",
          "The Giving Tree",
          "Wuthering Heights",
          "The Da Vinci Code (Robert Langdon, #2)",
          "Memoirs of a Geisha",
          "The Picture of Dorian Gray",
          "Alice's Adventures in Wonderland & Through the Looking-Glass",
          "Jane Eyre",
          "Les Misérables",
          "Divergent (Divergent, #1)",
          "Fahrenheit 451",
          "Romeo and Juliet",
          "Lord of the Flies",
          "The Alchemist",
          "Crime and Punishment",
          "The Perks of Being a Wallflower",
          "The Great Gatsby",
          "Ender's Game (Ender's Saga, #1)",
          "City of Bones (The Mortal Instruments, #1)",
          "The Help",
          "Anne of Green Gables (Anne of Green Gables, #1)",
          "Charlotte's Web",
          "The Little Prince",
          "The Time Traveler's Wife",
          "Of Mice and Men",
          "Harry Potter and the Sorcerer's Stone (Harry Potter, #1)",
          "Dracula",
          "Brave New World",
          "One Hundred Years of Solitude",
          "The Princess Bride",
          "The Catcher in the Rye",
          "The Secret Garden",
          "A Thousand Splendid Suns",
          "The Lightning Thief (Percy Jackson and the Olympians, #1)",
          "A Wrinkle in Time (Time Quintet, #1)",
          "A Game of Thrones (A Song of Ice and Fire, #1)",
          "The Adventures of Huckleberry Finn",
          "The Lovely Bones",
          "The Outsiders",
          "Where the Wild Things Are",
          "Green Eggs and Ham",
          "The Odyssey",
          "Life of Pi",
          "A Tale of Two Cities",
          "Water for Elephants",
          "Lolita",
          "Slaughterhouse-Five",
          "Frankenstein: The 1818 Text",
          "The Kite Runner",
          "The Handmaid's Tale (The Handmaid's Tale, #1)",
          "The Giver (The Giver, #1)",
          "Catch-22 (Catch-22, #1)",
          "Dune (Dune, #1)",
          "The Pillars of the Earth (Kingsbridge, #1)",
          "The Stand",
          "The Adventures of Sherlock Holmes",
          "Watership Down (Watership Down, #1)",
          "Great Expectations",
          "One Flew Over the Cuckoo's Nest",
          "The Bell Jar",
          "Anna Karenina",
          "Little Women",
          "My Sister's Keeper",
          "Outlander (Outlander, #1)",
          "The Girl with the Dragon Tattoo (Millennium, #1)",
          "Harry Potter and the Deathly Hallows (Harry Potter, #7)",
          "Matilda",
          "The Fellowship of the Ring (The Lord of the Rings, #1)",
          "Rebecca",
          "The Color Purple",
          "A Tree Grows in Brooklyn",
          "1984",
          "A Clockwork Orange",
          "The Road",
          "The Brothers Karamazov",
          "Angela's Ashes (Frank McCourt, #1)",
          "Vampire Academy (Vampire Academy, #1)",
          "The Poisonwood Bible",
          "Siddhartha",
          "The Golden Compass (His Dark Materials, #1)",
          "Don Quixote",
          "Atlas Shrugged",
          "The Old Man and the Sea",
          "Harry Potter and the Prisoner of Azkaban (Harry Potter, #3)",
          "The Notebook (The Notebook, #1)",
          "Winnie-the-Pooh (Winnie-the-Pooh, #1)",
          "The Complete Stories and Poems",
          "A Prayer for Owen Meany",
          "Interview with the Vampire (The Vampire Chronicles, #1)",
          "Moby-Dick or, the Whale",
          "The Red Tent",
          "The Secret Life of Bees",
          "Harry Potter and the Goblet of Fire (Harry Potter, #4)",
          "Clockwork Angel (The Infernal Devices, #1)",
          "And Then There Were None",
          "Middlesex",
          "Harry Potter and the Half-Blood Prince (Harry Potter, #6)",
          "The Stranger",
          "The Master and Margarita",
          "The Name of the Wind (The Kingkiller Chronicle, #1)",
          "The Shining",
          "The Adventures of Tom Sawyer",
          "Eragon (The Inheritance Cycle, #1)",
          "Charlie and the Chocolate Factory (Charlie Bucket, #1)",
          "Flowers for Algernon",
          "On the Road",
          "Looking for Alaska",
          "The Metamorphosis",
          "The Shadow of the Wind (The Cemetery of Forgotten Books, #1)",
          "The Curious Incident of the Dog in the Night-Time",
          "The Very Hungry Caterpillar",
          "Tuesdays with Morrie",
          "The Unbearable Lightness of Being",
          "The Name of the Rose",
          "Where the Red Fern Grows",
          "The Scarlet Letter",
          "The Godfather",
          "Harry Potter and the Chamber of Secrets (Harry Potter, #2)",
          "In Cold Blood",
          "The Five People You Meet in Heaven",
          "Fight Club",
          "Hush, Hush (Hush, Hush, #1)",
          "Lonesome Dove",
          "The Cat in the Hat",
          "American Gods (American Gods, #1)",
          "Holes (Holes, #1)",
          "Perfume: The Story of a Murderer",
          "The Count of Monte Cristo",
          "The Lion, the Witch and the Wardrobe (Chronicles of Narnia, #1)",
          "It",
          "Watchmen",
          "The Little House Collection (Little House, #1-9)",
          "The Last Olympian (Percy Jackson and the Olympians, #5)",
          "The Divine Comedy",
          "Peter Pan",
          "All Quiet on the Western Front",
          "The Compleat Works of Wllm Shkspr",
          "Love in the Time of Cholera",
          "Shadow Kiss (Vampire Academy, #3)",
          "The Hobbit, or There and Back Again",
          "A Walk to Remember",
          "The Thorn Birds",
          "Insurgent (Divergent, #2)",
          "The Ultimate Hitchhiker's Guide to the Galaxy (Hitchhiker's Guide to the Galaxy, #1-5)",
          "How the Grinch Stole Christmas!",
          "Atonement",
          "The Importance of Being Earnest",
          "Eat, Pray, Love",
          "Their Eyes Were Watching God",
          "The Three Musketeers (The D'Artagnan Romances, #1)",
          "The Wonderful Wizard of Oz (Oz, #1)",
          "Frostbite (Vampire Academy, #2)",
          "Goodnight Moon",
          "The Lorax",
          "Good Omens: The Nice and Accurate Prophecies of Agnes Nutter, Witch",
          "Blood Promise (Vampire Academy, #4)",
          "Tess of the D'Urbervilles",
          "The Good Earth (House of Earth, #1)",
          "Heart of Darkness",
          "A Midsummer Night's Dream",
          "The Prophet",
          "The Battle of the Labyrinth (Percy Jackson and the Olympians, #4)",
          "The Mists of Avalon (Avalon, #1)",
          "Clockwork Princess (The Infernal Devices, #3)",
          "The Sea of Monsters (Percy Jackson and the Olympians, #2)",
          "The Titan's Curse (Percy Jackson and the Olympians, #3)",
          "The Joy Luck Club",
          "Alice in Wonderland",
          "The Call of the Wild",
          "Jonathan Livingston Seagull",
          "Madame Bovary",
          "The Phantom Tollbooth",
          "Bridge to Terabithia",
          "Oh, the Places You'll Go!",
          "The Girl Who Played with Fire (Millennium, #2)",
          "The Hunger Games Trilogy Boxset (The Hunger Games, #1-3)",
          "The Maze Runner (The Maze Runner, #1)",
          "Oliver Twist",
          "Ulysses",
          "The Neverending Story",
          "Treasure Island",
          "Fifty Shades of Grey (Fifty Shades, #1)",
          "The Clan of the Cave Bear",
          "The Canterbury Tales",
          "The World According to Garp",
          "A Storm of Swords (A Song of Ice and Fire, #3)",
          "A Farewell to Arms",
          "David Copperfield",
          "Thirteen Reasons Why"
         ],
         "y": [
          170045,
          40814,
          89315,
          64576,
          102549,
          111235,
          53727,
          10182,
          1737,
          19462,
          154147,
          29116,
          17383,
          35775,
          46500,
          29573,
          29191,
          10329,
          40921,
          17104,
          107502,
          46138,
          18923,
          36308,
          77833,
          18325,
          56444,
          65562,
          42842,
          60683,
          84130,
          21749,
          17582,
          37961,
          46900,
          33216,
          108719,
          24661,
          29098,
          29606,
          19780,
          56039,
          18086,
          52897,
          58892,
          33462,
          53906,
          15210,
          40122,
          32371,
          11582,
          9213,
          11881,
          46826,
          17044,
          58529,
          23929,
          26286,
          31839,
          72086,
          68523,
          64335,
          17852,
          20979,
          30725,
          19607,
          6547,
          13441,
          15616,
          10621,
          22362,
          23342,
          29427,
          33215,
          44736,
          68102,
          63849,
          15965,
          21719,
          22191,
          14486,
          20191,
          67126,
          13391,
          45022,
          10667,
          11734,
          21932,
          22953,
          16870,
          21641,
          7800,
          17066,
          24262,
          53478,
          19737,
          4620,
          2169,
          13594,
          9963,
          15165,
          19051,
          30087,
          44868,
          30753,
          31315,
          22956,
          38090,
          22355,
          11056,
          40786,
          23558,
          9703,
          21760,
          11609,
          17626,
          14650,
          55438,
          16730,
          34326,
          43483,
          7757,
          25292,
          14870,
          8608,
          10904,
          14430,
          8398,
          50944,
          16163,
          20266,
          14142,
          24568,
          7292,
          5706,
          37874,
          20053,
          13958,
          20645,
          21084,
          24494,
          13783,
          2168,
          22532,
          3724,
          10960,
          10148,
          131,
          19624,
          11174,
          47030,
          12923,
          5838,
          58483,
          5206,
          3148,
          17042,
          8958,
          53447,
          12989,
          6589,
          12360,
          11198,
          5733,
          4015,
          26623,
          9705,
          8497,
          9706,
          13524,
          7877,
          9210,
          18462,
          6630,
          29081,
          25957,
          20185,
          9028,
          5348,
          10718,
          7699,
          10283,
          10072,
          12142,
          5159,
          33898,
          6827,
          55211,
          7294,
          6610,
          6326,
          11290,
          78264,
          6448,
          3244,
          5381,
          21969,
          9414,
          6329,
          51526
         ]
        }
       ],
       "layout": {
        "legend": {
         "bgcolor": "#F2F3F7",
         "font": {
          "color": "#505050"
         }
        },
        "paper_bgcolor": "#F2F3F7",
        "plot_bgcolor": "#F2F3F7",
        "template": {
         "data": {
          "bar": [
           {
            "error_x": {
             "color": "#2a3f5f"
            },
            "error_y": {
             "color": "#2a3f5f"
            },
            "marker": {
             "line": {
              "color": "#E5ECF6",
              "width": 0.5
             }
            },
            "type": "bar"
           }
          ],
          "barpolar": [
           {
            "marker": {
             "line": {
              "color": "#E5ECF6",
              "width": 0.5
             }
            },
            "type": "barpolar"
           }
          ],
          "carpet": [
           {
            "aaxis": {
             "endlinecolor": "#2a3f5f",
             "gridcolor": "white",
             "linecolor": "white",
             "minorgridcolor": "white",
             "startlinecolor": "#2a3f5f"
            },
            "baxis": {
             "endlinecolor": "#2a3f5f",
             "gridcolor": "white",
             "linecolor": "white",
             "minorgridcolor": "white",
             "startlinecolor": "#2a3f5f"
            },
            "type": "carpet"
           }
          ],
          "choropleth": [
           {
            "colorbar": {
             "outlinewidth": 0,
             "ticks": ""
            },
            "type": "choropleth"
           }
          ],
          "contour": [
           {
            "colorbar": {
             "outlinewidth": 0,
             "ticks": ""
            },
            "colorscale": [
             [
              0,
              "#0d0887"
             ],
             [
              0.1111111111111111,
              "#46039f"
             ],
             [
              0.2222222222222222,
              "#7201a8"
             ],
             [
              0.3333333333333333,
              "#9c179e"
             ],
             [
              0.4444444444444444,
              "#bd3786"
             ],
             [
              0.5555555555555556,
              "#d8576b"
             ],
             [
              0.6666666666666666,
              "#ed7953"
             ],
             [
              0.7777777777777778,
              "#fb9f3a"
             ],
             [
              0.8888888888888888,
              "#fdca26"
             ],
             [
              1,
              "#f0f921"
             ]
            ],
            "type": "contour"
           }
          ],
          "contourcarpet": [
           {
            "colorbar": {
             "outlinewidth": 0,
             "ticks": ""
            },
            "type": "contourcarpet"
           }
          ],
          "heatmap": [
           {
            "colorbar": {
             "outlinewidth": 0,
             "ticks": ""
            },
            "colorscale": [
             [
              0,
              "#0d0887"
             ],
             [
              0.1111111111111111,
              "#46039f"
             ],
             [
              0.2222222222222222,
              "#7201a8"
             ],
             [
              0.3333333333333333,
              "#9c179e"
             ],
             [
              0.4444444444444444,
              "#bd3786"
             ],
             [
              0.5555555555555556,
              "#d8576b"
             ],
             [
              0.6666666666666666,
              "#ed7953"
             ],
             [
              0.7777777777777778,
              "#fb9f3a"
             ],
             [
              0.8888888888888888,
              "#fdca26"
             ],
             [
              1,
              "#f0f921"
             ]
            ],
            "type": "heatmap"
           }
          ],
          "heatmapgl": [
           {
            "colorbar": {
             "outlinewidth": 0,
             "ticks": ""
            },
            "colorscale": [
             [
              0,
              "#0d0887"
             ],
             [
              0.1111111111111111,
              "#46039f"
             ],
             [
              0.2222222222222222,
              "#7201a8"
             ],
             [
              0.3333333333333333,
              "#9c179e"
             ],
             [
              0.4444444444444444,
              "#bd3786"
             ],
             [
              0.5555555555555556,
              "#d8576b"
             ],
             [
              0.6666666666666666,
              "#ed7953"
             ],
             [
              0.7777777777777778,
              "#fb9f3a"
             ],
             [
              0.8888888888888888,
              "#fdca26"
             ],
             [
              1,
              "#f0f921"
             ]
            ],
            "type": "heatmapgl"
           }
          ],
          "histogram": [
           {
            "marker": {
             "colorbar": {
              "outlinewidth": 0,
              "ticks": ""
             }
            },
            "type": "histogram"
           }
          ],
          "histogram2d": [
           {
            "colorbar": {
             "outlinewidth": 0,
             "ticks": ""
            },
            "colorscale": [
             [
              0,
              "#0d0887"
             ],
             [
              0.1111111111111111,
              "#46039f"
             ],
             [
              0.2222222222222222,
              "#7201a8"
             ],
             [
              0.3333333333333333,
              "#9c179e"
             ],
             [
              0.4444444444444444,
              "#bd3786"
             ],
             [
              0.5555555555555556,
              "#d8576b"
             ],
             [
              0.6666666666666666,
              "#ed7953"
             ],
             [
              0.7777777777777778,
              "#fb9f3a"
             ],
             [
              0.8888888888888888,
              "#fdca26"
             ],
             [
              1,
              "#f0f921"
             ]
            ],
            "type": "histogram2d"
           }
          ],
          "histogram2dcontour": [
           {
            "colorbar": {
             "outlinewidth": 0,
             "ticks": ""
            },
            "colorscale": [
             [
              0,
              "#0d0887"
             ],
             [
              0.1111111111111111,
              "#46039f"
             ],
             [
              0.2222222222222222,
              "#7201a8"
             ],
             [
              0.3333333333333333,
              "#9c179e"
             ],
             [
              0.4444444444444444,
              "#bd3786"
             ],
             [
              0.5555555555555556,
              "#d8576b"
             ],
             [
              0.6666666666666666,
              "#ed7953"
             ],
             [
              0.7777777777777778,
              "#fb9f3a"
             ],
             [
              0.8888888888888888,
              "#fdca26"
             ],
             [
              1,
              "#f0f921"
             ]
            ],
            "type": "histogram2dcontour"
           }
          ],
          "mesh3d": [
           {
            "colorbar": {
             "outlinewidth": 0,
             "ticks": ""
            },
            "type": "mesh3d"
           }
          ],
          "parcoords": [
           {
            "line": {
             "colorbar": {
              "outlinewidth": 0,
              "ticks": ""
             }
            },
            "type": "parcoords"
           }
          ],
          "pie": [
           {
            "automargin": true,
            "type": "pie"
           }
          ],
          "scatter": [
           {
            "marker": {
             "colorbar": {
              "outlinewidth": 0,
              "ticks": ""
             }
            },
            "type": "scatter"
           }
          ],
          "scatter3d": [
           {
            "line": {
             "colorbar": {
              "outlinewidth": 0,
              "ticks": ""
             }
            },
            "marker": {
             "colorbar": {
              "outlinewidth": 0,
              "ticks": ""
             }
            },
            "type": "scatter3d"
           }
          ],
          "scattercarpet": [
           {
            "marker": {
             "colorbar": {
              "outlinewidth": 0,
              "ticks": ""
             }
            },
            "type": "scattercarpet"
           }
          ],
          "scattergeo": [
           {
            "marker": {
             "colorbar": {
              "outlinewidth": 0,
              "ticks": ""
             }
            },
            "type": "scattergeo"
           }
          ],
          "scattergl": [
           {
            "marker": {
             "colorbar": {
              "outlinewidth": 0,
              "ticks": ""
             }
            },
            "type": "scattergl"
           }
          ],
          "scattermapbox": [
           {
            "marker": {
             "colorbar": {
              "outlinewidth": 0,
              "ticks": ""
             }
            },
            "type": "scattermapbox"
           }
          ],
          "scatterpolar": [
           {
            "marker": {
             "colorbar": {
              "outlinewidth": 0,
              "ticks": ""
             }
            },
            "type": "scatterpolar"
           }
          ],
          "scatterpolargl": [
           {
            "marker": {
             "colorbar": {
              "outlinewidth": 0,
              "ticks": ""
             }
            },
            "type": "scatterpolargl"
           }
          ],
          "scatterternary": [
           {
            "marker": {
             "colorbar": {
              "outlinewidth": 0,
              "ticks": ""
             }
            },
            "type": "scatterternary"
           }
          ],
          "surface": [
           {
            "colorbar": {
             "outlinewidth": 0,
             "ticks": ""
            },
            "colorscale": [
             [
              0,
              "#0d0887"
             ],
             [
              0.1111111111111111,
              "#46039f"
             ],
             [
              0.2222222222222222,
              "#7201a8"
             ],
             [
              0.3333333333333333,
              "#9c179e"
             ],
             [
              0.4444444444444444,
              "#bd3786"
             ],
             [
              0.5555555555555556,
              "#d8576b"
             ],
             [
              0.6666666666666666,
              "#ed7953"
             ],
             [
              0.7777777777777778,
              "#fb9f3a"
             ],
             [
              0.8888888888888888,
              "#fdca26"
             ],
             [
              1,
              "#f0f921"
             ]
            ],
            "type": "surface"
           }
          ],
          "table": [
           {
            "cells": {
             "fill": {
              "color": "#EBF0F8"
             },
             "line": {
              "color": "white"
             }
            },
            "header": {
             "fill": {
              "color": "#C8D4E3"
             },
             "line": {
              "color": "white"
             }
            },
            "type": "table"
           }
          ]
         },
         "layout": {
          "annotationdefaults": {
           "arrowcolor": "#2a3f5f",
           "arrowhead": 0,
           "arrowwidth": 1
          },
          "coloraxis": {
           "colorbar": {
            "outlinewidth": 0,
            "ticks": ""
           }
          },
          "colorscale": {
           "diverging": [
            [
             0,
             "#8e0152"
            ],
            [
             0.1,
             "#c51b7d"
            ],
            [
             0.2,
             "#de77ae"
            ],
            [
             0.3,
             "#f1b6da"
            ],
            [
             0.4,
             "#fde0ef"
            ],
            [
             0.5,
             "#f7f7f7"
            ],
            [
             0.6,
             "#e6f5d0"
            ],
            [
             0.7,
             "#b8e186"
            ],
            [
             0.8,
             "#7fbc41"
            ],
            [
             0.9,
             "#4d9221"
            ],
            [
             1,
             "#276419"
            ]
           ],
           "sequential": [
            [
             0,
             "#0d0887"
            ],
            [
             0.1111111111111111,
             "#46039f"
            ],
            [
             0.2222222222222222,
             "#7201a8"
            ],
            [
             0.3333333333333333,
             "#9c179e"
            ],
            [
             0.4444444444444444,
             "#bd3786"
            ],
            [
             0.5555555555555556,
             "#d8576b"
            ],
            [
             0.6666666666666666,
             "#ed7953"
            ],
            [
             0.7777777777777778,
             "#fb9f3a"
            ],
            [
             0.8888888888888888,
             "#fdca26"
            ],
            [
             1,
             "#f0f921"
            ]
           ],
           "sequentialminus": [
            [
             0,
             "#0d0887"
            ],
            [
             0.1111111111111111,
             "#46039f"
            ],
            [
             0.2222222222222222,
             "#7201a8"
            ],
            [
             0.3333333333333333,
             "#9c179e"
            ],
            [
             0.4444444444444444,
             "#bd3786"
            ],
            [
             0.5555555555555556,
             "#d8576b"
            ],
            [
             0.6666666666666666,
             "#ed7953"
            ],
            [
             0.7777777777777778,
             "#fb9f3a"
            ],
            [
             0.8888888888888888,
             "#fdca26"
            ],
            [
             1,
             "#f0f921"
            ]
           ]
          },
          "colorway": [
           "#636efa",
           "#EF553B",
           "#00cc96",
           "#ab63fa",
           "#FFA15A",
           "#19d3f3",
           "#FF6692",
           "#B6E880",
           "#FF97FF",
           "#FECB52"
          ],
          "font": {
           "color": "#2a3f5f"
          },
          "geo": {
           "bgcolor": "white",
           "lakecolor": "white",
           "landcolor": "#E5ECF6",
           "showlakes": true,
           "showland": true,
           "subunitcolor": "white"
          },
          "hoverlabel": {
           "align": "left"
          },
          "hovermode": "closest",
          "mapbox": {
           "style": "light"
          },
          "paper_bgcolor": "white",
          "plot_bgcolor": "#E5ECF6",
          "polar": {
           "angularaxis": {
            "gridcolor": "white",
            "linecolor": "white",
            "ticks": ""
           },
           "bgcolor": "#E5ECF6",
           "radialaxis": {
            "gridcolor": "white",
            "linecolor": "white",
            "ticks": ""
           }
          },
          "scene": {
           "xaxis": {
            "backgroundcolor": "#E5ECF6",
            "gridcolor": "white",
            "gridwidth": 2,
            "linecolor": "white",
            "showbackground": true,
            "ticks": "",
            "zerolinecolor": "white"
           },
           "yaxis": {
            "backgroundcolor": "#E5ECF6",
            "gridcolor": "white",
            "gridwidth": 2,
            "linecolor": "white",
            "showbackground": true,
            "ticks": "",
            "zerolinecolor": "white"
           },
           "zaxis": {
            "backgroundcolor": "#E5ECF6",
            "gridcolor": "white",
            "gridwidth": 2,
            "linecolor": "white",
            "showbackground": true,
            "ticks": "",
            "zerolinecolor": "white"
           }
          },
          "shapedefaults": {
           "line": {
            "color": "#2a3f5f"
           }
          },
          "ternary": {
           "aaxis": {
            "gridcolor": "white",
            "linecolor": "white",
            "ticks": ""
           },
           "baxis": {
            "gridcolor": "white",
            "linecolor": "white",
            "ticks": ""
           },
           "bgcolor": "#E5ECF6",
           "caxis": {
            "gridcolor": "white",
            "linecolor": "white",
            "ticks": ""
           }
          },
          "title": {
           "x": 0.05
          },
          "xaxis": {
           "automargin": true,
           "gridcolor": "white",
           "linecolor": "white",
           "ticks": "",
           "title": {
            "standoff": 15
           },
           "zerolinecolor": "white",
           "zerolinewidth": 2
          },
          "yaxis": {
           "automargin": true,
           "gridcolor": "white",
           "linecolor": "white",
           "ticks": "",
           "title": {
            "standoff": 15
           },
           "zerolinecolor": "white",
           "zerolinewidth": 2
          }
         }
        },
        "title": {
         "font": {
          "color": "#484848"
         },
         "text": "Review count of each book"
        },
        "xaxis": {
         "gridcolor": "#E1E5ED",
         "showgrid": true,
         "tickfont": {
          "color": "#505050"
         },
         "title": {
          "font": {
           "color": "#505050"
          },
          "text": ""
         },
         "zerolinecolor": "#E1E5ED"
        },
        "yaxis": {
         "gridcolor": "#E1E5ED",
         "showgrid": true,
         "tickfont": {
          "color": "#505050"
         },
         "title": {
          "font": {
           "color": "#505050"
          },
          "text": "Review Count"
         },
         "zerolinecolor": "#E1E5ED"
        }
       }
      },
      "text/html": [
       "<div>\n",
       "        \n",
       "        \n",
       "            <div id=\"223ccb8d-8ae9-4866-a317-a6b78e54ac88\" class=\"plotly-graph-div\" style=\"height:525px; width:100%;\"></div>\n",
       "            <script type=\"text/javascript\">\n",
       "                require([\"plotly\"], function(Plotly) {\n",
       "                    window.PLOTLYENV=window.PLOTLYENV || {};\n",
       "                    window.PLOTLYENV.BASE_URL='https://plot.ly';\n",
       "                    \n",
       "                if (document.getElementById(\"223ccb8d-8ae9-4866-a317-a6b78e54ac88\")) {\n",
       "                    Plotly.newPlot(\n",
       "                        '223ccb8d-8ae9-4866-a317-a6b78e54ac88',\n",
       "                        [{\"marker\": {\"color\": \"rgba(199, 21, 133, 0.6)\", \"line\": {\"color\": \"rgba(199, 21, 133, 1.0)\", \"width\": 1}}, \"name\": \"review_count\", \"orientation\": \"v\", \"text\": \"\", \"type\": \"bar\", \"x\": [\"The Hunger Games (The Hunger Games, #1)\", \"Harry Potter and the Order of the Phoenix (Harry Potter, #5)\", \"To Kill a Mockingbird\", \"Pride and Prejudice\", \"Twilight (Twilight, #1)\", \"The Book Thief\", \"Animal Farm\", \"The Chronicles of Narnia (Chronicles of Narnia, #1-7)\", \"J.R.R. Tolkien 4-Book Boxed Set: The Hobbit and The Lord of the Rings\", \"Gone with the Wind\", \"The Fault in Our Stars\", \"The Hitchhiker's Guide to the Galaxy (Hitchhiker's Guide to the Galaxy, #1)\", \"The Giving Tree\", \"Wuthering Heights\", \"The Da Vinci Code (Robert Langdon, #2)\", \"Memoirs of a Geisha\", \"The Picture of Dorian Gray\", \"Alice's Adventures in Wonderland & Through the Looking-Glass\", \"Jane Eyre\", \"Les Mis\\u00e9rables\", \"Divergent (Divergent, #1)\", \"Fahrenheit 451\", \"Romeo and Juliet\", \"Lord of the Flies\", \"The Alchemist\", \"Crime and Punishment\", \"The Perks of Being a Wallflower\", \"The Great Gatsby\", \"Ender's Game (Ender's Saga, #1)\", \"City of Bones (The Mortal Instruments, #1)\", \"The Help\", \"Anne of Green Gables (Anne of Green Gables, #1)\", \"Charlotte's Web\", \"The Little Prince\", \"The Time Traveler's Wife\", \"Of Mice and Men\", \"Harry Potter and the Sorcerer's Stone (Harry Potter, #1)\", \"Dracula\", \"Brave New World\", \"One Hundred Years of Solitude\", \"The Princess Bride\", \"The Catcher in the Rye\", \"The Secret Garden\", \"A Thousand Splendid Suns\", \"The Lightning Thief (Percy Jackson and the Olympians, #1)\", \"A Wrinkle in Time (Time Quintet, #1)\", \"A Game of Thrones (A Song of Ice and Fire, #1)\", \"The Adventures of Huckleberry Finn\", \"The Lovely Bones\", \"The Outsiders\", \"Where the Wild Things Are\", \"Green Eggs and Ham\", \"The Odyssey\", \"Life of Pi\", \"A Tale of Two Cities\", \"Water for Elephants\", \"Lolita\", \"Slaughterhouse-Five\", \"Frankenstein: The 1818 Text\", \"The Kite Runner\", \"The Handmaid's Tale (The Handmaid's Tale, #1)\", \"The Giver (The Giver, #1)\", \"Catch-22 (Catch-22, #1)\", \"Dune (Dune, #1)\", \"The Pillars of the Earth (Kingsbridge, #1)\", \"The Stand\", \"The Adventures of Sherlock Holmes\", \"Watership Down (Watership Down, #1)\", \"Great Expectations\", \"One Flew Over the Cuckoo's Nest\", \"The Bell Jar\", \"Anna Karenina\", \"Little Women\", \"My Sister's Keeper\", \"Outlander (Outlander, #1)\", \"The Girl with the Dragon Tattoo (Millennium, #1)\", \"Harry Potter and the Deathly Hallows (Harry Potter, #7)\", \"Matilda\", \"The Fellowship of the Ring (The Lord of the Rings, #1)\", \"Rebecca\", \"The Color Purple\", \"A Tree Grows in Brooklyn\", \"1984\", \"A Clockwork Orange\", \"The Road\", \"The Brothers Karamazov\", \"Angela's Ashes (Frank McCourt, #1)\", \"Vampire Academy (Vampire Academy, #1)\", \"The Poisonwood Bible\", \"Siddhartha\", \"The Golden Compass (His Dark Materials, #1)\", \"Don Quixote\", \"Atlas Shrugged\", \"The Old Man and the Sea\", \"Harry Potter and the Prisoner of Azkaban (Harry Potter, #3)\", \"The Notebook (The Notebook, #1)\", \"Winnie-the-Pooh (Winnie-the-Pooh, #1)\", \"The Complete Stories and Poems\", \"A Prayer for Owen Meany\", \"Interview with the Vampire (The Vampire Chronicles, #1)\", \"Moby-Dick or, the Whale\", \"The Red Tent\", \"The Secret Life of Bees\", \"Harry Potter and the Goblet of Fire (Harry Potter, #4)\", \"Clockwork Angel (The Infernal Devices, #1)\", \"And Then There Were None\", \"Middlesex\", \"Harry Potter and the Half-Blood Prince (Harry Potter, #6)\", \"The Stranger\", \"The Master and Margarita\", \"The Name of the Wind (The Kingkiller Chronicle, #1)\", \"The Shining\", \"The Adventures of Tom Sawyer\", \"Eragon (The Inheritance Cycle, #1)\", \"Charlie and the Chocolate Factory (Charlie Bucket, #1)\", \"Flowers for Algernon\", \"On the Road\", \"Looking for Alaska\", \"The Metamorphosis\", \"The Shadow of the Wind (The Cemetery of Forgotten Books, #1)\", \"The Curious Incident of the Dog in the Night-Time\", \"The Very Hungry Caterpillar\", \"Tuesdays with Morrie\", \"The Unbearable Lightness of Being\", \"The Name of the Rose\", \"Where the Red Fern Grows\", \"The Scarlet Letter\", \"The Godfather\", \"Harry Potter and the Chamber of Secrets (Harry Potter, #2)\", \"In Cold Blood\", \"The Five People You Meet in Heaven\", \"Fight Club\", \"Hush, Hush (Hush, Hush, #1)\", \"Lonesome Dove\", \"The Cat in the Hat\", \"American Gods (American Gods, #1)\", \"Holes (Holes, #1)\", \"Perfume: The Story of a Murderer\", \"The Count of Monte Cristo\", \"The Lion, the Witch and the Wardrobe (Chronicles of Narnia, #1)\", \"It\", \"Watchmen\", \"The Little House Collection (Little House, #1-9)\", \"The Last Olympian (Percy Jackson and the Olympians, #5)\", \"The Divine Comedy\", \"Peter Pan\", \"All Quiet on the Western Front\", \"The Compleat Works of Wllm Shkspr\", \"Love in the Time of Cholera\", \"Shadow Kiss (Vampire Academy, #3)\", \"The Hobbit, or There and Back Again\", \"A Walk to Remember\", \"The Thorn Birds\", \"Insurgent (Divergent, #2)\", \"The Ultimate Hitchhiker's Guide to the Galaxy (Hitchhiker's Guide to the Galaxy, #1-5)\", \"How the Grinch Stole Christmas!\", \"Atonement\", \"The Importance of Being Earnest\", \"Eat, Pray, Love\", \"Their Eyes Were Watching God\", \"The Three Musketeers (The D'Artagnan Romances, #1)\", \"The Wonderful Wizard of Oz (Oz, #1)\", \"Frostbite (Vampire Academy, #2)\", \"Goodnight Moon\", \"The Lorax\", \"Good Omens: The Nice and Accurate Prophecies of Agnes Nutter, Witch\", \"Blood Promise (Vampire Academy, #4)\", \"Tess of the D'Urbervilles\", \"The Good Earth (House of Earth, #1)\", \"Heart of Darkness\", \"A Midsummer Night's Dream\", \"The Prophet\", \"The Battle of the Labyrinth (Percy Jackson and the Olympians, #4)\", \"The Mists of Avalon (Avalon, #1)\", \"Clockwork Princess (The Infernal Devices, #3)\", \"The Sea of Monsters (Percy Jackson and the Olympians, #2)\", \"The Titan's Curse (Percy Jackson and the Olympians, #3)\", \"The Joy Luck Club\", \"Alice in Wonderland\", \"The Call of the Wild\", \"Jonathan Livingston Seagull\", \"Madame Bovary\", \"The Phantom Tollbooth\", \"Bridge to Terabithia\", \"Oh, the Places You'll Go!\", \"The Girl Who Played with Fire (Millennium, #2)\", \"The Hunger Games Trilogy Boxset (The Hunger Games, #1-3)\", \"The Maze Runner (The Maze Runner, #1)\", \"Oliver Twist\", \"Ulysses\", \"The Neverending Story\", \"Treasure Island\", \"Fifty Shades of Grey (Fifty Shades, #1)\", \"The Clan of the Cave Bear\", \"The Canterbury Tales\", \"The World According to Garp\", \"A Storm of Swords (A Song of Ice and Fire, #3)\", \"A Farewell to Arms\", \"David Copperfield\", \"Thirteen Reasons Why\"], \"y\": [170045.0, 40814.0, 89315.0, 64576.0, 102549.0, 111235.0, 53727.0, 10182.0, 1737.0, 19462.0, 154147.0, 29116.0, 17383.0, 35775.0, 46500.0, 29573.0, 29191.0, 10329.0, 40921.0, 17104.0, 107502.0, 46138.0, 18923.0, 36308.0, 77833.0, 18325.0, 56444.0, 65562.0, 42842.0, 60683.0, 84130.0, 21749.0, 17582.0, 37961.0, 46900.0, 33216.0, 108719.0, 24661.0, 29098.0, 29606.0, 19780.0, 56039.0, 18086.0, 52897.0, 58892.0, 33462.0, 53906.0, 15210.0, 40122.0, 32371.0, 11582.0, 9213.0, 11881.0, 46826.0, 17044.0, 58529.0, 23929.0, 26286.0, 31839.0, 72086.0, 68523.0, 64335.0, 17852.0, 20979.0, 30725.0, 19607.0, 6547.0, 13441.0, 15616.0, 10621.0, 22362.0, 23342.0, 29427.0, 33215.0, 44736.0, 68102.0, 63849.0, 15965.0, 21719.0, 22191.0, 14486.0, 20191.0, 67126.0, 13391.0, 45022.0, 10667.0, 11734.0, 21932.0, 22953.0, 16870.0, 21641.0, 7800.0, 17066.0, 24262.0, 53478.0, 19737.0, 4620.0, 2169.0, 13594.0, 9963.0, 15165.0, 19051.0, 30087.0, 44868.0, 30753.0, 31315.0, 22956.0, 38090.0, 22355.0, 11056.0, 40786.0, 23558.0, 9703.0, 21760.0, 11609.0, 17626.0, 14650.0, 55438.0, 16730.0, 34326.0, 43483.0, 7757.0, 25292.0, 14870.0, 8608.0, 10904.0, 14430.0, 8398.0, 50944.0, 16163.0, 20266.0, 14142.0, 24568.0, 7292.0, 5706.0, 37874.0, 20053.0, 13958.0, 20645.0, 21084.0, 24494.0, 13783.0, 2168.0, 22532.0, 3724.0, 10960.0, 10148.0, 131.0, 19624.0, 11174.0, 47030.0, 12923.0, 5838.0, 58483.0, 5206.0, 3148.0, 17042.0, 8958.0, 53447.0, 12989.0, 6589.0, 12360.0, 11198.0, 5733.0, 4015.0, 26623.0, 9705.0, 8497.0, 9706.0, 13524.0, 7877.0, 9210.0, 18462.0, 6630.0, 29081.0, 25957.0, 20185.0, 9028.0, 5348.0, 10718.0, 7699.0, 10283.0, 10072.0, 12142.0, 5159.0, 33898.0, 6827.0, 55211.0, 7294.0, 6610.0, 6326.0, 11290.0, 78264.0, 6448.0, 3244.0, 5381.0, 21969.0, 9414.0, 6329.0, 51526.0]}],\n",
       "                        {\"legend\": {\"bgcolor\": \"#F2F3F7\", \"font\": {\"color\": \"#505050\"}}, \"paper_bgcolor\": \"#F2F3F7\", \"plot_bgcolor\": \"#F2F3F7\", \"template\": {\"data\": {\"bar\": [{\"error_x\": {\"color\": \"#2a3f5f\"}, \"error_y\": {\"color\": \"#2a3f5f\"}, \"marker\": {\"line\": {\"color\": \"#E5ECF6\", \"width\": 0.5}}, \"type\": \"bar\"}], \"barpolar\": [{\"marker\": {\"line\": {\"color\": \"#E5ECF6\", \"width\": 0.5}}, \"type\": \"barpolar\"}], \"carpet\": [{\"aaxis\": {\"endlinecolor\": \"#2a3f5f\", \"gridcolor\": \"white\", \"linecolor\": \"white\", \"minorgridcolor\": \"white\", \"startlinecolor\": \"#2a3f5f\"}, \"baxis\": {\"endlinecolor\": \"#2a3f5f\", \"gridcolor\": \"white\", \"linecolor\": \"white\", \"minorgridcolor\": \"white\", \"startlinecolor\": \"#2a3f5f\"}, \"type\": \"carpet\"}], \"choropleth\": [{\"colorbar\": {\"outlinewidth\": 0, \"ticks\": \"\"}, \"type\": \"choropleth\"}], \"contour\": [{\"colorbar\": {\"outlinewidth\": 0, \"ticks\": \"\"}, \"colorscale\": [[0.0, \"#0d0887\"], [0.1111111111111111, \"#46039f\"], [0.2222222222222222, \"#7201a8\"], [0.3333333333333333, \"#9c179e\"], [0.4444444444444444, \"#bd3786\"], [0.5555555555555556, \"#d8576b\"], [0.6666666666666666, \"#ed7953\"], [0.7777777777777778, \"#fb9f3a\"], [0.8888888888888888, \"#fdca26\"], [1.0, \"#f0f921\"]], \"type\": \"contour\"}], \"contourcarpet\": [{\"colorbar\": {\"outlinewidth\": 0, \"ticks\": \"\"}, \"type\": \"contourcarpet\"}], \"heatmap\": [{\"colorbar\": {\"outlinewidth\": 0, \"ticks\": \"\"}, \"colorscale\": [[0.0, \"#0d0887\"], [0.1111111111111111, \"#46039f\"], [0.2222222222222222, \"#7201a8\"], [0.3333333333333333, \"#9c179e\"], [0.4444444444444444, \"#bd3786\"], [0.5555555555555556, \"#d8576b\"], [0.6666666666666666, \"#ed7953\"], [0.7777777777777778, \"#fb9f3a\"], [0.8888888888888888, \"#fdca26\"], [1.0, \"#f0f921\"]], \"type\": \"heatmap\"}], \"heatmapgl\": [{\"colorbar\": {\"outlinewidth\": 0, \"ticks\": \"\"}, \"colorscale\": [[0.0, \"#0d0887\"], [0.1111111111111111, \"#46039f\"], [0.2222222222222222, \"#7201a8\"], [0.3333333333333333, \"#9c179e\"], [0.4444444444444444, \"#bd3786\"], [0.5555555555555556, \"#d8576b\"], [0.6666666666666666, \"#ed7953\"], [0.7777777777777778, \"#fb9f3a\"], [0.8888888888888888, \"#fdca26\"], [1.0, \"#f0f921\"]], \"type\": \"heatmapgl\"}], \"histogram\": [{\"marker\": {\"colorbar\": {\"outlinewidth\": 0, \"ticks\": \"\"}}, \"type\": \"histogram\"}], \"histogram2d\": [{\"colorbar\": {\"outlinewidth\": 0, \"ticks\": \"\"}, \"colorscale\": [[0.0, \"#0d0887\"], [0.1111111111111111, \"#46039f\"], [0.2222222222222222, \"#7201a8\"], [0.3333333333333333, \"#9c179e\"], [0.4444444444444444, \"#bd3786\"], [0.5555555555555556, \"#d8576b\"], [0.6666666666666666, \"#ed7953\"], [0.7777777777777778, \"#fb9f3a\"], [0.8888888888888888, \"#fdca26\"], [1.0, \"#f0f921\"]], \"type\": \"histogram2d\"}], \"histogram2dcontour\": [{\"colorbar\": {\"outlinewidth\": 0, \"ticks\": \"\"}, \"colorscale\": [[0.0, \"#0d0887\"], [0.1111111111111111, \"#46039f\"], [0.2222222222222222, \"#7201a8\"], [0.3333333333333333, \"#9c179e\"], [0.4444444444444444, \"#bd3786\"], [0.5555555555555556, \"#d8576b\"], [0.6666666666666666, \"#ed7953\"], [0.7777777777777778, \"#fb9f3a\"], [0.8888888888888888, \"#fdca26\"], [1.0, \"#f0f921\"]], \"type\": \"histogram2dcontour\"}], \"mesh3d\": [{\"colorbar\": {\"outlinewidth\": 0, \"ticks\": \"\"}, \"type\": \"mesh3d\"}], \"parcoords\": [{\"line\": {\"colorbar\": {\"outlinewidth\": 0, \"ticks\": \"\"}}, \"type\": \"parcoords\"}], \"pie\": [{\"automargin\": true, \"type\": \"pie\"}], \"scatter\": [{\"marker\": {\"colorbar\": {\"outlinewidth\": 0, \"ticks\": \"\"}}, \"type\": \"scatter\"}], \"scatter3d\": [{\"line\": {\"colorbar\": {\"outlinewidth\": 0, \"ticks\": \"\"}}, \"marker\": {\"colorbar\": {\"outlinewidth\": 0, \"ticks\": \"\"}}, \"type\": \"scatter3d\"}], \"scattercarpet\": [{\"marker\": {\"colorbar\": {\"outlinewidth\": 0, \"ticks\": \"\"}}, \"type\": \"scattercarpet\"}], \"scattergeo\": [{\"marker\": {\"colorbar\": {\"outlinewidth\": 0, \"ticks\": \"\"}}, \"type\": \"scattergeo\"}], \"scattergl\": [{\"marker\": {\"colorbar\": {\"outlinewidth\": 0, \"ticks\": \"\"}}, \"type\": \"scattergl\"}], \"scattermapbox\": [{\"marker\": {\"colorbar\": {\"outlinewidth\": 0, \"ticks\": \"\"}}, \"type\": \"scattermapbox\"}], \"scatterpolar\": [{\"marker\": {\"colorbar\": {\"outlinewidth\": 0, \"ticks\": \"\"}}, \"type\": \"scatterpolar\"}], \"scatterpolargl\": [{\"marker\": {\"colorbar\": {\"outlinewidth\": 0, \"ticks\": \"\"}}, \"type\": \"scatterpolargl\"}], \"scatterternary\": [{\"marker\": {\"colorbar\": {\"outlinewidth\": 0, \"ticks\": \"\"}}, \"type\": \"scatterternary\"}], \"surface\": [{\"colorbar\": {\"outlinewidth\": 0, \"ticks\": \"\"}, \"colorscale\": [[0.0, \"#0d0887\"], [0.1111111111111111, \"#46039f\"], [0.2222222222222222, \"#7201a8\"], [0.3333333333333333, \"#9c179e\"], [0.4444444444444444, \"#bd3786\"], [0.5555555555555556, \"#d8576b\"], [0.6666666666666666, \"#ed7953\"], [0.7777777777777778, \"#fb9f3a\"], [0.8888888888888888, \"#fdca26\"], [1.0, \"#f0f921\"]], \"type\": \"surface\"}], \"table\": [{\"cells\": {\"fill\": {\"color\": \"#EBF0F8\"}, \"line\": {\"color\": \"white\"}}, \"header\": {\"fill\": {\"color\": \"#C8D4E3\"}, \"line\": {\"color\": \"white\"}}, \"type\": \"table\"}]}, \"layout\": {\"annotationdefaults\": {\"arrowcolor\": \"#2a3f5f\", \"arrowhead\": 0, \"arrowwidth\": 1}, \"coloraxis\": {\"colorbar\": {\"outlinewidth\": 0, \"ticks\": \"\"}}, \"colorscale\": {\"diverging\": [[0, \"#8e0152\"], [0.1, \"#c51b7d\"], [0.2, \"#de77ae\"], [0.3, \"#f1b6da\"], [0.4, \"#fde0ef\"], [0.5, \"#f7f7f7\"], [0.6, \"#e6f5d0\"], [0.7, \"#b8e186\"], [0.8, \"#7fbc41\"], [0.9, \"#4d9221\"], [1, \"#276419\"]], \"sequential\": [[0.0, \"#0d0887\"], [0.1111111111111111, \"#46039f\"], [0.2222222222222222, \"#7201a8\"], [0.3333333333333333, \"#9c179e\"], [0.4444444444444444, \"#bd3786\"], [0.5555555555555556, \"#d8576b\"], [0.6666666666666666, \"#ed7953\"], [0.7777777777777778, \"#fb9f3a\"], [0.8888888888888888, \"#fdca26\"], [1.0, \"#f0f921\"]], \"sequentialminus\": [[0.0, \"#0d0887\"], [0.1111111111111111, \"#46039f\"], [0.2222222222222222, \"#7201a8\"], [0.3333333333333333, \"#9c179e\"], [0.4444444444444444, \"#bd3786\"], [0.5555555555555556, \"#d8576b\"], [0.6666666666666666, \"#ed7953\"], [0.7777777777777778, \"#fb9f3a\"], [0.8888888888888888, \"#fdca26\"], [1.0, \"#f0f921\"]]}, \"colorway\": [\"#636efa\", \"#EF553B\", \"#00cc96\", \"#ab63fa\", \"#FFA15A\", \"#19d3f3\", \"#FF6692\", \"#B6E880\", \"#FF97FF\", \"#FECB52\"], \"font\": {\"color\": \"#2a3f5f\"}, \"geo\": {\"bgcolor\": \"white\", \"lakecolor\": \"white\", \"landcolor\": \"#E5ECF6\", \"showlakes\": true, \"showland\": true, \"subunitcolor\": \"white\"}, \"hoverlabel\": {\"align\": \"left\"}, \"hovermode\": \"closest\", \"mapbox\": {\"style\": \"light\"}, \"paper_bgcolor\": \"white\", \"plot_bgcolor\": \"#E5ECF6\", \"polar\": {\"angularaxis\": {\"gridcolor\": \"white\", \"linecolor\": \"white\", \"ticks\": \"\"}, \"bgcolor\": \"#E5ECF6\", \"radialaxis\": {\"gridcolor\": \"white\", \"linecolor\": \"white\", \"ticks\": \"\"}}, \"scene\": {\"xaxis\": {\"backgroundcolor\": \"#E5ECF6\", \"gridcolor\": \"white\", \"gridwidth\": 2, \"linecolor\": \"white\", \"showbackground\": true, \"ticks\": \"\", \"zerolinecolor\": \"white\"}, \"yaxis\": {\"backgroundcolor\": \"#E5ECF6\", \"gridcolor\": \"white\", \"gridwidth\": 2, \"linecolor\": \"white\", \"showbackground\": true, \"ticks\": \"\", \"zerolinecolor\": \"white\"}, \"zaxis\": {\"backgroundcolor\": \"#E5ECF6\", \"gridcolor\": \"white\", \"gridwidth\": 2, \"linecolor\": \"white\", \"showbackground\": true, \"ticks\": \"\", \"zerolinecolor\": \"white\"}}, \"shapedefaults\": {\"line\": {\"color\": \"#2a3f5f\"}}, \"ternary\": {\"aaxis\": {\"gridcolor\": \"white\", \"linecolor\": \"white\", \"ticks\": \"\"}, \"baxis\": {\"gridcolor\": \"white\", \"linecolor\": \"white\", \"ticks\": \"\"}, \"bgcolor\": \"#E5ECF6\", \"caxis\": {\"gridcolor\": \"white\", \"linecolor\": \"white\", \"ticks\": \"\"}}, \"title\": {\"x\": 0.05}, \"xaxis\": {\"automargin\": true, \"gridcolor\": \"white\", \"linecolor\": \"white\", \"ticks\": \"\", \"title\": {\"standoff\": 15}, \"zerolinecolor\": \"white\", \"zerolinewidth\": 2}, \"yaxis\": {\"automargin\": true, \"gridcolor\": \"white\", \"linecolor\": \"white\", \"ticks\": \"\", \"title\": {\"standoff\": 15}, \"zerolinecolor\": \"white\", \"zerolinewidth\": 2}}}, \"title\": {\"font\": {\"color\": \"#484848\"}, \"text\": \"Review count of each book\"}, \"xaxis\": {\"gridcolor\": \"#E1E5ED\", \"showgrid\": true, \"tickfont\": {\"color\": \"#505050\"}, \"title\": {\"font\": {\"color\": \"#505050\"}, \"text\": \"\"}, \"zerolinecolor\": \"#E1E5ED\"}, \"yaxis\": {\"gridcolor\": \"#E1E5ED\", \"showgrid\": true, \"tickfont\": {\"color\": \"#505050\"}, \"title\": {\"font\": {\"color\": \"#505050\"}, \"text\": \"Review Count\"}, \"zerolinecolor\": \"#E1E5ED\"}},\n",
       "                        {\"showLink\": true, \"linkText\": \"Export to plot.ly\", \"plotlyServerURL\": \"https://plot.ly\", \"responsive\": true}\n",
       "                    ).then(function(){\n",
       "                            \n",
       "var gd = document.getElementById('223ccb8d-8ae9-4866-a317-a6b78e54ac88');\n",
       "var x = new MutationObserver(function (mutations, observer) {{\n",
       "        var display = window.getComputedStyle(gd).display;\n",
       "        if (!display || display === 'none') {{\n",
       "            console.log([gd, 'removed!']);\n",
       "            Plotly.purge(gd);\n",
       "            observer.disconnect();\n",
       "        }}\n",
       "}});\n",
       "\n",
       "// Listen for the removal of the full notebook cells\n",
       "var notebookContainer = gd.closest('#notebook-container');\n",
       "if (notebookContainer) {{\n",
       "    x.observe(notebookContainer, {childList: true});\n",
       "}}\n",
       "\n",
       "// Listen for the clearing of the current output cell\n",
       "var outputEl = gd.closest('.output');\n",
       "if (outputEl) {{\n",
       "    x.observe(outputEl, {childList: true});\n",
       "}}\n",
       "\n",
       "                        })\n",
       "                };\n",
       "                });\n",
       "            </script>\n",
       "        </div>"
      ]
     },
     "metadata": {},
     "output_type": "display_data"
    }
   ],
   "source": [
    "df.iplot(kind = 'bar',\n",
    "                x='name',\n",
    "                y='review_count',\n",
    "                #xTitle='Book name',\n",
    "                yTitle='Review Count',\n",
    "                title='Review count of each book',colors = 'mediumvioletred')"
   ]
  },
  {
   "cell_type": "markdown",
   "metadata": {},
   "source": [
    "## Books with their rating and rating count"
   ]
  },
  {
   "cell_type": "code",
   "execution_count": 26,
   "metadata": {
    "ExecuteTime": {
     "end_time": "2020-07-13T20:10:28.042244Z",
     "start_time": "2020-07-13T20:10:27.815509Z"
    }
   },
   "outputs": [
    {
     "data": {
      "application/vnd.plotly.v1+json": {
       "config": {
        "linkText": "Export to plot.ly",
        "plotlyServerURL": "https://plot.ly",
        "showLink": true
       },
       "data": [
        {
         "line": {
          "color": "rgba(0, 128, 240, 1.0)",
          "dash": "solid",
          "shape": "linear",
          "width": 1.3
         },
         "mode": "lines",
         "name": "rating_count",
         "text": "",
         "type": "scatter",
         "x": [
          "Harry Potter and the Deathly Hallows (Harry Potter, #7)",
          "J.R.R. Tolkien 4-Book Boxed Set: The Hobbit and The Lord of the Rings",
          "Clockwork Princess (The Infernal Devices, #3)",
          "Harry Potter and the Prisoner of Azkaban (Harry Potter, #3)",
          "Harry Potter and the Half-Blood Prince (Harry Potter, #6)",
          "Harry Potter and the Goblet of Fire (Harry Potter, #4)",
          "The Name of the Wind (The Kingkiller Chronicle, #1)",
          "A Storm of Swords (A Song of Ice and Fire, #3)",
          "The Last Olympian (Percy Jackson and the Olympians, #5)",
          "Harry Potter and the Order of the Phoenix (Harry Potter, #5)",
          "Lonesome Dove",
          "The Hunger Games Trilogy Boxset (The Hunger Games, #1-3)",
          "The Help",
          "Harry Potter and the Sorcerer's Stone (Harry Potter, #1)",
          "A Game of Thrones (A Song of Ice and Fire, #1)",
          "The Compleat Works of Wllm Shkspr",
          "Harry Potter and the Chamber of Secrets (Harry Potter, #2)",
          "The Battle of the Labyrinth (Percy Jackson and the Olympians, #4)",
          "The Complete Stories and Poems",
          "The Giving Tree",
          "How the Grinch Stole Christmas!",
          "A Thousand Splendid Suns",
          "The Book Thief",
          "The Godfather",
          "The Ultimate Hitchhiker's Guide to the Galaxy (Hitchhiker's Guide to the Galaxy, #1-5)",
          "Shadow Kiss (Vampire Academy, #3)",
          "Watchmen",
          "The Fellowship of the Ring (The Lord of the Rings, #1)",
          "Oh, the Places You'll Go!",
          "Winnie-the-Pooh (Winnie-the-Pooh, #1)",
          "The Lorax",
          "The Titan's Curse (Percy Jackson and the Olympians, #3)",
          "The Little House Collection (Little House, #1-9)",
          "The Stand",
          "Blood Promise (Vampire Academy, #4)",
          "The Hunger Games (The Hunger Games, #1)",
          "Clockwork Angel (The Infernal Devices, #1)",
          "Matilda",
          "The Pillars of the Earth (Kingsbridge, #1)",
          "The Brothers Karamazov",
          "The Little Prince",
          "The Kite Runner",
          "Ender's Game (Ender's Saga, #1)",
          "The Very Hungry Caterpillar",
          "The Adventures of Sherlock Holmes",
          "Gone with the Wind",
          "Green Eggs and Ham",
          "The Master and Margarita",
          "Goodnight Moon",
          "Frostbite (Vampire Academy, #2)",
          "To Kill a Mockingbird",
          "The Shadow of the Wind (The Cemetery of Forgotten Books, #1)",
          "A Tree Grows in Brooklyn",
          "The Hobbit, or There and Back Again",
          "And Then There Were None",
          "The Princess Bride",
          "Pride and Prejudice",
          "Anne of Green Gables (Anne of Green Gables, #1)",
          "The Chronicles of Narnia (Chronicles of Narnia, #1-7)",
          "The Count of Monte Cristo",
          "Good Omens: The Nice and Accurate Prophecies of Agnes Nutter, Witch",
          "The Lightning Thief (Percy Jackson and the Olympians, #1)",
          "The Sea of Monsters (Percy Jackson and the Olympians, #2)",
          "It",
          "The Girl Who Played with Fire (Millennium, #2)",
          "Rebecca",
          "Outlander (Outlander, #1)",
          "The Thorn Birds",
          "Dune (Dune, #1)",
          "The Prophet",
          "The Shining",
          "A Prayer for Owen Meany",
          "Where the Wild Things Are",
          "Crime and Punishment",
          "The Lion, the Witch and the Wardrobe (Chronicles of Narnia, #1)",
          "The Hitchhiker's Guide to the Galaxy (Hitchhiker's Guide to the Galaxy, #1)",
          "The Fault in Our Stars",
          "The Phantom Tollbooth",
          "The Color Purple",
          "The Perks of Being a Wallflower",
          "Divergent (Divergent, #1)",
          "Fight Club",
          "One Flew Over the Cuckoo's Nest",
          "A Walk to Remember",
          "1984",
          "The Red Tent",
          "The Neverending Story",
          "The Importance of Being Earnest",
          "The Cat in the Hat",
          "Les Misérables",
          "Charlotte's Web",
          "The Girl with the Dragon Tattoo (Millennium, #1)",
          "The Secret Garden",
          "Charlie and the Chocolate Factory (Charlie Bucket, #1)",
          "The Giver (The Giver, #1)",
          "Flowers for Algernon",
          "The Name of the Rose",
          "Memoirs of a Geisha",
          "Jane Eyre",
          "The Mists of Avalon (Avalon, #1)",
          "Vampire Academy (Vampire Academy, #1)",
          "Tuesdays with Morrie",
          "American Gods (American Gods, #1)",
          "Angela's Ashes (Frank McCourt, #1)",
          "The Handmaid's Tale (The Handmaid's Tale, #1)",
          "The Notebook (The Notebook, #1)",
          "The Outsiders",
          "City of Bones (The Mortal Instruments, #1)",
          "The Unbearable Lightness of Being",
          "Water for Elephants",
          "The World According to Garp",
          "The Picture of Dorian Gray",
          "One Hundred Years of Solitude",
          "My Sister's Keeper",
          "Little Women",
          "Where the Red Fern Grows",
          "The Three Musketeers (The D'Artagnan Romances, #1)",
          "In Cold Blood",
          "Slaughterhouse-Five",
          "Peter Pan",
          "The Poisonwood Bible",
          "The Divine Comedy",
          "Alice's Adventures in Wonderland & Through the Looking-Glass",
          "Watership Down (Watership Down, #1)",
          "The Secret Life of Bees",
          "The Clan of the Cave Bear",
          "Anna Karenina",
          "Insurgent (Divergent, #2)",
          "Alice in Wonderland",
          "Looking for Alaska",
          "Siddhartha",
          "The Maze Runner (The Maze Runner, #1)",
          "Perfume: The Story of a Murderer",
          "Bridge to Terabithia",
          "Middlesex",
          "The Bell Jar",
          "Interview with the Vampire (The Vampire Chronicles, #1)",
          "A Wrinkle in Time (Time Quintet, #1)",
          "Dracula",
          "Brave New World",
          "David Copperfield",
          "The Wonderful Wizard of Oz (Oz, #1)",
          "Fahrenheit 451",
          "A Clockwork Orange",
          "All Quiet on the Western Front",
          "The Stranger",
          "Catch-22 (Catch-22, #1)",
          "The Good Earth (House of Earth, #1)",
          "The Golden Compass (His Dark Materials, #1)",
          "The Road",
          "The Time Traveler's Wife",
          "Hush, Hush (Hush, Hush, #1)",
          "Holes (Holes, #1)",
          "A Midsummer Night's Dream",
          "The Five People You Meet in Heaven",
          "Animal Farm",
          "Thirteen Reasons Why",
          "The Joy Luck Club",
          "Their Eyes Were Watching God",
          "Love in the Time of Cholera",
          "The Great Gatsby",
          "Atonement",
          "Life of Pi",
          "The Adventures of Tom Sawyer",
          "Eragon (The Inheritance Cycle, #1)",
          "Lolita",
          "Don Quixote",
          "The Curious Incident of the Dog in the Night-Time",
          "Of Mice and Men",
          "The Alchemist",
          "The Call of the Wild",
          "Oliver Twist",
          "Wuthering Heights",
          "The Da Vinci Code (Robert Langdon, #2)",
          "A Tale of Two Cities",
          "Jonathan Livingston Seagull",
          "Treasure Island",
          "The Adventures of Huckleberry Finn",
          "The Metamorphosis",
          "The Lovely Bones",
          "The Catcher in the Rye",
          "A Farewell to Arms",
          "Frankenstein: The 1818 Text",
          "Tess of the D'Urbervilles",
          "The Old Man and the Sea",
          "Great Expectations",
          "The Odyssey",
          "Romeo and Juliet",
          "Ulysses",
          "Atlas Shrugged",
          "Lord of the Flies",
          "Madame Bovary",
          "Fifty Shades of Grey (Fifty Shades, #1)",
          "On the Road",
          "Twilight (Twilight, #1)",
          "Eat, Pray, Love",
          "Moby-Dick or, the Whale",
          "The Canterbury Tales",
          "Heart of Darkness",
          "The Scarlet Letter"
         ],
         "y": [
          2727866,
          108159,
          322153,
          2707133,
          2365928,
          2512466,
          689482,
          652469,
          640864,
          2432082,
          143713,
          185382,
          2108929,
          6816505,
          1955323,
          8387,
          2636724,
          713134,
          213208,
          882692,
          320777,
          1119695,
          1780696,
          324121,
          280667,
          318446,
          479982,
          2306627,
          318818,
          261110,
          274734,
          657435,
          139775,
          598529,
          269673,
          6227649,
          642285,
          617817,
          632406,
          235664,
          1301280,
          2367149,
          1103599,
          384666,
          235715,
          1058472,
          596229,
          233033,
          296693,
          302142,
          4380949,
          442781,
          381044,
          2818258,
          778107,
          762834,
          2908472,
          703541,
          501470,
          731480,
          520791,
          1924238,
          718536,
          773869,
          794264,
          431126,
          798845,
          308048,
          720389,
          227070,
          1091201,
          282797,
          795292,
          605518,
          2073217,
          1391859,
          3442704,
          231087,
          504945,
          1220320,
          2829132,
          487278,
          619142,
          659147,
          3028465,
          511585,
          157669,
          297028,
          411450,
          670765,
          1376825,
          2546719,
          865711,
          643197,
          1731244,
          465403,
          290790,
          1688167,
          1586497,
          186751,
          536169,
          761297,
          738345,
          528350,
          1405109,
          1302293,
          909522,
          1578190,
          330210,
          1353987,
          202103,
          933185,
          732202,
          1042128,
          1639339,
          334363,
          267265,
          510903,
          1106498,
          263133,
          649693,
          112964,
          446210,
          424104,
          1099337,
          224508,
          648579,
          1138169,
          370150,
          1084932,
          564222,
          1016567,
          313987,
          432801,
          574954,
          574540,
          473309,
          1032058,
          907583,
          1403280,
          195509,
          356175,
          1626094,
          585745,
          348744,
          682372,
          709855,
          220074,
          1255441,
          700693,
          1547251,
          557440,
          945754,
          435907,
          568163,
          2656168,
          755060,
          590478,
          254205,
          399837,
          3679998,
          431748,
          1310141,
          740312,
          1403688,
          648420,
          202768,
          1164672,
          1901282,
          2028312,
          330590,
          311428,
          1309433,
          1888626,
          795790,
          196750,
          390719,
          1136571,
          614304,
          1978789,
          2674826,
          258028,
          1133264,
          233965,
          806160,
          636293,
          845479,
          2016094,
          107595,
          348284,
          2213727,
          245447,
          1890385,
          341062,
          4842942,
          1443225,
          470996,
          185560,
          406735,
          691688
         ]
        },
        {
         "line": {
          "color": "rgba(238, 118, 0, 1.0)",
          "dash": "solid",
          "shape": "linear",
          "width": 1.3
         },
         "mode": "lines",
         "name": "rating",
         "text": "",
         "type": "scatter",
         "x": [
          "Harry Potter and the Deathly Hallows (Harry Potter, #7)",
          "J.R.R. Tolkien 4-Book Boxed Set: The Hobbit and The Lord of the Rings",
          "Clockwork Princess (The Infernal Devices, #3)",
          "Harry Potter and the Prisoner of Azkaban (Harry Potter, #3)",
          "Harry Potter and the Half-Blood Prince (Harry Potter, #6)",
          "Harry Potter and the Goblet of Fire (Harry Potter, #4)",
          "The Name of the Wind (The Kingkiller Chronicle, #1)",
          "A Storm of Swords (A Song of Ice and Fire, #3)",
          "The Last Olympian (Percy Jackson and the Olympians, #5)",
          "Harry Potter and the Order of the Phoenix (Harry Potter, #5)",
          "Lonesome Dove",
          "The Hunger Games Trilogy Boxset (The Hunger Games, #1-3)",
          "The Help",
          "Harry Potter and the Sorcerer's Stone (Harry Potter, #1)",
          "A Game of Thrones (A Song of Ice and Fire, #1)",
          "The Compleat Works of Wllm Shkspr",
          "Harry Potter and the Chamber of Secrets (Harry Potter, #2)",
          "The Battle of the Labyrinth (Percy Jackson and the Olympians, #4)",
          "The Complete Stories and Poems",
          "The Giving Tree",
          "How the Grinch Stole Christmas!",
          "A Thousand Splendid Suns",
          "The Book Thief",
          "The Godfather",
          "The Ultimate Hitchhiker's Guide to the Galaxy (Hitchhiker's Guide to the Galaxy, #1-5)",
          "Shadow Kiss (Vampire Academy, #3)",
          "Watchmen",
          "The Fellowship of the Ring (The Lord of the Rings, #1)",
          "Oh, the Places You'll Go!",
          "Winnie-the-Pooh (Winnie-the-Pooh, #1)",
          "The Lorax",
          "The Titan's Curse (Percy Jackson and the Olympians, #3)",
          "The Little House Collection (Little House, #1-9)",
          "The Stand",
          "Blood Promise (Vampire Academy, #4)",
          "The Hunger Games (The Hunger Games, #1)",
          "Clockwork Angel (The Infernal Devices, #1)",
          "Matilda",
          "The Pillars of the Earth (Kingsbridge, #1)",
          "The Brothers Karamazov",
          "The Little Prince",
          "The Kite Runner",
          "Ender's Game (Ender's Saga, #1)",
          "The Very Hungry Caterpillar",
          "The Adventures of Sherlock Holmes",
          "Gone with the Wind",
          "Green Eggs and Ham",
          "The Master and Margarita",
          "Goodnight Moon",
          "Frostbite (Vampire Academy, #2)",
          "To Kill a Mockingbird",
          "The Shadow of the Wind (The Cemetery of Forgotten Books, #1)",
          "A Tree Grows in Brooklyn",
          "The Hobbit, or There and Back Again",
          "And Then There Were None",
          "The Princess Bride",
          "Pride and Prejudice",
          "Anne of Green Gables (Anne of Green Gables, #1)",
          "The Chronicles of Narnia (Chronicles of Narnia, #1-7)",
          "The Count of Monte Cristo",
          "Good Omens: The Nice and Accurate Prophecies of Agnes Nutter, Witch",
          "The Lightning Thief (Percy Jackson and the Olympians, #1)",
          "The Sea of Monsters (Percy Jackson and the Olympians, #2)",
          "It",
          "The Girl Who Played with Fire (Millennium, #2)",
          "Rebecca",
          "Outlander (Outlander, #1)",
          "The Thorn Birds",
          "Dune (Dune, #1)",
          "The Prophet",
          "The Shining",
          "A Prayer for Owen Meany",
          "Where the Wild Things Are",
          "Crime and Punishment",
          "The Lion, the Witch and the Wardrobe (Chronicles of Narnia, #1)",
          "The Hitchhiker's Guide to the Galaxy (Hitchhiker's Guide to the Galaxy, #1)",
          "The Fault in Our Stars",
          "The Phantom Tollbooth",
          "The Color Purple",
          "The Perks of Being a Wallflower",
          "Divergent (Divergent, #1)",
          "Fight Club",
          "One Flew Over the Cuckoo's Nest",
          "A Walk to Remember",
          "1984",
          "The Red Tent",
          "The Neverending Story",
          "The Importance of Being Earnest",
          "The Cat in the Hat",
          "Les Misérables",
          "Charlotte's Web",
          "The Girl with the Dragon Tattoo (Millennium, #1)",
          "The Secret Garden",
          "Charlie and the Chocolate Factory (Charlie Bucket, #1)",
          "The Giver (The Giver, #1)",
          "Flowers for Algernon",
          "The Name of the Rose",
          "Memoirs of a Geisha",
          "Jane Eyre",
          "The Mists of Avalon (Avalon, #1)",
          "Vampire Academy (Vampire Academy, #1)",
          "Tuesdays with Morrie",
          "American Gods (American Gods, #1)",
          "Angela's Ashes (Frank McCourt, #1)",
          "The Handmaid's Tale (The Handmaid's Tale, #1)",
          "The Notebook (The Notebook, #1)",
          "The Outsiders",
          "City of Bones (The Mortal Instruments, #1)",
          "The Unbearable Lightness of Being",
          "Water for Elephants",
          "The World According to Garp",
          "The Picture of Dorian Gray",
          "One Hundred Years of Solitude",
          "My Sister's Keeper",
          "Little Women",
          "Where the Red Fern Grows",
          "The Three Musketeers (The D'Artagnan Romances, #1)",
          "In Cold Blood",
          "Slaughterhouse-Five",
          "Peter Pan",
          "The Poisonwood Bible",
          "The Divine Comedy",
          "Alice's Adventures in Wonderland & Through the Looking-Glass",
          "Watership Down (Watership Down, #1)",
          "The Secret Life of Bees",
          "The Clan of the Cave Bear",
          "Anna Karenina",
          "Insurgent (Divergent, #2)",
          "Alice in Wonderland",
          "Looking for Alaska",
          "Siddhartha",
          "The Maze Runner (The Maze Runner, #1)",
          "Perfume: The Story of a Murderer",
          "Bridge to Terabithia",
          "Middlesex",
          "The Bell Jar",
          "Interview with the Vampire (The Vampire Chronicles, #1)",
          "A Wrinkle in Time (Time Quintet, #1)",
          "Dracula",
          "Brave New World",
          "David Copperfield",
          "The Wonderful Wizard of Oz (Oz, #1)",
          "Fahrenheit 451",
          "A Clockwork Orange",
          "All Quiet on the Western Front",
          "The Stranger",
          "Catch-22 (Catch-22, #1)",
          "The Good Earth (House of Earth, #1)",
          "The Golden Compass (His Dark Materials, #1)",
          "The Road",
          "The Time Traveler's Wife",
          "Hush, Hush (Hush, Hush, #1)",
          "Holes (Holes, #1)",
          "A Midsummer Night's Dream",
          "The Five People You Meet in Heaven",
          "Animal Farm",
          "Thirteen Reasons Why",
          "The Joy Luck Club",
          "Their Eyes Were Watching God",
          "Love in the Time of Cholera",
          "The Great Gatsby",
          "Atonement",
          "Life of Pi",
          "The Adventures of Tom Sawyer",
          "Eragon (The Inheritance Cycle, #1)",
          "Lolita",
          "Don Quixote",
          "The Curious Incident of the Dog in the Night-Time",
          "Of Mice and Men",
          "The Alchemist",
          "The Call of the Wild",
          "Oliver Twist",
          "Wuthering Heights",
          "The Da Vinci Code (Robert Langdon, #2)",
          "A Tale of Two Cities",
          "Jonathan Livingston Seagull",
          "Treasure Island",
          "The Adventures of Huckleberry Finn",
          "The Metamorphosis",
          "The Lovely Bones",
          "The Catcher in the Rye",
          "A Farewell to Arms",
          "Frankenstein: The 1818 Text",
          "Tess of the D'Urbervilles",
          "The Old Man and the Sea",
          "Great Expectations",
          "The Odyssey",
          "Romeo and Juliet",
          "Ulysses",
          "Atlas Shrugged",
          "Lord of the Flies",
          "Madame Bovary",
          "Fifty Shades of Grey (Fifty Shades, #1)",
          "On the Road",
          "Twilight (Twilight, #1)",
          "Eat, Pray, Love",
          "Moby-Dick or, the Whale",
          "The Canterbury Tales",
          "Heart of Darkness",
          "The Scarlet Letter"
         ],
         "xaxis": "x",
         "y": [
          4.619999885559082,
          4.599999904632568,
          4.579999923706055,
          4.570000171661377,
          4.570000171661377,
          4.559999942779541,
          4.539999961853027,
          4.539999961853027,
          4.510000228881836,
          4.5,
          4.489999771118164,
          4.480000019073486,
          4.46999979019165,
          4.46999979019165,
          4.449999809265137,
          4.440000057220459,
          4.429999828338623,
          4.400000095367432,
          4.380000114440918,
          4.380000114440918,
          4.369999885559082,
          4.369999885559082,
          4.369999885559082,
          4.369999885559082,
          4.360000133514404,
          4.360000133514404,
          4.360000133514404,
          4.360000133514404,
          4.360000133514404,
          4.349999904632568,
          4.349999904632568,
          4.349999904632568,
          4.340000152587891,
          4.340000152587891,
          4.340000152587891,
          4.329999923706055,
          4.329999923706055,
          4.320000171661377,
          4.320000171661377,
          4.320000171661377,
          4.309999942779541,
          4.300000190734863,
          4.300000190734863,
          4.300000190734863,
          4.300000190734863,
          4.300000190734863,
          4.300000190734863,
          4.289999961853027,
          4.28000020980835,
          4.28000020980835,
          4.28000020980835,
          4.269999980926514,
          4.269999980926514,
          4.269999980926514,
          4.260000228881836,
          4.260000228881836,
          4.260000228881836,
          4.260000228881836,
          4.260000228881836,
          4.25,
          4.25,
          4.25,
          4.239999771118164,
          4.239999771118164,
          4.239999771118164,
          4.230000019073486,
          4.230000019073486,
          4.230000019073486,
          4.230000019073486,
          4.230000019073486,
          4.230000019073486,
          4.230000019073486,
          4.21999979019165,
          4.21999979019165,
          4.21999979019165,
          4.21999979019165,
          4.210000038146973,
          4.210000038146973,
          4.210000038146973,
          4.199999809265137,
          4.199999809265137,
          4.190000057220459,
          4.190000057220459,
          4.179999828338623,
          4.179999828338623,
          4.179999828338623,
          4.179999828338623,
          4.179999828338623,
          4.170000076293945,
          4.170000076293945,
          4.170000076293945,
          4.139999866485596,
          4.139999866485596,
          4.139999866485596,
          4.130000114440918,
          4.130000114440918,
          4.119999885559082,
          4.119999885559082,
          4.119999885559082,
          4.119999885559082,
          4.119999885559082,
          4.110000133514404,
          4.110000133514404,
          4.110000133514404,
          4.110000133514404,
          4.099999904632568,
          4.099999904632568,
          4.099999904632568,
          4.099999904632568,
          4.090000152587891,
          4.090000152587891,
          4.079999923706055,
          4.079999923706055,
          4.079999923706055,
          4.079999923706055,
          4.079999923706055,
          4.070000171661377,
          4.070000171661377,
          4.070000171661377,
          4.070000171661377,
          4.059999942779541,
          4.059999942779541,
          4.059999942779541,
          4.059999942779541,
          4.050000190734863,
          4.050000190734863,
          4.050000190734863,
          4.03000020980835,
          4.03000020980835,
          4.03000020980835,
          4.03000020980835,
          4.019999980926514,
          4.019999980926514,
          4.010000228881836,
          4.010000228881836,
          4.010000228881836,
          4,
          4,
          4,
          3.990000009536743,
          3.990000009536743,
          3.990000009536743,
          3.990000009536743,
          3.990000009536743,
          3.9800000190734863,
          3.9800000190734863,
          3.9800000190734863,
          3.9800000190734863,
          3.9800000190734863,
          3.9700000286102295,
          3.9700000286102295,
          3.9700000286102295,
          3.9700000286102295,
          3.950000047683716,
          3.940000057220459,
          3.940000057220459,
          3.930000066757202,
          3.930000066757202,
          3.930000066757202,
          3.9200000762939453,
          3.9200000762939453,
          3.9100000858306885,
          3.9100000858306885,
          3.9100000858306885,
          3.9000000953674316,
          3.890000104904175,
          3.880000114440918,
          3.880000114440918,
          3.869999885559082,
          3.869999885559082,
          3.869999885559082,
          3.869999885559082,
          3.859999895095825,
          3.8499999046325684,
          3.8399999141693115,
          3.8399999141693115,
          3.8299999237060547,
          3.819999933242798,
          3.819999933242798,
          3.809999942779541,
          3.809999942779541,
          3.809999942779541,
          3.799999952316284,
          3.799999952316284,
          3.7799999713897705,
          3.7799999713897705,
          3.7699999809265137,
          3.75,
          3.7300000190734863,
          3.690000057220459,
          3.680000066757202,
          3.680000066757202,
          3.6600000858306885,
          3.619999885559082,
          3.5899999141693115,
          3.559999942779541,
          3.5,
          3.5,
          3.4200000762939453,
          3.4100000858306885
         ],
         "yaxis": "y2"
        }
       ],
       "layout": {
        "legend": {
         "bgcolor": "#F2F3F7",
         "font": {
          "color": "#505050"
         }
        },
        "paper_bgcolor": "#F2F3F7",
        "plot_bgcolor": "#F2F3F7",
        "template": {
         "data": {
          "bar": [
           {
            "error_x": {
             "color": "#2a3f5f"
            },
            "error_y": {
             "color": "#2a3f5f"
            },
            "marker": {
             "line": {
              "color": "#E5ECF6",
              "width": 0.5
             }
            },
            "type": "bar"
           }
          ],
          "barpolar": [
           {
            "marker": {
             "line": {
              "color": "#E5ECF6",
              "width": 0.5
             }
            },
            "type": "barpolar"
           }
          ],
          "carpet": [
           {
            "aaxis": {
             "endlinecolor": "#2a3f5f",
             "gridcolor": "white",
             "linecolor": "white",
             "minorgridcolor": "white",
             "startlinecolor": "#2a3f5f"
            },
            "baxis": {
             "endlinecolor": "#2a3f5f",
             "gridcolor": "white",
             "linecolor": "white",
             "minorgridcolor": "white",
             "startlinecolor": "#2a3f5f"
            },
            "type": "carpet"
           }
          ],
          "choropleth": [
           {
            "colorbar": {
             "outlinewidth": 0,
             "ticks": ""
            },
            "type": "choropleth"
           }
          ],
          "contour": [
           {
            "colorbar": {
             "outlinewidth": 0,
             "ticks": ""
            },
            "colorscale": [
             [
              0,
              "#0d0887"
             ],
             [
              0.1111111111111111,
              "#46039f"
             ],
             [
              0.2222222222222222,
              "#7201a8"
             ],
             [
              0.3333333333333333,
              "#9c179e"
             ],
             [
              0.4444444444444444,
              "#bd3786"
             ],
             [
              0.5555555555555556,
              "#d8576b"
             ],
             [
              0.6666666666666666,
              "#ed7953"
             ],
             [
              0.7777777777777778,
              "#fb9f3a"
             ],
             [
              0.8888888888888888,
              "#fdca26"
             ],
             [
              1,
              "#f0f921"
             ]
            ],
            "type": "contour"
           }
          ],
          "contourcarpet": [
           {
            "colorbar": {
             "outlinewidth": 0,
             "ticks": ""
            },
            "type": "contourcarpet"
           }
          ],
          "heatmap": [
           {
            "colorbar": {
             "outlinewidth": 0,
             "ticks": ""
            },
            "colorscale": [
             [
              0,
              "#0d0887"
             ],
             [
              0.1111111111111111,
              "#46039f"
             ],
             [
              0.2222222222222222,
              "#7201a8"
             ],
             [
              0.3333333333333333,
              "#9c179e"
             ],
             [
              0.4444444444444444,
              "#bd3786"
             ],
             [
              0.5555555555555556,
              "#d8576b"
             ],
             [
              0.6666666666666666,
              "#ed7953"
             ],
             [
              0.7777777777777778,
              "#fb9f3a"
             ],
             [
              0.8888888888888888,
              "#fdca26"
             ],
             [
              1,
              "#f0f921"
             ]
            ],
            "type": "heatmap"
           }
          ],
          "heatmapgl": [
           {
            "colorbar": {
             "outlinewidth": 0,
             "ticks": ""
            },
            "colorscale": [
             [
              0,
              "#0d0887"
             ],
             [
              0.1111111111111111,
              "#46039f"
             ],
             [
              0.2222222222222222,
              "#7201a8"
             ],
             [
              0.3333333333333333,
              "#9c179e"
             ],
             [
              0.4444444444444444,
              "#bd3786"
             ],
             [
              0.5555555555555556,
              "#d8576b"
             ],
             [
              0.6666666666666666,
              "#ed7953"
             ],
             [
              0.7777777777777778,
              "#fb9f3a"
             ],
             [
              0.8888888888888888,
              "#fdca26"
             ],
             [
              1,
              "#f0f921"
             ]
            ],
            "type": "heatmapgl"
           }
          ],
          "histogram": [
           {
            "marker": {
             "colorbar": {
              "outlinewidth": 0,
              "ticks": ""
             }
            },
            "type": "histogram"
           }
          ],
          "histogram2d": [
           {
            "colorbar": {
             "outlinewidth": 0,
             "ticks": ""
            },
            "colorscale": [
             [
              0,
              "#0d0887"
             ],
             [
              0.1111111111111111,
              "#46039f"
             ],
             [
              0.2222222222222222,
              "#7201a8"
             ],
             [
              0.3333333333333333,
              "#9c179e"
             ],
             [
              0.4444444444444444,
              "#bd3786"
             ],
             [
              0.5555555555555556,
              "#d8576b"
             ],
             [
              0.6666666666666666,
              "#ed7953"
             ],
             [
              0.7777777777777778,
              "#fb9f3a"
             ],
             [
              0.8888888888888888,
              "#fdca26"
             ],
             [
              1,
              "#f0f921"
             ]
            ],
            "type": "histogram2d"
           }
          ],
          "histogram2dcontour": [
           {
            "colorbar": {
             "outlinewidth": 0,
             "ticks": ""
            },
            "colorscale": [
             [
              0,
              "#0d0887"
             ],
             [
              0.1111111111111111,
              "#46039f"
             ],
             [
              0.2222222222222222,
              "#7201a8"
             ],
             [
              0.3333333333333333,
              "#9c179e"
             ],
             [
              0.4444444444444444,
              "#bd3786"
             ],
             [
              0.5555555555555556,
              "#d8576b"
             ],
             [
              0.6666666666666666,
              "#ed7953"
             ],
             [
              0.7777777777777778,
              "#fb9f3a"
             ],
             [
              0.8888888888888888,
              "#fdca26"
             ],
             [
              1,
              "#f0f921"
             ]
            ],
            "type": "histogram2dcontour"
           }
          ],
          "mesh3d": [
           {
            "colorbar": {
             "outlinewidth": 0,
             "ticks": ""
            },
            "type": "mesh3d"
           }
          ],
          "parcoords": [
           {
            "line": {
             "colorbar": {
              "outlinewidth": 0,
              "ticks": ""
             }
            },
            "type": "parcoords"
           }
          ],
          "pie": [
           {
            "automargin": true,
            "type": "pie"
           }
          ],
          "scatter": [
           {
            "marker": {
             "colorbar": {
              "outlinewidth": 0,
              "ticks": ""
             }
            },
            "type": "scatter"
           }
          ],
          "scatter3d": [
           {
            "line": {
             "colorbar": {
              "outlinewidth": 0,
              "ticks": ""
             }
            },
            "marker": {
             "colorbar": {
              "outlinewidth": 0,
              "ticks": ""
             }
            },
            "type": "scatter3d"
           }
          ],
          "scattercarpet": [
           {
            "marker": {
             "colorbar": {
              "outlinewidth": 0,
              "ticks": ""
             }
            },
            "type": "scattercarpet"
           }
          ],
          "scattergeo": [
           {
            "marker": {
             "colorbar": {
              "outlinewidth": 0,
              "ticks": ""
             }
            },
            "type": "scattergeo"
           }
          ],
          "scattergl": [
           {
            "marker": {
             "colorbar": {
              "outlinewidth": 0,
              "ticks": ""
             }
            },
            "type": "scattergl"
           }
          ],
          "scattermapbox": [
           {
            "marker": {
             "colorbar": {
              "outlinewidth": 0,
              "ticks": ""
             }
            },
            "type": "scattermapbox"
           }
          ],
          "scatterpolar": [
           {
            "marker": {
             "colorbar": {
              "outlinewidth": 0,
              "ticks": ""
             }
            },
            "type": "scatterpolar"
           }
          ],
          "scatterpolargl": [
           {
            "marker": {
             "colorbar": {
              "outlinewidth": 0,
              "ticks": ""
             }
            },
            "type": "scatterpolargl"
           }
          ],
          "scatterternary": [
           {
            "marker": {
             "colorbar": {
              "outlinewidth": 0,
              "ticks": ""
             }
            },
            "type": "scatterternary"
           }
          ],
          "surface": [
           {
            "colorbar": {
             "outlinewidth": 0,
             "ticks": ""
            },
            "colorscale": [
             [
              0,
              "#0d0887"
             ],
             [
              0.1111111111111111,
              "#46039f"
             ],
             [
              0.2222222222222222,
              "#7201a8"
             ],
             [
              0.3333333333333333,
              "#9c179e"
             ],
             [
              0.4444444444444444,
              "#bd3786"
             ],
             [
              0.5555555555555556,
              "#d8576b"
             ],
             [
              0.6666666666666666,
              "#ed7953"
             ],
             [
              0.7777777777777778,
              "#fb9f3a"
             ],
             [
              0.8888888888888888,
              "#fdca26"
             ],
             [
              1,
              "#f0f921"
             ]
            ],
            "type": "surface"
           }
          ],
          "table": [
           {
            "cells": {
             "fill": {
              "color": "#EBF0F8"
             },
             "line": {
              "color": "white"
             }
            },
            "header": {
             "fill": {
              "color": "#C8D4E3"
             },
             "line": {
              "color": "white"
             }
            },
            "type": "table"
           }
          ]
         },
         "layout": {
          "annotationdefaults": {
           "arrowcolor": "#2a3f5f",
           "arrowhead": 0,
           "arrowwidth": 1
          },
          "coloraxis": {
           "colorbar": {
            "outlinewidth": 0,
            "ticks": ""
           }
          },
          "colorscale": {
           "diverging": [
            [
             0,
             "#8e0152"
            ],
            [
             0.1,
             "#c51b7d"
            ],
            [
             0.2,
             "#de77ae"
            ],
            [
             0.3,
             "#f1b6da"
            ],
            [
             0.4,
             "#fde0ef"
            ],
            [
             0.5,
             "#f7f7f7"
            ],
            [
             0.6,
             "#e6f5d0"
            ],
            [
             0.7,
             "#b8e186"
            ],
            [
             0.8,
             "#7fbc41"
            ],
            [
             0.9,
             "#4d9221"
            ],
            [
             1,
             "#276419"
            ]
           ],
           "sequential": [
            [
             0,
             "#0d0887"
            ],
            [
             0.1111111111111111,
             "#46039f"
            ],
            [
             0.2222222222222222,
             "#7201a8"
            ],
            [
             0.3333333333333333,
             "#9c179e"
            ],
            [
             0.4444444444444444,
             "#bd3786"
            ],
            [
             0.5555555555555556,
             "#d8576b"
            ],
            [
             0.6666666666666666,
             "#ed7953"
            ],
            [
             0.7777777777777778,
             "#fb9f3a"
            ],
            [
             0.8888888888888888,
             "#fdca26"
            ],
            [
             1,
             "#f0f921"
            ]
           ],
           "sequentialminus": [
            [
             0,
             "#0d0887"
            ],
            [
             0.1111111111111111,
             "#46039f"
            ],
            [
             0.2222222222222222,
             "#7201a8"
            ],
            [
             0.3333333333333333,
             "#9c179e"
            ],
            [
             0.4444444444444444,
             "#bd3786"
            ],
            [
             0.5555555555555556,
             "#d8576b"
            ],
            [
             0.6666666666666666,
             "#ed7953"
            ],
            [
             0.7777777777777778,
             "#fb9f3a"
            ],
            [
             0.8888888888888888,
             "#fdca26"
            ],
            [
             1,
             "#f0f921"
            ]
           ]
          },
          "colorway": [
           "#636efa",
           "#EF553B",
           "#00cc96",
           "#ab63fa",
           "#FFA15A",
           "#19d3f3",
           "#FF6692",
           "#B6E880",
           "#FF97FF",
           "#FECB52"
          ],
          "font": {
           "color": "#2a3f5f"
          },
          "geo": {
           "bgcolor": "white",
           "lakecolor": "white",
           "landcolor": "#E5ECF6",
           "showlakes": true,
           "showland": true,
           "subunitcolor": "white"
          },
          "hoverlabel": {
           "align": "left"
          },
          "hovermode": "closest",
          "mapbox": {
           "style": "light"
          },
          "paper_bgcolor": "white",
          "plot_bgcolor": "#E5ECF6",
          "polar": {
           "angularaxis": {
            "gridcolor": "white",
            "linecolor": "white",
            "ticks": ""
           },
           "bgcolor": "#E5ECF6",
           "radialaxis": {
            "gridcolor": "white",
            "linecolor": "white",
            "ticks": ""
           }
          },
          "scene": {
           "xaxis": {
            "backgroundcolor": "#E5ECF6",
            "gridcolor": "white",
            "gridwidth": 2,
            "linecolor": "white",
            "showbackground": true,
            "ticks": "",
            "zerolinecolor": "white"
           },
           "yaxis": {
            "backgroundcolor": "#E5ECF6",
            "gridcolor": "white",
            "gridwidth": 2,
            "linecolor": "white",
            "showbackground": true,
            "ticks": "",
            "zerolinecolor": "white"
           },
           "zaxis": {
            "backgroundcolor": "#E5ECF6",
            "gridcolor": "white",
            "gridwidth": 2,
            "linecolor": "white",
            "showbackground": true,
            "ticks": "",
            "zerolinecolor": "white"
           }
          },
          "shapedefaults": {
           "line": {
            "color": "#2a3f5f"
           }
          },
          "ternary": {
           "aaxis": {
            "gridcolor": "white",
            "linecolor": "white",
            "ticks": ""
           },
           "baxis": {
            "gridcolor": "white",
            "linecolor": "white",
            "ticks": ""
           },
           "bgcolor": "#E5ECF6",
           "caxis": {
            "gridcolor": "white",
            "linecolor": "white",
            "ticks": ""
           }
          },
          "title": {
           "x": 0.05
          },
          "xaxis": {
           "automargin": true,
           "gridcolor": "white",
           "linecolor": "white",
           "ticks": "",
           "title": {
            "standoff": 15
           },
           "zerolinecolor": "white",
           "zerolinewidth": 2
          },
          "yaxis": {
           "automargin": true,
           "gridcolor": "white",
           "linecolor": "white",
           "ticks": "",
           "title": {
            "standoff": 15
           },
           "zerolinecolor": "white",
           "zerolinewidth": 2
          }
         }
        },
        "title": {
         "font": {
          "color": "#484848"
         },
         "text": "Books with their rating and rating count"
        },
        "xaxis": {
         "gridcolor": "#E1E5ED",
         "showgrid": true,
         "tickfont": {
          "color": "#505050"
         },
         "title": {
          "font": {
           "color": "#505050"
          },
          "text": "Book Name"
         },
         "zerolinecolor": "#E1E5ED"
        },
        "yaxis": {
         "gridcolor": "#E1E5ED",
         "showgrid": true,
         "tickfont": {
          "color": "#505050"
         },
         "title": {
          "font": {
           "color": "#505050"
          },
          "text": "Rating Count"
         },
         "zerolinecolor": "#E1E5ED"
        },
        "yaxis2": {
         "anchor": "x",
         "gridcolor": "#E1E5ED",
         "overlaying": "y",
         "showgrid": true,
         "side": "right",
         "tickfont": {
          "color": "#505050"
         },
         "title": {
          "text": "Rating"
         },
         "zerolinecolor": "#E1E5ED"
        }
       }
      },
      "text/html": [
       "<div>\n",
       "        \n",
       "        \n",
       "            <div id=\"90448823-6c2f-4eb6-8f19-1a392f311247\" class=\"plotly-graph-div\" style=\"height:525px; width:100%;\"></div>\n",
       "            <script type=\"text/javascript\">\n",
       "                require([\"plotly\"], function(Plotly) {\n",
       "                    window.PLOTLYENV=window.PLOTLYENV || {};\n",
       "                    window.PLOTLYENV.BASE_URL='https://plot.ly';\n",
       "                    \n",
       "                if (document.getElementById(\"90448823-6c2f-4eb6-8f19-1a392f311247\")) {\n",
       "                    Plotly.newPlot(\n",
       "                        '90448823-6c2f-4eb6-8f19-1a392f311247',\n",
       "                        [{\"line\": {\"color\": \"rgba(0, 128, 240, 1.0)\", \"dash\": \"solid\", \"shape\": \"linear\", \"width\": 1.3}, \"mode\": \"lines\", \"name\": \"rating_count\", \"text\": \"\", \"type\": \"scatter\", \"x\": [\"Harry Potter and the Deathly Hallows (Harry Potter, #7)\", \"J.R.R. Tolkien 4-Book Boxed Set: The Hobbit and The Lord of the Rings\", \"Clockwork Princess (The Infernal Devices, #3)\", \"Harry Potter and the Prisoner of Azkaban (Harry Potter, #3)\", \"Harry Potter and the Half-Blood Prince (Harry Potter, #6)\", \"Harry Potter and the Goblet of Fire (Harry Potter, #4)\", \"The Name of the Wind (The Kingkiller Chronicle, #1)\", \"A Storm of Swords (A Song of Ice and Fire, #3)\", \"The Last Olympian (Percy Jackson and the Olympians, #5)\", \"Harry Potter and the Order of the Phoenix (Harry Potter, #5)\", \"Lonesome Dove\", \"The Hunger Games Trilogy Boxset (The Hunger Games, #1-3)\", \"The Help\", \"Harry Potter and the Sorcerer's Stone (Harry Potter, #1)\", \"A Game of Thrones (A Song of Ice and Fire, #1)\", \"The Compleat Works of Wllm Shkspr\", \"Harry Potter and the Chamber of Secrets (Harry Potter, #2)\", \"The Battle of the Labyrinth (Percy Jackson and the Olympians, #4)\", \"The Complete Stories and Poems\", \"The Giving Tree\", \"How the Grinch Stole Christmas!\", \"A Thousand Splendid Suns\", \"The Book Thief\", \"The Godfather\", \"The Ultimate Hitchhiker's Guide to the Galaxy (Hitchhiker's Guide to the Galaxy, #1-5)\", \"Shadow Kiss (Vampire Academy, #3)\", \"Watchmen\", \"The Fellowship of the Ring (The Lord of the Rings, #1)\", \"Oh, the Places You'll Go!\", \"Winnie-the-Pooh (Winnie-the-Pooh, #1)\", \"The Lorax\", \"The Titan's Curse (Percy Jackson and the Olympians, #3)\", \"The Little House Collection (Little House, #1-9)\", \"The Stand\", \"Blood Promise (Vampire Academy, #4)\", \"The Hunger Games (The Hunger Games, #1)\", \"Clockwork Angel (The Infernal Devices, #1)\", \"Matilda\", \"The Pillars of the Earth (Kingsbridge, #1)\", \"The Brothers Karamazov\", \"The Little Prince\", \"The Kite Runner\", \"Ender's Game (Ender's Saga, #1)\", \"The Very Hungry Caterpillar\", \"The Adventures of Sherlock Holmes\", \"Gone with the Wind\", \"Green Eggs and Ham\", \"The Master and Margarita\", \"Goodnight Moon\", \"Frostbite (Vampire Academy, #2)\", \"To Kill a Mockingbird\", \"The Shadow of the Wind (The Cemetery of Forgotten Books, #1)\", \"A Tree Grows in Brooklyn\", \"The Hobbit, or There and Back Again\", \"And Then There Were None\", \"The Princess Bride\", \"Pride and Prejudice\", \"Anne of Green Gables (Anne of Green Gables, #1)\", \"The Chronicles of Narnia (Chronicles of Narnia, #1-7)\", \"The Count of Monte Cristo\", \"Good Omens: The Nice and Accurate Prophecies of Agnes Nutter, Witch\", \"The Lightning Thief (Percy Jackson and the Olympians, #1)\", \"The Sea of Monsters (Percy Jackson and the Olympians, #2)\", \"It\", \"The Girl Who Played with Fire (Millennium, #2)\", \"Rebecca\", \"Outlander (Outlander, #1)\", \"The Thorn Birds\", \"Dune (Dune, #1)\", \"The Prophet\", \"The Shining\", \"A Prayer for Owen Meany\", \"Where the Wild Things Are\", \"Crime and Punishment\", \"The Lion, the Witch and the Wardrobe (Chronicles of Narnia, #1)\", \"The Hitchhiker's Guide to the Galaxy (Hitchhiker's Guide to the Galaxy, #1)\", \"The Fault in Our Stars\", \"The Phantom Tollbooth\", \"The Color Purple\", \"The Perks of Being a Wallflower\", \"Divergent (Divergent, #1)\", \"Fight Club\", \"One Flew Over the Cuckoo's Nest\", \"A Walk to Remember\", \"1984\", \"The Red Tent\", \"The Neverending Story\", \"The Importance of Being Earnest\", \"The Cat in the Hat\", \"Les Mis\\u00e9rables\", \"Charlotte's Web\", \"The Girl with the Dragon Tattoo (Millennium, #1)\", \"The Secret Garden\", \"Charlie and the Chocolate Factory (Charlie Bucket, #1)\", \"The Giver (The Giver, #1)\", \"Flowers for Algernon\", \"The Name of the Rose\", \"Memoirs of a Geisha\", \"Jane Eyre\", \"The Mists of Avalon (Avalon, #1)\", \"Vampire Academy (Vampire Academy, #1)\", \"Tuesdays with Morrie\", \"American Gods (American Gods, #1)\", \"Angela's Ashes (Frank McCourt, #1)\", \"The Handmaid's Tale (The Handmaid's Tale, #1)\", \"The Notebook (The Notebook, #1)\", \"The Outsiders\", \"City of Bones (The Mortal Instruments, #1)\", \"The Unbearable Lightness of Being\", \"Water for Elephants\", \"The World According to Garp\", \"The Picture of Dorian Gray\", \"One Hundred Years of Solitude\", \"My Sister's Keeper\", \"Little Women\", \"Where the Red Fern Grows\", \"The Three Musketeers (The D'Artagnan Romances, #1)\", \"In Cold Blood\", \"Slaughterhouse-Five\", \"Peter Pan\", \"The Poisonwood Bible\", \"The Divine Comedy\", \"Alice's Adventures in Wonderland & Through the Looking-Glass\", \"Watership Down (Watership Down, #1)\", \"The Secret Life of Bees\", \"The Clan of the Cave Bear\", \"Anna Karenina\", \"Insurgent (Divergent, #2)\", \"Alice in Wonderland\", \"Looking for Alaska\", \"Siddhartha\", \"The Maze Runner (The Maze Runner, #1)\", \"Perfume: The Story of a Murderer\", \"Bridge to Terabithia\", \"Middlesex\", \"The Bell Jar\", \"Interview with the Vampire (The Vampire Chronicles, #1)\", \"A Wrinkle in Time (Time Quintet, #1)\", \"Dracula\", \"Brave New World\", \"David Copperfield\", \"The Wonderful Wizard of Oz (Oz, #1)\", \"Fahrenheit 451\", \"A Clockwork Orange\", \"All Quiet on the Western Front\", \"The Stranger\", \"Catch-22 (Catch-22, #1)\", \"The Good Earth (House of Earth, #1)\", \"The Golden Compass (His Dark Materials, #1)\", \"The Road\", \"The Time Traveler's Wife\", \"Hush, Hush (Hush, Hush, #1)\", \"Holes (Holes, #1)\", \"A Midsummer Night's Dream\", \"The Five People You Meet in Heaven\", \"Animal Farm\", \"Thirteen Reasons Why\", \"The Joy Luck Club\", \"Their Eyes Were Watching God\", \"Love in the Time of Cholera\", \"The Great Gatsby\", \"Atonement\", \"Life of Pi\", \"The Adventures of Tom Sawyer\", \"Eragon (The Inheritance Cycle, #1)\", \"Lolita\", \"Don Quixote\", \"The Curious Incident of the Dog in the Night-Time\", \"Of Mice and Men\", \"The Alchemist\", \"The Call of the Wild\", \"Oliver Twist\", \"Wuthering Heights\", \"The Da Vinci Code (Robert Langdon, #2)\", \"A Tale of Two Cities\", \"Jonathan Livingston Seagull\", \"Treasure Island\", \"The Adventures of Huckleberry Finn\", \"The Metamorphosis\", \"The Lovely Bones\", \"The Catcher in the Rye\", \"A Farewell to Arms\", \"Frankenstein: The 1818 Text\", \"Tess of the D'Urbervilles\", \"The Old Man and the Sea\", \"Great Expectations\", \"The Odyssey\", \"Romeo and Juliet\", \"Ulysses\", \"Atlas Shrugged\", \"Lord of the Flies\", \"Madame Bovary\", \"Fifty Shades of Grey (Fifty Shades, #1)\", \"On the Road\", \"Twilight (Twilight, #1)\", \"Eat, Pray, Love\", \"Moby-Dick or, the Whale\", \"The Canterbury Tales\", \"Heart of Darkness\", \"The Scarlet Letter\"], \"y\": [2727866, 108159, 322153, 2707133, 2365928, 2512466, 689482, 652469, 640864, 2432082, 143713, 185382, 2108929, 6816505, 1955323, 8387, 2636724, 713134, 213208, 882692, 320777, 1119695, 1780696, 324121, 280667, 318446, 479982, 2306627, 318818, 261110, 274734, 657435, 139775, 598529, 269673, 6227649, 642285, 617817, 632406, 235664, 1301280, 2367149, 1103599, 384666, 235715, 1058472, 596229, 233033, 296693, 302142, 4380949, 442781, 381044, 2818258, 778107, 762834, 2908472, 703541, 501470, 731480, 520791, 1924238, 718536, 773869, 794264, 431126, 798845, 308048, 720389, 227070, 1091201, 282797, 795292, 605518, 2073217, 1391859, 3442704, 231087, 504945, 1220320, 2829132, 487278, 619142, 659147, 3028465, 511585, 157669, 297028, 411450, 670765, 1376825, 2546719, 865711, 643197, 1731244, 465403, 290790, 1688167, 1586497, 186751, 536169, 761297, 738345, 528350, 1405109, 1302293, 909522, 1578190, 330210, 1353987, 202103, 933185, 732202, 1042128, 1639339, 334363, 267265, 510903, 1106498, 263133, 649693, 112964, 446210, 424104, 1099337, 224508, 648579, 1138169, 370150, 1084932, 564222, 1016567, 313987, 432801, 574954, 574540, 473309, 1032058, 907583, 1403280, 195509, 356175, 1626094, 585745, 348744, 682372, 709855, 220074, 1255441, 700693, 1547251, 557440, 945754, 435907, 568163, 2656168, 755060, 590478, 254205, 399837, 3679998, 431748, 1310141, 740312, 1403688, 648420, 202768, 1164672, 1901282, 2028312, 330590, 311428, 1309433, 1888626, 795790, 196750, 390719, 1136571, 614304, 1978789, 2674826, 258028, 1133264, 233965, 806160, 636293, 845479, 2016094, 107595, 348284, 2213727, 245447, 1890385, 341062, 4842942, 1443225, 470996, 185560, 406735, 691688]}, {\"line\": {\"color\": \"rgba(238, 118, 0, 1.0)\", \"dash\": \"solid\", \"shape\": \"linear\", \"width\": 1.3}, \"mode\": \"lines\", \"name\": \"rating\", \"text\": \"\", \"type\": \"scatter\", \"x\": [\"Harry Potter and the Deathly Hallows (Harry Potter, #7)\", \"J.R.R. Tolkien 4-Book Boxed Set: The Hobbit and The Lord of the Rings\", \"Clockwork Princess (The Infernal Devices, #3)\", \"Harry Potter and the Prisoner of Azkaban (Harry Potter, #3)\", \"Harry Potter and the Half-Blood Prince (Harry Potter, #6)\", \"Harry Potter and the Goblet of Fire (Harry Potter, #4)\", \"The Name of the Wind (The Kingkiller Chronicle, #1)\", \"A Storm of Swords (A Song of Ice and Fire, #3)\", \"The Last Olympian (Percy Jackson and the Olympians, #5)\", \"Harry Potter and the Order of the Phoenix (Harry Potter, #5)\", \"Lonesome Dove\", \"The Hunger Games Trilogy Boxset (The Hunger Games, #1-3)\", \"The Help\", \"Harry Potter and the Sorcerer's Stone (Harry Potter, #1)\", \"A Game of Thrones (A Song of Ice and Fire, #1)\", \"The Compleat Works of Wllm Shkspr\", \"Harry Potter and the Chamber of Secrets (Harry Potter, #2)\", \"The Battle of the Labyrinth (Percy Jackson and the Olympians, #4)\", \"The Complete Stories and Poems\", \"The Giving Tree\", \"How the Grinch Stole Christmas!\", \"A Thousand Splendid Suns\", \"The Book Thief\", \"The Godfather\", \"The Ultimate Hitchhiker's Guide to the Galaxy (Hitchhiker's Guide to the Galaxy, #1-5)\", \"Shadow Kiss (Vampire Academy, #3)\", \"Watchmen\", \"The Fellowship of the Ring (The Lord of the Rings, #1)\", \"Oh, the Places You'll Go!\", \"Winnie-the-Pooh (Winnie-the-Pooh, #1)\", \"The Lorax\", \"The Titan's Curse (Percy Jackson and the Olympians, #3)\", \"The Little House Collection (Little House, #1-9)\", \"The Stand\", \"Blood Promise (Vampire Academy, #4)\", \"The Hunger Games (The Hunger Games, #1)\", \"Clockwork Angel (The Infernal Devices, #1)\", \"Matilda\", \"The Pillars of the Earth (Kingsbridge, #1)\", \"The Brothers Karamazov\", \"The Little Prince\", \"The Kite Runner\", \"Ender's Game (Ender's Saga, #1)\", \"The Very Hungry Caterpillar\", \"The Adventures of Sherlock Holmes\", \"Gone with the Wind\", \"Green Eggs and Ham\", \"The Master and Margarita\", \"Goodnight Moon\", \"Frostbite (Vampire Academy, #2)\", \"To Kill a Mockingbird\", \"The Shadow of the Wind (The Cemetery of Forgotten Books, #1)\", \"A Tree Grows in Brooklyn\", \"The Hobbit, or There and Back Again\", \"And Then There Were None\", \"The Princess Bride\", \"Pride and Prejudice\", \"Anne of Green Gables (Anne of Green Gables, #1)\", \"The Chronicles of Narnia (Chronicles of Narnia, #1-7)\", \"The Count of Monte Cristo\", \"Good Omens: The Nice and Accurate Prophecies of Agnes Nutter, Witch\", \"The Lightning Thief (Percy Jackson and the Olympians, #1)\", \"The Sea of Monsters (Percy Jackson and the Olympians, #2)\", \"It\", \"The Girl Who Played with Fire (Millennium, #2)\", \"Rebecca\", \"Outlander (Outlander, #1)\", \"The Thorn Birds\", \"Dune (Dune, #1)\", \"The Prophet\", \"The Shining\", \"A Prayer for Owen Meany\", \"Where the Wild Things Are\", \"Crime and Punishment\", \"The Lion, the Witch and the Wardrobe (Chronicles of Narnia, #1)\", \"The Hitchhiker's Guide to the Galaxy (Hitchhiker's Guide to the Galaxy, #1)\", \"The Fault in Our Stars\", \"The Phantom Tollbooth\", \"The Color Purple\", \"The Perks of Being a Wallflower\", \"Divergent (Divergent, #1)\", \"Fight Club\", \"One Flew Over the Cuckoo's Nest\", \"A Walk to Remember\", \"1984\", \"The Red Tent\", \"The Neverending Story\", \"The Importance of Being Earnest\", \"The Cat in the Hat\", \"Les Mis\\u00e9rables\", \"Charlotte's Web\", \"The Girl with the Dragon Tattoo (Millennium, #1)\", \"The Secret Garden\", \"Charlie and the Chocolate Factory (Charlie Bucket, #1)\", \"The Giver (The Giver, #1)\", \"Flowers for Algernon\", \"The Name of the Rose\", \"Memoirs of a Geisha\", \"Jane Eyre\", \"The Mists of Avalon (Avalon, #1)\", \"Vampire Academy (Vampire Academy, #1)\", \"Tuesdays with Morrie\", \"American Gods (American Gods, #1)\", \"Angela's Ashes (Frank McCourt, #1)\", \"The Handmaid's Tale (The Handmaid's Tale, #1)\", \"The Notebook (The Notebook, #1)\", \"The Outsiders\", \"City of Bones (The Mortal Instruments, #1)\", \"The Unbearable Lightness of Being\", \"Water for Elephants\", \"The World According to Garp\", \"The Picture of Dorian Gray\", \"One Hundred Years of Solitude\", \"My Sister's Keeper\", \"Little Women\", \"Where the Red Fern Grows\", \"The Three Musketeers (The D'Artagnan Romances, #1)\", \"In Cold Blood\", \"Slaughterhouse-Five\", \"Peter Pan\", \"The Poisonwood Bible\", \"The Divine Comedy\", \"Alice's Adventures in Wonderland & Through the Looking-Glass\", \"Watership Down (Watership Down, #1)\", \"The Secret Life of Bees\", \"The Clan of the Cave Bear\", \"Anna Karenina\", \"Insurgent (Divergent, #2)\", \"Alice in Wonderland\", \"Looking for Alaska\", \"Siddhartha\", \"The Maze Runner (The Maze Runner, #1)\", \"Perfume: The Story of a Murderer\", \"Bridge to Terabithia\", \"Middlesex\", \"The Bell Jar\", \"Interview with the Vampire (The Vampire Chronicles, #1)\", \"A Wrinkle in Time (Time Quintet, #1)\", \"Dracula\", \"Brave New World\", \"David Copperfield\", \"The Wonderful Wizard of Oz (Oz, #1)\", \"Fahrenheit 451\", \"A Clockwork Orange\", \"All Quiet on the Western Front\", \"The Stranger\", \"Catch-22 (Catch-22, #1)\", \"The Good Earth (House of Earth, #1)\", \"The Golden Compass (His Dark Materials, #1)\", \"The Road\", \"The Time Traveler's Wife\", \"Hush, Hush (Hush, Hush, #1)\", \"Holes (Holes, #1)\", \"A Midsummer Night's Dream\", \"The Five People You Meet in Heaven\", \"Animal Farm\", \"Thirteen Reasons Why\", \"The Joy Luck Club\", \"Their Eyes Were Watching God\", \"Love in the Time of Cholera\", \"The Great Gatsby\", \"Atonement\", \"Life of Pi\", \"The Adventures of Tom Sawyer\", \"Eragon (The Inheritance Cycle, #1)\", \"Lolita\", \"Don Quixote\", \"The Curious Incident of the Dog in the Night-Time\", \"Of Mice and Men\", \"The Alchemist\", \"The Call of the Wild\", \"Oliver Twist\", \"Wuthering Heights\", \"The Da Vinci Code (Robert Langdon, #2)\", \"A Tale of Two Cities\", \"Jonathan Livingston Seagull\", \"Treasure Island\", \"The Adventures of Huckleberry Finn\", \"The Metamorphosis\", \"The Lovely Bones\", \"The Catcher in the Rye\", \"A Farewell to Arms\", \"Frankenstein: The 1818 Text\", \"Tess of the D'Urbervilles\", \"The Old Man and the Sea\", \"Great Expectations\", \"The Odyssey\", \"Romeo and Juliet\", \"Ulysses\", \"Atlas Shrugged\", \"Lord of the Flies\", \"Madame Bovary\", \"Fifty Shades of Grey (Fifty Shades, #1)\", \"On the Road\", \"Twilight (Twilight, #1)\", \"Eat, Pray, Love\", \"Moby-Dick or, the Whale\", \"The Canterbury Tales\", \"Heart of Darkness\", \"The Scarlet Letter\"], \"xaxis\": \"x\", \"y\": [4.619999885559082, 4.599999904632568, 4.579999923706055, 4.570000171661377, 4.570000171661377, 4.559999942779541, 4.539999961853027, 4.539999961853027, 4.510000228881836, 4.5, 4.489999771118164, 4.480000019073486, 4.46999979019165, 4.46999979019165, 4.449999809265137, 4.440000057220459, 4.429999828338623, 4.400000095367432, 4.380000114440918, 4.380000114440918, 4.369999885559082, 4.369999885559082, 4.369999885559082, 4.369999885559082, 4.360000133514404, 4.360000133514404, 4.360000133514404, 4.360000133514404, 4.360000133514404, 4.349999904632568, 4.349999904632568, 4.349999904632568, 4.340000152587891, 4.340000152587891, 4.340000152587891, 4.329999923706055, 4.329999923706055, 4.320000171661377, 4.320000171661377, 4.320000171661377, 4.309999942779541, 4.300000190734863, 4.300000190734863, 4.300000190734863, 4.300000190734863, 4.300000190734863, 4.300000190734863, 4.289999961853027, 4.28000020980835, 4.28000020980835, 4.28000020980835, 4.269999980926514, 4.269999980926514, 4.269999980926514, 4.260000228881836, 4.260000228881836, 4.260000228881836, 4.260000228881836, 4.260000228881836, 4.25, 4.25, 4.25, 4.239999771118164, 4.239999771118164, 4.239999771118164, 4.230000019073486, 4.230000019073486, 4.230000019073486, 4.230000019073486, 4.230000019073486, 4.230000019073486, 4.230000019073486, 4.21999979019165, 4.21999979019165, 4.21999979019165, 4.21999979019165, 4.210000038146973, 4.210000038146973, 4.210000038146973, 4.199999809265137, 4.199999809265137, 4.190000057220459, 4.190000057220459, 4.179999828338623, 4.179999828338623, 4.179999828338623, 4.179999828338623, 4.179999828338623, 4.170000076293945, 4.170000076293945, 4.170000076293945, 4.139999866485596, 4.139999866485596, 4.139999866485596, 4.130000114440918, 4.130000114440918, 4.119999885559082, 4.119999885559082, 4.119999885559082, 4.119999885559082, 4.119999885559082, 4.110000133514404, 4.110000133514404, 4.110000133514404, 4.110000133514404, 4.099999904632568, 4.099999904632568, 4.099999904632568, 4.099999904632568, 4.090000152587891, 4.090000152587891, 4.079999923706055, 4.079999923706055, 4.079999923706055, 4.079999923706055, 4.079999923706055, 4.070000171661377, 4.070000171661377, 4.070000171661377, 4.070000171661377, 4.059999942779541, 4.059999942779541, 4.059999942779541, 4.059999942779541, 4.050000190734863, 4.050000190734863, 4.050000190734863, 4.03000020980835, 4.03000020980835, 4.03000020980835, 4.03000020980835, 4.019999980926514, 4.019999980926514, 4.010000228881836, 4.010000228881836, 4.010000228881836, 4.0, 4.0, 4.0, 3.990000009536743, 3.990000009536743, 3.990000009536743, 3.990000009536743, 3.990000009536743, 3.9800000190734863, 3.9800000190734863, 3.9800000190734863, 3.9800000190734863, 3.9800000190734863, 3.9700000286102295, 3.9700000286102295, 3.9700000286102295, 3.9700000286102295, 3.950000047683716, 3.940000057220459, 3.940000057220459, 3.930000066757202, 3.930000066757202, 3.930000066757202, 3.9200000762939453, 3.9200000762939453, 3.9100000858306885, 3.9100000858306885, 3.9100000858306885, 3.9000000953674316, 3.890000104904175, 3.880000114440918, 3.880000114440918, 3.869999885559082, 3.869999885559082, 3.869999885559082, 3.869999885559082, 3.859999895095825, 3.8499999046325684, 3.8399999141693115, 3.8399999141693115, 3.8299999237060547, 3.819999933242798, 3.819999933242798, 3.809999942779541, 3.809999942779541, 3.809999942779541, 3.799999952316284, 3.799999952316284, 3.7799999713897705, 3.7799999713897705, 3.7699999809265137, 3.75, 3.7300000190734863, 3.690000057220459, 3.680000066757202, 3.680000066757202, 3.6600000858306885, 3.619999885559082, 3.5899999141693115, 3.559999942779541, 3.5, 3.5, 3.4200000762939453, 3.4100000858306885], \"yaxis\": \"y2\"}],\n",
       "                        {\"legend\": {\"bgcolor\": \"#F2F3F7\", \"font\": {\"color\": \"#505050\"}}, \"paper_bgcolor\": \"#F2F3F7\", \"plot_bgcolor\": \"#F2F3F7\", \"template\": {\"data\": {\"bar\": [{\"error_x\": {\"color\": \"#2a3f5f\"}, \"error_y\": {\"color\": \"#2a3f5f\"}, \"marker\": {\"line\": {\"color\": \"#E5ECF6\", \"width\": 0.5}}, \"type\": \"bar\"}], \"barpolar\": [{\"marker\": {\"line\": {\"color\": \"#E5ECF6\", \"width\": 0.5}}, \"type\": \"barpolar\"}], \"carpet\": [{\"aaxis\": {\"endlinecolor\": \"#2a3f5f\", \"gridcolor\": \"white\", \"linecolor\": \"white\", \"minorgridcolor\": \"white\", \"startlinecolor\": \"#2a3f5f\"}, \"baxis\": {\"endlinecolor\": \"#2a3f5f\", \"gridcolor\": \"white\", \"linecolor\": \"white\", \"minorgridcolor\": \"white\", \"startlinecolor\": \"#2a3f5f\"}, \"type\": \"carpet\"}], \"choropleth\": [{\"colorbar\": {\"outlinewidth\": 0, \"ticks\": \"\"}, \"type\": \"choropleth\"}], \"contour\": [{\"colorbar\": {\"outlinewidth\": 0, \"ticks\": \"\"}, \"colorscale\": [[0.0, \"#0d0887\"], [0.1111111111111111, \"#46039f\"], [0.2222222222222222, \"#7201a8\"], [0.3333333333333333, \"#9c179e\"], [0.4444444444444444, \"#bd3786\"], [0.5555555555555556, \"#d8576b\"], [0.6666666666666666, \"#ed7953\"], [0.7777777777777778, \"#fb9f3a\"], [0.8888888888888888, \"#fdca26\"], [1.0, \"#f0f921\"]], \"type\": \"contour\"}], \"contourcarpet\": [{\"colorbar\": {\"outlinewidth\": 0, \"ticks\": \"\"}, \"type\": \"contourcarpet\"}], \"heatmap\": [{\"colorbar\": {\"outlinewidth\": 0, \"ticks\": \"\"}, \"colorscale\": [[0.0, \"#0d0887\"], [0.1111111111111111, \"#46039f\"], [0.2222222222222222, \"#7201a8\"], [0.3333333333333333, \"#9c179e\"], [0.4444444444444444, \"#bd3786\"], [0.5555555555555556, \"#d8576b\"], [0.6666666666666666, \"#ed7953\"], [0.7777777777777778, \"#fb9f3a\"], [0.8888888888888888, \"#fdca26\"], [1.0, \"#f0f921\"]], \"type\": \"heatmap\"}], \"heatmapgl\": [{\"colorbar\": {\"outlinewidth\": 0, \"ticks\": \"\"}, \"colorscale\": [[0.0, \"#0d0887\"], [0.1111111111111111, \"#46039f\"], [0.2222222222222222, \"#7201a8\"], [0.3333333333333333, \"#9c179e\"], [0.4444444444444444, \"#bd3786\"], [0.5555555555555556, \"#d8576b\"], [0.6666666666666666, \"#ed7953\"], [0.7777777777777778, \"#fb9f3a\"], [0.8888888888888888, \"#fdca26\"], [1.0, \"#f0f921\"]], \"type\": \"heatmapgl\"}], \"histogram\": [{\"marker\": {\"colorbar\": {\"outlinewidth\": 0, \"ticks\": \"\"}}, \"type\": \"histogram\"}], \"histogram2d\": [{\"colorbar\": {\"outlinewidth\": 0, \"ticks\": \"\"}, \"colorscale\": [[0.0, \"#0d0887\"], [0.1111111111111111, \"#46039f\"], [0.2222222222222222, \"#7201a8\"], [0.3333333333333333, \"#9c179e\"], [0.4444444444444444, \"#bd3786\"], [0.5555555555555556, \"#d8576b\"], [0.6666666666666666, \"#ed7953\"], [0.7777777777777778, \"#fb9f3a\"], [0.8888888888888888, \"#fdca26\"], [1.0, \"#f0f921\"]], \"type\": \"histogram2d\"}], \"histogram2dcontour\": [{\"colorbar\": {\"outlinewidth\": 0, \"ticks\": \"\"}, \"colorscale\": [[0.0, \"#0d0887\"], [0.1111111111111111, \"#46039f\"], [0.2222222222222222, \"#7201a8\"], [0.3333333333333333, \"#9c179e\"], [0.4444444444444444, \"#bd3786\"], [0.5555555555555556, \"#d8576b\"], [0.6666666666666666, \"#ed7953\"], [0.7777777777777778, \"#fb9f3a\"], [0.8888888888888888, \"#fdca26\"], [1.0, \"#f0f921\"]], \"type\": \"histogram2dcontour\"}], \"mesh3d\": [{\"colorbar\": {\"outlinewidth\": 0, \"ticks\": \"\"}, \"type\": \"mesh3d\"}], \"parcoords\": [{\"line\": {\"colorbar\": {\"outlinewidth\": 0, \"ticks\": \"\"}}, \"type\": \"parcoords\"}], \"pie\": [{\"automargin\": true, \"type\": \"pie\"}], \"scatter\": [{\"marker\": {\"colorbar\": {\"outlinewidth\": 0, \"ticks\": \"\"}}, \"type\": \"scatter\"}], \"scatter3d\": [{\"line\": {\"colorbar\": {\"outlinewidth\": 0, \"ticks\": \"\"}}, \"marker\": {\"colorbar\": {\"outlinewidth\": 0, \"ticks\": \"\"}}, \"type\": \"scatter3d\"}], \"scattercarpet\": [{\"marker\": {\"colorbar\": {\"outlinewidth\": 0, \"ticks\": \"\"}}, \"type\": \"scattercarpet\"}], \"scattergeo\": [{\"marker\": {\"colorbar\": {\"outlinewidth\": 0, \"ticks\": \"\"}}, \"type\": \"scattergeo\"}], \"scattergl\": [{\"marker\": {\"colorbar\": {\"outlinewidth\": 0, \"ticks\": \"\"}}, \"type\": \"scattergl\"}], \"scattermapbox\": [{\"marker\": {\"colorbar\": {\"outlinewidth\": 0, \"ticks\": \"\"}}, \"type\": \"scattermapbox\"}], \"scatterpolar\": [{\"marker\": {\"colorbar\": {\"outlinewidth\": 0, \"ticks\": \"\"}}, \"type\": \"scatterpolar\"}], \"scatterpolargl\": [{\"marker\": {\"colorbar\": {\"outlinewidth\": 0, \"ticks\": \"\"}}, \"type\": \"scatterpolargl\"}], \"scatterternary\": [{\"marker\": {\"colorbar\": {\"outlinewidth\": 0, \"ticks\": \"\"}}, \"type\": \"scatterternary\"}], \"surface\": [{\"colorbar\": {\"outlinewidth\": 0, \"ticks\": \"\"}, \"colorscale\": [[0.0, \"#0d0887\"], [0.1111111111111111, \"#46039f\"], [0.2222222222222222, \"#7201a8\"], [0.3333333333333333, \"#9c179e\"], [0.4444444444444444, \"#bd3786\"], [0.5555555555555556, \"#d8576b\"], [0.6666666666666666, \"#ed7953\"], [0.7777777777777778, \"#fb9f3a\"], [0.8888888888888888, \"#fdca26\"], [1.0, \"#f0f921\"]], \"type\": \"surface\"}], \"table\": [{\"cells\": {\"fill\": {\"color\": \"#EBF0F8\"}, \"line\": {\"color\": \"white\"}}, \"header\": {\"fill\": {\"color\": \"#C8D4E3\"}, \"line\": {\"color\": \"white\"}}, \"type\": \"table\"}]}, \"layout\": {\"annotationdefaults\": {\"arrowcolor\": \"#2a3f5f\", \"arrowhead\": 0, \"arrowwidth\": 1}, \"coloraxis\": {\"colorbar\": {\"outlinewidth\": 0, \"ticks\": \"\"}}, \"colorscale\": {\"diverging\": [[0, \"#8e0152\"], [0.1, \"#c51b7d\"], [0.2, \"#de77ae\"], [0.3, \"#f1b6da\"], [0.4, \"#fde0ef\"], [0.5, \"#f7f7f7\"], [0.6, \"#e6f5d0\"], [0.7, \"#b8e186\"], [0.8, \"#7fbc41\"], [0.9, \"#4d9221\"], [1, \"#276419\"]], \"sequential\": [[0.0, \"#0d0887\"], [0.1111111111111111, \"#46039f\"], [0.2222222222222222, \"#7201a8\"], [0.3333333333333333, \"#9c179e\"], [0.4444444444444444, \"#bd3786\"], [0.5555555555555556, \"#d8576b\"], [0.6666666666666666, \"#ed7953\"], [0.7777777777777778, \"#fb9f3a\"], [0.8888888888888888, \"#fdca26\"], [1.0, \"#f0f921\"]], \"sequentialminus\": [[0.0, \"#0d0887\"], [0.1111111111111111, \"#46039f\"], [0.2222222222222222, \"#7201a8\"], [0.3333333333333333, \"#9c179e\"], [0.4444444444444444, \"#bd3786\"], [0.5555555555555556, \"#d8576b\"], [0.6666666666666666, \"#ed7953\"], [0.7777777777777778, \"#fb9f3a\"], [0.8888888888888888, \"#fdca26\"], [1.0, \"#f0f921\"]]}, \"colorway\": [\"#636efa\", \"#EF553B\", \"#00cc96\", \"#ab63fa\", \"#FFA15A\", \"#19d3f3\", \"#FF6692\", \"#B6E880\", \"#FF97FF\", \"#FECB52\"], \"font\": {\"color\": \"#2a3f5f\"}, \"geo\": {\"bgcolor\": \"white\", \"lakecolor\": \"white\", \"landcolor\": \"#E5ECF6\", \"showlakes\": true, \"showland\": true, \"subunitcolor\": \"white\"}, \"hoverlabel\": {\"align\": \"left\"}, \"hovermode\": \"closest\", \"mapbox\": {\"style\": \"light\"}, \"paper_bgcolor\": \"white\", \"plot_bgcolor\": \"#E5ECF6\", \"polar\": {\"angularaxis\": {\"gridcolor\": \"white\", \"linecolor\": \"white\", \"ticks\": \"\"}, \"bgcolor\": \"#E5ECF6\", \"radialaxis\": {\"gridcolor\": \"white\", \"linecolor\": \"white\", \"ticks\": \"\"}}, \"scene\": {\"xaxis\": {\"backgroundcolor\": \"#E5ECF6\", \"gridcolor\": \"white\", \"gridwidth\": 2, \"linecolor\": \"white\", \"showbackground\": true, \"ticks\": \"\", \"zerolinecolor\": \"white\"}, \"yaxis\": {\"backgroundcolor\": \"#E5ECF6\", \"gridcolor\": \"white\", \"gridwidth\": 2, \"linecolor\": \"white\", \"showbackground\": true, \"ticks\": \"\", \"zerolinecolor\": \"white\"}, \"zaxis\": {\"backgroundcolor\": \"#E5ECF6\", \"gridcolor\": \"white\", \"gridwidth\": 2, \"linecolor\": \"white\", \"showbackground\": true, \"ticks\": \"\", \"zerolinecolor\": \"white\"}}, \"shapedefaults\": {\"line\": {\"color\": \"#2a3f5f\"}}, \"ternary\": {\"aaxis\": {\"gridcolor\": \"white\", \"linecolor\": \"white\", \"ticks\": \"\"}, \"baxis\": {\"gridcolor\": \"white\", \"linecolor\": \"white\", \"ticks\": \"\"}, \"bgcolor\": \"#E5ECF6\", \"caxis\": {\"gridcolor\": \"white\", \"linecolor\": \"white\", \"ticks\": \"\"}}, \"title\": {\"x\": 0.05}, \"xaxis\": {\"automargin\": true, \"gridcolor\": \"white\", \"linecolor\": \"white\", \"ticks\": \"\", \"title\": {\"standoff\": 15}, \"zerolinecolor\": \"white\", \"zerolinewidth\": 2}, \"yaxis\": {\"automargin\": true, \"gridcolor\": \"white\", \"linecolor\": \"white\", \"ticks\": \"\", \"title\": {\"standoff\": 15}, \"zerolinecolor\": \"white\", \"zerolinewidth\": 2}}}, \"title\": {\"font\": {\"color\": \"#484848\"}, \"text\": \"Books with their rating and rating count\"}, \"xaxis\": {\"gridcolor\": \"#E1E5ED\", \"showgrid\": true, \"tickfont\": {\"color\": \"#505050\"}, \"title\": {\"font\": {\"color\": \"#505050\"}, \"text\": \"Book Name\"}, \"zerolinecolor\": \"#E1E5ED\"}, \"yaxis\": {\"gridcolor\": \"#E1E5ED\", \"showgrid\": true, \"tickfont\": {\"color\": \"#505050\"}, \"title\": {\"font\": {\"color\": \"#505050\"}, \"text\": \"Rating Count\"}, \"zerolinecolor\": \"#E1E5ED\"}, \"yaxis2\": {\"anchor\": \"x\", \"gridcolor\": \"#E1E5ED\", \"overlaying\": \"y\", \"showgrid\": true, \"side\": \"right\", \"tickfont\": {\"color\": \"#505050\"}, \"title\": {\"text\": \"Rating\"}, \"zerolinecolor\": \"#E1E5ED\"}},\n",
       "                        {\"showLink\": true, \"linkText\": \"Export to plot.ly\", \"plotlyServerURL\": \"https://plot.ly\", \"responsive\": true}\n",
       "                    ).then(function(){\n",
       "                            \n",
       "var gd = document.getElementById('90448823-6c2f-4eb6-8f19-1a392f311247');\n",
       "var x = new MutationObserver(function (mutations, observer) {{\n",
       "        var display = window.getComputedStyle(gd).display;\n",
       "        if (!display || display === 'none') {{\n",
       "            console.log([gd, 'removed!']);\n",
       "            Plotly.purge(gd);\n",
       "            observer.disconnect();\n",
       "        }}\n",
       "}});\n",
       "\n",
       "// Listen for the removal of the full notebook cells\n",
       "var notebookContainer = gd.closest('#notebook-container');\n",
       "if (notebookContainer) {{\n",
       "    x.observe(notebookContainer, {childList: true});\n",
       "}}\n",
       "\n",
       "// Listen for the clearing of the current output cell\n",
       "var outputEl = gd.closest('.output');\n",
       "if (outputEl) {{\n",
       "    x.observe(outputEl, {childList: true});\n",
       "}}\n",
       "\n",
       "                        })\n",
       "                };\n",
       "                });\n",
       "            </script>\n",
       "        </div>"
      ]
     },
     "metadata": {},
     "output_type": "display_data"
    }
   ],
   "source": [
    "df.groupby('name')[['rating_count', 'rating']].sum().sort_values('rating', ascending = False).iplot(\n",
    " \n",
    "xTitle = 'Book Name',\n",
    "yTitle = 'Rating Count',\n",
    "secondary_y = 'rating',\n",
    "secondary_y_title = 'Rating',\n",
    "title = 'Books with their rating and rating count')"
   ]
  },
  {
   "cell_type": "markdown",
   "metadata": {},
   "source": [
    "## Maximum rating and rating count for each genre"
   ]
  },
  {
   "cell_type": "code",
   "execution_count": 27,
   "metadata": {
    "ExecuteTime": {
     "end_time": "2020-07-13T20:10:28.069402Z",
     "start_time": "2020-07-13T20:10:28.044136Z"
    }
   },
   "outputs": [
    {
     "data": {
      "text/html": [
       "<div>\n",
       "<style scoped>\n",
       "    .dataframe tbody tr th:only-of-type {\n",
       "        vertical-align: middle;\n",
       "    }\n",
       "\n",
       "    .dataframe tbody tr th {\n",
       "        vertical-align: top;\n",
       "    }\n",
       "\n",
       "    .dataframe thead th {\n",
       "        text-align: right;\n",
       "    }\n",
       "</style>\n",
       "<table border=\"1\" class=\"dataframe\">\n",
       "  <thead>\n",
       "    <tr style=\"text-align: right;\">\n",
       "      <th></th>\n",
       "      <th>max_rating</th>\n",
       "      <th>max_rating_count</th>\n",
       "    </tr>\n",
       "    <tr>\n",
       "      <th>genres</th>\n",
       "      <th></th>\n",
       "      <th></th>\n",
       "    </tr>\n",
       "  </thead>\n",
       "  <tbody>\n",
       "    <tr>\n",
       "      <th>Nonfiction</th>\n",
       "      <td>4.11</td>\n",
       "      <td>1443225</td>\n",
       "    </tr>\n",
       "    <tr>\n",
       "      <th>Romance</th>\n",
       "      <td>4.18</td>\n",
       "      <td>1890385</td>\n",
       "    </tr>\n",
       "    <tr>\n",
       "      <th>Cultural</th>\n",
       "      <td>4.22</td>\n",
       "      <td>605518</td>\n",
       "    </tr>\n",
       "    <tr>\n",
       "      <th>Poetry</th>\n",
       "      <td>4.23</td>\n",
       "      <td>227070</td>\n",
       "    </tr>\n",
       "    <tr>\n",
       "      <th>Mystery</th>\n",
       "      <td>4.26</td>\n",
       "      <td>778107</td>\n",
       "    </tr>\n",
       "    <tr>\n",
       "      <th>Horror</th>\n",
       "      <td>4.34</td>\n",
       "      <td>1091201</td>\n",
       "    </tr>\n",
       "    <tr>\n",
       "      <th>Science Fiction</th>\n",
       "      <td>4.36</td>\n",
       "      <td>1391859</td>\n",
       "    </tr>\n",
       "    <tr>\n",
       "      <th>Sequential Art</th>\n",
       "      <td>4.36</td>\n",
       "      <td>479982</td>\n",
       "    </tr>\n",
       "    <tr>\n",
       "      <th>Historical</th>\n",
       "      <td>4.37</td>\n",
       "      <td>1780696</td>\n",
       "    </tr>\n",
       "    <tr>\n",
       "      <th>Childrens</th>\n",
       "      <td>4.38</td>\n",
       "      <td>882692</td>\n",
       "    </tr>\n",
       "    <tr>\n",
       "      <th>Classics</th>\n",
       "      <td>4.38</td>\n",
       "      <td>4380949</td>\n",
       "    </tr>\n",
       "    <tr>\n",
       "      <th>Plays</th>\n",
       "      <td>4.44</td>\n",
       "      <td>8387</td>\n",
       "    </tr>\n",
       "    <tr>\n",
       "      <th>Young Adult</th>\n",
       "      <td>4.48</td>\n",
       "      <td>6227649</td>\n",
       "    </tr>\n",
       "    <tr>\n",
       "      <th>Fiction</th>\n",
       "      <td>4.49</td>\n",
       "      <td>2546719</td>\n",
       "    </tr>\n",
       "    <tr>\n",
       "      <th>Fantasy</th>\n",
       "      <td>4.62</td>\n",
       "      <td>6816505</td>\n",
       "    </tr>\n",
       "  </tbody>\n",
       "</table>\n",
       "</div>"
      ],
      "text/plain": [
       "                 max_rating  max_rating_count\n",
       "genres                                       \n",
       "Nonfiction             4.11           1443225\n",
       "Romance                4.18           1890385\n",
       "Cultural               4.22            605518\n",
       "Poetry                 4.23            227070\n",
       "Mystery                4.26            778107\n",
       "Horror                 4.34           1091201\n",
       "Science Fiction        4.36           1391859\n",
       "Sequential Art         4.36            479982\n",
       "Historical             4.37           1780696\n",
       "Childrens              4.38            882692\n",
       "Classics               4.38           4380949\n",
       "Plays                  4.44              8387\n",
       "Young Adult            4.48           6227649\n",
       "Fiction                4.49           2546719\n",
       "Fantasy                4.62           6816505"
      ]
     },
     "execution_count": 27,
     "metadata": {},
     "output_type": "execute_result"
    }
   ],
   "source": [
    "df.groupby(['genres']).agg(max_rating=('rating',\n",
    "np.max),max_rating_count=('rating_count',np.max)).sort_values('max_rating')"
   ]
  },
  {
   "cell_type": "code",
   "execution_count": 28,
   "metadata": {
    "ExecuteTime": {
     "end_time": "2020-07-13T20:10:28.419299Z",
     "start_time": "2020-07-13T20:10:28.071882Z"
    }
   },
   "outputs": [
    {
     "data": {
      "application/vnd.plotly.v1+json": {
       "config": {
        "linkText": "Export to plot.ly",
        "plotlyServerURL": "https://plot.ly",
        "showLink": true
       },
       "data": [
        {
         "line": {
          "color": "rgba(0, 128, 240, 1.0)",
          "dash": "solid",
          "shape": "linear",
          "width": 1.3
         },
         "mode": "lines",
         "name": "max_rating",
         "text": "",
         "type": "scatter",
         "x": [
          "Nonfiction",
          "Romance",
          "Cultural",
          "Poetry",
          "Mystery",
          "Horror",
          "Science Fiction",
          "Sequential Art",
          "Historical",
          "Childrens",
          "Classics",
          "Plays",
          "Young Adult",
          "Fiction",
          "Fantasy"
         ],
         "xaxis": "x",
         "y": [
          4.110000133514404,
          4.179999828338623,
          4.21999979019165,
          4.230000019073486,
          4.260000228881836,
          4.340000152587891,
          4.360000133514404,
          4.360000133514404,
          4.369999885559082,
          4.380000114440918,
          4.380000114440918,
          4.440000057220459,
          4.480000019073486,
          4.489999771118164,
          4.619999885559082
         ],
         "yaxis": "y2"
        },
        {
         "line": {
          "color": "rgba(238, 118, 0, 1.0)",
          "dash": "solid",
          "shape": "linear",
          "width": 1.3
         },
         "mode": "lines",
         "name": "max_rating_count",
         "text": "",
         "type": "scatter",
         "x": [
          "Nonfiction",
          "Romance",
          "Cultural",
          "Poetry",
          "Mystery",
          "Horror",
          "Science Fiction",
          "Sequential Art",
          "Historical",
          "Childrens",
          "Classics",
          "Plays",
          "Young Adult",
          "Fiction",
          "Fantasy"
         ],
         "y": [
          1443225,
          1890385,
          605518,
          227070,
          778107,
          1091201,
          1391859,
          479982,
          1780696,
          882692,
          4380949,
          8387,
          6227649,
          2546719,
          6816505
         ]
        }
       ],
       "layout": {
        "legend": {
         "bgcolor": "#F2F3F7",
         "font": {
          "color": "#505050"
         }
        },
        "paper_bgcolor": "#F2F3F7",
        "plot_bgcolor": "#F2F3F7",
        "template": {
         "data": {
          "bar": [
           {
            "error_x": {
             "color": "#2a3f5f"
            },
            "error_y": {
             "color": "#2a3f5f"
            },
            "marker": {
             "line": {
              "color": "#E5ECF6",
              "width": 0.5
             }
            },
            "type": "bar"
           }
          ],
          "barpolar": [
           {
            "marker": {
             "line": {
              "color": "#E5ECF6",
              "width": 0.5
             }
            },
            "type": "barpolar"
           }
          ],
          "carpet": [
           {
            "aaxis": {
             "endlinecolor": "#2a3f5f",
             "gridcolor": "white",
             "linecolor": "white",
             "minorgridcolor": "white",
             "startlinecolor": "#2a3f5f"
            },
            "baxis": {
             "endlinecolor": "#2a3f5f",
             "gridcolor": "white",
             "linecolor": "white",
             "minorgridcolor": "white",
             "startlinecolor": "#2a3f5f"
            },
            "type": "carpet"
           }
          ],
          "choropleth": [
           {
            "colorbar": {
             "outlinewidth": 0,
             "ticks": ""
            },
            "type": "choropleth"
           }
          ],
          "contour": [
           {
            "colorbar": {
             "outlinewidth": 0,
             "ticks": ""
            },
            "colorscale": [
             [
              0,
              "#0d0887"
             ],
             [
              0.1111111111111111,
              "#46039f"
             ],
             [
              0.2222222222222222,
              "#7201a8"
             ],
             [
              0.3333333333333333,
              "#9c179e"
             ],
             [
              0.4444444444444444,
              "#bd3786"
             ],
             [
              0.5555555555555556,
              "#d8576b"
             ],
             [
              0.6666666666666666,
              "#ed7953"
             ],
             [
              0.7777777777777778,
              "#fb9f3a"
             ],
             [
              0.8888888888888888,
              "#fdca26"
             ],
             [
              1,
              "#f0f921"
             ]
            ],
            "type": "contour"
           }
          ],
          "contourcarpet": [
           {
            "colorbar": {
             "outlinewidth": 0,
             "ticks": ""
            },
            "type": "contourcarpet"
           }
          ],
          "heatmap": [
           {
            "colorbar": {
             "outlinewidth": 0,
             "ticks": ""
            },
            "colorscale": [
             [
              0,
              "#0d0887"
             ],
             [
              0.1111111111111111,
              "#46039f"
             ],
             [
              0.2222222222222222,
              "#7201a8"
             ],
             [
              0.3333333333333333,
              "#9c179e"
             ],
             [
              0.4444444444444444,
              "#bd3786"
             ],
             [
              0.5555555555555556,
              "#d8576b"
             ],
             [
              0.6666666666666666,
              "#ed7953"
             ],
             [
              0.7777777777777778,
              "#fb9f3a"
             ],
             [
              0.8888888888888888,
              "#fdca26"
             ],
             [
              1,
              "#f0f921"
             ]
            ],
            "type": "heatmap"
           }
          ],
          "heatmapgl": [
           {
            "colorbar": {
             "outlinewidth": 0,
             "ticks": ""
            },
            "colorscale": [
             [
              0,
              "#0d0887"
             ],
             [
              0.1111111111111111,
              "#46039f"
             ],
             [
              0.2222222222222222,
              "#7201a8"
             ],
             [
              0.3333333333333333,
              "#9c179e"
             ],
             [
              0.4444444444444444,
              "#bd3786"
             ],
             [
              0.5555555555555556,
              "#d8576b"
             ],
             [
              0.6666666666666666,
              "#ed7953"
             ],
             [
              0.7777777777777778,
              "#fb9f3a"
             ],
             [
              0.8888888888888888,
              "#fdca26"
             ],
             [
              1,
              "#f0f921"
             ]
            ],
            "type": "heatmapgl"
           }
          ],
          "histogram": [
           {
            "marker": {
             "colorbar": {
              "outlinewidth": 0,
              "ticks": ""
             }
            },
            "type": "histogram"
           }
          ],
          "histogram2d": [
           {
            "colorbar": {
             "outlinewidth": 0,
             "ticks": ""
            },
            "colorscale": [
             [
              0,
              "#0d0887"
             ],
             [
              0.1111111111111111,
              "#46039f"
             ],
             [
              0.2222222222222222,
              "#7201a8"
             ],
             [
              0.3333333333333333,
              "#9c179e"
             ],
             [
              0.4444444444444444,
              "#bd3786"
             ],
             [
              0.5555555555555556,
              "#d8576b"
             ],
             [
              0.6666666666666666,
              "#ed7953"
             ],
             [
              0.7777777777777778,
              "#fb9f3a"
             ],
             [
              0.8888888888888888,
              "#fdca26"
             ],
             [
              1,
              "#f0f921"
             ]
            ],
            "type": "histogram2d"
           }
          ],
          "histogram2dcontour": [
           {
            "colorbar": {
             "outlinewidth": 0,
             "ticks": ""
            },
            "colorscale": [
             [
              0,
              "#0d0887"
             ],
             [
              0.1111111111111111,
              "#46039f"
             ],
             [
              0.2222222222222222,
              "#7201a8"
             ],
             [
              0.3333333333333333,
              "#9c179e"
             ],
             [
              0.4444444444444444,
              "#bd3786"
             ],
             [
              0.5555555555555556,
              "#d8576b"
             ],
             [
              0.6666666666666666,
              "#ed7953"
             ],
             [
              0.7777777777777778,
              "#fb9f3a"
             ],
             [
              0.8888888888888888,
              "#fdca26"
             ],
             [
              1,
              "#f0f921"
             ]
            ],
            "type": "histogram2dcontour"
           }
          ],
          "mesh3d": [
           {
            "colorbar": {
             "outlinewidth": 0,
             "ticks": ""
            },
            "type": "mesh3d"
           }
          ],
          "parcoords": [
           {
            "line": {
             "colorbar": {
              "outlinewidth": 0,
              "ticks": ""
             }
            },
            "type": "parcoords"
           }
          ],
          "pie": [
           {
            "automargin": true,
            "type": "pie"
           }
          ],
          "scatter": [
           {
            "marker": {
             "colorbar": {
              "outlinewidth": 0,
              "ticks": ""
             }
            },
            "type": "scatter"
           }
          ],
          "scatter3d": [
           {
            "line": {
             "colorbar": {
              "outlinewidth": 0,
              "ticks": ""
             }
            },
            "marker": {
             "colorbar": {
              "outlinewidth": 0,
              "ticks": ""
             }
            },
            "type": "scatter3d"
           }
          ],
          "scattercarpet": [
           {
            "marker": {
             "colorbar": {
              "outlinewidth": 0,
              "ticks": ""
             }
            },
            "type": "scattercarpet"
           }
          ],
          "scattergeo": [
           {
            "marker": {
             "colorbar": {
              "outlinewidth": 0,
              "ticks": ""
             }
            },
            "type": "scattergeo"
           }
          ],
          "scattergl": [
           {
            "marker": {
             "colorbar": {
              "outlinewidth": 0,
              "ticks": ""
             }
            },
            "type": "scattergl"
           }
          ],
          "scattermapbox": [
           {
            "marker": {
             "colorbar": {
              "outlinewidth": 0,
              "ticks": ""
             }
            },
            "type": "scattermapbox"
           }
          ],
          "scatterpolar": [
           {
            "marker": {
             "colorbar": {
              "outlinewidth": 0,
              "ticks": ""
             }
            },
            "type": "scatterpolar"
           }
          ],
          "scatterpolargl": [
           {
            "marker": {
             "colorbar": {
              "outlinewidth": 0,
              "ticks": ""
             }
            },
            "type": "scatterpolargl"
           }
          ],
          "scatterternary": [
           {
            "marker": {
             "colorbar": {
              "outlinewidth": 0,
              "ticks": ""
             }
            },
            "type": "scatterternary"
           }
          ],
          "surface": [
           {
            "colorbar": {
             "outlinewidth": 0,
             "ticks": ""
            },
            "colorscale": [
             [
              0,
              "#0d0887"
             ],
             [
              0.1111111111111111,
              "#46039f"
             ],
             [
              0.2222222222222222,
              "#7201a8"
             ],
             [
              0.3333333333333333,
              "#9c179e"
             ],
             [
              0.4444444444444444,
              "#bd3786"
             ],
             [
              0.5555555555555556,
              "#d8576b"
             ],
             [
              0.6666666666666666,
              "#ed7953"
             ],
             [
              0.7777777777777778,
              "#fb9f3a"
             ],
             [
              0.8888888888888888,
              "#fdca26"
             ],
             [
              1,
              "#f0f921"
             ]
            ],
            "type": "surface"
           }
          ],
          "table": [
           {
            "cells": {
             "fill": {
              "color": "#EBF0F8"
             },
             "line": {
              "color": "white"
             }
            },
            "header": {
             "fill": {
              "color": "#C8D4E3"
             },
             "line": {
              "color": "white"
             }
            },
            "type": "table"
           }
          ]
         },
         "layout": {
          "annotationdefaults": {
           "arrowcolor": "#2a3f5f",
           "arrowhead": 0,
           "arrowwidth": 1
          },
          "coloraxis": {
           "colorbar": {
            "outlinewidth": 0,
            "ticks": ""
           }
          },
          "colorscale": {
           "diverging": [
            [
             0,
             "#8e0152"
            ],
            [
             0.1,
             "#c51b7d"
            ],
            [
             0.2,
             "#de77ae"
            ],
            [
             0.3,
             "#f1b6da"
            ],
            [
             0.4,
             "#fde0ef"
            ],
            [
             0.5,
             "#f7f7f7"
            ],
            [
             0.6,
             "#e6f5d0"
            ],
            [
             0.7,
             "#b8e186"
            ],
            [
             0.8,
             "#7fbc41"
            ],
            [
             0.9,
             "#4d9221"
            ],
            [
             1,
             "#276419"
            ]
           ],
           "sequential": [
            [
             0,
             "#0d0887"
            ],
            [
             0.1111111111111111,
             "#46039f"
            ],
            [
             0.2222222222222222,
             "#7201a8"
            ],
            [
             0.3333333333333333,
             "#9c179e"
            ],
            [
             0.4444444444444444,
             "#bd3786"
            ],
            [
             0.5555555555555556,
             "#d8576b"
            ],
            [
             0.6666666666666666,
             "#ed7953"
            ],
            [
             0.7777777777777778,
             "#fb9f3a"
            ],
            [
             0.8888888888888888,
             "#fdca26"
            ],
            [
             1,
             "#f0f921"
            ]
           ],
           "sequentialminus": [
            [
             0,
             "#0d0887"
            ],
            [
             0.1111111111111111,
             "#46039f"
            ],
            [
             0.2222222222222222,
             "#7201a8"
            ],
            [
             0.3333333333333333,
             "#9c179e"
            ],
            [
             0.4444444444444444,
             "#bd3786"
            ],
            [
             0.5555555555555556,
             "#d8576b"
            ],
            [
             0.6666666666666666,
             "#ed7953"
            ],
            [
             0.7777777777777778,
             "#fb9f3a"
            ],
            [
             0.8888888888888888,
             "#fdca26"
            ],
            [
             1,
             "#f0f921"
            ]
           ]
          },
          "colorway": [
           "#636efa",
           "#EF553B",
           "#00cc96",
           "#ab63fa",
           "#FFA15A",
           "#19d3f3",
           "#FF6692",
           "#B6E880",
           "#FF97FF",
           "#FECB52"
          ],
          "font": {
           "color": "#2a3f5f"
          },
          "geo": {
           "bgcolor": "white",
           "lakecolor": "white",
           "landcolor": "#E5ECF6",
           "showlakes": true,
           "showland": true,
           "subunitcolor": "white"
          },
          "hoverlabel": {
           "align": "left"
          },
          "hovermode": "closest",
          "mapbox": {
           "style": "light"
          },
          "paper_bgcolor": "white",
          "plot_bgcolor": "#E5ECF6",
          "polar": {
           "angularaxis": {
            "gridcolor": "white",
            "linecolor": "white",
            "ticks": ""
           },
           "bgcolor": "#E5ECF6",
           "radialaxis": {
            "gridcolor": "white",
            "linecolor": "white",
            "ticks": ""
           }
          },
          "scene": {
           "xaxis": {
            "backgroundcolor": "#E5ECF6",
            "gridcolor": "white",
            "gridwidth": 2,
            "linecolor": "white",
            "showbackground": true,
            "ticks": "",
            "zerolinecolor": "white"
           },
           "yaxis": {
            "backgroundcolor": "#E5ECF6",
            "gridcolor": "white",
            "gridwidth": 2,
            "linecolor": "white",
            "showbackground": true,
            "ticks": "",
            "zerolinecolor": "white"
           },
           "zaxis": {
            "backgroundcolor": "#E5ECF6",
            "gridcolor": "white",
            "gridwidth": 2,
            "linecolor": "white",
            "showbackground": true,
            "ticks": "",
            "zerolinecolor": "white"
           }
          },
          "shapedefaults": {
           "line": {
            "color": "#2a3f5f"
           }
          },
          "ternary": {
           "aaxis": {
            "gridcolor": "white",
            "linecolor": "white",
            "ticks": ""
           },
           "baxis": {
            "gridcolor": "white",
            "linecolor": "white",
            "ticks": ""
           },
           "bgcolor": "#E5ECF6",
           "caxis": {
            "gridcolor": "white",
            "linecolor": "white",
            "ticks": ""
           }
          },
          "title": {
           "x": 0.05
          },
          "xaxis": {
           "automargin": true,
           "gridcolor": "white",
           "linecolor": "white",
           "ticks": "",
           "title": {
            "standoff": 15
           },
           "zerolinecolor": "white",
           "zerolinewidth": 2
          },
          "yaxis": {
           "automargin": true,
           "gridcolor": "white",
           "linecolor": "white",
           "ticks": "",
           "title": {
            "standoff": 15
           },
           "zerolinecolor": "white",
           "zerolinewidth": 2
          }
         }
        },
        "title": {
         "font": {
          "color": "#484848"
         },
         "text": "Max rating and max rating count"
        },
        "xaxis": {
         "gridcolor": "#E1E5ED",
         "showgrid": true,
         "tickfont": {
          "color": "#505050"
         },
         "title": {
          "font": {
           "color": "#505050"
          },
          "text": "Genres"
         },
         "zerolinecolor": "#E1E5ED"
        },
        "yaxis": {
         "gridcolor": "#E1E5ED",
         "showgrid": true,
         "tickfont": {
          "color": "#505050"
         },
         "title": {
          "font": {
           "color": "#505050"
          },
          "text": "Max rating Count"
         },
         "zerolinecolor": "#E1E5ED"
        },
        "yaxis2": {
         "anchor": "x",
         "gridcolor": "#E1E5ED",
         "overlaying": "y",
         "showgrid": true,
         "side": "right",
         "tickfont": {
          "color": "#505050"
         },
         "title": {
          "text": "Max rating"
         },
         "zerolinecolor": "#E1E5ED"
        }
       }
      },
      "text/html": [
       "<div>\n",
       "        \n",
       "        \n",
       "            <div id=\"9d58c319-e9c3-43ff-8331-ffa4eb10ffde\" class=\"plotly-graph-div\" style=\"height:525px; width:100%;\"></div>\n",
       "            <script type=\"text/javascript\">\n",
       "                require([\"plotly\"], function(Plotly) {\n",
       "                    window.PLOTLYENV=window.PLOTLYENV || {};\n",
       "                    window.PLOTLYENV.BASE_URL='https://plot.ly';\n",
       "                    \n",
       "                if (document.getElementById(\"9d58c319-e9c3-43ff-8331-ffa4eb10ffde\")) {\n",
       "                    Plotly.newPlot(\n",
       "                        '9d58c319-e9c3-43ff-8331-ffa4eb10ffde',\n",
       "                        [{\"line\": {\"color\": \"rgba(0, 128, 240, 1.0)\", \"dash\": \"solid\", \"shape\": \"linear\", \"width\": 1.3}, \"mode\": \"lines\", \"name\": \"max_rating\", \"text\": \"\", \"type\": \"scatter\", \"x\": [\"Nonfiction\", \"Romance\", \"Cultural\", \"Poetry\", \"Mystery\", \"Horror\", \"Science Fiction\", \"Sequential Art\", \"Historical\", \"Childrens\", \"Classics\", \"Plays\", \"Young Adult\", \"Fiction\", \"Fantasy\"], \"xaxis\": \"x\", \"y\": [4.110000133514404, 4.179999828338623, 4.21999979019165, 4.230000019073486, 4.260000228881836, 4.340000152587891, 4.360000133514404, 4.360000133514404, 4.369999885559082, 4.380000114440918, 4.380000114440918, 4.440000057220459, 4.480000019073486, 4.489999771118164, 4.619999885559082], \"yaxis\": \"y2\"}, {\"line\": {\"color\": \"rgba(238, 118, 0, 1.0)\", \"dash\": \"solid\", \"shape\": \"linear\", \"width\": 1.3}, \"mode\": \"lines\", \"name\": \"max_rating_count\", \"text\": \"\", \"type\": \"scatter\", \"x\": [\"Nonfiction\", \"Romance\", \"Cultural\", \"Poetry\", \"Mystery\", \"Horror\", \"Science Fiction\", \"Sequential Art\", \"Historical\", \"Childrens\", \"Classics\", \"Plays\", \"Young Adult\", \"Fiction\", \"Fantasy\"], \"y\": [1443225, 1890385, 605518, 227070, 778107, 1091201, 1391859, 479982, 1780696, 882692, 4380949, 8387, 6227649, 2546719, 6816505]}],\n",
       "                        {\"legend\": {\"bgcolor\": \"#F2F3F7\", \"font\": {\"color\": \"#505050\"}}, \"paper_bgcolor\": \"#F2F3F7\", \"plot_bgcolor\": \"#F2F3F7\", \"template\": {\"data\": {\"bar\": [{\"error_x\": {\"color\": \"#2a3f5f\"}, \"error_y\": {\"color\": \"#2a3f5f\"}, \"marker\": {\"line\": {\"color\": \"#E5ECF6\", \"width\": 0.5}}, \"type\": \"bar\"}], \"barpolar\": [{\"marker\": {\"line\": {\"color\": \"#E5ECF6\", \"width\": 0.5}}, \"type\": \"barpolar\"}], \"carpet\": [{\"aaxis\": {\"endlinecolor\": \"#2a3f5f\", \"gridcolor\": \"white\", \"linecolor\": \"white\", \"minorgridcolor\": \"white\", \"startlinecolor\": \"#2a3f5f\"}, \"baxis\": {\"endlinecolor\": \"#2a3f5f\", \"gridcolor\": \"white\", \"linecolor\": \"white\", \"minorgridcolor\": \"white\", \"startlinecolor\": \"#2a3f5f\"}, \"type\": \"carpet\"}], \"choropleth\": [{\"colorbar\": {\"outlinewidth\": 0, \"ticks\": \"\"}, \"type\": \"choropleth\"}], \"contour\": [{\"colorbar\": {\"outlinewidth\": 0, \"ticks\": \"\"}, \"colorscale\": [[0.0, \"#0d0887\"], [0.1111111111111111, \"#46039f\"], [0.2222222222222222, \"#7201a8\"], [0.3333333333333333, \"#9c179e\"], [0.4444444444444444, \"#bd3786\"], [0.5555555555555556, \"#d8576b\"], [0.6666666666666666, \"#ed7953\"], [0.7777777777777778, \"#fb9f3a\"], [0.8888888888888888, \"#fdca26\"], [1.0, \"#f0f921\"]], \"type\": \"contour\"}], \"contourcarpet\": [{\"colorbar\": {\"outlinewidth\": 0, \"ticks\": \"\"}, \"type\": \"contourcarpet\"}], \"heatmap\": [{\"colorbar\": {\"outlinewidth\": 0, \"ticks\": \"\"}, \"colorscale\": [[0.0, \"#0d0887\"], [0.1111111111111111, \"#46039f\"], [0.2222222222222222, \"#7201a8\"], [0.3333333333333333, \"#9c179e\"], [0.4444444444444444, \"#bd3786\"], [0.5555555555555556, \"#d8576b\"], [0.6666666666666666, \"#ed7953\"], [0.7777777777777778, \"#fb9f3a\"], [0.8888888888888888, \"#fdca26\"], [1.0, \"#f0f921\"]], \"type\": \"heatmap\"}], \"heatmapgl\": [{\"colorbar\": {\"outlinewidth\": 0, \"ticks\": \"\"}, \"colorscale\": [[0.0, \"#0d0887\"], [0.1111111111111111, \"#46039f\"], [0.2222222222222222, \"#7201a8\"], [0.3333333333333333, \"#9c179e\"], [0.4444444444444444, \"#bd3786\"], [0.5555555555555556, \"#d8576b\"], [0.6666666666666666, \"#ed7953\"], [0.7777777777777778, \"#fb9f3a\"], [0.8888888888888888, \"#fdca26\"], [1.0, \"#f0f921\"]], \"type\": \"heatmapgl\"}], \"histogram\": [{\"marker\": {\"colorbar\": {\"outlinewidth\": 0, \"ticks\": \"\"}}, \"type\": \"histogram\"}], \"histogram2d\": [{\"colorbar\": {\"outlinewidth\": 0, \"ticks\": \"\"}, \"colorscale\": [[0.0, \"#0d0887\"], [0.1111111111111111, \"#46039f\"], [0.2222222222222222, \"#7201a8\"], [0.3333333333333333, \"#9c179e\"], [0.4444444444444444, \"#bd3786\"], [0.5555555555555556, \"#d8576b\"], [0.6666666666666666, \"#ed7953\"], [0.7777777777777778, \"#fb9f3a\"], [0.8888888888888888, \"#fdca26\"], [1.0, \"#f0f921\"]], \"type\": \"histogram2d\"}], \"histogram2dcontour\": [{\"colorbar\": {\"outlinewidth\": 0, \"ticks\": \"\"}, \"colorscale\": [[0.0, \"#0d0887\"], [0.1111111111111111, \"#46039f\"], [0.2222222222222222, \"#7201a8\"], [0.3333333333333333, \"#9c179e\"], [0.4444444444444444, \"#bd3786\"], [0.5555555555555556, \"#d8576b\"], [0.6666666666666666, \"#ed7953\"], [0.7777777777777778, \"#fb9f3a\"], [0.8888888888888888, \"#fdca26\"], [1.0, \"#f0f921\"]], \"type\": \"histogram2dcontour\"}], \"mesh3d\": [{\"colorbar\": {\"outlinewidth\": 0, \"ticks\": \"\"}, \"type\": \"mesh3d\"}], \"parcoords\": [{\"line\": {\"colorbar\": {\"outlinewidth\": 0, \"ticks\": \"\"}}, \"type\": \"parcoords\"}], \"pie\": [{\"automargin\": true, \"type\": \"pie\"}], \"scatter\": [{\"marker\": {\"colorbar\": {\"outlinewidth\": 0, \"ticks\": \"\"}}, \"type\": \"scatter\"}], \"scatter3d\": [{\"line\": {\"colorbar\": {\"outlinewidth\": 0, \"ticks\": \"\"}}, \"marker\": {\"colorbar\": {\"outlinewidth\": 0, \"ticks\": \"\"}}, \"type\": \"scatter3d\"}], \"scattercarpet\": [{\"marker\": {\"colorbar\": {\"outlinewidth\": 0, \"ticks\": \"\"}}, \"type\": \"scattercarpet\"}], \"scattergeo\": [{\"marker\": {\"colorbar\": {\"outlinewidth\": 0, \"ticks\": \"\"}}, \"type\": \"scattergeo\"}], \"scattergl\": [{\"marker\": {\"colorbar\": {\"outlinewidth\": 0, \"ticks\": \"\"}}, \"type\": \"scattergl\"}], \"scattermapbox\": [{\"marker\": {\"colorbar\": {\"outlinewidth\": 0, \"ticks\": \"\"}}, \"type\": \"scattermapbox\"}], \"scatterpolar\": [{\"marker\": {\"colorbar\": {\"outlinewidth\": 0, \"ticks\": \"\"}}, \"type\": \"scatterpolar\"}], \"scatterpolargl\": [{\"marker\": {\"colorbar\": {\"outlinewidth\": 0, \"ticks\": \"\"}}, \"type\": \"scatterpolargl\"}], \"scatterternary\": [{\"marker\": {\"colorbar\": {\"outlinewidth\": 0, \"ticks\": \"\"}}, \"type\": \"scatterternary\"}], \"surface\": [{\"colorbar\": {\"outlinewidth\": 0, \"ticks\": \"\"}, \"colorscale\": [[0.0, \"#0d0887\"], [0.1111111111111111, \"#46039f\"], [0.2222222222222222, \"#7201a8\"], [0.3333333333333333, \"#9c179e\"], [0.4444444444444444, \"#bd3786\"], [0.5555555555555556, \"#d8576b\"], [0.6666666666666666, \"#ed7953\"], [0.7777777777777778, \"#fb9f3a\"], [0.8888888888888888, \"#fdca26\"], [1.0, \"#f0f921\"]], \"type\": \"surface\"}], \"table\": [{\"cells\": {\"fill\": {\"color\": \"#EBF0F8\"}, \"line\": {\"color\": \"white\"}}, \"header\": {\"fill\": {\"color\": \"#C8D4E3\"}, \"line\": {\"color\": \"white\"}}, \"type\": \"table\"}]}, \"layout\": {\"annotationdefaults\": {\"arrowcolor\": \"#2a3f5f\", \"arrowhead\": 0, \"arrowwidth\": 1}, \"coloraxis\": {\"colorbar\": {\"outlinewidth\": 0, \"ticks\": \"\"}}, \"colorscale\": {\"diverging\": [[0, \"#8e0152\"], [0.1, \"#c51b7d\"], [0.2, \"#de77ae\"], [0.3, \"#f1b6da\"], [0.4, \"#fde0ef\"], [0.5, \"#f7f7f7\"], [0.6, \"#e6f5d0\"], [0.7, \"#b8e186\"], [0.8, \"#7fbc41\"], [0.9, \"#4d9221\"], [1, \"#276419\"]], \"sequential\": [[0.0, \"#0d0887\"], [0.1111111111111111, \"#46039f\"], [0.2222222222222222, \"#7201a8\"], [0.3333333333333333, \"#9c179e\"], [0.4444444444444444, \"#bd3786\"], [0.5555555555555556, \"#d8576b\"], [0.6666666666666666, \"#ed7953\"], [0.7777777777777778, \"#fb9f3a\"], [0.8888888888888888, \"#fdca26\"], [1.0, \"#f0f921\"]], \"sequentialminus\": [[0.0, \"#0d0887\"], [0.1111111111111111, \"#46039f\"], [0.2222222222222222, \"#7201a8\"], [0.3333333333333333, \"#9c179e\"], [0.4444444444444444, \"#bd3786\"], [0.5555555555555556, \"#d8576b\"], [0.6666666666666666, \"#ed7953\"], [0.7777777777777778, \"#fb9f3a\"], [0.8888888888888888, \"#fdca26\"], [1.0, \"#f0f921\"]]}, \"colorway\": [\"#636efa\", \"#EF553B\", \"#00cc96\", \"#ab63fa\", \"#FFA15A\", \"#19d3f3\", \"#FF6692\", \"#B6E880\", \"#FF97FF\", \"#FECB52\"], \"font\": {\"color\": \"#2a3f5f\"}, \"geo\": {\"bgcolor\": \"white\", \"lakecolor\": \"white\", \"landcolor\": \"#E5ECF6\", \"showlakes\": true, \"showland\": true, \"subunitcolor\": \"white\"}, \"hoverlabel\": {\"align\": \"left\"}, \"hovermode\": \"closest\", \"mapbox\": {\"style\": \"light\"}, \"paper_bgcolor\": \"white\", \"plot_bgcolor\": \"#E5ECF6\", \"polar\": {\"angularaxis\": {\"gridcolor\": \"white\", \"linecolor\": \"white\", \"ticks\": \"\"}, \"bgcolor\": \"#E5ECF6\", \"radialaxis\": {\"gridcolor\": \"white\", \"linecolor\": \"white\", \"ticks\": \"\"}}, \"scene\": {\"xaxis\": {\"backgroundcolor\": \"#E5ECF6\", \"gridcolor\": \"white\", \"gridwidth\": 2, \"linecolor\": \"white\", \"showbackground\": true, \"ticks\": \"\", \"zerolinecolor\": \"white\"}, \"yaxis\": {\"backgroundcolor\": \"#E5ECF6\", \"gridcolor\": \"white\", \"gridwidth\": 2, \"linecolor\": \"white\", \"showbackground\": true, \"ticks\": \"\", \"zerolinecolor\": \"white\"}, \"zaxis\": {\"backgroundcolor\": \"#E5ECF6\", \"gridcolor\": \"white\", \"gridwidth\": 2, \"linecolor\": \"white\", \"showbackground\": true, \"ticks\": \"\", \"zerolinecolor\": \"white\"}}, \"shapedefaults\": {\"line\": {\"color\": \"#2a3f5f\"}}, \"ternary\": {\"aaxis\": {\"gridcolor\": \"white\", \"linecolor\": \"white\", \"ticks\": \"\"}, \"baxis\": {\"gridcolor\": \"white\", \"linecolor\": \"white\", \"ticks\": \"\"}, \"bgcolor\": \"#E5ECF6\", \"caxis\": {\"gridcolor\": \"white\", \"linecolor\": \"white\", \"ticks\": \"\"}}, \"title\": {\"x\": 0.05}, \"xaxis\": {\"automargin\": true, \"gridcolor\": \"white\", \"linecolor\": \"white\", \"ticks\": \"\", \"title\": {\"standoff\": 15}, \"zerolinecolor\": \"white\", \"zerolinewidth\": 2}, \"yaxis\": {\"automargin\": true, \"gridcolor\": \"white\", \"linecolor\": \"white\", \"ticks\": \"\", \"title\": {\"standoff\": 15}, \"zerolinecolor\": \"white\", \"zerolinewidth\": 2}}}, \"title\": {\"font\": {\"color\": \"#484848\"}, \"text\": \"Max rating and max rating count\"}, \"xaxis\": {\"gridcolor\": \"#E1E5ED\", \"showgrid\": true, \"tickfont\": {\"color\": \"#505050\"}, \"title\": {\"font\": {\"color\": \"#505050\"}, \"text\": \"Genres\"}, \"zerolinecolor\": \"#E1E5ED\"}, \"yaxis\": {\"gridcolor\": \"#E1E5ED\", \"showgrid\": true, \"tickfont\": {\"color\": \"#505050\"}, \"title\": {\"font\": {\"color\": \"#505050\"}, \"text\": \"Max rating Count\"}, \"zerolinecolor\": \"#E1E5ED\"}, \"yaxis2\": {\"anchor\": \"x\", \"gridcolor\": \"#E1E5ED\", \"overlaying\": \"y\", \"showgrid\": true, \"side\": \"right\", \"tickfont\": {\"color\": \"#505050\"}, \"title\": {\"text\": \"Max rating\"}, \"zerolinecolor\": \"#E1E5ED\"}},\n",
       "                        {\"showLink\": true, \"linkText\": \"Export to plot.ly\", \"plotlyServerURL\": \"https://plot.ly\", \"responsive\": true}\n",
       "                    ).then(function(){\n",
       "                            \n",
       "var gd = document.getElementById('9d58c319-e9c3-43ff-8331-ffa4eb10ffde');\n",
       "var x = new MutationObserver(function (mutations, observer) {{\n",
       "        var display = window.getComputedStyle(gd).display;\n",
       "        if (!display || display === 'none') {{\n",
       "            console.log([gd, 'removed!']);\n",
       "            Plotly.purge(gd);\n",
       "            observer.disconnect();\n",
       "        }}\n",
       "}});\n",
       "\n",
       "// Listen for the removal of the full notebook cells\n",
       "var notebookContainer = gd.closest('#notebook-container');\n",
       "if (notebookContainer) {{\n",
       "    x.observe(notebookContainer, {childList: true});\n",
       "}}\n",
       "\n",
       "// Listen for the clearing of the current output cell\n",
       "var outputEl = gd.closest('.output');\n",
       "if (outputEl) {{\n",
       "    x.observe(outputEl, {childList: true});\n",
       "}}\n",
       "\n",
       "                        })\n",
       "                };\n",
       "                });\n",
       "            </script>\n",
       "        </div>"
      ]
     },
     "metadata": {},
     "output_type": "display_data"
    }
   ],
   "source": [
    "df.groupby(['genres']).agg(max_rating=('rating',\n",
    "np.max),max_rating_count=('rating_count',np.max)).sort_values('max_rating').iplot(\n",
    "xTitle = 'Genres',\n",
    "yTitle = 'Max rating Count',\n",
    "secondary_y = 'max_rating',\n",
    "secondary_y_title = 'Max rating',\n",
    "title = 'Max rating and max rating count')"
   ]
  },
  {
   "cell_type": "markdown",
   "metadata": {},
   "source": [
    "## Book with rating_count and review_count"
   ]
  },
  {
   "cell_type": "code",
   "execution_count": 29,
   "metadata": {
    "ExecuteTime": {
     "end_time": "2020-07-13T20:10:28.614146Z",
     "start_time": "2020-07-13T20:10:28.421488Z"
    }
   },
   "outputs": [
    {
     "data": {
      "application/vnd.plotly.v1+json": {
       "config": {
        "linkText": "Export to plot.ly",
        "plotlyServerURL": "https://plot.ly",
        "showLink": true
       },
       "data": [
        {
         "line": {
          "color": "rgba(0, 128, 240, 1.0)",
          "dash": "solid",
          "shape": "linear",
          "width": 1.3
         },
         "mode": "lines",
         "name": "rating",
         "text": "",
         "type": "scatter",
         "x": [
          "Harry Potter and the Deathly Hallows (Harry Potter, #7)",
          "J.R.R. Tolkien 4-Book Boxed Set: The Hobbit and The Lord of the Rings",
          "Clockwork Princess (The Infernal Devices, #3)",
          "Harry Potter and the Prisoner of Azkaban (Harry Potter, #3)",
          "Harry Potter and the Half-Blood Prince (Harry Potter, #6)",
          "Harry Potter and the Goblet of Fire (Harry Potter, #4)",
          "The Name of the Wind (The Kingkiller Chronicle, #1)",
          "A Storm of Swords (A Song of Ice and Fire, #3)",
          "The Last Olympian (Percy Jackson and the Olympians, #5)",
          "Harry Potter and the Order of the Phoenix (Harry Potter, #5)",
          "Lonesome Dove",
          "The Hunger Games Trilogy Boxset (The Hunger Games, #1-3)",
          "The Help",
          "Harry Potter and the Sorcerer's Stone (Harry Potter, #1)",
          "A Game of Thrones (A Song of Ice and Fire, #1)",
          "The Compleat Works of Wllm Shkspr",
          "Harry Potter and the Chamber of Secrets (Harry Potter, #2)",
          "The Battle of the Labyrinth (Percy Jackson and the Olympians, #4)",
          "The Complete Stories and Poems",
          "The Giving Tree",
          "How the Grinch Stole Christmas!",
          "A Thousand Splendid Suns",
          "The Book Thief",
          "The Godfather",
          "The Ultimate Hitchhiker's Guide to the Galaxy (Hitchhiker's Guide to the Galaxy, #1-5)",
          "Shadow Kiss (Vampire Academy, #3)",
          "Watchmen",
          "The Fellowship of the Ring (The Lord of the Rings, #1)",
          "Oh, the Places You'll Go!",
          "Winnie-the-Pooh (Winnie-the-Pooh, #1)",
          "The Lorax",
          "The Titan's Curse (Percy Jackson and the Olympians, #3)",
          "The Little House Collection (Little House, #1-9)",
          "The Stand",
          "Blood Promise (Vampire Academy, #4)",
          "The Hunger Games (The Hunger Games, #1)",
          "Clockwork Angel (The Infernal Devices, #1)",
          "Matilda",
          "The Pillars of the Earth (Kingsbridge, #1)",
          "The Brothers Karamazov",
          "The Little Prince",
          "The Kite Runner",
          "Ender's Game (Ender's Saga, #1)",
          "The Very Hungry Caterpillar",
          "The Adventures of Sherlock Holmes",
          "Gone with the Wind",
          "Green Eggs and Ham",
          "The Master and Margarita",
          "Goodnight Moon",
          "Frostbite (Vampire Academy, #2)",
          "To Kill a Mockingbird",
          "The Shadow of the Wind (The Cemetery of Forgotten Books, #1)",
          "A Tree Grows in Brooklyn",
          "The Hobbit, or There and Back Again",
          "And Then There Were None",
          "The Princess Bride",
          "Pride and Prejudice",
          "Anne of Green Gables (Anne of Green Gables, #1)",
          "The Chronicles of Narnia (Chronicles of Narnia, #1-7)",
          "The Count of Monte Cristo",
          "Good Omens: The Nice and Accurate Prophecies of Agnes Nutter, Witch",
          "The Lightning Thief (Percy Jackson and the Olympians, #1)",
          "The Sea of Monsters (Percy Jackson and the Olympians, #2)",
          "It",
          "The Girl Who Played with Fire (Millennium, #2)",
          "Rebecca",
          "Outlander (Outlander, #1)",
          "The Thorn Birds",
          "Dune (Dune, #1)",
          "The Prophet",
          "The Shining",
          "A Prayer for Owen Meany",
          "Where the Wild Things Are",
          "Crime and Punishment",
          "The Lion, the Witch and the Wardrobe (Chronicles of Narnia, #1)",
          "The Hitchhiker's Guide to the Galaxy (Hitchhiker's Guide to the Galaxy, #1)",
          "The Fault in Our Stars",
          "The Phantom Tollbooth",
          "The Color Purple",
          "The Perks of Being a Wallflower",
          "Divergent (Divergent, #1)",
          "Fight Club",
          "One Flew Over the Cuckoo's Nest",
          "A Walk to Remember",
          "1984",
          "The Red Tent",
          "The Neverending Story",
          "The Importance of Being Earnest",
          "The Cat in the Hat",
          "Les Misérables",
          "Charlotte's Web",
          "The Girl with the Dragon Tattoo (Millennium, #1)",
          "The Secret Garden",
          "Charlie and the Chocolate Factory (Charlie Bucket, #1)",
          "The Giver (The Giver, #1)",
          "Flowers for Algernon",
          "The Name of the Rose",
          "Memoirs of a Geisha",
          "Jane Eyre",
          "The Mists of Avalon (Avalon, #1)",
          "Vampire Academy (Vampire Academy, #1)",
          "Tuesdays with Morrie",
          "American Gods (American Gods, #1)",
          "Angela's Ashes (Frank McCourt, #1)",
          "The Handmaid's Tale (The Handmaid's Tale, #1)",
          "The Notebook (The Notebook, #1)",
          "The Outsiders",
          "City of Bones (The Mortal Instruments, #1)",
          "The Unbearable Lightness of Being",
          "Water for Elephants",
          "The World According to Garp",
          "The Picture of Dorian Gray",
          "One Hundred Years of Solitude",
          "My Sister's Keeper",
          "Little Women",
          "Where the Red Fern Grows",
          "The Three Musketeers (The D'Artagnan Romances, #1)",
          "In Cold Blood",
          "Slaughterhouse-Five",
          "Peter Pan",
          "The Poisonwood Bible",
          "The Divine Comedy",
          "Alice's Adventures in Wonderland & Through the Looking-Glass",
          "Watership Down (Watership Down, #1)",
          "The Secret Life of Bees",
          "The Clan of the Cave Bear",
          "Anna Karenina",
          "Insurgent (Divergent, #2)",
          "Alice in Wonderland",
          "Looking for Alaska",
          "Siddhartha",
          "The Maze Runner (The Maze Runner, #1)",
          "Perfume: The Story of a Murderer",
          "Bridge to Terabithia",
          "Middlesex",
          "The Bell Jar",
          "Interview with the Vampire (The Vampire Chronicles, #1)",
          "A Wrinkle in Time (Time Quintet, #1)",
          "Dracula",
          "Brave New World",
          "David Copperfield",
          "The Wonderful Wizard of Oz (Oz, #1)",
          "Fahrenheit 451",
          "A Clockwork Orange",
          "All Quiet on the Western Front",
          "The Stranger",
          "Catch-22 (Catch-22, #1)",
          "The Good Earth (House of Earth, #1)",
          "The Golden Compass (His Dark Materials, #1)",
          "The Road",
          "The Time Traveler's Wife",
          "Hush, Hush (Hush, Hush, #1)",
          "Holes (Holes, #1)",
          "A Midsummer Night's Dream",
          "The Five People You Meet in Heaven",
          "Animal Farm",
          "Thirteen Reasons Why",
          "The Joy Luck Club",
          "Their Eyes Were Watching God",
          "Love in the Time of Cholera",
          "The Great Gatsby",
          "Atonement",
          "Life of Pi",
          "The Adventures of Tom Sawyer",
          "Eragon (The Inheritance Cycle, #1)",
          "Lolita",
          "Don Quixote",
          "The Curious Incident of the Dog in the Night-Time",
          "Of Mice and Men",
          "The Alchemist",
          "The Call of the Wild",
          "Oliver Twist",
          "Wuthering Heights",
          "The Da Vinci Code (Robert Langdon, #2)",
          "A Tale of Two Cities",
          "Jonathan Livingston Seagull",
          "Treasure Island",
          "The Adventures of Huckleberry Finn",
          "The Metamorphosis",
          "The Lovely Bones",
          "The Catcher in the Rye",
          "A Farewell to Arms",
          "Frankenstein: The 1818 Text",
          "Tess of the D'Urbervilles",
          "The Old Man and the Sea",
          "Great Expectations",
          "The Odyssey",
          "Romeo and Juliet",
          "Ulysses",
          "Atlas Shrugged",
          "Lord of the Flies",
          "Madame Bovary",
          "Fifty Shades of Grey (Fifty Shades, #1)",
          "On the Road",
          "Twilight (Twilight, #1)",
          "Eat, Pray, Love",
          "Moby-Dick or, the Whale",
          "The Canterbury Tales",
          "Heart of Darkness",
          "The Scarlet Letter"
         ],
         "xaxis": "x",
         "y": [
          4.619999885559082,
          4.599999904632568,
          4.579999923706055,
          4.570000171661377,
          4.570000171661377,
          4.559999942779541,
          4.539999961853027,
          4.539999961853027,
          4.510000228881836,
          4.5,
          4.489999771118164,
          4.480000019073486,
          4.46999979019165,
          4.46999979019165,
          4.449999809265137,
          4.440000057220459,
          4.429999828338623,
          4.400000095367432,
          4.380000114440918,
          4.380000114440918,
          4.369999885559082,
          4.369999885559082,
          4.369999885559082,
          4.369999885559082,
          4.360000133514404,
          4.360000133514404,
          4.360000133514404,
          4.360000133514404,
          4.360000133514404,
          4.349999904632568,
          4.349999904632568,
          4.349999904632568,
          4.340000152587891,
          4.340000152587891,
          4.340000152587891,
          4.329999923706055,
          4.329999923706055,
          4.320000171661377,
          4.320000171661377,
          4.320000171661377,
          4.309999942779541,
          4.300000190734863,
          4.300000190734863,
          4.300000190734863,
          4.300000190734863,
          4.300000190734863,
          4.300000190734863,
          4.289999961853027,
          4.28000020980835,
          4.28000020980835,
          4.28000020980835,
          4.269999980926514,
          4.269999980926514,
          4.269999980926514,
          4.260000228881836,
          4.260000228881836,
          4.260000228881836,
          4.260000228881836,
          4.260000228881836,
          4.25,
          4.25,
          4.25,
          4.239999771118164,
          4.239999771118164,
          4.239999771118164,
          4.230000019073486,
          4.230000019073486,
          4.230000019073486,
          4.230000019073486,
          4.230000019073486,
          4.230000019073486,
          4.230000019073486,
          4.21999979019165,
          4.21999979019165,
          4.21999979019165,
          4.21999979019165,
          4.210000038146973,
          4.210000038146973,
          4.210000038146973,
          4.199999809265137,
          4.199999809265137,
          4.190000057220459,
          4.190000057220459,
          4.179999828338623,
          4.179999828338623,
          4.179999828338623,
          4.179999828338623,
          4.179999828338623,
          4.170000076293945,
          4.170000076293945,
          4.170000076293945,
          4.139999866485596,
          4.139999866485596,
          4.139999866485596,
          4.130000114440918,
          4.130000114440918,
          4.119999885559082,
          4.119999885559082,
          4.119999885559082,
          4.119999885559082,
          4.119999885559082,
          4.110000133514404,
          4.110000133514404,
          4.110000133514404,
          4.110000133514404,
          4.099999904632568,
          4.099999904632568,
          4.099999904632568,
          4.099999904632568,
          4.090000152587891,
          4.090000152587891,
          4.079999923706055,
          4.079999923706055,
          4.079999923706055,
          4.079999923706055,
          4.079999923706055,
          4.070000171661377,
          4.070000171661377,
          4.070000171661377,
          4.070000171661377,
          4.059999942779541,
          4.059999942779541,
          4.059999942779541,
          4.059999942779541,
          4.050000190734863,
          4.050000190734863,
          4.050000190734863,
          4.03000020980835,
          4.03000020980835,
          4.03000020980835,
          4.03000020980835,
          4.019999980926514,
          4.019999980926514,
          4.010000228881836,
          4.010000228881836,
          4.010000228881836,
          4,
          4,
          4,
          3.990000009536743,
          3.990000009536743,
          3.990000009536743,
          3.990000009536743,
          3.990000009536743,
          3.9800000190734863,
          3.9800000190734863,
          3.9800000190734863,
          3.9800000190734863,
          3.9800000190734863,
          3.9700000286102295,
          3.9700000286102295,
          3.9700000286102295,
          3.9700000286102295,
          3.950000047683716,
          3.940000057220459,
          3.940000057220459,
          3.930000066757202,
          3.930000066757202,
          3.930000066757202,
          3.9200000762939453,
          3.9200000762939453,
          3.9100000858306885,
          3.9100000858306885,
          3.9100000858306885,
          3.9000000953674316,
          3.890000104904175,
          3.880000114440918,
          3.880000114440918,
          3.869999885559082,
          3.869999885559082,
          3.869999885559082,
          3.869999885559082,
          3.859999895095825,
          3.8499999046325684,
          3.8399999141693115,
          3.8399999141693115,
          3.8299999237060547,
          3.819999933242798,
          3.819999933242798,
          3.809999942779541,
          3.809999942779541,
          3.809999942779541,
          3.799999952316284,
          3.799999952316284,
          3.7799999713897705,
          3.7799999713897705,
          3.7699999809265137,
          3.75,
          3.7300000190734863,
          3.690000057220459,
          3.680000066757202,
          3.680000066757202,
          3.6600000858306885,
          3.619999885559082,
          3.5899999141693115,
          3.559999942779541,
          3.5,
          3.5,
          3.4200000762939453,
          3.4100000858306885
         ],
         "yaxis": "y2"
        },
        {
         "line": {
          "color": "rgba(238, 118, 0, 1.0)",
          "dash": "solid",
          "shape": "linear",
          "width": 1.3
         },
         "mode": "lines",
         "name": "review_count",
         "text": "",
         "type": "scatter",
         "x": [
          "Harry Potter and the Deathly Hallows (Harry Potter, #7)",
          "J.R.R. Tolkien 4-Book Boxed Set: The Hobbit and The Lord of the Rings",
          "Clockwork Princess (The Infernal Devices, #3)",
          "Harry Potter and the Prisoner of Azkaban (Harry Potter, #3)",
          "Harry Potter and the Half-Blood Prince (Harry Potter, #6)",
          "Harry Potter and the Goblet of Fire (Harry Potter, #4)",
          "The Name of the Wind (The Kingkiller Chronicle, #1)",
          "A Storm of Swords (A Song of Ice and Fire, #3)",
          "The Last Olympian (Percy Jackson and the Olympians, #5)",
          "Harry Potter and the Order of the Phoenix (Harry Potter, #5)",
          "Lonesome Dove",
          "The Hunger Games Trilogy Boxset (The Hunger Games, #1-3)",
          "The Help",
          "Harry Potter and the Sorcerer's Stone (Harry Potter, #1)",
          "A Game of Thrones (A Song of Ice and Fire, #1)",
          "The Compleat Works of Wllm Shkspr",
          "Harry Potter and the Chamber of Secrets (Harry Potter, #2)",
          "The Battle of the Labyrinth (Percy Jackson and the Olympians, #4)",
          "The Complete Stories and Poems",
          "The Giving Tree",
          "How the Grinch Stole Christmas!",
          "A Thousand Splendid Suns",
          "The Book Thief",
          "The Godfather",
          "The Ultimate Hitchhiker's Guide to the Galaxy (Hitchhiker's Guide to the Galaxy, #1-5)",
          "Shadow Kiss (Vampire Academy, #3)",
          "Watchmen",
          "The Fellowship of the Ring (The Lord of the Rings, #1)",
          "Oh, the Places You'll Go!",
          "Winnie-the-Pooh (Winnie-the-Pooh, #1)",
          "The Lorax",
          "The Titan's Curse (Percy Jackson and the Olympians, #3)",
          "The Little House Collection (Little House, #1-9)",
          "The Stand",
          "Blood Promise (Vampire Academy, #4)",
          "The Hunger Games (The Hunger Games, #1)",
          "Clockwork Angel (The Infernal Devices, #1)",
          "Matilda",
          "The Pillars of the Earth (Kingsbridge, #1)",
          "The Brothers Karamazov",
          "The Little Prince",
          "The Kite Runner",
          "Ender's Game (Ender's Saga, #1)",
          "The Very Hungry Caterpillar",
          "The Adventures of Sherlock Holmes",
          "Gone with the Wind",
          "Green Eggs and Ham",
          "The Master and Margarita",
          "Goodnight Moon",
          "Frostbite (Vampire Academy, #2)",
          "To Kill a Mockingbird",
          "The Shadow of the Wind (The Cemetery of Forgotten Books, #1)",
          "A Tree Grows in Brooklyn",
          "The Hobbit, or There and Back Again",
          "And Then There Were None",
          "The Princess Bride",
          "Pride and Prejudice",
          "Anne of Green Gables (Anne of Green Gables, #1)",
          "The Chronicles of Narnia (Chronicles of Narnia, #1-7)",
          "The Count of Monte Cristo",
          "Good Omens: The Nice and Accurate Prophecies of Agnes Nutter, Witch",
          "The Lightning Thief (Percy Jackson and the Olympians, #1)",
          "The Sea of Monsters (Percy Jackson and the Olympians, #2)",
          "It",
          "The Girl Who Played with Fire (Millennium, #2)",
          "Rebecca",
          "Outlander (Outlander, #1)",
          "The Thorn Birds",
          "Dune (Dune, #1)",
          "The Prophet",
          "The Shining",
          "A Prayer for Owen Meany",
          "Where the Wild Things Are",
          "Crime and Punishment",
          "The Lion, the Witch and the Wardrobe (Chronicles of Narnia, #1)",
          "The Hitchhiker's Guide to the Galaxy (Hitchhiker's Guide to the Galaxy, #1)",
          "The Fault in Our Stars",
          "The Phantom Tollbooth",
          "The Color Purple",
          "The Perks of Being a Wallflower",
          "Divergent (Divergent, #1)",
          "Fight Club",
          "One Flew Over the Cuckoo's Nest",
          "A Walk to Remember",
          "1984",
          "The Red Tent",
          "The Neverending Story",
          "The Importance of Being Earnest",
          "The Cat in the Hat",
          "Les Misérables",
          "Charlotte's Web",
          "The Girl with the Dragon Tattoo (Millennium, #1)",
          "The Secret Garden",
          "Charlie and the Chocolate Factory (Charlie Bucket, #1)",
          "The Giver (The Giver, #1)",
          "Flowers for Algernon",
          "The Name of the Rose",
          "Memoirs of a Geisha",
          "Jane Eyre",
          "The Mists of Avalon (Avalon, #1)",
          "Vampire Academy (Vampire Academy, #1)",
          "Tuesdays with Morrie",
          "American Gods (American Gods, #1)",
          "Angela's Ashes (Frank McCourt, #1)",
          "The Handmaid's Tale (The Handmaid's Tale, #1)",
          "The Notebook (The Notebook, #1)",
          "The Outsiders",
          "City of Bones (The Mortal Instruments, #1)",
          "The Unbearable Lightness of Being",
          "Water for Elephants",
          "The World According to Garp",
          "The Picture of Dorian Gray",
          "One Hundred Years of Solitude",
          "My Sister's Keeper",
          "Little Women",
          "Where the Red Fern Grows",
          "The Three Musketeers (The D'Artagnan Romances, #1)",
          "In Cold Blood",
          "Slaughterhouse-Five",
          "Peter Pan",
          "The Poisonwood Bible",
          "The Divine Comedy",
          "Alice's Adventures in Wonderland & Through the Looking-Glass",
          "Watership Down (Watership Down, #1)",
          "The Secret Life of Bees",
          "The Clan of the Cave Bear",
          "Anna Karenina",
          "Insurgent (Divergent, #2)",
          "Alice in Wonderland",
          "Looking for Alaska",
          "Siddhartha",
          "The Maze Runner (The Maze Runner, #1)",
          "Perfume: The Story of a Murderer",
          "Bridge to Terabithia",
          "Middlesex",
          "The Bell Jar",
          "Interview with the Vampire (The Vampire Chronicles, #1)",
          "A Wrinkle in Time (Time Quintet, #1)",
          "Dracula",
          "Brave New World",
          "David Copperfield",
          "The Wonderful Wizard of Oz (Oz, #1)",
          "Fahrenheit 451",
          "A Clockwork Orange",
          "All Quiet on the Western Front",
          "The Stranger",
          "Catch-22 (Catch-22, #1)",
          "The Good Earth (House of Earth, #1)",
          "The Golden Compass (His Dark Materials, #1)",
          "The Road",
          "The Time Traveler's Wife",
          "Hush, Hush (Hush, Hush, #1)",
          "Holes (Holes, #1)",
          "A Midsummer Night's Dream",
          "The Five People You Meet in Heaven",
          "Animal Farm",
          "Thirteen Reasons Why",
          "The Joy Luck Club",
          "Their Eyes Were Watching God",
          "Love in the Time of Cholera",
          "The Great Gatsby",
          "Atonement",
          "Life of Pi",
          "The Adventures of Tom Sawyer",
          "Eragon (The Inheritance Cycle, #1)",
          "Lolita",
          "Don Quixote",
          "The Curious Incident of the Dog in the Night-Time",
          "Of Mice and Men",
          "The Alchemist",
          "The Call of the Wild",
          "Oliver Twist",
          "Wuthering Heights",
          "The Da Vinci Code (Robert Langdon, #2)",
          "A Tale of Two Cities",
          "Jonathan Livingston Seagull",
          "Treasure Island",
          "The Adventures of Huckleberry Finn",
          "The Metamorphosis",
          "The Lovely Bones",
          "The Catcher in the Rye",
          "A Farewell to Arms",
          "Frankenstein: The 1818 Text",
          "Tess of the D'Urbervilles",
          "The Old Man and the Sea",
          "Great Expectations",
          "The Odyssey",
          "Romeo and Juliet",
          "Ulysses",
          "Atlas Shrugged",
          "Lord of the Flies",
          "Madame Bovary",
          "Fifty Shades of Grey (Fifty Shades, #1)",
          "On the Road",
          "Twilight (Twilight, #1)",
          "Eat, Pray, Love",
          "Moby-Dick or, the Whale",
          "The Canterbury Tales",
          "Heart of Darkness",
          "The Scarlet Letter"
         ],
         "y": [
          63849,
          1737,
          29081,
          53478,
          38090,
          44868,
          40786,
          21969,
          22532,
          40814,
          7292,
          6827,
          84130,
          108719,
          53906,
          131,
          50944,
          18462,
          2169,
          17383,
          3148,
          52897,
          111235,
          8398,
          5206,
          11174,
          13783,
          21719,
          5159,
          4620,
          4015,
          20185,
          2168,
          19607,
          9705,
          170045,
          30753,
          15965,
          30725,
          10667,
          37961,
          72086,
          42842,
          7757,
          6547,
          19462,
          9213,
          11056,
          5733,
          11198,
          89315,
          34326,
          20191,
          47030,
          31315,
          19780,
          64576,
          21749,
          10182,
          20645,
          26623,
          58892,
          25957,
          24494,
          33898,
          22191,
          44736,
          5838,
          20979,
          9210,
          23558,
          13594,
          11582,
          18325,
          21084,
          29116,
          154147,
          10072,
          14486,
          56444,
          107502,
          14142,
          10621,
          12923,
          67126,
          19051,
          6326,
          8958,
          5706,
          17104,
          17582,
          68102,
          18086,
          11609,
          64335,
          17626,
          8608,
          29573,
          40921,
          6630,
          21932,
          25292,
          37874,
          11734,
          68523,
          19737,
          32371,
          60683,
          14870,
          58529,
          5381,
          29191,
          29606,
          33215,
          29427,
          10904,
          6589,
          16163,
          26286,
          10960,
          22953,
          3724,
          10329,
          13441,
          30087,
          6448,
          23342,
          58483,
          5348,
          55438,
          16870,
          55211,
          13958,
          12142,
          22956,
          22362,
          9963,
          33462,
          24661,
          29098,
          6329,
          12360,
          46138,
          13391,
          10148,
          22355,
          17852,
          9706,
          21641,
          45022,
          46900,
          24568,
          20053,
          7877,
          20266,
          53727,
          51526,
          9028,
          12989,
          19624,
          65562,
          17042,
          46826,
          9703,
          21760,
          23929,
          7800,
          43483,
          33216,
          77833,
          10718,
          7294,
          35775,
          46500,
          17044,
          7699,
          11290,
          15210,
          16730,
          40122,
          56039,
          9414,
          31839,
          8497,
          24262,
          15616,
          11881,
          18923,
          6610,
          17066,
          36308,
          10283,
          78264,
          14650,
          102549,
          53447,
          15165,
          3244,
          13524,
          14430
         ]
        }
       ],
       "layout": {
        "legend": {
         "bgcolor": "#F2F3F7",
         "font": {
          "color": "#505050"
         }
        },
        "paper_bgcolor": "#F2F3F7",
        "plot_bgcolor": "#F2F3F7",
        "template": {
         "data": {
          "bar": [
           {
            "error_x": {
             "color": "#2a3f5f"
            },
            "error_y": {
             "color": "#2a3f5f"
            },
            "marker": {
             "line": {
              "color": "#E5ECF6",
              "width": 0.5
             }
            },
            "type": "bar"
           }
          ],
          "barpolar": [
           {
            "marker": {
             "line": {
              "color": "#E5ECF6",
              "width": 0.5
             }
            },
            "type": "barpolar"
           }
          ],
          "carpet": [
           {
            "aaxis": {
             "endlinecolor": "#2a3f5f",
             "gridcolor": "white",
             "linecolor": "white",
             "minorgridcolor": "white",
             "startlinecolor": "#2a3f5f"
            },
            "baxis": {
             "endlinecolor": "#2a3f5f",
             "gridcolor": "white",
             "linecolor": "white",
             "minorgridcolor": "white",
             "startlinecolor": "#2a3f5f"
            },
            "type": "carpet"
           }
          ],
          "choropleth": [
           {
            "colorbar": {
             "outlinewidth": 0,
             "ticks": ""
            },
            "type": "choropleth"
           }
          ],
          "contour": [
           {
            "colorbar": {
             "outlinewidth": 0,
             "ticks": ""
            },
            "colorscale": [
             [
              0,
              "#0d0887"
             ],
             [
              0.1111111111111111,
              "#46039f"
             ],
             [
              0.2222222222222222,
              "#7201a8"
             ],
             [
              0.3333333333333333,
              "#9c179e"
             ],
             [
              0.4444444444444444,
              "#bd3786"
             ],
             [
              0.5555555555555556,
              "#d8576b"
             ],
             [
              0.6666666666666666,
              "#ed7953"
             ],
             [
              0.7777777777777778,
              "#fb9f3a"
             ],
             [
              0.8888888888888888,
              "#fdca26"
             ],
             [
              1,
              "#f0f921"
             ]
            ],
            "type": "contour"
           }
          ],
          "contourcarpet": [
           {
            "colorbar": {
             "outlinewidth": 0,
             "ticks": ""
            },
            "type": "contourcarpet"
           }
          ],
          "heatmap": [
           {
            "colorbar": {
             "outlinewidth": 0,
             "ticks": ""
            },
            "colorscale": [
             [
              0,
              "#0d0887"
             ],
             [
              0.1111111111111111,
              "#46039f"
             ],
             [
              0.2222222222222222,
              "#7201a8"
             ],
             [
              0.3333333333333333,
              "#9c179e"
             ],
             [
              0.4444444444444444,
              "#bd3786"
             ],
             [
              0.5555555555555556,
              "#d8576b"
             ],
             [
              0.6666666666666666,
              "#ed7953"
             ],
             [
              0.7777777777777778,
              "#fb9f3a"
             ],
             [
              0.8888888888888888,
              "#fdca26"
             ],
             [
              1,
              "#f0f921"
             ]
            ],
            "type": "heatmap"
           }
          ],
          "heatmapgl": [
           {
            "colorbar": {
             "outlinewidth": 0,
             "ticks": ""
            },
            "colorscale": [
             [
              0,
              "#0d0887"
             ],
             [
              0.1111111111111111,
              "#46039f"
             ],
             [
              0.2222222222222222,
              "#7201a8"
             ],
             [
              0.3333333333333333,
              "#9c179e"
             ],
             [
              0.4444444444444444,
              "#bd3786"
             ],
             [
              0.5555555555555556,
              "#d8576b"
             ],
             [
              0.6666666666666666,
              "#ed7953"
             ],
             [
              0.7777777777777778,
              "#fb9f3a"
             ],
             [
              0.8888888888888888,
              "#fdca26"
             ],
             [
              1,
              "#f0f921"
             ]
            ],
            "type": "heatmapgl"
           }
          ],
          "histogram": [
           {
            "marker": {
             "colorbar": {
              "outlinewidth": 0,
              "ticks": ""
             }
            },
            "type": "histogram"
           }
          ],
          "histogram2d": [
           {
            "colorbar": {
             "outlinewidth": 0,
             "ticks": ""
            },
            "colorscale": [
             [
              0,
              "#0d0887"
             ],
             [
              0.1111111111111111,
              "#46039f"
             ],
             [
              0.2222222222222222,
              "#7201a8"
             ],
             [
              0.3333333333333333,
              "#9c179e"
             ],
             [
              0.4444444444444444,
              "#bd3786"
             ],
             [
              0.5555555555555556,
              "#d8576b"
             ],
             [
              0.6666666666666666,
              "#ed7953"
             ],
             [
              0.7777777777777778,
              "#fb9f3a"
             ],
             [
              0.8888888888888888,
              "#fdca26"
             ],
             [
              1,
              "#f0f921"
             ]
            ],
            "type": "histogram2d"
           }
          ],
          "histogram2dcontour": [
           {
            "colorbar": {
             "outlinewidth": 0,
             "ticks": ""
            },
            "colorscale": [
             [
              0,
              "#0d0887"
             ],
             [
              0.1111111111111111,
              "#46039f"
             ],
             [
              0.2222222222222222,
              "#7201a8"
             ],
             [
              0.3333333333333333,
              "#9c179e"
             ],
             [
              0.4444444444444444,
              "#bd3786"
             ],
             [
              0.5555555555555556,
              "#d8576b"
             ],
             [
              0.6666666666666666,
              "#ed7953"
             ],
             [
              0.7777777777777778,
              "#fb9f3a"
             ],
             [
              0.8888888888888888,
              "#fdca26"
             ],
             [
              1,
              "#f0f921"
             ]
            ],
            "type": "histogram2dcontour"
           }
          ],
          "mesh3d": [
           {
            "colorbar": {
             "outlinewidth": 0,
             "ticks": ""
            },
            "type": "mesh3d"
           }
          ],
          "parcoords": [
           {
            "line": {
             "colorbar": {
              "outlinewidth": 0,
              "ticks": ""
             }
            },
            "type": "parcoords"
           }
          ],
          "pie": [
           {
            "automargin": true,
            "type": "pie"
           }
          ],
          "scatter": [
           {
            "marker": {
             "colorbar": {
              "outlinewidth": 0,
              "ticks": ""
             }
            },
            "type": "scatter"
           }
          ],
          "scatter3d": [
           {
            "line": {
             "colorbar": {
              "outlinewidth": 0,
              "ticks": ""
             }
            },
            "marker": {
             "colorbar": {
              "outlinewidth": 0,
              "ticks": ""
             }
            },
            "type": "scatter3d"
           }
          ],
          "scattercarpet": [
           {
            "marker": {
             "colorbar": {
              "outlinewidth": 0,
              "ticks": ""
             }
            },
            "type": "scattercarpet"
           }
          ],
          "scattergeo": [
           {
            "marker": {
             "colorbar": {
              "outlinewidth": 0,
              "ticks": ""
             }
            },
            "type": "scattergeo"
           }
          ],
          "scattergl": [
           {
            "marker": {
             "colorbar": {
              "outlinewidth": 0,
              "ticks": ""
             }
            },
            "type": "scattergl"
           }
          ],
          "scattermapbox": [
           {
            "marker": {
             "colorbar": {
              "outlinewidth": 0,
              "ticks": ""
             }
            },
            "type": "scattermapbox"
           }
          ],
          "scatterpolar": [
           {
            "marker": {
             "colorbar": {
              "outlinewidth": 0,
              "ticks": ""
             }
            },
            "type": "scatterpolar"
           }
          ],
          "scatterpolargl": [
           {
            "marker": {
             "colorbar": {
              "outlinewidth": 0,
              "ticks": ""
             }
            },
            "type": "scatterpolargl"
           }
          ],
          "scatterternary": [
           {
            "marker": {
             "colorbar": {
              "outlinewidth": 0,
              "ticks": ""
             }
            },
            "type": "scatterternary"
           }
          ],
          "surface": [
           {
            "colorbar": {
             "outlinewidth": 0,
             "ticks": ""
            },
            "colorscale": [
             [
              0,
              "#0d0887"
             ],
             [
              0.1111111111111111,
              "#46039f"
             ],
             [
              0.2222222222222222,
              "#7201a8"
             ],
             [
              0.3333333333333333,
              "#9c179e"
             ],
             [
              0.4444444444444444,
              "#bd3786"
             ],
             [
              0.5555555555555556,
              "#d8576b"
             ],
             [
              0.6666666666666666,
              "#ed7953"
             ],
             [
              0.7777777777777778,
              "#fb9f3a"
             ],
             [
              0.8888888888888888,
              "#fdca26"
             ],
             [
              1,
              "#f0f921"
             ]
            ],
            "type": "surface"
           }
          ],
          "table": [
           {
            "cells": {
             "fill": {
              "color": "#EBF0F8"
             },
             "line": {
              "color": "white"
             }
            },
            "header": {
             "fill": {
              "color": "#C8D4E3"
             },
             "line": {
              "color": "white"
             }
            },
            "type": "table"
           }
          ]
         },
         "layout": {
          "annotationdefaults": {
           "arrowcolor": "#2a3f5f",
           "arrowhead": 0,
           "arrowwidth": 1
          },
          "coloraxis": {
           "colorbar": {
            "outlinewidth": 0,
            "ticks": ""
           }
          },
          "colorscale": {
           "diverging": [
            [
             0,
             "#8e0152"
            ],
            [
             0.1,
             "#c51b7d"
            ],
            [
             0.2,
             "#de77ae"
            ],
            [
             0.3,
             "#f1b6da"
            ],
            [
             0.4,
             "#fde0ef"
            ],
            [
             0.5,
             "#f7f7f7"
            ],
            [
             0.6,
             "#e6f5d0"
            ],
            [
             0.7,
             "#b8e186"
            ],
            [
             0.8,
             "#7fbc41"
            ],
            [
             0.9,
             "#4d9221"
            ],
            [
             1,
             "#276419"
            ]
           ],
           "sequential": [
            [
             0,
             "#0d0887"
            ],
            [
             0.1111111111111111,
             "#46039f"
            ],
            [
             0.2222222222222222,
             "#7201a8"
            ],
            [
             0.3333333333333333,
             "#9c179e"
            ],
            [
             0.4444444444444444,
             "#bd3786"
            ],
            [
             0.5555555555555556,
             "#d8576b"
            ],
            [
             0.6666666666666666,
             "#ed7953"
            ],
            [
             0.7777777777777778,
             "#fb9f3a"
            ],
            [
             0.8888888888888888,
             "#fdca26"
            ],
            [
             1,
             "#f0f921"
            ]
           ],
           "sequentialminus": [
            [
             0,
             "#0d0887"
            ],
            [
             0.1111111111111111,
             "#46039f"
            ],
            [
             0.2222222222222222,
             "#7201a8"
            ],
            [
             0.3333333333333333,
             "#9c179e"
            ],
            [
             0.4444444444444444,
             "#bd3786"
            ],
            [
             0.5555555555555556,
             "#d8576b"
            ],
            [
             0.6666666666666666,
             "#ed7953"
            ],
            [
             0.7777777777777778,
             "#fb9f3a"
            ],
            [
             0.8888888888888888,
             "#fdca26"
            ],
            [
             1,
             "#f0f921"
            ]
           ]
          },
          "colorway": [
           "#636efa",
           "#EF553B",
           "#00cc96",
           "#ab63fa",
           "#FFA15A",
           "#19d3f3",
           "#FF6692",
           "#B6E880",
           "#FF97FF",
           "#FECB52"
          ],
          "font": {
           "color": "#2a3f5f"
          },
          "geo": {
           "bgcolor": "white",
           "lakecolor": "white",
           "landcolor": "#E5ECF6",
           "showlakes": true,
           "showland": true,
           "subunitcolor": "white"
          },
          "hoverlabel": {
           "align": "left"
          },
          "hovermode": "closest",
          "mapbox": {
           "style": "light"
          },
          "paper_bgcolor": "white",
          "plot_bgcolor": "#E5ECF6",
          "polar": {
           "angularaxis": {
            "gridcolor": "white",
            "linecolor": "white",
            "ticks": ""
           },
           "bgcolor": "#E5ECF6",
           "radialaxis": {
            "gridcolor": "white",
            "linecolor": "white",
            "ticks": ""
           }
          },
          "scene": {
           "xaxis": {
            "backgroundcolor": "#E5ECF6",
            "gridcolor": "white",
            "gridwidth": 2,
            "linecolor": "white",
            "showbackground": true,
            "ticks": "",
            "zerolinecolor": "white"
           },
           "yaxis": {
            "backgroundcolor": "#E5ECF6",
            "gridcolor": "white",
            "gridwidth": 2,
            "linecolor": "white",
            "showbackground": true,
            "ticks": "",
            "zerolinecolor": "white"
           },
           "zaxis": {
            "backgroundcolor": "#E5ECF6",
            "gridcolor": "white",
            "gridwidth": 2,
            "linecolor": "white",
            "showbackground": true,
            "ticks": "",
            "zerolinecolor": "white"
           }
          },
          "shapedefaults": {
           "line": {
            "color": "#2a3f5f"
           }
          },
          "ternary": {
           "aaxis": {
            "gridcolor": "white",
            "linecolor": "white",
            "ticks": ""
           },
           "baxis": {
            "gridcolor": "white",
            "linecolor": "white",
            "ticks": ""
           },
           "bgcolor": "#E5ECF6",
           "caxis": {
            "gridcolor": "white",
            "linecolor": "white",
            "ticks": ""
           }
          },
          "title": {
           "x": 0.05
          },
          "xaxis": {
           "automargin": true,
           "gridcolor": "white",
           "linecolor": "white",
           "ticks": "",
           "title": {
            "standoff": 15
           },
           "zerolinecolor": "white",
           "zerolinewidth": 2
          },
          "yaxis": {
           "automargin": true,
           "gridcolor": "white",
           "linecolor": "white",
           "ticks": "",
           "title": {
            "standoff": 15
           },
           "zerolinecolor": "white",
           "zerolinewidth": 2
          }
         }
        },
        "title": {
         "font": {
          "color": "#484848"
         },
         "text": "Books with their raiting and review count"
        },
        "xaxis": {
         "gridcolor": "#E1E5ED",
         "showgrid": true,
         "tickfont": {
          "color": "#505050"
         },
         "title": {
          "font": {
           "color": "#505050"
          },
          "text": "Book Name"
         },
         "zerolinecolor": "#E1E5ED"
        },
        "yaxis": {
         "gridcolor": "#E1E5ED",
         "showgrid": true,
         "tickfont": {
          "color": "#505050"
         },
         "title": {
          "font": {
           "color": "#505050"
          },
          "text": "Review Count"
         },
         "zerolinecolor": "#E1E5ED"
        },
        "yaxis2": {
         "anchor": "x",
         "gridcolor": "#E1E5ED",
         "overlaying": "y",
         "showgrid": true,
         "side": "right",
         "tickfont": {
          "color": "#505050"
         },
         "title": {
          "text": "Rating"
         },
         "zerolinecolor": "#E1E5ED"
        }
       }
      },
      "text/html": [
       "<div>\n",
       "        \n",
       "        \n",
       "            <div id=\"775bb972-65ba-418c-9917-28b6619c39cd\" class=\"plotly-graph-div\" style=\"height:525px; width:100%;\"></div>\n",
       "            <script type=\"text/javascript\">\n",
       "                require([\"plotly\"], function(Plotly) {\n",
       "                    window.PLOTLYENV=window.PLOTLYENV || {};\n",
       "                    window.PLOTLYENV.BASE_URL='https://plot.ly';\n",
       "                    \n",
       "                if (document.getElementById(\"775bb972-65ba-418c-9917-28b6619c39cd\")) {\n",
       "                    Plotly.newPlot(\n",
       "                        '775bb972-65ba-418c-9917-28b6619c39cd',\n",
       "                        [{\"line\": {\"color\": \"rgba(0, 128, 240, 1.0)\", \"dash\": \"solid\", \"shape\": \"linear\", \"width\": 1.3}, \"mode\": \"lines\", \"name\": \"rating\", \"text\": \"\", \"type\": \"scatter\", \"x\": [\"Harry Potter and the Deathly Hallows (Harry Potter, #7)\", \"J.R.R. Tolkien 4-Book Boxed Set: The Hobbit and The Lord of the Rings\", \"Clockwork Princess (The Infernal Devices, #3)\", \"Harry Potter and the Prisoner of Azkaban (Harry Potter, #3)\", \"Harry Potter and the Half-Blood Prince (Harry Potter, #6)\", \"Harry Potter and the Goblet of Fire (Harry Potter, #4)\", \"The Name of the Wind (The Kingkiller Chronicle, #1)\", \"A Storm of Swords (A Song of Ice and Fire, #3)\", \"The Last Olympian (Percy Jackson and the Olympians, #5)\", \"Harry Potter and the Order of the Phoenix (Harry Potter, #5)\", \"Lonesome Dove\", \"The Hunger Games Trilogy Boxset (The Hunger Games, #1-3)\", \"The Help\", \"Harry Potter and the Sorcerer's Stone (Harry Potter, #1)\", \"A Game of Thrones (A Song of Ice and Fire, #1)\", \"The Compleat Works of Wllm Shkspr\", \"Harry Potter and the Chamber of Secrets (Harry Potter, #2)\", \"The Battle of the Labyrinth (Percy Jackson and the Olympians, #4)\", \"The Complete Stories and Poems\", \"The Giving Tree\", \"How the Grinch Stole Christmas!\", \"A Thousand Splendid Suns\", \"The Book Thief\", \"The Godfather\", \"The Ultimate Hitchhiker's Guide to the Galaxy (Hitchhiker's Guide to the Galaxy, #1-5)\", \"Shadow Kiss (Vampire Academy, #3)\", \"Watchmen\", \"The Fellowship of the Ring (The Lord of the Rings, #1)\", \"Oh, the Places You'll Go!\", \"Winnie-the-Pooh (Winnie-the-Pooh, #1)\", \"The Lorax\", \"The Titan's Curse (Percy Jackson and the Olympians, #3)\", \"The Little House Collection (Little House, #1-9)\", \"The Stand\", \"Blood Promise (Vampire Academy, #4)\", \"The Hunger Games (The Hunger Games, #1)\", \"Clockwork Angel (The Infernal Devices, #1)\", \"Matilda\", \"The Pillars of the Earth (Kingsbridge, #1)\", \"The Brothers Karamazov\", \"The Little Prince\", \"The Kite Runner\", \"Ender's Game (Ender's Saga, #1)\", \"The Very Hungry Caterpillar\", \"The Adventures of Sherlock Holmes\", \"Gone with the Wind\", \"Green Eggs and Ham\", \"The Master and Margarita\", \"Goodnight Moon\", \"Frostbite (Vampire Academy, #2)\", \"To Kill a Mockingbird\", \"The Shadow of the Wind (The Cemetery of Forgotten Books, #1)\", \"A Tree Grows in Brooklyn\", \"The Hobbit, or There and Back Again\", \"And Then There Were None\", \"The Princess Bride\", \"Pride and Prejudice\", \"Anne of Green Gables (Anne of Green Gables, #1)\", \"The Chronicles of Narnia (Chronicles of Narnia, #1-7)\", \"The Count of Monte Cristo\", \"Good Omens: The Nice and Accurate Prophecies of Agnes Nutter, Witch\", \"The Lightning Thief (Percy Jackson and the Olympians, #1)\", \"The Sea of Monsters (Percy Jackson and the Olympians, #2)\", \"It\", \"The Girl Who Played with Fire (Millennium, #2)\", \"Rebecca\", \"Outlander (Outlander, #1)\", \"The Thorn Birds\", \"Dune (Dune, #1)\", \"The Prophet\", \"The Shining\", \"A Prayer for Owen Meany\", \"Where the Wild Things Are\", \"Crime and Punishment\", \"The Lion, the Witch and the Wardrobe (Chronicles of Narnia, #1)\", \"The Hitchhiker's Guide to the Galaxy (Hitchhiker's Guide to the Galaxy, #1)\", \"The Fault in Our Stars\", \"The Phantom Tollbooth\", \"The Color Purple\", \"The Perks of Being a Wallflower\", \"Divergent (Divergent, #1)\", \"Fight Club\", \"One Flew Over the Cuckoo's Nest\", \"A Walk to Remember\", \"1984\", \"The Red Tent\", \"The Neverending Story\", \"The Importance of Being Earnest\", \"The Cat in the Hat\", \"Les Mis\\u00e9rables\", \"Charlotte's Web\", \"The Girl with the Dragon Tattoo (Millennium, #1)\", \"The Secret Garden\", \"Charlie and the Chocolate Factory (Charlie Bucket, #1)\", \"The Giver (The Giver, #1)\", \"Flowers for Algernon\", \"The Name of the Rose\", \"Memoirs of a Geisha\", \"Jane Eyre\", \"The Mists of Avalon (Avalon, #1)\", \"Vampire Academy (Vampire Academy, #1)\", \"Tuesdays with Morrie\", \"American Gods (American Gods, #1)\", \"Angela's Ashes (Frank McCourt, #1)\", \"The Handmaid's Tale (The Handmaid's Tale, #1)\", \"The Notebook (The Notebook, #1)\", \"The Outsiders\", \"City of Bones (The Mortal Instruments, #1)\", \"The Unbearable Lightness of Being\", \"Water for Elephants\", \"The World According to Garp\", \"The Picture of Dorian Gray\", \"One Hundred Years of Solitude\", \"My Sister's Keeper\", \"Little Women\", \"Where the Red Fern Grows\", \"The Three Musketeers (The D'Artagnan Romances, #1)\", \"In Cold Blood\", \"Slaughterhouse-Five\", \"Peter Pan\", \"The Poisonwood Bible\", \"The Divine Comedy\", \"Alice's Adventures in Wonderland & Through the Looking-Glass\", \"Watership Down (Watership Down, #1)\", \"The Secret Life of Bees\", \"The Clan of the Cave Bear\", \"Anna Karenina\", \"Insurgent (Divergent, #2)\", \"Alice in Wonderland\", \"Looking for Alaska\", \"Siddhartha\", \"The Maze Runner (The Maze Runner, #1)\", \"Perfume: The Story of a Murderer\", \"Bridge to Terabithia\", \"Middlesex\", \"The Bell Jar\", \"Interview with the Vampire (The Vampire Chronicles, #1)\", \"A Wrinkle in Time (Time Quintet, #1)\", \"Dracula\", \"Brave New World\", \"David Copperfield\", \"The Wonderful Wizard of Oz (Oz, #1)\", \"Fahrenheit 451\", \"A Clockwork Orange\", \"All Quiet on the Western Front\", \"The Stranger\", \"Catch-22 (Catch-22, #1)\", \"The Good Earth (House of Earth, #1)\", \"The Golden Compass (His Dark Materials, #1)\", \"The Road\", \"The Time Traveler's Wife\", \"Hush, Hush (Hush, Hush, #1)\", \"Holes (Holes, #1)\", \"A Midsummer Night's Dream\", \"The Five People You Meet in Heaven\", \"Animal Farm\", \"Thirteen Reasons Why\", \"The Joy Luck Club\", \"Their Eyes Were Watching God\", \"Love in the Time of Cholera\", \"The Great Gatsby\", \"Atonement\", \"Life of Pi\", \"The Adventures of Tom Sawyer\", \"Eragon (The Inheritance Cycle, #1)\", \"Lolita\", \"Don Quixote\", \"The Curious Incident of the Dog in the Night-Time\", \"Of Mice and Men\", \"The Alchemist\", \"The Call of the Wild\", \"Oliver Twist\", \"Wuthering Heights\", \"The Da Vinci Code (Robert Langdon, #2)\", \"A Tale of Two Cities\", \"Jonathan Livingston Seagull\", \"Treasure Island\", \"The Adventures of Huckleberry Finn\", \"The Metamorphosis\", \"The Lovely Bones\", \"The Catcher in the Rye\", \"A Farewell to Arms\", \"Frankenstein: The 1818 Text\", \"Tess of the D'Urbervilles\", \"The Old Man and the Sea\", \"Great Expectations\", \"The Odyssey\", \"Romeo and Juliet\", \"Ulysses\", \"Atlas Shrugged\", \"Lord of the Flies\", \"Madame Bovary\", \"Fifty Shades of Grey (Fifty Shades, #1)\", \"On the Road\", \"Twilight (Twilight, #1)\", \"Eat, Pray, Love\", \"Moby-Dick or, the Whale\", \"The Canterbury Tales\", \"Heart of Darkness\", \"The Scarlet Letter\"], \"xaxis\": \"x\", \"y\": [4.619999885559082, 4.599999904632568, 4.579999923706055, 4.570000171661377, 4.570000171661377, 4.559999942779541, 4.539999961853027, 4.539999961853027, 4.510000228881836, 4.5, 4.489999771118164, 4.480000019073486, 4.46999979019165, 4.46999979019165, 4.449999809265137, 4.440000057220459, 4.429999828338623, 4.400000095367432, 4.380000114440918, 4.380000114440918, 4.369999885559082, 4.369999885559082, 4.369999885559082, 4.369999885559082, 4.360000133514404, 4.360000133514404, 4.360000133514404, 4.360000133514404, 4.360000133514404, 4.349999904632568, 4.349999904632568, 4.349999904632568, 4.340000152587891, 4.340000152587891, 4.340000152587891, 4.329999923706055, 4.329999923706055, 4.320000171661377, 4.320000171661377, 4.320000171661377, 4.309999942779541, 4.300000190734863, 4.300000190734863, 4.300000190734863, 4.300000190734863, 4.300000190734863, 4.300000190734863, 4.289999961853027, 4.28000020980835, 4.28000020980835, 4.28000020980835, 4.269999980926514, 4.269999980926514, 4.269999980926514, 4.260000228881836, 4.260000228881836, 4.260000228881836, 4.260000228881836, 4.260000228881836, 4.25, 4.25, 4.25, 4.239999771118164, 4.239999771118164, 4.239999771118164, 4.230000019073486, 4.230000019073486, 4.230000019073486, 4.230000019073486, 4.230000019073486, 4.230000019073486, 4.230000019073486, 4.21999979019165, 4.21999979019165, 4.21999979019165, 4.21999979019165, 4.210000038146973, 4.210000038146973, 4.210000038146973, 4.199999809265137, 4.199999809265137, 4.190000057220459, 4.190000057220459, 4.179999828338623, 4.179999828338623, 4.179999828338623, 4.179999828338623, 4.179999828338623, 4.170000076293945, 4.170000076293945, 4.170000076293945, 4.139999866485596, 4.139999866485596, 4.139999866485596, 4.130000114440918, 4.130000114440918, 4.119999885559082, 4.119999885559082, 4.119999885559082, 4.119999885559082, 4.119999885559082, 4.110000133514404, 4.110000133514404, 4.110000133514404, 4.110000133514404, 4.099999904632568, 4.099999904632568, 4.099999904632568, 4.099999904632568, 4.090000152587891, 4.090000152587891, 4.079999923706055, 4.079999923706055, 4.079999923706055, 4.079999923706055, 4.079999923706055, 4.070000171661377, 4.070000171661377, 4.070000171661377, 4.070000171661377, 4.059999942779541, 4.059999942779541, 4.059999942779541, 4.059999942779541, 4.050000190734863, 4.050000190734863, 4.050000190734863, 4.03000020980835, 4.03000020980835, 4.03000020980835, 4.03000020980835, 4.019999980926514, 4.019999980926514, 4.010000228881836, 4.010000228881836, 4.010000228881836, 4.0, 4.0, 4.0, 3.990000009536743, 3.990000009536743, 3.990000009536743, 3.990000009536743, 3.990000009536743, 3.9800000190734863, 3.9800000190734863, 3.9800000190734863, 3.9800000190734863, 3.9800000190734863, 3.9700000286102295, 3.9700000286102295, 3.9700000286102295, 3.9700000286102295, 3.950000047683716, 3.940000057220459, 3.940000057220459, 3.930000066757202, 3.930000066757202, 3.930000066757202, 3.9200000762939453, 3.9200000762939453, 3.9100000858306885, 3.9100000858306885, 3.9100000858306885, 3.9000000953674316, 3.890000104904175, 3.880000114440918, 3.880000114440918, 3.869999885559082, 3.869999885559082, 3.869999885559082, 3.869999885559082, 3.859999895095825, 3.8499999046325684, 3.8399999141693115, 3.8399999141693115, 3.8299999237060547, 3.819999933242798, 3.819999933242798, 3.809999942779541, 3.809999942779541, 3.809999942779541, 3.799999952316284, 3.799999952316284, 3.7799999713897705, 3.7799999713897705, 3.7699999809265137, 3.75, 3.7300000190734863, 3.690000057220459, 3.680000066757202, 3.680000066757202, 3.6600000858306885, 3.619999885559082, 3.5899999141693115, 3.559999942779541, 3.5, 3.5, 3.4200000762939453, 3.4100000858306885], \"yaxis\": \"y2\"}, {\"line\": {\"color\": \"rgba(238, 118, 0, 1.0)\", \"dash\": \"solid\", \"shape\": \"linear\", \"width\": 1.3}, \"mode\": \"lines\", \"name\": \"review_count\", \"text\": \"\", \"type\": \"scatter\", \"x\": [\"Harry Potter and the Deathly Hallows (Harry Potter, #7)\", \"J.R.R. Tolkien 4-Book Boxed Set: The Hobbit and The Lord of the Rings\", \"Clockwork Princess (The Infernal Devices, #3)\", \"Harry Potter and the Prisoner of Azkaban (Harry Potter, #3)\", \"Harry Potter and the Half-Blood Prince (Harry Potter, #6)\", \"Harry Potter and the Goblet of Fire (Harry Potter, #4)\", \"The Name of the Wind (The Kingkiller Chronicle, #1)\", \"A Storm of Swords (A Song of Ice and Fire, #3)\", \"The Last Olympian (Percy Jackson and the Olympians, #5)\", \"Harry Potter and the Order of the Phoenix (Harry Potter, #5)\", \"Lonesome Dove\", \"The Hunger Games Trilogy Boxset (The Hunger Games, #1-3)\", \"The Help\", \"Harry Potter and the Sorcerer's Stone (Harry Potter, #1)\", \"A Game of Thrones (A Song of Ice and Fire, #1)\", \"The Compleat Works of Wllm Shkspr\", \"Harry Potter and the Chamber of Secrets (Harry Potter, #2)\", \"The Battle of the Labyrinth (Percy Jackson and the Olympians, #4)\", \"The Complete Stories and Poems\", \"The Giving Tree\", \"How the Grinch Stole Christmas!\", \"A Thousand Splendid Suns\", \"The Book Thief\", \"The Godfather\", \"The Ultimate Hitchhiker's Guide to the Galaxy (Hitchhiker's Guide to the Galaxy, #1-5)\", \"Shadow Kiss (Vampire Academy, #3)\", \"Watchmen\", \"The Fellowship of the Ring (The Lord of the Rings, #1)\", \"Oh, the Places You'll Go!\", \"Winnie-the-Pooh (Winnie-the-Pooh, #1)\", \"The Lorax\", \"The Titan's Curse (Percy Jackson and the Olympians, #3)\", \"The Little House Collection (Little House, #1-9)\", \"The Stand\", \"Blood Promise (Vampire Academy, #4)\", \"The Hunger Games (The Hunger Games, #1)\", \"Clockwork Angel (The Infernal Devices, #1)\", \"Matilda\", \"The Pillars of the Earth (Kingsbridge, #1)\", \"The Brothers Karamazov\", \"The Little Prince\", \"The Kite Runner\", \"Ender's Game (Ender's Saga, #1)\", \"The Very Hungry Caterpillar\", \"The Adventures of Sherlock Holmes\", \"Gone with the Wind\", \"Green Eggs and Ham\", \"The Master and Margarita\", \"Goodnight Moon\", \"Frostbite (Vampire Academy, #2)\", \"To Kill a Mockingbird\", \"The Shadow of the Wind (The Cemetery of Forgotten Books, #1)\", \"A Tree Grows in Brooklyn\", \"The Hobbit, or There and Back Again\", \"And Then There Were None\", \"The Princess Bride\", \"Pride and Prejudice\", \"Anne of Green Gables (Anne of Green Gables, #1)\", \"The Chronicles of Narnia (Chronicles of Narnia, #1-7)\", \"The Count of Monte Cristo\", \"Good Omens: The Nice and Accurate Prophecies of Agnes Nutter, Witch\", \"The Lightning Thief (Percy Jackson and the Olympians, #1)\", \"The Sea of Monsters (Percy Jackson and the Olympians, #2)\", \"It\", \"The Girl Who Played with Fire (Millennium, #2)\", \"Rebecca\", \"Outlander (Outlander, #1)\", \"The Thorn Birds\", \"Dune (Dune, #1)\", \"The Prophet\", \"The Shining\", \"A Prayer for Owen Meany\", \"Where the Wild Things Are\", \"Crime and Punishment\", \"The Lion, the Witch and the Wardrobe (Chronicles of Narnia, #1)\", \"The Hitchhiker's Guide to the Galaxy (Hitchhiker's Guide to the Galaxy, #1)\", \"The Fault in Our Stars\", \"The Phantom Tollbooth\", \"The Color Purple\", \"The Perks of Being a Wallflower\", \"Divergent (Divergent, #1)\", \"Fight Club\", \"One Flew Over the Cuckoo's Nest\", \"A Walk to Remember\", \"1984\", \"The Red Tent\", \"The Neverending Story\", \"The Importance of Being Earnest\", \"The Cat in the Hat\", \"Les Mis\\u00e9rables\", \"Charlotte's Web\", \"The Girl with the Dragon Tattoo (Millennium, #1)\", \"The Secret Garden\", \"Charlie and the Chocolate Factory (Charlie Bucket, #1)\", \"The Giver (The Giver, #1)\", \"Flowers for Algernon\", \"The Name of the Rose\", \"Memoirs of a Geisha\", \"Jane Eyre\", \"The Mists of Avalon (Avalon, #1)\", \"Vampire Academy (Vampire Academy, #1)\", \"Tuesdays with Morrie\", \"American Gods (American Gods, #1)\", \"Angela's Ashes (Frank McCourt, #1)\", \"The Handmaid's Tale (The Handmaid's Tale, #1)\", \"The Notebook (The Notebook, #1)\", \"The Outsiders\", \"City of Bones (The Mortal Instruments, #1)\", \"The Unbearable Lightness of Being\", \"Water for Elephants\", \"The World According to Garp\", \"The Picture of Dorian Gray\", \"One Hundred Years of Solitude\", \"My Sister's Keeper\", \"Little Women\", \"Where the Red Fern Grows\", \"The Three Musketeers (The D'Artagnan Romances, #1)\", \"In Cold Blood\", \"Slaughterhouse-Five\", \"Peter Pan\", \"The Poisonwood Bible\", \"The Divine Comedy\", \"Alice's Adventures in Wonderland & Through the Looking-Glass\", \"Watership Down (Watership Down, #1)\", \"The Secret Life of Bees\", \"The Clan of the Cave Bear\", \"Anna Karenina\", \"Insurgent (Divergent, #2)\", \"Alice in Wonderland\", \"Looking for Alaska\", \"Siddhartha\", \"The Maze Runner (The Maze Runner, #1)\", \"Perfume: The Story of a Murderer\", \"Bridge to Terabithia\", \"Middlesex\", \"The Bell Jar\", \"Interview with the Vampire (The Vampire Chronicles, #1)\", \"A Wrinkle in Time (Time Quintet, #1)\", \"Dracula\", \"Brave New World\", \"David Copperfield\", \"The Wonderful Wizard of Oz (Oz, #1)\", \"Fahrenheit 451\", \"A Clockwork Orange\", \"All Quiet on the Western Front\", \"The Stranger\", \"Catch-22 (Catch-22, #1)\", \"The Good Earth (House of Earth, #1)\", \"The Golden Compass (His Dark Materials, #1)\", \"The Road\", \"The Time Traveler's Wife\", \"Hush, Hush (Hush, Hush, #1)\", \"Holes (Holes, #1)\", \"A Midsummer Night's Dream\", \"The Five People You Meet in Heaven\", \"Animal Farm\", \"Thirteen Reasons Why\", \"The Joy Luck Club\", \"Their Eyes Were Watching God\", \"Love in the Time of Cholera\", \"The Great Gatsby\", \"Atonement\", \"Life of Pi\", \"The Adventures of Tom Sawyer\", \"Eragon (The Inheritance Cycle, #1)\", \"Lolita\", \"Don Quixote\", \"The Curious Incident of the Dog in the Night-Time\", \"Of Mice and Men\", \"The Alchemist\", \"The Call of the Wild\", \"Oliver Twist\", \"Wuthering Heights\", \"The Da Vinci Code (Robert Langdon, #2)\", \"A Tale of Two Cities\", \"Jonathan Livingston Seagull\", \"Treasure Island\", \"The Adventures of Huckleberry Finn\", \"The Metamorphosis\", \"The Lovely Bones\", \"The Catcher in the Rye\", \"A Farewell to Arms\", \"Frankenstein: The 1818 Text\", \"Tess of the D'Urbervilles\", \"The Old Man and the Sea\", \"Great Expectations\", \"The Odyssey\", \"Romeo and Juliet\", \"Ulysses\", \"Atlas Shrugged\", \"Lord of the Flies\", \"Madame Bovary\", \"Fifty Shades of Grey (Fifty Shades, #1)\", \"On the Road\", \"Twilight (Twilight, #1)\", \"Eat, Pray, Love\", \"Moby-Dick or, the Whale\", \"The Canterbury Tales\", \"Heart of Darkness\", \"The Scarlet Letter\"], \"y\": [63849.0, 1737.0, 29081.0, 53478.0, 38090.0, 44868.0, 40786.0, 21969.0, 22532.0, 40814.0, 7292.0, 6827.0, 84130.0, 108719.0, 53906.0, 131.0, 50944.0, 18462.0, 2169.0, 17383.0, 3148.0, 52897.0, 111235.0, 8398.0, 5206.0, 11174.0, 13783.0, 21719.0, 5159.0, 4620.0, 4015.0, 20185.0, 2168.0, 19607.0, 9705.0, 170045.0, 30753.0, 15965.0, 30725.0, 10667.0, 37961.0, 72086.0, 42842.0, 7757.0, 6547.0, 19462.0, 9213.0, 11056.0, 5733.0, 11198.0, 89315.0, 34326.0, 20191.0, 47030.0, 31315.0, 19780.0, 64576.0, 21749.0, 10182.0, 20645.0, 26623.0, 58892.0, 25957.0, 24494.0, 33898.0, 22191.0, 44736.0, 5838.0, 20979.0, 9210.0, 23558.0, 13594.0, 11582.0, 18325.0, 21084.0, 29116.0, 154147.0, 10072.0, 14486.0, 56444.0, 107502.0, 14142.0, 10621.0, 12923.0, 67126.0, 19051.0, 6326.0, 8958.0, 5706.0, 17104.0, 17582.0, 68102.0, 18086.0, 11609.0, 64335.0, 17626.0, 8608.0, 29573.0, 40921.0, 6630.0, 21932.0, 25292.0, 37874.0, 11734.0, 68523.0, 19737.0, 32371.0, 60683.0, 14870.0, 58529.0, 5381.0, 29191.0, 29606.0, 33215.0, 29427.0, 10904.0, 6589.0, 16163.0, 26286.0, 10960.0, 22953.0, 3724.0, 10329.0, 13441.0, 30087.0, 6448.0, 23342.0, 58483.0, 5348.0, 55438.0, 16870.0, 55211.0, 13958.0, 12142.0, 22956.0, 22362.0, 9963.0, 33462.0, 24661.0, 29098.0, 6329.0, 12360.0, 46138.0, 13391.0, 10148.0, 22355.0, 17852.0, 9706.0, 21641.0, 45022.0, 46900.0, 24568.0, 20053.0, 7877.0, 20266.0, 53727.0, 51526.0, 9028.0, 12989.0, 19624.0, 65562.0, 17042.0, 46826.0, 9703.0, 21760.0, 23929.0, 7800.0, 43483.0, 33216.0, 77833.0, 10718.0, 7294.0, 35775.0, 46500.0, 17044.0, 7699.0, 11290.0, 15210.0, 16730.0, 40122.0, 56039.0, 9414.0, 31839.0, 8497.0, 24262.0, 15616.0, 11881.0, 18923.0, 6610.0, 17066.0, 36308.0, 10283.0, 78264.0, 14650.0, 102549.0, 53447.0, 15165.0, 3244.0, 13524.0, 14430.0]}],\n",
       "                        {\"legend\": {\"bgcolor\": \"#F2F3F7\", \"font\": {\"color\": \"#505050\"}}, \"paper_bgcolor\": \"#F2F3F7\", \"plot_bgcolor\": \"#F2F3F7\", \"template\": {\"data\": {\"bar\": [{\"error_x\": {\"color\": \"#2a3f5f\"}, \"error_y\": {\"color\": \"#2a3f5f\"}, \"marker\": {\"line\": {\"color\": \"#E5ECF6\", \"width\": 0.5}}, \"type\": \"bar\"}], \"barpolar\": [{\"marker\": {\"line\": {\"color\": \"#E5ECF6\", \"width\": 0.5}}, \"type\": \"barpolar\"}], \"carpet\": [{\"aaxis\": {\"endlinecolor\": \"#2a3f5f\", \"gridcolor\": \"white\", \"linecolor\": \"white\", \"minorgridcolor\": \"white\", \"startlinecolor\": \"#2a3f5f\"}, \"baxis\": {\"endlinecolor\": \"#2a3f5f\", \"gridcolor\": \"white\", \"linecolor\": \"white\", \"minorgridcolor\": \"white\", \"startlinecolor\": \"#2a3f5f\"}, \"type\": \"carpet\"}], \"choropleth\": [{\"colorbar\": {\"outlinewidth\": 0, \"ticks\": \"\"}, \"type\": \"choropleth\"}], \"contour\": [{\"colorbar\": {\"outlinewidth\": 0, \"ticks\": \"\"}, \"colorscale\": [[0.0, \"#0d0887\"], [0.1111111111111111, \"#46039f\"], [0.2222222222222222, \"#7201a8\"], [0.3333333333333333, \"#9c179e\"], [0.4444444444444444, \"#bd3786\"], [0.5555555555555556, \"#d8576b\"], [0.6666666666666666, \"#ed7953\"], [0.7777777777777778, \"#fb9f3a\"], [0.8888888888888888, \"#fdca26\"], [1.0, \"#f0f921\"]], \"type\": \"contour\"}], \"contourcarpet\": [{\"colorbar\": {\"outlinewidth\": 0, \"ticks\": \"\"}, \"type\": \"contourcarpet\"}], \"heatmap\": [{\"colorbar\": {\"outlinewidth\": 0, \"ticks\": \"\"}, \"colorscale\": [[0.0, \"#0d0887\"], [0.1111111111111111, \"#46039f\"], [0.2222222222222222, \"#7201a8\"], [0.3333333333333333, \"#9c179e\"], [0.4444444444444444, \"#bd3786\"], [0.5555555555555556, \"#d8576b\"], [0.6666666666666666, \"#ed7953\"], [0.7777777777777778, \"#fb9f3a\"], [0.8888888888888888, \"#fdca26\"], [1.0, \"#f0f921\"]], \"type\": \"heatmap\"}], \"heatmapgl\": [{\"colorbar\": {\"outlinewidth\": 0, \"ticks\": \"\"}, \"colorscale\": [[0.0, \"#0d0887\"], [0.1111111111111111, \"#46039f\"], [0.2222222222222222, \"#7201a8\"], [0.3333333333333333, \"#9c179e\"], [0.4444444444444444, \"#bd3786\"], [0.5555555555555556, \"#d8576b\"], [0.6666666666666666, \"#ed7953\"], [0.7777777777777778, \"#fb9f3a\"], [0.8888888888888888, \"#fdca26\"], [1.0, \"#f0f921\"]], \"type\": \"heatmapgl\"}], \"histogram\": [{\"marker\": {\"colorbar\": {\"outlinewidth\": 0, \"ticks\": \"\"}}, \"type\": \"histogram\"}], \"histogram2d\": [{\"colorbar\": {\"outlinewidth\": 0, \"ticks\": \"\"}, \"colorscale\": [[0.0, \"#0d0887\"], [0.1111111111111111, \"#46039f\"], [0.2222222222222222, \"#7201a8\"], [0.3333333333333333, \"#9c179e\"], [0.4444444444444444, \"#bd3786\"], [0.5555555555555556, \"#d8576b\"], [0.6666666666666666, \"#ed7953\"], [0.7777777777777778, \"#fb9f3a\"], [0.8888888888888888, \"#fdca26\"], [1.0, \"#f0f921\"]], \"type\": \"histogram2d\"}], \"histogram2dcontour\": [{\"colorbar\": {\"outlinewidth\": 0, \"ticks\": \"\"}, \"colorscale\": [[0.0, \"#0d0887\"], [0.1111111111111111, \"#46039f\"], [0.2222222222222222, \"#7201a8\"], [0.3333333333333333, \"#9c179e\"], [0.4444444444444444, \"#bd3786\"], [0.5555555555555556, \"#d8576b\"], [0.6666666666666666, \"#ed7953\"], [0.7777777777777778, \"#fb9f3a\"], [0.8888888888888888, \"#fdca26\"], [1.0, \"#f0f921\"]], \"type\": \"histogram2dcontour\"}], \"mesh3d\": [{\"colorbar\": {\"outlinewidth\": 0, \"ticks\": \"\"}, \"type\": \"mesh3d\"}], \"parcoords\": [{\"line\": {\"colorbar\": {\"outlinewidth\": 0, \"ticks\": \"\"}}, \"type\": \"parcoords\"}], \"pie\": [{\"automargin\": true, \"type\": \"pie\"}], \"scatter\": [{\"marker\": {\"colorbar\": {\"outlinewidth\": 0, \"ticks\": \"\"}}, \"type\": \"scatter\"}], \"scatter3d\": [{\"line\": {\"colorbar\": {\"outlinewidth\": 0, \"ticks\": \"\"}}, \"marker\": {\"colorbar\": {\"outlinewidth\": 0, \"ticks\": \"\"}}, \"type\": \"scatter3d\"}], \"scattercarpet\": [{\"marker\": {\"colorbar\": {\"outlinewidth\": 0, \"ticks\": \"\"}}, \"type\": \"scattercarpet\"}], \"scattergeo\": [{\"marker\": {\"colorbar\": {\"outlinewidth\": 0, \"ticks\": \"\"}}, \"type\": \"scattergeo\"}], \"scattergl\": [{\"marker\": {\"colorbar\": {\"outlinewidth\": 0, \"ticks\": \"\"}}, \"type\": \"scattergl\"}], \"scattermapbox\": [{\"marker\": {\"colorbar\": {\"outlinewidth\": 0, \"ticks\": \"\"}}, \"type\": \"scattermapbox\"}], \"scatterpolar\": [{\"marker\": {\"colorbar\": {\"outlinewidth\": 0, \"ticks\": \"\"}}, \"type\": \"scatterpolar\"}], \"scatterpolargl\": [{\"marker\": {\"colorbar\": {\"outlinewidth\": 0, \"ticks\": \"\"}}, \"type\": \"scatterpolargl\"}], \"scatterternary\": [{\"marker\": {\"colorbar\": {\"outlinewidth\": 0, \"ticks\": \"\"}}, \"type\": \"scatterternary\"}], \"surface\": [{\"colorbar\": {\"outlinewidth\": 0, \"ticks\": \"\"}, \"colorscale\": [[0.0, \"#0d0887\"], [0.1111111111111111, \"#46039f\"], [0.2222222222222222, \"#7201a8\"], [0.3333333333333333, \"#9c179e\"], [0.4444444444444444, \"#bd3786\"], [0.5555555555555556, \"#d8576b\"], [0.6666666666666666, \"#ed7953\"], [0.7777777777777778, \"#fb9f3a\"], [0.8888888888888888, \"#fdca26\"], [1.0, \"#f0f921\"]], \"type\": \"surface\"}], \"table\": [{\"cells\": {\"fill\": {\"color\": \"#EBF0F8\"}, \"line\": {\"color\": \"white\"}}, \"header\": {\"fill\": {\"color\": \"#C8D4E3\"}, \"line\": {\"color\": \"white\"}}, \"type\": \"table\"}]}, \"layout\": {\"annotationdefaults\": {\"arrowcolor\": \"#2a3f5f\", \"arrowhead\": 0, \"arrowwidth\": 1}, \"coloraxis\": {\"colorbar\": {\"outlinewidth\": 0, \"ticks\": \"\"}}, \"colorscale\": {\"diverging\": [[0, \"#8e0152\"], [0.1, \"#c51b7d\"], [0.2, \"#de77ae\"], [0.3, \"#f1b6da\"], [0.4, \"#fde0ef\"], [0.5, \"#f7f7f7\"], [0.6, \"#e6f5d0\"], [0.7, \"#b8e186\"], [0.8, \"#7fbc41\"], [0.9, \"#4d9221\"], [1, \"#276419\"]], \"sequential\": [[0.0, \"#0d0887\"], [0.1111111111111111, \"#46039f\"], [0.2222222222222222, \"#7201a8\"], [0.3333333333333333, \"#9c179e\"], [0.4444444444444444, \"#bd3786\"], [0.5555555555555556, \"#d8576b\"], [0.6666666666666666, \"#ed7953\"], [0.7777777777777778, \"#fb9f3a\"], [0.8888888888888888, \"#fdca26\"], [1.0, \"#f0f921\"]], \"sequentialminus\": [[0.0, \"#0d0887\"], [0.1111111111111111, \"#46039f\"], [0.2222222222222222, \"#7201a8\"], [0.3333333333333333, \"#9c179e\"], [0.4444444444444444, \"#bd3786\"], [0.5555555555555556, \"#d8576b\"], [0.6666666666666666, \"#ed7953\"], [0.7777777777777778, \"#fb9f3a\"], [0.8888888888888888, \"#fdca26\"], [1.0, \"#f0f921\"]]}, \"colorway\": [\"#636efa\", \"#EF553B\", \"#00cc96\", \"#ab63fa\", \"#FFA15A\", \"#19d3f3\", \"#FF6692\", \"#B6E880\", \"#FF97FF\", \"#FECB52\"], \"font\": {\"color\": \"#2a3f5f\"}, \"geo\": {\"bgcolor\": \"white\", \"lakecolor\": \"white\", \"landcolor\": \"#E5ECF6\", \"showlakes\": true, \"showland\": true, \"subunitcolor\": \"white\"}, \"hoverlabel\": {\"align\": \"left\"}, \"hovermode\": \"closest\", \"mapbox\": {\"style\": \"light\"}, \"paper_bgcolor\": \"white\", \"plot_bgcolor\": \"#E5ECF6\", \"polar\": {\"angularaxis\": {\"gridcolor\": \"white\", \"linecolor\": \"white\", \"ticks\": \"\"}, \"bgcolor\": \"#E5ECF6\", \"radialaxis\": {\"gridcolor\": \"white\", \"linecolor\": \"white\", \"ticks\": \"\"}}, \"scene\": {\"xaxis\": {\"backgroundcolor\": \"#E5ECF6\", \"gridcolor\": \"white\", \"gridwidth\": 2, \"linecolor\": \"white\", \"showbackground\": true, \"ticks\": \"\", \"zerolinecolor\": \"white\"}, \"yaxis\": {\"backgroundcolor\": \"#E5ECF6\", \"gridcolor\": \"white\", \"gridwidth\": 2, \"linecolor\": \"white\", \"showbackground\": true, \"ticks\": \"\", \"zerolinecolor\": \"white\"}, \"zaxis\": {\"backgroundcolor\": \"#E5ECF6\", \"gridcolor\": \"white\", \"gridwidth\": 2, \"linecolor\": \"white\", \"showbackground\": true, \"ticks\": \"\", \"zerolinecolor\": \"white\"}}, \"shapedefaults\": {\"line\": {\"color\": \"#2a3f5f\"}}, \"ternary\": {\"aaxis\": {\"gridcolor\": \"white\", \"linecolor\": \"white\", \"ticks\": \"\"}, \"baxis\": {\"gridcolor\": \"white\", \"linecolor\": \"white\", \"ticks\": \"\"}, \"bgcolor\": \"#E5ECF6\", \"caxis\": {\"gridcolor\": \"white\", \"linecolor\": \"white\", \"ticks\": \"\"}}, \"title\": {\"x\": 0.05}, \"xaxis\": {\"automargin\": true, \"gridcolor\": \"white\", \"linecolor\": \"white\", \"ticks\": \"\", \"title\": {\"standoff\": 15}, \"zerolinecolor\": \"white\", \"zerolinewidth\": 2}, \"yaxis\": {\"automargin\": true, \"gridcolor\": \"white\", \"linecolor\": \"white\", \"ticks\": \"\", \"title\": {\"standoff\": 15}, \"zerolinecolor\": \"white\", \"zerolinewidth\": 2}}}, \"title\": {\"font\": {\"color\": \"#484848\"}, \"text\": \"Books with their raiting and review count\"}, \"xaxis\": {\"gridcolor\": \"#E1E5ED\", \"showgrid\": true, \"tickfont\": {\"color\": \"#505050\"}, \"title\": {\"font\": {\"color\": \"#505050\"}, \"text\": \"Book Name\"}, \"zerolinecolor\": \"#E1E5ED\"}, \"yaxis\": {\"gridcolor\": \"#E1E5ED\", \"showgrid\": true, \"tickfont\": {\"color\": \"#505050\"}, \"title\": {\"font\": {\"color\": \"#505050\"}, \"text\": \"Review Count\"}, \"zerolinecolor\": \"#E1E5ED\"}, \"yaxis2\": {\"anchor\": \"x\", \"gridcolor\": \"#E1E5ED\", \"overlaying\": \"y\", \"showgrid\": true, \"side\": \"right\", \"tickfont\": {\"color\": \"#505050\"}, \"title\": {\"text\": \"Rating\"}, \"zerolinecolor\": \"#E1E5ED\"}},\n",
       "                        {\"showLink\": true, \"linkText\": \"Export to plot.ly\", \"plotlyServerURL\": \"https://plot.ly\", \"responsive\": true}\n",
       "                    ).then(function(){\n",
       "                            \n",
       "var gd = document.getElementById('775bb972-65ba-418c-9917-28b6619c39cd');\n",
       "var x = new MutationObserver(function (mutations, observer) {{\n",
       "        var display = window.getComputedStyle(gd).display;\n",
       "        if (!display || display === 'none') {{\n",
       "            console.log([gd, 'removed!']);\n",
       "            Plotly.purge(gd);\n",
       "            observer.disconnect();\n",
       "        }}\n",
       "}});\n",
       "\n",
       "// Listen for the removal of the full notebook cells\n",
       "var notebookContainer = gd.closest('#notebook-container');\n",
       "if (notebookContainer) {{\n",
       "    x.observe(notebookContainer, {childList: true});\n",
       "}}\n",
       "\n",
       "// Listen for the clearing of the current output cell\n",
       "var outputEl = gd.closest('.output');\n",
       "if (outputEl) {{\n",
       "    x.observe(outputEl, {childList: true});\n",
       "}}\n",
       "\n",
       "                        })\n",
       "                };\n",
       "                });\n",
       "            </script>\n",
       "        </div>"
      ]
     },
     "metadata": {},
     "output_type": "display_data"
    }
   ],
   "source": [
    "df.groupby('name')[['rating', 'review_count']].sum().sort_values('rating', \n",
    "                                                    ascending = False).iplot(\n",
    "xTitle = 'Book Name',\n",
    "yTitle = 'Review Count',\n",
    "secondary_y = 'rating',\n",
    "secondary_y_title = 'Rating',\n",
    "title = 'Books with their raiting and review count')"
   ]
  },
  {
   "cell_type": "markdown",
   "metadata": {},
   "source": [
    "## Genres and their page count"
   ]
  },
  {
   "cell_type": "code",
   "execution_count": 30,
   "metadata": {
    "ExecuteTime": {
     "end_time": "2020-07-13T20:10:28.880924Z",
     "start_time": "2020-07-13T20:10:28.616233Z"
    }
   },
   "outputs": [
    {
     "data": {
      "application/vnd.plotly.v1+json": {
       "config": {
        "linkText": "Export to plot.ly",
        "plotlyServerURL": "https://plot.ly",
        "showLink": true
       },
       "data": [
        {
         "boxpoints": false,
         "line": {
          "width": 1.3
         },
         "marker": {
          "color": "rgba(0, 128, 240, 1.0)"
         },
         "name": "Childrens",
         "orientation": "v",
         "type": "box",
         "y": [
          null,
          null,
          null,
          null,
          null,
          null,
          null,
          null,
          null,
          null,
          null,
          null,
          64,
          null,
          null,
          null,
          null,
          null,
          null,
          null,
          null,
          null,
          null,
          null,
          null,
          null,
          null,
          null,
          null,
          null,
          null,
          null,
          null,
          null,
          null,
          null,
          null,
          null,
          null,
          null,
          null,
          null,
          null,
          null,
          null,
          null,
          null,
          null,
          null,
          null,
          37,
          62,
          null,
          null,
          null,
          null,
          null,
          null,
          null,
          null,
          null,
          null,
          null,
          null,
          null,
          null,
          null,
          null,
          null,
          null,
          null,
          null,
          null,
          null,
          null,
          null,
          null,
          240,
          null,
          null,
          null,
          null,
          null,
          null,
          null,
          null,
          null,
          null,
          null,
          null,
          null,
          null,
          null,
          null,
          null,
          null,
          null,
          null,
          null,
          null,
          null,
          null,
          null,
          null,
          null,
          null,
          null,
          null,
          null,
          null,
          null,
          null,
          null,
          null,
          176,
          null,
          null,
          null,
          null,
          null,
          null,
          26,
          null,
          null,
          null,
          null,
          null,
          null,
          null,
          null,
          null,
          null,
          null,
          null,
          61,
          null,
          null,
          null,
          null,
          null,
          null,
          null,
          null,
          null,
          null,
          null,
          null,
          null,
          null,
          null,
          null,
          null,
          null,
          null,
          null,
          64,
          null,
          null,
          null,
          null,
          null,
          null,
          null,
          32,
          72,
          null,
          null,
          null,
          null,
          null,
          null,
          null,
          null,
          null,
          null,
          null,
          null,
          null,
          null,
          null,
          null,
          null,
          null,
          null,
          44,
          null,
          null,
          null,
          null,
          null,
          null,
          null,
          null,
          null,
          null,
          null,
          null,
          null,
          null,
          null
         ]
        },
        {
         "boxpoints": false,
         "line": {
          "width": 1.3
         },
         "marker": {
          "color": "rgba(238, 118, 0, 1.0)"
         },
         "name": "Classics",
         "orientation": "v",
         "type": "box",
         "y": [
          null,
          null,
          324,
          279,
          null,
          null,
          141,
          null,
          null,
          1037,
          null,
          null,
          null,
          464,
          null,
          null,
          272,
          239,
          532,
          1463,
          null,
          194,
          368,
          182,
          null,
          null,
          null,
          200,
          null,
          null,
          null,
          320,
          184,
          93,
          null,
          103,
          null,
          488,
          288,
          null,
          null,
          277,
          331,
          null,
          null,
          null,
          null,
          327,
          null,
          192,
          null,
          null,
          541,
          null,
          489,
          null,
          331,
          275,
          288,
          null,
          null,
          null,
          453,
          null,
          null,
          null,
          389,
          478,
          505,
          325,
          294,
          964,
          449,
          null,
          null,
          null,
          null,
          null,
          null,
          449,
          304,
          496,
          237,
          240,
          null,
          796,
          null,
          null,
          null,
          152,
          null,
          1023,
          1168,
          96,
          null,
          null,
          145,
          821,
          null,
          null,
          654,
          null,
          null,
          null,
          null,
          null,
          null,
          null,
          123,
          null,
          null,
          null,
          244,
          null,
          null,
          null,
          307,
          null,
          201,
          null,
          null,
          null,
          null,
          null,
          null,
          272,
          279,
          null,
          null,
          null,
          null,
          null,
          null,
          null,
          null,
          null,
          null,
          null,
          1276,
          null,
          null,
          null,
          2700,
          null,
          798,
          176,
          null,
          null,
          null,
          null,
          null,
          null,
          null,
          null,
          null,
          null,
          null,
          76,
          null,
          219,
          625,
          154,
          null,
          null,
          null,
          null,
          null,
          518,
          418,
          188,
          240,
          null,
          null,
          null,
          null,
          null,
          null,
          null,
          92,
          172,
          null,
          329,
          null,
          null,
          null,
          null,
          null,
          null,
          608,
          783,
          null,
          311,
          null,
          null,
          521,
          null,
          null,
          293,
          882,
          null
         ]
        },
        {
         "boxpoints": false,
         "line": {
          "width": 1.3
         },
         "marker": {
          "color": "rgba(48, 144, 84, 1.0)"
         },
         "name": "Cultural",
         "orientation": "v",
         "type": "box",
         "y": [
          null,
          null,
          null,
          null,
          null,
          null,
          null,
          null,
          null,
          null,
          null,
          null,
          null,
          null,
          null,
          null,
          null,
          null,
          null,
          null,
          null,
          null,
          null,
          null,
          null,
          671,
          null,
          null,
          null,
          null,
          null,
          null,
          null,
          null,
          null,
          null,
          null,
          null,
          null,
          null,
          null,
          null,
          null,
          null,
          null,
          null,
          null,
          null,
          null,
          null,
          null,
          null,
          null,
          null,
          null,
          null,
          null,
          null,
          null,
          null,
          null,
          null,
          null,
          null,
          null,
          null,
          null,
          null,
          null,
          null,
          null,
          null,
          null,
          null,
          null,
          null,
          null,
          null,
          null,
          null,
          null,
          null,
          null,
          null,
          null,
          null,
          null,
          null,
          null,
          null,
          null,
          null,
          null,
          null,
          null,
          null,
          null,
          null,
          null,
          null,
          null,
          null,
          null,
          null,
          null,
          null,
          null,
          null,
          null,
          null,
          null,
          null,
          null,
          null,
          null,
          null,
          null,
          null,
          null,
          null,
          null,
          null,
          null,
          null,
          null,
          null,
          null,
          null,
          null,
          null,
          null,
          null,
          null,
          null,
          null,
          null,
          null,
          null,
          null,
          null,
          null,
          null,
          null,
          null,
          null,
          null,
          null,
          null,
          null,
          null,
          null,
          null,
          null,
          null,
          null,
          null,
          null,
          null,
          null,
          null,
          null,
          null,
          null,
          null,
          null,
          null,
          null,
          null,
          null,
          null,
          null,
          null,
          null,
          null,
          null,
          null,
          null,
          null,
          null,
          null,
          null,
          null,
          null,
          null,
          null,
          null,
          null,
          null,
          null,
          null,
          null,
          null,
          null,
          null,
          null,
          null,
          null,
          null,
          null,
          null
         ]
        },
        {
         "boxpoints": false,
         "line": {
          "width": 1.3
         },
         "marker": {
          "color": "rgba(98, 98, 222, 1.0)"
         },
         "name": "Fantasy",
         "orientation": "v",
         "type": "box",
         "y": [
          null,
          870,
          null,
          null,
          null,
          null,
          null,
          767,
          1728,
          null,
          null,
          null,
          null,
          null,
          null,
          null,
          null,
          null,
          null,
          null,
          null,
          null,
          null,
          null,
          null,
          null,
          null,
          null,
          null,
          485,
          null,
          null,
          null,
          null,
          null,
          null,
          309,
          null,
          null,
          null,
          456,
          null,
          null,
          null,
          375,
          218,
          835,
          null,
          null,
          null,
          null,
          null,
          null,
          null,
          null,
          null,
          null,
          null,
          null,
          null,
          null,
          null,
          null,
          null,
          null,
          null,
          null,
          null,
          null,
          null,
          null,
          null,
          null,
          null,
          null,
          null,
          759,
          null,
          398,
          null,
          null,
          null,
          null,
          null,
          null,
          null,
          null,
          null,
          null,
          null,
          399,
          null,
          null,
          null,
          435,
          null,
          null,
          null,
          null,
          null,
          null,
          null,
          null,
          734,
          481,
          null,
          null,
          652,
          null,
          null,
          662,
          null,
          null,
          503,
          null,
          null,
          null,
          null,
          null,
          null,
          null,
          null,
          null,
          null,
          null,
          null,
          null,
          null,
          341,
          null,
          null,
          null,
          null,
          null,
          null,
          635,
          null,
          null,
          null,
          206,
          null,
          null,
          null,
          381,
          null,
          null,
          null,
          null,
          null,
          null,
          366,
          null,
          null,
          null,
          null,
          null,
          null,
          null,
          null,
          null,
          null,
          null,
          null,
          null,
          null,
          491,
          null,
          null,
          null,
          null,
          null,
          null,
          361,
          1009,
          567,
          279,
          320,
          null,
          null,
          null,
          null,
          null,
          256,
          null,
          null,
          null,
          null,
          null,
          null,
          null,
          396,
          null,
          null,
          null,
          null,
          null,
          1177,
          null,
          null,
          null
         ]
        },
        {
         "boxpoints": false,
         "line": {
          "width": 1.3
         },
         "marker": {
          "color": "rgba(217, 66, 85, 1.0)"
         },
         "name": "Fiction",
         "orientation": "v",
         "type": "box",
         "y": [
          null,
          null,
          null,
          null,
          null,
          null,
          null,
          null,
          null,
          null,
          null,
          null,
          null,
          null,
          489,
          503,
          null,
          null,
          null,
          null,
          null,
          null,
          null,
          null,
          182,
          null,
          null,
          null,
          null,
          null,
          451,
          null,
          null,
          null,
          500,
          null,
          null,
          null,
          null,
          417,
          null,
          null,
          null,
          372,
          null,
          null,
          null,
          null,
          372,
          null,
          null,
          null,
          null,
          460,
          null,
          335,
          null,
          null,
          null,
          371,
          314,
          null,
          null,
          null,
          null,
          null,
          null,
          null,
          null,
          null,
          null,
          null,
          null,
          423,
          null,
          465,
          null,
          null,
          null,
          null,
          null,
          null,
          null,
          null,
          241,
          null,
          null,
          null,
          546,
          null,
          null,
          null,
          null,
          null,
          null,
          null,
          null,
          null,
          637,
          null,
          null,
          null,
          302,
          null,
          null,
          null,
          529,
          null,
          null,
          335,
          null,
          null,
          null,
          null,
          null,
          216,
          null,
          null,
          null,
          487,
          226,
          null,
          null,
          320,
          536,
          null,
          null,
          448,
          null,
          null,
          196,
          218,
          null,
          960,
          null,
          null,
          null,
          263,
          null,
          null,
          null,
          null,
          null,
          null,
          null,
          null,
          null,
          null,
          348,
          null,
          null,
          null,
          692,
          null,
          null,
          null,
          351,
          null,
          null,
          null,
          null,
          null,
          null,
          null,
          null,
          null,
          null,
          null,
          null,
          null,
          null,
          null,
          null,
          null,
          null,
          null,
          null,
          288,
          null,
          null,
          112,
          null,
          null,
          null,
          null,
          503,
          null,
          null,
          null,
          null,
          null,
          null,
          null,
          null,
          null,
          610,
          null,
          null,
          null,
          null
         ]
        },
        {
         "boxpoints": false,
         "line": {
          "width": 1.3
         },
         "marker": {
          "color": "rgba(173, 252, 252, 1.0)"
         },
         "name": "Historical",
         "orientation": "v",
         "type": "box",
         "y": [
          null,
          null,
          null,
          null,
          null,
          552,
          null,
          null,
          null,
          null,
          null,
          null,
          null,
          null,
          null,
          null,
          null,
          null,
          null,
          null,
          null,
          null,
          null,
          null,
          null,
          null,
          null,
          null,
          null,
          null,
          null,
          null,
          null,
          null,
          null,
          null,
          null,
          null,
          null,
          null,
          null,
          null,
          null,
          null,
          null,
          null,
          null,
          null,
          null,
          null,
          null,
          null,
          null,
          null,
          null,
          null,
          null,
          null,
          null,
          null,
          null,
          null,
          null,
          null,
          976,
          null,
          null,
          null,
          null,
          null,
          null,
          null,
          null,
          null,
          850,
          null,
          null,
          null,
          null,
          null,
          null,
          null,
          null,
          null,
          null,
          null,
          null,
          null,
          null,
          null,
          null,
          null,
          null,
          null,
          null,
          null,
          null,
          null,
          null,
          null,
          null,
          336,
          null,
          null,
          null,
          null,
          null,
          null,
          null,
          null,
          null,
          null,
          null,
          null,
          null,
          null,
          null,
          null,
          null,
          null,
          null,
          null,
          null,
          null,
          null,
          null,
          null,
          null,
          null,
          null,
          null,
          null,
          null,
          null,
          null,
          null,
          null,
          null,
          null,
          null,
          null,
          null,
          null,
          null,
          null,
          null,
          296,
          null,
          null,
          null,
          null,
          null,
          null,
          null,
          null,
          null,
          null,
          null,
          null,
          null,
          null,
          null,
          null,
          null,
          null,
          null,
          null,
          null,
          null,
          null,
          null,
          null,
          null,
          null,
          null,
          null,
          null,
          null,
          null,
          null,
          null,
          null,
          null,
          null,
          null,
          null,
          null,
          null,
          null,
          null,
          null,
          null,
          null,
          516,
          null,
          null,
          null,
          null,
          null,
          null
         ]
        },
        {
         "boxpoints": false,
         "line": {
          "width": 1.3
         },
         "marker": {
          "color": "rgba(70, 160, 240, 1.0)"
         },
         "name": "Horror",
         "orientation": "v",
         "type": "box",
         "y": [
          null,
          null,
          null,
          null,
          null,
          null,
          null,
          null,
          null,
          null,
          null,
          null,
          null,
          null,
          null,
          null,
          null,
          null,
          null,
          null,
          null,
          null,
          null,
          null,
          null,
          null,
          null,
          null,
          null,
          null,
          null,
          null,
          null,
          null,
          null,
          null,
          null,
          null,
          null,
          null,
          null,
          null,
          null,
          null,
          null,
          null,
          null,
          null,
          null,
          null,
          null,
          null,
          null,
          null,
          null,
          null,
          null,
          null,
          null,
          null,
          null,
          null,
          null,
          null,
          null,
          1153,
          null,
          null,
          null,
          null,
          null,
          null,
          null,
          null,
          null,
          null,
          null,
          null,
          null,
          null,
          null,
          null,
          null,
          null,
          null,
          null,
          null,
          null,
          null,
          null,
          null,
          null,
          null,
          null,
          null,
          null,
          null,
          null,
          null,
          342,
          null,
          null,
          null,
          null,
          null,
          null,
          null,
          null,
          null,
          null,
          null,
          659,
          null,
          null,
          null,
          null,
          null,
          null,
          null,
          null,
          null,
          null,
          null,
          null,
          null,
          null,
          null,
          null,
          null,
          null,
          null,
          null,
          null,
          null,
          null,
          null,
          null,
          null,
          null,
          null,
          1116,
          null,
          null,
          null,
          null,
          null,
          null,
          null,
          null,
          null,
          null,
          null,
          null,
          null,
          null,
          null,
          null,
          null,
          null,
          null,
          null,
          null,
          null,
          null,
          null,
          null,
          null,
          null,
          null,
          null,
          null,
          null,
          null,
          null,
          null,
          null,
          null,
          null,
          null,
          null,
          null,
          null,
          null,
          null,
          null,
          null,
          null,
          null,
          null,
          null,
          null,
          null,
          null,
          null,
          null,
          null,
          null,
          null,
          null,
          null
         ]
        },
        {
         "boxpoints": false,
         "line": {
          "width": 1.3
         },
         "marker": {
          "color": "rgba(70, 160, 240, 0.8999999999999999)"
         },
         "name": "Mystery",
         "orientation": "v",
         "type": "box",
         "y": [
          null,
          null,
          null,
          null,
          null,
          null,
          null,
          null,
          null,
          null,
          null,
          null,
          null,
          null,
          null,
          null,
          null,
          null,
          null,
          null,
          null,
          null,
          null,
          null,
          null,
          null,
          null,
          null,
          null,
          null,
          null,
          null,
          null,
          null,
          null,
          null,
          null,
          null,
          null,
          null,
          null,
          null,
          null,
          null,
          null,
          null,
          null,
          null,
          null,
          null,
          null,
          null,
          null,
          null,
          null,
          null,
          null,
          null,
          null,
          null,
          null,
          null,
          null,
          null,
          null,
          null,
          null,
          null,
          null,
          null,
          null,
          null,
          null,
          null,
          null,
          null,
          null,
          null,
          null,
          null,
          null,
          null,
          null,
          null,
          null,
          null,
          null,
          null,
          null,
          null,
          null,
          null,
          null,
          null,
          null,
          null,
          null,
          null,
          null,
          null,
          null,
          null,
          null,
          null,
          null,
          264,
          null,
          null,
          null,
          null,
          null,
          null,
          null,
          null,
          null,
          null,
          null,
          null,
          null,
          null,
          null,
          null,
          null,
          null,
          null,
          null,
          null,
          null,
          null,
          null,
          null,
          null,
          null,
          null,
          null,
          null,
          null,
          null,
          null,
          null,
          null,
          null,
          null,
          null,
          null,
          null,
          null,
          null,
          null,
          null,
          null,
          null,
          null,
          null,
          null,
          null,
          null,
          null,
          null,
          null,
          null,
          null,
          null,
          null,
          null,
          null,
          null,
          null,
          null,
          null,
          null,
          null,
          null,
          null,
          null,
          null,
          null,
          null,
          null,
          null,
          null,
          null,
          null,
          null,
          null,
          null,
          null,
          null,
          null,
          null,
          null,
          null,
          null,
          null,
          null,
          null,
          null,
          null,
          null,
          null
         ]
        },
        {
         "boxpoints": false,
         "line": {
          "width": 1.3
         },
         "marker": {
          "color": "rgba(0, 128, 240, 0.8999999999999999)"
         },
         "name": "Nonfiction",
         "orientation": "v",
         "type": "box",
         "y": [
          null,
          null,
          null,
          null,
          null,
          null,
          null,
          null,
          null,
          null,
          null,
          null,
          null,
          null,
          null,
          null,
          null,
          null,
          null,
          null,
          null,
          null,
          null,
          null,
          null,
          null,
          null,
          null,
          null,
          null,
          null,
          null,
          null,
          null,
          null,
          null,
          null,
          null,
          null,
          null,
          null,
          null,
          null,
          null,
          null,
          null,
          null,
          null,
          null,
          null,
          null,
          null,
          null,
          null,
          null,
          null,
          null,
          null,
          null,
          null,
          null,
          null,
          null,
          null,
          null,
          null,
          null,
          null,
          null,
          null,
          null,
          null,
          null,
          null,
          null,
          null,
          null,
          null,
          null,
          null,
          null,
          null,
          null,
          null,
          null,
          null,
          452,
          null,
          null,
          null,
          null,
          null,
          null,
          null,
          null,
          null,
          null,
          null,
          null,
          null,
          null,
          null,
          null,
          null,
          null,
          null,
          null,
          null,
          null,
          null,
          null,
          null,
          null,
          null,
          null,
          null,
          null,
          null,
          null,
          null,
          null,
          null,
          210,
          null,
          null,
          null,
          null,
          null,
          null,
          343,
          null,
          null,
          null,
          null,
          null,
          null,
          null,
          null,
          null,
          null,
          null,
          null,
          null,
          null,
          null,
          null,
          null,
          null,
          null,
          null,
          null,
          null,
          null,
          null,
          null,
          null,
          null,
          null,
          368,
          null,
          null,
          null,
          null,
          null,
          null,
          null,
          null,
          null,
          null,
          null,
          null,
          null,
          null,
          null,
          null,
          null,
          null,
          null,
          null,
          null,
          null,
          null,
          null,
          null,
          null,
          null,
          null,
          null,
          null,
          null,
          null,
          null,
          null,
          null,
          null,
          null,
          null,
          null,
          null,
          null
         ]
        },
        {
         "boxpoints": false,
         "line": {
          "width": 1.3
         },
         "marker": {
          "color": "rgba(238, 118, 0, 0.8999999999999999)"
         },
         "name": "Plays",
         "orientation": "v",
         "type": "box",
         "y": [
          null,
          null,
          null,
          null,
          null,
          null,
          null,
          null,
          null,
          null,
          null,
          null,
          null,
          null,
          null,
          null,
          null,
          null,
          null,
          null,
          null,
          null,
          null,
          null,
          null,
          null,
          null,
          null,
          null,
          null,
          null,
          null,
          null,
          null,
          null,
          null,
          null,
          null,
          null,
          null,
          null,
          null,
          null,
          null,
          null,
          null,
          null,
          null,
          null,
          null,
          null,
          null,
          null,
          null,
          null,
          null,
          null,
          null,
          null,
          null,
          null,
          null,
          null,
          null,
          null,
          null,
          null,
          null,
          null,
          null,
          null,
          null,
          null,
          null,
          null,
          null,
          null,
          null,
          null,
          null,
          null,
          null,
          null,
          null,
          null,
          null,
          null,
          null,
          null,
          null,
          null,
          null,
          null,
          null,
          null,
          null,
          null,
          null,
          null,
          null,
          null,
          null,
          null,
          null,
          null,
          null,
          null,
          null,
          null,
          null,
          null,
          null,
          null,
          null,
          null,
          null,
          null,
          null,
          null,
          null,
          null,
          null,
          null,
          null,
          null,
          null,
          null,
          null,
          null,
          null,
          null,
          null,
          null,
          null,
          null,
          null,
          null,
          null,
          null,
          null,
          null,
          null,
          null,
          null,
          null,
          null,
          null,
          137,
          null,
          null,
          null,
          null,
          null,
          null,
          null,
          null,
          null,
          null,
          null,
          null,
          null,
          null,
          null,
          null,
          null,
          null,
          null,
          null,
          null,
          null,
          null,
          null,
          null,
          null,
          null,
          null,
          null,
          null,
          null,
          null,
          null,
          null,
          null,
          null,
          null,
          null,
          null,
          null,
          null,
          null,
          null,
          null,
          null,
          null,
          null,
          null,
          null,
          null,
          null,
          null
         ]
        },
        {
         "boxpoints": false,
         "line": {
          "width": 1.3
         },
         "marker": {
          "color": "rgba(48, 144, 84, 0.8999999999999999)"
         },
         "name": "Poetry",
         "orientation": "v",
         "type": "box",
         "y": [
          null,
          null,
          null,
          null,
          null,
          null,
          null,
          null,
          null,
          null,
          null,
          null,
          null,
          null,
          null,
          null,
          null,
          null,
          null,
          null,
          null,
          null,
          null,
          null,
          null,
          null,
          null,
          null,
          null,
          null,
          null,
          null,
          null,
          null,
          null,
          null,
          null,
          null,
          null,
          null,
          null,
          null,
          null,
          null,
          null,
          null,
          null,
          null,
          null,
          null,
          null,
          null,
          null,
          null,
          null,
          null,
          null,
          null,
          null,
          null,
          null,
          null,
          null,
          null,
          null,
          null,
          null,
          null,
          null,
          null,
          null,
          null,
          null,
          null,
          null,
          null,
          null,
          null,
          null,
          null,
          null,
          null,
          null,
          null,
          null,
          null,
          null,
          null,
          null,
          null,
          null,
          null,
          null,
          null,
          null,
          null,
          null,
          null,
          null,
          null,
          null,
          null,
          null,
          null,
          null,
          null,
          null,
          null,
          null,
          null,
          null,
          null,
          null,
          null,
          null,
          null,
          null,
          null,
          null,
          null,
          null,
          null,
          null,
          null,
          null,
          null,
          null,
          null,
          null,
          null,
          null,
          null,
          null,
          null,
          null,
          null,
          null,
          null,
          null,
          null,
          null,
          null,
          null,
          null,
          null,
          null,
          null,
          null,
          null,
          null,
          null,
          null,
          null,
          null,
          null,
          null,
          null,
          null,
          null,
          null,
          null,
          null,
          null,
          null,
          null,
          null,
          null,
          null,
          null,
          null,
          null,
          127,
          null,
          null,
          null,
          null,
          null,
          null,
          null,
          null,
          null,
          null,
          null,
          null,
          null,
          null,
          null,
          null,
          null,
          null,
          null,
          null,
          null,
          null,
          null,
          null,
          null,
          null,
          null,
          null
         ]
        },
        {
         "boxpoints": false,
         "line": {
          "width": 1.3
         },
         "marker": {
          "color": "rgba(98, 98, 222, 0.8999999999999999)"
         },
         "name": "Romance",
         "orientation": "v",
         "type": "box",
         "y": [
          null,
          null,
          null,
          null,
          null,
          null,
          null,
          null,
          null,
          null,
          null,
          null,
          null,
          null,
          null,
          null,
          null,
          null,
          null,
          null,
          null,
          null,
          null,
          null,
          null,
          null,
          null,
          null,
          null,
          null,
          null,
          null,
          null,
          null,
          null,
          null,
          null,
          null,
          null,
          null,
          null,
          null,
          null,
          null,
          null,
          null,
          null,
          null,
          null,
          null,
          null,
          null,
          null,
          null,
          null,
          null,
          null,
          null,
          null,
          null,
          null,
          null,
          null,
          null,
          null,
          null,
          null,
          null,
          null,
          null,
          null,
          null,
          null,
          null,
          null,
          null,
          null,
          null,
          null,
          null,
          null,
          null,
          null,
          null,
          null,
          null,
          null,
          null,
          null,
          null,
          null,
          null,
          null,
          null,
          null,
          227,
          null,
          null,
          null,
          null,
          null,
          null,
          null,
          null,
          null,
          null,
          null,
          null,
          null,
          null,
          null,
          null,
          null,
          null,
          null,
          null,
          null,
          null,
          null,
          null,
          null,
          null,
          null,
          null,
          null,
          null,
          null,
          null,
          null,
          null,
          null,
          null,
          null,
          null,
          null,
          null,
          null,
          null,
          null,
          null,
          null,
          null,
          null,
          null,
          null,
          null,
          null,
          null,
          null,
          null,
          null,
          215,
          null,
          null,
          null,
          null,
          null,
          null,
          null,
          null,
          null,
          null,
          null,
          null,
          null,
          null,
          null,
          null,
          null,
          null,
          null,
          null,
          null,
          null,
          null,
          null,
          null,
          null,
          null,
          null,
          null,
          null,
          null,
          null,
          null,
          null,
          null,
          null,
          null,
          null,
          null,
          null,
          356,
          null,
          null,
          null,
          null,
          null,
          null,
          null
         ]
        },
        {
         "boxpoints": false,
         "line": {
          "width": 1.3
         },
         "marker": {
          "color": "rgba(217, 66, 85, 0.8999999999999999)"
         },
         "name": "Science Fiction",
         "orientation": "v",
         "type": "box",
         "y": [
          null,
          null,
          null,
          null,
          null,
          null,
          null,
          null,
          null,
          null,
          null,
          193,
          null,
          null,
          null,
          null,
          null,
          null,
          null,
          null,
          null,
          null,
          null,
          null,
          null,
          null,
          null,
          null,
          324,
          null,
          null,
          null,
          null,
          null,
          null,
          null,
          null,
          null,
          null,
          null,
          null,
          null,
          null,
          null,
          null,
          null,
          null,
          null,
          null,
          null,
          null,
          null,
          null,
          null,
          null,
          null,
          null,
          null,
          null,
          null,
          null,
          null,
          null,
          688,
          null,
          null,
          null,
          null,
          null,
          null,
          null,
          null,
          null,
          null,
          null,
          null,
          null,
          null,
          null,
          null,
          null,
          null,
          null,
          null,
          null,
          null,
          null,
          null,
          null,
          null,
          null,
          null,
          null,
          null,
          null,
          null,
          null,
          null,
          null,
          null,
          null,
          null,
          null,
          null,
          null,
          null,
          null,
          null,
          null,
          null,
          null,
          null,
          null,
          null,
          null,
          null,
          null,
          null,
          null,
          null,
          null,
          null,
          null,
          null,
          null,
          null,
          null,
          null,
          null,
          null,
          null,
          null,
          null,
          null,
          null,
          null,
          null,
          null,
          null,
          null,
          null,
          null,
          null,
          null,
          null,
          null,
          null,
          null,
          null,
          null,
          null,
          null,
          null,
          null,
          815,
          null,
          null,
          null,
          null,
          null,
          null,
          null,
          null,
          null,
          null,
          null,
          null,
          null,
          null,
          null,
          null,
          null,
          null,
          null,
          null,
          null,
          null,
          null,
          null,
          null,
          null,
          null,
          null,
          null,
          null,
          null,
          null,
          null,
          null,
          null,
          null,
          null,
          null,
          null,
          null,
          null,
          null,
          null,
          null,
          null
         ]
        },
        {
         "boxpoints": false,
         "line": {
          "width": 1.3
         },
         "marker": {
          "color": "rgba(173, 252, 252, 0.8999999999999999)"
         },
         "name": "Sequential Art",
         "orientation": "v",
         "type": "box",
         "y": [
          null,
          null,
          null,
          null,
          null,
          null,
          null,
          null,
          null,
          null,
          null,
          null,
          null,
          null,
          null,
          null,
          null,
          null,
          null,
          null,
          null,
          null,
          null,
          null,
          null,
          null,
          null,
          null,
          null,
          null,
          null,
          null,
          null,
          null,
          null,
          null,
          null,
          null,
          null,
          null,
          null,
          null,
          null,
          null,
          null,
          null,
          null,
          null,
          null,
          null,
          null,
          null,
          null,
          null,
          null,
          null,
          null,
          null,
          null,
          null,
          null,
          null,
          null,
          null,
          null,
          null,
          null,
          null,
          null,
          null,
          null,
          null,
          null,
          null,
          null,
          null,
          null,
          null,
          null,
          null,
          null,
          null,
          null,
          null,
          null,
          null,
          null,
          null,
          null,
          null,
          null,
          null,
          null,
          null,
          null,
          null,
          null,
          null,
          null,
          null,
          null,
          null,
          null,
          null,
          null,
          null,
          null,
          null,
          null,
          null,
          null,
          null,
          null,
          null,
          null,
          null,
          null,
          null,
          null,
          null,
          null,
          null,
          null,
          null,
          null,
          null,
          null,
          null,
          null,
          null,
          null,
          null,
          null,
          null,
          null,
          null,
          null,
          null,
          null,
          null,
          null,
          416,
          null,
          null,
          null,
          null,
          null,
          null,
          null,
          null,
          null,
          null,
          null,
          null,
          null,
          null,
          null,
          null,
          null,
          null,
          null,
          null,
          null,
          null,
          null,
          null,
          null,
          null,
          null,
          null,
          null,
          null,
          null,
          null,
          null,
          null,
          null,
          null,
          null,
          null,
          null,
          null,
          null,
          null,
          null,
          null,
          null,
          null,
          null,
          null,
          null,
          null,
          null,
          null,
          null,
          null,
          null,
          null,
          null,
          null
         ]
        },
        {
         "boxpoints": false,
         "line": {
          "width": 1.3
         },
         "marker": {
          "color": "rgba(173, 252, 252, 0.7999999999999998)"
         },
         "name": "Young Adult",
         "orientation": "v",
         "type": "box",
         "y": [
          374,
          null,
          null,
          null,
          501,
          null,
          null,
          null,
          null,
          null,
          313,
          null,
          null,
          null,
          null,
          null,
          null,
          null,
          null,
          null,
          487,
          null,
          null,
          null,
          null,
          null,
          213,
          null,
          null,
          null,
          null,
          null,
          null,
          null,
          null,
          null,
          null,
          null,
          null,
          null,
          null,
          null,
          null,
          null,
          null,
          null,
          null,
          null,
          null,
          null,
          null,
          null,
          null,
          null,
          null,
          null,
          null,
          null,
          null,
          null,
          null,
          208,
          null,
          null,
          null,
          null,
          null,
          null,
          null,
          null,
          null,
          null,
          null,
          null,
          null,
          null,
          null,
          null,
          null,
          null,
          null,
          null,
          null,
          null,
          null,
          null,
          null,
          332,
          null,
          null,
          null,
          null,
          null,
          null,
          null,
          null,
          null,
          null,
          null,
          null,
          null,
          null,
          null,
          null,
          null,
          null,
          null,
          null,
          null,
          null,
          null,
          null,
          null,
          null,
          null,
          null,
          null,
          221,
          null,
          null,
          null,
          null,
          null,
          null,
          null,
          null,
          null,
          null,
          null,
          null,
          null,
          null,
          391,
          null,
          null,
          null,
          233,
          null,
          null,
          null,
          null,
          null,
          null,
          null,
          null,
          null,
          null,
          null,
          null,
          443,
          null,
          null,
          null,
          525,
          null,
          null,
          null,
          null,
          null,
          null,
          null,
          null,
          327,
          null,
          null,
          null,
          503,
          null,
          null,
          null,
          null,
          null,
          null,
          null,
          null,
          null,
          null,
          null,
          null,
          null,
          null,
          null,
          null,
          190,
          null,
          null,
          1155,
          384,
          null,
          null,
          null,
          null,
          null,
          null,
          null,
          null,
          null,
          null,
          null,
          352
         ]
        }
       ],
       "layout": {
        "height": 600,
        "margin": {
         "b": 140
        },
        "template": {
         "data": {
          "bar": [
           {
            "error_x": {
             "color": "#2a3f5f"
            },
            "error_y": {
             "color": "#2a3f5f"
            },
            "marker": {
             "line": {
              "color": "#E5ECF6",
              "width": 0.5
             }
            },
            "type": "bar"
           }
          ],
          "barpolar": [
           {
            "marker": {
             "line": {
              "color": "#E5ECF6",
              "width": 0.5
             }
            },
            "type": "barpolar"
           }
          ],
          "carpet": [
           {
            "aaxis": {
             "endlinecolor": "#2a3f5f",
             "gridcolor": "white",
             "linecolor": "white",
             "minorgridcolor": "white",
             "startlinecolor": "#2a3f5f"
            },
            "baxis": {
             "endlinecolor": "#2a3f5f",
             "gridcolor": "white",
             "linecolor": "white",
             "minorgridcolor": "white",
             "startlinecolor": "#2a3f5f"
            },
            "type": "carpet"
           }
          ],
          "choropleth": [
           {
            "colorbar": {
             "outlinewidth": 0,
             "ticks": ""
            },
            "type": "choropleth"
           }
          ],
          "contour": [
           {
            "colorbar": {
             "outlinewidth": 0,
             "ticks": ""
            },
            "colorscale": [
             [
              0,
              "#0d0887"
             ],
             [
              0.1111111111111111,
              "#46039f"
             ],
             [
              0.2222222222222222,
              "#7201a8"
             ],
             [
              0.3333333333333333,
              "#9c179e"
             ],
             [
              0.4444444444444444,
              "#bd3786"
             ],
             [
              0.5555555555555556,
              "#d8576b"
             ],
             [
              0.6666666666666666,
              "#ed7953"
             ],
             [
              0.7777777777777778,
              "#fb9f3a"
             ],
             [
              0.8888888888888888,
              "#fdca26"
             ],
             [
              1,
              "#f0f921"
             ]
            ],
            "type": "contour"
           }
          ],
          "contourcarpet": [
           {
            "colorbar": {
             "outlinewidth": 0,
             "ticks": ""
            },
            "type": "contourcarpet"
           }
          ],
          "heatmap": [
           {
            "colorbar": {
             "outlinewidth": 0,
             "ticks": ""
            },
            "colorscale": [
             [
              0,
              "#0d0887"
             ],
             [
              0.1111111111111111,
              "#46039f"
             ],
             [
              0.2222222222222222,
              "#7201a8"
             ],
             [
              0.3333333333333333,
              "#9c179e"
             ],
             [
              0.4444444444444444,
              "#bd3786"
             ],
             [
              0.5555555555555556,
              "#d8576b"
             ],
             [
              0.6666666666666666,
              "#ed7953"
             ],
             [
              0.7777777777777778,
              "#fb9f3a"
             ],
             [
              0.8888888888888888,
              "#fdca26"
             ],
             [
              1,
              "#f0f921"
             ]
            ],
            "type": "heatmap"
           }
          ],
          "heatmapgl": [
           {
            "colorbar": {
             "outlinewidth": 0,
             "ticks": ""
            },
            "colorscale": [
             [
              0,
              "#0d0887"
             ],
             [
              0.1111111111111111,
              "#46039f"
             ],
             [
              0.2222222222222222,
              "#7201a8"
             ],
             [
              0.3333333333333333,
              "#9c179e"
             ],
             [
              0.4444444444444444,
              "#bd3786"
             ],
             [
              0.5555555555555556,
              "#d8576b"
             ],
             [
              0.6666666666666666,
              "#ed7953"
             ],
             [
              0.7777777777777778,
              "#fb9f3a"
             ],
             [
              0.8888888888888888,
              "#fdca26"
             ],
             [
              1,
              "#f0f921"
             ]
            ],
            "type": "heatmapgl"
           }
          ],
          "histogram": [
           {
            "marker": {
             "colorbar": {
              "outlinewidth": 0,
              "ticks": ""
             }
            },
            "type": "histogram"
           }
          ],
          "histogram2d": [
           {
            "colorbar": {
             "outlinewidth": 0,
             "ticks": ""
            },
            "colorscale": [
             [
              0,
              "#0d0887"
             ],
             [
              0.1111111111111111,
              "#46039f"
             ],
             [
              0.2222222222222222,
              "#7201a8"
             ],
             [
              0.3333333333333333,
              "#9c179e"
             ],
             [
              0.4444444444444444,
              "#bd3786"
             ],
             [
              0.5555555555555556,
              "#d8576b"
             ],
             [
              0.6666666666666666,
              "#ed7953"
             ],
             [
              0.7777777777777778,
              "#fb9f3a"
             ],
             [
              0.8888888888888888,
              "#fdca26"
             ],
             [
              1,
              "#f0f921"
             ]
            ],
            "type": "histogram2d"
           }
          ],
          "histogram2dcontour": [
           {
            "colorbar": {
             "outlinewidth": 0,
             "ticks": ""
            },
            "colorscale": [
             [
              0,
              "#0d0887"
             ],
             [
              0.1111111111111111,
              "#46039f"
             ],
             [
              0.2222222222222222,
              "#7201a8"
             ],
             [
              0.3333333333333333,
              "#9c179e"
             ],
             [
              0.4444444444444444,
              "#bd3786"
             ],
             [
              0.5555555555555556,
              "#d8576b"
             ],
             [
              0.6666666666666666,
              "#ed7953"
             ],
             [
              0.7777777777777778,
              "#fb9f3a"
             ],
             [
              0.8888888888888888,
              "#fdca26"
             ],
             [
              1,
              "#f0f921"
             ]
            ],
            "type": "histogram2dcontour"
           }
          ],
          "mesh3d": [
           {
            "colorbar": {
             "outlinewidth": 0,
             "ticks": ""
            },
            "type": "mesh3d"
           }
          ],
          "parcoords": [
           {
            "line": {
             "colorbar": {
              "outlinewidth": 0,
              "ticks": ""
             }
            },
            "type": "parcoords"
           }
          ],
          "pie": [
           {
            "automargin": true,
            "type": "pie"
           }
          ],
          "scatter": [
           {
            "marker": {
             "colorbar": {
              "outlinewidth": 0,
              "ticks": ""
             }
            },
            "type": "scatter"
           }
          ],
          "scatter3d": [
           {
            "line": {
             "colorbar": {
              "outlinewidth": 0,
              "ticks": ""
             }
            },
            "marker": {
             "colorbar": {
              "outlinewidth": 0,
              "ticks": ""
             }
            },
            "type": "scatter3d"
           }
          ],
          "scattercarpet": [
           {
            "marker": {
             "colorbar": {
              "outlinewidth": 0,
              "ticks": ""
             }
            },
            "type": "scattercarpet"
           }
          ],
          "scattergeo": [
           {
            "marker": {
             "colorbar": {
              "outlinewidth": 0,
              "ticks": ""
             }
            },
            "type": "scattergeo"
           }
          ],
          "scattergl": [
           {
            "marker": {
             "colorbar": {
              "outlinewidth": 0,
              "ticks": ""
             }
            },
            "type": "scattergl"
           }
          ],
          "scattermapbox": [
           {
            "marker": {
             "colorbar": {
              "outlinewidth": 0,
              "ticks": ""
             }
            },
            "type": "scattermapbox"
           }
          ],
          "scatterpolar": [
           {
            "marker": {
             "colorbar": {
              "outlinewidth": 0,
              "ticks": ""
             }
            },
            "type": "scatterpolar"
           }
          ],
          "scatterpolargl": [
           {
            "marker": {
             "colorbar": {
              "outlinewidth": 0,
              "ticks": ""
             }
            },
            "type": "scatterpolargl"
           }
          ],
          "scatterternary": [
           {
            "marker": {
             "colorbar": {
              "outlinewidth": 0,
              "ticks": ""
             }
            },
            "type": "scatterternary"
           }
          ],
          "surface": [
           {
            "colorbar": {
             "outlinewidth": 0,
             "ticks": ""
            },
            "colorscale": [
             [
              0,
              "#0d0887"
             ],
             [
              0.1111111111111111,
              "#46039f"
             ],
             [
              0.2222222222222222,
              "#7201a8"
             ],
             [
              0.3333333333333333,
              "#9c179e"
             ],
             [
              0.4444444444444444,
              "#bd3786"
             ],
             [
              0.5555555555555556,
              "#d8576b"
             ],
             [
              0.6666666666666666,
              "#ed7953"
             ],
             [
              0.7777777777777778,
              "#fb9f3a"
             ],
             [
              0.8888888888888888,
              "#fdca26"
             ],
             [
              1,
              "#f0f921"
             ]
            ],
            "type": "surface"
           }
          ],
          "table": [
           {
            "cells": {
             "fill": {
              "color": "#EBF0F8"
             },
             "line": {
              "color": "white"
             }
            },
            "header": {
             "fill": {
              "color": "#C8D4E3"
             },
             "line": {
              "color": "white"
             }
            },
            "type": "table"
           }
          ]
         },
         "layout": {
          "annotationdefaults": {
           "arrowcolor": "#2a3f5f",
           "arrowhead": 0,
           "arrowwidth": 1
          },
          "coloraxis": {
           "colorbar": {
            "outlinewidth": 0,
            "ticks": ""
           }
          },
          "colorscale": {
           "diverging": [
            [
             0,
             "#8e0152"
            ],
            [
             0.1,
             "#c51b7d"
            ],
            [
             0.2,
             "#de77ae"
            ],
            [
             0.3,
             "#f1b6da"
            ],
            [
             0.4,
             "#fde0ef"
            ],
            [
             0.5,
             "#f7f7f7"
            ],
            [
             0.6,
             "#e6f5d0"
            ],
            [
             0.7,
             "#b8e186"
            ],
            [
             0.8,
             "#7fbc41"
            ],
            [
             0.9,
             "#4d9221"
            ],
            [
             1,
             "#276419"
            ]
           ],
           "sequential": [
            [
             0,
             "#0d0887"
            ],
            [
             0.1111111111111111,
             "#46039f"
            ],
            [
             0.2222222222222222,
             "#7201a8"
            ],
            [
             0.3333333333333333,
             "#9c179e"
            ],
            [
             0.4444444444444444,
             "#bd3786"
            ],
            [
             0.5555555555555556,
             "#d8576b"
            ],
            [
             0.6666666666666666,
             "#ed7953"
            ],
            [
             0.7777777777777778,
             "#fb9f3a"
            ],
            [
             0.8888888888888888,
             "#fdca26"
            ],
            [
             1,
             "#f0f921"
            ]
           ],
           "sequentialminus": [
            [
             0,
             "#0d0887"
            ],
            [
             0.1111111111111111,
             "#46039f"
            ],
            [
             0.2222222222222222,
             "#7201a8"
            ],
            [
             0.3333333333333333,
             "#9c179e"
            ],
            [
             0.4444444444444444,
             "#bd3786"
            ],
            [
             0.5555555555555556,
             "#d8576b"
            ],
            [
             0.6666666666666666,
             "#ed7953"
            ],
            [
             0.7777777777777778,
             "#fb9f3a"
            ],
            [
             0.8888888888888888,
             "#fdca26"
            ],
            [
             1,
             "#f0f921"
            ]
           ]
          },
          "colorway": [
           "#636efa",
           "#EF553B",
           "#00cc96",
           "#ab63fa",
           "#FFA15A",
           "#19d3f3",
           "#FF6692",
           "#B6E880",
           "#FF97FF",
           "#FECB52"
          ],
          "font": {
           "color": "#2a3f5f"
          },
          "geo": {
           "bgcolor": "white",
           "lakecolor": "white",
           "landcolor": "#E5ECF6",
           "showlakes": true,
           "showland": true,
           "subunitcolor": "white"
          },
          "hoverlabel": {
           "align": "left"
          },
          "hovermode": "closest",
          "mapbox": {
           "style": "light"
          },
          "paper_bgcolor": "white",
          "plot_bgcolor": "#E5ECF6",
          "polar": {
           "angularaxis": {
            "gridcolor": "white",
            "linecolor": "white",
            "ticks": ""
           },
           "bgcolor": "#E5ECF6",
           "radialaxis": {
            "gridcolor": "white",
            "linecolor": "white",
            "ticks": ""
           }
          },
          "scene": {
           "xaxis": {
            "backgroundcolor": "#E5ECF6",
            "gridcolor": "white",
            "gridwidth": 2,
            "linecolor": "white",
            "showbackground": true,
            "ticks": "",
            "zerolinecolor": "white"
           },
           "yaxis": {
            "backgroundcolor": "#E5ECF6",
            "gridcolor": "white",
            "gridwidth": 2,
            "linecolor": "white",
            "showbackground": true,
            "ticks": "",
            "zerolinecolor": "white"
           },
           "zaxis": {
            "backgroundcolor": "#E5ECF6",
            "gridcolor": "white",
            "gridwidth": 2,
            "linecolor": "white",
            "showbackground": true,
            "ticks": "",
            "zerolinecolor": "white"
           }
          },
          "shapedefaults": {
           "line": {
            "color": "#2a3f5f"
           }
          },
          "ternary": {
           "aaxis": {
            "gridcolor": "white",
            "linecolor": "white",
            "ticks": ""
           },
           "baxis": {
            "gridcolor": "white",
            "linecolor": "white",
            "ticks": ""
           },
           "bgcolor": "#E5ECF6",
           "caxis": {
            "gridcolor": "white",
            "linecolor": "white",
            "ticks": ""
           }
          },
          "title": {
           "x": 0.05
          },
          "xaxis": {
           "automargin": true,
           "gridcolor": "white",
           "linecolor": "white",
           "ticks": "",
           "title": {
            "standoff": 15
           },
           "zerolinecolor": "white",
           "zerolinewidth": 2
          },
          "yaxis": {
           "automargin": true,
           "gridcolor": "white",
           "linecolor": "white",
           "ticks": "",
           "title": {
            "standoff": 15
           },
           "zerolinecolor": "white",
           "zerolinewidth": 2
          }
         }
        },
        "title": {
         "text": "Page count by genres"
        },
        "xaxis": {
         "title": {
          "text": "genres"
         }
        },
        "yaxis": {
         "title": {
          "text": "page_count"
         }
        }
       }
      },
      "text/html": [
       "<div>\n",
       "        \n",
       "        \n",
       "            <div id=\"66e43450-e3de-468b-a5f5-e0ffa82b707b\" class=\"plotly-graph-div\" style=\"height:600px; width:100%;\"></div>\n",
       "            <script type=\"text/javascript\">\n",
       "                require([\"plotly\"], function(Plotly) {\n",
       "                    window.PLOTLYENV=window.PLOTLYENV || {};\n",
       "                    window.PLOTLYENV.BASE_URL='https://plot.ly';\n",
       "                    \n",
       "                if (document.getElementById(\"66e43450-e3de-468b-a5f5-e0ffa82b707b\")) {\n",
       "                    Plotly.newPlot(\n",
       "                        '66e43450-e3de-468b-a5f5-e0ffa82b707b',\n",
       "                        [{\"boxpoints\": false, \"line\": {\"width\": 1.3}, \"marker\": {\"color\": \"rgba(0, 128, 240, 1.0)\"}, \"name\": \"Childrens\", \"orientation\": \"v\", \"type\": \"box\", \"y\": [null, null, null, null, null, null, null, null, null, null, null, null, 64.0, null, null, null, null, null, null, null, null, null, null, null, null, null, null, null, null, null, null, null, null, null, null, null, null, null, null, null, null, null, null, null, null, null, null, null, null, null, 37.0, 62.0, null, null, null, null, null, null, null, null, null, null, null, null, null, null, null, null, null, null, null, null, null, null, null, null, null, 240.0, null, null, null, null, null, null, null, null, null, null, null, null, null, null, null, null, null, null, null, null, null, null, null, null, null, null, null, null, null, null, null, null, null, null, null, null, 176.0, null, null, null, null, null, null, 26.0, null, null, null, null, null, null, null, null, null, null, null, null, 61.0, null, null, null, null, null, null, null, null, null, null, null, null, null, null, null, null, null, null, null, null, 64.0, null, null, null, null, null, null, null, 32.0, 72.0, null, null, null, null, null, null, null, null, null, null, null, null, null, null, null, null, null, null, null, 44.0, null, null, null, null, null, null, null, null, null, null, null, null, null, null, null]}, {\"boxpoints\": false, \"line\": {\"width\": 1.3}, \"marker\": {\"color\": \"rgba(238, 118, 0, 1.0)\"}, \"name\": \"Classics\", \"orientation\": \"v\", \"type\": \"box\", \"y\": [null, null, 324.0, 279.0, null, null, 141.0, null, null, 1037.0, null, null, null, 464.0, null, null, 272.0, 239.0, 532.0, 1463.0, null, 194.0, 368.0, 182.0, null, null, null, 200.0, null, null, null, 320.0, 184.0, 93.0, null, 103.0, null, 488.0, 288.0, null, null, 277.0, 331.0, null, null, null, null, 327.0, null, 192.0, null, null, 541.0, null, 489.0, null, 331.0, 275.0, 288.0, null, null, null, 453.0, null, null, null, 389.0, 478.0, 505.0, 325.0, 294.0, 964.0, 449.0, null, null, null, null, null, null, 449.0, 304.0, 496.0, 237.0, 240.0, null, 796.0, null, null, null, 152.0, null, 1023.0, 1168.0, 96.0, null, null, 145.0, 821.0, null, null, 654.0, null, null, null, null, null, null, null, 123.0, null, null, null, 244.0, null, null, null, 307.0, null, 201.0, null, null, null, null, null, null, 272.0, 279.0, null, null, null, null, null, null, null, null, null, null, null, 1276.0, null, null, null, 2700.0, null, 798.0, 176.0, null, null, null, null, null, null, null, null, null, null, null, 76.0, null, 219.0, 625.0, 154.0, null, null, null, null, null, 518.0, 418.0, 188.0, 240.0, null, null, null, null, null, null, null, 92.0, 172.0, null, 329.0, null, null, null, null, null, null, 608.0, 783.0, null, 311.0, null, null, 521.0, null, null, 293.0, 882.0, null]}, {\"boxpoints\": false, \"line\": {\"width\": 1.3}, \"marker\": {\"color\": \"rgba(48, 144, 84, 1.0)\"}, \"name\": \"Cultural\", \"orientation\": \"v\", \"type\": \"box\", \"y\": [null, null, null, null, null, null, null, null, null, null, null, null, null, null, null, null, null, null, null, null, null, null, null, null, null, 671.0, null, null, null, null, null, null, null, null, null, null, null, null, null, null, null, null, null, null, null, null, null, null, null, null, null, null, null, null, null, null, null, null, null, null, null, null, null, null, null, null, null, null, null, null, null, null, null, null, null, null, null, null, null, null, null, null, null, null, null, null, null, null, null, null, null, null, null, null, null, null, null, null, null, null, null, null, null, null, null, null, null, null, null, null, null, null, null, null, null, null, null, null, null, null, null, null, null, null, null, null, null, null, null, null, null, null, null, null, null, null, null, null, null, null, null, null, null, null, null, null, null, null, null, null, null, null, null, null, null, null, null, null, null, null, null, null, null, null, null, null, null, null, null, null, null, null, null, null, null, null, null, null, null, null, null, null, null, null, null, null, null, null, null, null, null, null, null, null, null, null, null, null, null, null]}, {\"boxpoints\": false, \"line\": {\"width\": 1.3}, \"marker\": {\"color\": \"rgba(98, 98, 222, 1.0)\"}, \"name\": \"Fantasy\", \"orientation\": \"v\", \"type\": \"box\", \"y\": [null, 870.0, null, null, null, null, null, 767.0, 1728.0, null, null, null, null, null, null, null, null, null, null, null, null, null, null, null, null, null, null, null, null, 485.0, null, null, null, null, null, null, 309.0, null, null, null, 456.0, null, null, null, 375.0, 218.0, 835.0, null, null, null, null, null, null, null, null, null, null, null, null, null, null, null, null, null, null, null, null, null, null, null, null, null, null, null, null, null, 759.0, null, 398.0, null, null, null, null, null, null, null, null, null, null, null, 399.0, null, null, null, 435.0, null, null, null, null, null, null, null, null, 734.0, 481.0, null, null, 652.0, null, null, 662.0, null, null, 503.0, null, null, null, null, null, null, null, null, null, null, null, null, null, null, 341.0, null, null, null, null, null, null, 635.0, null, null, null, 206.0, null, null, null, 381.0, null, null, null, null, null, null, 366.0, null, null, null, null, null, null, null, null, null, null, null, null, null, null, 491.0, null, null, null, null, null, null, 361.0, 1009.0, 567.0, 279.0, 320.0, null, null, null, null, null, 256.0, null, null, null, null, null, null, null, 396.0, null, null, null, null, null, 1177.0, null, null, null]}, {\"boxpoints\": false, \"line\": {\"width\": 1.3}, \"marker\": {\"color\": \"rgba(217, 66, 85, 1.0)\"}, \"name\": \"Fiction\", \"orientation\": \"v\", \"type\": \"box\", \"y\": [null, null, null, null, null, null, null, null, null, null, null, null, null, null, 489.0, 503.0, null, null, null, null, null, null, null, null, 182.0, null, null, null, null, null, 451.0, null, null, null, 500.0, null, null, null, null, 417.0, null, null, null, 372.0, null, null, null, null, 372.0, null, null, null, null, 460.0, null, 335.0, null, null, null, 371.0, 314.0, null, null, null, null, null, null, null, null, null, null, null, null, 423.0, null, 465.0, null, null, null, null, null, null, null, null, 241.0, null, null, null, 546.0, null, null, null, null, null, null, null, null, null, 637.0, null, null, null, 302.0, null, null, null, 529.0, null, null, 335.0, null, null, null, null, null, 216.0, null, null, null, 487.0, 226.0, null, null, 320.0, 536.0, null, null, 448.0, null, null, 196.0, 218.0, null, 960.0, null, null, null, 263.0, null, null, null, null, null, null, null, null, null, null, 348.0, null, null, null, 692.0, null, null, null, 351.0, null, null, null, null, null, null, null, null, null, null, null, null, null, null, null, null, null, null, null, null, 288.0, null, null, 112.0, null, null, null, null, 503.0, null, null, null, null, null, null, null, null, null, 610.0, null, null, null, null]}, {\"boxpoints\": false, \"line\": {\"width\": 1.3}, \"marker\": {\"color\": \"rgba(173, 252, 252, 1.0)\"}, \"name\": \"Historical\", \"orientation\": \"v\", \"type\": \"box\", \"y\": [null, null, null, null, null, 552.0, null, null, null, null, null, null, null, null, null, null, null, null, null, null, null, null, null, null, null, null, null, null, null, null, null, null, null, null, null, null, null, null, null, null, null, null, null, null, null, null, null, null, null, null, null, null, null, null, null, null, null, null, null, null, null, null, null, null, 976.0, null, null, null, null, null, null, null, null, null, 850.0, null, null, null, null, null, null, null, null, null, null, null, null, null, null, null, null, null, null, null, null, null, null, null, null, null, null, 336.0, null, null, null, null, null, null, null, null, null, null, null, null, null, null, null, null, null, null, null, null, null, null, null, null, null, null, null, null, null, null, null, null, null, null, null, null, null, null, null, null, null, null, null, null, 296.0, null, null, null, null, null, null, null, null, null, null, null, null, null, null, null, null, null, null, null, null, null, null, null, null, null, null, null, null, null, null, null, null, null, null, null, null, null, null, null, null, null, null, null, null, null, null, 516.0, null, null, null, null, null, null]}, {\"boxpoints\": false, \"line\": {\"width\": 1.3}, \"marker\": {\"color\": \"rgba(70, 160, 240, 1.0)\"}, \"name\": \"Horror\", \"orientation\": \"v\", \"type\": \"box\", \"y\": [null, null, null, null, null, null, null, null, null, null, null, null, null, null, null, null, null, null, null, null, null, null, null, null, null, null, null, null, null, null, null, null, null, null, null, null, null, null, null, null, null, null, null, null, null, null, null, null, null, null, null, null, null, null, null, null, null, null, null, null, null, null, null, null, null, 1153.0, null, null, null, null, null, null, null, null, null, null, null, null, null, null, null, null, null, null, null, null, null, null, null, null, null, null, null, null, null, null, null, null, null, 342.0, null, null, null, null, null, null, null, null, null, null, null, 659.0, null, null, null, null, null, null, null, null, null, null, null, null, null, null, null, null, null, null, null, null, null, null, null, null, null, null, null, null, 1116.0, null, null, null, null, null, null, null, null, null, null, null, null, null, null, null, null, null, null, null, null, null, null, null, null, null, null, null, null, null, null, null, null, null, null, null, null, null, null, null, null, null, null, null, null, null, null, null, null, null, null, null, null, null, null, null, null, null, null, null]}, {\"boxpoints\": false, \"line\": {\"width\": 1.3}, \"marker\": {\"color\": \"rgba(70, 160, 240, 0.8999999999999999)\"}, \"name\": \"Mystery\", \"orientation\": \"v\", \"type\": \"box\", \"y\": [null, null, null, null, null, null, null, null, null, null, null, null, null, null, null, null, null, null, null, null, null, null, null, null, null, null, null, null, null, null, null, null, null, null, null, null, null, null, null, null, null, null, null, null, null, null, null, null, null, null, null, null, null, null, null, null, null, null, null, null, null, null, null, null, null, null, null, null, null, null, null, null, null, null, null, null, null, null, null, null, null, null, null, null, null, null, null, null, null, null, null, null, null, null, null, null, null, null, null, null, null, null, null, null, null, 264.0, null, null, null, null, null, null, null, null, null, null, null, null, null, null, null, null, null, null, null, null, null, null, null, null, null, null, null, null, null, null, null, null, null, null, null, null, null, null, null, null, null, null, null, null, null, null, null, null, null, null, null, null, null, null, null, null, null, null, null, null, null, null, null, null, null, null, null, null, null, null, null, null, null, null, null, null, null, null, null, null, null, null, null, null, null, null, null, null, null, null, null, null, null, null]}, {\"boxpoints\": false, \"line\": {\"width\": 1.3}, \"marker\": {\"color\": \"rgba(0, 128, 240, 0.8999999999999999)\"}, \"name\": \"Nonfiction\", \"orientation\": \"v\", \"type\": \"box\", \"y\": [null, null, null, null, null, null, null, null, null, null, null, null, null, null, null, null, null, null, null, null, null, null, null, null, null, null, null, null, null, null, null, null, null, null, null, null, null, null, null, null, null, null, null, null, null, null, null, null, null, null, null, null, null, null, null, null, null, null, null, null, null, null, null, null, null, null, null, null, null, null, null, null, null, null, null, null, null, null, null, null, null, null, null, null, null, null, 452.0, null, null, null, null, null, null, null, null, null, null, null, null, null, null, null, null, null, null, null, null, null, null, null, null, null, null, null, null, null, null, null, null, null, null, null, 210.0, null, null, null, null, null, null, 343.0, null, null, null, null, null, null, null, null, null, null, null, null, null, null, null, null, null, null, null, null, null, null, null, null, null, null, null, null, 368.0, null, null, null, null, null, null, null, null, null, null, null, null, null, null, null, null, null, null, null, null, null, null, null, null, null, null, null, null, null, null, null, null, null, null, null, null, null, null, null, null, null]}, {\"boxpoints\": false, \"line\": {\"width\": 1.3}, \"marker\": {\"color\": \"rgba(238, 118, 0, 0.8999999999999999)\"}, \"name\": \"Plays\", \"orientation\": \"v\", \"type\": \"box\", \"y\": [null, null, null, null, null, null, null, null, null, null, null, null, null, null, null, null, null, null, null, null, null, null, null, null, null, null, null, null, null, null, null, null, null, null, null, null, null, null, null, null, null, null, null, null, null, null, null, null, null, null, null, null, null, null, null, null, null, null, null, null, null, null, null, null, null, null, null, null, null, null, null, null, null, null, null, null, null, null, null, null, null, null, null, null, null, null, null, null, null, null, null, null, null, null, null, null, null, null, null, null, null, null, null, null, null, null, null, null, null, null, null, null, null, null, null, null, null, null, null, null, null, null, null, null, null, null, null, null, null, null, null, null, null, null, null, null, null, null, null, null, null, null, null, null, null, null, null, 137.0, null, null, null, null, null, null, null, null, null, null, null, null, null, null, null, null, null, null, null, null, null, null, null, null, null, null, null, null, null, null, null, null, null, null, null, null, null, null, null, null, null, null, null, null, null, null, null, null, null, null, null, null]}, {\"boxpoints\": false, \"line\": {\"width\": 1.3}, \"marker\": {\"color\": \"rgba(48, 144, 84, 0.8999999999999999)\"}, \"name\": \"Poetry\", \"orientation\": \"v\", \"type\": \"box\", \"y\": [null, null, null, null, null, null, null, null, null, null, null, null, null, null, null, null, null, null, null, null, null, null, null, null, null, null, null, null, null, null, null, null, null, null, null, null, null, null, null, null, null, null, null, null, null, null, null, null, null, null, null, null, null, null, null, null, null, null, null, null, null, null, null, null, null, null, null, null, null, null, null, null, null, null, null, null, null, null, null, null, null, null, null, null, null, null, null, null, null, null, null, null, null, null, null, null, null, null, null, null, null, null, null, null, null, null, null, null, null, null, null, null, null, null, null, null, null, null, null, null, null, null, null, null, null, null, null, null, null, null, null, null, null, null, null, null, null, null, null, null, null, null, null, null, null, null, null, null, null, null, null, null, null, null, null, null, null, null, null, null, null, null, null, null, null, null, null, null, null, null, null, 127.0, null, null, null, null, null, null, null, null, null, null, null, null, null, null, null, null, null, null, null, null, null, null, null, null, null, null, null, null]}, {\"boxpoints\": false, \"line\": {\"width\": 1.3}, \"marker\": {\"color\": \"rgba(98, 98, 222, 0.8999999999999999)\"}, \"name\": \"Romance\", \"orientation\": \"v\", \"type\": \"box\", \"y\": [null, null, null, null, null, null, null, null, null, null, null, null, null, null, null, null, null, null, null, null, null, null, null, null, null, null, null, null, null, null, null, null, null, null, null, null, null, null, null, null, null, null, null, null, null, null, null, null, null, null, null, null, null, null, null, null, null, null, null, null, null, null, null, null, null, null, null, null, null, null, null, null, null, null, null, null, null, null, null, null, null, null, null, null, null, null, null, null, null, null, null, null, null, null, null, 227.0, null, null, null, null, null, null, null, null, null, null, null, null, null, null, null, null, null, null, null, null, null, null, null, null, null, null, null, null, null, null, null, null, null, null, null, null, null, null, null, null, null, null, null, null, null, null, null, null, null, null, null, null, null, null, null, 215.0, null, null, null, null, null, null, null, null, null, null, null, null, null, null, null, null, null, null, null, null, null, null, null, null, null, null, null, null, null, null, null, null, null, null, null, null, null, null, null, null, 356.0, null, null, null, null, null, null, null]}, {\"boxpoints\": false, \"line\": {\"width\": 1.3}, \"marker\": {\"color\": \"rgba(217, 66, 85, 0.8999999999999999)\"}, \"name\": \"Science Fiction\", \"orientation\": \"v\", \"type\": \"box\", \"y\": [null, null, null, null, null, null, null, null, null, null, null, 193.0, null, null, null, null, null, null, null, null, null, null, null, null, null, null, null, null, 324.0, null, null, null, null, null, null, null, null, null, null, null, null, null, null, null, null, null, null, null, null, null, null, null, null, null, null, null, null, null, null, null, null, null, null, 688.0, null, null, null, null, null, null, null, null, null, null, null, null, null, null, null, null, null, null, null, null, null, null, null, null, null, null, null, null, null, null, null, null, null, null, null, null, null, null, null, null, null, null, null, null, null, null, null, null, null, null, null, null, null, null, null, null, null, null, null, null, null, null, null, null, null, null, null, null, null, null, null, null, null, null, null, null, null, null, null, null, null, null, null, null, null, null, null, null, null, null, 815.0, null, null, null, null, null, null, null, null, null, null, null, null, null, null, null, null, null, null, null, null, null, null, null, null, null, null, null, null, null, null, null, null, null, null, null, null, null, null, null, null, null, null, null, null, null]}, {\"boxpoints\": false, \"line\": {\"width\": 1.3}, \"marker\": {\"color\": \"rgba(173, 252, 252, 0.8999999999999999)\"}, \"name\": \"Sequential Art\", \"orientation\": \"v\", \"type\": \"box\", \"y\": [null, null, null, null, null, null, null, null, null, null, null, null, null, null, null, null, null, null, null, null, null, null, null, null, null, null, null, null, null, null, null, null, null, null, null, null, null, null, null, null, null, null, null, null, null, null, null, null, null, null, null, null, null, null, null, null, null, null, null, null, null, null, null, null, null, null, null, null, null, null, null, null, null, null, null, null, null, null, null, null, null, null, null, null, null, null, null, null, null, null, null, null, null, null, null, null, null, null, null, null, null, null, null, null, null, null, null, null, null, null, null, null, null, null, null, null, null, null, null, null, null, null, null, null, null, null, null, null, null, null, null, null, null, null, null, null, null, null, null, null, null, 416.0, null, null, null, null, null, null, null, null, null, null, null, null, null, null, null, null, null, null, null, null, null, null, null, null, null, null, null, null, null, null, null, null, null, null, null, null, null, null, null, null, null, null, null, null, null, null, null, null, null, null, null, null, null, null, null, null, null, null]}, {\"boxpoints\": false, \"line\": {\"width\": 1.3}, \"marker\": {\"color\": \"rgba(173, 252, 252, 0.7999999999999998)\"}, \"name\": \"Young Adult\", \"orientation\": \"v\", \"type\": \"box\", \"y\": [374.0, null, null, null, 501.0, null, null, null, null, null, 313.0, null, null, null, null, null, null, null, null, null, 487.0, null, null, null, null, null, 213.0, null, null, null, null, null, null, null, null, null, null, null, null, null, null, null, null, null, null, null, null, null, null, null, null, null, null, null, null, null, null, null, null, null, null, 208.0, null, null, null, null, null, null, null, null, null, null, null, null, null, null, null, null, null, null, null, null, null, null, null, null, null, 332.0, null, null, null, null, null, null, null, null, null, null, null, null, null, null, null, null, null, null, null, null, null, null, null, null, null, null, null, null, null, 221.0, null, null, null, null, null, null, null, null, null, null, null, null, null, null, 391.0, null, null, null, 233.0, null, null, null, null, null, null, null, null, null, null, null, null, 443.0, null, null, null, 525.0, null, null, null, null, null, null, null, null, 327.0, null, null, null, 503.0, null, null, null, null, null, null, null, null, null, null, null, null, null, null, null, null, 190.0, null, null, 1155.0, 384.0, null, null, null, null, null, null, null, null, null, null, null, 352.0]}],\n",
       "                        {\"height\": 600, \"margin\": {\"b\": 140}, \"template\": {\"data\": {\"bar\": [{\"error_x\": {\"color\": \"#2a3f5f\"}, \"error_y\": {\"color\": \"#2a3f5f\"}, \"marker\": {\"line\": {\"color\": \"#E5ECF6\", \"width\": 0.5}}, \"type\": \"bar\"}], \"barpolar\": [{\"marker\": {\"line\": {\"color\": \"#E5ECF6\", \"width\": 0.5}}, \"type\": \"barpolar\"}], \"carpet\": [{\"aaxis\": {\"endlinecolor\": \"#2a3f5f\", \"gridcolor\": \"white\", \"linecolor\": \"white\", \"minorgridcolor\": \"white\", \"startlinecolor\": \"#2a3f5f\"}, \"baxis\": {\"endlinecolor\": \"#2a3f5f\", \"gridcolor\": \"white\", \"linecolor\": \"white\", \"minorgridcolor\": \"white\", \"startlinecolor\": \"#2a3f5f\"}, \"type\": \"carpet\"}], \"choropleth\": [{\"colorbar\": {\"outlinewidth\": 0, \"ticks\": \"\"}, \"type\": \"choropleth\"}], \"contour\": [{\"colorbar\": {\"outlinewidth\": 0, \"ticks\": \"\"}, \"colorscale\": [[0.0, \"#0d0887\"], [0.1111111111111111, \"#46039f\"], [0.2222222222222222, \"#7201a8\"], [0.3333333333333333, \"#9c179e\"], [0.4444444444444444, \"#bd3786\"], [0.5555555555555556, \"#d8576b\"], [0.6666666666666666, \"#ed7953\"], [0.7777777777777778, \"#fb9f3a\"], [0.8888888888888888, \"#fdca26\"], [1.0, \"#f0f921\"]], \"type\": \"contour\"}], \"contourcarpet\": [{\"colorbar\": {\"outlinewidth\": 0, \"ticks\": \"\"}, \"type\": \"contourcarpet\"}], \"heatmap\": [{\"colorbar\": {\"outlinewidth\": 0, \"ticks\": \"\"}, \"colorscale\": [[0.0, \"#0d0887\"], [0.1111111111111111, \"#46039f\"], [0.2222222222222222, \"#7201a8\"], [0.3333333333333333, \"#9c179e\"], [0.4444444444444444, \"#bd3786\"], [0.5555555555555556, \"#d8576b\"], [0.6666666666666666, \"#ed7953\"], [0.7777777777777778, \"#fb9f3a\"], [0.8888888888888888, \"#fdca26\"], [1.0, \"#f0f921\"]], \"type\": \"heatmap\"}], \"heatmapgl\": [{\"colorbar\": {\"outlinewidth\": 0, \"ticks\": \"\"}, \"colorscale\": [[0.0, \"#0d0887\"], [0.1111111111111111, \"#46039f\"], [0.2222222222222222, \"#7201a8\"], [0.3333333333333333, \"#9c179e\"], [0.4444444444444444, \"#bd3786\"], [0.5555555555555556, \"#d8576b\"], [0.6666666666666666, \"#ed7953\"], [0.7777777777777778, \"#fb9f3a\"], [0.8888888888888888, \"#fdca26\"], [1.0, \"#f0f921\"]], \"type\": \"heatmapgl\"}], \"histogram\": [{\"marker\": {\"colorbar\": {\"outlinewidth\": 0, \"ticks\": \"\"}}, \"type\": \"histogram\"}], \"histogram2d\": [{\"colorbar\": {\"outlinewidth\": 0, \"ticks\": \"\"}, \"colorscale\": [[0.0, \"#0d0887\"], [0.1111111111111111, \"#46039f\"], [0.2222222222222222, \"#7201a8\"], [0.3333333333333333, \"#9c179e\"], [0.4444444444444444, \"#bd3786\"], [0.5555555555555556, \"#d8576b\"], [0.6666666666666666, \"#ed7953\"], [0.7777777777777778, \"#fb9f3a\"], [0.8888888888888888, \"#fdca26\"], [1.0, \"#f0f921\"]], \"type\": \"histogram2d\"}], \"histogram2dcontour\": [{\"colorbar\": {\"outlinewidth\": 0, \"ticks\": \"\"}, \"colorscale\": [[0.0, \"#0d0887\"], [0.1111111111111111, \"#46039f\"], [0.2222222222222222, \"#7201a8\"], [0.3333333333333333, \"#9c179e\"], [0.4444444444444444, \"#bd3786\"], [0.5555555555555556, \"#d8576b\"], [0.6666666666666666, \"#ed7953\"], [0.7777777777777778, \"#fb9f3a\"], [0.8888888888888888, \"#fdca26\"], [1.0, \"#f0f921\"]], \"type\": \"histogram2dcontour\"}], \"mesh3d\": [{\"colorbar\": {\"outlinewidth\": 0, \"ticks\": \"\"}, \"type\": \"mesh3d\"}], \"parcoords\": [{\"line\": {\"colorbar\": {\"outlinewidth\": 0, \"ticks\": \"\"}}, \"type\": \"parcoords\"}], \"pie\": [{\"automargin\": true, \"type\": \"pie\"}], \"scatter\": [{\"marker\": {\"colorbar\": {\"outlinewidth\": 0, \"ticks\": \"\"}}, \"type\": \"scatter\"}], \"scatter3d\": [{\"line\": {\"colorbar\": {\"outlinewidth\": 0, \"ticks\": \"\"}}, \"marker\": {\"colorbar\": {\"outlinewidth\": 0, \"ticks\": \"\"}}, \"type\": \"scatter3d\"}], \"scattercarpet\": [{\"marker\": {\"colorbar\": {\"outlinewidth\": 0, \"ticks\": \"\"}}, \"type\": \"scattercarpet\"}], \"scattergeo\": [{\"marker\": {\"colorbar\": {\"outlinewidth\": 0, \"ticks\": \"\"}}, \"type\": \"scattergeo\"}], \"scattergl\": [{\"marker\": {\"colorbar\": {\"outlinewidth\": 0, \"ticks\": \"\"}}, \"type\": \"scattergl\"}], \"scattermapbox\": [{\"marker\": {\"colorbar\": {\"outlinewidth\": 0, \"ticks\": \"\"}}, \"type\": \"scattermapbox\"}], \"scatterpolar\": [{\"marker\": {\"colorbar\": {\"outlinewidth\": 0, \"ticks\": \"\"}}, \"type\": \"scatterpolar\"}], \"scatterpolargl\": [{\"marker\": {\"colorbar\": {\"outlinewidth\": 0, \"ticks\": \"\"}}, \"type\": \"scatterpolargl\"}], \"scatterternary\": [{\"marker\": {\"colorbar\": {\"outlinewidth\": 0, \"ticks\": \"\"}}, \"type\": \"scatterternary\"}], \"surface\": [{\"colorbar\": {\"outlinewidth\": 0, \"ticks\": \"\"}, \"colorscale\": [[0.0, \"#0d0887\"], [0.1111111111111111, \"#46039f\"], [0.2222222222222222, \"#7201a8\"], [0.3333333333333333, \"#9c179e\"], [0.4444444444444444, \"#bd3786\"], [0.5555555555555556, \"#d8576b\"], [0.6666666666666666, \"#ed7953\"], [0.7777777777777778, \"#fb9f3a\"], [0.8888888888888888, \"#fdca26\"], [1.0, \"#f0f921\"]], \"type\": \"surface\"}], \"table\": [{\"cells\": {\"fill\": {\"color\": \"#EBF0F8\"}, \"line\": {\"color\": \"white\"}}, \"header\": {\"fill\": {\"color\": \"#C8D4E3\"}, \"line\": {\"color\": \"white\"}}, \"type\": \"table\"}]}, \"layout\": {\"annotationdefaults\": {\"arrowcolor\": \"#2a3f5f\", \"arrowhead\": 0, \"arrowwidth\": 1}, \"coloraxis\": {\"colorbar\": {\"outlinewidth\": 0, \"ticks\": \"\"}}, \"colorscale\": {\"diverging\": [[0, \"#8e0152\"], [0.1, \"#c51b7d\"], [0.2, \"#de77ae\"], [0.3, \"#f1b6da\"], [0.4, \"#fde0ef\"], [0.5, \"#f7f7f7\"], [0.6, \"#e6f5d0\"], [0.7, \"#b8e186\"], [0.8, \"#7fbc41\"], [0.9, \"#4d9221\"], [1, \"#276419\"]], \"sequential\": [[0.0, \"#0d0887\"], [0.1111111111111111, \"#46039f\"], [0.2222222222222222, \"#7201a8\"], [0.3333333333333333, \"#9c179e\"], [0.4444444444444444, \"#bd3786\"], [0.5555555555555556, \"#d8576b\"], [0.6666666666666666, \"#ed7953\"], [0.7777777777777778, \"#fb9f3a\"], [0.8888888888888888, \"#fdca26\"], [1.0, \"#f0f921\"]], \"sequentialminus\": [[0.0, \"#0d0887\"], [0.1111111111111111, \"#46039f\"], [0.2222222222222222, \"#7201a8\"], [0.3333333333333333, \"#9c179e\"], [0.4444444444444444, \"#bd3786\"], [0.5555555555555556, \"#d8576b\"], [0.6666666666666666, \"#ed7953\"], [0.7777777777777778, \"#fb9f3a\"], [0.8888888888888888, \"#fdca26\"], [1.0, \"#f0f921\"]]}, \"colorway\": [\"#636efa\", \"#EF553B\", \"#00cc96\", \"#ab63fa\", \"#FFA15A\", \"#19d3f3\", \"#FF6692\", \"#B6E880\", \"#FF97FF\", \"#FECB52\"], \"font\": {\"color\": \"#2a3f5f\"}, \"geo\": {\"bgcolor\": \"white\", \"lakecolor\": \"white\", \"landcolor\": \"#E5ECF6\", \"showlakes\": true, \"showland\": true, \"subunitcolor\": \"white\"}, \"hoverlabel\": {\"align\": \"left\"}, \"hovermode\": \"closest\", \"mapbox\": {\"style\": \"light\"}, \"paper_bgcolor\": \"white\", \"plot_bgcolor\": \"#E5ECF6\", \"polar\": {\"angularaxis\": {\"gridcolor\": \"white\", \"linecolor\": \"white\", \"ticks\": \"\"}, \"bgcolor\": \"#E5ECF6\", \"radialaxis\": {\"gridcolor\": \"white\", \"linecolor\": \"white\", \"ticks\": \"\"}}, \"scene\": {\"xaxis\": {\"backgroundcolor\": \"#E5ECF6\", \"gridcolor\": \"white\", \"gridwidth\": 2, \"linecolor\": \"white\", \"showbackground\": true, \"ticks\": \"\", \"zerolinecolor\": \"white\"}, \"yaxis\": {\"backgroundcolor\": \"#E5ECF6\", \"gridcolor\": \"white\", \"gridwidth\": 2, \"linecolor\": \"white\", \"showbackground\": true, \"ticks\": \"\", \"zerolinecolor\": \"white\"}, \"zaxis\": {\"backgroundcolor\": \"#E5ECF6\", \"gridcolor\": \"white\", \"gridwidth\": 2, \"linecolor\": \"white\", \"showbackground\": true, \"ticks\": \"\", \"zerolinecolor\": \"white\"}}, \"shapedefaults\": {\"line\": {\"color\": \"#2a3f5f\"}}, \"ternary\": {\"aaxis\": {\"gridcolor\": \"white\", \"linecolor\": \"white\", \"ticks\": \"\"}, \"baxis\": {\"gridcolor\": \"white\", \"linecolor\": \"white\", \"ticks\": \"\"}, \"bgcolor\": \"#E5ECF6\", \"caxis\": {\"gridcolor\": \"white\", \"linecolor\": \"white\", \"ticks\": \"\"}}, \"title\": {\"x\": 0.05}, \"xaxis\": {\"automargin\": true, \"gridcolor\": \"white\", \"linecolor\": \"white\", \"ticks\": \"\", \"title\": {\"standoff\": 15}, \"zerolinecolor\": \"white\", \"zerolinewidth\": 2}, \"yaxis\": {\"automargin\": true, \"gridcolor\": \"white\", \"linecolor\": \"white\", \"ticks\": \"\", \"title\": {\"standoff\": 15}, \"zerolinecolor\": \"white\", \"zerolinewidth\": 2}}}, \"title\": {\"text\": \"Page count by genres\"}, \"xaxis\": {\"title\": {\"text\": \"genres\"}}, \"yaxis\": {\"title\": {\"text\": \"page_count\"}}},\n",
       "                        {\"showLink\": true, \"linkText\": \"Export to plot.ly\", \"plotlyServerURL\": \"https://plot.ly\", \"responsive\": true}\n",
       "                    ).then(function(){\n",
       "                            \n",
       "var gd = document.getElementById('66e43450-e3de-468b-a5f5-e0ffa82b707b');\n",
       "var x = new MutationObserver(function (mutations, observer) {{\n",
       "        var display = window.getComputedStyle(gd).display;\n",
       "        if (!display || display === 'none') {{\n",
       "            console.log([gd, 'removed!']);\n",
       "            Plotly.purge(gd);\n",
       "            observer.disconnect();\n",
       "        }}\n",
       "}});\n",
       "\n",
       "// Listen for the removal of the full notebook cells\n",
       "var notebookContainer = gd.closest('#notebook-container');\n",
       "if (notebookContainer) {{\n",
       "    x.observe(notebookContainer, {childList: true});\n",
       "}}\n",
       "\n",
       "// Listen for the clearing of the current output cell\n",
       "var outputEl = gd.closest('.output');\n",
       "if (outputEl) {{\n",
       "    x.observe(outputEl, {childList: true});\n",
       "}}\n",
       "\n",
       "                        })\n",
       "                };\n",
       "                });\n",
       "            </script>\n",
       "        </div>"
      ]
     },
     "metadata": {},
     "output_type": "display_data"
    }
   ],
   "source": [
    "df.pivot(\n",
    "    columns='genres', values='page_count').iplot(\n",
    "        kind='box',\n",
    "        layout=dict(\n",
    "            height=600,\n",
    "            yaxis=dict(title='page_count'),\n",
    "            xaxis = dict(title = 'genres'),\n",
    "            title='Page count by genres',\n",
    "            margin=dict(b=140)))"
   ]
  },
  {
   "cell_type": "markdown",
   "metadata": {},
   "source": [
    "## Rating Count vs Review Count by Genres"
   ]
  },
  {
   "cell_type": "code",
   "execution_count": 31,
   "metadata": {
    "ExecuteTime": {
     "end_time": "2020-07-13T20:10:29.085622Z",
     "start_time": "2020-07-13T20:10:28.882442Z"
    }
   },
   "outputs": [
    {
     "name": "stderr",
     "output_type": "stream",
     "text": [
      "/home/smruti/anaconda3/lib/python3.7/site-packages/cufflinks/plotlytools.py:807: FutureWarning:\n",
      "\n",
      "The pandas.np module is deprecated and will be removed from pandas in a future version. Import numpy directly instead\n",
      "\n",
      "/home/smruti/anaconda3/lib/python3.7/site-packages/cufflinks/plotlytools.py:810: FutureWarning:\n",
      "\n",
      "The pandas.np module is deprecated and will be removed from pandas in a future version. Import numpy directly instead\n",
      "\n"
     ]
    },
    {
     "data": {
      "application/vnd.plotly.v1+json": {
       "config": {
        "linkText": "Export to plot.ly",
        "plotlyServerURL": "https://plot.ly",
        "showLink": true
       },
       "data": [
        {
         "marker": {
          "color": "rgba(0, 128, 240, 1.0)",
          "line": {
           "width": 1.3
          },
          "opacity": 0.8,
          "size": 12,
          "symbol": "circle"
         },
         "mode": "markers",
         "name": "Young Adult",
         "textfont": {
          "color": "#505050"
         },
         "type": "scatter",
         "x": [
          6227649,
          4842942,
          3442704,
          2829132,
          1220320,
          1731244,
          536169,
          1084932,
          557440,
          945754,
          318446,
          1138169,
          302142,
          269673,
          432801,
          185382,
          1016567,
          755060
         ],
         "y": [
          170045,
          102549,
          154147,
          107502,
          56444,
          64335,
          21932,
          55438,
          24568,
          20053,
          11174,
          58483,
          11198,
          9705,
          12142,
          6827,
          55211,
          51526
         ]
        },
        {
         "marker": {
          "color": "rgba(238, 118, 0, 1.0)",
          "line": {
           "width": 1.3
          },
          "opacity": 0.8,
          "size": 12,
          "symbol": "circle"
         },
         "mode": "markers",
         "name": "Fantasy",
         "textfont": {
          "color": "#505050"
         },
         "type": "scatter",
         "x": [
          2432082,
          501470,
          108159,
          1578190,
          6816505,
          762834,
          1924238,
          1032058,
          1955323,
          2727866,
          2306627,
          1255441,
          2707133,
          2512466,
          642285,
          2365928,
          689482,
          1403688,
          2636724,
          738345,
          2073217,
          640864,
          2818258,
          520791,
          713134,
          186751,
          322153,
          718536,
          657435,
          231087,
          157669,
          652469
         ],
         "y": [
          40814,
          10182,
          1737,
          60683,
          108719,
          19780,
          58892,
          33462,
          53906,
          63849,
          21719,
          21641,
          53478,
          44868,
          30753,
          38090,
          40786,
          21760,
          50944,
          37874,
          21084,
          22532,
          47030,
          26623,
          18462,
          6630,
          29081,
          25957,
          20185,
          10072,
          6326,
          21969
         ]
        },
        {
         "marker": {
          "color": "rgba(48, 144, 84, 1.0)",
          "line": {
           "width": 1.3
          },
          "opacity": 0.8,
          "size": 12,
          "symbol": "circle"
         },
         "mode": "markers",
         "name": "Classics",
         "textfont": {
          "color": "#505050"
         },
         "type": "scatter",
         "x": [
          4380949,
          2908472,
          2656168,
          1058472,
          1309433,
          933185,
          446210,
          1586497,
          670765,
          1626094,
          2016094,
          2213727,
          3679998,
          703541,
          1376825,
          1301280,
          1901282,
          907583,
          1403280,
          2674826,
          865711,
          1136571,
          909522,
          845479,
          795790,
          648420,
          1106498,
          1133264,
          709855,
          235715,
          424104,
          636293,
          619142,
          574540,
          648579,
          1639339,
          431126,
          504945,
          381044,
          3028465,
          585745,
          235664,
          564222,
          202768,
          348284,
          806160,
          261110,
          213208,
          470996,
          682372,
          740312,
          341062,
          614304,
          334363,
          691688,
          731480,
          139775,
          112964,
          263133,
          297028,
          254205,
          267265,
          356175,
          233965,
          220074,
          406735,
          435907,
          370150,
          330590,
          245447,
          311428,
          107595,
          390719,
          185560,
          258028,
          195509
         ],
         "y": [
          89315,
          64576,
          53727,
          19462,
          35775,
          29191,
          10329,
          40921,
          17104,
          46138,
          18923,
          36308,
          65562,
          21749,
          17582,
          37961,
          33216,
          24661,
          29098,
          56039,
          18086,
          15210,
          32371,
          11881,
          17044,
          23929,
          26286,
          31839,
          17852,
          6547,
          13441,
          15616,
          10621,
          22362,
          23342,
          29427,
          22191,
          14486,
          20191,
          67126,
          13391,
          10667,
          16870,
          7800,
          17066,
          24262,
          4620,
          2169,
          15165,
          22355,
          9703,
          14650,
          16730,
          10904,
          14430,
          20645,
          2168,
          3724,
          10960,
          8958,
          12989,
          6589,
          12360,
          8497,
          9706,
          13524,
          7877,
          5348,
          10718,
          10283,
          7294,
          6610,
          11290,
          3244,
          9414,
          6329
         ]
        },
        {
         "marker": {
          "color": "rgba(98, 98, 222, 1.0)",
          "line": {
           "width": 1.3
          },
          "opacity": 0.8,
          "size": 12,
          "symbol": "circle"
         },
         "mode": "markers",
         "name": "Historical",
         "textfont": {
          "color": "#505050"
         },
         "type": "scatter",
         "x": [
          1780696,
          632406,
          798845,
          511585,
          348744,
          224508
         ],
         "y": [
          111235,
          30725,
          44736,
          19051,
          10148,
          6448
         ]
        },
        {
         "marker": {
          "color": "rgba(217, 66, 85, 1.0)",
          "line": {
           "width": 1.3
          },
          "opacity": 0.8,
          "size": 12,
          "symbol": "circle"
         },
         "mode": "markers",
         "name": "Science Fiction",
         "textfont": {
          "color": "#505050"
         },
         "type": "scatter",
         "x": [
          1391859,
          1103599,
          720389,
          280667
         ],
         "y": [
          29116,
          42842,
          20979,
          5206
         ]
        },
        {
         "marker": {
          "color": "rgba(173, 252, 252, 1.0)",
          "line": {
           "width": 1.3
          },
          "opacity": 0.8,
          "size": 12,
          "symbol": "circle"
         },
         "mode": "markers",
         "name": "Childrens",
         "textfont": {
          "color": "#505050"
         },
         "type": "scatter",
         "x": [
          882692,
          795292,
          596229,
          617817,
          643197,
          384666,
          411450,
          320777,
          296693,
          274734,
          318818
         ],
         "y": [
          17383,
          11582,
          9213,
          15965,
          11609,
          7757,
          5706,
          3148,
          5733,
          4015,
          5159
         ]
        },
        {
         "marker": {
          "color": "rgba(70, 160, 240, 1.0)",
          "line": {
           "width": 1.3
          },
          "opacity": 0.8,
          "size": 12,
          "symbol": "circle"
         },
         "mode": "markers",
         "name": "Fiction",
         "textfont": {
          "color": "#505050"
         },
         "type": "scatter",
         "x": [
          1888626,
          1688167,
          2028312,
          2108929,
          1547251,
          732202,
          1119695,
          1978789,
          1310141,
          1353987,
          2367149,
          1405109,
          1042128,
          2546719,
          700693,
          649693,
          282797,
          1099337,
          574954,
          233033,
          465403,
          442781,
          1164672,
          330210,
          290790,
          324121,
          568163,
          487278,
          143713,
          313987,
          399837,
          308048,
          431748,
          590478,
          196750,
          794264,
          202103
         ],
         "y": [
          46500,
          29573,
          77833,
          84130,
          46900,
          29606,
          52897,
          40122,
          46826,
          58529,
          72086,
          68523,
          33215,
          68102,
          45022,
          22953,
          13594,
          30087,
          22956,
          11056,
          17626,
          34326,
          43483,
          14870,
          8608,
          8398,
          20266,
          14142,
          7292,
          13958,
          19624,
          5838,
          17042,
          9028,
          7699,
          33898,
          5381
         ]
        },
        {
         "marker": {
          "color": "rgba(70, 160, 240, 0.8999999999999999)",
          "line": {
           "width": 1.3
          },
          "opacity": 0.8,
          "size": 12,
          "symbol": "circle"
         },
         "mode": "markers",
         "name": "Cultural",
         "textfont": {
          "color": "#505050"
         },
         "type": "scatter",
         "x": [
          605518
         ],
         "y": [
          18325
         ]
        },
        {
         "marker": {
          "color": "rgba(0, 128, 240, 0.8999999999999999)",
          "line": {
           "width": 1.3
          },
          "opacity": 0.8,
          "size": 12,
          "symbol": "circle"
         },
         "mode": "markers",
         "name": "Horror",
         "textfont": {
          "color": "#505050"
         },
         "type": "scatter",
         "x": [
          598529,
          473309,
          1091201,
          773869
         ],
         "y": [
          19607,
          9963,
          23558,
          24494
         ]
        },
        {
         "marker": {
          "color": "rgba(238, 118, 0, 0.8999999999999999)",
          "line": {
           "width": 1.3
          },
          "opacity": 0.8,
          "size": 12,
          "symbol": "circle"
         },
         "mode": "markers",
         "name": "Nonfiction",
         "textfont": {
          "color": "#505050"
         },
         "type": "scatter",
         "x": [
          528350,
          761297,
          510903,
          1443225
         ],
         "y": [
          11734,
          25292,
          16163,
          53447
         ]
        },
        {
         "marker": {
          "color": "rgba(48, 144, 84, 0.8999999999999999)",
          "line": {
           "width": 1.3
          },
          "opacity": 0.8,
          "size": 12,
          "symbol": "circle"
         },
         "mode": "markers",
         "name": "Romance",
         "textfont": {
          "color": "#505050"
         },
         "type": "scatter",
         "x": [
          1302293,
          659147,
          1890385
         ],
         "y": [
          19737,
          12923,
          78264
         ]
        },
        {
         "marker": {
          "color": "rgba(98, 98, 222, 0.8999999999999999)",
          "line": {
           "width": 1.3
          },
          "opacity": 0.8,
          "size": 12,
          "symbol": "circle"
         },
         "mode": "markers",
         "name": "Mystery",
         "textfont": {
          "color": "#505050"
         },
         "type": "scatter",
         "x": [
          778107
         ],
         "y": [
          31315
         ]
        },
        {
         "marker": {
          "color": "rgba(217, 66, 85, 0.8999999999999999)",
          "line": {
           "width": 1.3
          },
          "opacity": 0.8,
          "size": 12,
          "symbol": "circle"
         },
         "mode": "markers",
         "name": "Sequential Art",
         "textfont": {
          "color": "#505050"
         },
         "type": "scatter",
         "x": [
          479982
         ],
         "y": [
          13783
         ]
        },
        {
         "marker": {
          "color": "rgba(173, 252, 252, 0.8999999999999999)",
          "line": {
           "width": 1.3
          },
          "opacity": 0.8,
          "size": 12,
          "symbol": "circle"
         },
         "mode": "markers",
         "name": "Plays",
         "textfont": {
          "color": "#505050"
         },
         "type": "scatter",
         "x": [
          8387
         ],
         "y": [
          131
         ]
        },
        {
         "marker": {
          "color": "rgba(173, 252, 252, 0.7999999999999998)",
          "line": {
           "width": 1.3
          },
          "opacity": 0.8,
          "size": 12,
          "symbol": "circle"
         },
         "mode": "markers",
         "name": "Poetry",
         "textfont": {
          "color": "#505050"
         },
         "type": "scatter",
         "x": [
          227070
         ],
         "y": [
          9210
         ]
        }
       ],
       "layout": {
        "legend": {
         "bgcolor": "#F2F3F7",
         "font": {
          "color": "#505050"
         }
        },
        "paper_bgcolor": "#F2F3F7",
        "plot_bgcolor": "#F2F3F7",
        "template": {
         "data": {
          "bar": [
           {
            "error_x": {
             "color": "#2a3f5f"
            },
            "error_y": {
             "color": "#2a3f5f"
            },
            "marker": {
             "line": {
              "color": "#E5ECF6",
              "width": 0.5
             }
            },
            "type": "bar"
           }
          ],
          "barpolar": [
           {
            "marker": {
             "line": {
              "color": "#E5ECF6",
              "width": 0.5
             }
            },
            "type": "barpolar"
           }
          ],
          "carpet": [
           {
            "aaxis": {
             "endlinecolor": "#2a3f5f",
             "gridcolor": "white",
             "linecolor": "white",
             "minorgridcolor": "white",
             "startlinecolor": "#2a3f5f"
            },
            "baxis": {
             "endlinecolor": "#2a3f5f",
             "gridcolor": "white",
             "linecolor": "white",
             "minorgridcolor": "white",
             "startlinecolor": "#2a3f5f"
            },
            "type": "carpet"
           }
          ],
          "choropleth": [
           {
            "colorbar": {
             "outlinewidth": 0,
             "ticks": ""
            },
            "type": "choropleth"
           }
          ],
          "contour": [
           {
            "colorbar": {
             "outlinewidth": 0,
             "ticks": ""
            },
            "colorscale": [
             [
              0,
              "#0d0887"
             ],
             [
              0.1111111111111111,
              "#46039f"
             ],
             [
              0.2222222222222222,
              "#7201a8"
             ],
             [
              0.3333333333333333,
              "#9c179e"
             ],
             [
              0.4444444444444444,
              "#bd3786"
             ],
             [
              0.5555555555555556,
              "#d8576b"
             ],
             [
              0.6666666666666666,
              "#ed7953"
             ],
             [
              0.7777777777777778,
              "#fb9f3a"
             ],
             [
              0.8888888888888888,
              "#fdca26"
             ],
             [
              1,
              "#f0f921"
             ]
            ],
            "type": "contour"
           }
          ],
          "contourcarpet": [
           {
            "colorbar": {
             "outlinewidth": 0,
             "ticks": ""
            },
            "type": "contourcarpet"
           }
          ],
          "heatmap": [
           {
            "colorbar": {
             "outlinewidth": 0,
             "ticks": ""
            },
            "colorscale": [
             [
              0,
              "#0d0887"
             ],
             [
              0.1111111111111111,
              "#46039f"
             ],
             [
              0.2222222222222222,
              "#7201a8"
             ],
             [
              0.3333333333333333,
              "#9c179e"
             ],
             [
              0.4444444444444444,
              "#bd3786"
             ],
             [
              0.5555555555555556,
              "#d8576b"
             ],
             [
              0.6666666666666666,
              "#ed7953"
             ],
             [
              0.7777777777777778,
              "#fb9f3a"
             ],
             [
              0.8888888888888888,
              "#fdca26"
             ],
             [
              1,
              "#f0f921"
             ]
            ],
            "type": "heatmap"
           }
          ],
          "heatmapgl": [
           {
            "colorbar": {
             "outlinewidth": 0,
             "ticks": ""
            },
            "colorscale": [
             [
              0,
              "#0d0887"
             ],
             [
              0.1111111111111111,
              "#46039f"
             ],
             [
              0.2222222222222222,
              "#7201a8"
             ],
             [
              0.3333333333333333,
              "#9c179e"
             ],
             [
              0.4444444444444444,
              "#bd3786"
             ],
             [
              0.5555555555555556,
              "#d8576b"
             ],
             [
              0.6666666666666666,
              "#ed7953"
             ],
             [
              0.7777777777777778,
              "#fb9f3a"
             ],
             [
              0.8888888888888888,
              "#fdca26"
             ],
             [
              1,
              "#f0f921"
             ]
            ],
            "type": "heatmapgl"
           }
          ],
          "histogram": [
           {
            "marker": {
             "colorbar": {
              "outlinewidth": 0,
              "ticks": ""
             }
            },
            "type": "histogram"
           }
          ],
          "histogram2d": [
           {
            "colorbar": {
             "outlinewidth": 0,
             "ticks": ""
            },
            "colorscale": [
             [
              0,
              "#0d0887"
             ],
             [
              0.1111111111111111,
              "#46039f"
             ],
             [
              0.2222222222222222,
              "#7201a8"
             ],
             [
              0.3333333333333333,
              "#9c179e"
             ],
             [
              0.4444444444444444,
              "#bd3786"
             ],
             [
              0.5555555555555556,
              "#d8576b"
             ],
             [
              0.6666666666666666,
              "#ed7953"
             ],
             [
              0.7777777777777778,
              "#fb9f3a"
             ],
             [
              0.8888888888888888,
              "#fdca26"
             ],
             [
              1,
              "#f0f921"
             ]
            ],
            "type": "histogram2d"
           }
          ],
          "histogram2dcontour": [
           {
            "colorbar": {
             "outlinewidth": 0,
             "ticks": ""
            },
            "colorscale": [
             [
              0,
              "#0d0887"
             ],
             [
              0.1111111111111111,
              "#46039f"
             ],
             [
              0.2222222222222222,
              "#7201a8"
             ],
             [
              0.3333333333333333,
              "#9c179e"
             ],
             [
              0.4444444444444444,
              "#bd3786"
             ],
             [
              0.5555555555555556,
              "#d8576b"
             ],
             [
              0.6666666666666666,
              "#ed7953"
             ],
             [
              0.7777777777777778,
              "#fb9f3a"
             ],
             [
              0.8888888888888888,
              "#fdca26"
             ],
             [
              1,
              "#f0f921"
             ]
            ],
            "type": "histogram2dcontour"
           }
          ],
          "mesh3d": [
           {
            "colorbar": {
             "outlinewidth": 0,
             "ticks": ""
            },
            "type": "mesh3d"
           }
          ],
          "parcoords": [
           {
            "line": {
             "colorbar": {
              "outlinewidth": 0,
              "ticks": ""
             }
            },
            "type": "parcoords"
           }
          ],
          "pie": [
           {
            "automargin": true,
            "type": "pie"
           }
          ],
          "scatter": [
           {
            "marker": {
             "colorbar": {
              "outlinewidth": 0,
              "ticks": ""
             }
            },
            "type": "scatter"
           }
          ],
          "scatter3d": [
           {
            "line": {
             "colorbar": {
              "outlinewidth": 0,
              "ticks": ""
             }
            },
            "marker": {
             "colorbar": {
              "outlinewidth": 0,
              "ticks": ""
             }
            },
            "type": "scatter3d"
           }
          ],
          "scattercarpet": [
           {
            "marker": {
             "colorbar": {
              "outlinewidth": 0,
              "ticks": ""
             }
            },
            "type": "scattercarpet"
           }
          ],
          "scattergeo": [
           {
            "marker": {
             "colorbar": {
              "outlinewidth": 0,
              "ticks": ""
             }
            },
            "type": "scattergeo"
           }
          ],
          "scattergl": [
           {
            "marker": {
             "colorbar": {
              "outlinewidth": 0,
              "ticks": ""
             }
            },
            "type": "scattergl"
           }
          ],
          "scattermapbox": [
           {
            "marker": {
             "colorbar": {
              "outlinewidth": 0,
              "ticks": ""
             }
            },
            "type": "scattermapbox"
           }
          ],
          "scatterpolar": [
           {
            "marker": {
             "colorbar": {
              "outlinewidth": 0,
              "ticks": ""
             }
            },
            "type": "scatterpolar"
           }
          ],
          "scatterpolargl": [
           {
            "marker": {
             "colorbar": {
              "outlinewidth": 0,
              "ticks": ""
             }
            },
            "type": "scatterpolargl"
           }
          ],
          "scatterternary": [
           {
            "marker": {
             "colorbar": {
              "outlinewidth": 0,
              "ticks": ""
             }
            },
            "type": "scatterternary"
           }
          ],
          "surface": [
           {
            "colorbar": {
             "outlinewidth": 0,
             "ticks": ""
            },
            "colorscale": [
             [
              0,
              "#0d0887"
             ],
             [
              0.1111111111111111,
              "#46039f"
             ],
             [
              0.2222222222222222,
              "#7201a8"
             ],
             [
              0.3333333333333333,
              "#9c179e"
             ],
             [
              0.4444444444444444,
              "#bd3786"
             ],
             [
              0.5555555555555556,
              "#d8576b"
             ],
             [
              0.6666666666666666,
              "#ed7953"
             ],
             [
              0.7777777777777778,
              "#fb9f3a"
             ],
             [
              0.8888888888888888,
              "#fdca26"
             ],
             [
              1,
              "#f0f921"
             ]
            ],
            "type": "surface"
           }
          ],
          "table": [
           {
            "cells": {
             "fill": {
              "color": "#EBF0F8"
             },
             "line": {
              "color": "white"
             }
            },
            "header": {
             "fill": {
              "color": "#C8D4E3"
             },
             "line": {
              "color": "white"
             }
            },
            "type": "table"
           }
          ]
         },
         "layout": {
          "annotationdefaults": {
           "arrowcolor": "#2a3f5f",
           "arrowhead": 0,
           "arrowwidth": 1
          },
          "coloraxis": {
           "colorbar": {
            "outlinewidth": 0,
            "ticks": ""
           }
          },
          "colorscale": {
           "diverging": [
            [
             0,
             "#8e0152"
            ],
            [
             0.1,
             "#c51b7d"
            ],
            [
             0.2,
             "#de77ae"
            ],
            [
             0.3,
             "#f1b6da"
            ],
            [
             0.4,
             "#fde0ef"
            ],
            [
             0.5,
             "#f7f7f7"
            ],
            [
             0.6,
             "#e6f5d0"
            ],
            [
             0.7,
             "#b8e186"
            ],
            [
             0.8,
             "#7fbc41"
            ],
            [
             0.9,
             "#4d9221"
            ],
            [
             1,
             "#276419"
            ]
           ],
           "sequential": [
            [
             0,
             "#0d0887"
            ],
            [
             0.1111111111111111,
             "#46039f"
            ],
            [
             0.2222222222222222,
             "#7201a8"
            ],
            [
             0.3333333333333333,
             "#9c179e"
            ],
            [
             0.4444444444444444,
             "#bd3786"
            ],
            [
             0.5555555555555556,
             "#d8576b"
            ],
            [
             0.6666666666666666,
             "#ed7953"
            ],
            [
             0.7777777777777778,
             "#fb9f3a"
            ],
            [
             0.8888888888888888,
             "#fdca26"
            ],
            [
             1,
             "#f0f921"
            ]
           ],
           "sequentialminus": [
            [
             0,
             "#0d0887"
            ],
            [
             0.1111111111111111,
             "#46039f"
            ],
            [
             0.2222222222222222,
             "#7201a8"
            ],
            [
             0.3333333333333333,
             "#9c179e"
            ],
            [
             0.4444444444444444,
             "#bd3786"
            ],
            [
             0.5555555555555556,
             "#d8576b"
            ],
            [
             0.6666666666666666,
             "#ed7953"
            ],
            [
             0.7777777777777778,
             "#fb9f3a"
            ],
            [
             0.8888888888888888,
             "#fdca26"
            ],
            [
             1,
             "#f0f921"
            ]
           ]
          },
          "colorway": [
           "#636efa",
           "#EF553B",
           "#00cc96",
           "#ab63fa",
           "#FFA15A",
           "#19d3f3",
           "#FF6692",
           "#B6E880",
           "#FF97FF",
           "#FECB52"
          ],
          "font": {
           "color": "#2a3f5f"
          },
          "geo": {
           "bgcolor": "white",
           "lakecolor": "white",
           "landcolor": "#E5ECF6",
           "showlakes": true,
           "showland": true,
           "subunitcolor": "white"
          },
          "hoverlabel": {
           "align": "left"
          },
          "hovermode": "closest",
          "mapbox": {
           "style": "light"
          },
          "paper_bgcolor": "white",
          "plot_bgcolor": "#E5ECF6",
          "polar": {
           "angularaxis": {
            "gridcolor": "white",
            "linecolor": "white",
            "ticks": ""
           },
           "bgcolor": "#E5ECF6",
           "radialaxis": {
            "gridcolor": "white",
            "linecolor": "white",
            "ticks": ""
           }
          },
          "scene": {
           "xaxis": {
            "backgroundcolor": "#E5ECF6",
            "gridcolor": "white",
            "gridwidth": 2,
            "linecolor": "white",
            "showbackground": true,
            "ticks": "",
            "zerolinecolor": "white"
           },
           "yaxis": {
            "backgroundcolor": "#E5ECF6",
            "gridcolor": "white",
            "gridwidth": 2,
            "linecolor": "white",
            "showbackground": true,
            "ticks": "",
            "zerolinecolor": "white"
           },
           "zaxis": {
            "backgroundcolor": "#E5ECF6",
            "gridcolor": "white",
            "gridwidth": 2,
            "linecolor": "white",
            "showbackground": true,
            "ticks": "",
            "zerolinecolor": "white"
           }
          },
          "shapedefaults": {
           "line": {
            "color": "#2a3f5f"
           }
          },
          "ternary": {
           "aaxis": {
            "gridcolor": "white",
            "linecolor": "white",
            "ticks": ""
           },
           "baxis": {
            "gridcolor": "white",
            "linecolor": "white",
            "ticks": ""
           },
           "bgcolor": "#E5ECF6",
           "caxis": {
            "gridcolor": "white",
            "linecolor": "white",
            "ticks": ""
           }
          },
          "title": {
           "x": 0.05
          },
          "xaxis": {
           "automargin": true,
           "gridcolor": "white",
           "linecolor": "white",
           "ticks": "",
           "title": {
            "standoff": 15
           },
           "zerolinecolor": "white",
           "zerolinewidth": 2
          },
          "yaxis": {
           "automargin": true,
           "gridcolor": "white",
           "linecolor": "white",
           "ticks": "",
           "title": {
            "standoff": 15
           },
           "zerolinecolor": "white",
           "zerolinewidth": 2
          }
         }
        },
        "title": {
         "font": {
          "color": "#484848"
         },
         "text": "Rating Count vs Review Count by Genres"
        },
        "xaxis": {
         "gridcolor": "#E1E5ED",
         "showgrid": true,
         "tickfont": {
          "color": "#505050"
         },
         "title": {
          "font": {
           "color": "#505050"
          },
          "text": "Rating Count"
         },
         "zerolinecolor": "#E1E5ED"
        },
        "yaxis": {
         "gridcolor": "#E1E5ED",
         "showgrid": true,
         "tickfont": {
          "color": "#505050"
         },
         "title": {
          "font": {
           "color": "#505050"
          },
          "text": "Review Count"
         },
         "zerolinecolor": "#E1E5ED"
        }
       }
      },
      "text/html": [
       "<div>\n",
       "        \n",
       "        \n",
       "            <div id=\"ff6d6e83-2caa-42f6-a19c-67495d434820\" class=\"plotly-graph-div\" style=\"height:525px; width:100%;\"></div>\n",
       "            <script type=\"text/javascript\">\n",
       "                require([\"plotly\"], function(Plotly) {\n",
       "                    window.PLOTLYENV=window.PLOTLYENV || {};\n",
       "                    window.PLOTLYENV.BASE_URL='https://plot.ly';\n",
       "                    \n",
       "                if (document.getElementById(\"ff6d6e83-2caa-42f6-a19c-67495d434820\")) {\n",
       "                    Plotly.newPlot(\n",
       "                        'ff6d6e83-2caa-42f6-a19c-67495d434820',\n",
       "                        [{\"marker\": {\"color\": \"rgba(0, 128, 240, 1.0)\", \"line\": {\"width\": 1.3}, \"opacity\": 0.8, \"size\": 12, \"symbol\": \"circle\"}, \"mode\": \"markers\", \"name\": \"Young Adult\", \"textfont\": {\"color\": \"#505050\"}, \"type\": \"scatter\", \"x\": [6227649, 4842942, 3442704, 2829132, 1220320, 1731244, 536169, 1084932, 557440, 945754, 318446, 1138169, 302142, 269673, 432801, 185382, 1016567, 755060], \"y\": [170045.0, 102549.0, 154147.0, 107502.0, 56444.0, 64335.0, 21932.0, 55438.0, 24568.0, 20053.0, 11174.0, 58483.0, 11198.0, 9705.0, 12142.0, 6827.0, 55211.0, 51526.0]}, {\"marker\": {\"color\": \"rgba(238, 118, 0, 1.0)\", \"line\": {\"width\": 1.3}, \"opacity\": 0.8, \"size\": 12, \"symbol\": \"circle\"}, \"mode\": \"markers\", \"name\": \"Fantasy\", \"textfont\": {\"color\": \"#505050\"}, \"type\": \"scatter\", \"x\": [2432082, 501470, 108159, 1578190, 6816505, 762834, 1924238, 1032058, 1955323, 2727866, 2306627, 1255441, 2707133, 2512466, 642285, 2365928, 689482, 1403688, 2636724, 738345, 2073217, 640864, 2818258, 520791, 713134, 186751, 322153, 718536, 657435, 231087, 157669, 652469], \"y\": [40814.0, 10182.0, 1737.0, 60683.0, 108719.0, 19780.0, 58892.0, 33462.0, 53906.0, 63849.0, 21719.0, 21641.0, 53478.0, 44868.0, 30753.0, 38090.0, 40786.0, 21760.0, 50944.0, 37874.0, 21084.0, 22532.0, 47030.0, 26623.0, 18462.0, 6630.0, 29081.0, 25957.0, 20185.0, 10072.0, 6326.0, 21969.0]}, {\"marker\": {\"color\": \"rgba(48, 144, 84, 1.0)\", \"line\": {\"width\": 1.3}, \"opacity\": 0.8, \"size\": 12, \"symbol\": \"circle\"}, \"mode\": \"markers\", \"name\": \"Classics\", \"textfont\": {\"color\": \"#505050\"}, \"type\": \"scatter\", \"x\": [4380949, 2908472, 2656168, 1058472, 1309433, 933185, 446210, 1586497, 670765, 1626094, 2016094, 2213727, 3679998, 703541, 1376825, 1301280, 1901282, 907583, 1403280, 2674826, 865711, 1136571, 909522, 845479, 795790, 648420, 1106498, 1133264, 709855, 235715, 424104, 636293, 619142, 574540, 648579, 1639339, 431126, 504945, 381044, 3028465, 585745, 235664, 564222, 202768, 348284, 806160, 261110, 213208, 470996, 682372, 740312, 341062, 614304, 334363, 691688, 731480, 139775, 112964, 263133, 297028, 254205, 267265, 356175, 233965, 220074, 406735, 435907, 370150, 330590, 245447, 311428, 107595, 390719, 185560, 258028, 195509], \"y\": [89315.0, 64576.0, 53727.0, 19462.0, 35775.0, 29191.0, 10329.0, 40921.0, 17104.0, 46138.0, 18923.0, 36308.0, 65562.0, 21749.0, 17582.0, 37961.0, 33216.0, 24661.0, 29098.0, 56039.0, 18086.0, 15210.0, 32371.0, 11881.0, 17044.0, 23929.0, 26286.0, 31839.0, 17852.0, 6547.0, 13441.0, 15616.0, 10621.0, 22362.0, 23342.0, 29427.0, 22191.0, 14486.0, 20191.0, 67126.0, 13391.0, 10667.0, 16870.0, 7800.0, 17066.0, 24262.0, 4620.0, 2169.0, 15165.0, 22355.0, 9703.0, 14650.0, 16730.0, 10904.0, 14430.0, 20645.0, 2168.0, 3724.0, 10960.0, 8958.0, 12989.0, 6589.0, 12360.0, 8497.0, 9706.0, 13524.0, 7877.0, 5348.0, 10718.0, 10283.0, 7294.0, 6610.0, 11290.0, 3244.0, 9414.0, 6329.0]}, {\"marker\": {\"color\": \"rgba(98, 98, 222, 1.0)\", \"line\": {\"width\": 1.3}, \"opacity\": 0.8, \"size\": 12, \"symbol\": \"circle\"}, \"mode\": \"markers\", \"name\": \"Historical\", \"textfont\": {\"color\": \"#505050\"}, \"type\": \"scatter\", \"x\": [1780696, 632406, 798845, 511585, 348744, 224508], \"y\": [111235.0, 30725.0, 44736.0, 19051.0, 10148.0, 6448.0]}, {\"marker\": {\"color\": \"rgba(217, 66, 85, 1.0)\", \"line\": {\"width\": 1.3}, \"opacity\": 0.8, \"size\": 12, \"symbol\": \"circle\"}, \"mode\": \"markers\", \"name\": \"Science Fiction\", \"textfont\": {\"color\": \"#505050\"}, \"type\": \"scatter\", \"x\": [1391859, 1103599, 720389, 280667], \"y\": [29116.0, 42842.0, 20979.0, 5206.0]}, {\"marker\": {\"color\": \"rgba(173, 252, 252, 1.0)\", \"line\": {\"width\": 1.3}, \"opacity\": 0.8, \"size\": 12, \"symbol\": \"circle\"}, \"mode\": \"markers\", \"name\": \"Childrens\", \"textfont\": {\"color\": \"#505050\"}, \"type\": \"scatter\", \"x\": [882692, 795292, 596229, 617817, 643197, 384666, 411450, 320777, 296693, 274734, 318818], \"y\": [17383.0, 11582.0, 9213.0, 15965.0, 11609.0, 7757.0, 5706.0, 3148.0, 5733.0, 4015.0, 5159.0]}, {\"marker\": {\"color\": \"rgba(70, 160, 240, 1.0)\", \"line\": {\"width\": 1.3}, \"opacity\": 0.8, \"size\": 12, \"symbol\": \"circle\"}, \"mode\": \"markers\", \"name\": \"Fiction\", \"textfont\": {\"color\": \"#505050\"}, \"type\": \"scatter\", \"x\": [1888626, 1688167, 2028312, 2108929, 1547251, 732202, 1119695, 1978789, 1310141, 1353987, 2367149, 1405109, 1042128, 2546719, 700693, 649693, 282797, 1099337, 574954, 233033, 465403, 442781, 1164672, 330210, 290790, 324121, 568163, 487278, 143713, 313987, 399837, 308048, 431748, 590478, 196750, 794264, 202103], \"y\": [46500.0, 29573.0, 77833.0, 84130.0, 46900.0, 29606.0, 52897.0, 40122.0, 46826.0, 58529.0, 72086.0, 68523.0, 33215.0, 68102.0, 45022.0, 22953.0, 13594.0, 30087.0, 22956.0, 11056.0, 17626.0, 34326.0, 43483.0, 14870.0, 8608.0, 8398.0, 20266.0, 14142.0, 7292.0, 13958.0, 19624.0, 5838.0, 17042.0, 9028.0, 7699.0, 33898.0, 5381.0]}, {\"marker\": {\"color\": \"rgba(70, 160, 240, 0.8999999999999999)\", \"line\": {\"width\": 1.3}, \"opacity\": 0.8, \"size\": 12, \"symbol\": \"circle\"}, \"mode\": \"markers\", \"name\": \"Cultural\", \"textfont\": {\"color\": \"#505050\"}, \"type\": \"scatter\", \"x\": [605518], \"y\": [18325.0]}, {\"marker\": {\"color\": \"rgba(0, 128, 240, 0.8999999999999999)\", \"line\": {\"width\": 1.3}, \"opacity\": 0.8, \"size\": 12, \"symbol\": \"circle\"}, \"mode\": \"markers\", \"name\": \"Horror\", \"textfont\": {\"color\": \"#505050\"}, \"type\": \"scatter\", \"x\": [598529, 473309, 1091201, 773869], \"y\": [19607.0, 9963.0, 23558.0, 24494.0]}, {\"marker\": {\"color\": \"rgba(238, 118, 0, 0.8999999999999999)\", \"line\": {\"width\": 1.3}, \"opacity\": 0.8, \"size\": 12, \"symbol\": \"circle\"}, \"mode\": \"markers\", \"name\": \"Nonfiction\", \"textfont\": {\"color\": \"#505050\"}, \"type\": \"scatter\", \"x\": [528350, 761297, 510903, 1443225], \"y\": [11734.0, 25292.0, 16163.0, 53447.0]}, {\"marker\": {\"color\": \"rgba(48, 144, 84, 0.8999999999999999)\", \"line\": {\"width\": 1.3}, \"opacity\": 0.8, \"size\": 12, \"symbol\": \"circle\"}, \"mode\": \"markers\", \"name\": \"Romance\", \"textfont\": {\"color\": \"#505050\"}, \"type\": \"scatter\", \"x\": [1302293, 659147, 1890385], \"y\": [19737.0, 12923.0, 78264.0]}, {\"marker\": {\"color\": \"rgba(98, 98, 222, 0.8999999999999999)\", \"line\": {\"width\": 1.3}, \"opacity\": 0.8, \"size\": 12, \"symbol\": \"circle\"}, \"mode\": \"markers\", \"name\": \"Mystery\", \"textfont\": {\"color\": \"#505050\"}, \"type\": \"scatter\", \"x\": [778107], \"y\": [31315.0]}, {\"marker\": {\"color\": \"rgba(217, 66, 85, 0.8999999999999999)\", \"line\": {\"width\": 1.3}, \"opacity\": 0.8, \"size\": 12, \"symbol\": \"circle\"}, \"mode\": \"markers\", \"name\": \"Sequential Art\", \"textfont\": {\"color\": \"#505050\"}, \"type\": \"scatter\", \"x\": [479982], \"y\": [13783.0]}, {\"marker\": {\"color\": \"rgba(173, 252, 252, 0.8999999999999999)\", \"line\": {\"width\": 1.3}, \"opacity\": 0.8, \"size\": 12, \"symbol\": \"circle\"}, \"mode\": \"markers\", \"name\": \"Plays\", \"textfont\": {\"color\": \"#505050\"}, \"type\": \"scatter\", \"x\": [8387], \"y\": [131.0]}, {\"marker\": {\"color\": \"rgba(173, 252, 252, 0.7999999999999998)\", \"line\": {\"width\": 1.3}, \"opacity\": 0.8, \"size\": 12, \"symbol\": \"circle\"}, \"mode\": \"markers\", \"name\": \"Poetry\", \"textfont\": {\"color\": \"#505050\"}, \"type\": \"scatter\", \"x\": [227070], \"y\": [9210.0]}],\n",
       "                        {\"legend\": {\"bgcolor\": \"#F2F3F7\", \"font\": {\"color\": \"#505050\"}}, \"paper_bgcolor\": \"#F2F3F7\", \"plot_bgcolor\": \"#F2F3F7\", \"template\": {\"data\": {\"bar\": [{\"error_x\": {\"color\": \"#2a3f5f\"}, \"error_y\": {\"color\": \"#2a3f5f\"}, \"marker\": {\"line\": {\"color\": \"#E5ECF6\", \"width\": 0.5}}, \"type\": \"bar\"}], \"barpolar\": [{\"marker\": {\"line\": {\"color\": \"#E5ECF6\", \"width\": 0.5}}, \"type\": \"barpolar\"}], \"carpet\": [{\"aaxis\": {\"endlinecolor\": \"#2a3f5f\", \"gridcolor\": \"white\", \"linecolor\": \"white\", \"minorgridcolor\": \"white\", \"startlinecolor\": \"#2a3f5f\"}, \"baxis\": {\"endlinecolor\": \"#2a3f5f\", \"gridcolor\": \"white\", \"linecolor\": \"white\", \"minorgridcolor\": \"white\", \"startlinecolor\": \"#2a3f5f\"}, \"type\": \"carpet\"}], \"choropleth\": [{\"colorbar\": {\"outlinewidth\": 0, \"ticks\": \"\"}, \"type\": \"choropleth\"}], \"contour\": [{\"colorbar\": {\"outlinewidth\": 0, \"ticks\": \"\"}, \"colorscale\": [[0.0, \"#0d0887\"], [0.1111111111111111, \"#46039f\"], [0.2222222222222222, \"#7201a8\"], [0.3333333333333333, \"#9c179e\"], [0.4444444444444444, \"#bd3786\"], [0.5555555555555556, \"#d8576b\"], [0.6666666666666666, \"#ed7953\"], [0.7777777777777778, \"#fb9f3a\"], [0.8888888888888888, \"#fdca26\"], [1.0, \"#f0f921\"]], \"type\": \"contour\"}], \"contourcarpet\": [{\"colorbar\": {\"outlinewidth\": 0, \"ticks\": \"\"}, \"type\": \"contourcarpet\"}], \"heatmap\": [{\"colorbar\": {\"outlinewidth\": 0, \"ticks\": \"\"}, \"colorscale\": [[0.0, \"#0d0887\"], [0.1111111111111111, \"#46039f\"], [0.2222222222222222, \"#7201a8\"], [0.3333333333333333, \"#9c179e\"], [0.4444444444444444, \"#bd3786\"], [0.5555555555555556, \"#d8576b\"], [0.6666666666666666, \"#ed7953\"], [0.7777777777777778, \"#fb9f3a\"], [0.8888888888888888, \"#fdca26\"], [1.0, \"#f0f921\"]], \"type\": \"heatmap\"}], \"heatmapgl\": [{\"colorbar\": {\"outlinewidth\": 0, \"ticks\": \"\"}, \"colorscale\": [[0.0, \"#0d0887\"], [0.1111111111111111, \"#46039f\"], [0.2222222222222222, \"#7201a8\"], [0.3333333333333333, \"#9c179e\"], [0.4444444444444444, \"#bd3786\"], [0.5555555555555556, \"#d8576b\"], [0.6666666666666666, \"#ed7953\"], [0.7777777777777778, \"#fb9f3a\"], [0.8888888888888888, \"#fdca26\"], [1.0, \"#f0f921\"]], \"type\": \"heatmapgl\"}], \"histogram\": [{\"marker\": {\"colorbar\": {\"outlinewidth\": 0, \"ticks\": \"\"}}, \"type\": \"histogram\"}], \"histogram2d\": [{\"colorbar\": {\"outlinewidth\": 0, \"ticks\": \"\"}, \"colorscale\": [[0.0, \"#0d0887\"], [0.1111111111111111, \"#46039f\"], [0.2222222222222222, \"#7201a8\"], [0.3333333333333333, \"#9c179e\"], [0.4444444444444444, \"#bd3786\"], [0.5555555555555556, \"#d8576b\"], [0.6666666666666666, \"#ed7953\"], [0.7777777777777778, \"#fb9f3a\"], [0.8888888888888888, \"#fdca26\"], [1.0, \"#f0f921\"]], \"type\": \"histogram2d\"}], \"histogram2dcontour\": [{\"colorbar\": {\"outlinewidth\": 0, \"ticks\": \"\"}, \"colorscale\": [[0.0, \"#0d0887\"], [0.1111111111111111, \"#46039f\"], [0.2222222222222222, \"#7201a8\"], [0.3333333333333333, \"#9c179e\"], [0.4444444444444444, \"#bd3786\"], [0.5555555555555556, \"#d8576b\"], [0.6666666666666666, \"#ed7953\"], [0.7777777777777778, \"#fb9f3a\"], [0.8888888888888888, \"#fdca26\"], [1.0, \"#f0f921\"]], \"type\": \"histogram2dcontour\"}], \"mesh3d\": [{\"colorbar\": {\"outlinewidth\": 0, \"ticks\": \"\"}, \"type\": \"mesh3d\"}], \"parcoords\": [{\"line\": {\"colorbar\": {\"outlinewidth\": 0, \"ticks\": \"\"}}, \"type\": \"parcoords\"}], \"pie\": [{\"automargin\": true, \"type\": \"pie\"}], \"scatter\": [{\"marker\": {\"colorbar\": {\"outlinewidth\": 0, \"ticks\": \"\"}}, \"type\": \"scatter\"}], \"scatter3d\": [{\"line\": {\"colorbar\": {\"outlinewidth\": 0, \"ticks\": \"\"}}, \"marker\": {\"colorbar\": {\"outlinewidth\": 0, \"ticks\": \"\"}}, \"type\": \"scatter3d\"}], \"scattercarpet\": [{\"marker\": {\"colorbar\": {\"outlinewidth\": 0, \"ticks\": \"\"}}, \"type\": \"scattercarpet\"}], \"scattergeo\": [{\"marker\": {\"colorbar\": {\"outlinewidth\": 0, \"ticks\": \"\"}}, \"type\": \"scattergeo\"}], \"scattergl\": [{\"marker\": {\"colorbar\": {\"outlinewidth\": 0, \"ticks\": \"\"}}, \"type\": \"scattergl\"}], \"scattermapbox\": [{\"marker\": {\"colorbar\": {\"outlinewidth\": 0, \"ticks\": \"\"}}, \"type\": \"scattermapbox\"}], \"scatterpolar\": [{\"marker\": {\"colorbar\": {\"outlinewidth\": 0, \"ticks\": \"\"}}, \"type\": \"scatterpolar\"}], \"scatterpolargl\": [{\"marker\": {\"colorbar\": {\"outlinewidth\": 0, \"ticks\": \"\"}}, \"type\": \"scatterpolargl\"}], \"scatterternary\": [{\"marker\": {\"colorbar\": {\"outlinewidth\": 0, \"ticks\": \"\"}}, \"type\": \"scatterternary\"}], \"surface\": [{\"colorbar\": {\"outlinewidth\": 0, \"ticks\": \"\"}, \"colorscale\": [[0.0, \"#0d0887\"], [0.1111111111111111, \"#46039f\"], [0.2222222222222222, \"#7201a8\"], [0.3333333333333333, \"#9c179e\"], [0.4444444444444444, \"#bd3786\"], [0.5555555555555556, \"#d8576b\"], [0.6666666666666666, \"#ed7953\"], [0.7777777777777778, \"#fb9f3a\"], [0.8888888888888888, \"#fdca26\"], [1.0, \"#f0f921\"]], \"type\": \"surface\"}], \"table\": [{\"cells\": {\"fill\": {\"color\": \"#EBF0F8\"}, \"line\": {\"color\": \"white\"}}, \"header\": {\"fill\": {\"color\": \"#C8D4E3\"}, \"line\": {\"color\": \"white\"}}, \"type\": \"table\"}]}, \"layout\": {\"annotationdefaults\": {\"arrowcolor\": \"#2a3f5f\", \"arrowhead\": 0, \"arrowwidth\": 1}, \"coloraxis\": {\"colorbar\": {\"outlinewidth\": 0, \"ticks\": \"\"}}, \"colorscale\": {\"diverging\": [[0, \"#8e0152\"], [0.1, \"#c51b7d\"], [0.2, \"#de77ae\"], [0.3, \"#f1b6da\"], [0.4, \"#fde0ef\"], [0.5, \"#f7f7f7\"], [0.6, \"#e6f5d0\"], [0.7, \"#b8e186\"], [0.8, \"#7fbc41\"], [0.9, \"#4d9221\"], [1, \"#276419\"]], \"sequential\": [[0.0, \"#0d0887\"], [0.1111111111111111, \"#46039f\"], [0.2222222222222222, \"#7201a8\"], [0.3333333333333333, \"#9c179e\"], [0.4444444444444444, \"#bd3786\"], [0.5555555555555556, \"#d8576b\"], [0.6666666666666666, \"#ed7953\"], [0.7777777777777778, \"#fb9f3a\"], [0.8888888888888888, \"#fdca26\"], [1.0, \"#f0f921\"]], \"sequentialminus\": [[0.0, \"#0d0887\"], [0.1111111111111111, \"#46039f\"], [0.2222222222222222, \"#7201a8\"], [0.3333333333333333, \"#9c179e\"], [0.4444444444444444, \"#bd3786\"], [0.5555555555555556, \"#d8576b\"], [0.6666666666666666, \"#ed7953\"], [0.7777777777777778, \"#fb9f3a\"], [0.8888888888888888, \"#fdca26\"], [1.0, \"#f0f921\"]]}, \"colorway\": [\"#636efa\", \"#EF553B\", \"#00cc96\", \"#ab63fa\", \"#FFA15A\", \"#19d3f3\", \"#FF6692\", \"#B6E880\", \"#FF97FF\", \"#FECB52\"], \"font\": {\"color\": \"#2a3f5f\"}, \"geo\": {\"bgcolor\": \"white\", \"lakecolor\": \"white\", \"landcolor\": \"#E5ECF6\", \"showlakes\": true, \"showland\": true, \"subunitcolor\": \"white\"}, \"hoverlabel\": {\"align\": \"left\"}, \"hovermode\": \"closest\", \"mapbox\": {\"style\": \"light\"}, \"paper_bgcolor\": \"white\", \"plot_bgcolor\": \"#E5ECF6\", \"polar\": {\"angularaxis\": {\"gridcolor\": \"white\", \"linecolor\": \"white\", \"ticks\": \"\"}, \"bgcolor\": \"#E5ECF6\", \"radialaxis\": {\"gridcolor\": \"white\", \"linecolor\": \"white\", \"ticks\": \"\"}}, \"scene\": {\"xaxis\": {\"backgroundcolor\": \"#E5ECF6\", \"gridcolor\": \"white\", \"gridwidth\": 2, \"linecolor\": \"white\", \"showbackground\": true, \"ticks\": \"\", \"zerolinecolor\": \"white\"}, \"yaxis\": {\"backgroundcolor\": \"#E5ECF6\", \"gridcolor\": \"white\", \"gridwidth\": 2, \"linecolor\": \"white\", \"showbackground\": true, \"ticks\": \"\", \"zerolinecolor\": \"white\"}, \"zaxis\": {\"backgroundcolor\": \"#E5ECF6\", \"gridcolor\": \"white\", \"gridwidth\": 2, \"linecolor\": \"white\", \"showbackground\": true, \"ticks\": \"\", \"zerolinecolor\": \"white\"}}, \"shapedefaults\": {\"line\": {\"color\": \"#2a3f5f\"}}, \"ternary\": {\"aaxis\": {\"gridcolor\": \"white\", \"linecolor\": \"white\", \"ticks\": \"\"}, \"baxis\": {\"gridcolor\": \"white\", \"linecolor\": \"white\", \"ticks\": \"\"}, \"bgcolor\": \"#E5ECF6\", \"caxis\": {\"gridcolor\": \"white\", \"linecolor\": \"white\", \"ticks\": \"\"}}, \"title\": {\"x\": 0.05}, \"xaxis\": {\"automargin\": true, \"gridcolor\": \"white\", \"linecolor\": \"white\", \"ticks\": \"\", \"title\": {\"standoff\": 15}, \"zerolinecolor\": \"white\", \"zerolinewidth\": 2}, \"yaxis\": {\"automargin\": true, \"gridcolor\": \"white\", \"linecolor\": \"white\", \"ticks\": \"\", \"title\": {\"standoff\": 15}, \"zerolinecolor\": \"white\", \"zerolinewidth\": 2}}}, \"title\": {\"font\": {\"color\": \"#484848\"}, \"text\": \"Rating Count vs Review Count by Genres\"}, \"xaxis\": {\"gridcolor\": \"#E1E5ED\", \"showgrid\": true, \"tickfont\": {\"color\": \"#505050\"}, \"title\": {\"font\": {\"color\": \"#505050\"}, \"text\": \"Rating Count\"}, \"zerolinecolor\": \"#E1E5ED\"}, \"yaxis\": {\"gridcolor\": \"#E1E5ED\", \"showgrid\": true, \"tickfont\": {\"color\": \"#505050\"}, \"title\": {\"font\": {\"color\": \"#505050\"}, \"text\": \"Review Count\"}, \"zerolinecolor\": \"#E1E5ED\"}},\n",
       "                        {\"showLink\": true, \"linkText\": \"Export to plot.ly\", \"plotlyServerURL\": \"https://plot.ly\", \"responsive\": true}\n",
       "                    ).then(function(){\n",
       "                            \n",
       "var gd = document.getElementById('ff6d6e83-2caa-42f6-a19c-67495d434820');\n",
       "var x = new MutationObserver(function (mutations, observer) {{\n",
       "        var display = window.getComputedStyle(gd).display;\n",
       "        if (!display || display === 'none') {{\n",
       "            console.log([gd, 'removed!']);\n",
       "            Plotly.purge(gd);\n",
       "            observer.disconnect();\n",
       "        }}\n",
       "}});\n",
       "\n",
       "// Listen for the removal of the full notebook cells\n",
       "var notebookContainer = gd.closest('#notebook-container');\n",
       "if (notebookContainer) {{\n",
       "    x.observe(notebookContainer, {childList: true});\n",
       "}}\n",
       "\n",
       "// Listen for the clearing of the current output cell\n",
       "var outputEl = gd.closest('.output');\n",
       "if (outputEl) {{\n",
       "    x.observe(outputEl, {childList: true});\n",
       "}}\n",
       "\n",
       "                        })\n",
       "                };\n",
       "                });\n",
       "            </script>\n",
       "        </div>"
      ]
     },
     "metadata": {},
     "output_type": "display_data"
    }
   ],
   "source": [
    "df.iplot(\n",
    "    x='rating_count',\n",
    "    y='review_count',\n",
    "    categories='genres',\n",
    "    xTitle='Rating Count',\n",
    "    yTitle='Review Count',\n",
    "    title='Rating Count vs Review Count by Genres')"
   ]
  },
  {
   "cell_type": "markdown",
   "metadata": {},
   "source": [
    "## Score of Author"
   ]
  },
  {
   "cell_type": "code",
   "execution_count": 32,
   "metadata": {
    "ExecuteTime": {
     "end_time": "2020-07-13T20:10:29.306033Z",
     "start_time": "2020-07-13T20:10:29.088152Z"
    }
   },
   "outputs": [
    {
     "data": {
      "application/vnd.plotly.v1+json": {
       "config": {
        "linkText": "Export to plot.ly",
        "plotlyServerURL": "https://plot.ly",
        "showLink": true
       },
       "data": [
        {
         "labels": [
          "J.K. Rowling",
          "Suzanne Collins",
          "Harper Lee",
          "Jane Austen",
          "J.R.R. Tolkien",
          "George Orwell",
          "Stephenie Meyer",
          "Markus Zusak",
          "C.S. Lewis",
          "John Green"
         ],
         "marker": {
          "colors": [
           "rgba(0, 128, 240, 1.0)",
           "rgba(238, 118, 0, 1.0)",
           "rgba(48, 144, 84, 1.0)",
           "rgba(98, 98, 222, 1.0)",
           "rgba(217, 66, 85, 1.0)",
           "rgba(173, 252, 252, 1.0)",
           "rgba(70, 160, 240, 1.0)",
           "rgba(70, 160, 240, 0.8999999999999999)",
           "rgba(0, 128, 240, 0.8999999999999999)",
           "rgba(238, 118, 0, 0.8999999999999999)"
          ]
         },
         "name": "",
         "type": "pie",
         "values": [
          4279379,
          3037994,
          2236599,
          1943333,
          1576729,
          1557312,
          1452749,
          1344286,
          1342464,
          1210206
         ]
        }
       ],
       "layout": {
        "legend": {
         "bgcolor": "#F2F3F7",
         "font": {
          "color": "#505050"
         }
        },
        "paper_bgcolor": "#F2F3F7",
        "plot_bgcolor": "#F2F3F7",
        "title": "Score by author",
        "titlefont": {
         "color": "#484848"
        }
       }
      },
      "text/html": [
       "<div>\n",
       "        \n",
       "        \n",
       "            <div id=\"f03894d4-43ee-4a16-8e08-df72a4e1d0f0\" class=\"plotly-graph-div\" style=\"height:525px; width:100%;\"></div>\n",
       "            <script type=\"text/javascript\">\n",
       "                require([\"plotly\"], function(Plotly) {\n",
       "                    window.PLOTLYENV=window.PLOTLYENV || {};\n",
       "                    window.PLOTLYENV.BASE_URL='https://plot.ly';\n",
       "                    \n",
       "                if (document.getElementById(\"f03894d4-43ee-4a16-8e08-df72a4e1d0f0\")) {\n",
       "                    Plotly.newPlot(\n",
       "                        'f03894d4-43ee-4a16-8e08-df72a4e1d0f0',\n",
       "                        [{\"labels\": [\"J.K. Rowling\", \"Suzanne Collins\", \"Harper Lee\", \"Jane Austen\", \"J.R.R. Tolkien\", \"George Orwell\", \"Stephenie Meyer\", \"Markus Zusak\", \"C.S. Lewis\", \"John Green\"], \"marker\": {\"colors\": [\"rgba(0, 128, 240, 1.0)\", \"rgba(238, 118, 0, 1.0)\", \"rgba(48, 144, 84, 1.0)\", \"rgba(98, 98, 222, 1.0)\", \"rgba(217, 66, 85, 1.0)\", \"rgba(173, 252, 252, 1.0)\", \"rgba(70, 160, 240, 1.0)\", \"rgba(70, 160, 240, 0.8999999999999999)\", \"rgba(0, 128, 240, 0.8999999999999999)\", \"rgba(238, 118, 0, 0.8999999999999999)\"]}, \"name\": \"\", \"type\": \"pie\", \"values\": [4279379, 3037994, 2236599, 1943333, 1576729, 1557312, 1452749, 1344286, 1342464, 1210206]}],\n",
       "                        {\"legend\": {\"bgcolor\": \"#F2F3F7\", \"font\": {\"color\": \"#505050\"}}, \"paper_bgcolor\": \"#F2F3F7\", \"plot_bgcolor\": \"#F2F3F7\", \"title\": \"Score by author\", \"titlefont\": {\"color\": \"#484848\"}},\n",
       "                        {\"showLink\": true, \"linkText\": \"Export to plot.ly\", \"plotlyServerURL\": \"https://plot.ly\", \"responsive\": true}\n",
       "                    ).then(function(){\n",
       "                            \n",
       "var gd = document.getElementById('f03894d4-43ee-4a16-8e08-df72a4e1d0f0');\n",
       "var x = new MutationObserver(function (mutations, observer) {{\n",
       "        var display = window.getComputedStyle(gd).display;\n",
       "        if (!display || display === 'none') {{\n",
       "            console.log([gd, 'removed!']);\n",
       "            Plotly.purge(gd);\n",
       "            observer.disconnect();\n",
       "        }}\n",
       "}});\n",
       "\n",
       "// Listen for the removal of the full notebook cells\n",
       "var notebookContainer = gd.closest('#notebook-container');\n",
       "if (notebookContainer) {{\n",
       "    x.observe(notebookContainer, {childList: true});\n",
       "}}\n",
       "\n",
       "// Listen for the clearing of the current output cell\n",
       "var outputEl = gd.closest('.output');\n",
       "if (outputEl) {{\n",
       "    x.observe(outputEl, {childList: true});\n",
       "}}\n",
       "\n",
       "                        })\n",
       "                };\n",
       "                });\n",
       "            </script>\n",
       "        </div>"
      ]
     },
     "metadata": {},
     "output_type": "display_data"
    }
   ],
   "source": [
    "df.groupby(\n",
    "    'author', as_index=False)['score'].sum().sort_values('score', ascending = False)[:10].iplot(\n",
    " kind='pie', labels='author', values='score', \n",
    "    title='Score by author')"
   ]
  },
  {
   "cell_type": "markdown",
   "metadata": {},
   "source": [
    "## Sunburst Charts"
   ]
  },
  {
   "cell_type": "code",
   "execution_count": 33,
   "metadata": {
    "ExecuteTime": {
     "end_time": "2020-07-13T20:10:29.719572Z",
     "start_time": "2020-07-13T20:10:29.308327Z"
    }
   },
   "outputs": [
    {
     "data": {
      "application/vnd.plotly.v1+json": {
       "config": {
        "plotlyServerURL": "https://plot.ly"
       },
       "data": [
        {
         "branchvalues": "total",
         "customdata": [
          [
           7757
          ],
          [
           5733
          ],
          [
           11582
          ],
          [
           5159
          ],
          [
           5706
          ],
          [
           9213
          ],
          [
           3148
          ],
          [
           17383
          ],
          [
           4015
          ],
          [
           8958
          ],
          [
           5348
          ],
          [
           37961
          ],
          [
           24262
          ],
          [
           33216
          ],
          [
           7699
          ],
          [
           22355
          ],
          [
           9210
          ],
          [
           131
          ],
          [
           53727
          ],
          [
           4620
          ],
          [
           16870
          ],
          [
           12360
          ],
          [
           10718
          ],
          [
           10960
          ],
          [
           11609
          ],
          [
           36308
          ],
          [
           77833
          ],
          [
           17582
          ],
          [
           13524
          ],
          [
           12142
          ],
          [
           32371
          ],
          [
           29116
          ],
          [
           46138
          ],
          [
           20266
          ],
          [
           65562
          ],
          [
           16730
          ],
          [
           21084
          ],
          [
           64335
          ],
          [
           25292
          ],
          [
           56444
          ],
          [
           12923
          ],
          [
           17626
          ],
          [
           33462
          ],
          [
           14142
          ],
          [
           12989
          ],
          [
           55438
          ],
          [
           43483
          ],
          [
           19737
          ],
          [
           20053
          ],
          [
           67126
          ],
          [
           10329
          ],
          [
           7877
          ],
          [
           13391
          ],
          [
           15965
          ],
          [
           45022
          ],
          [
           9703
          ],
          [
           10072
          ],
          [
           13958
          ],
          [
           31315
          ],
          [
           26748.34375
          ],
          [
           26286
          ],
          [
           56039
          ],
          [
           14430
          ],
          [
           25957
          ],
          [
           64576
          ],
          [
           31839
          ],
          [
           9028
          ],
          [
           29098
          ],
          [
           9414
          ],
          [
           22362
          ],
          [
           10148
          ],
          [
           30087
          ],
          [
           14486
          ],
          [
           14650
          ],
          [
           108719
          ],
          [
           11290
          ],
          [
           154147
          ],
          [
           68523
          ],
          [
           14870
          ],
          [
           21749
          ],
          [
           20185
          ],
          [
           89315
          ],
          [
           42842
          ],
          [
           10621
          ],
          [
           15210
          ],
          [
           11198
          ],
          [
           10283
          ],
          [
           23929
          ],
          [
           18086
          ],
          [
           21932
          ],
          [
           58529
          ],
          [
           11056
          ],
          [
           19051
          ],
          [
           50944
          ],
          [
           9963
          ],
          [
           16163
          ],
          [
           19624
          ],
          [
           17042
          ],
          [
           51526
          ],
          [
           78264
          ],
          [
           18462
          ],
          [
           47030
          ],
          [
           53447
          ],
          [
           18923
          ],
          [
           72086
          ],
          [
           40122
          ],
          [
           52897
          ],
          [
           170045
          ],
          [
           58892
          ],
          [
           22532
          ],
          [
           55211
          ],
          [
           6547
          ],
          [
           24568
          ],
          [
           6326
          ],
          [
           21719
          ],
          [
           21641
          ],
          [
           13783
          ],
          [
           29606
          ],
          [
           9706
          ],
          [
           33215
          ],
          [
           53478
          ],
          [
           11174
          ],
          [
           8398
          ],
          [
           29427
          ],
          [
           22191
          ],
          [
           84130
          ],
          [
           11734
          ],
          [
           17852
          ],
          [
           19780
          ],
          [
           46826
          ],
          [
           35775
          ],
          [
           68102
          ],
          [
           13441
          ],
          [
           30753
          ],
          [
           60683
          ],
          [
           107502
          ],
          [
           34326
          ],
          [
           24661
          ],
          [
           17044
          ],
          [
           46500
          ],
          [
           26623
          ],
          [
           20191
          ],
          [
           46900
          ],
          [
           102549
          ],
          [
           21760
          ],
          [
           29573
          ],
          [
           33898
          ],
          [
           9705
          ],
          [
           15616
          ],
          [
           6448
          ],
          [
           8497
          ],
          [
           3244
          ],
          [
           58483
          ],
          [
           22956
          ],
          [
           40921
          ],
          [
           8608
          ],
          [
           11881
          ],
          [
           22953
          ],
          [
           111235
          ],
          [
           29081
          ],
          [
           7294
          ],
          [
           5381
          ],
          [
           6589
          ],
          [
           37874
          ],
          [
           13594
          ],
          [
           38090
          ],
          [
           15165
          ],
          [
           23558
          ],
          [
           40786
          ],
          [
           18325
          ],
          [
           20979
          ],
          [
           5838
          ],
          [
           44868
          ],
          [
           63849
          ],
          [
           10182
          ],
          [
           6610
          ],
          [
           10667
          ],
          [
           3724
          ],
          [
           5206
          ],
          [
           2169
          ],
          [
           53906
          ],
          [
           44736
          ],
          [
           40814
          ],
          [
           6329
          ],
          [
           7292
          ],
          [
           23342
          ],
          [
           30725
          ],
          [
           6630
          ],
          [
           7800
          ],
          [
           19462
          ],
          [
           24494
          ],
          [
           19607
          ],
          [
           6827
          ],
          [
           17066
          ],
          [
           21969
          ],
          [
           20645
          ],
          [
           17104
          ],
          [
           1737
          ],
          [
           2168
          ],
          [
           14430
          ],
          [
           13524
          ],
          [
           11969.3505859375
          ],
          [
           53447
          ],
          [
           102549
          ],
          [
           14650
          ],
          [
           78264
          ],
          [
           33846.578125
          ],
          [
           17066
          ],
          [
           6610
          ],
          [
           18923
          ],
          [
           11881
          ],
          [
           18990.8046875
          ],
          [
           27863.421875
          ],
          [
           50962.73828125
          ],
          [
           40122
          ],
          [
           15532.431640625
          ],
          [
           11290
          ],
          [
           17044
          ],
          [
           7699
          ],
          [
           46500
          ],
          [
           35775
          ],
          [
           28549.958984375
          ],
          [
           77833
          ],
          [
           7800
          ],
          [
           43483
          ],
          [
           23929
          ],
          [
           21760
          ],
          [
           9703
          ],
          [
           41891.16015625
          ],
          [
           65562
          ],
          [
           19624
          ],
          [
           12989
          ],
          [
           9028
          ],
          [
           51526
          ],
          [
           53727
          ],
          [
           20266
          ],
          [
           7877
          ],
          [
           46316.59375
          ],
          [
           22369.06640625
          ],
          [
           17813.326171875
          ],
          [
           21641
          ],
          [
           10148
          ],
          [
           31927.603515625
          ],
          [
           24661
          ],
          [
           33462
          ],
          [
           9963
          ],
          [
           22362
          ],
          [
           22956
          ],
          [
           12142
          ],
          [
           13958
          ],
          [
           55211
          ],
          [
           14201.1220703125
          ],
          [
           56739.9140625
          ],
          [
           23342
          ],
          [
           30087
          ],
          [
           6448
          ],
          [
           10637.232421875
          ],
          [
           22953
          ],
          [
           20765.453125
          ],
          [
           16163
          ],
          [
           27441.748046875
          ],
          [
           30891.875
          ],
          [
           51445.86328125
          ],
          [
           32371
          ],
          [
           60683
          ],
          [
           14870
          ],
          [
           19737
          ],
          [
           37874
          ],
          [
           68523
          ],
          [
           16041.8935546875
          ],
          [
           40921
          ],
          [
           6630
          ],
          [
           26793.748046875
          ],
          [
           21932
          ],
          [
           17626
          ],
          [
           64335
          ],
          [
           11609
          ],
          [
           18086
          ],
          [
           68102
          ],
          [
           5706
          ],
          [
           17321.919921875
          ],
          [
           53063.4296875
          ],
          [
           6326
          ],
          [
           19051
          ],
          [
           12923
          ],
          [
           10621
          ],
          [
           14142
          ],
          [
           82602.40625
          ],
          [
           14486
          ],
          [
           10072
          ],
          [
           154147
          ],
          [
           11582
          ],
          [
           18325
          ],
          [
           21084
          ],
          [
           29116
          ],
          [
           22191
          ],
          [
           10994.2373046875
          ],
          [
           44736
          ],
          [
           23558
          ],
          [
           9210
          ],
          [
           20979
          ],
          [
           25957
          ],
          [
           33898
          ],
          [
           24494
          ],
          [
           20645
          ],
          [
           54479.47265625
          ],
          [
           53412.1953125
          ],
          [
           13320.2021484375
          ],
          [
           31315
          ],
          [
           20191
          ],
          [
           47030
          ],
          [
           34326
          ],
          [
           5733
          ],
          [
           89315
          ],
          [
           11198
          ],
          [
           11056
          ],
          [
           8898.736328125
          ],
          [
           16152.875
          ],
          [
           72086
          ],
          [
           42842
          ],
          [
           37961
          ],
          [
           15965
          ],
          [
           10667
          ],
          [
           30725
          ],
          [
           30753
          ],
          [
           170045
          ],
          [
           2168
          ],
          [
           19607
          ],
          [
           9705
          ],
          [
           4015
          ],
          [
           4620
          ],
          [
           20185
          ],
          [
           5159
          ],
          [
           21719
          ],
          [
           5206
          ],
          [
           13783
          ],
          [
           11174
          ],
          [
           3148
          ],
          [
           44853.51171875
          ],
          [
           111235
          ],
          [
           17383
          ],
          [
           2169
          ],
          [
           18462
          ],
          [
           50944
          ],
          [
           131
          ],
          [
           53906
          ],
          [
           108719
          ],
          [
           84130
          ],
          [
           6827
          ],
          [
           7292
          ],
          [
           40814
          ],
          [
           22532
          ],
          [
           34623.69140625
          ],
          [
           44868
          ],
          [
           47264.06640625
          ],
          [
           29081
          ],
          [
           1737
          ],
          [
           63849
          ],
          [
           12350.21875
          ],
          [
           32761.671875
          ],
          [
           18325
          ],
          [
           36911.74609375
          ],
          [
           44114.015625
          ],
          [
           74477.296875
          ],
          [
           18640.283203125
          ],
          [
           31315
          ],
          [
           21654.74609375
          ],
          [
           131
          ],
          [
           9210
          ],
          [
           28848.470703125
          ],
          [
           30984.591796875
          ],
          [
           13783
          ],
          [
           114852.9296875
          ]
         ],
         "domain": {
          "x": [
           0,
           1
          ],
          "y": [
           0,
           1
          ]
         },
         "hovertemplate": "labels=%{label}<br>score=%{value}<br>parent=%{parent}<br>id=%{id}<br>review_count=%{color}<extra></extra>",
         "ids": [
          "Childrens/4.300000190734863/26.0",
          "Childrens/4.28000020980835/32.0",
          "Childrens/4.21999979019165/37.0",
          "Childrens/4.360000133514404/44.0",
          "Childrens/4.170000076293945/61.0",
          "Childrens/4.300000190734863/62.0",
          "Childrens/4.369999885559082/64.0",
          "Childrens/4.380000114440918/64.0",
          "Childrens/4.349999904632568/72.0",
          "Classics/4.179999828338623/76.0",
          "Classics/4.03000020980835/92.0",
          "Classics/4.309999942779541/93.0",
          "Classics/3.7799999713897705/96.0",
          "Classics/3.869999885559082/103.0",
          "Fiction/3.8399999141693115/112.0",
          "Classics/3.9800000190734863/123.0",
          "Poetry/4.230000019073486/127.0",
          "Plays/4.440000057220459/137.0",
          "Classics/3.940000057220459/141.0",
          "Classics/4.349999904632568/145.0",
          "Classics/4.03000020980835/152.0",
          "Classics/3.990000009536743/154.0",
          "Classics/3.869999885559082/172.0",
          "Classics/4.070000171661377/176.0",
          "Childrens/4.139999866485596/176.0",
          "Classics/3.680000066757202/182.0",
          "Fiction/3.869999885559082/182.0",
          "Classics/4.170000076293945/184.0",
          "Classics/3.4200000762939453/188.0",
          "Young Adult/4.010000228881836/190.0",
          "Classics/4.099999904632568/192.0",
          "Science Fiction/4.21999979019165/193.0",
          "Classics/3.990000009536743/194.0",
          "Fiction/3.940000057220459/196.0",
          "Classics/3.9200000762939453/200.0",
          "Classics/3.819999933242798/201.0",
          "Fantasy/4.21999979019165/206.0",
          "Young Adult/4.130000114440918/208.0",
          "Nonfiction/4.110000133514404/210.0",
          "Young Adult/4.199999809265137/213.0",
          "Romance/4.179999828338623/215.0",
          "Fiction/4.130000114440918/216.0",
          "Fantasy/4.0/218.0",
          "Fiction/4.190000057220459/218.0",
          "Classics/3.930000066757202/219.0",
          "Young Adult/4.03000020980835/221.0",
          "Fiction/3.880000114440918/226.0",
          "Romance/4.099999904632568/227.0",
          "Young Adult/3.9700000286102295/233.0",
          "Classics/4.179999828338623/237.0",
          "Classics/4.059999942779541/239.0",
          "Classics/3.950000047683716/240.0",
          "Classics/3.990000009536743/240.0",
          "Childrens/4.320000171661377/240.0",
          "Fiction/3.9700000286102295/241.0",
          "Classics/3.9100000858306885/244.0",
          "Fantasy/4.210000038146973/256.0",
          "Fiction/4.019999980926514/263.0",
          "Mystery/4.260000228881836/264.0",
          "Classics/4.079999923706055/272.0",
          "Classics/4.070000171661377/275.0",
          "Classics/3.809999942779541/277.0",
          "Classics/3.4100000858306885/279.0",
          "Fantasy/4.239999771118164/279.0",
          "Classics/4.260000228881836/279.0",
          "Classics/3.799999952316284/288.0",
          "Fiction/3.930000066757202/288.0",
          "Classics/3.990000009536743/288.0",
          "Classics/3.809999942779541/293.0",
          "Classics/4.010000228881836/294.0",
          "Historical/3.9800000190734863/296.0",
          "Fiction/4.050000190734863/302.0",
          "Classics/4.210000038146973/304.0",
          "Classics/3.619999885559082/307.0",
          "Fantasy/4.46999979019165/309.0",
          "Classics/3.8299999237060547/311.0",
          "Young Adult/4.210000038146973/313.0",
          "Fiction/4.110000133514404/314.0",
          "Fiction/4.099999904632568/320.0",
          "Classics/4.260000228881836/320.0",
          "Fantasy/4.349999904632568/320.0",
          "Classics/4.28000020980835/324.0",
          "Science Fiction/4.300000190734863/324.0",
          "Classics/4.190000057220459/325.0",
          "Classics/3.819999933242798/327.0",
          "Young Adult/4.28000020980835/327.0",
          "Classics/3.680000066757202/329.0",
          "Classics/3.890000104904175/331.0",
          "Classics/4.139999866485596/331.0",
          "Young Adult/4.119999885559082/332.0",
          "Fiction/4.090000152587891/335.0",
          "Fiction/4.289999961853027/335.0",
          "Historical/4.179999828338623/336.0",
          "Fantasy/4.429999828338623/341.0",
          "Horror/4.0/342.0",
          "Nonfiction/4.070000171661377/343.0",
          "Fiction/3.9200000762939453/348.0",
          "Fiction/3.9100000858306885/351.0",
          "Young Adult/3.930000066757202/352.0",
          "Romance/3.6600000858306885/356.0",
          "Fantasy/4.400000095367432/361.0",
          "Fantasy/4.269999980926514/366.0",
          "Nonfiction/3.559999942779541/368.0",
          "Classics/3.75/368.0",
          "Fiction/4.300000190734863/371.0",
          "Fiction/3.809999942779541/372.0",
          "Fiction/4.369999885559082/372.0",
          "Young Adult/4.329999923706055/374.0",
          "Fantasy/4.25/375.0",
          "Fantasy/4.510000228881836/381.0",
          "Young Adult/4.019999980926514/384.0",
          "Classics/4.300000190734863/389.0",
          "Young Adult/3.9700000286102295/391.0",
          "Fantasy/4.179999828338623/396.0",
          "Fantasy/4.360000133514404/398.0",
          "Fantasy/3.9800000190734863/399.0",
          "Sequential Art/4.360000133514404/416.0",
          "Fiction/4.079999923706055/417.0",
          "Classics/3.9800000190734863/418.0",
          "Fiction/4.079999923706055/423.0",
          "Fantasy/4.570000171661377/435.0",
          "Young Adult/4.360000133514404/443.0",
          "Fiction/4.369999885559082/448.0",
          "Classics/4.079999923706055/449.0",
          "Classics/4.230000019073486/449.0",
          "Fiction/4.46999979019165/451.0",
          "Nonfiction/4.110000133514404/452.0",
          "Classics/3.9800000190734863/453.0",
          "Fantasy/4.260000228881836/456.0",
          "Fiction/3.9100000858306885/460.0",
          "Classics/3.859999895095825/464.0",
          "Fiction/4.139999866485596/465.0",
          "Classics/4.059999942779541/478.0",
          "Fantasy/4.329999923706055/481.0",
          "Fantasy/4.099999904632568/485.0",
          "Young Adult/4.199999809265137/487.0",
          "Fiction/4.269999980926514/487.0",
          "Classics/4.0/488.0",
          "Classics/3.8399999141693115/489.0",
          "Fiction/3.8499999046325684/489.0",
          "Fantasy/4.25/491.0",
          "Classics/4.269999980926514/496.0",
          "Fiction/3.9700000286102295/500.0",
          "Young Adult/3.5899999141693115/501.0",
          "Fantasy/3.9000000953674316/503.0",
          "Fiction/4.119999885559082/503.0",
          "Fiction/4.239999771118164/503.0",
          "Young Adult/4.340000152587891/503.0",
          "Classics/3.7799999713897705/505.0",
          "Historical/4.050000190734863/516.0",
          "Classics/3.799999952316284/518.0",
          "Classics/3.5/521.0",
          "Young Adult/4.03000020980835/525.0",
          "Fiction/4.010000228881836/529.0",
          "Classics/4.119999885559082/532.0",
          "Fiction/4.119999885559082/536.0",
          "Classics/3.7699999809265137/541.0",
          "Fiction/4.059999942779541/546.0",
          "Historical/4.369999885559082/552.0",
          "Fantasy/4.579999923706055/567.0",
          "Classics/3.869999885559082/608.0",
          "Fiction/4.090000152587891/610.0",
          "Classics/4.070000171661377/625.0",
          "Fantasy/4.110000133514404/635.0",
          "Fiction/4.230000019073486/637.0",
          "Fantasy/4.570000171661377/652.0",
          "Classics/3.5/654.0",
          "Horror/4.230000019073486/659.0",
          "Fantasy/4.539999961853027/662.0",
          "Cultural/4.21999979019165/671.0",
          "Science Fiction/4.230000019073486/688.0",
          "Fiction/4.230000019073486/692.0",
          "Fantasy/4.559999942779541/734.0",
          "Fantasy/4.619999885559082/759.0",
          "Fantasy/4.260000228881836/767.0",
          "Classics/3.7300000190734863/783.0",
          "Classics/4.320000171661377/796.0",
          "Classics/4.059999942779541/798.0",
          "Science Fiction/4.360000133514404/815.0",
          "Classics/4.380000114440918/821.0",
          "Fantasy/4.449999809265137/835.0",
          "Historical/4.230000019073486/850.0",
          "Fantasy/4.5/870.0",
          "Classics/3.990000009536743/882.0",
          "Fiction/4.489999771118164/960.0",
          "Classics/4.050000190734863/964.0",
          "Historical/4.320000171661377/976.0",
          "Fantasy/4.119999885559082/1009.0",
          "Classics/3.880000114440918/1023.0",
          "Classics/4.300000190734863/1037.0",
          "Horror/4.239999771118164/1116.0",
          "Horror/4.340000152587891/1153.0",
          "Young Adult/4.480000019073486/1155.0",
          "Classics/3.690000057220459/1168.0",
          "Fantasy/4.539999961853027/1177.0",
          "Classics/4.25/1276.0",
          "Classics/4.170000076293945/1463.0",
          "Fantasy/4.599999904632568/1728.0",
          "Classics/4.340000152587891/2700.0",
          "Classics/3.4100000858306885",
          "Classics/3.4200000762939453",
          "Classics/3.5",
          "Nonfiction/3.559999942779541",
          "Young Adult/3.5899999141693115",
          "Classics/3.619999885559082",
          "Romance/3.6600000858306885",
          "Classics/3.680000066757202",
          "Classics/3.690000057220459",
          "Classics/3.7300000190734863",
          "Classics/3.75",
          "Classics/3.7699999809265137",
          "Classics/3.7799999713897705",
          "Classics/3.799999952316284",
          "Classics/3.809999942779541",
          "Fiction/3.809999942779541",
          "Classics/3.819999933242798",
          "Classics/3.8299999237060547",
          "Classics/3.8399999141693115",
          "Fiction/3.8399999141693115",
          "Fiction/3.8499999046325684",
          "Classics/3.859999895095825",
          "Classics/3.869999885559082",
          "Fiction/3.869999885559082",
          "Classics/3.880000114440918",
          "Fiction/3.880000114440918",
          "Classics/3.890000104904175",
          "Fantasy/3.9000000953674316",
          "Classics/3.9100000858306885",
          "Fiction/3.9100000858306885",
          "Classics/3.9200000762939453",
          "Fiction/3.9200000762939453",
          "Classics/3.930000066757202",
          "Fiction/3.930000066757202",
          "Young Adult/3.930000066757202",
          "Classics/3.940000057220459",
          "Fiction/3.940000057220459",
          "Classics/3.950000047683716",
          "Fiction/3.9700000286102295",
          "Young Adult/3.9700000286102295",
          "Classics/3.9800000190734863",
          "Fantasy/3.9800000190734863",
          "Historical/3.9800000190734863",
          "Classics/3.990000009536743",
          "Classics/4.0",
          "Fantasy/4.0",
          "Horror/4.0",
          "Classics/4.010000228881836",
          "Fiction/4.010000228881836",
          "Young Adult/4.010000228881836",
          "Fiction/4.019999980926514",
          "Young Adult/4.019999980926514",
          "Classics/4.03000020980835",
          "Young Adult/4.03000020980835",
          "Classics/4.050000190734863",
          "Fiction/4.050000190734863",
          "Historical/4.050000190734863",
          "Classics/4.059999942779541",
          "Fiction/4.059999942779541",
          "Classics/4.070000171661377",
          "Nonfiction/4.070000171661377",
          "Classics/4.079999923706055",
          "Fiction/4.079999923706055",
          "Fiction/4.090000152587891",
          "Classics/4.099999904632568",
          "Fantasy/4.099999904632568",
          "Fiction/4.099999904632568",
          "Romance/4.099999904632568",
          "Fantasy/4.110000133514404",
          "Fiction/4.110000133514404",
          "Nonfiction/4.110000133514404",
          "Classics/4.119999885559082",
          "Fantasy/4.119999885559082",
          "Fiction/4.119999885559082",
          "Young Adult/4.119999885559082",
          "Fiction/4.130000114440918",
          "Young Adult/4.130000114440918",
          "Childrens/4.139999866485596",
          "Classics/4.139999866485596",
          "Fiction/4.139999866485596",
          "Childrens/4.170000076293945",
          "Classics/4.170000076293945",
          "Classics/4.179999828338623",
          "Fantasy/4.179999828338623",
          "Historical/4.179999828338623",
          "Romance/4.179999828338623",
          "Classics/4.190000057220459",
          "Fiction/4.190000057220459",
          "Young Adult/4.199999809265137",
          "Classics/4.210000038146973",
          "Fantasy/4.210000038146973",
          "Young Adult/4.210000038146973",
          "Childrens/4.21999979019165",
          "Cultural/4.21999979019165",
          "Fantasy/4.21999979019165",
          "Science Fiction/4.21999979019165",
          "Classics/4.230000019073486",
          "Fiction/4.230000019073486",
          "Historical/4.230000019073486",
          "Horror/4.230000019073486",
          "Poetry/4.230000019073486",
          "Science Fiction/4.230000019073486",
          "Fantasy/4.239999771118164",
          "Fiction/4.239999771118164",
          "Horror/4.239999771118164",
          "Classics/4.25",
          "Fantasy/4.25",
          "Classics/4.260000228881836",
          "Fantasy/4.260000228881836",
          "Mystery/4.260000228881836",
          "Classics/4.269999980926514",
          "Fantasy/4.269999980926514",
          "Fiction/4.269999980926514",
          "Childrens/4.28000020980835",
          "Classics/4.28000020980835",
          "Young Adult/4.28000020980835",
          "Fiction/4.289999961853027",
          "Childrens/4.300000190734863",
          "Classics/4.300000190734863",
          "Fiction/4.300000190734863",
          "Science Fiction/4.300000190734863",
          "Classics/4.309999942779541",
          "Childrens/4.320000171661377",
          "Classics/4.320000171661377",
          "Historical/4.320000171661377",
          "Fantasy/4.329999923706055",
          "Young Adult/4.329999923706055",
          "Classics/4.340000152587891",
          "Horror/4.340000152587891",
          "Young Adult/4.340000152587891",
          "Childrens/4.349999904632568",
          "Classics/4.349999904632568",
          "Fantasy/4.349999904632568",
          "Childrens/4.360000133514404",
          "Fantasy/4.360000133514404",
          "Science Fiction/4.360000133514404",
          "Sequential Art/4.360000133514404",
          "Young Adult/4.360000133514404",
          "Childrens/4.369999885559082",
          "Fiction/4.369999885559082",
          "Historical/4.369999885559082",
          "Childrens/4.380000114440918",
          "Classics/4.380000114440918",
          "Fantasy/4.400000095367432",
          "Fantasy/4.429999828338623",
          "Plays/4.440000057220459",
          "Fantasy/4.449999809265137",
          "Fantasy/4.46999979019165",
          "Fiction/4.46999979019165",
          "Young Adult/4.480000019073486",
          "Fiction/4.489999771118164",
          "Fantasy/4.5",
          "Fantasy/4.510000228881836",
          "Fantasy/4.539999961853027",
          "Fantasy/4.559999942779541",
          "Fantasy/4.570000171661377",
          "Fantasy/4.579999923706055",
          "Fantasy/4.599999904632568",
          "Fantasy/4.619999885559082",
          "Childrens",
          "Classics",
          "Cultural",
          "Fantasy",
          "Fiction",
          "Historical",
          "Horror",
          "Mystery",
          "Nonfiction",
          "Plays",
          "Poetry",
          "Romance",
          "Science Fiction",
          "Sequential Art",
          "Young Adult"
         ],
         "labels": [
          "26.0",
          "32.0",
          "37.0",
          "44.0",
          "61.0",
          "62.0",
          "64.0",
          "64.0",
          "72.0",
          "76.0",
          "92.0",
          "93.0",
          "96.0",
          "103.0",
          "112.0",
          "123.0",
          "127.0",
          "137.0",
          "141.0",
          "145.0",
          "152.0",
          "154.0",
          "172.0",
          "176.0",
          "176.0",
          "182.0",
          "182.0",
          "184.0",
          "188.0",
          "190.0",
          "192.0",
          "193.0",
          "194.0",
          "196.0",
          "200.0",
          "201.0",
          "206.0",
          "208.0",
          "210.0",
          "213.0",
          "215.0",
          "216.0",
          "218.0",
          "218.0",
          "219.0",
          "221.0",
          "226.0",
          "227.0",
          "233.0",
          "237.0",
          "239.0",
          "240.0",
          "240.0",
          "240.0",
          "241.0",
          "244.0",
          "256.0",
          "263.0",
          "264.0",
          "272.0",
          "275.0",
          "277.0",
          "279.0",
          "279.0",
          "279.0",
          "288.0",
          "288.0",
          "288.0",
          "293.0",
          "294.0",
          "296.0",
          "302.0",
          "304.0",
          "307.0",
          "309.0",
          "311.0",
          "313.0",
          "314.0",
          "320.0",
          "320.0",
          "320.0",
          "324.0",
          "324.0",
          "325.0",
          "327.0",
          "327.0",
          "329.0",
          "331.0",
          "331.0",
          "332.0",
          "335.0",
          "335.0",
          "336.0",
          "341.0",
          "342.0",
          "343.0",
          "348.0",
          "351.0",
          "352.0",
          "356.0",
          "361.0",
          "366.0",
          "368.0",
          "368.0",
          "371.0",
          "372.0",
          "372.0",
          "374.0",
          "375.0",
          "381.0",
          "384.0",
          "389.0",
          "391.0",
          "396.0",
          "398.0",
          "399.0",
          "416.0",
          "417.0",
          "418.0",
          "423.0",
          "435.0",
          "443.0",
          "448.0",
          "449.0",
          "449.0",
          "451.0",
          "452.0",
          "453.0",
          "456.0",
          "460.0",
          "464.0",
          "465.0",
          "478.0",
          "481.0",
          "485.0",
          "487.0",
          "487.0",
          "488.0",
          "489.0",
          "489.0",
          "491.0",
          "496.0",
          "500.0",
          "501.0",
          "503.0",
          "503.0",
          "503.0",
          "503.0",
          "505.0",
          "516.0",
          "518.0",
          "521.0",
          "525.0",
          "529.0",
          "532.0",
          "536.0",
          "541.0",
          "546.0",
          "552.0",
          "567.0",
          "608.0",
          "610.0",
          "625.0",
          "635.0",
          "637.0",
          "652.0",
          "654.0",
          "659.0",
          "662.0",
          "671.0",
          "688.0",
          "692.0",
          "734.0",
          "759.0",
          "767.0",
          "783.0",
          "796.0",
          "798.0",
          "815.0",
          "821.0",
          "835.0",
          "850.0",
          "870.0",
          "882.0",
          "960.0",
          "964.0",
          "976.0",
          "1009.0",
          "1023.0",
          "1037.0",
          "1116.0",
          "1153.0",
          "1155.0",
          "1168.0",
          "1177.0",
          "1276.0",
          "1463.0",
          "1728.0",
          "2700.0",
          "3.4100000858306885",
          "3.4200000762939453",
          "3.5",
          "3.559999942779541",
          "3.5899999141693115",
          "3.619999885559082",
          "3.6600000858306885",
          "3.680000066757202",
          "3.690000057220459",
          "3.7300000190734863",
          "3.75",
          "3.7699999809265137",
          "3.7799999713897705",
          "3.799999952316284",
          "3.809999942779541",
          "3.809999942779541",
          "3.819999933242798",
          "3.8299999237060547",
          "3.8399999141693115",
          "3.8399999141693115",
          "3.8499999046325684",
          "3.859999895095825",
          "3.869999885559082",
          "3.869999885559082",
          "3.880000114440918",
          "3.880000114440918",
          "3.890000104904175",
          "3.9000000953674316",
          "3.9100000858306885",
          "3.9100000858306885",
          "3.9200000762939453",
          "3.9200000762939453",
          "3.930000066757202",
          "3.930000066757202",
          "3.930000066757202",
          "3.940000057220459",
          "3.940000057220459",
          "3.950000047683716",
          "3.9700000286102295",
          "3.9700000286102295",
          "3.9800000190734863",
          "3.9800000190734863",
          "3.9800000190734863",
          "3.990000009536743",
          "4.0",
          "4.0",
          "4.0",
          "4.010000228881836",
          "4.010000228881836",
          "4.010000228881836",
          "4.019999980926514",
          "4.019999980926514",
          "4.03000020980835",
          "4.03000020980835",
          "4.050000190734863",
          "4.050000190734863",
          "4.050000190734863",
          "4.059999942779541",
          "4.059999942779541",
          "4.070000171661377",
          "4.070000171661377",
          "4.079999923706055",
          "4.079999923706055",
          "4.090000152587891",
          "4.099999904632568",
          "4.099999904632568",
          "4.099999904632568",
          "4.099999904632568",
          "4.110000133514404",
          "4.110000133514404",
          "4.110000133514404",
          "4.119999885559082",
          "4.119999885559082",
          "4.119999885559082",
          "4.119999885559082",
          "4.130000114440918",
          "4.130000114440918",
          "4.139999866485596",
          "4.139999866485596",
          "4.139999866485596",
          "4.170000076293945",
          "4.170000076293945",
          "4.179999828338623",
          "4.179999828338623",
          "4.179999828338623",
          "4.179999828338623",
          "4.190000057220459",
          "4.190000057220459",
          "4.199999809265137",
          "4.210000038146973",
          "4.210000038146973",
          "4.210000038146973",
          "4.21999979019165",
          "4.21999979019165",
          "4.21999979019165",
          "4.21999979019165",
          "4.230000019073486",
          "4.230000019073486",
          "4.230000019073486",
          "4.230000019073486",
          "4.230000019073486",
          "4.230000019073486",
          "4.239999771118164",
          "4.239999771118164",
          "4.239999771118164",
          "4.25",
          "4.25",
          "4.260000228881836",
          "4.260000228881836",
          "4.260000228881836",
          "4.269999980926514",
          "4.269999980926514",
          "4.269999980926514",
          "4.28000020980835",
          "4.28000020980835",
          "4.28000020980835",
          "4.289999961853027",
          "4.300000190734863",
          "4.300000190734863",
          "4.300000190734863",
          "4.300000190734863",
          "4.309999942779541",
          "4.320000171661377",
          "4.320000171661377",
          "4.320000171661377",
          "4.329999923706055",
          "4.329999923706055",
          "4.340000152587891",
          "4.340000152587891",
          "4.340000152587891",
          "4.349999904632568",
          "4.349999904632568",
          "4.349999904632568",
          "4.360000133514404",
          "4.360000133514404",
          "4.360000133514404",
          "4.360000133514404",
          "4.360000133514404",
          "4.369999885559082",
          "4.369999885559082",
          "4.369999885559082",
          "4.380000114440918",
          "4.380000114440918",
          "4.400000095367432",
          "4.429999828338623",
          "4.440000057220459",
          "4.449999809265137",
          "4.46999979019165",
          "4.46999979019165",
          "4.480000019073486",
          "4.489999771118164",
          "4.5",
          "4.510000228881836",
          "4.539999961853027",
          "4.559999942779541",
          "4.570000171661377",
          "4.579999923706055",
          "4.599999904632568",
          "4.619999885559082",
          "Childrens",
          "Classics",
          "Cultural",
          "Fantasy",
          "Fiction",
          "Historical",
          "Horror",
          "Mystery",
          "Nonfiction",
          "Plays",
          "Poetry",
          "Romance",
          "Science Fiction",
          "Sequential Art",
          "Young Adult"
         ],
         "marker": {
          "coloraxis": "coloraxis",
          "colors": [
           7757,
           5733,
           11582,
           5159,
           5706,
           9213,
           3148,
           17383,
           4015,
           8958,
           5348,
           37961,
           24262,
           33216,
           7699,
           22355,
           9210,
           131,
           53727,
           4620,
           16870,
           12360,
           10718,
           10960,
           11609,
           36308,
           77833,
           17582,
           13524,
           12142,
           32371,
           29116,
           46138,
           20266,
           65562,
           16730,
           21084,
           64335,
           25292,
           56444,
           12923,
           17626,
           33462,
           14142,
           12989,
           55438,
           43483,
           19737,
           20053,
           67126,
           10329,
           7877,
           13391,
           15965,
           45022,
           9703,
           10072,
           13958,
           31315,
           26748.34375,
           26286,
           56039,
           14430,
           25957,
           64576,
           31839,
           9028,
           29098,
           9414,
           22362,
           10148,
           30087,
           14486,
           14650,
           108719,
           11290,
           154147,
           68523,
           14870,
           21749,
           20185,
           89315,
           42842,
           10621,
           15210,
           11198,
           10283,
           23929,
           18086,
           21932,
           58529,
           11056,
           19051,
           50944,
           9963,
           16163,
           19624,
           17042,
           51526,
           78264,
           18462,
           47030,
           53447,
           18923,
           72086,
           40122,
           52897,
           170045,
           58892,
           22532,
           55211,
           6547,
           24568,
           6326,
           21719,
           21641,
           13783,
           29606,
           9706,
           33215,
           53478,
           11174,
           8398,
           29427,
           22191,
           84130,
           11734,
           17852,
           19780,
           46826,
           35775,
           68102,
           13441,
           30753,
           60683,
           107502,
           34326,
           24661,
           17044,
           46500,
           26623,
           20191,
           46900,
           102549,
           21760,
           29573,
           33898,
           9705,
           15616,
           6448,
           8497,
           3244,
           58483,
           22956,
           40921,
           8608,
           11881,
           22953,
           111235,
           29081,
           7294,
           5381,
           6589,
           37874,
           13594,
           38090,
           15165,
           23558,
           40786,
           18325,
           20979,
           5838,
           44868,
           63849,
           10182,
           6610,
           10667,
           3724,
           5206,
           2169,
           53906,
           44736,
           40814,
           6329,
           7292,
           23342,
           30725,
           6630,
           7800,
           19462,
           24494,
           19607,
           6827,
           17066,
           21969,
           20645,
           17104,
           1737,
           2168,
           14430,
           13524,
           11969.3505859375,
           53447,
           102549,
           14650,
           78264,
           33846.578125,
           17066,
           6610,
           18923,
           11881,
           18990.8046875,
           27863.421875,
           50962.73828125,
           40122,
           15532.431640625,
           11290,
           17044,
           7699,
           46500,
           35775,
           28549.958984375,
           77833,
           7800,
           43483,
           23929,
           21760,
           9703,
           41891.16015625,
           65562,
           19624,
           12989,
           9028,
           51526,
           53727,
           20266,
           7877,
           46316.59375,
           22369.06640625,
           17813.326171875,
           21641,
           10148,
           31927.603515625,
           24661,
           33462,
           9963,
           22362,
           22956,
           12142,
           13958,
           55211,
           14201.1220703125,
           56739.9140625,
           23342,
           30087,
           6448,
           10637.232421875,
           22953,
           20765.453125,
           16163,
           27441.748046875,
           30891.875,
           51445.86328125,
           32371,
           60683,
           14870,
           19737,
           37874,
           68523,
           16041.8935546875,
           40921,
           6630,
           26793.748046875,
           21932,
           17626,
           64335,
           11609,
           18086,
           68102,
           5706,
           17321.919921875,
           53063.4296875,
           6326,
           19051,
           12923,
           10621,
           14142,
           82602.40625,
           14486,
           10072,
           154147,
           11582,
           18325,
           21084,
           29116,
           22191,
           10994.2373046875,
           44736,
           23558,
           9210,
           20979,
           25957,
           33898,
           24494,
           20645,
           54479.47265625,
           53412.1953125,
           13320.2021484375,
           31315,
           20191,
           47030,
           34326,
           5733,
           89315,
           11198,
           11056,
           8898.736328125,
           16152.875,
           72086,
           42842,
           37961,
           15965,
           10667,
           30725,
           30753,
           170045,
           2168,
           19607,
           9705,
           4015,
           4620,
           20185,
           5159,
           21719,
           5206,
           13783,
           11174,
           3148,
           44853.51171875,
           111235,
           17383,
           2169,
           18462,
           50944,
           131,
           53906,
           108719,
           84130,
           6827,
           7292,
           40814,
           22532,
           34623.69140625,
           44868,
           47264.06640625,
           29081,
           1737,
           63849,
           12350.21875,
           32761.671875,
           18325,
           36911.74609375,
           44114.015625,
           74477.296875,
           18640.283203125,
           31315,
           21654.74609375,
           131,
           9210,
           28848.470703125,
           30984.591796875,
           13783,
           114852.9296875
          ]
         },
         "name": "",
         "parents": [
          "Childrens/4.300000190734863",
          "Childrens/4.28000020980835",
          "Childrens/4.21999979019165",
          "Childrens/4.360000133514404",
          "Childrens/4.170000076293945",
          "Childrens/4.300000190734863",
          "Childrens/4.369999885559082",
          "Childrens/4.380000114440918",
          "Childrens/4.349999904632568",
          "Classics/4.179999828338623",
          "Classics/4.03000020980835",
          "Classics/4.309999942779541",
          "Classics/3.7799999713897705",
          "Classics/3.869999885559082",
          "Fiction/3.8399999141693115",
          "Classics/3.9800000190734863",
          "Poetry/4.230000019073486",
          "Plays/4.440000057220459",
          "Classics/3.940000057220459",
          "Classics/4.349999904632568",
          "Classics/4.03000020980835",
          "Classics/3.990000009536743",
          "Classics/3.869999885559082",
          "Classics/4.070000171661377",
          "Childrens/4.139999866485596",
          "Classics/3.680000066757202",
          "Fiction/3.869999885559082",
          "Classics/4.170000076293945",
          "Classics/3.4200000762939453",
          "Young Adult/4.010000228881836",
          "Classics/4.099999904632568",
          "Science Fiction/4.21999979019165",
          "Classics/3.990000009536743",
          "Fiction/3.940000057220459",
          "Classics/3.9200000762939453",
          "Classics/3.819999933242798",
          "Fantasy/4.21999979019165",
          "Young Adult/4.130000114440918",
          "Nonfiction/4.110000133514404",
          "Young Adult/4.199999809265137",
          "Romance/4.179999828338623",
          "Fiction/4.130000114440918",
          "Fantasy/4.0",
          "Fiction/4.190000057220459",
          "Classics/3.930000066757202",
          "Young Adult/4.03000020980835",
          "Fiction/3.880000114440918",
          "Romance/4.099999904632568",
          "Young Adult/3.9700000286102295",
          "Classics/4.179999828338623",
          "Classics/4.059999942779541",
          "Classics/3.950000047683716",
          "Classics/3.990000009536743",
          "Childrens/4.320000171661377",
          "Fiction/3.9700000286102295",
          "Classics/3.9100000858306885",
          "Fantasy/4.210000038146973",
          "Fiction/4.019999980926514",
          "Mystery/4.260000228881836",
          "Classics/4.079999923706055",
          "Classics/4.070000171661377",
          "Classics/3.809999942779541",
          "Classics/3.4100000858306885",
          "Fantasy/4.239999771118164",
          "Classics/4.260000228881836",
          "Classics/3.799999952316284",
          "Fiction/3.930000066757202",
          "Classics/3.990000009536743",
          "Classics/3.809999942779541",
          "Classics/4.010000228881836",
          "Historical/3.9800000190734863",
          "Fiction/4.050000190734863",
          "Classics/4.210000038146973",
          "Classics/3.619999885559082",
          "Fantasy/4.46999979019165",
          "Classics/3.8299999237060547",
          "Young Adult/4.210000038146973",
          "Fiction/4.110000133514404",
          "Fiction/4.099999904632568",
          "Classics/4.260000228881836",
          "Fantasy/4.349999904632568",
          "Classics/4.28000020980835",
          "Science Fiction/4.300000190734863",
          "Classics/4.190000057220459",
          "Classics/3.819999933242798",
          "Young Adult/4.28000020980835",
          "Classics/3.680000066757202",
          "Classics/3.890000104904175",
          "Classics/4.139999866485596",
          "Young Adult/4.119999885559082",
          "Fiction/4.090000152587891",
          "Fiction/4.289999961853027",
          "Historical/4.179999828338623",
          "Fantasy/4.429999828338623",
          "Horror/4.0",
          "Nonfiction/4.070000171661377",
          "Fiction/3.9200000762939453",
          "Fiction/3.9100000858306885",
          "Young Adult/3.930000066757202",
          "Romance/3.6600000858306885",
          "Fantasy/4.400000095367432",
          "Fantasy/4.269999980926514",
          "Nonfiction/3.559999942779541",
          "Classics/3.75",
          "Fiction/4.300000190734863",
          "Fiction/3.809999942779541",
          "Fiction/4.369999885559082",
          "Young Adult/4.329999923706055",
          "Fantasy/4.25",
          "Fantasy/4.510000228881836",
          "Young Adult/4.019999980926514",
          "Classics/4.300000190734863",
          "Young Adult/3.9700000286102295",
          "Fantasy/4.179999828338623",
          "Fantasy/4.360000133514404",
          "Fantasy/3.9800000190734863",
          "Sequential Art/4.360000133514404",
          "Fiction/4.079999923706055",
          "Classics/3.9800000190734863",
          "Fiction/4.079999923706055",
          "Fantasy/4.570000171661377",
          "Young Adult/4.360000133514404",
          "Fiction/4.369999885559082",
          "Classics/4.079999923706055",
          "Classics/4.230000019073486",
          "Fiction/4.46999979019165",
          "Nonfiction/4.110000133514404",
          "Classics/3.9800000190734863",
          "Fantasy/4.260000228881836",
          "Fiction/3.9100000858306885",
          "Classics/3.859999895095825",
          "Fiction/4.139999866485596",
          "Classics/4.059999942779541",
          "Fantasy/4.329999923706055",
          "Fantasy/4.099999904632568",
          "Young Adult/4.199999809265137",
          "Fiction/4.269999980926514",
          "Classics/4.0",
          "Classics/3.8399999141693115",
          "Fiction/3.8499999046325684",
          "Fantasy/4.25",
          "Classics/4.269999980926514",
          "Fiction/3.9700000286102295",
          "Young Adult/3.5899999141693115",
          "Fantasy/3.9000000953674316",
          "Fiction/4.119999885559082",
          "Fiction/4.239999771118164",
          "Young Adult/4.340000152587891",
          "Classics/3.7799999713897705",
          "Historical/4.050000190734863",
          "Classics/3.799999952316284",
          "Classics/3.5",
          "Young Adult/4.03000020980835",
          "Fiction/4.010000228881836",
          "Classics/4.119999885559082",
          "Fiction/4.119999885559082",
          "Classics/3.7699999809265137",
          "Fiction/4.059999942779541",
          "Historical/4.369999885559082",
          "Fantasy/4.579999923706055",
          "Classics/3.869999885559082",
          "Fiction/4.090000152587891",
          "Classics/4.070000171661377",
          "Fantasy/4.110000133514404",
          "Fiction/4.230000019073486",
          "Fantasy/4.570000171661377",
          "Classics/3.5",
          "Horror/4.230000019073486",
          "Fantasy/4.539999961853027",
          "Cultural/4.21999979019165",
          "Science Fiction/4.230000019073486",
          "Fiction/4.230000019073486",
          "Fantasy/4.559999942779541",
          "Fantasy/4.619999885559082",
          "Fantasy/4.260000228881836",
          "Classics/3.7300000190734863",
          "Classics/4.320000171661377",
          "Classics/4.059999942779541",
          "Science Fiction/4.360000133514404",
          "Classics/4.380000114440918",
          "Fantasy/4.449999809265137",
          "Historical/4.230000019073486",
          "Fantasy/4.5",
          "Classics/3.990000009536743",
          "Fiction/4.489999771118164",
          "Classics/4.050000190734863",
          "Historical/4.320000171661377",
          "Fantasy/4.119999885559082",
          "Classics/3.880000114440918",
          "Classics/4.300000190734863",
          "Horror/4.239999771118164",
          "Horror/4.340000152587891",
          "Young Adult/4.480000019073486",
          "Classics/3.690000057220459",
          "Fantasy/4.539999961853027",
          "Classics/4.25",
          "Classics/4.170000076293945",
          "Fantasy/4.599999904632568",
          "Classics/4.340000152587891",
          "Classics",
          "Classics",
          "Classics",
          "Nonfiction",
          "Young Adult",
          "Classics",
          "Romance",
          "Classics",
          "Classics",
          "Classics",
          "Classics",
          "Classics",
          "Classics",
          "Classics",
          "Classics",
          "Fiction",
          "Classics",
          "Classics",
          "Classics",
          "Fiction",
          "Fiction",
          "Classics",
          "Classics",
          "Fiction",
          "Classics",
          "Fiction",
          "Classics",
          "Fantasy",
          "Classics",
          "Fiction",
          "Classics",
          "Fiction",
          "Classics",
          "Fiction",
          "Young Adult",
          "Classics",
          "Fiction",
          "Classics",
          "Fiction",
          "Young Adult",
          "Classics",
          "Fantasy",
          "Historical",
          "Classics",
          "Classics",
          "Fantasy",
          "Horror",
          "Classics",
          "Fiction",
          "Young Adult",
          "Fiction",
          "Young Adult",
          "Classics",
          "Young Adult",
          "Classics",
          "Fiction",
          "Historical",
          "Classics",
          "Fiction",
          "Classics",
          "Nonfiction",
          "Classics",
          "Fiction",
          "Fiction",
          "Classics",
          "Fantasy",
          "Fiction",
          "Romance",
          "Fantasy",
          "Fiction",
          "Nonfiction",
          "Classics",
          "Fantasy",
          "Fiction",
          "Young Adult",
          "Fiction",
          "Young Adult",
          "Childrens",
          "Classics",
          "Fiction",
          "Childrens",
          "Classics",
          "Classics",
          "Fantasy",
          "Historical",
          "Romance",
          "Classics",
          "Fiction",
          "Young Adult",
          "Classics",
          "Fantasy",
          "Young Adult",
          "Childrens",
          "Cultural",
          "Fantasy",
          "Science Fiction",
          "Classics",
          "Fiction",
          "Historical",
          "Horror",
          "Poetry",
          "Science Fiction",
          "Fantasy",
          "Fiction",
          "Horror",
          "Classics",
          "Fantasy",
          "Classics",
          "Fantasy",
          "Mystery",
          "Classics",
          "Fantasy",
          "Fiction",
          "Childrens",
          "Classics",
          "Young Adult",
          "Fiction",
          "Childrens",
          "Classics",
          "Fiction",
          "Science Fiction",
          "Classics",
          "Childrens",
          "Classics",
          "Historical",
          "Fantasy",
          "Young Adult",
          "Classics",
          "Horror",
          "Young Adult",
          "Childrens",
          "Classics",
          "Fantasy",
          "Childrens",
          "Fantasy",
          "Science Fiction",
          "Sequential Art",
          "Young Adult",
          "Childrens",
          "Fiction",
          "Historical",
          "Childrens",
          "Classics",
          "Fantasy",
          "Fantasy",
          "Plays",
          "Fantasy",
          "Fantasy",
          "Fiction",
          "Young Adult",
          "Fiction",
          "Fantasy",
          "Fantasy",
          "Fantasy",
          "Fantasy",
          "Fantasy",
          "Fantasy",
          "Fantasy",
          "Fantasy",
          "",
          "",
          "",
          "",
          "",
          "",
          "",
          "",
          "",
          "",
          "",
          "",
          "",
          "",
          ""
         ],
         "type": "sunburst",
         "values": [
          136099,
          93594,
          500084,
          78581,
          119105,
          494454,
          97421,
          1012906,
          91422,
          96502,
          81357,
          667801,
          231988,
          661644,
          80428,
          154101,
          86107,
          107208,
          1254646,
          214892,
          269875,
          94311,
          80728,
          112790,
          142672,
          763871,
          756045,
          674122,
          87350,
          78651,
          500896,
          1051584,
          776441,
          124365,
          735974,
          138366,
          116229,
          407741,
          134727,
          745849,
          104000,
          140293,
          557851,
          124306,
          95935,
          138476,
          136405,
          226072,
          117707,
          302666,
          825361,
          86322,
          300770,
          332753,
          298860,
          146074,
          79514,
          117183,
          157462,
          976340,
          443537,
          592792,
          127546,
          82179,
          1943333,
          431431,
          81866,
          628124,
          72425,
          345857,
          112021,
          178535,
          315226,
          140043,
          656658,
          76055,
          1071730,
          410255,
          134219,
          685180,
          82114,
          2236599,
          716242,
          346817,
          513916,
          94220,
          79793,
          458778,
          578618,
          275064,
          472229,
          149737,
          180776,
          126195,
          205132,
          124873,
          105742,
          96523,
          71255,
          75201,
          85391,
          104050,
          96430,
          764093,
          427893,
          508584,
          574655,
          2959964,
          573704,
          114013,
          77791,
          372926,
          123977,
          76535,
          332424,
          252048,
          114982,
          613149,
          88258,
          339385,
          230240,
          104804,
          126791,
          341014,
          328317,
          710452,
          289292,
          404912,
          595711,
          486037,
          967025,
          335240,
          369367,
          171602,
          712966,
          783556,
          137744,
          636882,
          483867,
          867538,
          90876,
          307985,
          663179,
          1452749,
          143209,
          857139,
          78299,
          89603,
          362348,
          75143,
          88565,
          73653,
          103428,
          156279,
          813139,
          130993,
          489144,
          270086,
          1344286,
          84072,
          77518,
          72612,
          94707,
          118212,
          205955,
          155950,
          201101,
          148345,
          149062,
          748863,
          400992,
          103842,
          172235,
          333937,
          1226235,
          77032,
          296436,
          113003,
          97586,
          214007,
          555269,
          337937,
          2604164,
          71703,
          119139,
          342479,
          389106,
          84720,
          250997,
          1082546,
          115514,
          387169,
          78030,
          247498,
          72587,
          116723,
          804544,
          1140255,
          114155,
          127546,
          87350,
          274754,
          96430,
          1452749,
          140043,
          75201,
          843664,
          247498,
          77032,
          764093,
          489144,
          594336,
          519996,
          665217,
          508584,
          652282,
          76055,
          483867,
          80428,
          867538,
          967025,
          819890,
          756045,
          250997,
          136405,
          458778,
          143209,
          146074,
          582560,
          735974,
          105742,
          95935,
          81866,
          71255,
          1254646,
          124365,
          86322,
          962039,
          241684,
          647271,
          252048,
          112021,
          1871349,
          636882,
          557851,
          205132,
          345857,
          156279,
          78651,
          117183,
          77791,
          351232,
          241904,
          342479,
          178535,
          75143,
          1307731,
          270086,
          651034,
          124873,
          1317354,
          952534,
          544841,
          500896,
          712966,
          134219,
          226072,
          118212,
          410255,
          424019,
          813139,
          84720,
          988132,
          275064,
          140293,
          407741,
          142672,
          578618,
          335240,
          119105,
          1478666,
          399168,
          76535,
          180776,
          104000,
          346817,
          124306,
          1529405,
          315226,
          79514,
          1071730,
          500084,
          748863,
          116229,
          1051584,
          328317,
          309797,
          337937,
          148345,
          86107,
          400992,
          82179,
          78299,
          115514,
          116723,
          664580,
          2628513,
          1821946,
          157462,
          307985,
          104050,
          137744,
          93594,
          2236599,
          94220,
          149737,
          630553,
          1455472,
          427893,
          716242,
          667801,
          332753,
          296436,
          389106,
          171602,
          2959964,
          114155,
          387169,
          89603,
          91422,
          214892,
          82114,
          78581,
          332424,
          97586,
          114982,
          104804,
          97421,
          701446,
          1344286,
          1012906,
          214007,
          85391,
          126195,
          107208,
          555269,
          656658,
          710452,
          78030,
          119139,
          2604164,
          114013,
          221649,
          172235,
          386190,
          84072,
          1140255,
          333937,
          3099091,
          31343137,
          748863,
          11880207,
          11191982,
          2439269,
          856160,
          157462,
          645322,
          107208,
          86107,
          405273,
          2266404,
          114982,
          8774595
         ]
        }
       ],
       "layout": {
        "coloraxis": {
         "colorbar": {
          "title": {
           "text": "review_count"
          }
         },
         "colorscale": [
          [
           0,
           "#0d0887"
          ],
          [
           0.1111111111111111,
           "#46039f"
          ],
          [
           0.2222222222222222,
           "#7201a8"
          ],
          [
           0.3333333333333333,
           "#9c179e"
          ],
          [
           0.4444444444444444,
           "#bd3786"
          ],
          [
           0.5555555555555556,
           "#d8576b"
          ],
          [
           0.6666666666666666,
           "#ed7953"
          ],
          [
           0.7777777777777778,
           "#fb9f3a"
          ],
          [
           0.8888888888888888,
           "#fdca26"
          ],
          [
           1,
           "#f0f921"
          ]
         ]
        },
        "legend": {
         "tracegroupgap": 0
        },
        "margin": {
         "t": 60
        },
        "template": {
         "data": {
          "bar": [
           {
            "error_x": {
             "color": "#2a3f5f"
            },
            "error_y": {
             "color": "#2a3f5f"
            },
            "marker": {
             "line": {
              "color": "#E5ECF6",
              "width": 0.5
             }
            },
            "type": "bar"
           }
          ],
          "barpolar": [
           {
            "marker": {
             "line": {
              "color": "#E5ECF6",
              "width": 0.5
             }
            },
            "type": "barpolar"
           }
          ],
          "carpet": [
           {
            "aaxis": {
             "endlinecolor": "#2a3f5f",
             "gridcolor": "white",
             "linecolor": "white",
             "minorgridcolor": "white",
             "startlinecolor": "#2a3f5f"
            },
            "baxis": {
             "endlinecolor": "#2a3f5f",
             "gridcolor": "white",
             "linecolor": "white",
             "minorgridcolor": "white",
             "startlinecolor": "#2a3f5f"
            },
            "type": "carpet"
           }
          ],
          "choropleth": [
           {
            "colorbar": {
             "outlinewidth": 0,
             "ticks": ""
            },
            "type": "choropleth"
           }
          ],
          "contour": [
           {
            "colorbar": {
             "outlinewidth": 0,
             "ticks": ""
            },
            "colorscale": [
             [
              0,
              "#0d0887"
             ],
             [
              0.1111111111111111,
              "#46039f"
             ],
             [
              0.2222222222222222,
              "#7201a8"
             ],
             [
              0.3333333333333333,
              "#9c179e"
             ],
             [
              0.4444444444444444,
              "#bd3786"
             ],
             [
              0.5555555555555556,
              "#d8576b"
             ],
             [
              0.6666666666666666,
              "#ed7953"
             ],
             [
              0.7777777777777778,
              "#fb9f3a"
             ],
             [
              0.8888888888888888,
              "#fdca26"
             ],
             [
              1,
              "#f0f921"
             ]
            ],
            "type": "contour"
           }
          ],
          "contourcarpet": [
           {
            "colorbar": {
             "outlinewidth": 0,
             "ticks": ""
            },
            "type": "contourcarpet"
           }
          ],
          "heatmap": [
           {
            "colorbar": {
             "outlinewidth": 0,
             "ticks": ""
            },
            "colorscale": [
             [
              0,
              "#0d0887"
             ],
             [
              0.1111111111111111,
              "#46039f"
             ],
             [
              0.2222222222222222,
              "#7201a8"
             ],
             [
              0.3333333333333333,
              "#9c179e"
             ],
             [
              0.4444444444444444,
              "#bd3786"
             ],
             [
              0.5555555555555556,
              "#d8576b"
             ],
             [
              0.6666666666666666,
              "#ed7953"
             ],
             [
              0.7777777777777778,
              "#fb9f3a"
             ],
             [
              0.8888888888888888,
              "#fdca26"
             ],
             [
              1,
              "#f0f921"
             ]
            ],
            "type": "heatmap"
           }
          ],
          "heatmapgl": [
           {
            "colorbar": {
             "outlinewidth": 0,
             "ticks": ""
            },
            "colorscale": [
             [
              0,
              "#0d0887"
             ],
             [
              0.1111111111111111,
              "#46039f"
             ],
             [
              0.2222222222222222,
              "#7201a8"
             ],
             [
              0.3333333333333333,
              "#9c179e"
             ],
             [
              0.4444444444444444,
              "#bd3786"
             ],
             [
              0.5555555555555556,
              "#d8576b"
             ],
             [
              0.6666666666666666,
              "#ed7953"
             ],
             [
              0.7777777777777778,
              "#fb9f3a"
             ],
             [
              0.8888888888888888,
              "#fdca26"
             ],
             [
              1,
              "#f0f921"
             ]
            ],
            "type": "heatmapgl"
           }
          ],
          "histogram": [
           {
            "marker": {
             "colorbar": {
              "outlinewidth": 0,
              "ticks": ""
             }
            },
            "type": "histogram"
           }
          ],
          "histogram2d": [
           {
            "colorbar": {
             "outlinewidth": 0,
             "ticks": ""
            },
            "colorscale": [
             [
              0,
              "#0d0887"
             ],
             [
              0.1111111111111111,
              "#46039f"
             ],
             [
              0.2222222222222222,
              "#7201a8"
             ],
             [
              0.3333333333333333,
              "#9c179e"
             ],
             [
              0.4444444444444444,
              "#bd3786"
             ],
             [
              0.5555555555555556,
              "#d8576b"
             ],
             [
              0.6666666666666666,
              "#ed7953"
             ],
             [
              0.7777777777777778,
              "#fb9f3a"
             ],
             [
              0.8888888888888888,
              "#fdca26"
             ],
             [
              1,
              "#f0f921"
             ]
            ],
            "type": "histogram2d"
           }
          ],
          "histogram2dcontour": [
           {
            "colorbar": {
             "outlinewidth": 0,
             "ticks": ""
            },
            "colorscale": [
             [
              0,
              "#0d0887"
             ],
             [
              0.1111111111111111,
              "#46039f"
             ],
             [
              0.2222222222222222,
              "#7201a8"
             ],
             [
              0.3333333333333333,
              "#9c179e"
             ],
             [
              0.4444444444444444,
              "#bd3786"
             ],
             [
              0.5555555555555556,
              "#d8576b"
             ],
             [
              0.6666666666666666,
              "#ed7953"
             ],
             [
              0.7777777777777778,
              "#fb9f3a"
             ],
             [
              0.8888888888888888,
              "#fdca26"
             ],
             [
              1,
              "#f0f921"
             ]
            ],
            "type": "histogram2dcontour"
           }
          ],
          "mesh3d": [
           {
            "colorbar": {
             "outlinewidth": 0,
             "ticks": ""
            },
            "type": "mesh3d"
           }
          ],
          "parcoords": [
           {
            "line": {
             "colorbar": {
              "outlinewidth": 0,
              "ticks": ""
             }
            },
            "type": "parcoords"
           }
          ],
          "pie": [
           {
            "automargin": true,
            "type": "pie"
           }
          ],
          "scatter": [
           {
            "marker": {
             "colorbar": {
              "outlinewidth": 0,
              "ticks": ""
             }
            },
            "type": "scatter"
           }
          ],
          "scatter3d": [
           {
            "line": {
             "colorbar": {
              "outlinewidth": 0,
              "ticks": ""
             }
            },
            "marker": {
             "colorbar": {
              "outlinewidth": 0,
              "ticks": ""
             }
            },
            "type": "scatter3d"
           }
          ],
          "scattercarpet": [
           {
            "marker": {
             "colorbar": {
              "outlinewidth": 0,
              "ticks": ""
             }
            },
            "type": "scattercarpet"
           }
          ],
          "scattergeo": [
           {
            "marker": {
             "colorbar": {
              "outlinewidth": 0,
              "ticks": ""
             }
            },
            "type": "scattergeo"
           }
          ],
          "scattergl": [
           {
            "marker": {
             "colorbar": {
              "outlinewidth": 0,
              "ticks": ""
             }
            },
            "type": "scattergl"
           }
          ],
          "scattermapbox": [
           {
            "marker": {
             "colorbar": {
              "outlinewidth": 0,
              "ticks": ""
             }
            },
            "type": "scattermapbox"
           }
          ],
          "scatterpolar": [
           {
            "marker": {
             "colorbar": {
              "outlinewidth": 0,
              "ticks": ""
             }
            },
            "type": "scatterpolar"
           }
          ],
          "scatterpolargl": [
           {
            "marker": {
             "colorbar": {
              "outlinewidth": 0,
              "ticks": ""
             }
            },
            "type": "scatterpolargl"
           }
          ],
          "scatterternary": [
           {
            "marker": {
             "colorbar": {
              "outlinewidth": 0,
              "ticks": ""
             }
            },
            "type": "scatterternary"
           }
          ],
          "surface": [
           {
            "colorbar": {
             "outlinewidth": 0,
             "ticks": ""
            },
            "colorscale": [
             [
              0,
              "#0d0887"
             ],
             [
              0.1111111111111111,
              "#46039f"
             ],
             [
              0.2222222222222222,
              "#7201a8"
             ],
             [
              0.3333333333333333,
              "#9c179e"
             ],
             [
              0.4444444444444444,
              "#bd3786"
             ],
             [
              0.5555555555555556,
              "#d8576b"
             ],
             [
              0.6666666666666666,
              "#ed7953"
             ],
             [
              0.7777777777777778,
              "#fb9f3a"
             ],
             [
              0.8888888888888888,
              "#fdca26"
             ],
             [
              1,
              "#f0f921"
             ]
            ],
            "type": "surface"
           }
          ],
          "table": [
           {
            "cells": {
             "fill": {
              "color": "#EBF0F8"
             },
             "line": {
              "color": "white"
             }
            },
            "header": {
             "fill": {
              "color": "#C8D4E3"
             },
             "line": {
              "color": "white"
             }
            },
            "type": "table"
           }
          ]
         },
         "layout": {
          "annotationdefaults": {
           "arrowcolor": "#2a3f5f",
           "arrowhead": 0,
           "arrowwidth": 1
          },
          "coloraxis": {
           "colorbar": {
            "outlinewidth": 0,
            "ticks": ""
           }
          },
          "colorscale": {
           "diverging": [
            [
             0,
             "#8e0152"
            ],
            [
             0.1,
             "#c51b7d"
            ],
            [
             0.2,
             "#de77ae"
            ],
            [
             0.3,
             "#f1b6da"
            ],
            [
             0.4,
             "#fde0ef"
            ],
            [
             0.5,
             "#f7f7f7"
            ],
            [
             0.6,
             "#e6f5d0"
            ],
            [
             0.7,
             "#b8e186"
            ],
            [
             0.8,
             "#7fbc41"
            ],
            [
             0.9,
             "#4d9221"
            ],
            [
             1,
             "#276419"
            ]
           ],
           "sequential": [
            [
             0,
             "#0d0887"
            ],
            [
             0.1111111111111111,
             "#46039f"
            ],
            [
             0.2222222222222222,
             "#7201a8"
            ],
            [
             0.3333333333333333,
             "#9c179e"
            ],
            [
             0.4444444444444444,
             "#bd3786"
            ],
            [
             0.5555555555555556,
             "#d8576b"
            ],
            [
             0.6666666666666666,
             "#ed7953"
            ],
            [
             0.7777777777777778,
             "#fb9f3a"
            ],
            [
             0.8888888888888888,
             "#fdca26"
            ],
            [
             1,
             "#f0f921"
            ]
           ],
           "sequentialminus": [
            [
             0,
             "#0d0887"
            ],
            [
             0.1111111111111111,
             "#46039f"
            ],
            [
             0.2222222222222222,
             "#7201a8"
            ],
            [
             0.3333333333333333,
             "#9c179e"
            ],
            [
             0.4444444444444444,
             "#bd3786"
            ],
            [
             0.5555555555555556,
             "#d8576b"
            ],
            [
             0.6666666666666666,
             "#ed7953"
            ],
            [
             0.7777777777777778,
             "#fb9f3a"
            ],
            [
             0.8888888888888888,
             "#fdca26"
            ],
            [
             1,
             "#f0f921"
            ]
           ]
          },
          "colorway": [
           "#636efa",
           "#EF553B",
           "#00cc96",
           "#ab63fa",
           "#FFA15A",
           "#19d3f3",
           "#FF6692",
           "#B6E880",
           "#FF97FF",
           "#FECB52"
          ],
          "font": {
           "color": "#2a3f5f"
          },
          "geo": {
           "bgcolor": "white",
           "lakecolor": "white",
           "landcolor": "#E5ECF6",
           "showlakes": true,
           "showland": true,
           "subunitcolor": "white"
          },
          "hoverlabel": {
           "align": "left"
          },
          "hovermode": "closest",
          "mapbox": {
           "style": "light"
          },
          "paper_bgcolor": "white",
          "plot_bgcolor": "#E5ECF6",
          "polar": {
           "angularaxis": {
            "gridcolor": "white",
            "linecolor": "white",
            "ticks": ""
           },
           "bgcolor": "#E5ECF6",
           "radialaxis": {
            "gridcolor": "white",
            "linecolor": "white",
            "ticks": ""
           }
          },
          "scene": {
           "xaxis": {
            "backgroundcolor": "#E5ECF6",
            "gridcolor": "white",
            "gridwidth": 2,
            "linecolor": "white",
            "showbackground": true,
            "ticks": "",
            "zerolinecolor": "white"
           },
           "yaxis": {
            "backgroundcolor": "#E5ECF6",
            "gridcolor": "white",
            "gridwidth": 2,
            "linecolor": "white",
            "showbackground": true,
            "ticks": "",
            "zerolinecolor": "white"
           },
           "zaxis": {
            "backgroundcolor": "#E5ECF6",
            "gridcolor": "white",
            "gridwidth": 2,
            "linecolor": "white",
            "showbackground": true,
            "ticks": "",
            "zerolinecolor": "white"
           }
          },
          "shapedefaults": {
           "line": {
            "color": "#2a3f5f"
           }
          },
          "ternary": {
           "aaxis": {
            "gridcolor": "white",
            "linecolor": "white",
            "ticks": ""
           },
           "baxis": {
            "gridcolor": "white",
            "linecolor": "white",
            "ticks": ""
           },
           "bgcolor": "#E5ECF6",
           "caxis": {
            "gridcolor": "white",
            "linecolor": "white",
            "ticks": ""
           }
          },
          "title": {
           "x": 0.05
          },
          "xaxis": {
           "automargin": true,
           "gridcolor": "white",
           "linecolor": "white",
           "ticks": "",
           "title": {
            "standoff": 15
           },
           "zerolinecolor": "white",
           "zerolinewidth": 2
          },
          "yaxis": {
           "automargin": true,
           "gridcolor": "white",
           "linecolor": "white",
           "ticks": "",
           "title": {
            "standoff": 15
           },
           "zerolinecolor": "white",
           "zerolinewidth": 2
          }
         }
        }
       }
      },
      "text/html": [
       "<div>\n",
       "        \n",
       "        \n",
       "            <div id=\"13848001-cc75-4ece-b78e-963ffc49d751\" class=\"plotly-graph-div\" style=\"height:525px; width:100%;\"></div>\n",
       "            <script type=\"text/javascript\">\n",
       "                require([\"plotly\"], function(Plotly) {\n",
       "                    window.PLOTLYENV=window.PLOTLYENV || {};\n",
       "                    \n",
       "                if (document.getElementById(\"13848001-cc75-4ece-b78e-963ffc49d751\")) {\n",
       "                    Plotly.newPlot(\n",
       "                        '13848001-cc75-4ece-b78e-963ffc49d751',\n",
       "                        [{\"branchvalues\": \"total\", \"customdata\": [[7757.0], [5733.0], [11582.0], [5159.0], [5706.0], [9213.0], [3148.0], [17383.0], [4015.0], [8958.0], [5348.0], [37961.0], [24262.0], [33216.0], [7699.0], [22355.0], [9210.0], [131.0], [53727.0], [4620.0], [16870.0], [12360.0], [10718.0], [10960.0], [11609.0], [36308.0], [77833.0], [17582.0], [13524.0], [12142.0], [32371.0], [29116.0], [46138.0], [20266.0], [65562.0], [16730.0], [21084.0], [64335.0], [25292.0], [56444.0], [12923.0], [17626.0], [33462.0], [14142.0], [12989.0], [55438.0], [43483.0], [19737.0], [20053.0], [67126.0], [10329.0], [7877.0], [13391.0], [15965.0], [45022.0], [9703.0], [10072.0], [13958.0], [31315.0], [26748.34375], [26286.0], [56039.0], [14430.0], [25957.0], [64576.0], [31839.0], [9028.0], [29098.0], [9414.0], [22362.0], [10148.0], [30087.0], [14486.0], [14650.0], [108719.0], [11290.0], [154147.0], [68523.0], [14870.0], [21749.0], [20185.0], [89315.0], [42842.0], [10621.0], [15210.0], [11198.0], [10283.0], [23929.0], [18086.0], [21932.0], [58529.0], [11056.0], [19051.0], [50944.0], [9963.0], [16163.0], [19624.0], [17042.0], [51526.0], [78264.0], [18462.0], [47030.0], [53447.0], [18923.0], [72086.0], [40122.0], [52897.0], [170045.0], [58892.0], [22532.0], [55211.0], [6547.0], [24568.0], [6326.0], [21719.0], [21641.0], [13783.0], [29606.0], [9706.0], [33215.0], [53478.0], [11174.0], [8398.0], [29427.0], [22191.0], [84130.0], [11734.0], [17852.0], [19780.0], [46826.0], [35775.0], [68102.0], [13441.0], [30753.0], [60683.0], [107502.0], [34326.0], [24661.0], [17044.0], [46500.0], [26623.0], [20191.0], [46900.0], [102549.0], [21760.0], [29573.0], [33898.0], [9705.0], [15616.0], [6448.0], [8497.0], [3244.0], [58483.0], [22956.0], [40921.0], [8608.0], [11881.0], [22953.0], [111235.0], [29081.0], [7294.0], [5381.0], [6589.0], [37874.0], [13594.0], [38090.0], [15165.0], [23558.0], [40786.0], [18325.0], [20979.0], [5838.0], [44868.0], [63849.0], [10182.0], [6610.0], [10667.0], [3724.0], [5206.0], [2169.0], [53906.0], [44736.0], [40814.0], [6329.0], [7292.0], [23342.0], [30725.0], [6630.0], [7800.0], [19462.0], [24494.0], [19607.0], [6827.0], [17066.0], [21969.0], [20645.0], [17104.0], [1737.0], [2168.0], [14430.0], [13524.0], [11969.3505859375], [53447.0], [102549.0], [14650.0], [78264.0], [33846.578125], [17066.0], [6610.0], [18923.0], [11881.0], [18990.8046875], [27863.421875], [50962.73828125], [40122.0], [15532.431640625], [11290.0], [17044.0], [7699.0], [46500.0], [35775.0], [28549.958984375], [77833.0], [7800.0], [43483.0], [23929.0], [21760.0], [9703.0], [41891.16015625], [65562.0], [19624.0], [12989.0], [9028.0], [51526.0], [53727.0], [20266.0], [7877.0], [46316.59375], [22369.06640625], [17813.326171875], [21641.0], [10148.0], [31927.603515625], [24661.0], [33462.0], [9963.0], [22362.0], [22956.0], [12142.0], [13958.0], [55211.0], [14201.1220703125], [56739.9140625], [23342.0], [30087.0], [6448.0], [10637.232421875], [22953.0], [20765.453125], [16163.0], [27441.748046875], [30891.875], [51445.86328125], [32371.0], [60683.0], [14870.0], [19737.0], [37874.0], [68523.0], [16041.8935546875], [40921.0], [6630.0], [26793.748046875], [21932.0], [17626.0], [64335.0], [11609.0], [18086.0], [68102.0], [5706.0], [17321.919921875], [53063.4296875], [6326.0], [19051.0], [12923.0], [10621.0], [14142.0], [82602.40625], [14486.0], [10072.0], [154147.0], [11582.0], [18325.0], [21084.0], [29116.0], [22191.0], [10994.2373046875], [44736.0], [23558.0], [9210.0], [20979.0], [25957.0], [33898.0], [24494.0], [20645.0], [54479.47265625], [53412.1953125], [13320.2021484375], [31315.0], [20191.0], [47030.0], [34326.0], [5733.0], [89315.0], [11198.0], [11056.0], [8898.736328125], [16152.875], [72086.0], [42842.0], [37961.0], [15965.0], [10667.0], [30725.0], [30753.0], [170045.0], [2168.0], [19607.0], [9705.0], [4015.0], [4620.0], [20185.0], [5159.0], [21719.0], [5206.0], [13783.0], [11174.0], [3148.0], [44853.51171875], [111235.0], [17383.0], [2169.0], [18462.0], [50944.0], [131.0], [53906.0], [108719.0], [84130.0], [6827.0], [7292.0], [40814.0], [22532.0], [34623.69140625], [44868.0], [47264.06640625], [29081.0], [1737.0], [63849.0], [12350.21875], [32761.671875], [18325.0], [36911.74609375], [44114.015625], [74477.296875], [18640.283203125], [31315.0], [21654.74609375], [131.0], [9210.0], [28848.470703125], [30984.591796875], [13783.0], [114852.9296875]], \"domain\": {\"x\": [0.0, 1.0], \"y\": [0.0, 1.0]}, \"hovertemplate\": \"labels=%{label}<br>score=%{value}<br>parent=%{parent}<br>id=%{id}<br>review_count=%{color}<extra></extra>\", \"ids\": [\"Childrens/4.300000190734863/26.0\", \"Childrens/4.28000020980835/32.0\", \"Childrens/4.21999979019165/37.0\", \"Childrens/4.360000133514404/44.0\", \"Childrens/4.170000076293945/61.0\", \"Childrens/4.300000190734863/62.0\", \"Childrens/4.369999885559082/64.0\", \"Childrens/4.380000114440918/64.0\", \"Childrens/4.349999904632568/72.0\", \"Classics/4.179999828338623/76.0\", \"Classics/4.03000020980835/92.0\", \"Classics/4.309999942779541/93.0\", \"Classics/3.7799999713897705/96.0\", \"Classics/3.869999885559082/103.0\", \"Fiction/3.8399999141693115/112.0\", \"Classics/3.9800000190734863/123.0\", \"Poetry/4.230000019073486/127.0\", \"Plays/4.440000057220459/137.0\", \"Classics/3.940000057220459/141.0\", \"Classics/4.349999904632568/145.0\", \"Classics/4.03000020980835/152.0\", \"Classics/3.990000009536743/154.0\", \"Classics/3.869999885559082/172.0\", \"Classics/4.070000171661377/176.0\", \"Childrens/4.139999866485596/176.0\", \"Classics/3.680000066757202/182.0\", \"Fiction/3.869999885559082/182.0\", \"Classics/4.170000076293945/184.0\", \"Classics/3.4200000762939453/188.0\", \"Young Adult/4.010000228881836/190.0\", \"Classics/4.099999904632568/192.0\", \"Science Fiction/4.21999979019165/193.0\", \"Classics/3.990000009536743/194.0\", \"Fiction/3.940000057220459/196.0\", \"Classics/3.9200000762939453/200.0\", \"Classics/3.819999933242798/201.0\", \"Fantasy/4.21999979019165/206.0\", \"Young Adult/4.130000114440918/208.0\", \"Nonfiction/4.110000133514404/210.0\", \"Young Adult/4.199999809265137/213.0\", \"Romance/4.179999828338623/215.0\", \"Fiction/4.130000114440918/216.0\", \"Fantasy/4.0/218.0\", \"Fiction/4.190000057220459/218.0\", \"Classics/3.930000066757202/219.0\", \"Young Adult/4.03000020980835/221.0\", \"Fiction/3.880000114440918/226.0\", \"Romance/4.099999904632568/227.0\", \"Young Adult/3.9700000286102295/233.0\", \"Classics/4.179999828338623/237.0\", \"Classics/4.059999942779541/239.0\", \"Classics/3.950000047683716/240.0\", \"Classics/3.990000009536743/240.0\", \"Childrens/4.320000171661377/240.0\", \"Fiction/3.9700000286102295/241.0\", \"Classics/3.9100000858306885/244.0\", \"Fantasy/4.210000038146973/256.0\", \"Fiction/4.019999980926514/263.0\", \"Mystery/4.260000228881836/264.0\", \"Classics/4.079999923706055/272.0\", \"Classics/4.070000171661377/275.0\", \"Classics/3.809999942779541/277.0\", \"Classics/3.4100000858306885/279.0\", \"Fantasy/4.239999771118164/279.0\", \"Classics/4.260000228881836/279.0\", \"Classics/3.799999952316284/288.0\", \"Fiction/3.930000066757202/288.0\", \"Classics/3.990000009536743/288.0\", \"Classics/3.809999942779541/293.0\", \"Classics/4.010000228881836/294.0\", \"Historical/3.9800000190734863/296.0\", \"Fiction/4.050000190734863/302.0\", \"Classics/4.210000038146973/304.0\", \"Classics/3.619999885559082/307.0\", \"Fantasy/4.46999979019165/309.0\", \"Classics/3.8299999237060547/311.0\", \"Young Adult/4.210000038146973/313.0\", \"Fiction/4.110000133514404/314.0\", \"Fiction/4.099999904632568/320.0\", \"Classics/4.260000228881836/320.0\", \"Fantasy/4.349999904632568/320.0\", \"Classics/4.28000020980835/324.0\", \"Science Fiction/4.300000190734863/324.0\", \"Classics/4.190000057220459/325.0\", \"Classics/3.819999933242798/327.0\", \"Young Adult/4.28000020980835/327.0\", \"Classics/3.680000066757202/329.0\", \"Classics/3.890000104904175/331.0\", \"Classics/4.139999866485596/331.0\", \"Young Adult/4.119999885559082/332.0\", \"Fiction/4.090000152587891/335.0\", \"Fiction/4.289999961853027/335.0\", \"Historical/4.179999828338623/336.0\", \"Fantasy/4.429999828338623/341.0\", \"Horror/4.0/342.0\", \"Nonfiction/4.070000171661377/343.0\", \"Fiction/3.9200000762939453/348.0\", \"Fiction/3.9100000858306885/351.0\", \"Young Adult/3.930000066757202/352.0\", \"Romance/3.6600000858306885/356.0\", \"Fantasy/4.400000095367432/361.0\", \"Fantasy/4.269999980926514/366.0\", \"Nonfiction/3.559999942779541/368.0\", \"Classics/3.75/368.0\", \"Fiction/4.300000190734863/371.0\", \"Fiction/3.809999942779541/372.0\", \"Fiction/4.369999885559082/372.0\", \"Young Adult/4.329999923706055/374.0\", \"Fantasy/4.25/375.0\", \"Fantasy/4.510000228881836/381.0\", \"Young Adult/4.019999980926514/384.0\", \"Classics/4.300000190734863/389.0\", \"Young Adult/3.9700000286102295/391.0\", \"Fantasy/4.179999828338623/396.0\", \"Fantasy/4.360000133514404/398.0\", \"Fantasy/3.9800000190734863/399.0\", \"Sequential Art/4.360000133514404/416.0\", \"Fiction/4.079999923706055/417.0\", \"Classics/3.9800000190734863/418.0\", \"Fiction/4.079999923706055/423.0\", \"Fantasy/4.570000171661377/435.0\", \"Young Adult/4.360000133514404/443.0\", \"Fiction/4.369999885559082/448.0\", \"Classics/4.079999923706055/449.0\", \"Classics/4.230000019073486/449.0\", \"Fiction/4.46999979019165/451.0\", \"Nonfiction/4.110000133514404/452.0\", \"Classics/3.9800000190734863/453.0\", \"Fantasy/4.260000228881836/456.0\", \"Fiction/3.9100000858306885/460.0\", \"Classics/3.859999895095825/464.0\", \"Fiction/4.139999866485596/465.0\", \"Classics/4.059999942779541/478.0\", \"Fantasy/4.329999923706055/481.0\", \"Fantasy/4.099999904632568/485.0\", \"Young Adult/4.199999809265137/487.0\", \"Fiction/4.269999980926514/487.0\", \"Classics/4.0/488.0\", \"Classics/3.8399999141693115/489.0\", \"Fiction/3.8499999046325684/489.0\", \"Fantasy/4.25/491.0\", \"Classics/4.269999980926514/496.0\", \"Fiction/3.9700000286102295/500.0\", \"Young Adult/3.5899999141693115/501.0\", \"Fantasy/3.9000000953674316/503.0\", \"Fiction/4.119999885559082/503.0\", \"Fiction/4.239999771118164/503.0\", \"Young Adult/4.340000152587891/503.0\", \"Classics/3.7799999713897705/505.0\", \"Historical/4.050000190734863/516.0\", \"Classics/3.799999952316284/518.0\", \"Classics/3.5/521.0\", \"Young Adult/4.03000020980835/525.0\", \"Fiction/4.010000228881836/529.0\", \"Classics/4.119999885559082/532.0\", \"Fiction/4.119999885559082/536.0\", \"Classics/3.7699999809265137/541.0\", \"Fiction/4.059999942779541/546.0\", \"Historical/4.369999885559082/552.0\", \"Fantasy/4.579999923706055/567.0\", \"Classics/3.869999885559082/608.0\", \"Fiction/4.090000152587891/610.0\", \"Classics/4.070000171661377/625.0\", \"Fantasy/4.110000133514404/635.0\", \"Fiction/4.230000019073486/637.0\", \"Fantasy/4.570000171661377/652.0\", \"Classics/3.5/654.0\", \"Horror/4.230000019073486/659.0\", \"Fantasy/4.539999961853027/662.0\", \"Cultural/4.21999979019165/671.0\", \"Science Fiction/4.230000019073486/688.0\", \"Fiction/4.230000019073486/692.0\", \"Fantasy/4.559999942779541/734.0\", \"Fantasy/4.619999885559082/759.0\", \"Fantasy/4.260000228881836/767.0\", \"Classics/3.7300000190734863/783.0\", \"Classics/4.320000171661377/796.0\", \"Classics/4.059999942779541/798.0\", \"Science Fiction/4.360000133514404/815.0\", \"Classics/4.380000114440918/821.0\", \"Fantasy/4.449999809265137/835.0\", \"Historical/4.230000019073486/850.0\", \"Fantasy/4.5/870.0\", \"Classics/3.990000009536743/882.0\", \"Fiction/4.489999771118164/960.0\", \"Classics/4.050000190734863/964.0\", \"Historical/4.320000171661377/976.0\", \"Fantasy/4.119999885559082/1009.0\", \"Classics/3.880000114440918/1023.0\", \"Classics/4.300000190734863/1037.0\", \"Horror/4.239999771118164/1116.0\", \"Horror/4.340000152587891/1153.0\", \"Young Adult/4.480000019073486/1155.0\", \"Classics/3.690000057220459/1168.0\", \"Fantasy/4.539999961853027/1177.0\", \"Classics/4.25/1276.0\", \"Classics/4.170000076293945/1463.0\", \"Fantasy/4.599999904632568/1728.0\", \"Classics/4.340000152587891/2700.0\", \"Classics/3.4100000858306885\", \"Classics/3.4200000762939453\", \"Classics/3.5\", \"Nonfiction/3.559999942779541\", \"Young Adult/3.5899999141693115\", \"Classics/3.619999885559082\", \"Romance/3.6600000858306885\", \"Classics/3.680000066757202\", \"Classics/3.690000057220459\", \"Classics/3.7300000190734863\", \"Classics/3.75\", \"Classics/3.7699999809265137\", \"Classics/3.7799999713897705\", \"Classics/3.799999952316284\", \"Classics/3.809999942779541\", \"Fiction/3.809999942779541\", \"Classics/3.819999933242798\", \"Classics/3.8299999237060547\", \"Classics/3.8399999141693115\", \"Fiction/3.8399999141693115\", \"Fiction/3.8499999046325684\", \"Classics/3.859999895095825\", \"Classics/3.869999885559082\", \"Fiction/3.869999885559082\", \"Classics/3.880000114440918\", \"Fiction/3.880000114440918\", \"Classics/3.890000104904175\", \"Fantasy/3.9000000953674316\", \"Classics/3.9100000858306885\", \"Fiction/3.9100000858306885\", \"Classics/3.9200000762939453\", \"Fiction/3.9200000762939453\", \"Classics/3.930000066757202\", \"Fiction/3.930000066757202\", \"Young Adult/3.930000066757202\", \"Classics/3.940000057220459\", \"Fiction/3.940000057220459\", \"Classics/3.950000047683716\", \"Fiction/3.9700000286102295\", \"Young Adult/3.9700000286102295\", \"Classics/3.9800000190734863\", \"Fantasy/3.9800000190734863\", \"Historical/3.9800000190734863\", \"Classics/3.990000009536743\", \"Classics/4.0\", \"Fantasy/4.0\", \"Horror/4.0\", \"Classics/4.010000228881836\", \"Fiction/4.010000228881836\", \"Young Adult/4.010000228881836\", \"Fiction/4.019999980926514\", \"Young Adult/4.019999980926514\", \"Classics/4.03000020980835\", \"Young Adult/4.03000020980835\", \"Classics/4.050000190734863\", \"Fiction/4.050000190734863\", \"Historical/4.050000190734863\", \"Classics/4.059999942779541\", \"Fiction/4.059999942779541\", \"Classics/4.070000171661377\", \"Nonfiction/4.070000171661377\", \"Classics/4.079999923706055\", \"Fiction/4.079999923706055\", \"Fiction/4.090000152587891\", \"Classics/4.099999904632568\", \"Fantasy/4.099999904632568\", \"Fiction/4.099999904632568\", \"Romance/4.099999904632568\", \"Fantasy/4.110000133514404\", \"Fiction/4.110000133514404\", \"Nonfiction/4.110000133514404\", \"Classics/4.119999885559082\", \"Fantasy/4.119999885559082\", \"Fiction/4.119999885559082\", \"Young Adult/4.119999885559082\", \"Fiction/4.130000114440918\", \"Young Adult/4.130000114440918\", \"Childrens/4.139999866485596\", \"Classics/4.139999866485596\", \"Fiction/4.139999866485596\", \"Childrens/4.170000076293945\", \"Classics/4.170000076293945\", \"Classics/4.179999828338623\", \"Fantasy/4.179999828338623\", \"Historical/4.179999828338623\", \"Romance/4.179999828338623\", \"Classics/4.190000057220459\", \"Fiction/4.190000057220459\", \"Young Adult/4.199999809265137\", \"Classics/4.210000038146973\", \"Fantasy/4.210000038146973\", \"Young Adult/4.210000038146973\", \"Childrens/4.21999979019165\", \"Cultural/4.21999979019165\", \"Fantasy/4.21999979019165\", \"Science Fiction/4.21999979019165\", \"Classics/4.230000019073486\", \"Fiction/4.230000019073486\", \"Historical/4.230000019073486\", \"Horror/4.230000019073486\", \"Poetry/4.230000019073486\", \"Science Fiction/4.230000019073486\", \"Fantasy/4.239999771118164\", \"Fiction/4.239999771118164\", \"Horror/4.239999771118164\", \"Classics/4.25\", \"Fantasy/4.25\", \"Classics/4.260000228881836\", \"Fantasy/4.260000228881836\", \"Mystery/4.260000228881836\", \"Classics/4.269999980926514\", \"Fantasy/4.269999980926514\", \"Fiction/4.269999980926514\", \"Childrens/4.28000020980835\", \"Classics/4.28000020980835\", \"Young Adult/4.28000020980835\", \"Fiction/4.289999961853027\", \"Childrens/4.300000190734863\", \"Classics/4.300000190734863\", \"Fiction/4.300000190734863\", \"Science Fiction/4.300000190734863\", \"Classics/4.309999942779541\", \"Childrens/4.320000171661377\", \"Classics/4.320000171661377\", \"Historical/4.320000171661377\", \"Fantasy/4.329999923706055\", \"Young Adult/4.329999923706055\", \"Classics/4.340000152587891\", \"Horror/4.340000152587891\", \"Young Adult/4.340000152587891\", \"Childrens/4.349999904632568\", \"Classics/4.349999904632568\", \"Fantasy/4.349999904632568\", \"Childrens/4.360000133514404\", \"Fantasy/4.360000133514404\", \"Science Fiction/4.360000133514404\", \"Sequential Art/4.360000133514404\", \"Young Adult/4.360000133514404\", \"Childrens/4.369999885559082\", \"Fiction/4.369999885559082\", \"Historical/4.369999885559082\", \"Childrens/4.380000114440918\", \"Classics/4.380000114440918\", \"Fantasy/4.400000095367432\", \"Fantasy/4.429999828338623\", \"Plays/4.440000057220459\", \"Fantasy/4.449999809265137\", \"Fantasy/4.46999979019165\", \"Fiction/4.46999979019165\", \"Young Adult/4.480000019073486\", \"Fiction/4.489999771118164\", \"Fantasy/4.5\", \"Fantasy/4.510000228881836\", \"Fantasy/4.539999961853027\", \"Fantasy/4.559999942779541\", \"Fantasy/4.570000171661377\", \"Fantasy/4.579999923706055\", \"Fantasy/4.599999904632568\", \"Fantasy/4.619999885559082\", \"Childrens\", \"Classics\", \"Cultural\", \"Fantasy\", \"Fiction\", \"Historical\", \"Horror\", \"Mystery\", \"Nonfiction\", \"Plays\", \"Poetry\", \"Romance\", \"Science Fiction\", \"Sequential Art\", \"Young Adult\"], \"labels\": [\"26.0\", \"32.0\", \"37.0\", \"44.0\", \"61.0\", \"62.0\", \"64.0\", \"64.0\", \"72.0\", \"76.0\", \"92.0\", \"93.0\", \"96.0\", \"103.0\", \"112.0\", \"123.0\", \"127.0\", \"137.0\", \"141.0\", \"145.0\", \"152.0\", \"154.0\", \"172.0\", \"176.0\", \"176.0\", \"182.0\", \"182.0\", \"184.0\", \"188.0\", \"190.0\", \"192.0\", \"193.0\", \"194.0\", \"196.0\", \"200.0\", \"201.0\", \"206.0\", \"208.0\", \"210.0\", \"213.0\", \"215.0\", \"216.0\", \"218.0\", \"218.0\", \"219.0\", \"221.0\", \"226.0\", \"227.0\", \"233.0\", \"237.0\", \"239.0\", \"240.0\", \"240.0\", \"240.0\", \"241.0\", \"244.0\", \"256.0\", \"263.0\", \"264.0\", \"272.0\", \"275.0\", \"277.0\", \"279.0\", \"279.0\", \"279.0\", \"288.0\", \"288.0\", \"288.0\", \"293.0\", \"294.0\", \"296.0\", \"302.0\", \"304.0\", \"307.0\", \"309.0\", \"311.0\", \"313.0\", \"314.0\", \"320.0\", \"320.0\", \"320.0\", \"324.0\", \"324.0\", \"325.0\", \"327.0\", \"327.0\", \"329.0\", \"331.0\", \"331.0\", \"332.0\", \"335.0\", \"335.0\", \"336.0\", \"341.0\", \"342.0\", \"343.0\", \"348.0\", \"351.0\", \"352.0\", \"356.0\", \"361.0\", \"366.0\", \"368.0\", \"368.0\", \"371.0\", \"372.0\", \"372.0\", \"374.0\", \"375.0\", \"381.0\", \"384.0\", \"389.0\", \"391.0\", \"396.0\", \"398.0\", \"399.0\", \"416.0\", \"417.0\", \"418.0\", \"423.0\", \"435.0\", \"443.0\", \"448.0\", \"449.0\", \"449.0\", \"451.0\", \"452.0\", \"453.0\", \"456.0\", \"460.0\", \"464.0\", \"465.0\", \"478.0\", \"481.0\", \"485.0\", \"487.0\", \"487.0\", \"488.0\", \"489.0\", \"489.0\", \"491.0\", \"496.0\", \"500.0\", \"501.0\", \"503.0\", \"503.0\", \"503.0\", \"503.0\", \"505.0\", \"516.0\", \"518.0\", \"521.0\", \"525.0\", \"529.0\", \"532.0\", \"536.0\", \"541.0\", \"546.0\", \"552.0\", \"567.0\", \"608.0\", \"610.0\", \"625.0\", \"635.0\", \"637.0\", \"652.0\", \"654.0\", \"659.0\", \"662.0\", \"671.0\", \"688.0\", \"692.0\", \"734.0\", \"759.0\", \"767.0\", \"783.0\", \"796.0\", \"798.0\", \"815.0\", \"821.0\", \"835.0\", \"850.0\", \"870.0\", \"882.0\", \"960.0\", \"964.0\", \"976.0\", \"1009.0\", \"1023.0\", \"1037.0\", \"1116.0\", \"1153.0\", \"1155.0\", \"1168.0\", \"1177.0\", \"1276.0\", \"1463.0\", \"1728.0\", \"2700.0\", \"3.4100000858306885\", \"3.4200000762939453\", \"3.5\", \"3.559999942779541\", \"3.5899999141693115\", \"3.619999885559082\", \"3.6600000858306885\", \"3.680000066757202\", \"3.690000057220459\", \"3.7300000190734863\", \"3.75\", \"3.7699999809265137\", \"3.7799999713897705\", \"3.799999952316284\", \"3.809999942779541\", \"3.809999942779541\", \"3.819999933242798\", \"3.8299999237060547\", \"3.8399999141693115\", \"3.8399999141693115\", \"3.8499999046325684\", \"3.859999895095825\", \"3.869999885559082\", \"3.869999885559082\", \"3.880000114440918\", \"3.880000114440918\", \"3.890000104904175\", \"3.9000000953674316\", \"3.9100000858306885\", \"3.9100000858306885\", \"3.9200000762939453\", \"3.9200000762939453\", \"3.930000066757202\", \"3.930000066757202\", \"3.930000066757202\", \"3.940000057220459\", \"3.940000057220459\", \"3.950000047683716\", \"3.9700000286102295\", \"3.9700000286102295\", \"3.9800000190734863\", \"3.9800000190734863\", \"3.9800000190734863\", \"3.990000009536743\", \"4.0\", \"4.0\", \"4.0\", \"4.010000228881836\", \"4.010000228881836\", \"4.010000228881836\", \"4.019999980926514\", \"4.019999980926514\", \"4.03000020980835\", \"4.03000020980835\", \"4.050000190734863\", \"4.050000190734863\", \"4.050000190734863\", \"4.059999942779541\", \"4.059999942779541\", \"4.070000171661377\", \"4.070000171661377\", \"4.079999923706055\", \"4.079999923706055\", \"4.090000152587891\", \"4.099999904632568\", \"4.099999904632568\", \"4.099999904632568\", \"4.099999904632568\", \"4.110000133514404\", \"4.110000133514404\", \"4.110000133514404\", \"4.119999885559082\", \"4.119999885559082\", \"4.119999885559082\", \"4.119999885559082\", \"4.130000114440918\", \"4.130000114440918\", \"4.139999866485596\", \"4.139999866485596\", \"4.139999866485596\", \"4.170000076293945\", \"4.170000076293945\", \"4.179999828338623\", \"4.179999828338623\", \"4.179999828338623\", \"4.179999828338623\", \"4.190000057220459\", \"4.190000057220459\", \"4.199999809265137\", \"4.210000038146973\", \"4.210000038146973\", \"4.210000038146973\", \"4.21999979019165\", \"4.21999979019165\", \"4.21999979019165\", \"4.21999979019165\", \"4.230000019073486\", \"4.230000019073486\", \"4.230000019073486\", \"4.230000019073486\", \"4.230000019073486\", \"4.230000019073486\", \"4.239999771118164\", \"4.239999771118164\", \"4.239999771118164\", \"4.25\", \"4.25\", \"4.260000228881836\", \"4.260000228881836\", \"4.260000228881836\", \"4.269999980926514\", \"4.269999980926514\", \"4.269999980926514\", \"4.28000020980835\", \"4.28000020980835\", \"4.28000020980835\", \"4.289999961853027\", \"4.300000190734863\", \"4.300000190734863\", \"4.300000190734863\", \"4.300000190734863\", \"4.309999942779541\", \"4.320000171661377\", \"4.320000171661377\", \"4.320000171661377\", \"4.329999923706055\", \"4.329999923706055\", \"4.340000152587891\", \"4.340000152587891\", \"4.340000152587891\", \"4.349999904632568\", \"4.349999904632568\", \"4.349999904632568\", \"4.360000133514404\", \"4.360000133514404\", \"4.360000133514404\", \"4.360000133514404\", \"4.360000133514404\", \"4.369999885559082\", \"4.369999885559082\", \"4.369999885559082\", \"4.380000114440918\", \"4.380000114440918\", \"4.400000095367432\", \"4.429999828338623\", \"4.440000057220459\", \"4.449999809265137\", \"4.46999979019165\", \"4.46999979019165\", \"4.480000019073486\", \"4.489999771118164\", \"4.5\", \"4.510000228881836\", \"4.539999961853027\", \"4.559999942779541\", \"4.570000171661377\", \"4.579999923706055\", \"4.599999904632568\", \"4.619999885559082\", \"Childrens\", \"Classics\", \"Cultural\", \"Fantasy\", \"Fiction\", \"Historical\", \"Horror\", \"Mystery\", \"Nonfiction\", \"Plays\", \"Poetry\", \"Romance\", \"Science Fiction\", \"Sequential Art\", \"Young Adult\"], \"marker\": {\"coloraxis\": \"coloraxis\", \"colors\": [7757.0, 5733.0, 11582.0, 5159.0, 5706.0, 9213.0, 3148.0, 17383.0, 4015.0, 8958.0, 5348.0, 37961.0, 24262.0, 33216.0, 7699.0, 22355.0, 9210.0, 131.0, 53727.0, 4620.0, 16870.0, 12360.0, 10718.0, 10960.0, 11609.0, 36308.0, 77833.0, 17582.0, 13524.0, 12142.0, 32371.0, 29116.0, 46138.0, 20266.0, 65562.0, 16730.0, 21084.0, 64335.0, 25292.0, 56444.0, 12923.0, 17626.0, 33462.0, 14142.0, 12989.0, 55438.0, 43483.0, 19737.0, 20053.0, 67126.0, 10329.0, 7877.0, 13391.0, 15965.0, 45022.0, 9703.0, 10072.0, 13958.0, 31315.0, 26748.34375, 26286.0, 56039.0, 14430.0, 25957.0, 64576.0, 31839.0, 9028.0, 29098.0, 9414.0, 22362.0, 10148.0, 30087.0, 14486.0, 14650.0, 108719.0, 11290.0, 154147.0, 68523.0, 14870.0, 21749.0, 20185.0, 89315.0, 42842.0, 10621.0, 15210.0, 11198.0, 10283.0, 23929.0, 18086.0, 21932.0, 58529.0, 11056.0, 19051.0, 50944.0, 9963.0, 16163.0, 19624.0, 17042.0, 51526.0, 78264.0, 18462.0, 47030.0, 53447.0, 18923.0, 72086.0, 40122.0, 52897.0, 170045.0, 58892.0, 22532.0, 55211.0, 6547.0, 24568.0, 6326.0, 21719.0, 21641.0, 13783.0, 29606.0, 9706.0, 33215.0, 53478.0, 11174.0, 8398.0, 29427.0, 22191.0, 84130.0, 11734.0, 17852.0, 19780.0, 46826.0, 35775.0, 68102.0, 13441.0, 30753.0, 60683.0, 107502.0, 34326.0, 24661.0, 17044.0, 46500.0, 26623.0, 20191.0, 46900.0, 102549.0, 21760.0, 29573.0, 33898.0, 9705.0, 15616.0, 6448.0, 8497.0, 3244.0, 58483.0, 22956.0, 40921.0, 8608.0, 11881.0, 22953.0, 111235.0, 29081.0, 7294.0, 5381.0, 6589.0, 37874.0, 13594.0, 38090.0, 15165.0, 23558.0, 40786.0, 18325.0, 20979.0, 5838.0, 44868.0, 63849.0, 10182.0, 6610.0, 10667.0, 3724.0, 5206.0, 2169.0, 53906.0, 44736.0, 40814.0, 6329.0, 7292.0, 23342.0, 30725.0, 6630.0, 7800.0, 19462.0, 24494.0, 19607.0, 6827.0, 17066.0, 21969.0, 20645.0, 17104.0, 1737.0, 2168.0, 14430.0, 13524.0, 11969.3505859375, 53447.0, 102549.0, 14650.0, 78264.0, 33846.578125, 17066.0, 6610.0, 18923.0, 11881.0, 18990.8046875, 27863.421875, 50962.73828125, 40122.0, 15532.431640625, 11290.0, 17044.0, 7699.0, 46500.0, 35775.0, 28549.958984375, 77833.0, 7800.0, 43483.0, 23929.0, 21760.0, 9703.0, 41891.16015625, 65562.0, 19624.0, 12989.0, 9028.0, 51526.0, 53727.0, 20266.0, 7877.0, 46316.59375, 22369.06640625, 17813.326171875, 21641.0, 10148.0, 31927.603515625, 24661.0, 33462.0, 9963.0, 22362.0, 22956.0, 12142.0, 13958.0, 55211.0, 14201.1220703125, 56739.9140625, 23342.0, 30087.0, 6448.0, 10637.232421875, 22953.0, 20765.453125, 16163.0, 27441.748046875, 30891.875, 51445.86328125, 32371.0, 60683.0, 14870.0, 19737.0, 37874.0, 68523.0, 16041.8935546875, 40921.0, 6630.0, 26793.748046875, 21932.0, 17626.0, 64335.0, 11609.0, 18086.0, 68102.0, 5706.0, 17321.919921875, 53063.4296875, 6326.0, 19051.0, 12923.0, 10621.0, 14142.0, 82602.40625, 14486.0, 10072.0, 154147.0, 11582.0, 18325.0, 21084.0, 29116.0, 22191.0, 10994.2373046875, 44736.0, 23558.0, 9210.0, 20979.0, 25957.0, 33898.0, 24494.0, 20645.0, 54479.47265625, 53412.1953125, 13320.2021484375, 31315.0, 20191.0, 47030.0, 34326.0, 5733.0, 89315.0, 11198.0, 11056.0, 8898.736328125, 16152.875, 72086.0, 42842.0, 37961.0, 15965.0, 10667.0, 30725.0, 30753.0, 170045.0, 2168.0, 19607.0, 9705.0, 4015.0, 4620.0, 20185.0, 5159.0, 21719.0, 5206.0, 13783.0, 11174.0, 3148.0, 44853.51171875, 111235.0, 17383.0, 2169.0, 18462.0, 50944.0, 131.0, 53906.0, 108719.0, 84130.0, 6827.0, 7292.0, 40814.0, 22532.0, 34623.69140625, 44868.0, 47264.06640625, 29081.0, 1737.0, 63849.0, 12350.21875, 32761.671875, 18325.0, 36911.74609375, 44114.015625, 74477.296875, 18640.283203125, 31315.0, 21654.74609375, 131.0, 9210.0, 28848.470703125, 30984.591796875, 13783.0, 114852.9296875]}, \"name\": \"\", \"parents\": [\"Childrens/4.300000190734863\", \"Childrens/4.28000020980835\", \"Childrens/4.21999979019165\", \"Childrens/4.360000133514404\", \"Childrens/4.170000076293945\", \"Childrens/4.300000190734863\", \"Childrens/4.369999885559082\", \"Childrens/4.380000114440918\", \"Childrens/4.349999904632568\", \"Classics/4.179999828338623\", \"Classics/4.03000020980835\", \"Classics/4.309999942779541\", \"Classics/3.7799999713897705\", \"Classics/3.869999885559082\", \"Fiction/3.8399999141693115\", \"Classics/3.9800000190734863\", \"Poetry/4.230000019073486\", \"Plays/4.440000057220459\", \"Classics/3.940000057220459\", \"Classics/4.349999904632568\", \"Classics/4.03000020980835\", \"Classics/3.990000009536743\", \"Classics/3.869999885559082\", \"Classics/4.070000171661377\", \"Childrens/4.139999866485596\", \"Classics/3.680000066757202\", \"Fiction/3.869999885559082\", \"Classics/4.170000076293945\", \"Classics/3.4200000762939453\", \"Young Adult/4.010000228881836\", \"Classics/4.099999904632568\", \"Science Fiction/4.21999979019165\", \"Classics/3.990000009536743\", \"Fiction/3.940000057220459\", \"Classics/3.9200000762939453\", \"Classics/3.819999933242798\", \"Fantasy/4.21999979019165\", \"Young Adult/4.130000114440918\", \"Nonfiction/4.110000133514404\", \"Young Adult/4.199999809265137\", \"Romance/4.179999828338623\", \"Fiction/4.130000114440918\", \"Fantasy/4.0\", \"Fiction/4.190000057220459\", \"Classics/3.930000066757202\", \"Young Adult/4.03000020980835\", \"Fiction/3.880000114440918\", \"Romance/4.099999904632568\", \"Young Adult/3.9700000286102295\", \"Classics/4.179999828338623\", \"Classics/4.059999942779541\", \"Classics/3.950000047683716\", \"Classics/3.990000009536743\", \"Childrens/4.320000171661377\", \"Fiction/3.9700000286102295\", \"Classics/3.9100000858306885\", \"Fantasy/4.210000038146973\", \"Fiction/4.019999980926514\", \"Mystery/4.260000228881836\", \"Classics/4.079999923706055\", \"Classics/4.070000171661377\", \"Classics/3.809999942779541\", \"Classics/3.4100000858306885\", \"Fantasy/4.239999771118164\", \"Classics/4.260000228881836\", \"Classics/3.799999952316284\", \"Fiction/3.930000066757202\", \"Classics/3.990000009536743\", \"Classics/3.809999942779541\", \"Classics/4.010000228881836\", \"Historical/3.9800000190734863\", \"Fiction/4.050000190734863\", \"Classics/4.210000038146973\", \"Classics/3.619999885559082\", \"Fantasy/4.46999979019165\", \"Classics/3.8299999237060547\", \"Young Adult/4.210000038146973\", \"Fiction/4.110000133514404\", \"Fiction/4.099999904632568\", \"Classics/4.260000228881836\", \"Fantasy/4.349999904632568\", \"Classics/4.28000020980835\", \"Science Fiction/4.300000190734863\", \"Classics/4.190000057220459\", \"Classics/3.819999933242798\", \"Young Adult/4.28000020980835\", \"Classics/3.680000066757202\", \"Classics/3.890000104904175\", \"Classics/4.139999866485596\", \"Young Adult/4.119999885559082\", \"Fiction/4.090000152587891\", \"Fiction/4.289999961853027\", \"Historical/4.179999828338623\", \"Fantasy/4.429999828338623\", \"Horror/4.0\", \"Nonfiction/4.070000171661377\", \"Fiction/3.9200000762939453\", \"Fiction/3.9100000858306885\", \"Young Adult/3.930000066757202\", \"Romance/3.6600000858306885\", \"Fantasy/4.400000095367432\", \"Fantasy/4.269999980926514\", \"Nonfiction/3.559999942779541\", \"Classics/3.75\", \"Fiction/4.300000190734863\", \"Fiction/3.809999942779541\", \"Fiction/4.369999885559082\", \"Young Adult/4.329999923706055\", \"Fantasy/4.25\", \"Fantasy/4.510000228881836\", \"Young Adult/4.019999980926514\", \"Classics/4.300000190734863\", \"Young Adult/3.9700000286102295\", \"Fantasy/4.179999828338623\", \"Fantasy/4.360000133514404\", \"Fantasy/3.9800000190734863\", \"Sequential Art/4.360000133514404\", \"Fiction/4.079999923706055\", \"Classics/3.9800000190734863\", \"Fiction/4.079999923706055\", \"Fantasy/4.570000171661377\", \"Young Adult/4.360000133514404\", \"Fiction/4.369999885559082\", \"Classics/4.079999923706055\", \"Classics/4.230000019073486\", \"Fiction/4.46999979019165\", \"Nonfiction/4.110000133514404\", \"Classics/3.9800000190734863\", \"Fantasy/4.260000228881836\", \"Fiction/3.9100000858306885\", \"Classics/3.859999895095825\", \"Fiction/4.139999866485596\", \"Classics/4.059999942779541\", \"Fantasy/4.329999923706055\", \"Fantasy/4.099999904632568\", \"Young Adult/4.199999809265137\", \"Fiction/4.269999980926514\", \"Classics/4.0\", \"Classics/3.8399999141693115\", \"Fiction/3.8499999046325684\", \"Fantasy/4.25\", \"Classics/4.269999980926514\", \"Fiction/3.9700000286102295\", \"Young Adult/3.5899999141693115\", \"Fantasy/3.9000000953674316\", \"Fiction/4.119999885559082\", \"Fiction/4.239999771118164\", \"Young Adult/4.340000152587891\", \"Classics/3.7799999713897705\", \"Historical/4.050000190734863\", \"Classics/3.799999952316284\", \"Classics/3.5\", \"Young Adult/4.03000020980835\", \"Fiction/4.010000228881836\", \"Classics/4.119999885559082\", \"Fiction/4.119999885559082\", \"Classics/3.7699999809265137\", \"Fiction/4.059999942779541\", \"Historical/4.369999885559082\", \"Fantasy/4.579999923706055\", \"Classics/3.869999885559082\", \"Fiction/4.090000152587891\", \"Classics/4.070000171661377\", \"Fantasy/4.110000133514404\", \"Fiction/4.230000019073486\", \"Fantasy/4.570000171661377\", \"Classics/3.5\", \"Horror/4.230000019073486\", \"Fantasy/4.539999961853027\", \"Cultural/4.21999979019165\", \"Science Fiction/4.230000019073486\", \"Fiction/4.230000019073486\", \"Fantasy/4.559999942779541\", \"Fantasy/4.619999885559082\", \"Fantasy/4.260000228881836\", \"Classics/3.7300000190734863\", \"Classics/4.320000171661377\", \"Classics/4.059999942779541\", \"Science Fiction/4.360000133514404\", \"Classics/4.380000114440918\", \"Fantasy/4.449999809265137\", \"Historical/4.230000019073486\", \"Fantasy/4.5\", \"Classics/3.990000009536743\", \"Fiction/4.489999771118164\", \"Classics/4.050000190734863\", \"Historical/4.320000171661377\", \"Fantasy/4.119999885559082\", \"Classics/3.880000114440918\", \"Classics/4.300000190734863\", \"Horror/4.239999771118164\", \"Horror/4.340000152587891\", \"Young Adult/4.480000019073486\", \"Classics/3.690000057220459\", \"Fantasy/4.539999961853027\", \"Classics/4.25\", \"Classics/4.170000076293945\", \"Fantasy/4.599999904632568\", \"Classics/4.340000152587891\", \"Classics\", \"Classics\", \"Classics\", \"Nonfiction\", \"Young Adult\", \"Classics\", \"Romance\", \"Classics\", \"Classics\", \"Classics\", \"Classics\", \"Classics\", \"Classics\", \"Classics\", \"Classics\", \"Fiction\", \"Classics\", \"Classics\", \"Classics\", \"Fiction\", \"Fiction\", \"Classics\", \"Classics\", \"Fiction\", \"Classics\", \"Fiction\", \"Classics\", \"Fantasy\", \"Classics\", \"Fiction\", \"Classics\", \"Fiction\", \"Classics\", \"Fiction\", \"Young Adult\", \"Classics\", \"Fiction\", \"Classics\", \"Fiction\", \"Young Adult\", \"Classics\", \"Fantasy\", \"Historical\", \"Classics\", \"Classics\", \"Fantasy\", \"Horror\", \"Classics\", \"Fiction\", \"Young Adult\", \"Fiction\", \"Young Adult\", \"Classics\", \"Young Adult\", \"Classics\", \"Fiction\", \"Historical\", \"Classics\", \"Fiction\", \"Classics\", \"Nonfiction\", \"Classics\", \"Fiction\", \"Fiction\", \"Classics\", \"Fantasy\", \"Fiction\", \"Romance\", \"Fantasy\", \"Fiction\", \"Nonfiction\", \"Classics\", \"Fantasy\", \"Fiction\", \"Young Adult\", \"Fiction\", \"Young Adult\", \"Childrens\", \"Classics\", \"Fiction\", \"Childrens\", \"Classics\", \"Classics\", \"Fantasy\", \"Historical\", \"Romance\", \"Classics\", \"Fiction\", \"Young Adult\", \"Classics\", \"Fantasy\", \"Young Adult\", \"Childrens\", \"Cultural\", \"Fantasy\", \"Science Fiction\", \"Classics\", \"Fiction\", \"Historical\", \"Horror\", \"Poetry\", \"Science Fiction\", \"Fantasy\", \"Fiction\", \"Horror\", \"Classics\", \"Fantasy\", \"Classics\", \"Fantasy\", \"Mystery\", \"Classics\", \"Fantasy\", \"Fiction\", \"Childrens\", \"Classics\", \"Young Adult\", \"Fiction\", \"Childrens\", \"Classics\", \"Fiction\", \"Science Fiction\", \"Classics\", \"Childrens\", \"Classics\", \"Historical\", \"Fantasy\", \"Young Adult\", \"Classics\", \"Horror\", \"Young Adult\", \"Childrens\", \"Classics\", \"Fantasy\", \"Childrens\", \"Fantasy\", \"Science Fiction\", \"Sequential Art\", \"Young Adult\", \"Childrens\", \"Fiction\", \"Historical\", \"Childrens\", \"Classics\", \"Fantasy\", \"Fantasy\", \"Plays\", \"Fantasy\", \"Fantasy\", \"Fiction\", \"Young Adult\", \"Fiction\", \"Fantasy\", \"Fantasy\", \"Fantasy\", \"Fantasy\", \"Fantasy\", \"Fantasy\", \"Fantasy\", \"Fantasy\", \"\", \"\", \"\", \"\", \"\", \"\", \"\", \"\", \"\", \"\", \"\", \"\", \"\", \"\", \"\"], \"type\": \"sunburst\", \"values\": [136099, 93594, 500084, 78581, 119105, 494454, 97421, 1012906, 91422, 96502, 81357, 667801, 231988, 661644, 80428, 154101, 86107, 107208, 1254646, 214892, 269875, 94311, 80728, 112790, 142672, 763871, 756045, 674122, 87350, 78651, 500896, 1051584, 776441, 124365, 735974, 138366, 116229, 407741, 134727, 745849, 104000, 140293, 557851, 124306, 95935, 138476, 136405, 226072, 117707, 302666, 825361, 86322, 300770, 332753, 298860, 146074, 79514, 117183, 157462, 976340, 443537, 592792, 127546, 82179, 1943333, 431431, 81866, 628124, 72425, 345857, 112021, 178535, 315226, 140043, 656658, 76055, 1071730, 410255, 134219, 685180, 82114, 2236599, 716242, 346817, 513916, 94220, 79793, 458778, 578618, 275064, 472229, 149737, 180776, 126195, 205132, 124873, 105742, 96523, 71255, 75201, 85391, 104050, 96430, 764093, 427893, 508584, 574655, 2959964, 573704, 114013, 77791, 372926, 123977, 76535, 332424, 252048, 114982, 613149, 88258, 339385, 230240, 104804, 126791, 341014, 328317, 710452, 289292, 404912, 595711, 486037, 967025, 335240, 369367, 171602, 712966, 783556, 137744, 636882, 483867, 867538, 90876, 307985, 663179, 1452749, 143209, 857139, 78299, 89603, 362348, 75143, 88565, 73653, 103428, 156279, 813139, 130993, 489144, 270086, 1344286, 84072, 77518, 72612, 94707, 118212, 205955, 155950, 201101, 148345, 149062, 748863, 400992, 103842, 172235, 333937, 1226235, 77032, 296436, 113003, 97586, 214007, 555269, 337937, 2604164, 71703, 119139, 342479, 389106, 84720, 250997, 1082546, 115514, 387169, 78030, 247498, 72587, 116723, 804544, 1140255, 114155, 127546, 87350, 274754, 96430, 1452749, 140043, 75201, 843664, 247498, 77032, 764093, 489144, 594336, 519996, 665217, 508584, 652282, 76055, 483867, 80428, 867538, 967025, 819890, 756045, 250997, 136405, 458778, 143209, 146074, 582560, 735974, 105742, 95935, 81866, 71255, 1254646, 124365, 86322, 962039, 241684, 647271, 252048, 112021, 1871349, 636882, 557851, 205132, 345857, 156279, 78651, 117183, 77791, 351232, 241904, 342479, 178535, 75143, 1307731, 270086, 651034, 124873, 1317354, 952534, 544841, 500896, 712966, 134219, 226072, 118212, 410255, 424019, 813139, 84720, 988132, 275064, 140293, 407741, 142672, 578618, 335240, 119105, 1478666, 399168, 76535, 180776, 104000, 346817, 124306, 1529405, 315226, 79514, 1071730, 500084, 748863, 116229, 1051584, 328317, 309797, 337937, 148345, 86107, 400992, 82179, 78299, 115514, 116723, 664580, 2628513, 1821946, 157462, 307985, 104050, 137744, 93594, 2236599, 94220, 149737, 630553, 1455472, 427893, 716242, 667801, 332753, 296436, 389106, 171602, 2959964, 114155, 387169, 89603, 91422, 214892, 82114, 78581, 332424, 97586, 114982, 104804, 97421, 701446, 1344286, 1012906, 214007, 85391, 126195, 107208, 555269, 656658, 710452, 78030, 119139, 2604164, 114013, 221649, 172235, 386190, 84072, 1140255, 333937, 3099091, 31343137, 748863, 11880207, 11191982, 2439269, 856160, 157462, 645322, 107208, 86107, 405273, 2266404, 114982, 8774595]}],\n",
       "                        {\"coloraxis\": {\"colorbar\": {\"title\": {\"text\": \"review_count\"}}, \"colorscale\": [[0.0, \"#0d0887\"], [0.1111111111111111, \"#46039f\"], [0.2222222222222222, \"#7201a8\"], [0.3333333333333333, \"#9c179e\"], [0.4444444444444444, \"#bd3786\"], [0.5555555555555556, \"#d8576b\"], [0.6666666666666666, \"#ed7953\"], [0.7777777777777778, \"#fb9f3a\"], [0.8888888888888888, \"#fdca26\"], [1.0, \"#f0f921\"]]}, \"legend\": {\"tracegroupgap\": 0}, \"margin\": {\"t\": 60}, \"template\": {\"data\": {\"bar\": [{\"error_x\": {\"color\": \"#2a3f5f\"}, \"error_y\": {\"color\": \"#2a3f5f\"}, \"marker\": {\"line\": {\"color\": \"#E5ECF6\", \"width\": 0.5}}, \"type\": \"bar\"}], \"barpolar\": [{\"marker\": {\"line\": {\"color\": \"#E5ECF6\", \"width\": 0.5}}, \"type\": \"barpolar\"}], \"carpet\": [{\"aaxis\": {\"endlinecolor\": \"#2a3f5f\", \"gridcolor\": \"white\", \"linecolor\": \"white\", \"minorgridcolor\": \"white\", \"startlinecolor\": \"#2a3f5f\"}, \"baxis\": {\"endlinecolor\": \"#2a3f5f\", \"gridcolor\": \"white\", \"linecolor\": \"white\", \"minorgridcolor\": \"white\", \"startlinecolor\": \"#2a3f5f\"}, \"type\": \"carpet\"}], \"choropleth\": [{\"colorbar\": {\"outlinewidth\": 0, \"ticks\": \"\"}, \"type\": \"choropleth\"}], \"contour\": [{\"colorbar\": {\"outlinewidth\": 0, \"ticks\": \"\"}, \"colorscale\": [[0.0, \"#0d0887\"], [0.1111111111111111, \"#46039f\"], [0.2222222222222222, \"#7201a8\"], [0.3333333333333333, \"#9c179e\"], [0.4444444444444444, \"#bd3786\"], [0.5555555555555556, \"#d8576b\"], [0.6666666666666666, \"#ed7953\"], [0.7777777777777778, \"#fb9f3a\"], [0.8888888888888888, \"#fdca26\"], [1.0, \"#f0f921\"]], \"type\": \"contour\"}], \"contourcarpet\": [{\"colorbar\": {\"outlinewidth\": 0, \"ticks\": \"\"}, \"type\": \"contourcarpet\"}], \"heatmap\": [{\"colorbar\": {\"outlinewidth\": 0, \"ticks\": \"\"}, \"colorscale\": [[0.0, \"#0d0887\"], [0.1111111111111111, \"#46039f\"], [0.2222222222222222, \"#7201a8\"], [0.3333333333333333, \"#9c179e\"], [0.4444444444444444, \"#bd3786\"], [0.5555555555555556, \"#d8576b\"], [0.6666666666666666, \"#ed7953\"], [0.7777777777777778, \"#fb9f3a\"], [0.8888888888888888, \"#fdca26\"], [1.0, \"#f0f921\"]], \"type\": \"heatmap\"}], \"heatmapgl\": [{\"colorbar\": {\"outlinewidth\": 0, \"ticks\": \"\"}, \"colorscale\": [[0.0, \"#0d0887\"], [0.1111111111111111, \"#46039f\"], [0.2222222222222222, \"#7201a8\"], [0.3333333333333333, \"#9c179e\"], [0.4444444444444444, \"#bd3786\"], [0.5555555555555556, \"#d8576b\"], [0.6666666666666666, \"#ed7953\"], [0.7777777777777778, \"#fb9f3a\"], [0.8888888888888888, \"#fdca26\"], [1.0, \"#f0f921\"]], \"type\": \"heatmapgl\"}], \"histogram\": [{\"marker\": {\"colorbar\": {\"outlinewidth\": 0, \"ticks\": \"\"}}, \"type\": \"histogram\"}], \"histogram2d\": [{\"colorbar\": {\"outlinewidth\": 0, \"ticks\": \"\"}, \"colorscale\": [[0.0, \"#0d0887\"], [0.1111111111111111, \"#46039f\"], [0.2222222222222222, \"#7201a8\"], [0.3333333333333333, \"#9c179e\"], [0.4444444444444444, \"#bd3786\"], [0.5555555555555556, \"#d8576b\"], [0.6666666666666666, \"#ed7953\"], [0.7777777777777778, \"#fb9f3a\"], [0.8888888888888888, \"#fdca26\"], [1.0, \"#f0f921\"]], \"type\": \"histogram2d\"}], \"histogram2dcontour\": [{\"colorbar\": {\"outlinewidth\": 0, \"ticks\": \"\"}, \"colorscale\": [[0.0, \"#0d0887\"], [0.1111111111111111, \"#46039f\"], [0.2222222222222222, \"#7201a8\"], [0.3333333333333333, \"#9c179e\"], [0.4444444444444444, \"#bd3786\"], [0.5555555555555556, \"#d8576b\"], [0.6666666666666666, \"#ed7953\"], [0.7777777777777778, \"#fb9f3a\"], [0.8888888888888888, \"#fdca26\"], [1.0, \"#f0f921\"]], \"type\": \"histogram2dcontour\"}], \"mesh3d\": [{\"colorbar\": {\"outlinewidth\": 0, \"ticks\": \"\"}, \"type\": \"mesh3d\"}], \"parcoords\": [{\"line\": {\"colorbar\": {\"outlinewidth\": 0, \"ticks\": \"\"}}, \"type\": \"parcoords\"}], \"pie\": [{\"automargin\": true, \"type\": \"pie\"}], \"scatter\": [{\"marker\": {\"colorbar\": {\"outlinewidth\": 0, \"ticks\": \"\"}}, \"type\": \"scatter\"}], \"scatter3d\": [{\"line\": {\"colorbar\": {\"outlinewidth\": 0, \"ticks\": \"\"}}, \"marker\": {\"colorbar\": {\"outlinewidth\": 0, \"ticks\": \"\"}}, \"type\": \"scatter3d\"}], \"scattercarpet\": [{\"marker\": {\"colorbar\": {\"outlinewidth\": 0, \"ticks\": \"\"}}, \"type\": \"scattercarpet\"}], \"scattergeo\": [{\"marker\": {\"colorbar\": {\"outlinewidth\": 0, \"ticks\": \"\"}}, \"type\": \"scattergeo\"}], \"scattergl\": [{\"marker\": {\"colorbar\": {\"outlinewidth\": 0, \"ticks\": \"\"}}, \"type\": \"scattergl\"}], \"scattermapbox\": [{\"marker\": {\"colorbar\": {\"outlinewidth\": 0, \"ticks\": \"\"}}, \"type\": \"scattermapbox\"}], \"scatterpolar\": [{\"marker\": {\"colorbar\": {\"outlinewidth\": 0, \"ticks\": \"\"}}, \"type\": \"scatterpolar\"}], \"scatterpolargl\": [{\"marker\": {\"colorbar\": {\"outlinewidth\": 0, \"ticks\": \"\"}}, \"type\": \"scatterpolargl\"}], \"scatterternary\": [{\"marker\": {\"colorbar\": {\"outlinewidth\": 0, \"ticks\": \"\"}}, \"type\": \"scatterternary\"}], \"surface\": [{\"colorbar\": {\"outlinewidth\": 0, \"ticks\": \"\"}, \"colorscale\": [[0.0, \"#0d0887\"], [0.1111111111111111, \"#46039f\"], [0.2222222222222222, \"#7201a8\"], [0.3333333333333333, \"#9c179e\"], [0.4444444444444444, \"#bd3786\"], [0.5555555555555556, \"#d8576b\"], [0.6666666666666666, \"#ed7953\"], [0.7777777777777778, \"#fb9f3a\"], [0.8888888888888888, \"#fdca26\"], [1.0, \"#f0f921\"]], \"type\": \"surface\"}], \"table\": [{\"cells\": {\"fill\": {\"color\": \"#EBF0F8\"}, \"line\": {\"color\": \"white\"}}, \"header\": {\"fill\": {\"color\": \"#C8D4E3\"}, \"line\": {\"color\": \"white\"}}, \"type\": \"table\"}]}, \"layout\": {\"annotationdefaults\": {\"arrowcolor\": \"#2a3f5f\", \"arrowhead\": 0, \"arrowwidth\": 1}, \"coloraxis\": {\"colorbar\": {\"outlinewidth\": 0, \"ticks\": \"\"}}, \"colorscale\": {\"diverging\": [[0, \"#8e0152\"], [0.1, \"#c51b7d\"], [0.2, \"#de77ae\"], [0.3, \"#f1b6da\"], [0.4, \"#fde0ef\"], [0.5, \"#f7f7f7\"], [0.6, \"#e6f5d0\"], [0.7, \"#b8e186\"], [0.8, \"#7fbc41\"], [0.9, \"#4d9221\"], [1, \"#276419\"]], \"sequential\": [[0.0, \"#0d0887\"], [0.1111111111111111, \"#46039f\"], [0.2222222222222222, \"#7201a8\"], [0.3333333333333333, \"#9c179e\"], [0.4444444444444444, \"#bd3786\"], [0.5555555555555556, \"#d8576b\"], [0.6666666666666666, \"#ed7953\"], [0.7777777777777778, \"#fb9f3a\"], [0.8888888888888888, \"#fdca26\"], [1.0, \"#f0f921\"]], \"sequentialminus\": [[0.0, \"#0d0887\"], [0.1111111111111111, \"#46039f\"], [0.2222222222222222, \"#7201a8\"], [0.3333333333333333, \"#9c179e\"], [0.4444444444444444, \"#bd3786\"], [0.5555555555555556, \"#d8576b\"], [0.6666666666666666, \"#ed7953\"], [0.7777777777777778, \"#fb9f3a\"], [0.8888888888888888, \"#fdca26\"], [1.0, \"#f0f921\"]]}, \"colorway\": [\"#636efa\", \"#EF553B\", \"#00cc96\", \"#ab63fa\", \"#FFA15A\", \"#19d3f3\", \"#FF6692\", \"#B6E880\", \"#FF97FF\", \"#FECB52\"], \"font\": {\"color\": \"#2a3f5f\"}, \"geo\": {\"bgcolor\": \"white\", \"lakecolor\": \"white\", \"landcolor\": \"#E5ECF6\", \"showlakes\": true, \"showland\": true, \"subunitcolor\": \"white\"}, \"hoverlabel\": {\"align\": \"left\"}, \"hovermode\": \"closest\", \"mapbox\": {\"style\": \"light\"}, \"paper_bgcolor\": \"white\", \"plot_bgcolor\": \"#E5ECF6\", \"polar\": {\"angularaxis\": {\"gridcolor\": \"white\", \"linecolor\": \"white\", \"ticks\": \"\"}, \"bgcolor\": \"#E5ECF6\", \"radialaxis\": {\"gridcolor\": \"white\", \"linecolor\": \"white\", \"ticks\": \"\"}}, \"scene\": {\"xaxis\": {\"backgroundcolor\": \"#E5ECF6\", \"gridcolor\": \"white\", \"gridwidth\": 2, \"linecolor\": \"white\", \"showbackground\": true, \"ticks\": \"\", \"zerolinecolor\": \"white\"}, \"yaxis\": {\"backgroundcolor\": \"#E5ECF6\", \"gridcolor\": \"white\", \"gridwidth\": 2, \"linecolor\": \"white\", \"showbackground\": true, \"ticks\": \"\", \"zerolinecolor\": \"white\"}, \"zaxis\": {\"backgroundcolor\": \"#E5ECF6\", \"gridcolor\": \"white\", \"gridwidth\": 2, \"linecolor\": \"white\", \"showbackground\": true, \"ticks\": \"\", \"zerolinecolor\": \"white\"}}, \"shapedefaults\": {\"line\": {\"color\": \"#2a3f5f\"}}, \"ternary\": {\"aaxis\": {\"gridcolor\": \"white\", \"linecolor\": \"white\", \"ticks\": \"\"}, \"baxis\": {\"gridcolor\": \"white\", \"linecolor\": \"white\", \"ticks\": \"\"}, \"bgcolor\": \"#E5ECF6\", \"caxis\": {\"gridcolor\": \"white\", \"linecolor\": \"white\", \"ticks\": \"\"}}, \"title\": {\"x\": 0.05}, \"xaxis\": {\"automargin\": true, \"gridcolor\": \"white\", \"linecolor\": \"white\", \"ticks\": \"\", \"title\": {\"standoff\": 15}, \"zerolinecolor\": \"white\", \"zerolinewidth\": 2}, \"yaxis\": {\"automargin\": true, \"gridcolor\": \"white\", \"linecolor\": \"white\", \"ticks\": \"\", \"title\": {\"standoff\": 15}, \"zerolinecolor\": \"white\", \"zerolinewidth\": 2}}}},\n",
       "                        {\"responsive\": true}\n",
       "                    ).then(function(){\n",
       "                            \n",
       "var gd = document.getElementById('13848001-cc75-4ece-b78e-963ffc49d751');\n",
       "var x = new MutationObserver(function (mutations, observer) {{\n",
       "        var display = window.getComputedStyle(gd).display;\n",
       "        if (!display || display === 'none') {{\n",
       "            console.log([gd, 'removed!']);\n",
       "            Plotly.purge(gd);\n",
       "            observer.disconnect();\n",
       "        }}\n",
       "}});\n",
       "\n",
       "// Listen for the removal of the full notebook cells\n",
       "var notebookContainer = gd.closest('#notebook-container');\n",
       "if (notebookContainer) {{\n",
       "    x.observe(notebookContainer, {childList: true});\n",
       "}}\n",
       "\n",
       "// Listen for the clearing of the current output cell\n",
       "var outputEl = gd.closest('.output');\n",
       "if (outputEl) {{\n",
       "    x.observe(outputEl, {childList: true});\n",
       "}}\n",
       "\n",
       "                        })\n",
       "                };\n",
       "                });\n",
       "            </script>\n",
       "        </div>"
      ]
     },
     "metadata": {},
     "output_type": "display_data"
    }
   ],
   "source": [
    "import plotly.express as px\n",
    "#df = px.data.tips()\n",
    "fig = px.sunburst(df, path=['genres', 'rating', 'page_count'], values='score', color='review_count')\n",
    "fig.show()"
   ]
  },
  {
   "cell_type": "markdown",
   "metadata": {},
   "source": [
    "![](thankyou.jpg)"
   ]
  },
  {
   "cell_type": "markdown",
   "metadata": {},
   "source": [
    "![](questions.jpg)"
   ]
  }
 ],
 "metadata": {
  "kernelspec": {
   "display_name": "Python 3",
   "language": "python",
   "name": "python3"
  },
  "language_info": {
   "codemirror_mode": {
    "name": "ipython",
    "version": 3
   },
   "file_extension": ".py",
   "mimetype": "text/x-python",
   "name": "python",
   "nbconvert_exporter": "python",
   "pygments_lexer": "ipython3",
   "version": "3.7.3"
  },
  "toc": {
   "base_numbering": 1,
   "nav_menu": {},
   "number_sections": true,
   "sideBar": true,
   "skip_h1_title": false,
   "title_cell": "Table of Contents",
   "title_sidebar": "Contents",
   "toc_cell": false,
   "toc_position": {
    "height": "calc(100% - 180px)",
    "left": "10px",
    "top": "150px",
    "width": "189.875px"
   },
   "toc_section_display": true,
   "toc_window_display": true
  },
  "varInspector": {
   "cols": {
    "lenName": 16,
    "lenType": 16,
    "lenVar": 40
   },
   "kernels_config": {
    "python": {
     "delete_cmd_postfix": "",
     "delete_cmd_prefix": "del ",
     "library": "var_list.py",
     "varRefreshCmd": "print(var_dic_list())"
    },
    "r": {
     "delete_cmd_postfix": ") ",
     "delete_cmd_prefix": "rm(",
     "library": "var_list.r",
     "varRefreshCmd": "cat(var_dic_list()) "
    }
   },
   "types_to_exclude": [
    "module",
    "function",
    "builtin_function_or_method",
    "instance",
    "_Feature"
   ],
   "window_display": false
  }
 },
 "nbformat": 4,
 "nbformat_minor": 2
}
